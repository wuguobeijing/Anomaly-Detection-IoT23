{
 "cells": [
  {
   "cell_type": "code",
   "execution_count": null,
   "outputs": [],
   "source": [
    "import os\n",
    "\n",
    "import smote_variants as sv\n",
    "import pandas as pd\n",
    "from sklearn.model_selection import train_test_split\n",
    "\n",
    "filepath = \"../Models/Data/iot23_attack_combined.csv\"\n",
    "df = pd.read_csv(filepath)\n",
    "del df['Unnamed: 0']\n",
    "df['label'].value_counts()"
   ],
   "metadata": {
    "collapsed": false,
    "pycharm": {
     "name": "#%%\n"
    }
   }
  },
  {
   "cell_type": "code",
   "execution_count": null,
   "outputs": [],
   "source": [
    "import smote_variants as sv\n",
    "import sklearn.datasets as datasets\n",
    "\n",
    "dataset= datasets.load_wine()\n",
    "X, y= dataset['data'], dataset['target']\n",
    "\n",
    "oversampler= sv.MulticlassOversampling(sv.distance_SMOTE())\n",
    "\n",
    "# X_samp and y_samp contain the oversampled dataset\n",
    "X_samp, y_samp= oversampler.sample(X, y)"
   ],
   "metadata": {
    "collapsed": false,
    "pycharm": {
     "name": "#%%\n"
    }
   }
  },
  {
   "cell_type": "code",
   "execution_count": null,
   "outputs": [],
   "source": [
    "type(y[0])"
   ],
   "metadata": {
    "collapsed": false,
    "pycharm": {
     "name": "#%%\n"
    }
   }
  },
  {
   "cell_type": "code",
   "execution_count": null,
   "outputs": [],
   "source": [
    "df = pd.get_dummies(df, columns=['conn_state'])\n",
    "df = pd.get_dummies(df, columns=['service'])"
   ],
   "metadata": {
    "collapsed": false,
    "pycharm": {
     "name": "#%%\n"
    }
   }
  },
  {
   "cell_type": "code",
   "execution_count": null,
   "outputs": [],
   "source": [
    "df = df.drop(columns=['label'])"
   ],
   "metadata": {
    "collapsed": false,
    "pycharm": {
     "name": "#%%\n"
    }
   }
  },
  {
   "cell_type": "code",
   "execution_count": null,
   "outputs": [],
   "source": [
    "df['detailed-label'].value_counts()"
   ],
   "metadata": {
    "collapsed": false,
    "pycharm": {
     "name": "#%%\n"
    }
   }
  },
  {
   "cell_type": "code",
   "execution_count": null,
   "outputs": [],
   "source": [
    "print(df.columns)\n",
    "df.loc[(df['detailed-label'] == 'C&C-HeartBeat'), 'detailed-label'] = '1'\n",
    "df.loc[(df['detailed-label'] == 'C&C'), 'detailed-label'] = '2'\n",
    "df.loc[(df['detailed-label'] == 'DDoS'), 'detailed-label'] = '3'\n",
    "df.loc[(df['detailed-label'] == 'Okiru'), 'detailed-label'] = '4'\n",
    "df.loc[(df['detailed-label'] == 'PartOfAHorizontalPortScan'), 'detailed-label'] = '5'\n",
    "df.loc[(df['detailed-label'] == 'Attack'), 'detailed-label'] = '6'\n",
    "df.loc[(df['detailed-label'] == 'C&C-PartOfAHorizontalPortScan'), 'detailed-label'] = '7'\n",
    "df.loc[(df['detailed-label'] == 'C&C-HeartBeat-Attack'), 'detailed-label'] = '8'\n",
    "df.loc[(df['detailed-label'] == 'C&C-FileDownload'), 'detailed-label'] = '9'\n",
    "df.loc[(df['detailed-label'] == 'C&C-Torii'), 'detailed-label'] = '10'\n",
    "df.loc[(df['detailed-label'] == 'FileDownload'), 'detailed-label'] = '11'\n",
    "df.loc[(df['detailed-label'] == 'C&C-HeartBeat-FileDownload'), 'detailed-label'] = '12'\n",
    "df.loc[(df['detailed-label'] == 'PartOfAHorizontalPortScan-Attack'), 'detailed-label'] = '13'\n",
    "df.loc[(df['detailed-label'] == 'Okiru-Attack'), 'detailed-label'] = '14'\n",
    "df.loc[(df['detailed-label'] == 'C&C-Mirai'), 'detailed-label'] = '15'"
   ],
   "metadata": {
    "collapsed": false,
    "pycharm": {
     "name": "#%%\n"
    }
   }
  },
  {
   "cell_type": "code",
   "execution_count": null,
   "outputs": [],
   "source": [
    "X = df[['duration', 'orig_bytes', 'resp_bytes', 'missed_bytes', 'orig_pkts',\n",
    "       'orig_ip_bytes', 'resp_pkts', 'resp_ip_bytes',\n",
    "       'proto_tcp', 'proto_udp', 'conn_state_OTH', 'conn_state_REJ',\n",
    "       'conn_state_RSTO', 'conn_state_RSTOS0', 'conn_state_RSTR',\n",
    "       'conn_state_S0', 'conn_state_S1', 'conn_state_S2', 'conn_state_S3',\n",
    "       'conn_state_SF', 'conn_state_SH', 'service_-', 'service_http',\n",
    "       'service_irc', 'service_ssh']].values\n",
    "Y = df['detailed-label'].values"
   ],
   "metadata": {
    "collapsed": false,
    "pycharm": {
     "name": "#%%\n"
    }
   }
  },
  {
   "cell_type": "code",
   "execution_count": null,
   "outputs": [],
   "source": [
    "# type(Y.astype(float))\n",
    "Y = Y.astype(int)\n",
    "type(Y[0])"
   ],
   "metadata": {
    "collapsed": false,
    "pycharm": {
     "name": "#%%\n"
    }
   }
  },
  {
   "cell_type": "code",
   "execution_count": null,
   "outputs": [],
   "source": [
    "import numpy as np\n",
    "for i in np.unique(y_samp):\n",
    "    print(\"class %d - samples: %d\" % (i, np.sum(y_samp == i)))"
   ],
   "metadata": {
    "collapsed": false,
    "pycharm": {
     "name": "#%%\n"
    }
   }
  },
  {
   "cell_type": "code",
   "execution_count": null,
   "outputs": [],
   "source": [
    "oversampler= sv.MulticlassOversampling(sv.distance_SMOTE())\n",
    "\n",
    "# X_samp and y_samp contain the oversampled dataset\n",
    "X_samp, y_samp= oversampler.sample(X[:36000], Y[:36000])"
   ],
   "metadata": {
    "collapsed": false,
    "pycharm": {
     "name": "#%%\n"
    }
   }
  },
  {
   "cell_type": "code",
   "execution_count": null,
   "outputs": [],
   "source": [
    "X_samp"
   ],
   "metadata": {
    "collapsed": false,
    "pycharm": {
     "name": "#%%\n"
    }
   }
  },
  {
   "cell_type": "code",
   "execution_count": null,
   "outputs": [],
   "source": [
    "type(X_samp)"
   ],
   "metadata": {
    "collapsed": false,
    "pycharm": {
     "name": "#%%\n"
    }
   }
  },
  {
   "cell_type": "code",
   "execution_count": null,
   "outputs": [],
   "source": [
    "X_samp_series = pd.DataFrame(data=X_samp, columns=['duration', 'orig_bytes', 'resp_bytes', 'missed_bytes', 'orig_pkts', 'orig_ip_bytes', 'resp_pkts', 'resp_ip_bytes', 'proto_icmp', 'proto_tcp', 'proto_udp', 'service_-', 'service_dhcp', 'service_dns', 'service_http', 'service_ssh', 'service_ssl', 'service_irc', 'conn_state_OTH', 'conn_state_REJ', 'conn_state_RSTO', 'conn_state_RSTOS0', 'conn_state_RSTR', 'conn_state_RSTRH', 'conn_state_S0', 'conn_state_S1', 'conn_state_S2', 'conn_state_S3', 'conn_state_SF', 'conn_state_SH', 'conn_state_SHR'])\n",
    "Y_samp_series = pd.DataFrame(data=y_samp, columns=['category'])"
   ],
   "metadata": {
    "collapsed": false,
    "pycharm": {
     "name": "#%%\n"
    }
   }
  },
  {
   "cell_type": "code",
   "execution_count": null,
   "outputs": [],
   "source": [
    "type(X_samp_series)"
   ],
   "metadata": {
    "collapsed": false,
    "pycharm": {
     "name": "#%%\n"
    }
   }
  },
  {
   "cell_type": "code",
   "execution_count": null,
   "outputs": [],
   "source": [
    "import numpy as np\n",
    "columns = X_samp_series.columns.tolist()\n",
    "columns.insert(-1,'category')\n",
    "data = X_samp_series.reindex(columns = columns)\n",
    "data['category'] = Y_samp_series\n",
    "data"
   ],
   "metadata": {
    "collapsed": false,
    "pycharm": {
     "name": "#%%\n"
    }
   }
  },
  {
   "cell_type": "code",
   "execution_count": null,
   "outputs": [],
   "source": [
    "data.to_csv('./iot23_combined_oversample.csv', sep = ',')"
   ],
   "metadata": {
    "collapsed": false,
    "pycharm": {
     "name": "#%%\n"
    }
   }
  }
 ],
 "metadata": {
  "kernelspec": {
   "display_name": "Python 3",
   "language": "python",
   "name": "python3"
  },
  "language_info": {
   "codemirror_mode": {
    "name": "ipython",
    "version": 2
   },
   "file_extension": ".py",
   "mimetype": "text/x-python",
   "name": "python",
   "nbconvert_exporter": "python",
   "pygments_lexer": "ipython2",
   "version": "2.7.6"
  }
 },
 "nbformat": 4,
 "nbformat_minor": 0
}