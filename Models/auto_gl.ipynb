{
 "cells": [
  {
   "cell_type": "markdown",
   "source": [
    "# try auto-gloun"
   ],
   "metadata": {
    "collapsed": false
   }
  },
  {
   "cell_type": "code",
   "execution_count": null,
   "outputs": [],
   "source": [
    "from autogluon.tabular import TabularDataset\n",
    "import autogluon"
   ],
   "metadata": {
    "collapsed": false,
    "pycharm": {
     "name": "#%%\n"
    }
   }
  },
  {
   "cell_type": "code",
   "execution_count": 2,
   "outputs": [],
   "source": [
    "train_data = TabularDataset(\"./Data/split/train_data.csv\")\n",
    "\n",
    "# subsample_size = 500  # subsample subset of data for faster demo, try setting this to much larger values\n",
    "# train_data = train_data.sample(n=subsample_size,random_state=0)\n",
    "# test_data = test_data.sample(random_state=0)\n",
    "# train_data.head()"
   ],
   "metadata": {
    "collapsed": false,
    "pycharm": {
     "name": "#%%\n"
    }
   }
  },
  {
   "cell_type": "code",
   "execution_count": 3,
   "outputs": [
    {
     "name": "stdout",
     "output_type": "stream",
     "text": [
      "Summary of class variable: \n",
      " count     121148\n",
      "unique         2\n",
      "top       Benign\n",
      "freq       60954\n",
      "Name: label, dtype: object\n"
     ]
    },
    {
     "data": {
      "text/plain": "Benign       60954\nMalicious    60194\nName: label, dtype: int64"
     },
     "execution_count": 3,
     "metadata": {},
     "output_type": "execute_result"
    }
   ],
   "source": [
    "label = 'label'\n",
    "print(\"Summary of class variable: \\n\", train_data[label].describe())\n",
    "train_data['label'].value_counts()"
   ],
   "metadata": {
    "collapsed": false,
    "pycharm": {
     "name": "#%%\n"
    }
   }
  },
  {
   "cell_type": "code",
   "execution_count": 4,
   "outputs": [
    {
     "name": "stderr",
     "output_type": "stream",
     "text": [
      "Warning: path already exists! This predictor may overwrite an existing predictor! path=\"./auto_gl/Models-predictClass\"\n",
      "Warning: Training may take a very long time because `time_limit` was not specified and `train_data` is large (121148 samples, 36.89 MB).\n",
      "\tConsider setting `time_limit` to ensure training finishes within an expected duration or experiment with a small portion of `train_data` to identify an ideal `presets` and `hyperparameters` configuration.\n",
      "Beginning AutoGluon training ...\n",
      "AutoGluon will save models to \"./auto_gl/Models-predictClass/\"\n",
      "AutoGluon Version:  0.4.0\n",
      "Python Version:     3.8.13\n",
      "Operating System:   Linux\n",
      "Train Data Rows:    121148\n",
      "Train Data Columns: 30\n",
      "Label Column: label\n",
      "Preprocessing data ...\n",
      "AutoGluon infers your prediction problem is: 'binary' (because only two unique label-values observed).\n",
      "\t2 unique label values:  ['Benign', 'Malicious']\n",
      "\tIf 'binary' is not the correct problem_type, please manually specify the problem_type parameter during predictor init (You may specify problem_type as one of: ['binary', 'multiclass', 'regression'])\n",
      "Selected class <--> label mapping:  class 1 = Malicious, class 0 = Benign\n",
      "\tNote: For your binary classification, AutoGluon arbitrarily selected which label-value represents positive (Malicious) vs negative (Benign) class.\n",
      "\tTo explicitly set the positive_class, either rename classes to 1 and 0, or specify positive_class in Predictor init.\n",
      "Using Feature Generators to preprocess the data ...\n",
      "Fitting AutoMLPipelineFeatureGenerator...\n",
      "\tAvailable Memory:                    10078.03 MB\n",
      "\tTrain Data (Original)  Memory Usage: 29.08 MB (0.3% of available memory)\n",
      "\tInferring data type of each feature based on column values. Set feature_metadata_in to manually specify special dtypes of the features.\n",
      "\tStage 1 Generators:\n",
      "\t\tFitting AsTypeFeatureGenerator...\n",
      "\t\t\tNote: Converting 21 features to boolean dtype as they only contain 2 unique values.\n",
      "\tStage 2 Generators:\n",
      "\t\tFitting FillNaFeatureGenerator...\n",
      "\tStage 3 Generators:\n",
      "\t\tFitting IdentityFeatureGenerator...\n",
      "\tStage 4 Generators:\n",
      "\t\tFitting DropUniqueFeatureGenerator...\n",
      "\tTypes of features in original data (raw dtype, special dtypes):\n",
      "\t\t('float', []) :  7 | ['duration', 'missed_bytes', 'orig_pkts', 'orig_ip_bytes', 'resp_pkts', ...]\n",
      "\t\t('int', [])   : 23 | ['orig_bytes', 'resp_bytes', 'proto_tcp', 'proto_udp', 'service_-', ...]\n",
      "\tTypes of features in processed data (raw dtype, special dtypes):\n",
      "\t\t('float', [])     :  7 | ['duration', 'missed_bytes', 'orig_pkts', 'orig_ip_bytes', 'resp_pkts', ...]\n",
      "\t\t('int', [])       :  2 | ['orig_bytes', 'resp_bytes']\n",
      "\t\t('int', ['bool']) : 21 | ['proto_tcp', 'proto_udp', 'service_-', 'service_dhcp', 'service_dns', ...]\n",
      "\t0.3s = Fit runtime\n",
      "\t30 features in original data used to generate 30 features in processed data.\n",
      "\tTrain Data (Processed) Memory Usage: 11.27 MB (0.1% of available memory)\n",
      "Data preprocessing and feature engineering runtime = 0.34s ...\n",
      "AutoGluon will gauge predictive performance using evaluation metric: 'accuracy'\n",
      "\tTo change this, specify the eval_metric parameter of Predictor()\n",
      "Automatically generating train/validation split with holdout_frac=0.02063591639977548, Train Rows: 118648, Val Rows: 2500\n",
      "Fitting 13 L1 models ...\n",
      "Fitting model: KNeighborsUnif ...\n",
      "\t0.7484\t = Validation score   (accuracy)\n",
      "\t0.19s\t = Training   runtime\n",
      "\t0.54s\t = Validation runtime\n",
      "Fitting model: KNeighborsDist ...\n",
      "\t0.7316\t = Validation score   (accuracy)\n",
      "\t0.14s\t = Training   runtime\n",
      "\t0.55s\t = Validation runtime\n",
      "Fitting model: LightGBMXT ...\n",
      "\tTraining LightGBMXT with GPU, note that this may negatively impact model quality compared to CPU training.\n",
      "[LightGBM] [Fatal] GPU Tree Learner was not enabled in this build.\n",
      "Please recompile with CMake option -DUSE_GPU=1\n",
      "Warning: GPU mode might not be installed for LightGBM, GPU training raised an exception. Falling back to CPU training...Refer to LightGBM GPU documentation: https://github.com/Microsoft/LightGBM/tree/master/python-package#build-gpu-versionOne possible method is:\tpip uninstall lightgbm -y\tpip install lightgbm --install-option=--gpu\n",
      "\t1.0\t = Validation score   (accuracy)\n",
      "\t5.98s\t = Training   runtime\n",
      "\t0.05s\t = Validation runtime\n",
      "Fitting model: LightGBM ...\n",
      "\tTraining LightGBM with GPU, note that this may negatively impact model quality compared to CPU training.\n",
      "[LightGBM] [Fatal] GPU Tree Learner was not enabled in this build.\n",
      "Please recompile with CMake option -DUSE_GPU=1\n",
      "Warning: GPU mode might not be installed for LightGBM, GPU training raised an exception. Falling back to CPU training...Refer to LightGBM GPU documentation: https://github.com/Microsoft/LightGBM/tree/master/python-package#build-gpu-versionOne possible method is:\tpip uninstall lightgbm -y\tpip install lightgbm --install-option=--gpu\n",
      "\t1.0\t = Validation score   (accuracy)\n",
      "\t0.18s\t = Training   runtime\n",
      "\t0.06s\t = Validation runtime\n",
      "Fitting model: RandomForestGini ...\n",
      "\t0.8648\t = Validation score   (accuracy)\n",
      "\t4.16s\t = Training   runtime\n",
      "\t0.06s\t = Validation runtime\n",
      "Fitting model: RandomForestEntr ...\n",
      "\t0.8648\t = Validation score   (accuracy)\n",
      "\t3.9s\t = Training   runtime\n",
      "\t0.06s\t = Validation runtime\n",
      "Fitting model: CatBoost ...\n",
      "\tTraining CatBoost with GPU, note that this may negatively impact model quality compared to CPU training.\n",
      "\tWarning: CatBoost on GPU is experimental. If you encounter issues, use CPU for training CatBoost instead.\n",
      "\t1.0\t = Validation score   (accuracy)\n",
      "\t5.23s\t = Training   runtime\n",
      "\t0.03s\t = Validation runtime\n",
      "Fitting model: ExtraTreesGini ...\n",
      "\t0.8672\t = Validation score   (accuracy)\n",
      "\t2.87s\t = Training   runtime\n",
      "\t0.06s\t = Validation runtime\n",
      "Fitting model: ExtraTreesEntr ...\n",
      "\t0.868\t = Validation score   (accuracy)\n",
      "\t2.91s\t = Training   runtime\n",
      "\t0.06s\t = Validation runtime\n",
      "Fitting model: NeuralNetFastAI ...\n",
      "No improvement since epoch 0: early stopping\n",
      "\t0.5988\t = Validation score   (accuracy)\n",
      "\t87.8s\t = Training   runtime\n",
      "\t0.19s\t = Validation runtime\n",
      "Fitting model: XGBoost ...\n",
      "\t0.8792\t = Validation score   (accuracy)\n",
      "\t3.28s\t = Training   runtime\n",
      "\t0.02s\t = Validation runtime\n",
      "Fitting model: NeuralNetTorch ...\n",
      "\t0.8792\t = Validation score   (accuracy)\n",
      "\t41.66s\t = Training   runtime\n",
      "\t0.02s\t = Validation runtime\n",
      "Fitting model: LightGBMLarge ...\n",
      "\tTraining LightGBMLarge with GPU, note that this may negatively impact model quality compared to CPU training.\n",
      "[LightGBM] [Fatal] GPU Tree Learner was not enabled in this build.\n",
      "Please recompile with CMake option -DUSE_GPU=1\n",
      "Warning: GPU mode might not be installed for LightGBM, GPU training raised an exception. Falling back to CPU training...Refer to LightGBM GPU documentation: https://github.com/Microsoft/LightGBM/tree/master/python-package#build-gpu-versionOne possible method is:\tpip uninstall lightgbm -y\tpip install lightgbm --install-option=--gpu\n",
      "\t1.0\t = Validation score   (accuracy)\n",
      "\t0.19s\t = Training   runtime\n",
      "\t0.01s\t = Validation runtime\n",
      "Fitting model: WeightedEnsemble_L2 ...\n",
      "\t1.0\t = Validation score   (accuracy)\n",
      "\t0.74s\t = Training   runtime\n",
      "\t0.0s\t = Validation runtime\n",
      "AutoGluon training complete, total runtime = 167.37s ... Best model: \"WeightedEnsemble_L2\"\n",
      "TabularPredictor saved. To load, use: predictor = TabularPredictor.load(\"./auto_gl/Models-predictClass/\")\n"
     ]
    }
   ],
   "source": [
    "save_path = './auto_gl/Models-predictClass'  # specifies folder to store trained models\n",
    "from autogluon.tabular import TabularPredictor\n",
    "predictor = TabularPredictor(label=label, path=save_path).fit(train_data,ag_args_fit={'num_gpus':1})"
   ],
   "metadata": {
    "collapsed": false,
    "pycharm": {
     "name": "#%%\n"
    }
   }
  },
  {
   "cell_type": "code",
   "execution_count": 7,
   "outputs": [
    {
     "data": {
      "text/plain": "autogluon.core.dataset.TabularDataset"
     },
     "execution_count": 7,
     "metadata": {},
     "output_type": "execute_result"
    }
   ],
   "source": [
    "type(train_data)"
   ],
   "metadata": {
    "collapsed": false,
    "pycharm": {
     "name": "#%%\n"
    }
   }
  },
  {
   "cell_type": "code",
   "execution_count": 5,
   "outputs": [
    {
     "name": "stdout",
     "output_type": "stream",
     "text": [
      "*** Summary of fit() ***\n",
      "Estimated performance of each model:\n",
      "                  model  score_val  pred_time_val   fit_time  pred_time_val_marginal  fit_time_marginal  stack_level  can_infer  fit_order\n",
      "0         LightGBMLarge     1.0000       0.006740   0.188401                0.006740           0.188401            1       True         13\n",
      "1              CatBoost     1.0000       0.034029   5.231436                0.034029           5.231436            1       True          7\n",
      "2            LightGBMXT     1.0000       0.045708   5.978460                0.045708           5.978460            1       True          3\n",
      "3   WeightedEnsemble_L2     1.0000       0.048954   6.714831                0.003246           0.736371            2       True         14\n",
      "4              LightGBM     1.0000       0.060652   0.184128                0.060652           0.184128            1       True          4\n",
      "5        NeuralNetTorch     0.8792       0.017372  41.659184                0.017372          41.659184            1       True         12\n",
      "6               XGBoost     0.8792       0.021373   3.275636                0.021373           3.275636            1       True         11\n",
      "7        ExtraTreesEntr     0.8680       0.056820   2.914552                0.056820           2.914552            1       True          9\n",
      "8        ExtraTreesGini     0.8672       0.058187   2.867509                0.058187           2.867509            1       True          8\n",
      "9      RandomForestGini     0.8648       0.055672   4.158240                0.055672           4.158240            1       True          5\n",
      "10     RandomForestEntr     0.8648       0.060088   3.895449                0.060088           3.895449            1       True          6\n",
      "11       KNeighborsUnif     0.7484       0.536441   0.187428                0.536441           0.187428            1       True          1\n",
      "12       KNeighborsDist     0.7316       0.548948   0.137230                0.548948           0.137230            1       True          2\n",
      "13      NeuralNetFastAI     0.5988       0.193358  87.798907                0.193358          87.798907            1       True         10\n",
      "Number of models trained: 14\n",
      "Types of models trained:\n",
      "{'TabularNeuralNetTorchModel', 'NNFastAiTabularModel', 'XTModel', 'WeightedEnsembleModel', 'LGBModel', 'XGBoostModel', 'KNNModel', 'RFModel', 'CatBoostModel'}\n",
      "Bagging used: False \n",
      "Multi-layer stack-ensembling used: False \n",
      "Feature Metadata (Processed):\n",
      "(raw dtype, special dtypes):\n",
      "('float', [])     :  7 | ['duration', 'missed_bytes', 'orig_pkts', 'orig_ip_bytes', 'resp_pkts', ...]\n",
      "('int', [])       :  2 | ['orig_bytes', 'resp_bytes']\n",
      "('int', ['bool']) : 21 | ['proto_tcp', 'proto_udp', 'service_-', 'service_dhcp', 'service_dns', ...]\n",
      "*** End of fit() summary ***\n"
     ]
    },
    {
     "name": "stderr",
     "output_type": "stream",
     "text": [
      "/media/wuguo-buaa/LENOVO_USB_HDD/PycharmProjects/Machine_learning_venv/lib/python3.8/site-packages/autogluon/core/utils/plots.py:138: UserWarning: AutoGluon summary plots cannot be created because bokeh is not installed. To see plots, please do: \"pip install bokeh==2.0.1\"\n",
      "  warnings.warn('AutoGluon summary plots cannot be created because bokeh is not installed. To see plots, please do: \"pip install bokeh==2.0.1\"')\n"
     ]
    }
   ],
   "source": [
    "import bokeh\n",
    "results = predictor.fit_summary(show_plot=True)"
   ],
   "metadata": {
    "collapsed": false,
    "pycharm": {
     "name": "#%%\n"
    }
   }
  },
  {
   "cell_type": "code",
   "execution_count": 6,
   "outputs": [
    {
     "name": "stdout",
     "output_type": "stream",
     "text": [
      "AutoGluon infers problem type is:  binary\n",
      "AutoGluon identified the following types of features:\n",
      "('float', [])     :  7 | ['duration', 'missed_bytes', 'orig_pkts', 'orig_ip_bytes', 'resp_pkts', ...]\n",
      "('int', [])       :  2 | ['orig_bytes', 'resp_bytes']\n",
      "('int', ['bool']) : 21 | ['proto_tcp', 'proto_udp', 'service_-', 'service_dhcp', 'service_dns', ...]\n"
     ]
    }
   ],
   "source": [
    "print(\"AutoGluon infers problem type is: \", predictor.problem_type)\n",
    "print(\"AutoGluon identified the following types of features:\")\n",
    "print(predictor.feature_metadata)"
   ],
   "metadata": {
    "collapsed": false,
    "pycharm": {
     "name": "#%%\n"
    }
   }
  },
  {
   "cell_type": "code",
   "execution_count": 7,
   "outputs": [
    {
     "name": "stderr",
     "output_type": "stream",
     "text": [
      "Loaded data from: ./Data/split/test_data.csv | Columns = 31 / 31 | Rows = 30287 -> 30287\n"
     ]
    },
    {
     "name": "stdout",
     "output_type": "stream",
     "text": [
      "                  model  score_test  score_val  pred_time_test  pred_time_val   fit_time  pred_time_test_marginal  pred_time_val_marginal  fit_time_marginal  stack_level  can_infer  fit_order\n",
      "0         LightGBMLarge    1.000000     1.0000        0.004927       0.006740   0.188401                 0.004927                0.006740           0.188401            1       True         13\n",
      "1            LightGBMXT    1.000000     1.0000        0.012682       0.045708   5.978460                 0.012682                0.045708           5.978460            1       True          3\n",
      "2   WeightedEnsemble_L2    1.000000     1.0000        0.014530       0.048954   6.714831                 0.001848                0.003246           0.736371            2       True         14\n",
      "3              CatBoost    1.000000     1.0000        0.034284       0.034029   5.231436                 0.034284                0.034029           5.231436            1       True          7\n",
      "4              LightGBM    1.000000     1.0000        0.045332       0.060652   0.184128                 0.045332                0.060652           0.184128            1       True          4\n",
      "5               XGBoost    0.867435     0.8792        0.037753       0.021373   3.275636                 0.037753                0.021373           3.275636            1       True         11\n",
      "6        NeuralNetTorch    0.867402     0.8792        0.127484       0.017372  41.659184                 0.127484                0.017372          41.659184            1       True         12\n",
      "7        ExtraTreesGini    0.857860     0.8672        0.291325       0.058187   2.867509                 0.291325                0.058187           2.867509            1       True          8\n",
      "8        ExtraTreesEntr    0.857728     0.8680        0.347332       0.056820   2.914552                 0.347332                0.056820           2.914552            1       True          9\n",
      "9      RandomForestGini    0.857299     0.8648        0.181877       0.055672   4.158240                 0.181877                0.055672           4.158240            1       True          5\n",
      "10     RandomForestEntr    0.857265     0.8648        0.186229       0.060088   3.895449                 0.186229                0.060088           3.895449            1       True          6\n",
      "11       KNeighborsUnif    0.727177     0.7484        6.212823       0.536441   0.187428                 6.212823                0.536441           0.187428            1       True          1\n",
      "12       KNeighborsDist    0.716908     0.7316        6.075372       0.548948   0.137230                 6.075372                0.548948           0.137230            1       True          2\n",
      "13      NeuralNetFastAI    0.592036     0.5988        0.400959       0.193358  87.798907                 0.400959                0.193358          87.798907            1       True         10\n"
     ]
    },
    {
     "data": {
      "text/plain": "                  model  score_test  score_val  pred_time_test  pred_time_val  \\\n0         LightGBMLarge    1.000000     1.0000        0.004927       0.006740   \n1            LightGBMXT    1.000000     1.0000        0.012682       0.045708   \n2   WeightedEnsemble_L2    1.000000     1.0000        0.014530       0.048954   \n3              CatBoost    1.000000     1.0000        0.034284       0.034029   \n4              LightGBM    1.000000     1.0000        0.045332       0.060652   \n5               XGBoost    0.867435     0.8792        0.037753       0.021373   \n6        NeuralNetTorch    0.867402     0.8792        0.127484       0.017372   \n7        ExtraTreesGini    0.857860     0.8672        0.291325       0.058187   \n8        ExtraTreesEntr    0.857728     0.8680        0.347332       0.056820   \n9      RandomForestGini    0.857299     0.8648        0.181877       0.055672   \n10     RandomForestEntr    0.857265     0.8648        0.186229       0.060088   \n11       KNeighborsUnif    0.727177     0.7484        6.212823       0.536441   \n12       KNeighborsDist    0.716908     0.7316        6.075372       0.548948   \n13      NeuralNetFastAI    0.592036     0.5988        0.400959       0.193358   \n\n     fit_time  pred_time_test_marginal  pred_time_val_marginal  \\\n0    0.188401                 0.004927                0.006740   \n1    5.978460                 0.012682                0.045708   \n2    6.714831                 0.001848                0.003246   \n3    5.231436                 0.034284                0.034029   \n4    0.184128                 0.045332                0.060652   \n5    3.275636                 0.037753                0.021373   \n6   41.659184                 0.127484                0.017372   \n7    2.867509                 0.291325                0.058187   \n8    2.914552                 0.347332                0.056820   \n9    4.158240                 0.181877                0.055672   \n10   3.895449                 0.186229                0.060088   \n11   0.187428                 6.212823                0.536441   \n12   0.137230                 6.075372                0.548948   \n13  87.798907                 0.400959                0.193358   \n\n    fit_time_marginal  stack_level  can_infer  fit_order  \n0            0.188401            1       True         13  \n1            5.978460            1       True          3  \n2            0.736371            2       True         14  \n3            5.231436            1       True          7  \n4            0.184128            1       True          4  \n5            3.275636            1       True         11  \n6           41.659184            1       True         12  \n7            2.867509            1       True          8  \n8            2.914552            1       True          9  \n9            4.158240            1       True          5  \n10           3.895449            1       True          6  \n11           0.187428            1       True          1  \n12           0.137230            1       True          2  \n13          87.798907            1       True         10  ",
      "text/html": "<div>\n<style scoped>\n    .dataframe tbody tr th:only-of-type {\n        vertical-align: middle;\n    }\n\n    .dataframe tbody tr th {\n        vertical-align: top;\n    }\n\n    .dataframe thead th {\n        text-align: right;\n    }\n</style>\n<table border=\"1\" class=\"dataframe\">\n  <thead>\n    <tr style=\"text-align: right;\">\n      <th></th>\n      <th>model</th>\n      <th>score_test</th>\n      <th>score_val</th>\n      <th>pred_time_test</th>\n      <th>pred_time_val</th>\n      <th>fit_time</th>\n      <th>pred_time_test_marginal</th>\n      <th>pred_time_val_marginal</th>\n      <th>fit_time_marginal</th>\n      <th>stack_level</th>\n      <th>can_infer</th>\n      <th>fit_order</th>\n    </tr>\n  </thead>\n  <tbody>\n    <tr>\n      <th>0</th>\n      <td>LightGBMLarge</td>\n      <td>1.000000</td>\n      <td>1.0000</td>\n      <td>0.004927</td>\n      <td>0.006740</td>\n      <td>0.188401</td>\n      <td>0.004927</td>\n      <td>0.006740</td>\n      <td>0.188401</td>\n      <td>1</td>\n      <td>True</td>\n      <td>13</td>\n    </tr>\n    <tr>\n      <th>1</th>\n      <td>LightGBMXT</td>\n      <td>1.000000</td>\n      <td>1.0000</td>\n      <td>0.012682</td>\n      <td>0.045708</td>\n      <td>5.978460</td>\n      <td>0.012682</td>\n      <td>0.045708</td>\n      <td>5.978460</td>\n      <td>1</td>\n      <td>True</td>\n      <td>3</td>\n    </tr>\n    <tr>\n      <th>2</th>\n      <td>WeightedEnsemble_L2</td>\n      <td>1.000000</td>\n      <td>1.0000</td>\n      <td>0.014530</td>\n      <td>0.048954</td>\n      <td>6.714831</td>\n      <td>0.001848</td>\n      <td>0.003246</td>\n      <td>0.736371</td>\n      <td>2</td>\n      <td>True</td>\n      <td>14</td>\n    </tr>\n    <tr>\n      <th>3</th>\n      <td>CatBoost</td>\n      <td>1.000000</td>\n      <td>1.0000</td>\n      <td>0.034284</td>\n      <td>0.034029</td>\n      <td>5.231436</td>\n      <td>0.034284</td>\n      <td>0.034029</td>\n      <td>5.231436</td>\n      <td>1</td>\n      <td>True</td>\n      <td>7</td>\n    </tr>\n    <tr>\n      <th>4</th>\n      <td>LightGBM</td>\n      <td>1.000000</td>\n      <td>1.0000</td>\n      <td>0.045332</td>\n      <td>0.060652</td>\n      <td>0.184128</td>\n      <td>0.045332</td>\n      <td>0.060652</td>\n      <td>0.184128</td>\n      <td>1</td>\n      <td>True</td>\n      <td>4</td>\n    </tr>\n    <tr>\n      <th>5</th>\n      <td>XGBoost</td>\n      <td>0.867435</td>\n      <td>0.8792</td>\n      <td>0.037753</td>\n      <td>0.021373</td>\n      <td>3.275636</td>\n      <td>0.037753</td>\n      <td>0.021373</td>\n      <td>3.275636</td>\n      <td>1</td>\n      <td>True</td>\n      <td>11</td>\n    </tr>\n    <tr>\n      <th>6</th>\n      <td>NeuralNetTorch</td>\n      <td>0.867402</td>\n      <td>0.8792</td>\n      <td>0.127484</td>\n      <td>0.017372</td>\n      <td>41.659184</td>\n      <td>0.127484</td>\n      <td>0.017372</td>\n      <td>41.659184</td>\n      <td>1</td>\n      <td>True</td>\n      <td>12</td>\n    </tr>\n    <tr>\n      <th>7</th>\n      <td>ExtraTreesGini</td>\n      <td>0.857860</td>\n      <td>0.8672</td>\n      <td>0.291325</td>\n      <td>0.058187</td>\n      <td>2.867509</td>\n      <td>0.291325</td>\n      <td>0.058187</td>\n      <td>2.867509</td>\n      <td>1</td>\n      <td>True</td>\n      <td>8</td>\n    </tr>\n    <tr>\n      <th>8</th>\n      <td>ExtraTreesEntr</td>\n      <td>0.857728</td>\n      <td>0.8680</td>\n      <td>0.347332</td>\n      <td>0.056820</td>\n      <td>2.914552</td>\n      <td>0.347332</td>\n      <td>0.056820</td>\n      <td>2.914552</td>\n      <td>1</td>\n      <td>True</td>\n      <td>9</td>\n    </tr>\n    <tr>\n      <th>9</th>\n      <td>RandomForestGini</td>\n      <td>0.857299</td>\n      <td>0.8648</td>\n      <td>0.181877</td>\n      <td>0.055672</td>\n      <td>4.158240</td>\n      <td>0.181877</td>\n      <td>0.055672</td>\n      <td>4.158240</td>\n      <td>1</td>\n      <td>True</td>\n      <td>5</td>\n    </tr>\n    <tr>\n      <th>10</th>\n      <td>RandomForestEntr</td>\n      <td>0.857265</td>\n      <td>0.8648</td>\n      <td>0.186229</td>\n      <td>0.060088</td>\n      <td>3.895449</td>\n      <td>0.186229</td>\n      <td>0.060088</td>\n      <td>3.895449</td>\n      <td>1</td>\n      <td>True</td>\n      <td>6</td>\n    </tr>\n    <tr>\n      <th>11</th>\n      <td>KNeighborsUnif</td>\n      <td>0.727177</td>\n      <td>0.7484</td>\n      <td>6.212823</td>\n      <td>0.536441</td>\n      <td>0.187428</td>\n      <td>6.212823</td>\n      <td>0.536441</td>\n      <td>0.187428</td>\n      <td>1</td>\n      <td>True</td>\n      <td>1</td>\n    </tr>\n    <tr>\n      <th>12</th>\n      <td>KNeighborsDist</td>\n      <td>0.716908</td>\n      <td>0.7316</td>\n      <td>6.075372</td>\n      <td>0.548948</td>\n      <td>0.137230</td>\n      <td>6.075372</td>\n      <td>0.548948</td>\n      <td>0.137230</td>\n      <td>1</td>\n      <td>True</td>\n      <td>2</td>\n    </tr>\n    <tr>\n      <th>13</th>\n      <td>NeuralNetFastAI</td>\n      <td>0.592036</td>\n      <td>0.5988</td>\n      <td>0.400959</td>\n      <td>0.193358</td>\n      <td>87.798907</td>\n      <td>0.400959</td>\n      <td>0.193358</td>\n      <td>87.798907</td>\n      <td>1</td>\n      <td>True</td>\n      <td>10</td>\n    </tr>\n  </tbody>\n</table>\n</div>"
     },
     "execution_count": 7,
     "metadata": {},
     "output_type": "execute_result"
    }
   ],
   "source": [
    "test_data = TabularDataset(\"./Data/split/test_data.csv\")\n",
    "predictor.leaderboard(test_data)"
   ],
   "metadata": {
    "collapsed": false,
    "pycharm": {
     "name": "#%%\n"
    }
   }
  },
  {
   "cell_type": "code",
   "execution_count": 8,
   "outputs": [
    {
     "name": "stdout",
     "output_type": "stream",
     "text": [
      "*** Summary of fit() ***\n",
      "Estimated performance of each model:\n",
      "                  model  score_val  pred_time_val   fit_time  pred_time_val_marginal  fit_time_marginal  stack_level  can_infer  fit_order\n",
      "0         LightGBMLarge     1.0000       0.006740   0.188401                0.006740           0.188401            1       True         13\n",
      "1              CatBoost     1.0000       0.034029   5.231436                0.034029           5.231436            1       True          7\n",
      "2            LightGBMXT     1.0000       0.045708   5.978460                0.045708           5.978460            1       True          3\n",
      "3   WeightedEnsemble_L2     1.0000       0.048954   6.714831                0.003246           0.736371            2       True         14\n",
      "4              LightGBM     1.0000       0.060652   0.184128                0.060652           0.184128            1       True          4\n",
      "5        NeuralNetTorch     0.8792       0.017372  41.659184                0.017372          41.659184            1       True         12\n",
      "6               XGBoost     0.8792       0.021373   3.275636                0.021373           3.275636            1       True         11\n",
      "7        ExtraTreesEntr     0.8680       0.056820   2.914552                0.056820           2.914552            1       True          9\n",
      "8        ExtraTreesGini     0.8672       0.058187   2.867509                0.058187           2.867509            1       True          8\n",
      "9      RandomForestGini     0.8648       0.055672   4.158240                0.055672           4.158240            1       True          5\n",
      "10     RandomForestEntr     0.8648       0.060088   3.895449                0.060088           3.895449            1       True          6\n",
      "11       KNeighborsUnif     0.7484       0.536441   0.187428                0.536441           0.187428            1       True          1\n",
      "12       KNeighborsDist     0.7316       0.548948   0.137230                0.548948           0.137230            1       True          2\n",
      "13      NeuralNetFastAI     0.5988       0.193358  87.798907                0.193358          87.798907            1       True         10\n",
      "Number of models trained: 14\n",
      "Types of models trained:\n",
      "{'TabularNeuralNetTorchModel', 'NNFastAiTabularModel', 'XTModel', 'WeightedEnsembleModel', 'LGBModel', 'XGBoostModel', 'KNNModel', 'RFModel', 'CatBoostModel'}\n",
      "Bagging used: False \n",
      "Multi-layer stack-ensembling used: False \n",
      "Feature Metadata (Processed):\n",
      "(raw dtype, special dtypes):\n",
      "('float', [])     :  7 | ['duration', 'missed_bytes', 'orig_pkts', 'orig_ip_bytes', 'resp_pkts', ...]\n",
      "('int', [])       :  2 | ['orig_bytes', 'resp_bytes']\n",
      "('int', ['bool']) : 21 | ['proto_tcp', 'proto_udp', 'service_-', 'service_dhcp', 'service_dns', ...]\n",
      "*** End of fit() summary ***\n"
     ]
    },
    {
     "name": "stderr",
     "output_type": "stream",
     "text": [
      "/media/wuguo-buaa/LENOVO_USB_HDD/PycharmProjects/Machine_learning_venv/lib/python3.8/site-packages/autogluon/core/utils/plots.py:138: UserWarning: AutoGluon summary plots cannot be created because bokeh is not installed. To see plots, please do: \"pip install bokeh==2.0.1\"\n",
      "  warnings.warn('AutoGluon summary plots cannot be created because bokeh is not installed. To see plots, please do: \"pip install bokeh==2.0.1\"')\n"
     ]
    }
   ],
   "source": [
    "predict_results = predictor.fit_summary(show_plot=True)"
   ],
   "metadata": {
    "collapsed": false,
    "pycharm": {
     "name": "#%%\n"
    }
   }
  },
  {
   "cell_type": "markdown",
   "source": [
    "# try different preset"
   ],
   "metadata": {
    "collapsed": false
   }
  },
  {
   "cell_type": "markdown",
   "source": [
    "## best quality"
   ],
   "metadata": {
    "collapsed": false
   }
  },
  {
   "cell_type": "code",
   "execution_count": 1,
   "outputs": [],
   "source": [
    "from autogluon.tabular import TabularDataset\n",
    "import autogluon\n",
    "label = 'label'\n",
    "train_data = TabularDataset(\"./Data/split/train_data.csv\")"
   ],
   "metadata": {
    "collapsed": false,
    "pycharm": {
     "name": "#%%\n"
    }
   }
  },
  {
   "cell_type": "code",
   "execution_count": null,
   "outputs": [
    {
     "name": "stderr",
     "output_type": "stream",
     "text": [
      "Warning: path already exists! This predictor may overwrite an existing predictor! path=\"./auto_gl/exp-iot23/best_q\"\n",
      "Presets specified: ['best_quality']\n",
      "Warning: Training may take a very long time because `time_limit` was not specified and `train_data` is large (121148 samples, 36.89 MB).\n",
      "\tConsider setting `time_limit` to ensure training finishes within an expected duration or experiment with a small portion of `train_data` to identify an ideal `presets` and `hyperparameters` configuration.\n",
      "Beginning AutoGluon training ...\n",
      "AutoGluon will save models to \"./auto_gl/exp-iot23/best_q/\"\n",
      "AutoGluon Version:  0.4.0\n",
      "Python Version:     3.8.13\n",
      "Operating System:   Linux\n",
      "Train Data Rows:    121148\n",
      "Train Data Columns: 30\n",
      "Label Column: label\n",
      "Preprocessing data ...\n",
      "AutoGluon infers your prediction problem is: 'binary' (because only two unique label-values observed).\n",
      "\t2 unique label values:  ['Benign', 'Malicious']\n",
      "\tIf 'binary' is not the correct problem_type, please manually specify the problem_type parameter during predictor init (You may specify problem_type as one of: ['binary', 'multiclass', 'regression'])\n",
      "Selected class <--> label mapping:  class 1 = Malicious, class 0 = Benign\n",
      "\tNote: For your binary classification, AutoGluon arbitrarily selected which label-value represents positive (Malicious) vs negative (Benign) class.\n",
      "\tTo explicitly set the positive_class, either rename classes to 1 and 0, or specify positive_class in Predictor init.\n",
      "Using Feature Generators to preprocess the data ...\n",
      "Fitting AutoMLPipelineFeatureGenerator...\n",
      "\tAvailable Memory:                    10633.77 MB\n",
      "\tTrain Data (Original)  Memory Usage: 29.08 MB (0.3% of available memory)\n",
      "\tInferring data type of each feature based on column values. Set feature_metadata_in to manually specify special dtypes of the features.\n",
      "\tStage 1 Generators:\n",
      "\t\tFitting AsTypeFeatureGenerator...\n",
      "\t\t\tNote: Converting 21 features to boolean dtype as they only contain 2 unique values.\n",
      "\tStage 2 Generators:\n",
      "\t\tFitting FillNaFeatureGenerator...\n",
      "\tStage 3 Generators:\n",
      "\t\tFitting IdentityFeatureGenerator...\n",
      "\tStage 4 Generators:\n",
      "\t\tFitting DropUniqueFeatureGenerator...\n",
      "\tTypes of features in original data (raw dtype, special dtypes):\n",
      "\t\t('float', []) :  7 | ['duration', 'missed_bytes', 'orig_pkts', 'orig_ip_bytes', 'resp_pkts', ...]\n",
      "\t\t('int', [])   : 23 | ['orig_bytes', 'resp_bytes', 'proto_tcp', 'proto_udp', 'service_-', ...]\n",
      "\tTypes of features in processed data (raw dtype, special dtypes):\n",
      "\t\t('float', [])     :  7 | ['duration', 'missed_bytes', 'orig_pkts', 'orig_ip_bytes', 'resp_pkts', ...]\n",
      "\t\t('int', [])       :  2 | ['orig_bytes', 'resp_bytes']\n",
      "\t\t('int', ['bool']) : 21 | ['proto_tcp', 'proto_udp', 'service_-', 'service_dhcp', 'service_dns', ...]\n",
      "\t0.2s = Fit runtime\n",
      "\t30 features in original data used to generate 30 features in processed data.\n",
      "\tTrain Data (Processed) Memory Usage: 11.27 MB (0.1% of available memory)\n",
      "Data preprocessing and feature engineering runtime = 0.29s ...\n",
      "AutoGluon will gauge predictive performance using evaluation metric: 'accuracy'\n",
      "\tTo change this, specify the eval_metric parameter of Predictor()\n",
      "AutoGluon will fit 2 stack levels (L1 to L2) ...\n",
      "Fitting 13 L1 models ...\n",
      "Fitting model: KNeighborsUnif_BAG_L1 ...\n",
      "\t0.7336\t = Validation score   (accuracy)\n",
      "\t0.2s\t = Training   runtime\n",
      "\t23.59s\t = Validation runtime\n",
      "Fitting model: KNeighborsDist_BAG_L1 ...\n",
      "\t0.7237\t = Validation score   (accuracy)\n",
      "\t0.14s\t = Training   runtime\n",
      "\t25.31s\t = Validation runtime\n",
      "Fitting model: LightGBMXT_BAG_L1 ...\n",
      "\tFitting 8 child models (S1F1 - S1F8) | Fitting with ParallelLocalFoldFittingStrategy\n",
      "\t1.0\t = Validation score   (accuracy)\n",
      "\t9.48s\t = Training   runtime\n",
      "\t0.04s\t = Validation runtime\n",
      "Fitting model: LightGBM_BAG_L1 ...\n",
      "\tFitting 8 child models (S1F1 - S1F8) | Fitting with ParallelLocalFoldFittingStrategy\n",
      "\t1.0\t = Validation score   (accuracy)\n",
      "\t1.78s\t = Training   runtime\n",
      "\t0.04s\t = Validation runtime\n",
      "Fitting model: RandomForestGini_BAG_L1 ...\n",
      "\t0.8604\t = Validation score   (accuracy)\n",
      "\t3.9s\t = Training   runtime\n",
      "\t2.11s\t = Validation runtime\n",
      "Fitting model: RandomForestEntr_BAG_L1 ...\n",
      "\t0.8604\t = Validation score   (accuracy)\n",
      "\t3.64s\t = Training   runtime\n",
      "\t2.11s\t = Validation runtime\n",
      "Fitting model: CatBoost_BAG_L1 ...\n",
      "\tFitting 8 child models (S1F1 - S1F8) | Fitting with ParallelLocalFoldFittingStrategy\n",
      "2022-05-12 12:11:15,806\tWARNING worker.py:1228 -- A worker died or was killed while executing a task by an unexpected system error. To troubleshoot the problem, check the logs for the dead worker. RayTask ID: 475ca1036458f091ab5339f7ff4b958869396e7de1cc9d2f Worker ID: 83c21ed7199e4faa729b425b5d05857aa87b137a382c0c688e27fd19 Node ID: e5f3b6dee7e41b73b1c07f60b0527e87a402e607be0e511a6b4d89a7 Worker IP address: 192.168.0.133 Worker port: 46033 Worker PID: 16211\n",
      "2022-05-12 12:11:15,806\tWARNING worker.py:1228 -- 3 retries left for task 34c9c2094e42fdbfffffffffffffffffffffffff01000000, attempting to resubmit.\n",
      "2022-05-12 12:11:15,817\tWARNING worker.py:1228 -- A worker died or was killed while executing a task by an unexpected system error. To troubleshoot the problem, check the logs for the dead worker. RayTask ID: 0853ee1f821ec7938fa7ee33567d9a4c53b0c775cbd67e38 Worker ID: 99fe4e9ab6532b369503f53fe0df04bbe09c9da0c04742028ddafe83 Node ID: e5f3b6dee7e41b73b1c07f60b0527e87a402e607be0e511a6b4d89a7 Worker IP address: 192.168.0.133 Worker port: 46783 Worker PID: 16209\n",
      "2022-05-12 12:11:15,817\tWARNING worker.py:1228 -- 3 retries left for task 42867781e3b6e074ffffffffffffffffffffffff01000000, attempting to resubmit.\n",
      "2022-05-12 12:11:15,828\tWARNING worker.py:1228 -- A worker died or was killed while executing a task by an unexpected system error. To troubleshoot the problem, check the logs for the dead worker. RayTask ID: b791b44889067523945a206c12f4d7fe78bcf897429a725f Worker ID: e1cca8d811c8e8769a541d4155ec1c1bb2284806a3866e5afc8ae8f6 Node ID: e5f3b6dee7e41b73b1c07f60b0527e87a402e607be0e511a6b4d89a7 Worker IP address: 192.168.0.133 Worker port: 43993 Worker PID: 16213\n",
      "2022-05-12 12:11:15,828\tWARNING worker.py:1228 -- 3 retries left for task e11fe2800445c79affffffffffffffffffffffff01000000, attempting to resubmit.\n",
      "2022-05-12 12:11:15,849\tWARNING worker.py:1228 -- A worker died or was killed while executing a task by an unexpected system error. To troubleshoot the problem, check the logs for the dead worker. RayTask ID: 2fe1d183d24b0e25c3ea14d5b8f27af06801bf77d5d7a71f Worker ID: f5c60c0e1c9c0af15870cab00630485e9b8c67e6a7a9b5adb20b74eb Node ID: e5f3b6dee7e41b73b1c07f60b0527e87a402e607be0e511a6b4d89a7 Worker IP address: 192.168.0.133 Worker port: 44175 Worker PID: 16210\n",
      "2022-05-12 12:11:15,850\tWARNING worker.py:1228 -- 3 retries left for task 27c0dca5954f99afffffffffffffffffffffffff01000000, attempting to resubmit.\n",
      "2022-05-12 12:11:15,850\tWARNING worker.py:1228 -- A worker died or was killed while executing a task by an unexpected system error. To troubleshoot the problem, check the logs for the dead worker. RayTask ID: 6c0f38d21c08fc1246716b3cb95032afe250798d3270167c Worker ID: 92127bb2ccf265e968544926511980191e8293a3162ddcf2559b240e Node ID: e5f3b6dee7e41b73b1c07f60b0527e87a402e607be0e511a6b4d89a7 Worker IP address: 192.168.0.133 Worker port: 37513 Worker PID: 16212\n",
      "2022-05-12 12:11:15,850\tWARNING worker.py:1228 -- 3 retries left for task 747754f46b61f47dffffffffffffffffffffffff01000000, attempting to resubmit.\n",
      "2022-05-12 12:11:55,062\tWARNING worker.py:1228 -- A worker died or was killed while executing a task by an unexpected system error. To troubleshoot the problem, check the logs for the dead worker. RayTask ID: 5e156908347cec09bd985ee44897a0f496351b32331fa728 Worker ID: fe766a4a4ccdc9ba469dd6a06823ac1d011b5d5deb0cf9087c45d090 Node ID: e5f3b6dee7e41b73b1c07f60b0527e87a402e607be0e511a6b4d89a7 Worker IP address: 192.168.0.133 Worker port: 41827 Worker PID: 16655\n",
      "2022-05-12 12:11:55,063\tWARNING worker.py:1228 -- A worker died or was killed while executing a task by an unexpected system error. To troubleshoot the problem, check the logs for the dead worker. RayTask ID: 3790d5701eb692ad7852eb4e7c6ad271e26fe2dc3ee1875a Worker ID: a8c599bee2c78d04120fe02eaca3bb7733db5708612bf94979ceaafd Node ID: e5f3b6dee7e41b73b1c07f60b0527e87a402e607be0e511a6b4d89a7 Worker IP address: 192.168.0.133 Worker port: 33111 Worker PID: 16657\n",
      "2022-05-12 12:11:55,063\tWARNING worker.py:1228 -- 2 retries left for task 42867781e3b6e074ffffffffffffffffffffffff01000000, attempting to resubmit.\n",
      "2022-05-12 12:11:55,064\tWARNING worker.py:1228 -- 2 retries left for task 27c0dca5954f99afffffffffffffffffffffffff01000000, attempting to resubmit.\n",
      "2022-05-12 12:12:44,876\tWARNING worker.py:1228 -- A worker died or was killed while executing a task by an unexpected system error. To troubleshoot the problem, check the logs for the dead worker. RayTask ID: 0b1b2130a3a9f8a3fe29fef0f6e234a11eb7411a4e7e5f94 Worker ID: 95889b716fb89892beac0574376d515a84deaea48bd4b81faf925121 Node ID: e5f3b6dee7e41b73b1c07f60b0527e87a402e607be0e511a6b4d89a7 Worker IP address: 192.168.0.133 Worker port: 34471 Worker PID: 16206\n",
      "2022-05-12 12:12:44,876\tWARNING worker.py:1228 -- 3 retries left for task 24eed4584329c19affffffffffffffffffffffff01000000, attempting to resubmit.\n",
      "\t1.0\t = Validation score   (accuracy)\n",
      "\t131.02s\t = Training   runtime\n",
      "\t0.03s\t = Validation runtime\n",
      "Fitting model: ExtraTreesGini_BAG_L1 ...\n",
      "\t0.8609\t = Validation score   (accuracy)\n",
      "\t3.06s\t = Training   runtime\n",
      "\t2.45s\t = Validation runtime\n",
      "Fitting model: ExtraTreesEntr_BAG_L1 ...\n",
      "\t0.8609\t = Validation score   (accuracy)\n",
      "\t3.01s\t = Training   runtime\n",
      "\t2.42s\t = Validation runtime\n",
      "Fitting model: NeuralNetFastAI_BAG_L1 ...\n",
      "\tFitting 8 child models (S1F1 - S1F8) | Fitting with ParallelLocalFoldFittingStrategy\n"
     ]
    }
   ],
   "source": [
    "save_path = './auto_gl/exp-iot23/best_q'  # specifies folder to store trained models\n",
    "from autogluon.tabular import TabularPredictor\n",
    "predictor = TabularPredictor(label=label, path=save_path).fit(train_data,ag_args_fit={'num_gpus':1},presets='best_quality')"
   ],
   "metadata": {
    "collapsed": false,
    "pycharm": {
     "name": "#%%\n",
     "is_executing": true
    }
   }
  },
  {
   "cell_type": "code",
   "execution_count": 8,
   "outputs": [
    {
     "name": "stdout",
     "output_type": "stream",
     "text": [
      "*** Summary of fit() ***\n",
      "Estimated performance of each model:\n",
      "                      model  score_val  pred_time_val    fit_time  pred_time_val_marginal  fit_time_marginal  stack_level  can_infer  fit_order\n",
      "0           CatBoost_BAG_L1   1.000000       0.033231  131.023886                0.033231         131.023886            1       True          7\n",
      "1           LightGBM_BAG_L1   1.000000       0.036842    1.775970                0.036842           1.775970            1       True          4\n",
      "2      LightGBMLarge_BAG_L1   1.000000       0.040418   10.055639                0.040418          10.055639            1       True         12\n",
      "3         LightGBMXT_BAG_L1   1.000000       0.044001    9.479686                0.044001           9.479686            1       True          3\n",
      "4       WeightedEnsemble_L2   1.000000       0.177872   33.086067                0.133871          23.606381            2       True         13\n",
      "5      LightGBMLarge_BAG_L2   1.000000      61.733382  533.726953                0.037642          29.137388            2       True         22\n",
      "6           LightGBM_BAG_L2   1.000000      61.750229  506.477836                0.054489           1.888272            2       True         15\n",
      "7         LightGBMXT_BAG_L2   1.000000      61.754743  506.555802                0.059003           1.966237            2       True         14\n",
      "8            XGBoost_BAG_L2   1.000000      61.935982  510.389151                0.240242           5.799586            2       True         21\n",
      "9     ExtraTreesGini_BAG_L2   1.000000      63.358050  505.933799                1.662310           1.344234            2       True         19\n",
      "10    ExtraTreesEntr_BAG_L2   1.000000      63.364817  505.926847                1.669077           1.337283            2       True         20\n",
      "11  RandomForestGini_BAG_L2   1.000000      63.388964  507.920509                1.693224           3.330944            2       True         16\n",
      "12  RandomForestEntr_BAG_L2   1.000000      63.414093  506.496725                1.718353           1.907161            2       True         17\n",
      "13      WeightedEnsemble_L3   1.000000      63.481585  523.530595                0.123535          17.596796            3       True         23\n",
      "14          CatBoost_BAG_L2   0.999992      61.839226  533.029563                0.143486          28.439998            2       True         18\n",
      "15           XGBoost_BAG_L1   0.870852       0.095186   25.722861                0.095186          25.722861            1       True         11\n",
      "16    ExtraTreesEntr_BAG_L1   0.860930       2.421909    3.010697                2.421909           3.010697            1       True          9\n",
      "17    ExtraTreesGini_BAG_L1   0.860906       2.447874    3.057243                2.447874           3.057243            1       True          8\n",
      "18  RandomForestGini_BAG_L1   0.860419       2.108596    3.900055                2.108596           3.900055            1       True          5\n",
      "19  RandomForestEntr_BAG_L1   0.860410       2.110142    3.635849                2.110142           3.635849            1       True          6\n",
      "20    KNeighborsUnif_BAG_L1   0.733607      23.593365    0.195653               23.593365           0.195653            1       True          1\n",
      "21    KNeighborsDist_BAG_L1   0.723743      25.310233    0.135993               25.310233           0.135993            1       True          2\n",
      "22   NeuralNetFastAI_BAG_L1   0.643692       3.453942  312.596032                3.453942         312.596032            1       True         10\n",
      "Number of models trained: 23\n",
      "Types of models trained:\n",
      "{'StackerEnsembleModel_XGBoost', 'StackerEnsembleModel_NNFastAiTabular', 'WeightedEnsembleModel', 'StackerEnsembleModel_CatBoost', 'StackerEnsembleModel_RF', 'StackerEnsembleModel_LGB', 'StackerEnsembleModel_XT', 'StackerEnsembleModel_KNN'}\n",
      "Bagging used: True  (with 8 folds)\n",
      "Multi-layer stack-ensembling used: True  (with 3 levels)\n",
      "Feature Metadata (Processed):\n",
      "(raw dtype, special dtypes):\n",
      "('float', [])     :  7 | ['duration', 'missed_bytes', 'orig_pkts', 'orig_ip_bytes', 'resp_pkts', ...]\n",
      "('int', [])       :  2 | ['orig_bytes', 'resp_bytes']\n",
      "('int', ['bool']) : 21 | ['proto_tcp', 'proto_udp', 'service_-', 'service_dhcp', 'service_dns', ...]\n",
      "*** End of fit() summary ***\n"
     ]
    },
    {
     "name": "stderr",
     "output_type": "stream",
     "text": [
      "/media/wuguo-buaa/LENOVO_USB_HDD/PycharmProjects/Machine_learning_venv/lib/python3.8/site-packages/autogluon/core/utils/plots.py:138: UserWarning: AutoGluon summary plots cannot be created because bokeh is not installed. To see plots, please do: \"pip install bokeh==2.0.1\"\n",
      "  warnings.warn('AutoGluon summary plots cannot be created because bokeh is not installed. To see plots, please do: \"pip install bokeh==2.0.1\"')\n"
     ]
    }
   ],
   "source": [
    "from autogluon.tabular import TabularPredictor\n",
    "RF_predictor = TabularPredictor.load('/media/wuguo-buaa/LENOVO_USB_HDD/PycharmProjects/Anomaly-Detection-IoT23/Models/auto_gl/exp-iot23/best_q/')\n",
    "RF_results = RF_predictor.fit_summary(show_plot=True)"
   ],
   "metadata": {
    "collapsed": false,
    "pycharm": {
     "name": "#%%\n"
    }
   }
  },
  {
   "cell_type": "code",
   "execution_count": 9,
   "outputs": [
    {
     "name": "stdout",
     "output_type": "stream",
     "text": [
      "                      model  score_test  score_val  pred_time_test  pred_time_val    fit_time  pred_time_test_marginal  pred_time_val_marginal  fit_time_marginal  stack_level  can_infer  fit_order\n",
      "0           LightGBM_BAG_L1    1.000000   1.000000        0.044971       0.036842    1.775970                 0.044971                0.036842           1.775970            1       True          4\n",
      "1         LightGBMXT_BAG_L1    1.000000   1.000000        0.047302       0.044001    9.479686                 0.047302                0.044001           9.479686            1       True          3\n",
      "2       WeightedEnsemble_L2    1.000000   1.000000        0.049023       0.177872   33.086067                 0.001721                0.133871          23.606381            2       True         13\n",
      "3      LightGBMLarge_BAG_L1    1.000000   1.000000        0.692796       0.040418   10.055639                 0.692796                0.040418          10.055639            1       True         12\n",
      "4           CatBoost_BAG_L1    1.000000   1.000000        1.488141       0.033231  131.023886                 1.488141                0.033231         131.023886            1       True          7\n",
      "5           CatBoost_BAG_L2    1.000000   0.999992       44.199703      61.839226  533.029563                 0.037058                0.143486          28.439998            2       True         18\n",
      "6           LightGBM_BAG_L2    1.000000   1.000000       44.226615      61.750229  506.477836                 0.063969                0.054489           1.888272            2       True         15\n",
      "7      LightGBMLarge_BAG_L2    1.000000   1.000000       44.228395      61.733382  533.726953                 0.065750                0.037642          29.137388            2       True         22\n",
      "8     ExtraTreesGini_BAG_L2    1.000000   1.000000       44.230879      63.358050  505.933799                 0.068233                1.662310           1.344234            2       True         19\n",
      "9         LightGBMXT_BAG_L2    1.000000   1.000000       44.231328      61.754743  506.555802                 0.068682                0.059003           1.966237            2       True         14\n",
      "10  RandomForestGini_BAG_L2    1.000000   1.000000       44.231898      63.388964  507.920509                 0.069252                1.693224           3.330944            2       True         16\n",
      "11      WeightedEnsemble_L3    1.000000   1.000000       44.232434      63.481585  523.530595                 0.001555                0.123535          17.596796            3       True         23\n",
      "12    ExtraTreesEntr_BAG_L2    1.000000   1.000000       44.234387      63.364817  505.926847                 0.071741                1.669077           1.337283            2       True         20\n",
      "13  RandomForestEntr_BAG_L2    1.000000   1.000000       44.235653      63.414093  506.496725                 0.073008                1.718353           1.907161            2       True         17\n",
      "14           XGBoost_BAG_L2    1.000000   1.000000       44.361975      61.935982  510.389151                 0.199329                0.240242           5.799586            2       True         21\n",
      "15           XGBoost_BAG_L1    0.867402   0.870852        0.227478       0.095186   25.722861                 0.227478                0.095186          25.722861            1       True         11\n",
      "16    ExtraTreesGini_BAG_L1    0.857992   0.860906        4.119613       2.447874    3.057243                 4.119613                2.447874           3.057243            1       True          8\n",
      "17    ExtraTreesEntr_BAG_L1    0.857992   0.860930        4.610659       2.421909    3.010697                 4.610659                2.421909           3.010697            1       True          9\n",
      "18  RandomForestEntr_BAG_L1    0.857662   0.860410        2.845744       2.110142    3.635849                 2.845744                2.110142           3.635849            1       True          6\n",
      "19  RandomForestGini_BAG_L1    0.857662   0.860419        3.014276       2.108596    3.900055                 3.014276                2.108596           3.900055            1       True          5\n",
      "20    KNeighborsUnif_BAG_L1    0.726946   0.733607        6.082420      23.593365    0.195653                 6.082420               23.593365           0.195653            1       True          1\n",
      "21    KNeighborsDist_BAG_L1    0.717073   0.723743        6.481201      25.310233    0.135993                 6.481201               25.310233           0.135993            1       True          2\n",
      "22   NeuralNetFastAI_BAG_L1    0.592961   0.643692       14.508045       3.453942  312.596032                14.508045                3.453942         312.596032            1       True         10\n"
     ]
    },
    {
     "data": {
      "text/plain": "                      model  score_test  score_val  pred_time_test  \\\n0           LightGBM_BAG_L1    1.000000   1.000000        0.044971   \n1         LightGBMXT_BAG_L1    1.000000   1.000000        0.047302   \n2       WeightedEnsemble_L2    1.000000   1.000000        0.049023   \n3      LightGBMLarge_BAG_L1    1.000000   1.000000        0.692796   \n4           CatBoost_BAG_L1    1.000000   1.000000        1.488141   \n5           CatBoost_BAG_L2    1.000000   0.999992       44.199703   \n6           LightGBM_BAG_L2    1.000000   1.000000       44.226615   \n7      LightGBMLarge_BAG_L2    1.000000   1.000000       44.228395   \n8     ExtraTreesGini_BAG_L2    1.000000   1.000000       44.230879   \n9         LightGBMXT_BAG_L2    1.000000   1.000000       44.231328   \n10  RandomForestGini_BAG_L2    1.000000   1.000000       44.231898   \n11      WeightedEnsemble_L3    1.000000   1.000000       44.232434   \n12    ExtraTreesEntr_BAG_L2    1.000000   1.000000       44.234387   \n13  RandomForestEntr_BAG_L2    1.000000   1.000000       44.235653   \n14           XGBoost_BAG_L2    1.000000   1.000000       44.361975   \n15           XGBoost_BAG_L1    0.867402   0.870852        0.227478   \n16    ExtraTreesGini_BAG_L1    0.857992   0.860906        4.119613   \n17    ExtraTreesEntr_BAG_L1    0.857992   0.860930        4.610659   \n18  RandomForestEntr_BAG_L1    0.857662   0.860410        2.845744   \n19  RandomForestGini_BAG_L1    0.857662   0.860419        3.014276   \n20    KNeighborsUnif_BAG_L1    0.726946   0.733607        6.082420   \n21    KNeighborsDist_BAG_L1    0.717073   0.723743        6.481201   \n22   NeuralNetFastAI_BAG_L1    0.592961   0.643692       14.508045   \n\n    pred_time_val    fit_time  pred_time_test_marginal  \\\n0        0.036842    1.775970                 0.044971   \n1        0.044001    9.479686                 0.047302   \n2        0.177872   33.086067                 0.001721   \n3        0.040418   10.055639                 0.692796   \n4        0.033231  131.023886                 1.488141   \n5       61.839226  533.029563                 0.037058   \n6       61.750229  506.477836                 0.063969   \n7       61.733382  533.726953                 0.065750   \n8       63.358050  505.933799                 0.068233   \n9       61.754743  506.555802                 0.068682   \n10      63.388964  507.920509                 0.069252   \n11      63.481585  523.530595                 0.001555   \n12      63.364817  505.926847                 0.071741   \n13      63.414093  506.496725                 0.073008   \n14      61.935982  510.389151                 0.199329   \n15       0.095186   25.722861                 0.227478   \n16       2.447874    3.057243                 4.119613   \n17       2.421909    3.010697                 4.610659   \n18       2.110142    3.635849                 2.845744   \n19       2.108596    3.900055                 3.014276   \n20      23.593365    0.195653                 6.082420   \n21      25.310233    0.135993                 6.481201   \n22       3.453942  312.596032                14.508045   \n\n    pred_time_val_marginal  fit_time_marginal  stack_level  can_infer  \\\n0                 0.036842           1.775970            1       True   \n1                 0.044001           9.479686            1       True   \n2                 0.133871          23.606381            2       True   \n3                 0.040418          10.055639            1       True   \n4                 0.033231         131.023886            1       True   \n5                 0.143486          28.439998            2       True   \n6                 0.054489           1.888272            2       True   \n7                 0.037642          29.137388            2       True   \n8                 1.662310           1.344234            2       True   \n9                 0.059003           1.966237            2       True   \n10                1.693224           3.330944            2       True   \n11                0.123535          17.596796            3       True   \n12                1.669077           1.337283            2       True   \n13                1.718353           1.907161            2       True   \n14                0.240242           5.799586            2       True   \n15                0.095186          25.722861            1       True   \n16                2.447874           3.057243            1       True   \n17                2.421909           3.010697            1       True   \n18                2.110142           3.635849            1       True   \n19                2.108596           3.900055            1       True   \n20               23.593365           0.195653            1       True   \n21               25.310233           0.135993            1       True   \n22                3.453942         312.596032            1       True   \n\n    fit_order  \n0           4  \n1           3  \n2          13  \n3          12  \n4           7  \n5          18  \n6          15  \n7          22  \n8          19  \n9          14  \n10         16  \n11         23  \n12         20  \n13         17  \n14         21  \n15         11  \n16          8  \n17          9  \n18          6  \n19          5  \n20          1  \n21          2  \n22         10  ",
      "text/html": "<div>\n<style scoped>\n    .dataframe tbody tr th:only-of-type {\n        vertical-align: middle;\n    }\n\n    .dataframe tbody tr th {\n        vertical-align: top;\n    }\n\n    .dataframe thead th {\n        text-align: right;\n    }\n</style>\n<table border=\"1\" class=\"dataframe\">\n  <thead>\n    <tr style=\"text-align: right;\">\n      <th></th>\n      <th>model</th>\n      <th>score_test</th>\n      <th>score_val</th>\n      <th>pred_time_test</th>\n      <th>pred_time_val</th>\n      <th>fit_time</th>\n      <th>pred_time_test_marginal</th>\n      <th>pred_time_val_marginal</th>\n      <th>fit_time_marginal</th>\n      <th>stack_level</th>\n      <th>can_infer</th>\n      <th>fit_order</th>\n    </tr>\n  </thead>\n  <tbody>\n    <tr>\n      <th>0</th>\n      <td>LightGBM_BAG_L1</td>\n      <td>1.000000</td>\n      <td>1.000000</td>\n      <td>0.044971</td>\n      <td>0.036842</td>\n      <td>1.775970</td>\n      <td>0.044971</td>\n      <td>0.036842</td>\n      <td>1.775970</td>\n      <td>1</td>\n      <td>True</td>\n      <td>4</td>\n    </tr>\n    <tr>\n      <th>1</th>\n      <td>LightGBMXT_BAG_L1</td>\n      <td>1.000000</td>\n      <td>1.000000</td>\n      <td>0.047302</td>\n      <td>0.044001</td>\n      <td>9.479686</td>\n      <td>0.047302</td>\n      <td>0.044001</td>\n      <td>9.479686</td>\n      <td>1</td>\n      <td>True</td>\n      <td>3</td>\n    </tr>\n    <tr>\n      <th>2</th>\n      <td>WeightedEnsemble_L2</td>\n      <td>1.000000</td>\n      <td>1.000000</td>\n      <td>0.049023</td>\n      <td>0.177872</td>\n      <td>33.086067</td>\n      <td>0.001721</td>\n      <td>0.133871</td>\n      <td>23.606381</td>\n      <td>2</td>\n      <td>True</td>\n      <td>13</td>\n    </tr>\n    <tr>\n      <th>3</th>\n      <td>LightGBMLarge_BAG_L1</td>\n      <td>1.000000</td>\n      <td>1.000000</td>\n      <td>0.692796</td>\n      <td>0.040418</td>\n      <td>10.055639</td>\n      <td>0.692796</td>\n      <td>0.040418</td>\n      <td>10.055639</td>\n      <td>1</td>\n      <td>True</td>\n      <td>12</td>\n    </tr>\n    <tr>\n      <th>4</th>\n      <td>CatBoost_BAG_L1</td>\n      <td>1.000000</td>\n      <td>1.000000</td>\n      <td>1.488141</td>\n      <td>0.033231</td>\n      <td>131.023886</td>\n      <td>1.488141</td>\n      <td>0.033231</td>\n      <td>131.023886</td>\n      <td>1</td>\n      <td>True</td>\n      <td>7</td>\n    </tr>\n    <tr>\n      <th>5</th>\n      <td>CatBoost_BAG_L2</td>\n      <td>1.000000</td>\n      <td>0.999992</td>\n      <td>44.199703</td>\n      <td>61.839226</td>\n      <td>533.029563</td>\n      <td>0.037058</td>\n      <td>0.143486</td>\n      <td>28.439998</td>\n      <td>2</td>\n      <td>True</td>\n      <td>18</td>\n    </tr>\n    <tr>\n      <th>6</th>\n      <td>LightGBM_BAG_L2</td>\n      <td>1.000000</td>\n      <td>1.000000</td>\n      <td>44.226615</td>\n      <td>61.750229</td>\n      <td>506.477836</td>\n      <td>0.063969</td>\n      <td>0.054489</td>\n      <td>1.888272</td>\n      <td>2</td>\n      <td>True</td>\n      <td>15</td>\n    </tr>\n    <tr>\n      <th>7</th>\n      <td>LightGBMLarge_BAG_L2</td>\n      <td>1.000000</td>\n      <td>1.000000</td>\n      <td>44.228395</td>\n      <td>61.733382</td>\n      <td>533.726953</td>\n      <td>0.065750</td>\n      <td>0.037642</td>\n      <td>29.137388</td>\n      <td>2</td>\n      <td>True</td>\n      <td>22</td>\n    </tr>\n    <tr>\n      <th>8</th>\n      <td>ExtraTreesGini_BAG_L2</td>\n      <td>1.000000</td>\n      <td>1.000000</td>\n      <td>44.230879</td>\n      <td>63.358050</td>\n      <td>505.933799</td>\n      <td>0.068233</td>\n      <td>1.662310</td>\n      <td>1.344234</td>\n      <td>2</td>\n      <td>True</td>\n      <td>19</td>\n    </tr>\n    <tr>\n      <th>9</th>\n      <td>LightGBMXT_BAG_L2</td>\n      <td>1.000000</td>\n      <td>1.000000</td>\n      <td>44.231328</td>\n      <td>61.754743</td>\n      <td>506.555802</td>\n      <td>0.068682</td>\n      <td>0.059003</td>\n      <td>1.966237</td>\n      <td>2</td>\n      <td>True</td>\n      <td>14</td>\n    </tr>\n    <tr>\n      <th>10</th>\n      <td>RandomForestGini_BAG_L2</td>\n      <td>1.000000</td>\n      <td>1.000000</td>\n      <td>44.231898</td>\n      <td>63.388964</td>\n      <td>507.920509</td>\n      <td>0.069252</td>\n      <td>1.693224</td>\n      <td>3.330944</td>\n      <td>2</td>\n      <td>True</td>\n      <td>16</td>\n    </tr>\n    <tr>\n      <th>11</th>\n      <td>WeightedEnsemble_L3</td>\n      <td>1.000000</td>\n      <td>1.000000</td>\n      <td>44.232434</td>\n      <td>63.481585</td>\n      <td>523.530595</td>\n      <td>0.001555</td>\n      <td>0.123535</td>\n      <td>17.596796</td>\n      <td>3</td>\n      <td>True</td>\n      <td>23</td>\n    </tr>\n    <tr>\n      <th>12</th>\n      <td>ExtraTreesEntr_BAG_L2</td>\n      <td>1.000000</td>\n      <td>1.000000</td>\n      <td>44.234387</td>\n      <td>63.364817</td>\n      <td>505.926847</td>\n      <td>0.071741</td>\n      <td>1.669077</td>\n      <td>1.337283</td>\n      <td>2</td>\n      <td>True</td>\n      <td>20</td>\n    </tr>\n    <tr>\n      <th>13</th>\n      <td>RandomForestEntr_BAG_L2</td>\n      <td>1.000000</td>\n      <td>1.000000</td>\n      <td>44.235653</td>\n      <td>63.414093</td>\n      <td>506.496725</td>\n      <td>0.073008</td>\n      <td>1.718353</td>\n      <td>1.907161</td>\n      <td>2</td>\n      <td>True</td>\n      <td>17</td>\n    </tr>\n    <tr>\n      <th>14</th>\n      <td>XGBoost_BAG_L2</td>\n      <td>1.000000</td>\n      <td>1.000000</td>\n      <td>44.361975</td>\n      <td>61.935982</td>\n      <td>510.389151</td>\n      <td>0.199329</td>\n      <td>0.240242</td>\n      <td>5.799586</td>\n      <td>2</td>\n      <td>True</td>\n      <td>21</td>\n    </tr>\n    <tr>\n      <th>15</th>\n      <td>XGBoost_BAG_L1</td>\n      <td>0.867402</td>\n      <td>0.870852</td>\n      <td>0.227478</td>\n      <td>0.095186</td>\n      <td>25.722861</td>\n      <td>0.227478</td>\n      <td>0.095186</td>\n      <td>25.722861</td>\n      <td>1</td>\n      <td>True</td>\n      <td>11</td>\n    </tr>\n    <tr>\n      <th>16</th>\n      <td>ExtraTreesGini_BAG_L1</td>\n      <td>0.857992</td>\n      <td>0.860906</td>\n      <td>4.119613</td>\n      <td>2.447874</td>\n      <td>3.057243</td>\n      <td>4.119613</td>\n      <td>2.447874</td>\n      <td>3.057243</td>\n      <td>1</td>\n      <td>True</td>\n      <td>8</td>\n    </tr>\n    <tr>\n      <th>17</th>\n      <td>ExtraTreesEntr_BAG_L1</td>\n      <td>0.857992</td>\n      <td>0.860930</td>\n      <td>4.610659</td>\n      <td>2.421909</td>\n      <td>3.010697</td>\n      <td>4.610659</td>\n      <td>2.421909</td>\n      <td>3.010697</td>\n      <td>1</td>\n      <td>True</td>\n      <td>9</td>\n    </tr>\n    <tr>\n      <th>18</th>\n      <td>RandomForestEntr_BAG_L1</td>\n      <td>0.857662</td>\n      <td>0.860410</td>\n      <td>2.845744</td>\n      <td>2.110142</td>\n      <td>3.635849</td>\n      <td>2.845744</td>\n      <td>2.110142</td>\n      <td>3.635849</td>\n      <td>1</td>\n      <td>True</td>\n      <td>6</td>\n    </tr>\n    <tr>\n      <th>19</th>\n      <td>RandomForestGini_BAG_L1</td>\n      <td>0.857662</td>\n      <td>0.860419</td>\n      <td>3.014276</td>\n      <td>2.108596</td>\n      <td>3.900055</td>\n      <td>3.014276</td>\n      <td>2.108596</td>\n      <td>3.900055</td>\n      <td>1</td>\n      <td>True</td>\n      <td>5</td>\n    </tr>\n    <tr>\n      <th>20</th>\n      <td>KNeighborsUnif_BAG_L1</td>\n      <td>0.726946</td>\n      <td>0.733607</td>\n      <td>6.082420</td>\n      <td>23.593365</td>\n      <td>0.195653</td>\n      <td>6.082420</td>\n      <td>23.593365</td>\n      <td>0.195653</td>\n      <td>1</td>\n      <td>True</td>\n      <td>1</td>\n    </tr>\n    <tr>\n      <th>21</th>\n      <td>KNeighborsDist_BAG_L1</td>\n      <td>0.717073</td>\n      <td>0.723743</td>\n      <td>6.481201</td>\n      <td>25.310233</td>\n      <td>0.135993</td>\n      <td>6.481201</td>\n      <td>25.310233</td>\n      <td>0.135993</td>\n      <td>1</td>\n      <td>True</td>\n      <td>2</td>\n    </tr>\n    <tr>\n      <th>22</th>\n      <td>NeuralNetFastAI_BAG_L1</td>\n      <td>0.592961</td>\n      <td>0.643692</td>\n      <td>14.508045</td>\n      <td>3.453942</td>\n      <td>312.596032</td>\n      <td>14.508045</td>\n      <td>3.453942</td>\n      <td>312.596032</td>\n      <td>1</td>\n      <td>True</td>\n      <td>10</td>\n    </tr>\n  </tbody>\n</table>\n</div>"
     },
     "execution_count": 9,
     "metadata": {},
     "output_type": "execute_result"
    }
   ],
   "source": [
    "test_data = TabularDataset(\"./Data/split/test_data.csv\")\n",
    "RF_predictor.leaderboard(test_data)"
   ],
   "metadata": {
    "collapsed": false,
    "pycharm": {
     "name": "#%%\n"
    }
   }
  },
  {
   "cell_type": "markdown",
   "source": [
    "## high quality"
   ],
   "metadata": {
    "collapsed": false
   }
  },
  {
   "cell_type": "code",
   "execution_count": 10,
   "outputs": [
    {
     "name": "stderr",
     "output_type": "stream",
     "text": [
      "Warning: path already exists! This predictor may overwrite an existing predictor! path=\"./auto_gl/exp-iot23/high_q\"\n",
      "Presets specified: ['high_quality']\n",
      "Warning: Training may take a very long time because `time_limit` was not specified and `train_data` is large (121148 samples, 36.89 MB).\n",
      "\tConsider setting `time_limit` to ensure training finishes within an expected duration or experiment with a small portion of `train_data` to identify an ideal `presets` and `hyperparameters` configuration.\n",
      "Beginning AutoGluon training ...\n",
      "AutoGluon will save models to \"./auto_gl/exp-iot23/high_q/\"\n",
      "AutoGluon Version:  0.4.0\n",
      "Python Version:     3.8.13\n",
      "Operating System:   Linux\n",
      "Train Data Rows:    121148\n",
      "Train Data Columns: 30\n",
      "Label Column: label\n",
      "Preprocessing data ...\n",
      "AutoGluon infers your prediction problem is: 'binary' (because only two unique label-values observed).\n",
      "\t2 unique label values:  ['Benign', 'Malicious']\n",
      "\tIf 'binary' is not the correct problem_type, please manually specify the problem_type parameter during predictor init (You may specify problem_type as one of: ['binary', 'multiclass', 'regression'])\n",
      "Selected class <--> label mapping:  class 1 = Malicious, class 0 = Benign\n",
      "\tNote: For your binary classification, AutoGluon arbitrarily selected which label-value represents positive (Malicious) vs negative (Benign) class.\n",
      "\tTo explicitly set the positive_class, either rename classes to 1 and 0, or specify positive_class in Predictor init.\n",
      "Using Feature Generators to preprocess the data ...\n",
      "Fitting AutoMLPipelineFeatureGenerator...\n",
      "\tAvailable Memory:                    12263.2 MB\n",
      "\tTrain Data (Original)  Memory Usage: 29.08 MB (0.2% of available memory)\n",
      "\tInferring data type of each feature based on column values. Set feature_metadata_in to manually specify special dtypes of the features.\n",
      "\tStage 1 Generators:\n",
      "\t\tFitting AsTypeFeatureGenerator...\n",
      "\t\t\tNote: Converting 21 features to boolean dtype as they only contain 2 unique values.\n",
      "\tStage 2 Generators:\n",
      "\t\tFitting FillNaFeatureGenerator...\n",
      "\tStage 3 Generators:\n",
      "\t\tFitting IdentityFeatureGenerator...\n",
      "\tStage 4 Generators:\n",
      "\t\tFitting DropUniqueFeatureGenerator...\n",
      "\tTypes of features in original data (raw dtype, special dtypes):\n",
      "\t\t('float', []) :  7 | ['duration', 'missed_bytes', 'orig_pkts', 'orig_ip_bytes', 'resp_pkts', ...]\n",
      "\t\t('int', [])   : 23 | ['orig_bytes', 'resp_bytes', 'proto_tcp', 'proto_udp', 'service_-', ...]\n",
      "\tTypes of features in processed data (raw dtype, special dtypes):\n",
      "\t\t('float', [])     :  7 | ['duration', 'missed_bytes', 'orig_pkts', 'orig_ip_bytes', 'resp_pkts', ...]\n",
      "\t\t('int', [])       :  2 | ['orig_bytes', 'resp_bytes']\n",
      "\t\t('int', ['bool']) : 21 | ['proto_tcp', 'proto_udp', 'service_-', 'service_dhcp', 'service_dns', ...]\n",
      "\t0.2s = Fit runtime\n",
      "\t30 features in original data used to generate 30 features in processed data.\n",
      "\tTrain Data (Processed) Memory Usage: 11.27 MB (0.1% of available memory)\n",
      "Data preprocessing and feature engineering runtime = 0.28s ...\n",
      "AutoGluon will gauge predictive performance using evaluation metric: 'accuracy'\n",
      "\tTo change this, specify the eval_metric parameter of Predictor()\n",
      "AutoGluon will fit 2 stack levels (L1 to L2) ...\n",
      "Fitting 13 L1 models ...\n",
      "Fitting model: KNeighborsUnif_BAG_L1 ...\n",
      "\t0.7336\t = Validation score   (accuracy)\n",
      "\t0.13s\t = Training   runtime\n",
      "\t24.61s\t = Validation runtime\n",
      "Fitting model: KNeighborsDist_BAG_L1 ...\n",
      "\t0.7237\t = Validation score   (accuracy)\n",
      "\t0.12s\t = Training   runtime\n",
      "\t24.4s\t = Validation runtime\n",
      "Fitting model: LightGBMXT_BAG_L1 ...\n",
      "\tFitting 8 child models (S1F1 - S1F8) | Fitting with ParallelLocalFoldFittingStrategy\n",
      "2022-05-12 15:00:32,183\tWARNING services.py:1748 -- WARNING: The object store is using /tmp instead of /dev/shm because /dev/shm has only 3557904384 bytes available. This will harm performance! You may be able to free up space by deleting files in /dev/shm. If you are inside a Docker container, you can increase /dev/shm size by passing '--shm-size=3.88gb' to 'docker run' (or add it to the run_options list in a Ray cluster config). Make sure to set this to more than 30% of available RAM.\n",
      "\t1.0\t = Validation score   (accuracy)\n",
      "\t1.86s\t = Training   runtime\n",
      "\t0.04s\t = Validation runtime\n",
      "Fitting model: LightGBM_BAG_L1 ...\n",
      "\tFitting 8 child models (S1F1 - S1F8) | Fitting with ParallelLocalFoldFittingStrategy\n",
      "\t1.0\t = Validation score   (accuracy)\n",
      "\t1.96s\t = Training   runtime\n",
      "\t0.04s\t = Validation runtime\n",
      "Fitting model: RandomForestGini_BAG_L1 ...\n",
      "\t0.8604\t = Validation score   (accuracy)\n",
      "\t3.34s\t = Training   runtime\n",
      "\t2.07s\t = Validation runtime\n",
      "Fitting model: RandomForestEntr_BAG_L1 ...\n",
      "\t0.8604\t = Validation score   (accuracy)\n",
      "\t3.67s\t = Training   runtime\n",
      "\t2.08s\t = Validation runtime\n",
      "Fitting model: CatBoost_BAG_L1 ...\n",
      "\tFitting 8 child models (S1F1 - S1F8) | Fitting with ParallelLocalFoldFittingStrategy\n",
      "2022-05-12 15:01:12,497\tWARNING worker.py:1228 -- A worker died or was killed while executing a task by an unexpected system error. To troubleshoot the problem, check the logs for the dead worker. RayTask ID: 5576d9e8d786fd3831e2fb1642d06f17d2ca6a3d9f2c3b5b Worker ID: 06a0212727dcb43f2f8b0e4f070f9ae3e8d8ad8b60d1022a4fec9b9b Node ID: 9c4110c72cae824271f2eb8b3e304b3fb63d3335a6c0b4a7cf5926f2 Worker IP address: 192.168.0.133 Worker port: 41667 Worker PID: 24679\n",
      "2022-05-12 15:01:12,497\tWARNING worker.py:1228 -- 3 retries left for task 34c9c2094e42fdbfffffffffffffffffffffffff01000000, attempting to resubmit.\n",
      "2022-05-12 15:01:12,518\tWARNING worker.py:1228 -- A worker died or was killed while executing a task by an unexpected system error. To troubleshoot the problem, check the logs for the dead worker. RayTask ID: 0e4ea71cf54a3b31ac466e71d4d6e3ea4c635a1956910dce Worker ID: 8f0b3162507f380442faa9583010b3aaef7d5425d0fafcc485ec24c1 Node ID: 9c4110c72cae824271f2eb8b3e304b3fb63d3335a6c0b4a7cf5926f2 Worker IP address: 192.168.0.133 Worker port: 42463 Worker PID: 24678\n",
      "2022-05-12 15:01:12,519\tWARNING worker.py:1228 -- 3 retries left for task 27c0dca5954f99afffffffffffffffffffffffff01000000, attempting to resubmit.\n",
      "2022-05-12 15:01:12,529\tWARNING worker.py:1228 -- A worker died or was killed while executing a task by an unexpected system error. To troubleshoot the problem, check the logs for the dead worker. RayTask ID: ccfd6f7e50fd3fc433f4cb17bc0acb93413d5ef040310b1d Worker ID: b5c2bc396bdc5f915444ebe06e11fb968b88a9961b45b0fce9bc61bf Node ID: 9c4110c72cae824271f2eb8b3e304b3fb63d3335a6c0b4a7cf5926f2 Worker IP address: 192.168.0.133 Worker port: 43057 Worker PID: 24674\n",
      "2022-05-12 15:01:12,530\tWARNING worker.py:1228 -- 3 retries left for task 24eed4584329c19affffffffffffffffffffffff01000000, attempting to resubmit.\n",
      "2022-05-12 15:01:12,551\tWARNING worker.py:1228 -- A worker died or was killed while executing a task by an unexpected system error. To troubleshoot the problem, check the logs for the dead worker. RayTask ID: 3ea139a76dbf50b40333d4ee3af677ec7570df3a7664f15e Worker ID: 52cdadd459fa21ab91dc62b0aee45f5a64f58c07ad35931d753b3315 Node ID: 9c4110c72cae824271f2eb8b3e304b3fb63d3335a6c0b4a7cf5926f2 Worker IP address: 192.168.0.133 Worker port: 46603 Worker PID: 24677\n",
      "2022-05-12 15:01:12,551\tWARNING worker.py:1228 -- 3 retries left for task 42867781e3b6e074ffffffffffffffffffffffff01000000, attempting to resubmit.\n",
      "2022-05-12 15:01:12,562\tWARNING worker.py:1228 -- A worker died or was killed while executing a task by an unexpected system error. To troubleshoot the problem, check the logs for the dead worker. RayTask ID: e2133c6e67f27ced72baba12b691afe890e46b9afb1ccdb1 Worker ID: 7926188c758c5e1af97cf929f9abfe2bfd64afee6c9a26844362369f Node ID: 9c4110c72cae824271f2eb8b3e304b3fb63d3335a6c0b4a7cf5926f2 Worker IP address: 192.168.0.133 Worker port: 36313 Worker PID: 24681\n",
      "2022-05-12 15:01:12,562\tWARNING worker.py:1228 -- 3 retries left for task e11fe2800445c79affffffffffffffffffffffff01000000, attempting to resubmit.\n",
      "2022-05-12 15:01:12,583\tWARNING worker.py:1228 -- A worker died or was killed while executing a task by an unexpected system error. To troubleshoot the problem, check the logs for the dead worker. RayTask ID: dcf0d329d3636c64cc8d632aa63a05dac49345b6eeaabaa8 Worker ID: b8ee4981b176187f14dee692a2cd7983880b72b953cd99c612430df8 Node ID: 9c4110c72cae824271f2eb8b3e304b3fb63d3335a6c0b4a7cf5926f2 Worker IP address: 192.168.0.133 Worker port: 39187 Worker PID: 24676\n",
      "2022-05-12 15:01:12,583\tWARNING worker.py:1228 -- 3 retries left for task cc0320e00aa0584cffffffffffffffffffffffff01000000, attempting to resubmit.\n",
      "2022-05-12 15:01:21,837\tWARNING worker.py:1228 -- A worker died or was killed while executing a task by an unexpected system error. To troubleshoot the problem, check the logs for the dead worker. RayTask ID: c5182b791f0d6658cfc9ee527e3f168d6452037809d05d98 Worker ID: 5a198c7390d93f29cdea94a6929d314c707215f3f3c392c0dad6ac50 Node ID: 9c4110c72cae824271f2eb8b3e304b3fb63d3335a6c0b4a7cf5926f2 Worker IP address: 192.168.0.133 Worker port: 40715 Worker PID: 25091\n",
      "2022-05-12 15:01:21,837\tWARNING worker.py:1228 -- 2 retries left for task e11fe2800445c79affffffffffffffffffffffff01000000, attempting to resubmit.\n",
      "2022-05-12 15:01:21,858\tWARNING worker.py:1228 -- A worker died or was killed while executing a task by an unexpected system error. To troubleshoot the problem, check the logs for the dead worker. RayTask ID: d8d0190623c15095efa141a3d0012779d55d3207d82ce539 Worker ID: 4c2feaf6be0f1e5372b29a8d02c21a6d72f17fc3e97dbe1daa342570 Node ID: 9c4110c72cae824271f2eb8b3e304b3fb63d3335a6c0b4a7cf5926f2 Worker IP address: 192.168.0.133 Worker port: 36433 Worker PID: 25089\n",
      "2022-05-12 15:01:21,859\tWARNING worker.py:1228 -- 2 retries left for task 24eed4584329c19affffffffffffffffffffffff01000000, attempting to resubmit.\n",
      "2022-05-12 15:01:21,879\tWARNING worker.py:1228 -- A worker died or was killed while executing a task by an unexpected system error. To troubleshoot the problem, check the logs for the dead worker. RayTask ID: b71454560f743e17832da8d9d9fbe70c164902afe34266bb Worker ID: 91b9e0fa42d15f33bf04e0624071fe98a2c73cbd9b8be9d2d9cc54f7 Node ID: 9c4110c72cae824271f2eb8b3e304b3fb63d3335a6c0b4a7cf5926f2 Worker IP address: 192.168.0.133 Worker port: 43367 Worker PID: 25092\n",
      "2022-05-12 15:01:21,880\tWARNING worker.py:1228 -- 2 retries left for task cc0320e00aa0584cffffffffffffffffffffffff01000000, attempting to resubmit.\n",
      "\t1.0\t = Validation score   (accuracy)\n",
      "\t23.66s\t = Training   runtime\n",
      "\t0.02s\t = Validation runtime\n",
      "Fitting model: ExtraTreesGini_BAG_L1 ...\n",
      "\t0.8609\t = Validation score   (accuracy)\n",
      "\t2.67s\t = Training   runtime\n",
      "\t2.26s\t = Validation runtime\n",
      "Fitting model: ExtraTreesEntr_BAG_L1 ...\n",
      "\t0.8609\t = Validation score   (accuracy)\n",
      "\t2.65s\t = Training   runtime\n",
      "\t2.28s\t = Validation runtime\n",
      "Fitting model: NeuralNetFastAI_BAG_L1 ...\n",
      "\tFitting 8 child models (S1F1 - S1F8) | Fitting with ParallelLocalFoldFittingStrategy\n",
      "2022-05-12 15:02:10,823\tWARNING worker.py:1228 -- This worker was asked to execute a function that it does not have registered. You may have to restart Ray.\n",
      "2022-05-12 15:02:10,824\tWARNING worker.py:1228 -- This worker was asked to execute a function that it does not have registered. You may have to restart Ray.\n",
      "2022-05-12 15:02:11,457\tWARNING worker.py:1228 -- This worker was asked to execute a function that it does not have registered. You may have to restart Ray.\n",
      "2022-05-12 15:02:12,332\tWARNING worker.py:1228 -- This worker was asked to execute a function that it does not have registered. You may have to restart Ray.\n",
      "2022-05-12 15:02:12,333\tWARNING worker.py:1228 -- This worker was asked to execute a function that it does not have registered. You may have to restart Ray.\n",
      "2022-05-12 15:02:12,333\tWARNING worker.py:1228 -- This worker was asked to execute a function that it does not have registered. You may have to restart Ray.\n",
      "2022-05-12 15:02:12,354\tWARNING worker.py:1228 -- This worker was asked to execute a function that it does not have registered. You may have to restart Ray.\n",
      "2022-05-12 15:03:53,677\tWARNING worker.py:1228 -- A worker died or was killed while executing a task by an unexpected system error. To troubleshoot the problem, check the logs for the dead worker. RayTask ID: b221402f07a770292d89fcddf9a4a72b7f1178337f9bd047 Worker ID: 160ad94954078abf7cbd535a530201844c85b67bd07c019e1e438e33 Node ID: 9c4110c72cae824271f2eb8b3e304b3fb63d3335a6c0b4a7cf5926f2 Worker IP address: 192.168.0.133 Worker port: 36553 Worker PID: 25414\n",
      "2022-05-12 15:03:54,289\tWARNING worker.py:1228 -- 3 retries left for task 139e431dd460af76ffffffffffffffffffffffff01000000, attempting to resubmit.\n",
      "2022-05-12 15:04:16,791\tWARNING worker.py:1228 -- A worker died or was killed while executing a task by an unexpected system error. To troubleshoot the problem, check the logs for the dead worker. RayTask ID: c1c12d75fd973f979364a65ac45abaa509ab7568eb7d28c3 Worker ID: 7ec017bb5362d8a63d315e2e2422dfe758e5203f84fb710c0121e750 Node ID: 9c4110c72cae824271f2eb8b3e304b3fb63d3335a6c0b4a7cf5926f2 Worker IP address: 192.168.0.133 Worker port: 36647 Worker PID: 25720\n",
      "2022-05-12 15:04:17,047\tWARNING worker.py:1228 -- 3 retries left for task bbde8638d39a1245ffffffffffffffffffffffff01000000, attempting to resubmit.\n",
      "2022-05-12 15:05:45,610\tWARNING worker.py:1228 -- This worker was asked to execute a function that it does not have registered. You may have to restart Ray.\n",
      "\t0.6437\t = Validation score   (accuracy)\n",
      "\t269.01s\t = Training   runtime\n",
      "\t2.44s\t = Validation runtime\n",
      "Fitting model: XGBoost_BAG_L1 ...\n",
      "\tFitting 8 child models (S1F1 - S1F8) | Fitting with ParallelLocalFoldFittingStrategy\n",
      "\t0.8709\t = Validation score   (accuracy)\n",
      "\t12.32s\t = Training   runtime\n",
      "\t0.11s\t = Validation runtime\n",
      "Fitting model: NeuralNetTorch_BAG_L1 ...\n",
      "\tFitting 8 child models (S1F1 - S1F8) | Fitting with ParallelLocalFoldFittingStrategy\n",
      "2022-05-12 15:07:55,654\tWARNING worker.py:1228 -- A worker died or was killed while executing a task by an unexpected system error. To troubleshoot the problem, check the logs for the dead worker. RayTask ID: 41d43e3eb6bbf4dd02cc385717aa3f67d62d09b5c01f1ac6 Worker ID: c2fd5a62f11b9981aad9b3c003c8339b6e95d69dec6f90b5f093bb52 Node ID: 9c4110c72cae824271f2eb8b3e304b3fb63d3335a6c0b4a7cf5926f2 Worker IP address: 192.168.0.133 Worker port: 34333 Worker PID: 26283\n",
      "2022-05-12 15:07:56,329\tWARNING worker.py:1228 -- 3 retries left for task 6f4f08f301901921ffffffffffffffffffffffff01000000, attempting to resubmit.\n",
      "2022-05-12 15:08:56,482\tWARNING worker.py:1228 -- A worker died or was killed while executing a task by an unexpected system error. To troubleshoot the problem, check the logs for the dead worker. RayTask ID: 0b9a547fb7754b8ef26014bc642f1d64e8aab48a1e887ca9 Worker ID: 4a2d052d6d6c6f0fbe9faf3bfd99f1f5cbf39894c6475f24ad7179ac Node ID: 9c4110c72cae824271f2eb8b3e304b3fb63d3335a6c0b4a7cf5926f2 Worker IP address: 192.168.0.133 Worker port: 45029 Worker PID: 26533\n",
      "2022-05-12 15:08:56,736\tWARNING worker.py:1228 -- 3 retries left for task 7513710212de102affffffffffffffffffffffff01000000, attempting to resubmit.\n",
      "2022-05-12 15:09:20,019\tWARNING worker.py:1228 -- A worker died or was killed while executing a task by an unexpected system error. To troubleshoot the problem, check the logs for the dead worker. RayTask ID: 9bfc8a26f2a30feceb63f13cdde42dd39464a068dc1ecf18 Worker ID: db56e3e9d04c738049c95f4c463fc5c95780adcb0bdc4ebc9f2ed49c Node ID: 9c4110c72cae824271f2eb8b3e304b3fb63d3335a6c0b4a7cf5926f2 Worker IP address: 192.168.0.133 Worker port: 45011 Worker PID: 26527\n",
      "2022-05-12 15:09:20,020\tWARNING worker.py:1228 -- 2 retries left for task 6f4f08f301901921ffffffffffffffffffffffff01000000, attempting to resubmit.\n",
      "2022-05-12 15:09:56,894\tWARNING worker.py:1228 -- This worker was asked to execute a function that it does not have registered. You may have to restart Ray.\n",
      "2022-05-12 15:09:56,895\tWARNING worker.py:1228 -- This worker was asked to execute a function that it does not have registered. You may have to restart Ray.\n",
      "\t0.871\t = Validation score   (accuracy)\n",
      "\t260.84s\t = Training   runtime\n",
      "\t0.81s\t = Validation runtime\n",
      "Fitting model: LightGBMLarge_BAG_L1 ...\n",
      "\tFitting 8 child models (S1F1 - S1F8) | Fitting with ParallelLocalFoldFittingStrategy\n",
      "\t1.0\t = Validation score   (accuracy)\n",
      "\t10.75s\t = Training   runtime\n",
      "\t0.04s\t = Validation runtime\n",
      "Fitting model: WeightedEnsemble_L2 ...\n",
      "\t1.0\t = Validation score   (accuracy)\n",
      "\t25.34s\t = Training   runtime\n",
      "\t0.12s\t = Validation runtime\n",
      "Fitting 11 L2 models ...\n",
      "Fitting model: LightGBMXT_BAG_L2 ...\n",
      "\tFitting 8 child models (S1F1 - S1F8) | Fitting with ParallelLocalFoldFittingStrategy\n",
      "\t1.0\t = Validation score   (accuracy)\n",
      "\t4.77s\t = Training   runtime\n",
      "\t0.05s\t = Validation runtime\n",
      "Fitting model: LightGBM_BAG_L2 ...\n",
      "\tFitting 8 child models (S1F1 - S1F8) | Fitting with ParallelLocalFoldFittingStrategy\n",
      "\t1.0\t = Validation score   (accuracy)\n",
      "\t4.79s\t = Training   runtime\n",
      "\t0.05s\t = Validation runtime\n",
      "Fitting model: RandomForestGini_BAG_L2 ...\n",
      "\t1.0\t = Validation score   (accuracy)\n",
      "\t4.22s\t = Training   runtime\n",
      "\t2.01s\t = Validation runtime\n",
      "Fitting model: RandomForestEntr_BAG_L2 ...\n",
      "\t1.0\t = Validation score   (accuracy)\n",
      "\t1.95s\t = Training   runtime\n",
      "\t1.76s\t = Validation runtime\n",
      "Fitting model: CatBoost_BAG_L2 ...\n",
      "\tFitting 8 child models (S1F1 - S1F8) | Fitting with ParallelLocalFoldFittingStrategy\n",
      "2022-05-12 15:12:44,918\tWARNING worker.py:1228 -- A worker died or was killed while executing a task by an unexpected system error. To troubleshoot the problem, check the logs for the dead worker. RayTask ID: 001fdf57bd661db1e31020b683e22dc1ca5f77cba963f685 Worker ID: d8a05b9d834b3c2c480e4978de659cd71416b89a16e5f17037af7587 Node ID: 9c4110c72cae824271f2eb8b3e304b3fb63d3335a6c0b4a7cf5926f2 Worker IP address: 192.168.0.133 Worker port: 45425 Worker PID: 27939\n",
      "2022-05-12 15:12:44,919\tWARNING worker.py:1228 -- 3 retries left for task b9c64831282591f9ffffffffffffffffffffffff01000000, attempting to resubmit.\n",
      "2022-05-12 15:12:44,929\tWARNING worker.py:1228 -- A worker died or was killed while executing a task by an unexpected system error. To troubleshoot the problem, check the logs for the dead worker. RayTask ID: bf348d007f72fc6dff6819a61720a3caf75566f5e7ae123d Worker ID: 72de8948605698cb2e4c0b90895ddd68ccf54bd0e0c328124163130e Node ID: 9c4110c72cae824271f2eb8b3e304b3fb63d3335a6c0b4a7cf5926f2 Worker IP address: 192.168.0.133 Worker port: 43773 Worker PID: 27933\n",
      "2022-05-12 15:12:44,930\tWARNING worker.py:1228 -- 3 retries left for task aae99729138a74d2ffffffffffffffffffffffff01000000, attempting to resubmit.\n",
      "2022-05-12 15:12:44,951\tWARNING worker.py:1228 -- A worker died or was killed while executing a task by an unexpected system error. To troubleshoot the problem, check the logs for the dead worker. RayTask ID: 432c04c5b1dc2b97dd6846291bc4bcf484ceff1009984cb9 Worker ID: 53c53ae4a796d4525c2417be78264bfded41b4c25f1c437314eaf33e Node ID: 9c4110c72cae824271f2eb8b3e304b3fb63d3335a6c0b4a7cf5926f2 Worker IP address: 192.168.0.133 Worker port: 36785 Worker PID: 27936\n",
      "2022-05-12 15:12:44,952\tWARNING worker.py:1228 -- 3 retries left for task 2638cdc57fda8d43ffffffffffffffffffffffff01000000, attempting to resubmit.\n",
      "2022-05-12 15:12:44,972\tWARNING worker.py:1228 -- A worker died or was killed while executing a task by an unexpected system error. To troubleshoot the problem, check the logs for the dead worker. RayTask ID: d65c3ed59b7fd03688bf61ac02d5c7f35345a6d67f574823 Worker ID: 481433a3c77c17a102e5599bf3a04e9b0b536b823b95d49789f97613 Node ID: 9c4110c72cae824271f2eb8b3e304b3fb63d3335a6c0b4a7cf5926f2 Worker IP address: 192.168.0.133 Worker port: 41857 Worker PID: 27934\n",
      "2022-05-12 15:12:44,973\tWARNING worker.py:1228 -- 3 retries left for task c0e56a21dcb5fe64ffffffffffffffffffffffff01000000, attempting to resubmit.\n",
      "2022-05-12 15:12:44,994\tWARNING worker.py:1228 -- A worker died or was killed while executing a task by an unexpected system error. To troubleshoot the problem, check the logs for the dead worker. RayTask ID: a47b4af9149bb466ddb4ab613ac4fa43be7702788f16c21b Worker ID: 897a99b30bf89e266aa182f756df47facec35ac7ef56058f121aaba3 Node ID: 9c4110c72cae824271f2eb8b3e304b3fb63d3335a6c0b4a7cf5926f2 Worker IP address: 192.168.0.133 Worker port: 38915 Worker PID: 27935\n",
      "2022-05-12 15:12:44,994\tWARNING worker.py:1228 -- 3 retries left for task 764f8475f05bf001ffffffffffffffffffffffff01000000, attempting to resubmit.\n",
      "2022-05-12 15:12:53,857\tWARNING worker.py:1228 -- A worker died or was killed while executing a task by an unexpected system error. To troubleshoot the problem, check the logs for the dead worker. RayTask ID: a28387e09a5b062bd173dfd8b05576d492cb3999a42e36d2 Worker ID: 5e732a8cbf22aa8c4bc0ff97044cbdd4ca2d00becdb2cbbd1276c2d5 Node ID: 9c4110c72cae824271f2eb8b3e304b3fb63d3335a6c0b4a7cf5926f2 Worker IP address: 192.168.0.133 Worker port: 33841 Worker PID: 28350\n",
      "2022-05-12 15:12:53,857\tWARNING worker.py:1228 -- 2 retries left for task c0e56a21dcb5fe64ffffffffffffffffffffffff01000000, attempting to resubmit.\n",
      "2022-05-12 15:12:53,868\tWARNING worker.py:1228 -- A worker died or was killed while executing a task by an unexpected system error. To troubleshoot the problem, check the logs for the dead worker. RayTask ID: c55d0ba96bd6420fe46cfef1aa764ccc6831765637cb5db5 Worker ID: facb13396cec706d9d3b77bca4bda3221bb9fbb83f7d95a7749d38d2 Node ID: 9c4110c72cae824271f2eb8b3e304b3fb63d3335a6c0b4a7cf5926f2 Worker IP address: 192.168.0.133 Worker port: 39889 Worker PID: 28351\n",
      "2022-05-12 15:12:53,868\tWARNING worker.py:1228 -- 2 retries left for task 764f8475f05bf001ffffffffffffffffffffffff01000000, attempting to resubmit.\n",
      "\t1.0\t = Validation score   (accuracy)\n",
      "\t28.75s\t = Training   runtime\n",
      "\t0.03s\t = Validation runtime\n",
      "Fitting model: ExtraTreesGini_BAG_L2 ...\n",
      "\t1.0\t = Validation score   (accuracy)\n",
      "\t1.34s\t = Training   runtime\n",
      "\t1.76s\t = Validation runtime\n",
      "Fitting model: ExtraTreesEntr_BAG_L2 ...\n",
      "\t1.0\t = Validation score   (accuracy)\n",
      "\t1.34s\t = Training   runtime\n",
      "\t1.75s\t = Validation runtime\n",
      "Fitting model: NeuralNetFastAI_BAG_L2 ...\n",
      "\tFitting 8 child models (S1F1 - S1F8) | Fitting with ParallelLocalFoldFittingStrategy\n",
      "2022-05-12 15:14:03,682\tWARNING worker.py:1228 -- A worker died or was killed while executing a task by an unexpected system error. To troubleshoot the problem, check the logs for the dead worker. RayTask ID: 6f18dda447272904b6c8d578bb02a394dff8291a9af9f922 Worker ID: 39a334c81443dc671947c1e8ca3d959efb62cda658afa1b3d9151eee Node ID: 9c4110c72cae824271f2eb8b3e304b3fb63d3335a6c0b4a7cf5926f2 Worker IP address: 192.168.0.133 Worker port: 37455 Worker PID: 28644\n",
      "2022-05-12 15:14:04,425\tWARNING worker.py:1228 -- 3 retries left for task faf123d8b1b35293ffffffffffffffffffffffff01000000, attempting to resubmit.\n",
      "2022-05-12 15:14:28,730\tWARNING worker.py:1228 -- A worker died or was killed while executing a task by an unexpected system error. To troubleshoot the problem, check the logs for the dead worker. RayTask ID: 5359a2728ce5d590cd0c6382e16cf0a4ca49d064f63f3069 Worker ID: c2c135a01a70d1379d97bbe37aace5c4ebd44580d8a79ba4c9186114 Node ID: 9c4110c72cae824271f2eb8b3e304b3fb63d3335a6c0b4a7cf5926f2 Worker IP address: 192.168.0.133 Worker port: 46381 Worker PID: 28830\n",
      "2022-05-12 15:14:29,494\tWARNING worker.py:1228 -- 3 retries left for task 6346e12fbb9bd273ffffffffffffffffffffffff01000000, attempting to resubmit.\n",
      "2022-05-12 15:15:57,869\tWARNING worker.py:1228 -- This worker was asked to execute a function that it does not have registered. You may have to restart Ray.\n",
      "\t1.0\t = Validation score   (accuracy)\n",
      "\t220.44s\t = Training   runtime\n",
      "\t1.26s\t = Validation runtime\n",
      "Fitting model: XGBoost_BAG_L2 ...\n",
      "\tFitting 8 child models (S1F1 - S1F8) | Fitting with ParallelLocalFoldFittingStrategy\n",
      "\t1.0\t = Validation score   (accuracy)\n",
      "\t12.68s\t = Training   runtime\n",
      "\t0.14s\t = Validation runtime\n",
      "Fitting model: NeuralNetTorch_BAG_L2 ...\n",
      "\tFitting 8 child models (S1F1 - S1F8) | Fitting with ParallelLocalFoldFittingStrategy\n",
      "2022-05-12 15:17:48,768\tWARNING worker.py:1228 -- A worker died or was killed while executing a task by an unexpected system error. To troubleshoot the problem, check the logs for the dead worker. RayTask ID: b85b4f6c3aac5c826dd700db96d73b8d2be13385e69f4f6f Worker ID: d9ee71cd7bb892da220690645099d632f0c14ad2cfef2bbac0fccd7b Node ID: 9c4110c72cae824271f2eb8b3e304b3fb63d3335a6c0b4a7cf5926f2 Worker IP address: 192.168.0.133 Worker port: 36915 Worker PID: 29367\n",
      "2022-05-12 15:17:49,685\tWARNING worker.py:1228 -- 3 retries left for task 671f1fd57bc3e36effffffffffffffffffffffff01000000, attempting to resubmit.\n",
      "\tWarning: Exception caused NeuralNetTorch_BAG_L2 to fail during training... Skipping this model.\n",
      "\t\t\u001B[36mray::_ray_fit()\u001B[39m (pid=29629, ip=192.168.0.133)\n",
      "  File \"/media/wuguo-buaa/LENOVO_USB_HDD/PycharmProjects/Machine_learning_venv/lib/python3.8/site-packages/autogluon/core/models/ensemble/fold_fitting_strategy.py\", line 288, in _ray_fit\n",
      "    fold_model.fit(X=X_fold, y=y_fold, X_val=X_val_fold, y_val=y_val_fold,\n",
      "  File \"/media/wuguo-buaa/LENOVO_USB_HDD/PycharmProjects/Machine_learning_venv/lib/python3.8/site-packages/autogluon/core/models/abstract/abstract_model.py\", line 577, in fit\n",
      "    out = self._fit(**kwargs)\n",
      "  File \"/media/wuguo-buaa/LENOVO_USB_HDD/PycharmProjects/Machine_learning_venv/lib/python3.8/site-packages/autogluon/tabular/models/tabular_nn/torch/tabular_nn_torch.py\", line 183, in _fit\n",
      "    self._get_net(train_dataset, params=params)\n",
      "  File \"/media/wuguo-buaa/LENOVO_USB_HDD/PycharmProjects/Machine_learning_venv/lib/python3.8/site-packages/autogluon/tabular/models/tabular_nn/torch/tabular_nn_torch.py\", line 212, in _get_net\n",
      "    self.model = self.model.to(self.device)\n",
      "  File \"/media/wuguo-buaa/LENOVO_USB_HDD/PycharmProjects/Machine_learning_venv/lib/python3.8/site-packages/torch/nn/modules/module.py\", line 899, in to\n",
      "    return self._apply(convert)\n",
      "  File \"/media/wuguo-buaa/LENOVO_USB_HDD/PycharmProjects/Machine_learning_venv/lib/python3.8/site-packages/torch/nn/modules/module.py\", line 570, in _apply\n",
      "    module._apply(fn)\n",
      "  File \"/media/wuguo-buaa/LENOVO_USB_HDD/PycharmProjects/Machine_learning_venv/lib/python3.8/site-packages/torch/nn/modules/module.py\", line 570, in _apply\n",
      "    module._apply(fn)\n",
      "  File \"/media/wuguo-buaa/LENOVO_USB_HDD/PycharmProjects/Machine_learning_venv/lib/python3.8/site-packages/torch/nn/modules/module.py\", line 593, in _apply\n",
      "    param_applied = fn(param)\n",
      "  File \"/media/wuguo-buaa/LENOVO_USB_HDD/PycharmProjects/Machine_learning_venv/lib/python3.8/site-packages/torch/nn/modules/module.py\", line 897, in convert\n",
      "    return t.to(device, dtype if t.is_floating_point() or t.is_complex() else None, non_blocking)\n",
      "RuntimeError: CUDA error: unknown error\n",
      "CUDA kernel errors might be asynchronously reported at some other API call,so the stacktrace below might be incorrect.\n",
      "For debugging consider passing CUDA_LAUNCH_BLOCKING=1.\n",
      "Detailed Traceback:\n",
      "Traceback (most recent call last):\n",
      "  File \"/media/wuguo-buaa/LENOVO_USB_HDD/PycharmProjects/Machine_learning_venv/lib/python3.8/site-packages/autogluon/core/trainer/abstract_trainer.py\", line 1074, in _train_and_save\n",
      "    model = self._train_single(X, y, model, X_val, y_val, **model_fit_kwargs)\n",
      "  File \"/media/wuguo-buaa/LENOVO_USB_HDD/PycharmProjects/Machine_learning_venv/lib/python3.8/site-packages/autogluon/core/trainer/abstract_trainer.py\", line 1032, in _train_single\n",
      "    model = model.fit(X=X, y=y, X_val=X_val, y_val=y_val, **model_fit_kwargs)\n",
      "  File \"/media/wuguo-buaa/LENOVO_USB_HDD/PycharmProjects/Machine_learning_venv/lib/python3.8/site-packages/autogluon/core/models/abstract/abstract_model.py\", line 577, in fit\n",
      "    out = self._fit(**kwargs)\n",
      "  File \"/media/wuguo-buaa/LENOVO_USB_HDD/PycharmProjects/Machine_learning_venv/lib/python3.8/site-packages/autogluon/core/models/ensemble/stacker_ensemble_model.py\", line 153, in _fit\n",
      "    return super()._fit(X=X, y=y, time_limit=time_limit, **kwargs)\n",
      "  File \"/media/wuguo-buaa/LENOVO_USB_HDD/PycharmProjects/Machine_learning_venv/lib/python3.8/site-packages/autogluon/core/models/ensemble/bagged_ensemble_model.py\", line 211, in _fit\n",
      "    self._fit_folds(X=X, y=y, model_base=model_base, X_pseudo=X_pseudo, y_pseudo=y_pseudo,\n",
      "  File \"/media/wuguo-buaa/LENOVO_USB_HDD/PycharmProjects/Machine_learning_venv/lib/python3.8/site-packages/autogluon/core/models/ensemble/bagged_ensemble_model.py\", line 481, in _fit_folds\n",
      "    fold_fitting_strategy.after_all_folds_scheduled()\n",
      "  File \"/media/wuguo-buaa/LENOVO_USB_HDD/PycharmProjects/Machine_learning_venv/lib/python3.8/site-packages/autogluon/core/models/ensemble/fold_fitting_strategy.py\", line 455, in after_all_folds_scheduled\n",
      "    raise processed_exception\n",
      "  File \"/media/wuguo-buaa/LENOVO_USB_HDD/PycharmProjects/Machine_learning_venv/lib/python3.8/site-packages/autogluon/core/models/ensemble/fold_fitting_strategy.py\", line 423, in after_all_folds_scheduled\n",
      "    time_end_fit, predict_time, predict_1_time = self.ray.get(finished)\n",
      "  File \"/media/wuguo-buaa/LENOVO_USB_HDD/PycharmProjects/Machine_learning_venv/lib/python3.8/site-packages/ray/_private/client_mode_hook.py\", line 105, in wrapper\n",
      "    return func(*args, **kwargs)\n",
      "  File \"/media/wuguo-buaa/LENOVO_USB_HDD/PycharmProjects/Machine_learning_venv/lib/python3.8/site-packages/ray/worker.py\", line 1625, in get\n",
      "    raise value.as_instanceof_cause()\n",
      "ray.exceptions.RayTaskError(RuntimeError): \u001B[36mray::_ray_fit()\u001B[39m (pid=29629, ip=192.168.0.133)\n",
      "  File \"/media/wuguo-buaa/LENOVO_USB_HDD/PycharmProjects/Machine_learning_venv/lib/python3.8/site-packages/autogluon/core/models/ensemble/fold_fitting_strategy.py\", line 288, in _ray_fit\n",
      "    fold_model.fit(X=X_fold, y=y_fold, X_val=X_val_fold, y_val=y_val_fold,\n",
      "  File \"/media/wuguo-buaa/LENOVO_USB_HDD/PycharmProjects/Machine_learning_venv/lib/python3.8/site-packages/autogluon/core/models/abstract/abstract_model.py\", line 577, in fit\n",
      "    out = self._fit(**kwargs)\n",
      "  File \"/media/wuguo-buaa/LENOVO_USB_HDD/PycharmProjects/Machine_learning_venv/lib/python3.8/site-packages/autogluon/tabular/models/tabular_nn/torch/tabular_nn_torch.py\", line 183, in _fit\n",
      "    self._get_net(train_dataset, params=params)\n",
      "  File \"/media/wuguo-buaa/LENOVO_USB_HDD/PycharmProjects/Machine_learning_venv/lib/python3.8/site-packages/autogluon/tabular/models/tabular_nn/torch/tabular_nn_torch.py\", line 212, in _get_net\n",
      "    self.model = self.model.to(self.device)\n",
      "  File \"/media/wuguo-buaa/LENOVO_USB_HDD/PycharmProjects/Machine_learning_venv/lib/python3.8/site-packages/torch/nn/modules/module.py\", line 899, in to\n",
      "    return self._apply(convert)\n",
      "  File \"/media/wuguo-buaa/LENOVO_USB_HDD/PycharmProjects/Machine_learning_venv/lib/python3.8/site-packages/torch/nn/modules/module.py\", line 570, in _apply\n",
      "    module._apply(fn)\n",
      "  File \"/media/wuguo-buaa/LENOVO_USB_HDD/PycharmProjects/Machine_learning_venv/lib/python3.8/site-packages/torch/nn/modules/module.py\", line 570, in _apply\n",
      "    module._apply(fn)\n",
      "  File \"/media/wuguo-buaa/LENOVO_USB_HDD/PycharmProjects/Machine_learning_venv/lib/python3.8/site-packages/torch/nn/modules/module.py\", line 593, in _apply\n",
      "    param_applied = fn(param)\n",
      "  File \"/media/wuguo-buaa/LENOVO_USB_HDD/PycharmProjects/Machine_learning_venv/lib/python3.8/site-packages/torch/nn/modules/module.py\", line 897, in convert\n",
      "    return t.to(device, dtype if t.is_floating_point() or t.is_complex() else None, non_blocking)\n",
      "RuntimeError: CUDA error: unknown error\n",
      "CUDA kernel errors might be asynchronously reported at some other API call,so the stacktrace below might be incorrect.\n",
      "For debugging consider passing CUDA_LAUNCH_BLOCKING=1.\n",
      "Fitting model: LightGBMLarge_BAG_L2 ...\n",
      "\tFitting 8 child models (S1F1 - S1F8) | Fitting with ParallelLocalFoldFittingStrategy\n",
      "2022-05-12 15:18:05,591\tWARNING services.py:1748 -- WARNING: The object store is using /tmp instead of /dev/shm because /dev/shm has only 3557904384 bytes available. This will harm performance! You may be able to free up space by deleting files in /dev/shm. If you are inside a Docker container, you can increase /dev/shm size by passing '--shm-size=4.14gb' to 'docker run' (or add it to the run_options list in a Ray cluster config). Make sure to set this to more than 30% of available RAM.\n",
      "\t1.0\t = Validation score   (accuracy)\n",
      "\t11.09s\t = Training   runtime\n",
      "\t0.06s\t = Validation runtime\n",
      "Fitting model: WeightedEnsemble_L3 ...\n",
      "\t1.0\t = Validation score   (accuracy)\n",
      "\t19.9s\t = Training   runtime\n",
      "\t0.13s\t = Validation runtime\n",
      "AutoGluon training complete, total runtime = 1184.16s ... Best model: \"WeightedEnsemble_L2\"\n",
      "Fitting model: KNeighborsUnif_BAG_L1_FULL | Skipping fit via cloning parent ...\n",
      "\t0.13s\t = Training   runtime\n",
      "\t24.61s\t = Validation runtime\n",
      "Fitting model: KNeighborsDist_BAG_L1_FULL | Skipping fit via cloning parent ...\n",
      "\t0.12s\t = Training   runtime\n",
      "\t24.4s\t = Validation runtime\n",
      "Fitting 1 L1 models ...\n",
      "Fitting model: LightGBMXT_BAG_L1_FULL ...\n",
      "\tTraining S1F1 with GPU, note that this may negatively impact model quality compared to CPU training.\n",
      "\t4.86s\t = Training   runtime\n",
      "Fitting 1 L1 models ...\n",
      "Fitting model: LightGBM_BAG_L1_FULL ...\n",
      "\tTraining S1F1 with GPU, note that this may negatively impact model quality compared to CPU training.\n",
      "\t0.24s\t = Training   runtime\n",
      "Fitting model: RandomForestGini_BAG_L1_FULL | Skipping fit via cloning parent ...\n",
      "\t3.34s\t = Training   runtime\n",
      "\t2.07s\t = Validation runtime\n",
      "Fitting model: RandomForestEntr_BAG_L1_FULL | Skipping fit via cloning parent ...\n",
      "\t3.67s\t = Training   runtime\n",
      "\t2.08s\t = Validation runtime\n",
      "Fitting 1 L1 models ...\n",
      "Fitting model: CatBoost_BAG_L1_FULL ...\n",
      "\tTraining S1F1 with GPU, note that this may negatively impact model quality compared to CPU training.\n",
      "\tWarning: CatBoost on GPU is experimental. If you encounter issues, use CPU for training CatBoost instead.\n",
      "\t4.62s\t = Training   runtime\n",
      "Fitting model: ExtraTreesGini_BAG_L1_FULL | Skipping fit via cloning parent ...\n",
      "\t2.67s\t = Training   runtime\n",
      "\t2.26s\t = Validation runtime\n",
      "Fitting model: ExtraTreesEntr_BAG_L1_FULL | Skipping fit via cloning parent ...\n",
      "\t2.65s\t = Training   runtime\n",
      "\t2.28s\t = Validation runtime\n",
      "Fitting 1 L1 models ...\n",
      "Fitting model: NeuralNetFastAI_BAG_L1_FULL ...\n",
      "\tStopping at the best epoch learned earlier - 3.\n",
      "\t28.94s\t = Training   runtime\n",
      "Fitting 1 L1 models ...\n",
      "Fitting model: XGBoost_BAG_L1_FULL ...\n",
      "\t3.07s\t = Training   runtime\n",
      "Fitting 1 L1 models ...\n",
      "Fitting model: NeuralNetTorch_BAG_L1_FULL ...\n",
      "\t54.43s\t = Training   runtime\n",
      "Fitting 1 L1 models ...\n",
      "Fitting model: LightGBMLarge_BAG_L1_FULL ...\n",
      "\tTraining S1F1 with GPU, note that this may negatively impact model quality compared to CPU training.\n",
      "\t0.24s\t = Training   runtime\n",
      "Fitting model: WeightedEnsemble_L2_FULL | Skipping fit via cloning parent ...\n",
      "\t25.34s\t = Training   runtime\n",
      "Fitting 1 L2 models ...\n",
      "Fitting model: LightGBMXT_BAG_L2_FULL ...\n",
      "\tTraining S1F1 with GPU, note that this may negatively impact model quality compared to CPU training.\n",
      "\t0.27s\t = Training   runtime\n",
      "Fitting 1 L2 models ...\n",
      "Fitting model: LightGBM_BAG_L2_FULL ...\n",
      "\tTraining S1F1 with GPU, note that this may negatively impact model quality compared to CPU training.\n",
      "\t0.28s\t = Training   runtime\n",
      "Fitting model: RandomForestGini_BAG_L2_FULL | Skipping fit via cloning parent ...\n",
      "\t4.22s\t = Training   runtime\n",
      "\t2.01s\t = Validation runtime\n",
      "Fitting model: RandomForestEntr_BAG_L2_FULL | Skipping fit via cloning parent ...\n",
      "\t1.95s\t = Training   runtime\n",
      "\t1.76s\t = Validation runtime\n",
      "Fitting 1 L2 models ...\n",
      "Fitting model: CatBoost_BAG_L2_FULL ...\n",
      "\tTraining S1F1 with GPU, note that this may negatively impact model quality compared to CPU training.\n",
      "\tWarning: CatBoost on GPU is experimental. If you encounter issues, use CPU for training CatBoost instead.\n",
      "\t0.12s\t = Training   runtime\n",
      "Fitting model: ExtraTreesGini_BAG_L2_FULL | Skipping fit via cloning parent ...\n",
      "\t1.34s\t = Training   runtime\n",
      "\t1.76s\t = Validation runtime\n",
      "Fitting model: ExtraTreesEntr_BAG_L2_FULL | Skipping fit via cloning parent ...\n",
      "\t1.34s\t = Training   runtime\n",
      "\t1.75s\t = Validation runtime\n",
      "Fitting 1 L2 models ...\n",
      "Fitting model: NeuralNetFastAI_BAG_L2_FULL ...\n",
      "\tStopping at the best epoch learned earlier - 8.\n",
      "\t21.0s\t = Training   runtime\n",
      "Fitting 1 L2 models ...\n",
      "Fitting model: XGBoost_BAG_L2_FULL ...\n",
      "\t0.26s\t = Training   runtime\n",
      "Fitting 1 L2 models ...\n",
      "Fitting model: LightGBMLarge_BAG_L2_FULL ...\n",
      "\tTraining S1F1 with GPU, note that this may negatively impact model quality compared to CPU training.\n",
      "\t0.29s\t = Training   runtime\n",
      "Fitting model: WeightedEnsemble_L3_FULL | Skipping fit via cloning parent ...\n",
      "\t19.9s\t = Training   runtime\n",
      "TabularPredictor saved. To load, use: predictor = TabularPredictor.load(\"./auto_gl/exp-iot23/high_q/\")\n"
     ]
    }
   ],
   "source": [
    "from autogluon.tabular import TabularDataset\n",
    "import autogluon\n",
    "\n",
    "label = 'label'\n",
    "train_data = TabularDataset(\"./Data/split/train_data.csv\")\n",
    "save_path = './auto_gl/exp-iot23/high_q'  # specifies folder to store trained models\n",
    "from autogluon.tabular import TabularPredictor\n",
    "predictor_high = TabularPredictor(label=label, path=save_path).fit(train_data, ag_args_fit={'num_gpus': 1},                                                              presets='high_quality')"
   ],
   "metadata": {
    "collapsed": false,
    "pycharm": {
     "name": "#%%\n"
    }
   }
  },
  {
   "cell_type": "code",
   "execution_count": 11,
   "outputs": [
    {
     "name": "stdout",
     "output_type": "stream",
     "text": [
      "*** Summary of fit() ***\n",
      "Estimated performance of each model:\n",
      "                           model  score_val  pred_time_val    fit_time  pred_time_val_marginal  fit_time_marginal  stack_level  can_infer  fit_order\n",
      "0                CatBoost_BAG_L1   1.000000       0.016600   23.659507                0.016600          23.659507            1      False          7\n",
      "1              LightGBMXT_BAG_L1   1.000000       0.035022    1.856974                0.035022           1.856974            1      False          3\n",
      "2           LightGBMLarge_BAG_L1   1.000000       0.038616   10.746465                0.038616          10.746465            1      False         13\n",
      "3                LightGBM_BAG_L1   1.000000       0.041969    1.958253                0.041969           1.958253            1      False          4\n",
      "4            WeightedEnsemble_L2   1.000000       0.157289   27.195524                0.122266          25.338550            2      False         14\n",
      "5                CatBoost_BAG_L2   1.000000      61.214887  621.729176                0.031606          28.754601            2      False         19\n",
      "6                LightGBM_BAG_L2   1.000000      61.232831  597.763436                0.049550           4.788861            2      False         16\n",
      "7              LightGBMXT_BAG_L2   1.000000      61.233541  597.745317                0.050260           4.770741            2      False         15\n",
      "8           LightGBMLarge_BAG_L2   1.000000      61.242990  604.060338                0.059709          11.085763            2      False         24\n",
      "9                 XGBoost_BAG_L2   1.000000      61.324853  605.652658                0.141572          12.678082            2      False         23\n",
      "10         ExtraTreesEntr_BAG_L2   1.000000      62.937403  594.314496                1.754122           1.339921            2      False         21\n",
      "11       RandomForestEntr_BAG_L2   1.000000      62.945439  594.928093                1.762158           1.953518            2      False         18\n",
      "12         ExtraTreesGini_BAG_L2   1.000000      62.946283  594.313286                1.763002           1.338711            2      False         20\n",
      "13           WeightedEnsemble_L3   1.000000      63.071484  614.212137                0.125201          19.898851            3      False         25\n",
      "14       RandomForestGini_BAG_L2   1.000000      63.195164  597.199162                2.011883           4.224587            2      False         17\n",
      "15        NeuralNetFastAI_BAG_L2   0.999992      62.445103  813.413985                1.261822         220.439410            2      False         22\n",
      "16         NeuralNetTorch_BAG_L1   0.870993       0.811856  260.839062                0.811856         260.839062            1      False         12\n",
      "17                XGBoost_BAG_L1   0.870852       0.112619   12.324926                0.112619          12.324926            1      False         11\n",
      "18         ExtraTreesEntr_BAG_L1   0.860930       2.275418    2.645035                2.275418           2.645035            1       True          9\n",
      "19         ExtraTreesGini_BAG_L1   0.860906       2.255471    2.672107                2.255471           2.672107            1       True          8\n",
      "20       RandomForestGini_BAG_L1   0.860419       2.068322    3.339995                2.068322           3.339995            1       True          5\n",
      "21       RandomForestEntr_BAG_L1   0.860410       2.081737    3.670271                2.081737           3.670271            1       True          6\n",
      "22         KNeighborsUnif_BAG_L1   0.733607      24.610187    0.127796               24.610187           0.127796            1       True          1\n",
      "23         KNeighborsDist_BAG_L1   0.723743      24.396994    0.121297               24.396994           0.121297            1       True          2\n",
      "24        NeuralNetFastAI_BAG_L1   0.643692       2.438470  269.012887                2.438470         269.012887            1      False         10\n",
      "25  RandomForestGini_BAG_L1_FULL        NaN       2.068322    3.339995                2.068322           3.339995            1       True         30\n",
      "26  RandomForestEntr_BAG_L1_FULL        NaN       2.081737    3.670271                2.081737           3.670271            1       True         31\n",
      "27    ExtraTreesGini_BAG_L1_FULL        NaN       2.255471    2.672107                2.255471           2.672107            1       True         33\n",
      "28    ExtraTreesEntr_BAG_L1_FULL        NaN       2.275418    2.645035                2.275418           2.645035            1       True         34\n",
      "29    KNeighborsDist_BAG_L1_FULL        NaN      24.396994    0.121297               24.396994           0.121297            1       True         27\n",
      "30    KNeighborsUnif_BAG_L1_FULL        NaN      24.610187    0.127796               24.610187           0.127796            1       True         26\n",
      "31           XGBoost_BAG_L2_FULL        NaN            NaN  109.227386                     NaN           0.256261            2       True         48\n",
      "32           XGBoost_BAG_L1_FULL        NaN            NaN    3.070240                     NaN           3.070240            1       True         36\n",
      "33      WeightedEnsemble_L3_FULL        NaN            NaN  130.208687                     NaN          19.898851            3       True         50\n",
      "34      WeightedEnsemble_L2_FULL        NaN            NaN   30.195099                     NaN          25.338550            2       True         39\n",
      "35  RandomForestGini_BAG_L2_FULL        NaN            NaN  113.195713                2.011883           4.224587            2       True         42\n",
      "36  RandomForestEntr_BAG_L2_FULL        NaN            NaN  110.924643                1.762158           1.953518            2       True         43\n",
      "37    NeuralNetTorch_BAG_L1_FULL        NaN            NaN   54.433322                     NaN          54.433322            1       True         37\n",
      "38   NeuralNetFastAI_BAG_L2_FULL        NaN            NaN  129.975572                     NaN          21.004447            2       True         47\n",
      "39   NeuralNetFastAI_BAG_L1_FULL        NaN            NaN   28.937116                     NaN          28.937116            1       True         35\n",
      "40          LightGBM_BAG_L2_FULL        NaN            NaN  109.252347                     NaN           0.281222            2       True         41\n",
      "41          LightGBM_BAG_L1_FULL        NaN            NaN    0.237376                     NaN           0.237376            1       True         29\n",
      "42        LightGBMXT_BAG_L2_FULL        NaN            NaN  109.245672                     NaN           0.274547            2       True         40\n",
      "43        LightGBMXT_BAG_L1_FULL        NaN            NaN    4.856549                     NaN           4.856549            1       True         28\n",
      "44     LightGBMLarge_BAG_L2_FULL        NaN            NaN  109.259349                     NaN           0.288223            2       True         49\n",
      "45     LightGBMLarge_BAG_L1_FULL        NaN            NaN    0.240868                     NaN           0.240868            1       True         38\n",
      "46    ExtraTreesGini_BAG_L2_FULL        NaN            NaN  110.309836                1.763002           1.338711            2       True         45\n",
      "47    ExtraTreesEntr_BAG_L2_FULL        NaN            NaN  110.311046                1.754122           1.339921            2       True         46\n",
      "48          CatBoost_BAG_L2_FULL        NaN            NaN  109.089105                     NaN           0.117979            2       True         44\n",
      "49          CatBoost_BAG_L1_FULL        NaN            NaN    4.619153                     NaN           4.619153            1       True         32\n",
      "Number of models trained: 50\n",
      "Types of models trained:\n",
      "{'StackerEnsembleModel_XGBoost', 'StackerEnsembleModel_NNFastAiTabular', 'WeightedEnsembleModel', 'StackerEnsembleModel_CatBoost', 'StackerEnsembleModel_RF', 'StackerEnsembleModel_LGB', 'StackerEnsembleModel_TabularNeuralNetTorch', 'StackerEnsembleModel_XT', 'StackerEnsembleModel_KNN'}\n",
      "Bagging used: True  (with 8 folds)\n",
      "Multi-layer stack-ensembling used: True  (with 3 levels)\n",
      "Feature Metadata (Processed):\n",
      "(raw dtype, special dtypes):\n",
      "('float', [])     :  7 | ['duration', 'missed_bytes', 'orig_pkts', 'orig_ip_bytes', 'resp_pkts', ...]\n",
      "('int', [])       :  2 | ['orig_bytes', 'resp_bytes']\n",
      "('int', ['bool']) : 21 | ['proto_tcp', 'proto_udp', 'service_-', 'service_dhcp', 'service_dns', ...]\n",
      "*** End of fit() summary ***\n"
     ]
    },
    {
     "name": "stderr",
     "output_type": "stream",
     "text": [
      "/media/wuguo-buaa/LENOVO_USB_HDD/PycharmProjects/Machine_learning_venv/lib/python3.8/site-packages/autogluon/core/utils/plots.py:138: UserWarning: AutoGluon summary plots cannot be created because bokeh is not installed. To see plots, please do: \"pip install bokeh==2.0.1\"\n",
      "  warnings.warn('AutoGluon summary plots cannot be created because bokeh is not installed. To see plots, please do: \"pip install bokeh==2.0.1\"')\n"
     ]
    }
   ],
   "source": [
    "from autogluon.tabular import TabularPredictor\n",
    "# RF_predictor = TabularPredictor.load(\n",
    "#     '/media/wuguo-buaa/LENOVO_USB_HDD/PycharmProjects/Anomaly-Detection-IoT23/Models/auto_gl/exp-iot23/best_q/')\n",
    "results_high = predictor_high.fit_summary(show_plot=True)"
   ],
   "metadata": {
    "collapsed": false,
    "pycharm": {
     "name": "#%%\n"
    }
   }
  },
  {
   "cell_type": "code",
   "execution_count": 12,
   "outputs": [
    {
     "name": "stdout",
     "output_type": "stream",
     "text": [
      "                           model  score_test  score_val  pred_time_test  pred_time_val    fit_time  pred_time_test_marginal  pred_time_val_marginal  fit_time_marginal  stack_level  can_infer  fit_order\n",
      "0         LightGBMXT_BAG_L1_FULL    1.000000        NaN        0.004901            NaN    4.856549                 0.004901                     NaN           4.856549            1       True         28\n",
      "1           CatBoost_BAG_L1_FULL    1.000000        NaN        0.005472            NaN    4.619153                 0.005472                     NaN           4.619153            1       True         32\n",
      "2           LightGBM_BAG_L1_FULL    1.000000        NaN        0.005914            NaN    0.237376                 0.005914                     NaN           0.237376            1       True         29\n",
      "3       WeightedEnsemble_L2_FULL    1.000000        NaN        0.006500            NaN   30.195099                 0.001599                     NaN          25.338550            2       True         39\n",
      "4      LightGBMLarge_BAG_L1_FULL    1.000000        NaN        0.013608            NaN    0.240868                 0.013608                     NaN           0.240868            1       True         38\n",
      "5           LightGBM_BAG_L2_FULL    1.000000        NaN        5.459824            NaN  109.252347                 0.009350                     NaN           0.281222            2       True         41\n",
      "6         LightGBMXT_BAG_L2_FULL    1.000000        NaN        5.459951            NaN  109.245672                 0.009477                     NaN           0.274547            2       True         40\n",
      "7      LightGBMLarge_BAG_L2_FULL    1.000000        NaN        5.473377            NaN  109.259349                 0.022903                     NaN           0.288223            2       True         49\n",
      "8            XGBoost_BAG_L2_FULL    1.000000        NaN        5.476804            NaN  109.227386                 0.026330                     NaN           0.256261            2       True         48\n",
      "9           CatBoost_BAG_L2_FULL    1.000000        NaN        5.488034            NaN  109.089105                 0.037561                     NaN           0.117979            2       True         44\n",
      "10  RandomForestGini_BAG_L2_FULL    1.000000        NaN        5.520628            NaN  113.195713                 0.070155                2.011883           4.224587            2       True         42\n",
      "11    ExtraTreesGini_BAG_L2_FULL    1.000000        NaN        5.520733            NaN  110.309836                 0.070260                1.763002           1.338711            2       True         45\n",
      "12      WeightedEnsemble_L3_FULL    1.000000        NaN        5.522141            NaN  130.208687                 0.001408                     NaN          19.898851            3       True         50\n",
      "13  RandomForestEntr_BAG_L2_FULL    1.000000        NaN        5.522563            NaN  110.924643                 0.072089                1.762158           1.953518            2       True         43\n",
      "14    ExtraTreesEntr_BAG_L2_FULL    1.000000        NaN        5.569760            NaN  110.311046                 0.119286                1.754122           1.339921            2       True         46\n",
      "15   NeuralNetFastAI_BAG_L2_FULL    0.999439        NaN        5.705902            NaN  129.975572                 0.255428                     NaN          21.004447            2       True         47\n",
      "16    NeuralNetTorch_BAG_L1_FULL    0.867501        NaN        0.143589            NaN   54.433322                 0.143589                     NaN          54.433322            1       True         37\n",
      "17           XGBoost_BAG_L1_FULL    0.867402        NaN        0.077041            NaN    3.070240                 0.077041                     NaN           3.070240            1       True         36\n",
      "18    ExtraTreesEntr_BAG_L1_FULL    0.857992        NaN        0.320152       2.275418    2.645035                 0.320152                2.275418           2.645035            1       True         34\n",
      "19         ExtraTreesGini_BAG_L1    0.857992   0.860906        0.328750       2.255471    2.672107                 0.328750                2.255471           2.672107            1       True          8\n",
      "20    ExtraTreesGini_BAG_L1_FULL    0.857992        NaN        0.337282       2.255471    2.672107                 0.337282                2.255471           2.672107            1       True         33\n",
      "21         ExtraTreesEntr_BAG_L1    0.857992   0.860930        0.426562       2.275418    2.645035                 0.426562                2.275418           2.645035            1       True          9\n",
      "22       RandomForestEntr_BAG_L1    0.857662   0.860410        0.239840       2.081737    3.670271                 0.239840                2.081737           3.670271            1       True          6\n",
      "23  RandomForestEntr_BAG_L1_FULL    0.857662        NaN        0.244074       2.081737    3.670271                 0.244074                2.081737           3.670271            1       True         31\n",
      "24       RandomForestGini_BAG_L1    0.857662   0.860419        0.247300       2.068322    3.339995                 0.247300                2.068322           3.339995            1       True          5\n",
      "25  RandomForestGini_BAG_L1_FULL    0.857662        NaN        0.249193       2.068322    3.339995                 0.249193                2.068322           3.339995            1       True         30\n",
      "26         KNeighborsUnif_BAG_L1    0.726946   0.733607        1.696443      24.610187    0.127796                 1.696443               24.610187           0.127796            1       True          1\n",
      "27    KNeighborsUnif_BAG_L1_FULL    0.726946        NaN        1.733741      24.610187    0.127796                 1.733741               24.610187           0.127796            1       True         26\n",
      "28    KNeighborsDist_BAG_L1_FULL    0.717073        NaN        1.716454      24.396994    0.121297                 1.716454               24.396994           0.121297            1       True         27\n",
      "29         KNeighborsDist_BAG_L1    0.717073   0.723743        1.764806      24.396994    0.121297                 1.764806               24.396994           0.121297            1       True          2\n",
      "30   NeuralNetFastAI_BAG_L1_FULL    0.592201        NaN        0.599052            NaN   28.937116                 0.599052                     NaN          28.937116            1       True         35\n",
      "31               CatBoost_BAG_L1         NaN   1.000000             NaN       0.016600   23.659507                      NaN                0.016600          23.659507            1      False          7\n",
      "32             LightGBMXT_BAG_L1         NaN   1.000000             NaN       0.035022    1.856974                      NaN                0.035022           1.856974            1      False          3\n",
      "33          LightGBMLarge_BAG_L1         NaN   1.000000             NaN       0.038616   10.746465                      NaN                0.038616          10.746465            1      False         13\n",
      "34               LightGBM_BAG_L1         NaN   1.000000             NaN       0.041969    1.958253                      NaN                0.041969           1.958253            1      False          4\n",
      "35           WeightedEnsemble_L2         NaN   1.000000             NaN       0.157289   27.195524                      NaN                0.122266          25.338550            2      False         14\n",
      "36               CatBoost_BAG_L2         NaN   1.000000             NaN      61.214887  621.729176                      NaN                0.031606          28.754601            2      False         19\n",
      "37               LightGBM_BAG_L2         NaN   1.000000             NaN      61.232831  597.763436                      NaN                0.049550           4.788861            2      False         16\n",
      "38             LightGBMXT_BAG_L2         NaN   1.000000             NaN      61.233541  597.745317                      NaN                0.050260           4.770741            2      False         15\n",
      "39          LightGBMLarge_BAG_L2         NaN   1.000000             NaN      61.242990  604.060338                      NaN                0.059709          11.085763            2      False         24\n",
      "40                XGBoost_BAG_L2         NaN   1.000000             NaN      61.324853  605.652658                      NaN                0.141572          12.678082            2      False         23\n",
      "41         ExtraTreesEntr_BAG_L2         NaN   1.000000             NaN      62.937403  594.314496                      NaN                1.754122           1.339921            2      False         21\n",
      "42       RandomForestEntr_BAG_L2         NaN   1.000000             NaN      62.945439  594.928093                      NaN                1.762158           1.953518            2      False         18\n",
      "43         ExtraTreesGini_BAG_L2         NaN   1.000000             NaN      62.946283  594.313286                      NaN                1.763002           1.338711            2      False         20\n",
      "44           WeightedEnsemble_L3         NaN   1.000000             NaN      63.071484  614.212137                      NaN                0.125201          19.898851            3      False         25\n",
      "45       RandomForestGini_BAG_L2         NaN   1.000000             NaN      63.195164  597.199162                      NaN                2.011883           4.224587            2      False         17\n",
      "46        NeuralNetFastAI_BAG_L2         NaN   0.999992             NaN      62.445103  813.413985                      NaN                1.261822         220.439410            2      False         22\n",
      "47         NeuralNetTorch_BAG_L1         NaN   0.870993             NaN       0.811856  260.839062                      NaN                0.811856         260.839062            1      False         12\n",
      "48                XGBoost_BAG_L1         NaN   0.870852             NaN       0.112619   12.324926                      NaN                0.112619          12.324926            1      False         11\n",
      "49        NeuralNetFastAI_BAG_L1         NaN   0.643692             NaN       2.438470  269.012887                      NaN                2.438470         269.012887            1      False         10\n"
     ]
    },
    {
     "data": {
      "text/plain": "                           model  score_test  score_val  pred_time_test  \\\n0         LightGBMXT_BAG_L1_FULL    1.000000        NaN        0.004901   \n1           CatBoost_BAG_L1_FULL    1.000000        NaN        0.005472   \n2           LightGBM_BAG_L1_FULL    1.000000        NaN        0.005914   \n3       WeightedEnsemble_L2_FULL    1.000000        NaN        0.006500   \n4      LightGBMLarge_BAG_L1_FULL    1.000000        NaN        0.013608   \n5           LightGBM_BAG_L2_FULL    1.000000        NaN        5.459824   \n6         LightGBMXT_BAG_L2_FULL    1.000000        NaN        5.459951   \n7      LightGBMLarge_BAG_L2_FULL    1.000000        NaN        5.473377   \n8            XGBoost_BAG_L2_FULL    1.000000        NaN        5.476804   \n9           CatBoost_BAG_L2_FULL    1.000000        NaN        5.488034   \n10  RandomForestGini_BAG_L2_FULL    1.000000        NaN        5.520628   \n11    ExtraTreesGini_BAG_L2_FULL    1.000000        NaN        5.520733   \n12      WeightedEnsemble_L3_FULL    1.000000        NaN        5.522141   \n13  RandomForestEntr_BAG_L2_FULL    1.000000        NaN        5.522563   \n14    ExtraTreesEntr_BAG_L2_FULL    1.000000        NaN        5.569760   \n15   NeuralNetFastAI_BAG_L2_FULL    0.999439        NaN        5.705902   \n16    NeuralNetTorch_BAG_L1_FULL    0.867501        NaN        0.143589   \n17           XGBoost_BAG_L1_FULL    0.867402        NaN        0.077041   \n18    ExtraTreesEntr_BAG_L1_FULL    0.857992        NaN        0.320152   \n19         ExtraTreesGini_BAG_L1    0.857992   0.860906        0.328750   \n20    ExtraTreesGini_BAG_L1_FULL    0.857992        NaN        0.337282   \n21         ExtraTreesEntr_BAG_L1    0.857992   0.860930        0.426562   \n22       RandomForestEntr_BAG_L1    0.857662   0.860410        0.239840   \n23  RandomForestEntr_BAG_L1_FULL    0.857662        NaN        0.244074   \n24       RandomForestGini_BAG_L1    0.857662   0.860419        0.247300   \n25  RandomForestGini_BAG_L1_FULL    0.857662        NaN        0.249193   \n26         KNeighborsUnif_BAG_L1    0.726946   0.733607        1.696443   \n27    KNeighborsUnif_BAG_L1_FULL    0.726946        NaN        1.733741   \n28    KNeighborsDist_BAG_L1_FULL    0.717073        NaN        1.716454   \n29         KNeighborsDist_BAG_L1    0.717073   0.723743        1.764806   \n30   NeuralNetFastAI_BAG_L1_FULL    0.592201        NaN        0.599052   \n31               CatBoost_BAG_L1         NaN   1.000000             NaN   \n32             LightGBMXT_BAG_L1         NaN   1.000000             NaN   \n33          LightGBMLarge_BAG_L1         NaN   1.000000             NaN   \n34               LightGBM_BAG_L1         NaN   1.000000             NaN   \n35           WeightedEnsemble_L2         NaN   1.000000             NaN   \n36               CatBoost_BAG_L2         NaN   1.000000             NaN   \n37               LightGBM_BAG_L2         NaN   1.000000             NaN   \n38             LightGBMXT_BAG_L2         NaN   1.000000             NaN   \n39          LightGBMLarge_BAG_L2         NaN   1.000000             NaN   \n40                XGBoost_BAG_L2         NaN   1.000000             NaN   \n41         ExtraTreesEntr_BAG_L2         NaN   1.000000             NaN   \n42       RandomForestEntr_BAG_L2         NaN   1.000000             NaN   \n43         ExtraTreesGini_BAG_L2         NaN   1.000000             NaN   \n44           WeightedEnsemble_L3         NaN   1.000000             NaN   \n45       RandomForestGini_BAG_L2         NaN   1.000000             NaN   \n46        NeuralNetFastAI_BAG_L2         NaN   0.999992             NaN   \n47         NeuralNetTorch_BAG_L1         NaN   0.870993             NaN   \n48                XGBoost_BAG_L1         NaN   0.870852             NaN   \n49        NeuralNetFastAI_BAG_L1         NaN   0.643692             NaN   \n\n    pred_time_val    fit_time  pred_time_test_marginal  \\\n0             NaN    4.856549                 0.004901   \n1             NaN    4.619153                 0.005472   \n2             NaN    0.237376                 0.005914   \n3             NaN   30.195099                 0.001599   \n4             NaN    0.240868                 0.013608   \n5             NaN  109.252347                 0.009350   \n6             NaN  109.245672                 0.009477   \n7             NaN  109.259349                 0.022903   \n8             NaN  109.227386                 0.026330   \n9             NaN  109.089105                 0.037561   \n10            NaN  113.195713                 0.070155   \n11            NaN  110.309836                 0.070260   \n12            NaN  130.208687                 0.001408   \n13            NaN  110.924643                 0.072089   \n14            NaN  110.311046                 0.119286   \n15            NaN  129.975572                 0.255428   \n16            NaN   54.433322                 0.143589   \n17            NaN    3.070240                 0.077041   \n18       2.275418    2.645035                 0.320152   \n19       2.255471    2.672107                 0.328750   \n20       2.255471    2.672107                 0.337282   \n21       2.275418    2.645035                 0.426562   \n22       2.081737    3.670271                 0.239840   \n23       2.081737    3.670271                 0.244074   \n24       2.068322    3.339995                 0.247300   \n25       2.068322    3.339995                 0.249193   \n26      24.610187    0.127796                 1.696443   \n27      24.610187    0.127796                 1.733741   \n28      24.396994    0.121297                 1.716454   \n29      24.396994    0.121297                 1.764806   \n30            NaN   28.937116                 0.599052   \n31       0.016600   23.659507                      NaN   \n32       0.035022    1.856974                      NaN   \n33       0.038616   10.746465                      NaN   \n34       0.041969    1.958253                      NaN   \n35       0.157289   27.195524                      NaN   \n36      61.214887  621.729176                      NaN   \n37      61.232831  597.763436                      NaN   \n38      61.233541  597.745317                      NaN   \n39      61.242990  604.060338                      NaN   \n40      61.324853  605.652658                      NaN   \n41      62.937403  594.314496                      NaN   \n42      62.945439  594.928093                      NaN   \n43      62.946283  594.313286                      NaN   \n44      63.071484  614.212137                      NaN   \n45      63.195164  597.199162                      NaN   \n46      62.445103  813.413985                      NaN   \n47       0.811856  260.839062                      NaN   \n48       0.112619   12.324926                      NaN   \n49       2.438470  269.012887                      NaN   \n\n    pred_time_val_marginal  fit_time_marginal  stack_level  can_infer  \\\n0                      NaN           4.856549            1       True   \n1                      NaN           4.619153            1       True   \n2                      NaN           0.237376            1       True   \n3                      NaN          25.338550            2       True   \n4                      NaN           0.240868            1       True   \n5                      NaN           0.281222            2       True   \n6                      NaN           0.274547            2       True   \n7                      NaN           0.288223            2       True   \n8                      NaN           0.256261            2       True   \n9                      NaN           0.117979            2       True   \n10                2.011883           4.224587            2       True   \n11                1.763002           1.338711            2       True   \n12                     NaN          19.898851            3       True   \n13                1.762158           1.953518            2       True   \n14                1.754122           1.339921            2       True   \n15                     NaN          21.004447            2       True   \n16                     NaN          54.433322            1       True   \n17                     NaN           3.070240            1       True   \n18                2.275418           2.645035            1       True   \n19                2.255471           2.672107            1       True   \n20                2.255471           2.672107            1       True   \n21                2.275418           2.645035            1       True   \n22                2.081737           3.670271            1       True   \n23                2.081737           3.670271            1       True   \n24                2.068322           3.339995            1       True   \n25                2.068322           3.339995            1       True   \n26               24.610187           0.127796            1       True   \n27               24.610187           0.127796            1       True   \n28               24.396994           0.121297            1       True   \n29               24.396994           0.121297            1       True   \n30                     NaN          28.937116            1       True   \n31                0.016600          23.659507            1      False   \n32                0.035022           1.856974            1      False   \n33                0.038616          10.746465            1      False   \n34                0.041969           1.958253            1      False   \n35                0.122266          25.338550            2      False   \n36                0.031606          28.754601            2      False   \n37                0.049550           4.788861            2      False   \n38                0.050260           4.770741            2      False   \n39                0.059709          11.085763            2      False   \n40                0.141572          12.678082            2      False   \n41                1.754122           1.339921            2      False   \n42                1.762158           1.953518            2      False   \n43                1.763002           1.338711            2      False   \n44                0.125201          19.898851            3      False   \n45                2.011883           4.224587            2      False   \n46                1.261822         220.439410            2      False   \n47                0.811856         260.839062            1      False   \n48                0.112619          12.324926            1      False   \n49                2.438470         269.012887            1      False   \n\n    fit_order  \n0          28  \n1          32  \n2          29  \n3          39  \n4          38  \n5          41  \n6          40  \n7          49  \n8          48  \n9          44  \n10         42  \n11         45  \n12         50  \n13         43  \n14         46  \n15         47  \n16         37  \n17         36  \n18         34  \n19          8  \n20         33  \n21          9  \n22          6  \n23         31  \n24          5  \n25         30  \n26          1  \n27         26  \n28         27  \n29          2  \n30         35  \n31          7  \n32          3  \n33         13  \n34          4  \n35         14  \n36         19  \n37         16  \n38         15  \n39         24  \n40         23  \n41         21  \n42         18  \n43         20  \n44         25  \n45         17  \n46         22  \n47         12  \n48         11  \n49         10  ",
      "text/html": "<div>\n<style scoped>\n    .dataframe tbody tr th:only-of-type {\n        vertical-align: middle;\n    }\n\n    .dataframe tbody tr th {\n        vertical-align: top;\n    }\n\n    .dataframe thead th {\n        text-align: right;\n    }\n</style>\n<table border=\"1\" class=\"dataframe\">\n  <thead>\n    <tr style=\"text-align: right;\">\n      <th></th>\n      <th>model</th>\n      <th>score_test</th>\n      <th>score_val</th>\n      <th>pred_time_test</th>\n      <th>pred_time_val</th>\n      <th>fit_time</th>\n      <th>pred_time_test_marginal</th>\n      <th>pred_time_val_marginal</th>\n      <th>fit_time_marginal</th>\n      <th>stack_level</th>\n      <th>can_infer</th>\n      <th>fit_order</th>\n    </tr>\n  </thead>\n  <tbody>\n    <tr>\n      <th>0</th>\n      <td>LightGBMXT_BAG_L1_FULL</td>\n      <td>1.000000</td>\n      <td>NaN</td>\n      <td>0.004901</td>\n      <td>NaN</td>\n      <td>4.856549</td>\n      <td>0.004901</td>\n      <td>NaN</td>\n      <td>4.856549</td>\n      <td>1</td>\n      <td>True</td>\n      <td>28</td>\n    </tr>\n    <tr>\n      <th>1</th>\n      <td>CatBoost_BAG_L1_FULL</td>\n      <td>1.000000</td>\n      <td>NaN</td>\n      <td>0.005472</td>\n      <td>NaN</td>\n      <td>4.619153</td>\n      <td>0.005472</td>\n      <td>NaN</td>\n      <td>4.619153</td>\n      <td>1</td>\n      <td>True</td>\n      <td>32</td>\n    </tr>\n    <tr>\n      <th>2</th>\n      <td>LightGBM_BAG_L1_FULL</td>\n      <td>1.000000</td>\n      <td>NaN</td>\n      <td>0.005914</td>\n      <td>NaN</td>\n      <td>0.237376</td>\n      <td>0.005914</td>\n      <td>NaN</td>\n      <td>0.237376</td>\n      <td>1</td>\n      <td>True</td>\n      <td>29</td>\n    </tr>\n    <tr>\n      <th>3</th>\n      <td>WeightedEnsemble_L2_FULL</td>\n      <td>1.000000</td>\n      <td>NaN</td>\n      <td>0.006500</td>\n      <td>NaN</td>\n      <td>30.195099</td>\n      <td>0.001599</td>\n      <td>NaN</td>\n      <td>25.338550</td>\n      <td>2</td>\n      <td>True</td>\n      <td>39</td>\n    </tr>\n    <tr>\n      <th>4</th>\n      <td>LightGBMLarge_BAG_L1_FULL</td>\n      <td>1.000000</td>\n      <td>NaN</td>\n      <td>0.013608</td>\n      <td>NaN</td>\n      <td>0.240868</td>\n      <td>0.013608</td>\n      <td>NaN</td>\n      <td>0.240868</td>\n      <td>1</td>\n      <td>True</td>\n      <td>38</td>\n    </tr>\n    <tr>\n      <th>5</th>\n      <td>LightGBM_BAG_L2_FULL</td>\n      <td>1.000000</td>\n      <td>NaN</td>\n      <td>5.459824</td>\n      <td>NaN</td>\n      <td>109.252347</td>\n      <td>0.009350</td>\n      <td>NaN</td>\n      <td>0.281222</td>\n      <td>2</td>\n      <td>True</td>\n      <td>41</td>\n    </tr>\n    <tr>\n      <th>6</th>\n      <td>LightGBMXT_BAG_L2_FULL</td>\n      <td>1.000000</td>\n      <td>NaN</td>\n      <td>5.459951</td>\n      <td>NaN</td>\n      <td>109.245672</td>\n      <td>0.009477</td>\n      <td>NaN</td>\n      <td>0.274547</td>\n      <td>2</td>\n      <td>True</td>\n      <td>40</td>\n    </tr>\n    <tr>\n      <th>7</th>\n      <td>LightGBMLarge_BAG_L2_FULL</td>\n      <td>1.000000</td>\n      <td>NaN</td>\n      <td>5.473377</td>\n      <td>NaN</td>\n      <td>109.259349</td>\n      <td>0.022903</td>\n      <td>NaN</td>\n      <td>0.288223</td>\n      <td>2</td>\n      <td>True</td>\n      <td>49</td>\n    </tr>\n    <tr>\n      <th>8</th>\n      <td>XGBoost_BAG_L2_FULL</td>\n      <td>1.000000</td>\n      <td>NaN</td>\n      <td>5.476804</td>\n      <td>NaN</td>\n      <td>109.227386</td>\n      <td>0.026330</td>\n      <td>NaN</td>\n      <td>0.256261</td>\n      <td>2</td>\n      <td>True</td>\n      <td>48</td>\n    </tr>\n    <tr>\n      <th>9</th>\n      <td>CatBoost_BAG_L2_FULL</td>\n      <td>1.000000</td>\n      <td>NaN</td>\n      <td>5.488034</td>\n      <td>NaN</td>\n      <td>109.089105</td>\n      <td>0.037561</td>\n      <td>NaN</td>\n      <td>0.117979</td>\n      <td>2</td>\n      <td>True</td>\n      <td>44</td>\n    </tr>\n    <tr>\n      <th>10</th>\n      <td>RandomForestGini_BAG_L2_FULL</td>\n      <td>1.000000</td>\n      <td>NaN</td>\n      <td>5.520628</td>\n      <td>NaN</td>\n      <td>113.195713</td>\n      <td>0.070155</td>\n      <td>2.011883</td>\n      <td>4.224587</td>\n      <td>2</td>\n      <td>True</td>\n      <td>42</td>\n    </tr>\n    <tr>\n      <th>11</th>\n      <td>ExtraTreesGini_BAG_L2_FULL</td>\n      <td>1.000000</td>\n      <td>NaN</td>\n      <td>5.520733</td>\n      <td>NaN</td>\n      <td>110.309836</td>\n      <td>0.070260</td>\n      <td>1.763002</td>\n      <td>1.338711</td>\n      <td>2</td>\n      <td>True</td>\n      <td>45</td>\n    </tr>\n    <tr>\n      <th>12</th>\n      <td>WeightedEnsemble_L3_FULL</td>\n      <td>1.000000</td>\n      <td>NaN</td>\n      <td>5.522141</td>\n      <td>NaN</td>\n      <td>130.208687</td>\n      <td>0.001408</td>\n      <td>NaN</td>\n      <td>19.898851</td>\n      <td>3</td>\n      <td>True</td>\n      <td>50</td>\n    </tr>\n    <tr>\n      <th>13</th>\n      <td>RandomForestEntr_BAG_L2_FULL</td>\n      <td>1.000000</td>\n      <td>NaN</td>\n      <td>5.522563</td>\n      <td>NaN</td>\n      <td>110.924643</td>\n      <td>0.072089</td>\n      <td>1.762158</td>\n      <td>1.953518</td>\n      <td>2</td>\n      <td>True</td>\n      <td>43</td>\n    </tr>\n    <tr>\n      <th>14</th>\n      <td>ExtraTreesEntr_BAG_L2_FULL</td>\n      <td>1.000000</td>\n      <td>NaN</td>\n      <td>5.569760</td>\n      <td>NaN</td>\n      <td>110.311046</td>\n      <td>0.119286</td>\n      <td>1.754122</td>\n      <td>1.339921</td>\n      <td>2</td>\n      <td>True</td>\n      <td>46</td>\n    </tr>\n    <tr>\n      <th>15</th>\n      <td>NeuralNetFastAI_BAG_L2_FULL</td>\n      <td>0.999439</td>\n      <td>NaN</td>\n      <td>5.705902</td>\n      <td>NaN</td>\n      <td>129.975572</td>\n      <td>0.255428</td>\n      <td>NaN</td>\n      <td>21.004447</td>\n      <td>2</td>\n      <td>True</td>\n      <td>47</td>\n    </tr>\n    <tr>\n      <th>16</th>\n      <td>NeuralNetTorch_BAG_L1_FULL</td>\n      <td>0.867501</td>\n      <td>NaN</td>\n      <td>0.143589</td>\n      <td>NaN</td>\n      <td>54.433322</td>\n      <td>0.143589</td>\n      <td>NaN</td>\n      <td>54.433322</td>\n      <td>1</td>\n      <td>True</td>\n      <td>37</td>\n    </tr>\n    <tr>\n      <th>17</th>\n      <td>XGBoost_BAG_L1_FULL</td>\n      <td>0.867402</td>\n      <td>NaN</td>\n      <td>0.077041</td>\n      <td>NaN</td>\n      <td>3.070240</td>\n      <td>0.077041</td>\n      <td>NaN</td>\n      <td>3.070240</td>\n      <td>1</td>\n      <td>True</td>\n      <td>36</td>\n    </tr>\n    <tr>\n      <th>18</th>\n      <td>ExtraTreesEntr_BAG_L1_FULL</td>\n      <td>0.857992</td>\n      <td>NaN</td>\n      <td>0.320152</td>\n      <td>2.275418</td>\n      <td>2.645035</td>\n      <td>0.320152</td>\n      <td>2.275418</td>\n      <td>2.645035</td>\n      <td>1</td>\n      <td>True</td>\n      <td>34</td>\n    </tr>\n    <tr>\n      <th>19</th>\n      <td>ExtraTreesGini_BAG_L1</td>\n      <td>0.857992</td>\n      <td>0.860906</td>\n      <td>0.328750</td>\n      <td>2.255471</td>\n      <td>2.672107</td>\n      <td>0.328750</td>\n      <td>2.255471</td>\n      <td>2.672107</td>\n      <td>1</td>\n      <td>True</td>\n      <td>8</td>\n    </tr>\n    <tr>\n      <th>20</th>\n      <td>ExtraTreesGini_BAG_L1_FULL</td>\n      <td>0.857992</td>\n      <td>NaN</td>\n      <td>0.337282</td>\n      <td>2.255471</td>\n      <td>2.672107</td>\n      <td>0.337282</td>\n      <td>2.255471</td>\n      <td>2.672107</td>\n      <td>1</td>\n      <td>True</td>\n      <td>33</td>\n    </tr>\n    <tr>\n      <th>21</th>\n      <td>ExtraTreesEntr_BAG_L1</td>\n      <td>0.857992</td>\n      <td>0.860930</td>\n      <td>0.426562</td>\n      <td>2.275418</td>\n      <td>2.645035</td>\n      <td>0.426562</td>\n      <td>2.275418</td>\n      <td>2.645035</td>\n      <td>1</td>\n      <td>True</td>\n      <td>9</td>\n    </tr>\n    <tr>\n      <th>22</th>\n      <td>RandomForestEntr_BAG_L1</td>\n      <td>0.857662</td>\n      <td>0.860410</td>\n      <td>0.239840</td>\n      <td>2.081737</td>\n      <td>3.670271</td>\n      <td>0.239840</td>\n      <td>2.081737</td>\n      <td>3.670271</td>\n      <td>1</td>\n      <td>True</td>\n      <td>6</td>\n    </tr>\n    <tr>\n      <th>23</th>\n      <td>RandomForestEntr_BAG_L1_FULL</td>\n      <td>0.857662</td>\n      <td>NaN</td>\n      <td>0.244074</td>\n      <td>2.081737</td>\n      <td>3.670271</td>\n      <td>0.244074</td>\n      <td>2.081737</td>\n      <td>3.670271</td>\n      <td>1</td>\n      <td>True</td>\n      <td>31</td>\n    </tr>\n    <tr>\n      <th>24</th>\n      <td>RandomForestGini_BAG_L1</td>\n      <td>0.857662</td>\n      <td>0.860419</td>\n      <td>0.247300</td>\n      <td>2.068322</td>\n      <td>3.339995</td>\n      <td>0.247300</td>\n      <td>2.068322</td>\n      <td>3.339995</td>\n      <td>1</td>\n      <td>True</td>\n      <td>5</td>\n    </tr>\n    <tr>\n      <th>25</th>\n      <td>RandomForestGini_BAG_L1_FULL</td>\n      <td>0.857662</td>\n      <td>NaN</td>\n      <td>0.249193</td>\n      <td>2.068322</td>\n      <td>3.339995</td>\n      <td>0.249193</td>\n      <td>2.068322</td>\n      <td>3.339995</td>\n      <td>1</td>\n      <td>True</td>\n      <td>30</td>\n    </tr>\n    <tr>\n      <th>26</th>\n      <td>KNeighborsUnif_BAG_L1</td>\n      <td>0.726946</td>\n      <td>0.733607</td>\n      <td>1.696443</td>\n      <td>24.610187</td>\n      <td>0.127796</td>\n      <td>1.696443</td>\n      <td>24.610187</td>\n      <td>0.127796</td>\n      <td>1</td>\n      <td>True</td>\n      <td>1</td>\n    </tr>\n    <tr>\n      <th>27</th>\n      <td>KNeighborsUnif_BAG_L1_FULL</td>\n      <td>0.726946</td>\n      <td>NaN</td>\n      <td>1.733741</td>\n      <td>24.610187</td>\n      <td>0.127796</td>\n      <td>1.733741</td>\n      <td>24.610187</td>\n      <td>0.127796</td>\n      <td>1</td>\n      <td>True</td>\n      <td>26</td>\n    </tr>\n    <tr>\n      <th>28</th>\n      <td>KNeighborsDist_BAG_L1_FULL</td>\n      <td>0.717073</td>\n      <td>NaN</td>\n      <td>1.716454</td>\n      <td>24.396994</td>\n      <td>0.121297</td>\n      <td>1.716454</td>\n      <td>24.396994</td>\n      <td>0.121297</td>\n      <td>1</td>\n      <td>True</td>\n      <td>27</td>\n    </tr>\n    <tr>\n      <th>29</th>\n      <td>KNeighborsDist_BAG_L1</td>\n      <td>0.717073</td>\n      <td>0.723743</td>\n      <td>1.764806</td>\n      <td>24.396994</td>\n      <td>0.121297</td>\n      <td>1.764806</td>\n      <td>24.396994</td>\n      <td>0.121297</td>\n      <td>1</td>\n      <td>True</td>\n      <td>2</td>\n    </tr>\n    <tr>\n      <th>30</th>\n      <td>NeuralNetFastAI_BAG_L1_FULL</td>\n      <td>0.592201</td>\n      <td>NaN</td>\n      <td>0.599052</td>\n      <td>NaN</td>\n      <td>28.937116</td>\n      <td>0.599052</td>\n      <td>NaN</td>\n      <td>28.937116</td>\n      <td>1</td>\n      <td>True</td>\n      <td>35</td>\n    </tr>\n    <tr>\n      <th>31</th>\n      <td>CatBoost_BAG_L1</td>\n      <td>NaN</td>\n      <td>1.000000</td>\n      <td>NaN</td>\n      <td>0.016600</td>\n      <td>23.659507</td>\n      <td>NaN</td>\n      <td>0.016600</td>\n      <td>23.659507</td>\n      <td>1</td>\n      <td>False</td>\n      <td>7</td>\n    </tr>\n    <tr>\n      <th>32</th>\n      <td>LightGBMXT_BAG_L1</td>\n      <td>NaN</td>\n      <td>1.000000</td>\n      <td>NaN</td>\n      <td>0.035022</td>\n      <td>1.856974</td>\n      <td>NaN</td>\n      <td>0.035022</td>\n      <td>1.856974</td>\n      <td>1</td>\n      <td>False</td>\n      <td>3</td>\n    </tr>\n    <tr>\n      <th>33</th>\n      <td>LightGBMLarge_BAG_L1</td>\n      <td>NaN</td>\n      <td>1.000000</td>\n      <td>NaN</td>\n      <td>0.038616</td>\n      <td>10.746465</td>\n      <td>NaN</td>\n      <td>0.038616</td>\n      <td>10.746465</td>\n      <td>1</td>\n      <td>False</td>\n      <td>13</td>\n    </tr>\n    <tr>\n      <th>34</th>\n      <td>LightGBM_BAG_L1</td>\n      <td>NaN</td>\n      <td>1.000000</td>\n      <td>NaN</td>\n      <td>0.041969</td>\n      <td>1.958253</td>\n      <td>NaN</td>\n      <td>0.041969</td>\n      <td>1.958253</td>\n      <td>1</td>\n      <td>False</td>\n      <td>4</td>\n    </tr>\n    <tr>\n      <th>35</th>\n      <td>WeightedEnsemble_L2</td>\n      <td>NaN</td>\n      <td>1.000000</td>\n      <td>NaN</td>\n      <td>0.157289</td>\n      <td>27.195524</td>\n      <td>NaN</td>\n      <td>0.122266</td>\n      <td>25.338550</td>\n      <td>2</td>\n      <td>False</td>\n      <td>14</td>\n    </tr>\n    <tr>\n      <th>36</th>\n      <td>CatBoost_BAG_L2</td>\n      <td>NaN</td>\n      <td>1.000000</td>\n      <td>NaN</td>\n      <td>61.214887</td>\n      <td>621.729176</td>\n      <td>NaN</td>\n      <td>0.031606</td>\n      <td>28.754601</td>\n      <td>2</td>\n      <td>False</td>\n      <td>19</td>\n    </tr>\n    <tr>\n      <th>37</th>\n      <td>LightGBM_BAG_L2</td>\n      <td>NaN</td>\n      <td>1.000000</td>\n      <td>NaN</td>\n      <td>61.232831</td>\n      <td>597.763436</td>\n      <td>NaN</td>\n      <td>0.049550</td>\n      <td>4.788861</td>\n      <td>2</td>\n      <td>False</td>\n      <td>16</td>\n    </tr>\n    <tr>\n      <th>38</th>\n      <td>LightGBMXT_BAG_L2</td>\n      <td>NaN</td>\n      <td>1.000000</td>\n      <td>NaN</td>\n      <td>61.233541</td>\n      <td>597.745317</td>\n      <td>NaN</td>\n      <td>0.050260</td>\n      <td>4.770741</td>\n      <td>2</td>\n      <td>False</td>\n      <td>15</td>\n    </tr>\n    <tr>\n      <th>39</th>\n      <td>LightGBMLarge_BAG_L2</td>\n      <td>NaN</td>\n      <td>1.000000</td>\n      <td>NaN</td>\n      <td>61.242990</td>\n      <td>604.060338</td>\n      <td>NaN</td>\n      <td>0.059709</td>\n      <td>11.085763</td>\n      <td>2</td>\n      <td>False</td>\n      <td>24</td>\n    </tr>\n    <tr>\n      <th>40</th>\n      <td>XGBoost_BAG_L2</td>\n      <td>NaN</td>\n      <td>1.000000</td>\n      <td>NaN</td>\n      <td>61.324853</td>\n      <td>605.652658</td>\n      <td>NaN</td>\n      <td>0.141572</td>\n      <td>12.678082</td>\n      <td>2</td>\n      <td>False</td>\n      <td>23</td>\n    </tr>\n    <tr>\n      <th>41</th>\n      <td>ExtraTreesEntr_BAG_L2</td>\n      <td>NaN</td>\n      <td>1.000000</td>\n      <td>NaN</td>\n      <td>62.937403</td>\n      <td>594.314496</td>\n      <td>NaN</td>\n      <td>1.754122</td>\n      <td>1.339921</td>\n      <td>2</td>\n      <td>False</td>\n      <td>21</td>\n    </tr>\n    <tr>\n      <th>42</th>\n      <td>RandomForestEntr_BAG_L2</td>\n      <td>NaN</td>\n      <td>1.000000</td>\n      <td>NaN</td>\n      <td>62.945439</td>\n      <td>594.928093</td>\n      <td>NaN</td>\n      <td>1.762158</td>\n      <td>1.953518</td>\n      <td>2</td>\n      <td>False</td>\n      <td>18</td>\n    </tr>\n    <tr>\n      <th>43</th>\n      <td>ExtraTreesGini_BAG_L2</td>\n      <td>NaN</td>\n      <td>1.000000</td>\n      <td>NaN</td>\n      <td>62.946283</td>\n      <td>594.313286</td>\n      <td>NaN</td>\n      <td>1.763002</td>\n      <td>1.338711</td>\n      <td>2</td>\n      <td>False</td>\n      <td>20</td>\n    </tr>\n    <tr>\n      <th>44</th>\n      <td>WeightedEnsemble_L3</td>\n      <td>NaN</td>\n      <td>1.000000</td>\n      <td>NaN</td>\n      <td>63.071484</td>\n      <td>614.212137</td>\n      <td>NaN</td>\n      <td>0.125201</td>\n      <td>19.898851</td>\n      <td>3</td>\n      <td>False</td>\n      <td>25</td>\n    </tr>\n    <tr>\n      <th>45</th>\n      <td>RandomForestGini_BAG_L2</td>\n      <td>NaN</td>\n      <td>1.000000</td>\n      <td>NaN</td>\n      <td>63.195164</td>\n      <td>597.199162</td>\n      <td>NaN</td>\n      <td>2.011883</td>\n      <td>4.224587</td>\n      <td>2</td>\n      <td>False</td>\n      <td>17</td>\n    </tr>\n    <tr>\n      <th>46</th>\n      <td>NeuralNetFastAI_BAG_L2</td>\n      <td>NaN</td>\n      <td>0.999992</td>\n      <td>NaN</td>\n      <td>62.445103</td>\n      <td>813.413985</td>\n      <td>NaN</td>\n      <td>1.261822</td>\n      <td>220.439410</td>\n      <td>2</td>\n      <td>False</td>\n      <td>22</td>\n    </tr>\n    <tr>\n      <th>47</th>\n      <td>NeuralNetTorch_BAG_L1</td>\n      <td>NaN</td>\n      <td>0.870993</td>\n      <td>NaN</td>\n      <td>0.811856</td>\n      <td>260.839062</td>\n      <td>NaN</td>\n      <td>0.811856</td>\n      <td>260.839062</td>\n      <td>1</td>\n      <td>False</td>\n      <td>12</td>\n    </tr>\n    <tr>\n      <th>48</th>\n      <td>XGBoost_BAG_L1</td>\n      <td>NaN</td>\n      <td>0.870852</td>\n      <td>NaN</td>\n      <td>0.112619</td>\n      <td>12.324926</td>\n      <td>NaN</td>\n      <td>0.112619</td>\n      <td>12.324926</td>\n      <td>1</td>\n      <td>False</td>\n      <td>11</td>\n    </tr>\n    <tr>\n      <th>49</th>\n      <td>NeuralNetFastAI_BAG_L1</td>\n      <td>NaN</td>\n      <td>0.643692</td>\n      <td>NaN</td>\n      <td>2.438470</td>\n      <td>269.012887</td>\n      <td>NaN</td>\n      <td>2.438470</td>\n      <td>269.012887</td>\n      <td>1</td>\n      <td>False</td>\n      <td>10</td>\n    </tr>\n  </tbody>\n</table>\n</div>"
     },
     "execution_count": 12,
     "metadata": {},
     "output_type": "execute_result"
    }
   ],
   "source": [
    "predictor_high.leaderboard(test_data)"
   ],
   "metadata": {
    "collapsed": false,
    "pycharm": {
     "name": "#%%\n"
    }
   }
  },
  {
   "cell_type": "markdown",
   "source": [
    "## medium quality"
   ],
   "metadata": {
    "collapsed": false
   }
  },
  {
   "cell_type": "code",
   "execution_count": 14,
   "outputs": [
    {
     "name": "stderr",
     "output_type": "stream",
     "text": [
      "Warning: path already exists! This predictor may overwrite an existing predictor! path=\"./auto_gl/exp-iot23/medium_q\"\n",
      "Presets specified: ['medium_quality']\n",
      "Warning: Training may take a very long time because `time_limit` was not specified and `train_data` is large (121148 samples, 36.89 MB).\n",
      "\tConsider setting `time_limit` to ensure training finishes within an expected duration or experiment with a small portion of `train_data` to identify an ideal `presets` and `hyperparameters` configuration.\n",
      "Beginning AutoGluon training ...\n",
      "AutoGluon will save models to \"./auto_gl/exp-iot23/medium_q/\"\n",
      "AutoGluon Version:  0.4.0\n",
      "Python Version:     3.8.13\n",
      "Operating System:   Linux\n",
      "Train Data Rows:    121148\n",
      "Train Data Columns: 30\n",
      "Label Column: label\n",
      "Preprocessing data ...\n",
      "AutoGluon infers your prediction problem is: 'binary' (because only two unique label-values observed).\n",
      "\t2 unique label values:  ['Benign', 'Malicious']\n",
      "\tIf 'binary' is not the correct problem_type, please manually specify the problem_type parameter during predictor init (You may specify problem_type as one of: ['binary', 'multiclass', 'regression'])\n",
      "Selected class <--> label mapping:  class 1 = Malicious, class 0 = Benign\n",
      "\tNote: For your binary classification, AutoGluon arbitrarily selected which label-value represents positive (Malicious) vs negative (Benign) class.\n",
      "\tTo explicitly set the positive_class, either rename classes to 1 and 0, or specify positive_class in Predictor init.\n",
      "Using Feature Generators to preprocess the data ...\n",
      "Fitting AutoMLPipelineFeatureGenerator...\n",
      "\tAvailable Memory:                    9992.31 MB\n",
      "\tTrain Data (Original)  Memory Usage: 29.08 MB (0.3% of available memory)\n",
      "\tInferring data type of each feature based on column values. Set feature_metadata_in to manually specify special dtypes of the features.\n",
      "\tStage 1 Generators:\n",
      "\t\tFitting AsTypeFeatureGenerator...\n",
      "\t\t\tNote: Converting 21 features to boolean dtype as they only contain 2 unique values.\n",
      "\tStage 2 Generators:\n",
      "\t\tFitting FillNaFeatureGenerator...\n",
      "\tStage 3 Generators:\n",
      "\t\tFitting IdentityFeatureGenerator...\n",
      "\tStage 4 Generators:\n",
      "\t\tFitting DropUniqueFeatureGenerator...\n",
      "\tTypes of features in original data (raw dtype, special dtypes):\n",
      "\t\t('float', []) :  7 | ['duration', 'missed_bytes', 'orig_pkts', 'orig_ip_bytes', 'resp_pkts', ...]\n",
      "\t\t('int', [])   : 23 | ['orig_bytes', 'resp_bytes', 'proto_tcp', 'proto_udp', 'service_-', ...]\n",
      "\tTypes of features in processed data (raw dtype, special dtypes):\n",
      "\t\t('float', [])     :  7 | ['duration', 'missed_bytes', 'orig_pkts', 'orig_ip_bytes', 'resp_pkts', ...]\n",
      "\t\t('int', [])       :  2 | ['orig_bytes', 'resp_bytes']\n",
      "\t\t('int', ['bool']) : 21 | ['proto_tcp', 'proto_udp', 'service_-', 'service_dhcp', 'service_dns', ...]\n",
      "\t0.2s = Fit runtime\n",
      "\t30 features in original data used to generate 30 features in processed data.\n",
      "\tTrain Data (Processed) Memory Usage: 11.27 MB (0.1% of available memory)\n",
      "Data preprocessing and feature engineering runtime = 0.3s ...\n",
      "AutoGluon will gauge predictive performance using evaluation metric: 'accuracy'\n",
      "\tTo change this, specify the eval_metric parameter of Predictor()\n",
      "Automatically generating train/validation split with holdout_frac=0.02063591639977548, Train Rows: 118648, Val Rows: 2500\n",
      "Fitting 13 L1 models ...\n",
      "Fitting model: KNeighborsUnif ...\n",
      "\t0.7484\t = Validation score   (accuracy)\n",
      "\t0.14s\t = Training   runtime\n",
      "\t0.53s\t = Validation runtime\n",
      "Fitting model: KNeighborsDist ...\n",
      "\t0.7316\t = Validation score   (accuracy)\n",
      "\t0.13s\t = Training   runtime\n",
      "\t0.17s\t = Validation runtime\n",
      "Fitting model: LightGBMXT ...\n",
      "\tTraining LightGBMXT with GPU, note that this may negatively impact model quality compared to CPU training.\n",
      "\t1.0\t = Validation score   (accuracy)\n",
      "\t0.34s\t = Training   runtime\n",
      "\t0.01s\t = Validation runtime\n",
      "Fitting model: LightGBM ...\n",
      "\tTraining LightGBM with GPU, note that this may negatively impact model quality compared to CPU training.\n",
      "\t1.0\t = Validation score   (accuracy)\n",
      "\t0.36s\t = Training   runtime\n",
      "\t0.01s\t = Validation runtime\n",
      "Fitting model: RandomForestGini ...\n",
      "\t0.8648\t = Validation score   (accuracy)\n",
      "\t4.44s\t = Training   runtime\n",
      "\t0.06s\t = Validation runtime\n",
      "Fitting model: RandomForestEntr ...\n",
      "\t0.8648\t = Validation score   (accuracy)\n",
      "\t3.96s\t = Training   runtime\n",
      "\t0.05s\t = Validation runtime\n",
      "Fitting model: CatBoost ...\n",
      "\tTraining CatBoost with GPU, note that this may negatively impact model quality compared to CPU training.\n",
      "\tWarning: CatBoost on GPU is experimental. If you encounter issues, use CPU for training CatBoost instead.\n",
      "\t1.0\t = Validation score   (accuracy)\n",
      "\t0.34s\t = Training   runtime\n",
      "\t0.0s\t = Validation runtime\n",
      "Fitting model: ExtraTreesGini ...\n",
      "\t0.8672\t = Validation score   (accuracy)\n",
      "\t3.09s\t = Training   runtime\n",
      "\t0.05s\t = Validation runtime\n",
      "Fitting model: ExtraTreesEntr ...\n",
      "\t0.868\t = Validation score   (accuracy)\n",
      "\t2.87s\t = Training   runtime\n",
      "\t0.05s\t = Validation runtime\n",
      "Fitting model: NeuralNetFastAI ...\n",
      "No improvement since epoch 0: early stopping\n",
      "\t0.5988\t = Validation score   (accuracy)\n",
      "\t46.77s\t = Training   runtime\n",
      "\t0.03s\t = Validation runtime\n",
      "Fitting model: XGBoost ...\n",
      "\t0.8792\t = Validation score   (accuracy)\n",
      "\t0.37s\t = Training   runtime\n",
      "\t0.01s\t = Validation runtime\n",
      "Fitting model: NeuralNetTorch ...\n",
      "\t0.8792\t = Validation score   (accuracy)\n",
      "\t41.73s\t = Training   runtime\n",
      "\t0.02s\t = Validation runtime\n",
      "Fitting model: LightGBMLarge ...\n",
      "\tTraining LightGBMLarge with GPU, note that this may negatively impact model quality compared to CPU training.\n",
      "\t1.0\t = Validation score   (accuracy)\n",
      "\t0.45s\t = Training   runtime\n",
      "\t0.01s\t = Validation runtime\n",
      "Fitting model: WeightedEnsemble_L2 ...\n",
      "\t1.0\t = Validation score   (accuracy)\n",
      "\t0.73s\t = Training   runtime\n",
      "\t0.0s\t = Validation runtime\n",
      "AutoGluon training complete, total runtime = 113.1s ... Best model: \"WeightedEnsemble_L2\"\n",
      "TabularPredictor saved. To load, use: predictor = TabularPredictor.load(\"./auto_gl/exp-iot23/medium_q/\")\n"
     ]
    }
   ],
   "source": [
    "save_path = './auto_gl/exp-iot23/medium_q'  # specifies folder to store trained models\n",
    "predictor_medium = TabularPredictor(label=label, path=save_path).fit(train_data, ag_args_fit={'num_gpus': 1},                                                              presets='medium_quality')"
   ],
   "metadata": {
    "collapsed": false,
    "pycharm": {
     "name": "#%%\n"
    }
   }
  },
  {
   "cell_type": "code",
   "execution_count": 15,
   "outputs": [
    {
     "name": "stdout",
     "output_type": "stream",
     "text": [
      "*** Summary of fit() ***\n",
      "Estimated performance of each model:\n",
      "                  model  score_val  pred_time_val   fit_time  pred_time_val_marginal  fit_time_marginal  stack_level  can_infer  fit_order\n",
      "0              CatBoost     1.0000       0.003936   0.339363                0.003936           0.339363            1       True          7\n",
      "1         LightGBMLarge     1.0000       0.006360   0.452114                0.006360           0.452114            1       True         13\n",
      "2            LightGBMXT     1.0000       0.006875   0.342211                0.006875           0.342211            1       True          3\n",
      "3              LightGBM     1.0000       0.008203   0.356025                0.008203           0.356025            1       True          4\n",
      "4   WeightedEnsemble_L2     1.0000       0.009644   1.076233                0.002769           0.734022            2       True         14\n",
      "5               XGBoost     0.8792       0.009075   0.367509                0.009075           0.367509            1       True         11\n",
      "6        NeuralNetTorch     0.8792       0.017450  41.730428                0.017450          41.730428            1       True         12\n",
      "7        ExtraTreesEntr     0.8680       0.053076   2.873871                0.053076           2.873871            1       True          9\n",
      "8        ExtraTreesGini     0.8672       0.053777   3.086541                0.053777           3.086541            1       True          8\n",
      "9      RandomForestEntr     0.8648       0.053249   3.964676                0.053249           3.964676            1       True          6\n",
      "10     RandomForestGini     0.8648       0.057333   4.443386                0.057333           4.443386            1       True          5\n",
      "11       KNeighborsUnif     0.7484       0.531533   0.140967                0.531533           0.140967            1       True          1\n",
      "12       KNeighborsDist     0.7316       0.170979   0.134858                0.170979           0.134858            1       True          2\n",
      "13      NeuralNetFastAI     0.5988       0.027142  46.773788                0.027142          46.773788            1       True         10\n",
      "Number of models trained: 14\n",
      "Types of models trained:\n",
      "{'XTModel', 'KNNModel', 'LGBModel', 'CatBoostModel', 'WeightedEnsembleModel', 'RFModel', 'XGBoostModel', 'NNFastAiTabularModel', 'TabularNeuralNetTorchModel'}\n",
      "Bagging used: False \n",
      "Multi-layer stack-ensembling used: False \n",
      "Feature Metadata (Processed):\n",
      "(raw dtype, special dtypes):\n",
      "('float', [])     :  7 | ['duration', 'missed_bytes', 'orig_pkts', 'orig_ip_bytes', 'resp_pkts', ...]\n",
      "('int', [])       :  2 | ['orig_bytes', 'resp_bytes']\n",
      "('int', ['bool']) : 21 | ['proto_tcp', 'proto_udp', 'service_-', 'service_dhcp', 'service_dns', ...]\n",
      "*** End of fit() summary ***\n"
     ]
    },
    {
     "name": "stderr",
     "output_type": "stream",
     "text": [
      "/media/wuguo-buaa/LENOVO_USB_HDD/PycharmProjects/Machine_learning_venv/lib/python3.8/site-packages/autogluon/core/utils/plots.py:138: UserWarning: AutoGluon summary plots cannot be created because bokeh is not installed. To see plots, please do: \"pip install bokeh==2.0.1\"\n",
      "  warnings.warn('AutoGluon summary plots cannot be created because bokeh is not installed. To see plots, please do: \"pip install bokeh==2.0.1\"')\n"
     ]
    }
   ],
   "source": [
    "results_mid = predictor_medium.fit_summary(show_plot=True)"
   ],
   "metadata": {
    "collapsed": false,
    "pycharm": {
     "name": "#%%\n"
    }
   }
  },
  {
   "cell_type": "code",
   "execution_count": 16,
   "outputs": [
    {
     "name": "stdout",
     "output_type": "stream",
     "text": [
      "                  model  score_test  score_val  pred_time_test  pred_time_val   fit_time  pred_time_test_marginal  pred_time_val_marginal  fit_time_marginal  stack_level  can_infer  fit_order\n",
      "0         LightGBMLarge    1.000000     1.0000        0.004606       0.006360   0.452114                 0.004606                0.006360           0.452114            1       True         13\n",
      "1            LightGBMXT    1.000000     1.0000        0.004747       0.006875   0.342211                 0.004747                0.006875           0.342211            1       True          3\n",
      "2   WeightedEnsemble_L2    1.000000     1.0000        0.006809       0.009644   1.076233                 0.002061                0.002769           0.734022            2       True         14\n",
      "3              LightGBM    1.000000     1.0000        0.007361       0.008203   0.356025                 0.007361                0.008203           0.356025            1       True          4\n",
      "4              CatBoost    1.000000     1.0000        0.032734       0.003936   0.339363                 0.032734                0.003936           0.339363            1       True          7\n",
      "5               XGBoost    0.867435     0.8792        0.012341       0.009075   0.367509                 0.012341                0.009075           0.367509            1       True         11\n",
      "6        NeuralNetTorch    0.867402     0.8792        0.134140       0.017450  41.730428                 0.134140                0.017450          41.730428            1       True         12\n",
      "7        ExtraTreesGini    0.857860     0.8672        0.323307       0.053777   3.086541                 0.323307                0.053777           3.086541            1       True          8\n",
      "8        ExtraTreesEntr    0.857728     0.8680        0.264750       0.053076   2.873871                 0.264750                0.053076           2.873871            1       True          9\n",
      "9      RandomForestGini    0.857299     0.8648        0.194463       0.057333   4.443386                 0.194463                0.057333           4.443386            1       True          5\n",
      "10     RandomForestEntr    0.857265     0.8648        0.191084       0.053249   3.964676                 0.191084                0.053249           3.964676            1       True          6\n",
      "11       KNeighborsUnif    0.727177     0.7484        5.895396       0.531533   0.140967                 5.895396                0.531533           0.140967            1       True          1\n",
      "12       KNeighborsDist    0.716908     0.7316        6.350269       0.170979   0.134858                 6.350269                0.170979           0.134858            1       True          2\n",
      "13      NeuralNetFastAI    0.592036     0.5988        0.263573       0.027142  46.773788                 0.263573                0.027142          46.773788            1       True         10\n"
     ]
    },
    {
     "data": {
      "text/plain": "                  model  score_test  score_val  pred_time_test  pred_time_val  \\\n0         LightGBMLarge    1.000000     1.0000        0.004606       0.006360   \n1            LightGBMXT    1.000000     1.0000        0.004747       0.006875   \n2   WeightedEnsemble_L2    1.000000     1.0000        0.006809       0.009644   \n3              LightGBM    1.000000     1.0000        0.007361       0.008203   \n4              CatBoost    1.000000     1.0000        0.032734       0.003936   \n5               XGBoost    0.867435     0.8792        0.012341       0.009075   \n6        NeuralNetTorch    0.867402     0.8792        0.134140       0.017450   \n7        ExtraTreesGini    0.857860     0.8672        0.323307       0.053777   \n8        ExtraTreesEntr    0.857728     0.8680        0.264750       0.053076   \n9      RandomForestGini    0.857299     0.8648        0.194463       0.057333   \n10     RandomForestEntr    0.857265     0.8648        0.191084       0.053249   \n11       KNeighborsUnif    0.727177     0.7484        5.895396       0.531533   \n12       KNeighborsDist    0.716908     0.7316        6.350269       0.170979   \n13      NeuralNetFastAI    0.592036     0.5988        0.263573       0.027142   \n\n     fit_time  pred_time_test_marginal  pred_time_val_marginal  \\\n0    0.452114                 0.004606                0.006360   \n1    0.342211                 0.004747                0.006875   \n2    1.076233                 0.002061                0.002769   \n3    0.356025                 0.007361                0.008203   \n4    0.339363                 0.032734                0.003936   \n5    0.367509                 0.012341                0.009075   \n6   41.730428                 0.134140                0.017450   \n7    3.086541                 0.323307                0.053777   \n8    2.873871                 0.264750                0.053076   \n9    4.443386                 0.194463                0.057333   \n10   3.964676                 0.191084                0.053249   \n11   0.140967                 5.895396                0.531533   \n12   0.134858                 6.350269                0.170979   \n13  46.773788                 0.263573                0.027142   \n\n    fit_time_marginal  stack_level  can_infer  fit_order  \n0            0.452114            1       True         13  \n1            0.342211            1       True          3  \n2            0.734022            2       True         14  \n3            0.356025            1       True          4  \n4            0.339363            1       True          7  \n5            0.367509            1       True         11  \n6           41.730428            1       True         12  \n7            3.086541            1       True          8  \n8            2.873871            1       True          9  \n9            4.443386            1       True          5  \n10           3.964676            1       True          6  \n11           0.140967            1       True          1  \n12           0.134858            1       True          2  \n13          46.773788            1       True         10  ",
      "text/html": "<div>\n<style scoped>\n    .dataframe tbody tr th:only-of-type {\n        vertical-align: middle;\n    }\n\n    .dataframe tbody tr th {\n        vertical-align: top;\n    }\n\n    .dataframe thead th {\n        text-align: right;\n    }\n</style>\n<table border=\"1\" class=\"dataframe\">\n  <thead>\n    <tr style=\"text-align: right;\">\n      <th></th>\n      <th>model</th>\n      <th>score_test</th>\n      <th>score_val</th>\n      <th>pred_time_test</th>\n      <th>pred_time_val</th>\n      <th>fit_time</th>\n      <th>pred_time_test_marginal</th>\n      <th>pred_time_val_marginal</th>\n      <th>fit_time_marginal</th>\n      <th>stack_level</th>\n      <th>can_infer</th>\n      <th>fit_order</th>\n    </tr>\n  </thead>\n  <tbody>\n    <tr>\n      <th>0</th>\n      <td>LightGBMLarge</td>\n      <td>1.000000</td>\n      <td>1.0000</td>\n      <td>0.004606</td>\n      <td>0.006360</td>\n      <td>0.452114</td>\n      <td>0.004606</td>\n      <td>0.006360</td>\n      <td>0.452114</td>\n      <td>1</td>\n      <td>True</td>\n      <td>13</td>\n    </tr>\n    <tr>\n      <th>1</th>\n      <td>LightGBMXT</td>\n      <td>1.000000</td>\n      <td>1.0000</td>\n      <td>0.004747</td>\n      <td>0.006875</td>\n      <td>0.342211</td>\n      <td>0.004747</td>\n      <td>0.006875</td>\n      <td>0.342211</td>\n      <td>1</td>\n      <td>True</td>\n      <td>3</td>\n    </tr>\n    <tr>\n      <th>2</th>\n      <td>WeightedEnsemble_L2</td>\n      <td>1.000000</td>\n      <td>1.0000</td>\n      <td>0.006809</td>\n      <td>0.009644</td>\n      <td>1.076233</td>\n      <td>0.002061</td>\n      <td>0.002769</td>\n      <td>0.734022</td>\n      <td>2</td>\n      <td>True</td>\n      <td>14</td>\n    </tr>\n    <tr>\n      <th>3</th>\n      <td>LightGBM</td>\n      <td>1.000000</td>\n      <td>1.0000</td>\n      <td>0.007361</td>\n      <td>0.008203</td>\n      <td>0.356025</td>\n      <td>0.007361</td>\n      <td>0.008203</td>\n      <td>0.356025</td>\n      <td>1</td>\n      <td>True</td>\n      <td>4</td>\n    </tr>\n    <tr>\n      <th>4</th>\n      <td>CatBoost</td>\n      <td>1.000000</td>\n      <td>1.0000</td>\n      <td>0.032734</td>\n      <td>0.003936</td>\n      <td>0.339363</td>\n      <td>0.032734</td>\n      <td>0.003936</td>\n      <td>0.339363</td>\n      <td>1</td>\n      <td>True</td>\n      <td>7</td>\n    </tr>\n    <tr>\n      <th>5</th>\n      <td>XGBoost</td>\n      <td>0.867435</td>\n      <td>0.8792</td>\n      <td>0.012341</td>\n      <td>0.009075</td>\n      <td>0.367509</td>\n      <td>0.012341</td>\n      <td>0.009075</td>\n      <td>0.367509</td>\n      <td>1</td>\n      <td>True</td>\n      <td>11</td>\n    </tr>\n    <tr>\n      <th>6</th>\n      <td>NeuralNetTorch</td>\n      <td>0.867402</td>\n      <td>0.8792</td>\n      <td>0.134140</td>\n      <td>0.017450</td>\n      <td>41.730428</td>\n      <td>0.134140</td>\n      <td>0.017450</td>\n      <td>41.730428</td>\n      <td>1</td>\n      <td>True</td>\n      <td>12</td>\n    </tr>\n    <tr>\n      <th>7</th>\n      <td>ExtraTreesGini</td>\n      <td>0.857860</td>\n      <td>0.8672</td>\n      <td>0.323307</td>\n      <td>0.053777</td>\n      <td>3.086541</td>\n      <td>0.323307</td>\n      <td>0.053777</td>\n      <td>3.086541</td>\n      <td>1</td>\n      <td>True</td>\n      <td>8</td>\n    </tr>\n    <tr>\n      <th>8</th>\n      <td>ExtraTreesEntr</td>\n      <td>0.857728</td>\n      <td>0.8680</td>\n      <td>0.264750</td>\n      <td>0.053076</td>\n      <td>2.873871</td>\n      <td>0.264750</td>\n      <td>0.053076</td>\n      <td>2.873871</td>\n      <td>1</td>\n      <td>True</td>\n      <td>9</td>\n    </tr>\n    <tr>\n      <th>9</th>\n      <td>RandomForestGini</td>\n      <td>0.857299</td>\n      <td>0.8648</td>\n      <td>0.194463</td>\n      <td>0.057333</td>\n      <td>4.443386</td>\n      <td>0.194463</td>\n      <td>0.057333</td>\n      <td>4.443386</td>\n      <td>1</td>\n      <td>True</td>\n      <td>5</td>\n    </tr>\n    <tr>\n      <th>10</th>\n      <td>RandomForestEntr</td>\n      <td>0.857265</td>\n      <td>0.8648</td>\n      <td>0.191084</td>\n      <td>0.053249</td>\n      <td>3.964676</td>\n      <td>0.191084</td>\n      <td>0.053249</td>\n      <td>3.964676</td>\n      <td>1</td>\n      <td>True</td>\n      <td>6</td>\n    </tr>\n    <tr>\n      <th>11</th>\n      <td>KNeighborsUnif</td>\n      <td>0.727177</td>\n      <td>0.7484</td>\n      <td>5.895396</td>\n      <td>0.531533</td>\n      <td>0.140967</td>\n      <td>5.895396</td>\n      <td>0.531533</td>\n      <td>0.140967</td>\n      <td>1</td>\n      <td>True</td>\n      <td>1</td>\n    </tr>\n    <tr>\n      <th>12</th>\n      <td>KNeighborsDist</td>\n      <td>0.716908</td>\n      <td>0.7316</td>\n      <td>6.350269</td>\n      <td>0.170979</td>\n      <td>0.134858</td>\n      <td>6.350269</td>\n      <td>0.170979</td>\n      <td>0.134858</td>\n      <td>1</td>\n      <td>True</td>\n      <td>2</td>\n    </tr>\n    <tr>\n      <th>13</th>\n      <td>NeuralNetFastAI</td>\n      <td>0.592036</td>\n      <td>0.5988</td>\n      <td>0.263573</td>\n      <td>0.027142</td>\n      <td>46.773788</td>\n      <td>0.263573</td>\n      <td>0.027142</td>\n      <td>46.773788</td>\n      <td>1</td>\n      <td>True</td>\n      <td>10</td>\n    </tr>\n  </tbody>\n</table>\n</div>"
     },
     "execution_count": 16,
     "metadata": {},
     "output_type": "execute_result"
    }
   ],
   "source": [
    "predictor_medium.leaderboard(test_data)"
   ],
   "metadata": {
    "collapsed": false,
    "pycharm": {
     "name": "#%%\n"
    }
   }
  },
  {
   "cell_type": "code",
   "execution_count": null,
   "outputs": [],
   "source": [],
   "metadata": {
    "collapsed": false,
    "pycharm": {
     "name": "#%%\n"
    }
   }
  }
 ],
 "metadata": {
  "kernelspec": {
   "display_name": "Python 3",
   "language": "python",
   "name": "python3"
  },
  "language_info": {
   "codemirror_mode": {
    "name": "ipython",
    "version": 2
   },
   "file_extension": ".py",
   "mimetype": "text/x-python",
   "name": "python",
   "nbconvert_exporter": "python",
   "pygments_lexer": "ipython2",
   "version": "2.7.6"
  }
 },
 "nbformat": 4,
 "nbformat_minor": 0
}