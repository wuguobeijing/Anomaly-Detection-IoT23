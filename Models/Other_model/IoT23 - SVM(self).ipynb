{
 "cells": [
  {
   "cell_type": "code",
   "execution_count": 1,
   "id": "interstate-borough",
   "metadata": {},
   "outputs": [],
   "source": [
    "import pandas as pd\n",
    "from sklearn.svm import SVC\n",
    "from sklearn.model_selection import GridSearchCV\n",
    "from sklearn.metrics import classification_report, confusion_matrix\n",
    "from sklearn.model_selection import train_test_split\n",
    "import time\n",
    "import numpy as np"
   ]
  },
  {
   "cell_type": "code",
   "execution_count": 2,
   "id": "specific-envelope",
   "metadata": {},
   "outputs": [],
   "source": [
    "filepath = \"../Data Preprocessing/iot23_combined.csv\""
   ]
  },
  {
   "cell_type": "code",
   "execution_count": 3,
   "id": "destroyed-effect",
   "metadata": {},
   "outputs": [],
   "source": [
    "df = pd.read_csv(filepath)"
   ]
  },
  {
   "cell_type": "code",
   "execution_count": 4,
   "id": "crazy-graham",
   "metadata": {
    "scrolled": true
   },
   "outputs": [
    {
     "data": {
      "text/plain": "         Unnamed: 0  duration  orig_bytes  resp_bytes  missed_bytes  \\\n0                 0  2.998796           0           0           0.0   \n1                 1  0.000000           0           0           0.0   \n2                 2  0.000000           0           0           0.0   \n3                 3  2.998804           0           0           0.0   \n4                 4  0.000000           0           0           0.0   \n...             ...       ...         ...         ...           ...   \n2739669      198994  0.000000           0           0           0.0   \n2739670      198995  0.000000           0           0           0.0   \n2739671      198996  0.000000           0           0           0.0   \n2739672      198997  0.000000           0           0           0.0   \n2739673      198998  0.000000           0           0           0.0   \n\n         orig_pkts  orig_ip_bytes  resp_pkts  resp_ip_bytes  \\\n0              3.0          180.0        0.0            0.0   \n1              1.0           60.0        0.0            0.0   \n2              1.0           60.0        0.0            0.0   \n3              3.0          180.0        0.0            0.0   \n4              1.0           60.0        0.0            0.0   \n...            ...            ...        ...            ...   \n2739669        1.0           40.0        0.0            0.0   \n2739670        1.0           40.0        0.0            0.0   \n2739671        1.0           40.0        0.0            0.0   \n2739672        1.0           40.0        0.0            0.0   \n2739673        1.0           40.0        0.0            0.0   \n\n                             label  ...  conn_state_SF  conn_state_SH  \\\n0        PartOfAHorizontalPortScan  ...              0              0   \n1        PartOfAHorizontalPortScan  ...              0              0   \n2        PartOfAHorizontalPortScan  ...              0              0   \n3                           Benign  ...              0              0   \n4                           Benign  ...              0              0   \n...                            ...  ...            ...            ...   \n2739669  PartOfAHorizontalPortScan  ...              0              0   \n2739670  PartOfAHorizontalPortScan  ...              0              0   \n2739671  PartOfAHorizontalPortScan  ...              0              0   \n2739672  PartOfAHorizontalPortScan  ...              0              0   \n2739673  PartOfAHorizontalPortScan  ...              0              0   \n\n         conn_state_SHR  service_-  service_dhcp  service_dns  service_http  \\\n0                     0          1             0            0             0   \n1                     0          1             0            0             0   \n2                     0          1             0            0             0   \n3                     0          1             0            0             0   \n4                     0          1             0            0             0   \n...                 ...        ...           ...          ...           ...   \n2739669               0          1             0            0             0   \n2739670               0          1             0            0             0   \n2739671               0          1             0            0             0   \n2739672               0          1             0            0             0   \n2739673               0          1             0            0             0   \n\n         service_irc  service_ssh  service_ssl  \n0                  0            0            0  \n1                  0            0            0  \n2                  0            0            0  \n3                  0            0            0  \n4                  0            0            0  \n...              ...          ...          ...  \n2739669            0            0            0  \n2739670            0            0            0  \n2739671            0            0            0  \n2739672            0            0            0  \n2739673            0            0            0  \n\n[2739674 rows x 33 columns]",
      "text/html": "<div>\n<style scoped>\n    .dataframe tbody tr th:only-of-type {\n        vertical-align: middle;\n    }\n\n    .dataframe tbody tr th {\n        vertical-align: top;\n    }\n\n    .dataframe thead th {\n        text-align: right;\n    }\n</style>\n<table border=\"1\" class=\"dataframe\">\n  <thead>\n    <tr style=\"text-align: right;\">\n      <th></th>\n      <th>Unnamed: 0</th>\n      <th>duration</th>\n      <th>orig_bytes</th>\n      <th>resp_bytes</th>\n      <th>missed_bytes</th>\n      <th>orig_pkts</th>\n      <th>orig_ip_bytes</th>\n      <th>resp_pkts</th>\n      <th>resp_ip_bytes</th>\n      <th>label</th>\n      <th>...</th>\n      <th>conn_state_SF</th>\n      <th>conn_state_SH</th>\n      <th>conn_state_SHR</th>\n      <th>service_-</th>\n      <th>service_dhcp</th>\n      <th>service_dns</th>\n      <th>service_http</th>\n      <th>service_irc</th>\n      <th>service_ssh</th>\n      <th>service_ssl</th>\n    </tr>\n  </thead>\n  <tbody>\n    <tr>\n      <th>0</th>\n      <td>0</td>\n      <td>2.998796</td>\n      <td>0</td>\n      <td>0</td>\n      <td>0.0</td>\n      <td>3.0</td>\n      <td>180.0</td>\n      <td>0.0</td>\n      <td>0.0</td>\n      <td>PartOfAHorizontalPortScan</td>\n      <td>...</td>\n      <td>0</td>\n      <td>0</td>\n      <td>0</td>\n      <td>1</td>\n      <td>0</td>\n      <td>0</td>\n      <td>0</td>\n      <td>0</td>\n      <td>0</td>\n      <td>0</td>\n    </tr>\n    <tr>\n      <th>1</th>\n      <td>1</td>\n      <td>0.000000</td>\n      <td>0</td>\n      <td>0</td>\n      <td>0.0</td>\n      <td>1.0</td>\n      <td>60.0</td>\n      <td>0.0</td>\n      <td>0.0</td>\n      <td>PartOfAHorizontalPortScan</td>\n      <td>...</td>\n      <td>0</td>\n      <td>0</td>\n      <td>0</td>\n      <td>1</td>\n      <td>0</td>\n      <td>0</td>\n      <td>0</td>\n      <td>0</td>\n      <td>0</td>\n      <td>0</td>\n    </tr>\n    <tr>\n      <th>2</th>\n      <td>2</td>\n      <td>0.000000</td>\n      <td>0</td>\n      <td>0</td>\n      <td>0.0</td>\n      <td>1.0</td>\n      <td>60.0</td>\n      <td>0.0</td>\n      <td>0.0</td>\n      <td>PartOfAHorizontalPortScan</td>\n      <td>...</td>\n      <td>0</td>\n      <td>0</td>\n      <td>0</td>\n      <td>1</td>\n      <td>0</td>\n      <td>0</td>\n      <td>0</td>\n      <td>0</td>\n      <td>0</td>\n      <td>0</td>\n    </tr>\n    <tr>\n      <th>3</th>\n      <td>3</td>\n      <td>2.998804</td>\n      <td>0</td>\n      <td>0</td>\n      <td>0.0</td>\n      <td>3.0</td>\n      <td>180.0</td>\n      <td>0.0</td>\n      <td>0.0</td>\n      <td>Benign</td>\n      <td>...</td>\n      <td>0</td>\n      <td>0</td>\n      <td>0</td>\n      <td>1</td>\n      <td>0</td>\n      <td>0</td>\n      <td>0</td>\n      <td>0</td>\n      <td>0</td>\n      <td>0</td>\n    </tr>\n    <tr>\n      <th>4</th>\n      <td>4</td>\n      <td>0.000000</td>\n      <td>0</td>\n      <td>0</td>\n      <td>0.0</td>\n      <td>1.0</td>\n      <td>60.0</td>\n      <td>0.0</td>\n      <td>0.0</td>\n      <td>Benign</td>\n      <td>...</td>\n      <td>0</td>\n      <td>0</td>\n      <td>0</td>\n      <td>1</td>\n      <td>0</td>\n      <td>0</td>\n      <td>0</td>\n      <td>0</td>\n      <td>0</td>\n      <td>0</td>\n    </tr>\n    <tr>\n      <th>...</th>\n      <td>...</td>\n      <td>...</td>\n      <td>...</td>\n      <td>...</td>\n      <td>...</td>\n      <td>...</td>\n      <td>...</td>\n      <td>...</td>\n      <td>...</td>\n      <td>...</td>\n      <td>...</td>\n      <td>...</td>\n      <td>...</td>\n      <td>...</td>\n      <td>...</td>\n      <td>...</td>\n      <td>...</td>\n      <td>...</td>\n      <td>...</td>\n      <td>...</td>\n      <td>...</td>\n    </tr>\n    <tr>\n      <th>2739669</th>\n      <td>198994</td>\n      <td>0.000000</td>\n      <td>0</td>\n      <td>0</td>\n      <td>0.0</td>\n      <td>1.0</td>\n      <td>40.0</td>\n      <td>0.0</td>\n      <td>0.0</td>\n      <td>PartOfAHorizontalPortScan</td>\n      <td>...</td>\n      <td>0</td>\n      <td>0</td>\n      <td>0</td>\n      <td>1</td>\n      <td>0</td>\n      <td>0</td>\n      <td>0</td>\n      <td>0</td>\n      <td>0</td>\n      <td>0</td>\n    </tr>\n    <tr>\n      <th>2739670</th>\n      <td>198995</td>\n      <td>0.000000</td>\n      <td>0</td>\n      <td>0</td>\n      <td>0.0</td>\n      <td>1.0</td>\n      <td>40.0</td>\n      <td>0.0</td>\n      <td>0.0</td>\n      <td>PartOfAHorizontalPortScan</td>\n      <td>...</td>\n      <td>0</td>\n      <td>0</td>\n      <td>0</td>\n      <td>1</td>\n      <td>0</td>\n      <td>0</td>\n      <td>0</td>\n      <td>0</td>\n      <td>0</td>\n      <td>0</td>\n    </tr>\n    <tr>\n      <th>2739671</th>\n      <td>198996</td>\n      <td>0.000000</td>\n      <td>0</td>\n      <td>0</td>\n      <td>0.0</td>\n      <td>1.0</td>\n      <td>40.0</td>\n      <td>0.0</td>\n      <td>0.0</td>\n      <td>PartOfAHorizontalPortScan</td>\n      <td>...</td>\n      <td>0</td>\n      <td>0</td>\n      <td>0</td>\n      <td>1</td>\n      <td>0</td>\n      <td>0</td>\n      <td>0</td>\n      <td>0</td>\n      <td>0</td>\n      <td>0</td>\n    </tr>\n    <tr>\n      <th>2739672</th>\n      <td>198997</td>\n      <td>0.000000</td>\n      <td>0</td>\n      <td>0</td>\n      <td>0.0</td>\n      <td>1.0</td>\n      <td>40.0</td>\n      <td>0.0</td>\n      <td>0.0</td>\n      <td>PartOfAHorizontalPortScan</td>\n      <td>...</td>\n      <td>0</td>\n      <td>0</td>\n      <td>0</td>\n      <td>1</td>\n      <td>0</td>\n      <td>0</td>\n      <td>0</td>\n      <td>0</td>\n      <td>0</td>\n      <td>0</td>\n    </tr>\n    <tr>\n      <th>2739673</th>\n      <td>198998</td>\n      <td>0.000000</td>\n      <td>0</td>\n      <td>0</td>\n      <td>0.0</td>\n      <td>1.0</td>\n      <td>40.0</td>\n      <td>0.0</td>\n      <td>0.0</td>\n      <td>PartOfAHorizontalPortScan</td>\n      <td>...</td>\n      <td>0</td>\n      <td>0</td>\n      <td>0</td>\n      <td>1</td>\n      <td>0</td>\n      <td>0</td>\n      <td>0</td>\n      <td>0</td>\n      <td>0</td>\n      <td>0</td>\n    </tr>\n  </tbody>\n</table>\n<p>2739674 rows × 33 columns</p>\n</div>"
     },
     "execution_count": 4,
     "metadata": {},
     "output_type": "execute_result"
    }
   ],
   "source": [
    "df"
   ]
  },
  {
   "cell_type": "code",
   "execution_count": 5,
   "id": "charitable-stock",
   "metadata": {},
   "outputs": [],
   "source": [
    "del df['Unnamed: 0']"
   ]
  },
  {
   "cell_type": "code",
   "execution_count": 6,
   "id": "nervous-lingerie",
   "metadata": {
    "scrolled": true
   },
   "outputs": [
    {
     "data": {
      "text/plain": "(2739674, 32)"
     },
     "execution_count": 6,
     "metadata": {},
     "output_type": "execute_result"
    }
   ],
   "source": [
    "df.shape"
   ]
  },
  {
   "cell_type": "code",
   "execution_count": 7,
   "id": "adolescent-positive",
   "metadata": {},
   "outputs": [
    {
     "data": {
      "text/plain": "PartOfAHorizontalPortScan     1557534\nOkiru                          522619\nBenign                         376965\nDDoS                           262509\nC&C                             15152\nAttack                           4203\nC&C-HeartBeat                     591\nC&C-FileDownload                   46\nC&C-Torii                          30\nFileDownload                       13\nC&C-HeartBeat-FileDownload          8\nOkiru-Attack                        3\nC&C-Mirai                           1\nName: label, dtype: int64"
     },
     "execution_count": 7,
     "metadata": {},
     "output_type": "execute_result"
    }
   ],
   "source": [
    "df['label'].value_counts()"
   ]
  },
  {
   "cell_type": "code",
   "execution_count": 8,
   "id": "comprehensive-notebook",
   "metadata": {},
   "outputs": [],
   "source": [
    "df.columns = ['duration', 'orig_bytes', 'resp_bytes', 'missed_bytes', 'orig_pkts', 'orig_ip_bytes', 'resp_pkts', 'resp_ip_bytes', 'label', 'proto_icmp', 'proto_tcp', 'proto_udp', 'service_-', 'service_dhcp', 'service_dns', 'service_http', 'service_ssh', 'service_ssl', 'service_irc', 'conn_state_OTH', 'conn_state_REJ', 'conn_state_RSTO', 'conn_state_RSTOS0', 'conn_state_RSTR', 'conn_state_RSTRH', 'conn_state_S0', 'conn_state_S1', 'conn_state_S2', 'conn_state_S3', 'conn_state_SF', 'conn_state_SH', 'conn_state_SHR']"
   ]
  },
  {
   "cell_type": "code",
   "execution_count": 9,
   "id": "global-theater",
   "metadata": {},
   "outputs": [
    {
     "name": "stdout",
     "output_type": "stream",
     "text": [
      "duration\n",
      "orig_bytes\n",
      "resp_bytes\n",
      "missed_bytes\n",
      "orig_pkts\n",
      "orig_ip_bytes\n",
      "resp_pkts\n",
      "resp_ip_bytes\n",
      "label\n",
      "proto_icmp\n",
      "proto_tcp\n",
      "proto_udp\n",
      "service_-\n",
      "service_dhcp\n",
      "service_dns\n",
      "service_http\n",
      "service_ssh\n",
      "service_ssl\n",
      "service_irc\n",
      "conn_state_OTH\n",
      "conn_state_REJ\n",
      "conn_state_RSTO\n",
      "conn_state_RSTOS0\n",
      "conn_state_RSTR\n",
      "conn_state_RSTRH\n",
      "conn_state_S0\n",
      "conn_state_S1\n",
      "conn_state_S2\n",
      "conn_state_S3\n",
      "conn_state_SF\n",
      "conn_state_SH\n",
      "conn_state_SHR\n"
     ]
    }
   ],
   "source": [
    "for col in df.columns: \n",
    "    print(col) "
   ]
  },
  {
   "cell_type": "code",
   "execution_count": 10,
   "id": "intense-thompson",
   "metadata": {},
   "outputs": [
    {
     "name": "stdout",
     "output_type": "stream",
     "text": [
      "['duration', 'orig_bytes', 'resp_bytes', 'missed_bytes', 'orig_pkts', 'orig_ip_bytes', 'resp_pkts', 'resp_ip_bytes', 'label', 'proto_icmp', 'proto_tcp', 'proto_udp', 'service_-', 'service_dhcp', 'service_dns', 'service_http', 'service_ssh', 'service_ssl', 'service_irc', 'conn_state_OTH', 'conn_state_REJ', 'conn_state_RSTO', 'conn_state_RSTOS0', 'conn_state_RSTR', 'conn_state_RSTRH', 'conn_state_S0', 'conn_state_S1', 'conn_state_S2', 'conn_state_S3', 'conn_state_SF', 'conn_state_SH', 'conn_state_SHR']\n"
     ]
    }
   ],
   "source": [
    "print(df.columns.tolist())"
   ]
  },
  {
   "cell_type": "code",
   "execution_count": 11,
   "id": "cleared-dictionary",
   "metadata": {},
   "outputs": [],
   "source": [
    "X = df[['duration', 'orig_bytes', 'resp_bytes', 'missed_bytes', 'orig_pkts', 'orig_ip_bytes', 'resp_pkts', 'resp_ip_bytes', 'proto_icmp', 'proto_tcp', 'proto_udp', 'service_-', 'service_dhcp', 'service_dns', 'service_http', 'service_ssh', 'service_ssl', 'service_irc', 'conn_state_OTH', 'conn_state_REJ', 'conn_state_RSTO', 'conn_state_RSTOS0', 'conn_state_RSTR', 'conn_state_RSTRH', 'conn_state_S0', 'conn_state_S1', 'conn_state_S2', 'conn_state_S3', 'conn_state_SF', 'conn_state_SH', 'conn_state_SHR']]\n",
    "Y = df['label']"
   ]
  },
  {
   "cell_type": "code",
   "execution_count": 12,
   "id": "sonic-speed",
   "metadata": {},
   "outputs": [],
   "source": [
    "X_train, X_test, Y_train, Y_test = train_test_split(X, Y, random_state=10, test_size=0.2)"
   ]
  },
  {
   "cell_type": "code",
   "execution_count": null,
   "id": "competent-michael",
   "metadata": {},
   "outputs": [
    {
     "name": "stdout",
     "output_type": "stream",
     "text": [
      "program start...\n",
      "\n",
      "[LibSVM]...*\n",
      "optimization finished, #iter = 3447\n",
      "obj = -6737.322699, rho = 1.097155\n",
      "nSV = 6742, nBSV = 6742\n",
      "...*\n",
      "optimization finished, #iter = 3535\n",
      "obj = -6730.230102, rho = 0.998202\n",
      "nSV = 6742, nBSV = 6742\n",
      "*\n",
      "optimization finished, #iter = 32\n",
      "obj = -59.704995, rho = -0.901842\n",
      "nSV = 62, nBSV = 62\n",
      "*\n",
      "optimization finished, #iter = 479\n",
      "obj = -957.952852, rho = -0.999704\n",
      "nSV = 958, nBSV = 958\n",
      "*\n",
      "optimization finished, #iter = 7\n",
      "obj = -13.762083, rho = -0.964500\n",
      "nSV = 14, nBSV = 14\n",
      "*\n",
      "optimization finished, #iter = 49\n",
      "obj = -53.447148, rho = -0.872867\n",
      "nSV = 54, nBSV = 54\n",
      "...*\n",
      "optimization finished, #iter = 3533\n",
      "obj = -6727.815336, rho = 1.026901\n",
      "nSV = 6742, nBSV = 6742\n",
      "*\n",
      "optimization finished, #iter = 9\n",
      "obj = -17.219752, rho = -0.896944\n",
      "nSV = 18, nBSV = 18\n",
      "...*\n",
      "optimization finished, #iter = 3371\n",
      "obj = -6726.612903, rho = 0.994879\n",
      "nSV = 6742, nBSV = 6742\n",
      "*\n",
      "optimization finished, #iter = 2\n",
      "obj = -3.999996, rho = -0.999998\n",
      "nSV = 4, nBSV = 4\n",
      "...*\n",
      "optimization finished, #iter = 3441\n",
      "obj = -6734.379211, rho = 1.101351\n",
      "nSV = 6743, nBSV = 6741\n",
      "...............*\n",
      "optimization finished, #iter = 15703\n",
      "obj = -24366.154815, rho = -1.028019\n",
      "nSV = 24369, nBSV = 24364\n",
      "*\n",
      "optimization finished, #iter = 49\n",
      "obj = -61.766692, rho = -0.996990\n",
      "nSV = 66, nBSV = 61\n",
      "*\n",
      "optimization finished, #iter = 480\n",
      "obj = -958.000968, rho = -1.002266\n",
      "nSV = 959, nBSV = 957\n",
      "*\n",
      "optimization finished, #iter = 10\n",
      "obj = -13.904539, rho = -1.002208\n",
      "nSV = 16, nBSV = 13\n",
      "*\n",
      "optimization finished, #iter = 86\n",
      "obj = -53.851306, rho = -0.985658\n",
      "nSV = 60, nBSV = 53\n",
      "............................................................................."
     ]
    }
   ],
   "source": [
    "start = time.time()\n",
    "print('program start...')\n",
    "print()\n",
    "\n",
    "SVM_classifier = SVC(C=1.0, cache_size=3000,shrinking=False, verbose=True).fit(X_train, Y_train)\n",
    "#-h shrinking : whether to use the shrinking heuristics, 0 or 1 (default 1)\n",
    "#modify shrinking=False could decrease the time of training\n",
    "print()\n",
    "print(SVM_classifier.score(X_test, Y_test))\n",
    "print()\n",
    "\n",
    "y_pred = SVM_classifier.predict(X_test)\n",
    "print(y_pred)\n",
    "print()\n",
    "\n",
    "end = time.time()\n",
    "print('program end...')\n",
    "print()\n",
    "print('time cost: ')\n",
    "print(end - start, 'seconds')"
   ]
  },
  {
   "cell_type": "code",
   "execution_count": null,
   "id": "religious-borough",
   "metadata": {},
   "outputs": [],
   "source": [
    "print(\"Classifiction Report :\")\n",
    "print(classification_report(Y_test, y_pred))"
   ]
  },
  {
   "cell_type": "code",
   "execution_count": null,
   "id": "fundamental-constitution",
   "metadata": {},
   "outputs": [],
   "source": []
  },
  {
   "cell_type": "code",
   "execution_count": null,
   "id": "union-luther",
   "metadata": {},
   "outputs": [],
   "source": []
  },
  {
   "cell_type": "code",
   "execution_count": null,
   "id": "administrative-quantum",
   "metadata": {},
   "outputs": [],
   "source": []
  },
  {
   "cell_type": "code",
   "execution_count": null,
   "id": "cubic-orange",
   "metadata": {},
   "outputs": [],
   "source": []
  },
  {
   "cell_type": "code",
   "execution_count": null,
   "id": "gorgeous-candle",
   "metadata": {},
   "outputs": [],
   "source": []
  }
 ],
 "metadata": {
  "kernelspec": {
   "display_name": "Python 3",
   "language": "python",
   "name": "python3"
  },
  "language_info": {
   "codemirror_mode": {
    "name": "ipython",
    "version": 3
   },
   "file_extension": ".py",
   "mimetype": "text/x-python",
   "name": "python",
   "nbconvert_exporter": "python",
   "pygments_lexer": "ipython3",
   "version": "3.8.5"
  }
 },
 "nbformat": 4,
 "nbformat_minor": 5
}