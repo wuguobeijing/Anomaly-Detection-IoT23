{
 "cells": [
  {
   "cell_type": "markdown",
   "source": [
    "## balance all labels"
   ],
   "metadata": {
    "collapsed": false
   }
  },
  {
   "cell_type": "code",
   "execution_count": 21,
   "outputs": [],
   "source": [
    "filepath = \"/media/wuguo-buaa/LENOVO_USB_HDD/iot-data/iot_23_datasets_small/opt/Malware-Project/BigDataset/attacks/\"\n",
    "frame=[]"
   ],
   "metadata": {
    "collapsed": false,
    "pycharm": {
     "name": "#%%\n"
    }
   }
  },
  {
   "cell_type": "code",
   "execution_count": 22,
   "outputs": [
    {
     "name": "stdout",
     "output_type": "stream",
     "text": [
      "PartOfAHorizontalPortScan-Attack.csv 115\n",
      "Attack.csv 216154\n",
      "Benign.csv 754400\n",
      "C&C-FileDownload.csv 1219\n",
      "C&C-HeartBeat-Attack.csv 19182\n",
      "C&C-HeartBeat-FileDownload.csv 253\n",
      "C&C-HeartBeat.csv 754400\n",
      "C&C-Mirai.csv 46\n",
      "C&C-PartOfAHorizontalPortScan.csv 20424\n",
      "C&C-Torii.csv 690\n",
      "C&C.csv 505885\n",
      "DDoS.csv 754400\n",
      "FileDownload.csv 414\n",
      "Okiru-Attack.csv 69\n",
      "Okiru.csv 754400\n",
      "PartOfAHorizontalPortScan.csv 754400\n"
     ]
    }
   ],
   "source": [
    "import os\n",
    "import pandas as pd\n",
    "for file in os.listdir(filepath):\n",
    "    df = pd.read_csv(filepath_or_buffer=filepath+file, nrows=32800)\n",
    "    print(file,df.size)\n",
    "    df.columns=['ts',\n",
    "              'uid',\n",
    "              'id.orig_h',\n",
    "              'id.orig_p',\n",
    "              'id.resp_h',\n",
    "              'id.resp_p',\n",
    "              'proto',\n",
    "              'service',\n",
    "              'duration',\n",
    "              'orig_bytes',\n",
    "              'resp_bytes',\n",
    "              'conn_state',\n",
    "              'local_orig',\n",
    "              'local_resp',\n",
    "              'missed_bytes',\n",
    "              'history',\n",
    "              'orig_pkts',\n",
    "              'orig_ip_bytes',\n",
    "              'resp_pkts',\n",
    "              'resp_ip_bytes',\n",
    "              'tunnel_parents',\n",
    "              'label',\n",
    "              'detailed-label']\n",
    "    frame.append(df[-4000:-1])"
   ],
   "metadata": {
    "collapsed": false,
    "pycharm": {
     "name": "#%%\n"
    }
   }
  },
  {
   "cell_type": "code",
   "execution_count": 23,
   "outputs": [
    {
     "data": {
      "text/plain": "                 ts                 uid        id.orig_h  id.orig_p  \\\n0      1.536232e+09   Cclf5csP6MCXyhtcl  192.168.100.111      35942   \n1      1.536232e+09   CCR0QuYQXWIcQTkS4  192.168.100.111      35948   \n2      1.536232e+09  CkXiVz30xBnLnZqFq1  192.168.100.111      35940   \n3      1.536232e+09  CXrpjx3oDQaoBxnm5h  192.168.100.111      35944   \n5398   1.526766e+09   CZ3BfLNI9PEOPsNqe      192.168.2.5      41042   \n...             ...                 ...              ...        ...   \n32794  1.536306e+09  CNJubQ1u7n1m2EAirb  192.168.100.111      17832   \n32795  1.532178e+09  CrORie1ygi4dnyn8m5  192.168.100.108       5526   \n32796  1.547148e+09  CPhXpM34LFhtsZWN96    192.168.1.198      51476   \n32797  1.536279e+09  CuKBZ63MliAxdrfb2l  192.168.100.111      17832   \n32798  1.547147e+09  CWdAnN19yQcRPxaIc3    192.168.1.198      55032   \n\n             id.resp_h  id.resp_p proto service  duration orig_bytes  \\\n0        69.255.24.137       8080   tcp       -  3.149707          0   \n1        69.255.24.137       8080   tcp       -  3.108733          0   \n2        69.255.24.137       8080   tcp       -  3.121722          0   \n3        69.255.24.137       8080   tcp       -  3.126213          0   \n5398      69.131.140.8         22   tcp     ssh  3.753245        589   \n...                ...        ...   ...     ...       ...        ...   \n32794  156.146.151.192      37215   tcp       -  0.000002          0   \n32795    70.219.32.241      37215   tcp       -         -          -   \n32796     197.18.61.20      37215   tcp       -         -          -   \n32797    156.128.37.76      37215   tcp       -  0.000005          0   \n32798   41.220.152.235      37215   tcp       -         -          -   \n\n      resp_bytes conn_state local_orig local_resp  missed_bytes   history  \\\n0              0         S0          -          -             0         S   \n1              0         S0          -          -             0         S   \n2              0         S0          -          -             0         S   \n3              0         S0          -          -             0         S   \n5398        1024         SF          -          -             0  ShAdDaFf   \n...          ...        ...        ...        ...           ...       ...   \n32794          0         S0          -          -             0         S   \n32795          -         S0          -          -             0         S   \n32796          -         S0          -          -             0         S   \n32797          0         S0          -          -             0         S   \n32798          -         S0          -          -             0         S   \n\n       orig_pkts  orig_ip_bytes  resp_pkts  resp_ip_bytes tunnel_parents  \\\n0              6            360          0              0              -   \n1              6            360          0              0              -   \n2              6            360          0              0              -   \n3              6            360          0              0              -   \n5398          13           1273         16           1864        (empty)   \n...          ...            ...        ...            ...            ...   \n32794          2             80          0              0              -   \n32795          1             40          0              0        (empty)   \n32796          1             40          0              0              -   \n32797          2             80          0              0              -   \n32798          1             40          0              0              -   \n\n           label                    detailed-label  \n0      Malicious  PartOfAHorizontalPortScan-Attack  \n1      Malicious  PartOfAHorizontalPortScan-Attack  \n2      Malicious  PartOfAHorizontalPortScan-Attack  \n3      Malicious  PartOfAHorizontalPortScan-Attack  \n5398   Malicious                            Attack  \n...          ...                               ...  \n32794  Malicious                             Okiru  \n32795  Malicious                             Okiru  \n32796  Malicious                             Okiru  \n32797  Malicious                             Okiru  \n32798  Malicious                             Okiru  \n\n[25829 rows x 23 columns]",
      "text/html": "<div>\n<style scoped>\n    .dataframe tbody tr th:only-of-type {\n        vertical-align: middle;\n    }\n\n    .dataframe tbody tr th {\n        vertical-align: top;\n    }\n\n    .dataframe thead th {\n        text-align: right;\n    }\n</style>\n<table border=\"1\" class=\"dataframe\">\n  <thead>\n    <tr style=\"text-align: right;\">\n      <th></th>\n      <th>ts</th>\n      <th>uid</th>\n      <th>id.orig_h</th>\n      <th>id.orig_p</th>\n      <th>id.resp_h</th>\n      <th>id.resp_p</th>\n      <th>proto</th>\n      <th>service</th>\n      <th>duration</th>\n      <th>orig_bytes</th>\n      <th>resp_bytes</th>\n      <th>conn_state</th>\n      <th>local_orig</th>\n      <th>local_resp</th>\n      <th>missed_bytes</th>\n      <th>history</th>\n      <th>orig_pkts</th>\n      <th>orig_ip_bytes</th>\n      <th>resp_pkts</th>\n      <th>resp_ip_bytes</th>\n      <th>tunnel_parents</th>\n      <th>label</th>\n      <th>detailed-label</th>\n    </tr>\n  </thead>\n  <tbody>\n    <tr>\n      <th>0</th>\n      <td>1.536232e+09</td>\n      <td>Cclf5csP6MCXyhtcl</td>\n      <td>192.168.100.111</td>\n      <td>35942</td>\n      <td>69.255.24.137</td>\n      <td>8080</td>\n      <td>tcp</td>\n      <td>-</td>\n      <td>3.149707</td>\n      <td>0</td>\n      <td>0</td>\n      <td>S0</td>\n      <td>-</td>\n      <td>-</td>\n      <td>0</td>\n      <td>S</td>\n      <td>6</td>\n      <td>360</td>\n      <td>0</td>\n      <td>0</td>\n      <td>-</td>\n      <td>Malicious</td>\n      <td>PartOfAHorizontalPortScan-Attack</td>\n    </tr>\n    <tr>\n      <th>1</th>\n      <td>1.536232e+09</td>\n      <td>CCR0QuYQXWIcQTkS4</td>\n      <td>192.168.100.111</td>\n      <td>35948</td>\n      <td>69.255.24.137</td>\n      <td>8080</td>\n      <td>tcp</td>\n      <td>-</td>\n      <td>3.108733</td>\n      <td>0</td>\n      <td>0</td>\n      <td>S0</td>\n      <td>-</td>\n      <td>-</td>\n      <td>0</td>\n      <td>S</td>\n      <td>6</td>\n      <td>360</td>\n      <td>0</td>\n      <td>0</td>\n      <td>-</td>\n      <td>Malicious</td>\n      <td>PartOfAHorizontalPortScan-Attack</td>\n    </tr>\n    <tr>\n      <th>2</th>\n      <td>1.536232e+09</td>\n      <td>CkXiVz30xBnLnZqFq1</td>\n      <td>192.168.100.111</td>\n      <td>35940</td>\n      <td>69.255.24.137</td>\n      <td>8080</td>\n      <td>tcp</td>\n      <td>-</td>\n      <td>3.121722</td>\n      <td>0</td>\n      <td>0</td>\n      <td>S0</td>\n      <td>-</td>\n      <td>-</td>\n      <td>0</td>\n      <td>S</td>\n      <td>6</td>\n      <td>360</td>\n      <td>0</td>\n      <td>0</td>\n      <td>-</td>\n      <td>Malicious</td>\n      <td>PartOfAHorizontalPortScan-Attack</td>\n    </tr>\n    <tr>\n      <th>3</th>\n      <td>1.536232e+09</td>\n      <td>CXrpjx3oDQaoBxnm5h</td>\n      <td>192.168.100.111</td>\n      <td>35944</td>\n      <td>69.255.24.137</td>\n      <td>8080</td>\n      <td>tcp</td>\n      <td>-</td>\n      <td>3.126213</td>\n      <td>0</td>\n      <td>0</td>\n      <td>S0</td>\n      <td>-</td>\n      <td>-</td>\n      <td>0</td>\n      <td>S</td>\n      <td>6</td>\n      <td>360</td>\n      <td>0</td>\n      <td>0</td>\n      <td>-</td>\n      <td>Malicious</td>\n      <td>PartOfAHorizontalPortScan-Attack</td>\n    </tr>\n    <tr>\n      <th>5398</th>\n      <td>1.526766e+09</td>\n      <td>CZ3BfLNI9PEOPsNqe</td>\n      <td>192.168.2.5</td>\n      <td>41042</td>\n      <td>69.131.140.8</td>\n      <td>22</td>\n      <td>tcp</td>\n      <td>ssh</td>\n      <td>3.753245</td>\n      <td>589</td>\n      <td>1024</td>\n      <td>SF</td>\n      <td>-</td>\n      <td>-</td>\n      <td>0</td>\n      <td>ShAdDaFf</td>\n      <td>13</td>\n      <td>1273</td>\n      <td>16</td>\n      <td>1864</td>\n      <td>(empty)</td>\n      <td>Malicious</td>\n      <td>Attack</td>\n    </tr>\n    <tr>\n      <th>...</th>\n      <td>...</td>\n      <td>...</td>\n      <td>...</td>\n      <td>...</td>\n      <td>...</td>\n      <td>...</td>\n      <td>...</td>\n      <td>...</td>\n      <td>...</td>\n      <td>...</td>\n      <td>...</td>\n      <td>...</td>\n      <td>...</td>\n      <td>...</td>\n      <td>...</td>\n      <td>...</td>\n      <td>...</td>\n      <td>...</td>\n      <td>...</td>\n      <td>...</td>\n      <td>...</td>\n      <td>...</td>\n      <td>...</td>\n    </tr>\n    <tr>\n      <th>32794</th>\n      <td>1.536306e+09</td>\n      <td>CNJubQ1u7n1m2EAirb</td>\n      <td>192.168.100.111</td>\n      <td>17832</td>\n      <td>156.146.151.192</td>\n      <td>37215</td>\n      <td>tcp</td>\n      <td>-</td>\n      <td>0.000002</td>\n      <td>0</td>\n      <td>0</td>\n      <td>S0</td>\n      <td>-</td>\n      <td>-</td>\n      <td>0</td>\n      <td>S</td>\n      <td>2</td>\n      <td>80</td>\n      <td>0</td>\n      <td>0</td>\n      <td>-</td>\n      <td>Malicious</td>\n      <td>Okiru</td>\n    </tr>\n    <tr>\n      <th>32795</th>\n      <td>1.532178e+09</td>\n      <td>CrORie1ygi4dnyn8m5</td>\n      <td>192.168.100.108</td>\n      <td>5526</td>\n      <td>70.219.32.241</td>\n      <td>37215</td>\n      <td>tcp</td>\n      <td>-</td>\n      <td>-</td>\n      <td>-</td>\n      <td>-</td>\n      <td>S0</td>\n      <td>-</td>\n      <td>-</td>\n      <td>0</td>\n      <td>S</td>\n      <td>1</td>\n      <td>40</td>\n      <td>0</td>\n      <td>0</td>\n      <td>(empty)</td>\n      <td>Malicious</td>\n      <td>Okiru</td>\n    </tr>\n    <tr>\n      <th>32796</th>\n      <td>1.547148e+09</td>\n      <td>CPhXpM34LFhtsZWN96</td>\n      <td>192.168.1.198</td>\n      <td>51476</td>\n      <td>197.18.61.20</td>\n      <td>37215</td>\n      <td>tcp</td>\n      <td>-</td>\n      <td>-</td>\n      <td>-</td>\n      <td>-</td>\n      <td>S0</td>\n      <td>-</td>\n      <td>-</td>\n      <td>0</td>\n      <td>S</td>\n      <td>1</td>\n      <td>40</td>\n      <td>0</td>\n      <td>0</td>\n      <td>-</td>\n      <td>Malicious</td>\n      <td>Okiru</td>\n    </tr>\n    <tr>\n      <th>32797</th>\n      <td>1.536279e+09</td>\n      <td>CuKBZ63MliAxdrfb2l</td>\n      <td>192.168.100.111</td>\n      <td>17832</td>\n      <td>156.128.37.76</td>\n      <td>37215</td>\n      <td>tcp</td>\n      <td>-</td>\n      <td>0.000005</td>\n      <td>0</td>\n      <td>0</td>\n      <td>S0</td>\n      <td>-</td>\n      <td>-</td>\n      <td>0</td>\n      <td>S</td>\n      <td>2</td>\n      <td>80</td>\n      <td>0</td>\n      <td>0</td>\n      <td>-</td>\n      <td>Malicious</td>\n      <td>Okiru</td>\n    </tr>\n    <tr>\n      <th>32798</th>\n      <td>1.547147e+09</td>\n      <td>CWdAnN19yQcRPxaIc3</td>\n      <td>192.168.1.198</td>\n      <td>55032</td>\n      <td>41.220.152.235</td>\n      <td>37215</td>\n      <td>tcp</td>\n      <td>-</td>\n      <td>-</td>\n      <td>-</td>\n      <td>-</td>\n      <td>S0</td>\n      <td>-</td>\n      <td>-</td>\n      <td>0</td>\n      <td>S</td>\n      <td>1</td>\n      <td>40</td>\n      <td>0</td>\n      <td>0</td>\n      <td>-</td>\n      <td>Malicious</td>\n      <td>Okiru</td>\n    </tr>\n  </tbody>\n</table>\n<p>25829 rows × 23 columns</p>\n</div>"
     },
     "execution_count": 23,
     "metadata": {},
     "output_type": "execute_result"
    }
   ],
   "source": [
    "df_c=pd.concat(frame[-4000:-1])\n",
    "# df_c=pd.concat(frame)\n",
    "df_c"
   ],
   "metadata": {
    "collapsed": false,
    "pycharm": {
     "name": "#%%\n"
    }
   }
  },
  {
   "cell_type": "code",
   "execution_count": 24,
   "outputs": [
    {
     "data": {
      "text/plain": "                 ts                 uid        id.orig_h  id.orig_p  \\\n0      1.536232e+09   Cclf5csP6MCXyhtcl  192.168.100.111      35942   \n1      1.536232e+09   CCR0QuYQXWIcQTkS4  192.168.100.111      35948   \n2      1.536232e+09  CkXiVz30xBnLnZqFq1  192.168.100.111      35940   \n3      1.536232e+09  CXrpjx3oDQaoBxnm5h  192.168.100.111      35944   \n5398   1.526766e+09   CZ3BfLNI9PEOPsNqe      192.168.2.5      41042   \n...             ...                 ...              ...        ...   \n32794  1.536306e+09  CNJubQ1u7n1m2EAirb  192.168.100.111      17832   \n32795  1.532178e+09  CrORie1ygi4dnyn8m5  192.168.100.108       5526   \n32796  1.547148e+09  CPhXpM34LFhtsZWN96    192.168.1.198      51476   \n32797  1.536279e+09  CuKBZ63MliAxdrfb2l  192.168.100.111      17832   \n32798  1.547147e+09  CWdAnN19yQcRPxaIc3    192.168.1.198      55032   \n\n             id.resp_h  id.resp_p proto service  duration orig_bytes  \\\n0        69.255.24.137       8080   tcp       -  3.149707          0   \n1        69.255.24.137       8080   tcp       -  3.108733          0   \n2        69.255.24.137       8080   tcp       -  3.121722          0   \n3        69.255.24.137       8080   tcp       -  3.126213          0   \n5398      69.131.140.8         22   tcp     ssh  3.753245        589   \n...                ...        ...   ...     ...       ...        ...   \n32794  156.146.151.192      37215   tcp       -  0.000002          0   \n32795    70.219.32.241      37215   tcp       -         -          -   \n32796     197.18.61.20      37215   tcp       -         -          -   \n32797    156.128.37.76      37215   tcp       -  0.000005          0   \n32798   41.220.152.235      37215   tcp       -         -          -   \n\n      resp_bytes conn_state local_orig local_resp  missed_bytes   history  \\\n0              0         S0          -          -             0         S   \n1              0         S0          -          -             0         S   \n2              0         S0          -          -             0         S   \n3              0         S0          -          -             0         S   \n5398        1024         SF          -          -             0  ShAdDaFf   \n...          ...        ...        ...        ...           ...       ...   \n32794          0         S0          -          -             0         S   \n32795          -         S0          -          -             0         S   \n32796          -         S0          -          -             0         S   \n32797          0         S0          -          -             0         S   \n32798          -         S0          -          -             0         S   \n\n       orig_pkts  orig_ip_bytes  resp_pkts  resp_ip_bytes tunnel_parents  \\\n0              6            360          0              0              -   \n1              6            360          0              0              -   \n2              6            360          0              0              -   \n3              6            360          0              0              -   \n5398          13           1273         16           1864        (empty)   \n...          ...            ...        ...            ...            ...   \n32794          2             80          0              0              -   \n32795          1             40          0              0        (empty)   \n32796          1             40          0              0              -   \n32797          2             80          0              0              -   \n32798          1             40          0              0              -   \n\n           label                    detailed-label  \n0      Malicious  PartOfAHorizontalPortScan-Attack  \n1      Malicious  PartOfAHorizontalPortScan-Attack  \n2      Malicious  PartOfAHorizontalPortScan-Attack  \n3      Malicious  PartOfAHorizontalPortScan-Attack  \n5398   Malicious                            Attack  \n...          ...                               ...  \n32794  Malicious                             Okiru  \n32795  Malicious                             Okiru  \n32796  Malicious                             Okiru  \n32797  Malicious                             Okiru  \n32798  Malicious                             Okiru  \n\n[21830 rows x 23 columns]",
      "text/html": "<div>\n<style scoped>\n    .dataframe tbody tr th:only-of-type {\n        vertical-align: middle;\n    }\n\n    .dataframe tbody tr th {\n        vertical-align: top;\n    }\n\n    .dataframe thead th {\n        text-align: right;\n    }\n</style>\n<table border=\"1\" class=\"dataframe\">\n  <thead>\n    <tr style=\"text-align: right;\">\n      <th></th>\n      <th>ts</th>\n      <th>uid</th>\n      <th>id.orig_h</th>\n      <th>id.orig_p</th>\n      <th>id.resp_h</th>\n      <th>id.resp_p</th>\n      <th>proto</th>\n      <th>service</th>\n      <th>duration</th>\n      <th>orig_bytes</th>\n      <th>resp_bytes</th>\n      <th>conn_state</th>\n      <th>local_orig</th>\n      <th>local_resp</th>\n      <th>missed_bytes</th>\n      <th>history</th>\n      <th>orig_pkts</th>\n      <th>orig_ip_bytes</th>\n      <th>resp_pkts</th>\n      <th>resp_ip_bytes</th>\n      <th>tunnel_parents</th>\n      <th>label</th>\n      <th>detailed-label</th>\n    </tr>\n  </thead>\n  <tbody>\n    <tr>\n      <th>0</th>\n      <td>1.536232e+09</td>\n      <td>Cclf5csP6MCXyhtcl</td>\n      <td>192.168.100.111</td>\n      <td>35942</td>\n      <td>69.255.24.137</td>\n      <td>8080</td>\n      <td>tcp</td>\n      <td>-</td>\n      <td>3.149707</td>\n      <td>0</td>\n      <td>0</td>\n      <td>S0</td>\n      <td>-</td>\n      <td>-</td>\n      <td>0</td>\n      <td>S</td>\n      <td>6</td>\n      <td>360</td>\n      <td>0</td>\n      <td>0</td>\n      <td>-</td>\n      <td>Malicious</td>\n      <td>PartOfAHorizontalPortScan-Attack</td>\n    </tr>\n    <tr>\n      <th>1</th>\n      <td>1.536232e+09</td>\n      <td>CCR0QuYQXWIcQTkS4</td>\n      <td>192.168.100.111</td>\n      <td>35948</td>\n      <td>69.255.24.137</td>\n      <td>8080</td>\n      <td>tcp</td>\n      <td>-</td>\n      <td>3.108733</td>\n      <td>0</td>\n      <td>0</td>\n      <td>S0</td>\n      <td>-</td>\n      <td>-</td>\n      <td>0</td>\n      <td>S</td>\n      <td>6</td>\n      <td>360</td>\n      <td>0</td>\n      <td>0</td>\n      <td>-</td>\n      <td>Malicious</td>\n      <td>PartOfAHorizontalPortScan-Attack</td>\n    </tr>\n    <tr>\n      <th>2</th>\n      <td>1.536232e+09</td>\n      <td>CkXiVz30xBnLnZqFq1</td>\n      <td>192.168.100.111</td>\n      <td>35940</td>\n      <td>69.255.24.137</td>\n      <td>8080</td>\n      <td>tcp</td>\n      <td>-</td>\n      <td>3.121722</td>\n      <td>0</td>\n      <td>0</td>\n      <td>S0</td>\n      <td>-</td>\n      <td>-</td>\n      <td>0</td>\n      <td>S</td>\n      <td>6</td>\n      <td>360</td>\n      <td>0</td>\n      <td>0</td>\n      <td>-</td>\n      <td>Malicious</td>\n      <td>PartOfAHorizontalPortScan-Attack</td>\n    </tr>\n    <tr>\n      <th>3</th>\n      <td>1.536232e+09</td>\n      <td>CXrpjx3oDQaoBxnm5h</td>\n      <td>192.168.100.111</td>\n      <td>35944</td>\n      <td>69.255.24.137</td>\n      <td>8080</td>\n      <td>tcp</td>\n      <td>-</td>\n      <td>3.126213</td>\n      <td>0</td>\n      <td>0</td>\n      <td>S0</td>\n      <td>-</td>\n      <td>-</td>\n      <td>0</td>\n      <td>S</td>\n      <td>6</td>\n      <td>360</td>\n      <td>0</td>\n      <td>0</td>\n      <td>-</td>\n      <td>Malicious</td>\n      <td>PartOfAHorizontalPortScan-Attack</td>\n    </tr>\n    <tr>\n      <th>5398</th>\n      <td>1.526766e+09</td>\n      <td>CZ3BfLNI9PEOPsNqe</td>\n      <td>192.168.2.5</td>\n      <td>41042</td>\n      <td>69.131.140.8</td>\n      <td>22</td>\n      <td>tcp</td>\n      <td>ssh</td>\n      <td>3.753245</td>\n      <td>589</td>\n      <td>1024</td>\n      <td>SF</td>\n      <td>-</td>\n      <td>-</td>\n      <td>0</td>\n      <td>ShAdDaFf</td>\n      <td>13</td>\n      <td>1273</td>\n      <td>16</td>\n      <td>1864</td>\n      <td>(empty)</td>\n      <td>Malicious</td>\n      <td>Attack</td>\n    </tr>\n    <tr>\n      <th>...</th>\n      <td>...</td>\n      <td>...</td>\n      <td>...</td>\n      <td>...</td>\n      <td>...</td>\n      <td>...</td>\n      <td>...</td>\n      <td>...</td>\n      <td>...</td>\n      <td>...</td>\n      <td>...</td>\n      <td>...</td>\n      <td>...</td>\n      <td>...</td>\n      <td>...</td>\n      <td>...</td>\n      <td>...</td>\n      <td>...</td>\n      <td>...</td>\n      <td>...</td>\n      <td>...</td>\n      <td>...</td>\n      <td>...</td>\n    </tr>\n    <tr>\n      <th>32794</th>\n      <td>1.536306e+09</td>\n      <td>CNJubQ1u7n1m2EAirb</td>\n      <td>192.168.100.111</td>\n      <td>17832</td>\n      <td>156.146.151.192</td>\n      <td>37215</td>\n      <td>tcp</td>\n      <td>-</td>\n      <td>0.000002</td>\n      <td>0</td>\n      <td>0</td>\n      <td>S0</td>\n      <td>-</td>\n      <td>-</td>\n      <td>0</td>\n      <td>S</td>\n      <td>2</td>\n      <td>80</td>\n      <td>0</td>\n      <td>0</td>\n      <td>-</td>\n      <td>Malicious</td>\n      <td>Okiru</td>\n    </tr>\n    <tr>\n      <th>32795</th>\n      <td>1.532178e+09</td>\n      <td>CrORie1ygi4dnyn8m5</td>\n      <td>192.168.100.108</td>\n      <td>5526</td>\n      <td>70.219.32.241</td>\n      <td>37215</td>\n      <td>tcp</td>\n      <td>-</td>\n      <td>-</td>\n      <td>-</td>\n      <td>-</td>\n      <td>S0</td>\n      <td>-</td>\n      <td>-</td>\n      <td>0</td>\n      <td>S</td>\n      <td>1</td>\n      <td>40</td>\n      <td>0</td>\n      <td>0</td>\n      <td>(empty)</td>\n      <td>Malicious</td>\n      <td>Okiru</td>\n    </tr>\n    <tr>\n      <th>32796</th>\n      <td>1.547148e+09</td>\n      <td>CPhXpM34LFhtsZWN96</td>\n      <td>192.168.1.198</td>\n      <td>51476</td>\n      <td>197.18.61.20</td>\n      <td>37215</td>\n      <td>tcp</td>\n      <td>-</td>\n      <td>-</td>\n      <td>-</td>\n      <td>-</td>\n      <td>S0</td>\n      <td>-</td>\n      <td>-</td>\n      <td>0</td>\n      <td>S</td>\n      <td>1</td>\n      <td>40</td>\n      <td>0</td>\n      <td>0</td>\n      <td>-</td>\n      <td>Malicious</td>\n      <td>Okiru</td>\n    </tr>\n    <tr>\n      <th>32797</th>\n      <td>1.536279e+09</td>\n      <td>CuKBZ63MliAxdrfb2l</td>\n      <td>192.168.100.111</td>\n      <td>17832</td>\n      <td>156.128.37.76</td>\n      <td>37215</td>\n      <td>tcp</td>\n      <td>-</td>\n      <td>0.000005</td>\n      <td>0</td>\n      <td>0</td>\n      <td>S0</td>\n      <td>-</td>\n      <td>-</td>\n      <td>0</td>\n      <td>S</td>\n      <td>2</td>\n      <td>80</td>\n      <td>0</td>\n      <td>0</td>\n      <td>-</td>\n      <td>Malicious</td>\n      <td>Okiru</td>\n    </tr>\n    <tr>\n      <th>32798</th>\n      <td>1.547147e+09</td>\n      <td>CWdAnN19yQcRPxaIc3</td>\n      <td>192.168.1.198</td>\n      <td>55032</td>\n      <td>41.220.152.235</td>\n      <td>37215</td>\n      <td>tcp</td>\n      <td>-</td>\n      <td>-</td>\n      <td>-</td>\n      <td>-</td>\n      <td>S0</td>\n      <td>-</td>\n      <td>-</td>\n      <td>0</td>\n      <td>S</td>\n      <td>1</td>\n      <td>40</td>\n      <td>0</td>\n      <td>0</td>\n      <td>-</td>\n      <td>Malicious</td>\n      <td>Okiru</td>\n    </tr>\n  </tbody>\n</table>\n<p>21830 rows × 23 columns</p>\n</div>"
     },
     "execution_count": 24,
     "metadata": {},
     "output_type": "execute_result"
    }
   ],
   "source": [
    "df_c=df_c[df_c['label']=='Malicious']\n",
    "df_c"
   ],
   "metadata": {
    "collapsed": false,
    "pycharm": {
     "name": "#%%\n"
    }
   }
  },
  {
   "cell_type": "code",
   "execution_count": 25,
   "outputs": [
    {
     "name": "stdout",
     "output_type": "stream",
     "text": [
      "Malicious    21830\n",
      "Name: label, dtype: int64\n"
     ]
    }
   ],
   "source": [
    "print(df_c['label'].value_counts())"
   ],
   "metadata": {
    "collapsed": false,
    "pycharm": {
     "name": "#%%\n"
    }
   }
  },
  {
   "cell_type": "code",
   "execution_count": 26,
   "outputs": [
    {
     "data": {
      "text/plain": "      service  duration orig_bytes resp_bytes conn_state  missed_bytes  \\\n0           -  3.149707          0          0         S0             0   \n1           -  3.108733          0          0         S0             0   \n2           -  3.121722          0          0         S0             0   \n3           -  3.126213          0          0         S0             0   \n5398      ssh  3.753245        589       1024         SF             0   \n...       ...       ...        ...        ...        ...           ...   \n32794       -  0.000002          0          0         S0             0   \n32795       -         -          -          -         S0             0   \n32796       -         -          -          -         S0             0   \n32797       -  0.000005          0          0         S0             0   \n32798       -         -          -          -         S0             0   \n\n       orig_pkts  orig_ip_bytes  resp_pkts  resp_ip_bytes      label  \\\n0              6            360          0              0  Malicious   \n1              6            360          0              0  Malicious   \n2              6            360          0              0  Malicious   \n3              6            360          0              0  Malicious   \n5398          13           1273         16           1864  Malicious   \n...          ...            ...        ...            ...        ...   \n32794          2             80          0              0  Malicious   \n32795          1             40          0              0  Malicious   \n32796          1             40          0              0  Malicious   \n32797          2             80          0              0  Malicious   \n32798          1             40          0              0  Malicious   \n\n                         detailed-label  proto_tcp  proto_udp  \n0      PartOfAHorizontalPortScan-Attack          1          0  \n1      PartOfAHorizontalPortScan-Attack          1          0  \n2      PartOfAHorizontalPortScan-Attack          1          0  \n3      PartOfAHorizontalPortScan-Attack          1          0  \n5398                             Attack          1          0  \n...                                 ...        ...        ...  \n32794                             Okiru          1          0  \n32795                             Okiru          1          0  \n32796                             Okiru          1          0  \n32797                             Okiru          1          0  \n32798                             Okiru          1          0  \n\n[21830 rows x 14 columns]",
      "text/html": "<div>\n<style scoped>\n    .dataframe tbody tr th:only-of-type {\n        vertical-align: middle;\n    }\n\n    .dataframe tbody tr th {\n        vertical-align: top;\n    }\n\n    .dataframe thead th {\n        text-align: right;\n    }\n</style>\n<table border=\"1\" class=\"dataframe\">\n  <thead>\n    <tr style=\"text-align: right;\">\n      <th></th>\n      <th>service</th>\n      <th>duration</th>\n      <th>orig_bytes</th>\n      <th>resp_bytes</th>\n      <th>conn_state</th>\n      <th>missed_bytes</th>\n      <th>orig_pkts</th>\n      <th>orig_ip_bytes</th>\n      <th>resp_pkts</th>\n      <th>resp_ip_bytes</th>\n      <th>label</th>\n      <th>detailed-label</th>\n      <th>proto_tcp</th>\n      <th>proto_udp</th>\n    </tr>\n  </thead>\n  <tbody>\n    <tr>\n      <th>0</th>\n      <td>-</td>\n      <td>3.149707</td>\n      <td>0</td>\n      <td>0</td>\n      <td>S0</td>\n      <td>0</td>\n      <td>6</td>\n      <td>360</td>\n      <td>0</td>\n      <td>0</td>\n      <td>Malicious</td>\n      <td>PartOfAHorizontalPortScan-Attack</td>\n      <td>1</td>\n      <td>0</td>\n    </tr>\n    <tr>\n      <th>1</th>\n      <td>-</td>\n      <td>3.108733</td>\n      <td>0</td>\n      <td>0</td>\n      <td>S0</td>\n      <td>0</td>\n      <td>6</td>\n      <td>360</td>\n      <td>0</td>\n      <td>0</td>\n      <td>Malicious</td>\n      <td>PartOfAHorizontalPortScan-Attack</td>\n      <td>1</td>\n      <td>0</td>\n    </tr>\n    <tr>\n      <th>2</th>\n      <td>-</td>\n      <td>3.121722</td>\n      <td>0</td>\n      <td>0</td>\n      <td>S0</td>\n      <td>0</td>\n      <td>6</td>\n      <td>360</td>\n      <td>0</td>\n      <td>0</td>\n      <td>Malicious</td>\n      <td>PartOfAHorizontalPortScan-Attack</td>\n      <td>1</td>\n      <td>0</td>\n    </tr>\n    <tr>\n      <th>3</th>\n      <td>-</td>\n      <td>3.126213</td>\n      <td>0</td>\n      <td>0</td>\n      <td>S0</td>\n      <td>0</td>\n      <td>6</td>\n      <td>360</td>\n      <td>0</td>\n      <td>0</td>\n      <td>Malicious</td>\n      <td>PartOfAHorizontalPortScan-Attack</td>\n      <td>1</td>\n      <td>0</td>\n    </tr>\n    <tr>\n      <th>5398</th>\n      <td>ssh</td>\n      <td>3.753245</td>\n      <td>589</td>\n      <td>1024</td>\n      <td>SF</td>\n      <td>0</td>\n      <td>13</td>\n      <td>1273</td>\n      <td>16</td>\n      <td>1864</td>\n      <td>Malicious</td>\n      <td>Attack</td>\n      <td>1</td>\n      <td>0</td>\n    </tr>\n    <tr>\n      <th>...</th>\n      <td>...</td>\n      <td>...</td>\n      <td>...</td>\n      <td>...</td>\n      <td>...</td>\n      <td>...</td>\n      <td>...</td>\n      <td>...</td>\n      <td>...</td>\n      <td>...</td>\n      <td>...</td>\n      <td>...</td>\n      <td>...</td>\n      <td>...</td>\n    </tr>\n    <tr>\n      <th>32794</th>\n      <td>-</td>\n      <td>0.000002</td>\n      <td>0</td>\n      <td>0</td>\n      <td>S0</td>\n      <td>0</td>\n      <td>2</td>\n      <td>80</td>\n      <td>0</td>\n      <td>0</td>\n      <td>Malicious</td>\n      <td>Okiru</td>\n      <td>1</td>\n      <td>0</td>\n    </tr>\n    <tr>\n      <th>32795</th>\n      <td>-</td>\n      <td>-</td>\n      <td>-</td>\n      <td>-</td>\n      <td>S0</td>\n      <td>0</td>\n      <td>1</td>\n      <td>40</td>\n      <td>0</td>\n      <td>0</td>\n      <td>Malicious</td>\n      <td>Okiru</td>\n      <td>1</td>\n      <td>0</td>\n    </tr>\n    <tr>\n      <th>32796</th>\n      <td>-</td>\n      <td>-</td>\n      <td>-</td>\n      <td>-</td>\n      <td>S0</td>\n      <td>0</td>\n      <td>1</td>\n      <td>40</td>\n      <td>0</td>\n      <td>0</td>\n      <td>Malicious</td>\n      <td>Okiru</td>\n      <td>1</td>\n      <td>0</td>\n    </tr>\n    <tr>\n      <th>32797</th>\n      <td>-</td>\n      <td>0.000005</td>\n      <td>0</td>\n      <td>0</td>\n      <td>S0</td>\n      <td>0</td>\n      <td>2</td>\n      <td>80</td>\n      <td>0</td>\n      <td>0</td>\n      <td>Malicious</td>\n      <td>Okiru</td>\n      <td>1</td>\n      <td>0</td>\n    </tr>\n    <tr>\n      <th>32798</th>\n      <td>-</td>\n      <td>-</td>\n      <td>-</td>\n      <td>-</td>\n      <td>S0</td>\n      <td>0</td>\n      <td>1</td>\n      <td>40</td>\n      <td>0</td>\n      <td>0</td>\n      <td>Malicious</td>\n      <td>Okiru</td>\n      <td>1</td>\n      <td>0</td>\n    </tr>\n  </tbody>\n</table>\n<p>21830 rows × 14 columns</p>\n</div>"
     },
     "execution_count": 26,
     "metadata": {},
     "output_type": "execute_result"
    }
   ],
   "source": [
    "df_c = df_c.drop(columns=['ts','uid','id.orig_h','id.orig_p','id.resp_h','id.resp_p',\n",
    "                            'local_orig','local_resp','history','tunnel_parents'])\n",
    "df_c = pd.get_dummies(df_c, columns=['proto'])\n",
    "# df_c = pd.get_dummies(df_c, columns=['conn_state'])\n",
    "# df_c = pd.get_dummies(df_c, columns=['service'])\n",
    "df_c"
   ],
   "metadata": {
    "collapsed": false,
    "pycharm": {
     "name": "#%%\n"
    }
   }
  },
  {
   "cell_type": "code",
   "execution_count": 27,
   "outputs": [],
   "source": [
    "df_c['duration'] = df_c['duration'].str.replace('-','0')\n",
    "df_c['orig_bytes'] = df_c['orig_bytes'].str.replace('-','0')\n",
    "df_c['resp_bytes'] = df_c['resp_bytes'].str.replace('-','0')"
   ],
   "metadata": {
    "collapsed": false,
    "pycharm": {
     "name": "#%%\n"
    }
   }
  },
  {
   "cell_type": "code",
   "execution_count": 28,
   "outputs": [
    {
     "data": {
      "text/plain": "service           0\nduration          0\norig_bytes        0\nresp_bytes        0\nconn_state        0\nmissed_bytes      0\norig_pkts         0\norig_ip_bytes     0\nresp_pkts         0\nresp_ip_bytes     0\nlabel             0\ndetailed-label    0\nproto_tcp         0\nproto_udp         0\ndtype: int64"
     },
     "execution_count": 28,
     "metadata": {},
     "output_type": "execute_result"
    }
   ],
   "source": [
    "df_c.fillna(-1,inplace=True)\n",
    "df_c.isna().sum()"
   ],
   "metadata": {
    "collapsed": false,
    "pycharm": {
     "name": "#%%\n"
    }
   }
  },
  {
   "cell_type": "code",
   "execution_count": 29,
   "outputs": [],
   "source": [
    "df_c.to_csv('./Data/iot23_attack_combined_test.csv')"
   ],
   "metadata": {
    "collapsed": false,
    "pycharm": {
     "name": "#%%\n"
    }
   }
  },
  {
   "cell_type": "code",
   "execution_count": 30,
   "outputs": [
    {
     "name": "stdout",
     "output_type": "stream",
     "text": [
      "Empty DataFrame\n",
      "Columns: [ts, uid, id.orig_h, id.orig_p, id.resp_h, id.resp_p, proto, service, duration, orig_bytes, resp_bytes, conn_state, local_orig, local_resp, missed_bytes, history, orig_pkts, orig_ip_bytes, resp_pkts, resp_ip_bytes, label]\n",
      "Index: []\n",
      "(999, 21) Empty DataFrame\n",
      "Columns: [ts, uid, id.orig_h, id.orig_p, id.resp_h, id.resp_p, proto, service, duration, orig_bytes, resp_bytes, conn_state, local_orig, local_resp, missed_bytes, history, orig_pkts, orig_ip_bytes, resp_pkts, resp_ip_bytes, label]\n",
      "Index: []\n"
     ]
    },
    {
     "data": {
      "text/plain": "                     ts                 uid        id.orig_h  id.orig_p  \\\n0      1525879832.01624   CDe43c1PtgynajGI6  192.168.100.103    60905.0   \n1     1525879832.024985  CJaDcG3MZzvf1YVYI4  192.168.100.103    44301.0   \n2     1525879832.044975  CMBrup3BLXivSp4Avc  192.168.100.103    50244.0   \n3     1525879833.016171  CfHl9r3XMYtDQRrHnh  192.168.100.103    34243.0   \n4     1525879833.044906  C7USrA15nFVkniMqC5  192.168.100.103    34840.0   \n...                 ...                 ...              ...        ...   \n1893  1532525339.002841   CXiq06EbmjvdZGhJ8  192.168.100.111    48858.0   \n1894  1532525339.002842  CjtGn54ESzeZ4UwY6f  192.168.100.111    47106.0   \n1895  1532525339.999037  ChqqmX1uNcvcvNmHTf  192.168.100.111    31842.0   \n1896   1532525339.99904   CAk4VLmtFjOIojkfl  192.168.100.111     4311.0   \n1897  1532525339.999258  CM4hNi220JdQew4Ta5  192.168.100.111     2118.0   \n\n            id.resp_h  id.resp_p proto service  duration orig_bytes  \\\n0     131.174.215.147       23.0   tcp       -  2.998796          0   \n1         91.42.47.63       23.0   tcp       -         -          -   \n2     120.210.108.200       23.0   tcp       -         -          -   \n3        147.7.65.203    49560.0   tcp       -  2.998804          0   \n4        145.164.35.6    21288.0   tcp       -         -          -   \n...               ...        ...   ...     ...       ...        ...   \n1893   43.109.117.168       23.0   tcp       -         -          -   \n1894    126.19.76.149       23.0   tcp       -         -          -   \n1895   102.133.150.87       81.0   tcp       -         -          -   \n1896    87.90.102.191       81.0   tcp       -         -          -   \n1897   211.214.235.17       81.0   tcp       -         -          -   \n\n     resp_bytes conn_state local_orig local_resp  missed_bytes history  \\\n0             0         S0          -          -           0.0       S   \n1             -         S0          -          -           0.0       S   \n2             -         S0          -          -           0.0       S   \n3             0         S0          -          -           0.0       S   \n4             -         S0          -          -           0.0       S   \n...         ...        ...        ...        ...           ...     ...   \n1893          -         S0          -          -           0.0       S   \n1894          -         S0          -          -           0.0       S   \n1895          -         S0          -          -           0.0       S   \n1896          -         S0          -          -           0.0       S   \n1897          -         S0          -          -           0.0       S   \n\n      orig_pkts  orig_ip_bytes  resp_pkts  resp_ip_bytes  \\\n0           3.0          180.0        0.0            0.0   \n1           1.0           60.0        0.0            0.0   \n2           1.0           60.0        0.0            0.0   \n3           3.0          180.0        0.0            0.0   \n4           1.0           60.0        0.0            0.0   \n...         ...            ...        ...            ...   \n1893        1.0           40.0        0.0            0.0   \n1894        1.0           40.0        0.0            0.0   \n1895        1.0           40.0        0.0            0.0   \n1896        1.0           40.0        0.0            0.0   \n1897        1.0           40.0        0.0            0.0   \n\n                                                label  \n0     (empty)   Malicious   PartOfAHorizontalPortScan  \n1     (empty)   Malicious   PartOfAHorizontalPortScan  \n2     (empty)   Malicious   PartOfAHorizontalPortScan  \n3                                (empty)   Benign   -  \n4                                (empty)   Benign   -  \n...                                               ...  \n1893  (empty)   Malicious   PartOfAHorizontalPortScan  \n1894  (empty)   Malicious   PartOfAHorizontalPortScan  \n1895  (empty)   Malicious   PartOfAHorizontalPortScan  \n1896  (empty)   Malicious   PartOfAHorizontalPortScan  \n1897  (empty)   Malicious   PartOfAHorizontalPortScan  \n\n[82919 rows x 21 columns]",
      "text/html": "<div>\n<style scoped>\n    .dataframe tbody tr th:only-of-type {\n        vertical-align: middle;\n    }\n\n    .dataframe tbody tr th {\n        vertical-align: top;\n    }\n\n    .dataframe thead th {\n        text-align: right;\n    }\n</style>\n<table border=\"1\" class=\"dataframe\">\n  <thead>\n    <tr style=\"text-align: right;\">\n      <th></th>\n      <th>ts</th>\n      <th>uid</th>\n      <th>id.orig_h</th>\n      <th>id.orig_p</th>\n      <th>id.resp_h</th>\n      <th>id.resp_p</th>\n      <th>proto</th>\n      <th>service</th>\n      <th>duration</th>\n      <th>orig_bytes</th>\n      <th>resp_bytes</th>\n      <th>conn_state</th>\n      <th>local_orig</th>\n      <th>local_resp</th>\n      <th>missed_bytes</th>\n      <th>history</th>\n      <th>orig_pkts</th>\n      <th>orig_ip_bytes</th>\n      <th>resp_pkts</th>\n      <th>resp_ip_bytes</th>\n      <th>label</th>\n    </tr>\n  </thead>\n  <tbody>\n    <tr>\n      <th>0</th>\n      <td>1525879832.01624</td>\n      <td>CDe43c1PtgynajGI6</td>\n      <td>192.168.100.103</td>\n      <td>60905.0</td>\n      <td>131.174.215.147</td>\n      <td>23.0</td>\n      <td>tcp</td>\n      <td>-</td>\n      <td>2.998796</td>\n      <td>0</td>\n      <td>0</td>\n      <td>S0</td>\n      <td>-</td>\n      <td>-</td>\n      <td>0.0</td>\n      <td>S</td>\n      <td>3.0</td>\n      <td>180.0</td>\n      <td>0.0</td>\n      <td>0.0</td>\n      <td>(empty)   Malicious   PartOfAHorizontalPortScan</td>\n    </tr>\n    <tr>\n      <th>1</th>\n      <td>1525879832.024985</td>\n      <td>CJaDcG3MZzvf1YVYI4</td>\n      <td>192.168.100.103</td>\n      <td>44301.0</td>\n      <td>91.42.47.63</td>\n      <td>23.0</td>\n      <td>tcp</td>\n      <td>-</td>\n      <td>-</td>\n      <td>-</td>\n      <td>-</td>\n      <td>S0</td>\n      <td>-</td>\n      <td>-</td>\n      <td>0.0</td>\n      <td>S</td>\n      <td>1.0</td>\n      <td>60.0</td>\n      <td>0.0</td>\n      <td>0.0</td>\n      <td>(empty)   Malicious   PartOfAHorizontalPortScan</td>\n    </tr>\n    <tr>\n      <th>2</th>\n      <td>1525879832.044975</td>\n      <td>CMBrup3BLXivSp4Avc</td>\n      <td>192.168.100.103</td>\n      <td>50244.0</td>\n      <td>120.210.108.200</td>\n      <td>23.0</td>\n      <td>tcp</td>\n      <td>-</td>\n      <td>-</td>\n      <td>-</td>\n      <td>-</td>\n      <td>S0</td>\n      <td>-</td>\n      <td>-</td>\n      <td>0.0</td>\n      <td>S</td>\n      <td>1.0</td>\n      <td>60.0</td>\n      <td>0.0</td>\n      <td>0.0</td>\n      <td>(empty)   Malicious   PartOfAHorizontalPortScan</td>\n    </tr>\n    <tr>\n      <th>3</th>\n      <td>1525879833.016171</td>\n      <td>CfHl9r3XMYtDQRrHnh</td>\n      <td>192.168.100.103</td>\n      <td>34243.0</td>\n      <td>147.7.65.203</td>\n      <td>49560.0</td>\n      <td>tcp</td>\n      <td>-</td>\n      <td>2.998804</td>\n      <td>0</td>\n      <td>0</td>\n      <td>S0</td>\n      <td>-</td>\n      <td>-</td>\n      <td>0.0</td>\n      <td>S</td>\n      <td>3.0</td>\n      <td>180.0</td>\n      <td>0.0</td>\n      <td>0.0</td>\n      <td>(empty)   Benign   -</td>\n    </tr>\n    <tr>\n      <th>4</th>\n      <td>1525879833.044906</td>\n      <td>C7USrA15nFVkniMqC5</td>\n      <td>192.168.100.103</td>\n      <td>34840.0</td>\n      <td>145.164.35.6</td>\n      <td>21288.0</td>\n      <td>tcp</td>\n      <td>-</td>\n      <td>-</td>\n      <td>-</td>\n      <td>-</td>\n      <td>S0</td>\n      <td>-</td>\n      <td>-</td>\n      <td>0.0</td>\n      <td>S</td>\n      <td>1.0</td>\n      <td>60.0</td>\n      <td>0.0</td>\n      <td>0.0</td>\n      <td>(empty)   Benign   -</td>\n    </tr>\n    <tr>\n      <th>...</th>\n      <td>...</td>\n      <td>...</td>\n      <td>...</td>\n      <td>...</td>\n      <td>...</td>\n      <td>...</td>\n      <td>...</td>\n      <td>...</td>\n      <td>...</td>\n      <td>...</td>\n      <td>...</td>\n      <td>...</td>\n      <td>...</td>\n      <td>...</td>\n      <td>...</td>\n      <td>...</td>\n      <td>...</td>\n      <td>...</td>\n      <td>...</td>\n      <td>...</td>\n      <td>...</td>\n    </tr>\n    <tr>\n      <th>1893</th>\n      <td>1532525339.002841</td>\n      <td>CXiq06EbmjvdZGhJ8</td>\n      <td>192.168.100.111</td>\n      <td>48858.0</td>\n      <td>43.109.117.168</td>\n      <td>23.0</td>\n      <td>tcp</td>\n      <td>-</td>\n      <td>-</td>\n      <td>-</td>\n      <td>-</td>\n      <td>S0</td>\n      <td>-</td>\n      <td>-</td>\n      <td>0.0</td>\n      <td>S</td>\n      <td>1.0</td>\n      <td>40.0</td>\n      <td>0.0</td>\n      <td>0.0</td>\n      <td>(empty)   Malicious   PartOfAHorizontalPortScan</td>\n    </tr>\n    <tr>\n      <th>1894</th>\n      <td>1532525339.002842</td>\n      <td>CjtGn54ESzeZ4UwY6f</td>\n      <td>192.168.100.111</td>\n      <td>47106.0</td>\n      <td>126.19.76.149</td>\n      <td>23.0</td>\n      <td>tcp</td>\n      <td>-</td>\n      <td>-</td>\n      <td>-</td>\n      <td>-</td>\n      <td>S0</td>\n      <td>-</td>\n      <td>-</td>\n      <td>0.0</td>\n      <td>S</td>\n      <td>1.0</td>\n      <td>40.0</td>\n      <td>0.0</td>\n      <td>0.0</td>\n      <td>(empty)   Malicious   PartOfAHorizontalPortScan</td>\n    </tr>\n    <tr>\n      <th>1895</th>\n      <td>1532525339.999037</td>\n      <td>ChqqmX1uNcvcvNmHTf</td>\n      <td>192.168.100.111</td>\n      <td>31842.0</td>\n      <td>102.133.150.87</td>\n      <td>81.0</td>\n      <td>tcp</td>\n      <td>-</td>\n      <td>-</td>\n      <td>-</td>\n      <td>-</td>\n      <td>S0</td>\n      <td>-</td>\n      <td>-</td>\n      <td>0.0</td>\n      <td>S</td>\n      <td>1.0</td>\n      <td>40.0</td>\n      <td>0.0</td>\n      <td>0.0</td>\n      <td>(empty)   Malicious   PartOfAHorizontalPortScan</td>\n    </tr>\n    <tr>\n      <th>1896</th>\n      <td>1532525339.99904</td>\n      <td>CAk4VLmtFjOIojkfl</td>\n      <td>192.168.100.111</td>\n      <td>4311.0</td>\n      <td>87.90.102.191</td>\n      <td>81.0</td>\n      <td>tcp</td>\n      <td>-</td>\n      <td>-</td>\n      <td>-</td>\n      <td>-</td>\n      <td>S0</td>\n      <td>-</td>\n      <td>-</td>\n      <td>0.0</td>\n      <td>S</td>\n      <td>1.0</td>\n      <td>40.0</td>\n      <td>0.0</td>\n      <td>0.0</td>\n      <td>(empty)   Malicious   PartOfAHorizontalPortScan</td>\n    </tr>\n    <tr>\n      <th>1897</th>\n      <td>1532525339.999258</td>\n      <td>CM4hNi220JdQew4Ta5</td>\n      <td>192.168.100.111</td>\n      <td>2118.0</td>\n      <td>211.214.235.17</td>\n      <td>81.0</td>\n      <td>tcp</td>\n      <td>-</td>\n      <td>-</td>\n      <td>-</td>\n      <td>-</td>\n      <td>S0</td>\n      <td>-</td>\n      <td>-</td>\n      <td>0.0</td>\n      <td>S</td>\n      <td>1.0</td>\n      <td>40.0</td>\n      <td>0.0</td>\n      <td>0.0</td>\n      <td>(empty)   Malicious   PartOfAHorizontalPortScan</td>\n    </tr>\n  </tbody>\n</table>\n<p>82919 rows × 21 columns</p>\n</div>"
     },
     "execution_count": 30,
     "metadata": {},
     "output_type": "execute_result"
    }
   ],
   "source": [
    "capture_34 = \"/media/wuguo-buaa/LENOVO_USB_HDD/iot-data/iot_23_datasets_small/opt/Malware-Project/BigDataset/IoTScenarios/CTU-IoT-Malware-Capture-34-1/split_files_subsample/target_list_1.log\"  #\n",
    "capture_43 = \"/media/wuguo-buaa/LENOVO_USB_HDD/iot-data/iot_23_datasets_small/opt/Malware-Project/BigDataset/IoTScenarios/CTU-IoT-Malware-Capture-43-1/split_files_subsample/target_list_1.log\"  #\n",
    "capture_44 = \"/media/wuguo-buaa/LENOVO_USB_HDD/iot-data/iot_23_datasets_small/opt/Malware-Project/BigDataset/IoTScenarios/CTU-IoT-Malware-Capture-44-1/split_files_subsample/target_list_1.log\"  #\n",
    "capture_49 = \"/media/wuguo-buaa/LENOVO_USB_HDD/iot-data/iot_23_datasets_small/opt/Malware-Project/BigDataset/IoTScenarios/CTU-IoT-Malware-Capture-49-1/split_files_subsample/target_list_1.log\"  #\n",
    "capture_52 = \"/media/wuguo-buaa/LENOVO_USB_HDD/iot-data/iot_23_datasets_small/opt/Malware-Project/BigDataset/IoTScenarios/CTU-IoT-Malware-Capture-52-1/split_files_subsample/target_list_1.log\"  #\n",
    "capture_20 = \"/media/wuguo-buaa/LENOVO_USB_HDD/iot-data/iot_23_datasets_small/opt/Malware-Project/BigDataset/IoTScenarios/CTU-IoT-Malware-Capture-20-1/split_files_subsample/target_list_1.log\"  #\n",
    "capture_21 = \"/media/wuguo-buaa/LENOVO_USB_HDD/iot-data/iot_23_datasets_small/opt/Malware-Project/BigDataset/IoTScenarios/CTU-IoT-Malware-Capture-21-1/split_files_subsample/target_list_1.log\"  #\n",
    "capture_42 = \"/media/wuguo-buaa/LENOVO_USB_HDD/iot-data/iot_23_datasets_small/opt/Malware-Project/BigDataset/IoTScenarios/CTU-IoT-Malware-Capture-42-1/split_files_subsample/target_list_1.log\"  #\n",
    "capture_60 = \"/media/wuguo-buaa/LENOVO_USB_HDD/iot-data/iot_23_datasets_small/opt/Malware-Project/BigDataset/IoTScenarios/CTU-IoT-Malware-Capture-60-1/split_files_subsample/target_list_1.log\"  #\n",
    "capture_17 = \"/media/wuguo-buaa/LENOVO_USB_HDD/iot-data/iot_23_datasets_small/opt/Malware-Project/BigDataset/IoTScenarios/CTU-IoT-Malware-Capture-17-1/split_files_subsample/target_list_1.log\"  #\n",
    "capture_36 = \"/media/wuguo-buaa/LENOVO_USB_HDD/iot-data/iot_23_datasets_small/opt/Malware-Project/BigDataset/IoTScenarios/CTU-IoT-Malware-Capture-36-1/split_files_subsample/target_list_1.log\"  #\n",
    "capture_33 = \"/media/wuguo-buaa/LENOVO_USB_HDD/iot-data/iot_23_datasets_small/opt/Malware-Project/BigDataset/IoTScenarios/CTU-IoT-Malware-Capture-33-1/split_files_subsample/target_list_1.log\"  #\n",
    "capture_8 = \"/media/wuguo-buaa/LENOVO_USB_HDD/iot-data/iot_23_datasets_small/opt/Malware-Project/BigDataset/IoTScenarios/CTU-IoT-Malware-Capture-8-1/split_files_subsample/target_list_1.log\"  #1.4 MB\n",
    "capture_35 = \"/media/wuguo-buaa/LENOVO_USB_HDD/iot-data/iot_23_datasets_small/opt/Malware-Project/BigDataset/IoTScenarios/CTU-IoT-Malware-Capture-35-1/split_files_subsample/target_list_1.log\"  #\n",
    "capture_48 = \"/media/wuguo-buaa/LENOVO_USB_HDD/iot-data/iot_23_datasets_small/opt/Malware-Project/BigDataset/IoTScenarios/CTU-IoT-Malware-Capture-48-1/split_files_subsample/target_list_1.log\"  #\n",
    "capture_39 = \"/media/wuguo-buaa/LENOVO_USB_HDD/iot-data/iot_23_datasets_small/opt/Malware-Project/BigDataset/IoTScenarios/CTU-IoT-Malware-Capture-39-1/split_files_subsample/target_list_1.log\"  #\n",
    "capture_7 = \"/media/wuguo-buaa/LENOVO_USB_HDD/iot-data/iot_23_datasets_small/opt/Malware-Project/BigDataset/IoTScenarios/CTU-IoT-Malware-Capture-7-1/split_files_subsample/target_list_1.log\"  #1.6 GB\n",
    "capture_9 = \"/media/wuguo-buaa/LENOVO_USB_HDD/iot-data/iot_23_datasets_small/opt/Malware-Project/BigDataset/IoTScenarios/CTU-IoT-Malware-Capture-9-1/split_files_subsample/target_list_1.log\"  #993.5 MB\n",
    "capture_3 = \"/media/wuguo-buaa/LENOVO_USB_HDD/iot-data/iot_23_datasets_small/opt/Malware-Project/BigDataset/IoTScenarios/CTU-IoT-Malware-Capture-3-1/split_files_subsample/target_list_1.log\"  #24.4 MB\n",
    "capture_1 = \"/media/wuguo-buaa/LENOVO_USB_HDD/iot-data/iot_23_datasets_small/opt/Malware-Project/BigDataset/IoTScenarios/CTU-IoT-Malware-Capture-1-1/split_files_subsample/target_list_1.log\"  #144.3 MB\n",
    "\n",
    "df34 = pd.read_table(filepath_or_buffer=capture_34, skiprows=10, nrows=1000)\n",
    "df34.columns = ['ts',\n",
    "                'uid',\n",
    "                'id.orig_h',\n",
    "                'id.orig_p',\n",
    "                'id.resp_h',\n",
    "                'id.resp_p',\n",
    "                'proto',\n",
    "                'service',\n",
    "                'duration',\n",
    "                'orig_bytes',\n",
    "                'resp_bytes',\n",
    "                'conn_state',\n",
    "                'local_orig',\n",
    "                'local_resp',\n",
    "                'missed_bytes',\n",
    "                'history',\n",
    "                'orig_pkts',\n",
    "                'orig_ip_bytes',\n",
    "                'resp_pkts',\n",
    "                'resp_ip_bytes',\n",
    "                'label']\n",
    "df34.drop(df34.tail(1).index, inplace=True)\n",
    "print(df34[20000:])\n",
    "df34.head()\n",
    "df43 = pd.read_table(filepath_or_buffer=capture_43, skiprows=10, nrows=1000)\n",
    "df43.columns = ['ts',\n",
    "                'uid',\n",
    "                'id.orig_h',\n",
    "                'id.orig_p',\n",
    "                'id.resp_h',\n",
    "                'id.resp_p',\n",
    "                'proto',\n",
    "                'service',\n",
    "                'duration',\n",
    "                'orig_bytes',\n",
    "                'resp_bytes',\n",
    "                'conn_state',\n",
    "                'local_orig',\n",
    "                'local_resp',\n",
    "                'missed_bytes',\n",
    "                'history',\n",
    "                'orig_pkts',\n",
    "                'orig_ip_bytes',\n",
    "                'resp_pkts',\n",
    "                'resp_ip_bytes',\n",
    "                'label']\n",
    "df43.drop(df43.tail(1).index, inplace=True)\n",
    "print(df43.shape, df43[198900:])\n",
    "df44 = pd.read_table(filepath_or_buffer=capture_44, skiprows=10, nrows=19000)\n",
    "df44.columns = ['ts',\n",
    "                'uid',\n",
    "                'id.orig_h',\n",
    "                'id.orig_p',\n",
    "                'id.resp_h',\n",
    "                'id.resp_p',\n",
    "                'proto',\n",
    "                'service',\n",
    "                'duration',\n",
    "                'orig_bytes',\n",
    "                'resp_bytes',\n",
    "                'conn_state',\n",
    "                'local_orig',\n",
    "                'local_resp',\n",
    "                'missed_bytes',\n",
    "                'history',\n",
    "                'orig_pkts',\n",
    "                'orig_ip_bytes',\n",
    "                'resp_pkts',\n",
    "                'resp_ip_bytes',\n",
    "                'label']\n",
    "df44.drop(df44.tail(1).index, inplace=True)\n",
    "df49 = pd.read_table(filepath_or_buffer=capture_49, skiprows=10, nrows=19000)\n",
    "df49.columns = ['ts',\n",
    "                'uid',\n",
    "                'id.orig_h',\n",
    "                'id.orig_p',\n",
    "                'id.resp_h',\n",
    "                'id.resp_p',\n",
    "                'proto',\n",
    "                'service',\n",
    "                'duration',\n",
    "                'orig_bytes',\n",
    "                'resp_bytes',\n",
    "                'conn_state',\n",
    "                'local_orig',\n",
    "                'local_resp',\n",
    "                'missed_bytes',\n",
    "                'history',\n",
    "                'orig_pkts',\n",
    "                'orig_ip_bytes',\n",
    "                'resp_pkts',\n",
    "                'resp_ip_bytes',\n",
    "                'label']\n",
    "df49.drop(df49.tail(1).index, inplace=True)\n",
    "df52 = pd.read_table(filepath_or_buffer=capture_52, skiprows=10, nrows=19000)\n",
    "df52.columns = ['ts',\n",
    "                'uid',\n",
    "                'id.orig_h',\n",
    "                'id.orig_p',\n",
    "                'id.resp_h',\n",
    "                'id.resp_p',\n",
    "                'proto',\n",
    "                'service',\n",
    "                'duration',\n",
    "                'orig_bytes',\n",
    "                'resp_bytes',\n",
    "                'conn_state',\n",
    "                'local_orig',\n",
    "                'local_resp',\n",
    "                'missed_bytes',\n",
    "                'history',\n",
    "                'orig_pkts',\n",
    "                'orig_ip_bytes',\n",
    "                'resp_pkts',\n",
    "                'resp_ip_bytes',\n",
    "                'label']\n",
    "df52.drop(df52.tail(1).index, inplace=True)\n",
    "df20 = pd.read_table(filepath_or_buffer=capture_20, skiprows=10, nrows=19000)\n",
    "df20.columns = ['ts',\n",
    "                'uid',\n",
    "                'id.orig_h',\n",
    "                'id.orig_p',\n",
    "                'id.resp_h',\n",
    "                'id.resp_p',\n",
    "                'proto',\n",
    "                'service',\n",
    "                'duration',\n",
    "                'orig_bytes',\n",
    "                'resp_bytes',\n",
    "                'conn_state',\n",
    "                'local_orig',\n",
    "                'local_resp',\n",
    "                'missed_bytes',\n",
    "                'history',\n",
    "                'orig_pkts',\n",
    "                'orig_ip_bytes',\n",
    "                'resp_pkts',\n",
    "                'resp_ip_bytes',\n",
    "                'label']\n",
    "df20.drop(df20.tail(1).index, inplace=True)\n",
    "df21 = pd.read_table(filepath_or_buffer=capture_21, skiprows=10, nrows=19000)\n",
    "df21.columns = ['ts',\n",
    "                'uid',\n",
    "                'id.orig_h',\n",
    "                'id.orig_p',\n",
    "                'id.resp_h',\n",
    "                'id.resp_p',\n",
    "                'proto',\n",
    "                'service',\n",
    "                'duration',\n",
    "                'orig_bytes',\n",
    "                'resp_bytes',\n",
    "                'conn_state',\n",
    "                'local_orig',\n",
    "                'local_resp',\n",
    "                'missed_bytes',\n",
    "                'history',\n",
    "                'orig_pkts',\n",
    "                'orig_ip_bytes',\n",
    "                'resp_pkts',\n",
    "                'resp_ip_bytes',\n",
    "                'label']\n",
    "df21.drop(df21.tail(1).index, inplace=True)\n",
    "df42 = pd.read_table(filepath_or_buffer=capture_42, skiprows=10, nrows=19000)\n",
    "df42.columns = ['ts',\n",
    "                'uid',\n",
    "                'id.orig_h',\n",
    "                'id.orig_p',\n",
    "                'id.resp_h',\n",
    "                'id.resp_p',\n",
    "                'proto',\n",
    "                'service',\n",
    "                'duration',\n",
    "                'orig_bytes',\n",
    "                'resp_bytes',\n",
    "                'conn_state',\n",
    "                'local_orig',\n",
    "                'local_resp',\n",
    "                'missed_bytes',\n",
    "                'history',\n",
    "                'orig_pkts',\n",
    "                'orig_ip_bytes',\n",
    "                'resp_pkts',\n",
    "                'resp_ip_bytes',\n",
    "                'label']\n",
    "df42.drop(df42.tail(1).index, inplace=True)\n",
    "df60 = pd.read_table(filepath_or_buffer=capture_60, skiprows=10, nrows=19000)\n",
    "df60.columns = ['ts',\n",
    "                'uid',\n",
    "                'id.orig_h',\n",
    "                'id.orig_p',\n",
    "                'id.resp_h',\n",
    "                'id.resp_p',\n",
    "                'proto',\n",
    "                'service',\n",
    "                'duration',\n",
    "                'orig_bytes',\n",
    "                'resp_bytes',\n",
    "                'conn_state',\n",
    "                'local_orig',\n",
    "                'local_resp',\n",
    "                'missed_bytes',\n",
    "                'history',\n",
    "                'orig_pkts',\n",
    "                'orig_ip_bytes',\n",
    "                'resp_pkts',\n",
    "                'resp_ip_bytes',\n",
    "                'label']\n",
    "df60.drop(df60.tail(1).index, inplace=True)\n",
    "df17 = pd.read_table(filepath_or_buffer=capture_17, skiprows=10, nrows=19000)\n",
    "df17.columns = ['ts',\n",
    "                'uid',\n",
    "                'id.orig_h',\n",
    "                'id.orig_p',\n",
    "                'id.resp_h',\n",
    "                'id.resp_p',\n",
    "                'proto',\n",
    "                'service',\n",
    "                'duration',\n",
    "                'orig_bytes',\n",
    "                'resp_bytes',\n",
    "                'conn_state',\n",
    "                'local_orig',\n",
    "                'local_resp',\n",
    "                'missed_bytes',\n",
    "                'history',\n",
    "                'orig_pkts',\n",
    "                'orig_ip_bytes',\n",
    "                'resp_pkts',\n",
    "                'resp_ip_bytes',\n",
    "                'label']\n",
    "df17.drop(df17.tail(1).index, inplace=True)\n",
    "df36 = pd.read_table(filepath_or_buffer=capture_36, skiprows=10, nrows=19000)\n",
    "df36.columns = ['ts',\n",
    "                'uid',\n",
    "                'id.orig_h',\n",
    "                'id.orig_p',\n",
    "                'id.resp_h',\n",
    "                'id.resp_p',\n",
    "                'proto',\n",
    "                'service',\n",
    "                'duration',\n",
    "                'orig_bytes',\n",
    "                'resp_bytes',\n",
    "                'conn_state',\n",
    "                'local_orig',\n",
    "                'local_resp',\n",
    "                'missed_bytes',\n",
    "                'history',\n",
    "                'orig_pkts',\n",
    "                'orig_ip_bytes',\n",
    "                'resp_pkts',\n",
    "                'resp_ip_bytes',\n",
    "                'label']\n",
    "df36.drop(df36.tail(1).index, inplace=True)\n",
    "df33 = pd.read_table(filepath_or_buffer=capture_33, skiprows=10, nrows=19000)\n",
    "df33.columns = ['ts',\n",
    "                'uid',\n",
    "                'id.orig_h',\n",
    "                'id.orig_p',\n",
    "                'id.resp_h',\n",
    "                'id.resp_p',\n",
    "                'proto',\n",
    "                'service',\n",
    "                'duration',\n",
    "                'orig_bytes',\n",
    "                'resp_bytes',\n",
    "                'conn_state',\n",
    "                'local_orig',\n",
    "                'local_resp',\n",
    "                'missed_bytes',\n",
    "                'history',\n",
    "                'orig_pkts',\n",
    "                'orig_ip_bytes',\n",
    "                'resp_pkts',\n",
    "                'resp_ip_bytes',\n",
    "                'label']\n",
    "df33.drop(df33.tail(1).index, inplace=True)\n",
    "df8 = pd.read_table(filepath_or_buffer=capture_8, skiprows=10, nrows=19000)\n",
    "df8.columns = ['ts',\n",
    "               'uid',\n",
    "               'id.orig_h',\n",
    "               'id.orig_p',\n",
    "               'id.resp_h',\n",
    "               'id.resp_p',\n",
    "               'proto',\n",
    "               'service',\n",
    "               'duration',\n",
    "               'orig_bytes',\n",
    "               'resp_bytes',\n",
    "               'conn_state',\n",
    "               'local_orig',\n",
    "               'local_resp',\n",
    "               'missed_bytes',\n",
    "               'history',\n",
    "               'orig_pkts',\n",
    "               'orig_ip_bytes',\n",
    "               'resp_pkts',\n",
    "               'resp_ip_bytes',\n",
    "               'label']\n",
    "df8.drop(df8.tail(1).index, inplace=True)\n",
    "df35 = pd.read_table(filepath_or_buffer=capture_35, skiprows=10, nrows=60000)\n",
    "df35.columns = ['ts',\n",
    "                'uid',\n",
    "                'id.orig_h',\n",
    "                'id.orig_p',\n",
    "                'id.resp_h',\n",
    "                'id.resp_p',\n",
    "                'proto',\n",
    "                'service',\n",
    "                'duration',\n",
    "                'orig_bytes',\n",
    "                'resp_bytes',\n",
    "                'conn_state',\n",
    "                'local_orig',\n",
    "                'local_resp',\n",
    "                'missed_bytes',\n",
    "                'history',\n",
    "                'orig_pkts',\n",
    "                'orig_ip_bytes',\n",
    "                'resp_pkts',\n",
    "                'resp_ip_bytes',\n",
    "                'label']\n",
    "df35.drop(df35.tail(1).index, inplace=True)\n",
    "df48 = pd.read_table(filepath_or_buffer=capture_48, skiprows=10, nrows=5000)\n",
    "df48.columns = ['ts',\n",
    "                'uid',\n",
    "                'id.orig_h',\n",
    "                'id.orig_p',\n",
    "                'id.resp_h',\n",
    "                'id.resp_p',\n",
    "                'proto',\n",
    "                'service',\n",
    "                'duration',\n",
    "                'orig_bytes',\n",
    "                'resp_bytes',\n",
    "                'conn_state',\n",
    "                'local_orig',\n",
    "                'local_resp',\n",
    "                'missed_bytes',\n",
    "                'history',\n",
    "                'orig_pkts',\n",
    "                'orig_ip_bytes',\n",
    "                'resp_pkts',\n",
    "                'resp_ip_bytes',\n",
    "                'label']\n",
    "df48.drop(df48.tail(1).index, inplace=True)\n",
    "df39 = pd.read_table(filepath_or_buffer=capture_39, skiprows=10, nrows=6000)\n",
    "df39.columns = ['ts',\n",
    "                'uid',\n",
    "                'id.orig_h',\n",
    "                'id.orig_p',\n",
    "                'id.resp_h',\n",
    "                'id.resp_p',\n",
    "                'proto',\n",
    "                'service',\n",
    "                'duration',\n",
    "                'orig_bytes',\n",
    "                'resp_bytes',\n",
    "                'conn_state',\n",
    "                'local_orig',\n",
    "                'local_resp',\n",
    "                'missed_bytes',\n",
    "                'history',\n",
    "                'orig_pkts',\n",
    "                'orig_ip_bytes',\n",
    "                'resp_pkts',\n",
    "                'resp_ip_bytes',\n",
    "                'label']\n",
    "df39.drop(df39.tail(1).index, inplace=True)\n",
    "df7 = pd.read_table(filepath_or_buffer=capture_7, skiprows=10, nrows=9000)\n",
    "df7.columns = ['ts',\n",
    "               'uid',\n",
    "               'id.orig_h',\n",
    "               'id.orig_p',\n",
    "               'id.resp_h',\n",
    "               'id.resp_p',\n",
    "               'proto',\n",
    "               'service',\n",
    "               'duration',\n",
    "               'orig_bytes',\n",
    "               'resp_bytes',\n",
    "               'conn_state',\n",
    "               'local_orig',\n",
    "               'local_resp',\n",
    "               'missed_bytes',\n",
    "               'history',\n",
    "               'orig_pkts',\n",
    "               'orig_ip_bytes',\n",
    "               'resp_pkts',\n",
    "               'resp_ip_bytes',\n",
    "               'label']\n",
    "df7.drop(df7.tail(1).index, inplace=True)\n",
    "df9 = pd.read_table(filepath_or_buffer=capture_9, skiprows=10, nrows=1900)\n",
    "df9.columns = ['ts',\n",
    "               'uid',\n",
    "               'id.orig_h',\n",
    "               'id.orig_p',\n",
    "               'id.resp_h',\n",
    "               'id.resp_p',\n",
    "               'proto',\n",
    "               'service',\n",
    "               'duration',\n",
    "               'orig_bytes',\n",
    "               'resp_bytes',\n",
    "               'conn_state',\n",
    "               'local_orig',\n",
    "               'local_resp',\n",
    "               'missed_bytes',\n",
    "               'history',\n",
    "               'orig_pkts',\n",
    "               'orig_ip_bytes',\n",
    "               'resp_pkts',\n",
    "               'resp_ip_bytes',\n",
    "               'label']\n",
    "df9.drop(df9.tail(1).index, inplace=True)\n",
    "df3 = pd.read_table(filepath_or_buffer=capture_3, skiprows=10, nrows=1000)\n",
    "df3.columns = ['ts',\n",
    "               'uid',\n",
    "               'id.orig_h',\n",
    "               'id.orig_p',\n",
    "               'id.resp_h',\n",
    "               'id.resp_p',\n",
    "               'proto',\n",
    "               'service',\n",
    "               'duration',\n",
    "               'orig_bytes',\n",
    "               'resp_bytes',\n",
    "               'conn_state',\n",
    "               'local_orig',\n",
    "               'local_resp',\n",
    "               'missed_bytes',\n",
    "               'history',\n",
    "               'orig_pkts',\n",
    "               'orig_ip_bytes',\n",
    "               'resp_pkts',\n",
    "               'resp_ip_bytes',\n",
    "               'label']\n",
    "df3.drop(df3.tail(1).index, inplace=True)\n",
    "df1 = pd.read_table(filepath_or_buffer=capture_1, skiprows=10, nrows=1900)\n",
    "df1.columns = ['ts',\n",
    "               'uid',\n",
    "               'id.orig_h',\n",
    "               'id.orig_p',\n",
    "               'id.resp_h',\n",
    "               'id.resp_p',\n",
    "               'proto',\n",
    "               'service',\n",
    "               'duration',\n",
    "               'orig_bytes',\n",
    "               'resp_bytes',\n",
    "               'conn_state',\n",
    "               'local_orig',\n",
    "               'local_resp',\n",
    "               'missed_bytes',\n",
    "               'history',\n",
    "               'orig_pkts',\n",
    "               'orig_ip_bytes',\n",
    "               'resp_pkts',\n",
    "               'resp_ip_bytes',\n",
    "               'label']\n",
    "df1.drop(df1.tail(1).index, inplace=True)\n",
    "# frames = [df1, df17, df20, df21, df3, df33, df34, df35, df36, df39, df42, df43, df44, df48, df49, df52, df60, df7, df8,\n",
    "#           df9]\n",
    "frames = [df1[-6000:-1], df17[-6000:-1], df20[-6000:-1], df21[-6000:-1], df3[-6000:-1], df33[-6000:-1], df34[-6000:-1], df35[-6000:-1], df36[-6000:-1], df39[-6000:-1], df42[-6000:-1], df43[-6000:-1], df44[-6000:-1], df48[-6000:-1], df49[-6000:-1], df52[-6000:-1], df60[-6000:-1], df7[-6000:-1], df8[-6000:-1],\n",
    "          df9[-6000:-1]]\n",
    "df_c_normal = pd.concat(frames)\n",
    "df_c_normal\n",
    "#['ts','uid','id.orig_h','id.orig_p','id.resp_h','id.resp_p','service','local_orig','local_resp','history']"
   ],
   "metadata": {
    "collapsed": false,
    "pycharm": {
     "name": "#%%\n"
    }
   }
  },
  {
   "cell_type": "code",
   "execution_count": 31,
   "outputs": [
    {
     "name": "stdout",
     "output_type": "stream",
     "text": [
      "S0        68169\n",
      "SF         7309\n",
      "OTH        6089\n",
      "S3         1118\n",
      "RSTR        156\n",
      "REJ          67\n",
      "SH            4\n",
      "S1            3\n",
      "RSTO          2\n",
      "RSTOS0        1\n",
      "S2            1\n",
      "Name: conn_state, dtype: int64\n",
      "-    82919\n",
      "Name: local_orig, dtype: int64\n",
      "-    82919\n",
      "Name: local_resp, dtype: int64\n",
      "S               63585\n",
      "Dd               7197\n",
      "C                5996\n",
      "D                4583\n",
      "ShAdDaf          1013\n",
      "ShAdfDr           147\n",
      "ShAdDaft          103\n",
      "-                  81\n",
      "Sr                 67\n",
      "ShADadttfF         23\n",
      "ShADadFf           23\n",
      "ShADadtfF           9\n",
      "ShADadtFf           7\n",
      "ShADadttFf          6\n",
      "ShAfdtDr            6\n",
      "ShADdafF            5\n",
      "F                   4\n",
      "DdA                 4\n",
      "ShAdDaFf            4\n",
      "ShADacfF            3\n",
      "ShADacdtfF          3\n",
      "ShADadtctfF         3\n",
      "ShADadfF            3\n",
      "ShADadttcfF         3\n",
      "^c                  3\n",
      "ShADadtcfF          3\n",
      "Aa                  2\n",
      "ShADdfrFr           2\n",
      "ShADadRf            1\n",
      "SAD                 1\n",
      "ShADacdFf           1\n",
      "ShADadttFRfR        1\n",
      "ShADadf             1\n",
      "ShADda              1\n",
      "ShADadfR            1\n",
      "DdAa                1\n",
      "ShADdaf             1\n",
      "DaFfA               1\n",
      "DdAaFf              1\n",
      "ShADacdtttfF        1\n",
      "ShADafdtF           1\n",
      "ShADCaGdfF          1\n",
      "R                   1\n",
      "^d                  1\n",
      "D^d                 1\n",
      "ShADaCGdtfF         1\n",
      "ShADaCGr            1\n",
      "ShADCaGcgd          1\n",
      "^dDA                1\n",
      "ShADaCGcgdF         1\n",
      "ShADadFRfR          1\n",
      "ShADadfrr           1\n",
      "DdAtaFf             1\n",
      "ShADadtctfFR        1\n",
      "ShwAadDfr           1\n",
      "ShADacdftF          1\n",
      "ShADadtfFr          1\n",
      "ShADadtTfFr         1\n",
      "ShADa               1\n",
      "Name: history, dtype: int64\n"
     ]
    },
    {
     "data": {
      "text/plain": "Benign    20388\nName: detailed-label, dtype: int64"
     },
     "execution_count": 31,
     "metadata": {},
     "output_type": "execute_result"
    }
   ],
   "source": [
    "\n",
    "print(df_c_normal['conn_state'].value_counts())\n",
    "print(df_c_normal['local_orig'].value_counts())\n",
    "print(df_c_normal['local_resp'].value_counts())\n",
    "print(df_c_normal['history'].value_counts())\n",
    "\n",
    "df_c_normal.loc[(df_c_normal.label == '-   Benign   -'), 'label'] = 'Benign'\n",
    "df_c_normal.loc[(df_c_normal.label == '(empty)   Benign   -'), 'label'] = 'Benign'\n",
    "\n",
    "df_c_normal.loc[(df_c_normal.label == 'Benign'), 'detailed-label'] = 'Benign'\n",
    "\n",
    "df_c_normal['detailed-label'].value_counts()"
   ],
   "metadata": {
    "collapsed": false,
    "pycharm": {
     "name": "#%%\n"
    }
   }
  },
  {
   "cell_type": "code",
   "execution_count": 17,
   "outputs": [
    {
     "ename": "KeyError",
     "evalue": "'category'",
     "output_type": "error",
     "traceback": [
      "\u001B[0;31m---------------------------------------------------------------------------\u001B[0m",
      "\u001B[0;31mKeyError\u001B[0m                                  Traceback (most recent call last)",
      "File \u001B[0;32m/media/wuguo-buaa/LENOVO_USB_HDD/PycharmProjects/Machine_learning_venv/lib/python3.8/site-packages/pandas/core/indexes/base.py:3361\u001B[0m, in \u001B[0;36mIndex.get_loc\u001B[0;34m(self, key, method, tolerance)\u001B[0m\n\u001B[1;32m   3360\u001B[0m \u001B[38;5;28;01mtry\u001B[39;00m:\n\u001B[0;32m-> 3361\u001B[0m     \u001B[38;5;28;01mreturn\u001B[39;00m \u001B[38;5;28;43mself\u001B[39;49m\u001B[38;5;241;43m.\u001B[39;49m\u001B[43m_engine\u001B[49m\u001B[38;5;241;43m.\u001B[39;49m\u001B[43mget_loc\u001B[49m\u001B[43m(\u001B[49m\u001B[43mcasted_key\u001B[49m\u001B[43m)\u001B[49m\n\u001B[1;32m   3362\u001B[0m \u001B[38;5;28;01mexcept\u001B[39;00m \u001B[38;5;167;01mKeyError\u001B[39;00m \u001B[38;5;28;01mas\u001B[39;00m err:\n",
      "File \u001B[0;32m/media/wuguo-buaa/LENOVO_USB_HDD/PycharmProjects/Machine_learning_venv/lib/python3.8/site-packages/pandas/_libs/index.pyx:76\u001B[0m, in \u001B[0;36mpandas._libs.index.IndexEngine.get_loc\u001B[0;34m()\u001B[0m\n",
      "File \u001B[0;32m/media/wuguo-buaa/LENOVO_USB_HDD/PycharmProjects/Machine_learning_venv/lib/python3.8/site-packages/pandas/_libs/index.pyx:108\u001B[0m, in \u001B[0;36mpandas._libs.index.IndexEngine.get_loc\u001B[0;34m()\u001B[0m\n",
      "File \u001B[0;32mpandas/_libs/hashtable_class_helper.pxi:5198\u001B[0m, in \u001B[0;36mpandas._libs.hashtable.PyObjectHashTable.get_item\u001B[0;34m()\u001B[0m\n",
      "File \u001B[0;32mpandas/_libs/hashtable_class_helper.pxi:5206\u001B[0m, in \u001B[0;36mpandas._libs.hashtable.PyObjectHashTable.get_item\u001B[0;34m()\u001B[0m\n",
      "\u001B[0;31mKeyError\u001B[0m: 'category'",
      "\nThe above exception was the direct cause of the following exception:\n",
      "\u001B[0;31mKeyError\u001B[0m                                  Traceback (most recent call last)",
      "Input \u001B[0;32mIn [17]\u001B[0m, in \u001B[0;36m<cell line: 1>\u001B[0;34m()\u001B[0m\n\u001B[0;32m----> 1\u001B[0m \u001B[38;5;28mprint\u001B[39m(\u001B[43mdf_c_normal\u001B[49m\u001B[43m[\u001B[49m\u001B[38;5;124;43m'\u001B[39;49m\u001B[38;5;124;43mcategory\u001B[39;49m\u001B[38;5;124;43m'\u001B[39;49m\u001B[43m]\u001B[49m\u001B[38;5;241m.\u001B[39mvalue_counts())\n\u001B[1;32m      2\u001B[0m df_c_normal\n",
      "File \u001B[0;32m/media/wuguo-buaa/LENOVO_USB_HDD/PycharmProjects/Machine_learning_venv/lib/python3.8/site-packages/pandas/core/frame.py:3458\u001B[0m, in \u001B[0;36mDataFrame.__getitem__\u001B[0;34m(self, key)\u001B[0m\n\u001B[1;32m   3456\u001B[0m \u001B[38;5;28;01mif\u001B[39;00m \u001B[38;5;28mself\u001B[39m\u001B[38;5;241m.\u001B[39mcolumns\u001B[38;5;241m.\u001B[39mnlevels \u001B[38;5;241m>\u001B[39m \u001B[38;5;241m1\u001B[39m:\n\u001B[1;32m   3457\u001B[0m     \u001B[38;5;28;01mreturn\u001B[39;00m \u001B[38;5;28mself\u001B[39m\u001B[38;5;241m.\u001B[39m_getitem_multilevel(key)\n\u001B[0;32m-> 3458\u001B[0m indexer \u001B[38;5;241m=\u001B[39m \u001B[38;5;28;43mself\u001B[39;49m\u001B[38;5;241;43m.\u001B[39;49m\u001B[43mcolumns\u001B[49m\u001B[38;5;241;43m.\u001B[39;49m\u001B[43mget_loc\u001B[49m\u001B[43m(\u001B[49m\u001B[43mkey\u001B[49m\u001B[43m)\u001B[49m\n\u001B[1;32m   3459\u001B[0m \u001B[38;5;28;01mif\u001B[39;00m is_integer(indexer):\n\u001B[1;32m   3460\u001B[0m     indexer \u001B[38;5;241m=\u001B[39m [indexer]\n",
      "File \u001B[0;32m/media/wuguo-buaa/LENOVO_USB_HDD/PycharmProjects/Machine_learning_venv/lib/python3.8/site-packages/pandas/core/indexes/base.py:3363\u001B[0m, in \u001B[0;36mIndex.get_loc\u001B[0;34m(self, key, method, tolerance)\u001B[0m\n\u001B[1;32m   3361\u001B[0m         \u001B[38;5;28;01mreturn\u001B[39;00m \u001B[38;5;28mself\u001B[39m\u001B[38;5;241m.\u001B[39m_engine\u001B[38;5;241m.\u001B[39mget_loc(casted_key)\n\u001B[1;32m   3362\u001B[0m     \u001B[38;5;28;01mexcept\u001B[39;00m \u001B[38;5;167;01mKeyError\u001B[39;00m \u001B[38;5;28;01mas\u001B[39;00m err:\n\u001B[0;32m-> 3363\u001B[0m         \u001B[38;5;28;01mraise\u001B[39;00m \u001B[38;5;167;01mKeyError\u001B[39;00m(key) \u001B[38;5;28;01mfrom\u001B[39;00m \u001B[38;5;21;01merr\u001B[39;00m\n\u001B[1;32m   3365\u001B[0m \u001B[38;5;28;01mif\u001B[39;00m is_scalar(key) \u001B[38;5;129;01mand\u001B[39;00m isna(key) \u001B[38;5;129;01mand\u001B[39;00m \u001B[38;5;129;01mnot\u001B[39;00m \u001B[38;5;28mself\u001B[39m\u001B[38;5;241m.\u001B[39mhasnans:\n\u001B[1;32m   3366\u001B[0m     \u001B[38;5;28;01mraise\u001B[39;00m \u001B[38;5;167;01mKeyError\u001B[39;00m(key)\n",
      "\u001B[0;31mKeyError\u001B[0m: 'category'"
     ]
    }
   ],
   "source": [
    "print(df_c_normal['category'].value_counts())\n",
    "df_c_normal"
   ],
   "metadata": {
    "collapsed": false,
    "pycharm": {
     "name": "#%%\n"
    }
   }
  },
  {
   "cell_type": "code",
   "execution_count": 32,
   "outputs": [
    {
     "data": {
      "text/plain": "     proto service  duration orig_bytes resp_bytes conn_state  missed_bytes  \\\n0      tcp       -  2.998796          0          0         S0           0.0   \n1      tcp       -         -          -          -         S0           0.0   \n2      tcp       -         -          -          -         S0           0.0   \n3      tcp       -  2.998804          0          0         S0           0.0   \n4      tcp       -         -          -          -         S0           0.0   \n...    ...     ...       ...        ...        ...        ...           ...   \n1893   tcp       -         -          -          -         S0           0.0   \n1894   tcp       -         -          -          -         S0           0.0   \n1895   tcp       -         -          -          -         S0           0.0   \n1896   tcp       -         -          -          -         S0           0.0   \n1897   tcp       -         -          -          -         S0           0.0   \n\n      orig_pkts  orig_ip_bytes  resp_pkts  resp_ip_bytes  \\\n0           3.0          180.0        0.0            0.0   \n1           1.0           60.0        0.0            0.0   \n2           1.0           60.0        0.0            0.0   \n3           3.0          180.0        0.0            0.0   \n4           1.0           60.0        0.0            0.0   \n...         ...            ...        ...            ...   \n1893        1.0           40.0        0.0            0.0   \n1894        1.0           40.0        0.0            0.0   \n1895        1.0           40.0        0.0            0.0   \n1896        1.0           40.0        0.0            0.0   \n1897        1.0           40.0        0.0            0.0   \n\n                                                label detailed-label  \n0     (empty)   Malicious   PartOfAHorizontalPortScan            NaN  \n1     (empty)   Malicious   PartOfAHorizontalPortScan            NaN  \n2     (empty)   Malicious   PartOfAHorizontalPortScan            NaN  \n3                                              Benign         Benign  \n4                                              Benign         Benign  \n...                                               ...            ...  \n1893  (empty)   Malicious   PartOfAHorizontalPortScan            NaN  \n1894  (empty)   Malicious   PartOfAHorizontalPortScan            NaN  \n1895  (empty)   Malicious   PartOfAHorizontalPortScan            NaN  \n1896  (empty)   Malicious   PartOfAHorizontalPortScan            NaN  \n1897  (empty)   Malicious   PartOfAHorizontalPortScan            NaN  \n\n[82919 rows x 13 columns]",
      "text/html": "<div>\n<style scoped>\n    .dataframe tbody tr th:only-of-type {\n        vertical-align: middle;\n    }\n\n    .dataframe tbody tr th {\n        vertical-align: top;\n    }\n\n    .dataframe thead th {\n        text-align: right;\n    }\n</style>\n<table border=\"1\" class=\"dataframe\">\n  <thead>\n    <tr style=\"text-align: right;\">\n      <th></th>\n      <th>proto</th>\n      <th>service</th>\n      <th>duration</th>\n      <th>orig_bytes</th>\n      <th>resp_bytes</th>\n      <th>conn_state</th>\n      <th>missed_bytes</th>\n      <th>orig_pkts</th>\n      <th>orig_ip_bytes</th>\n      <th>resp_pkts</th>\n      <th>resp_ip_bytes</th>\n      <th>label</th>\n      <th>detailed-label</th>\n    </tr>\n  </thead>\n  <tbody>\n    <tr>\n      <th>0</th>\n      <td>tcp</td>\n      <td>-</td>\n      <td>2.998796</td>\n      <td>0</td>\n      <td>0</td>\n      <td>S0</td>\n      <td>0.0</td>\n      <td>3.0</td>\n      <td>180.0</td>\n      <td>0.0</td>\n      <td>0.0</td>\n      <td>(empty)   Malicious   PartOfAHorizontalPortScan</td>\n      <td>NaN</td>\n    </tr>\n    <tr>\n      <th>1</th>\n      <td>tcp</td>\n      <td>-</td>\n      <td>-</td>\n      <td>-</td>\n      <td>-</td>\n      <td>S0</td>\n      <td>0.0</td>\n      <td>1.0</td>\n      <td>60.0</td>\n      <td>0.0</td>\n      <td>0.0</td>\n      <td>(empty)   Malicious   PartOfAHorizontalPortScan</td>\n      <td>NaN</td>\n    </tr>\n    <tr>\n      <th>2</th>\n      <td>tcp</td>\n      <td>-</td>\n      <td>-</td>\n      <td>-</td>\n      <td>-</td>\n      <td>S0</td>\n      <td>0.0</td>\n      <td>1.0</td>\n      <td>60.0</td>\n      <td>0.0</td>\n      <td>0.0</td>\n      <td>(empty)   Malicious   PartOfAHorizontalPortScan</td>\n      <td>NaN</td>\n    </tr>\n    <tr>\n      <th>3</th>\n      <td>tcp</td>\n      <td>-</td>\n      <td>2.998804</td>\n      <td>0</td>\n      <td>0</td>\n      <td>S0</td>\n      <td>0.0</td>\n      <td>3.0</td>\n      <td>180.0</td>\n      <td>0.0</td>\n      <td>0.0</td>\n      <td>Benign</td>\n      <td>Benign</td>\n    </tr>\n    <tr>\n      <th>4</th>\n      <td>tcp</td>\n      <td>-</td>\n      <td>-</td>\n      <td>-</td>\n      <td>-</td>\n      <td>S0</td>\n      <td>0.0</td>\n      <td>1.0</td>\n      <td>60.0</td>\n      <td>0.0</td>\n      <td>0.0</td>\n      <td>Benign</td>\n      <td>Benign</td>\n    </tr>\n    <tr>\n      <th>...</th>\n      <td>...</td>\n      <td>...</td>\n      <td>...</td>\n      <td>...</td>\n      <td>...</td>\n      <td>...</td>\n      <td>...</td>\n      <td>...</td>\n      <td>...</td>\n      <td>...</td>\n      <td>...</td>\n      <td>...</td>\n      <td>...</td>\n    </tr>\n    <tr>\n      <th>1893</th>\n      <td>tcp</td>\n      <td>-</td>\n      <td>-</td>\n      <td>-</td>\n      <td>-</td>\n      <td>S0</td>\n      <td>0.0</td>\n      <td>1.0</td>\n      <td>40.0</td>\n      <td>0.0</td>\n      <td>0.0</td>\n      <td>(empty)   Malicious   PartOfAHorizontalPortScan</td>\n      <td>NaN</td>\n    </tr>\n    <tr>\n      <th>1894</th>\n      <td>tcp</td>\n      <td>-</td>\n      <td>-</td>\n      <td>-</td>\n      <td>-</td>\n      <td>S0</td>\n      <td>0.0</td>\n      <td>1.0</td>\n      <td>40.0</td>\n      <td>0.0</td>\n      <td>0.0</td>\n      <td>(empty)   Malicious   PartOfAHorizontalPortScan</td>\n      <td>NaN</td>\n    </tr>\n    <tr>\n      <th>1895</th>\n      <td>tcp</td>\n      <td>-</td>\n      <td>-</td>\n      <td>-</td>\n      <td>-</td>\n      <td>S0</td>\n      <td>0.0</td>\n      <td>1.0</td>\n      <td>40.0</td>\n      <td>0.0</td>\n      <td>0.0</td>\n      <td>(empty)   Malicious   PartOfAHorizontalPortScan</td>\n      <td>NaN</td>\n    </tr>\n    <tr>\n      <th>1896</th>\n      <td>tcp</td>\n      <td>-</td>\n      <td>-</td>\n      <td>-</td>\n      <td>-</td>\n      <td>S0</td>\n      <td>0.0</td>\n      <td>1.0</td>\n      <td>40.0</td>\n      <td>0.0</td>\n      <td>0.0</td>\n      <td>(empty)   Malicious   PartOfAHorizontalPortScan</td>\n      <td>NaN</td>\n    </tr>\n    <tr>\n      <th>1897</th>\n      <td>tcp</td>\n      <td>-</td>\n      <td>-</td>\n      <td>-</td>\n      <td>-</td>\n      <td>S0</td>\n      <td>0.0</td>\n      <td>1.0</td>\n      <td>40.0</td>\n      <td>0.0</td>\n      <td>0.0</td>\n      <td>(empty)   Malicious   PartOfAHorizontalPortScan</td>\n      <td>NaN</td>\n    </tr>\n  </tbody>\n</table>\n<p>82919 rows × 13 columns</p>\n</div>"
     },
     "execution_count": 32,
     "metadata": {},
     "output_type": "execute_result"
    }
   ],
   "source": [
    "pd.options.display.max_rows = 300\n",
    "pd.options.display.max_columns = 300\n",
    "df_c_normal = df_c_normal.drop(columns=['ts', 'uid', 'id.orig_h', 'id.orig_p', 'id.resp_h', 'id.resp_p',\n",
    "                          'local_orig', 'local_resp', 'history'])\n",
    "df_c_normal"
   ],
   "metadata": {
    "collapsed": false,
    "pycharm": {
     "name": "#%%\n"
    }
   }
  },
  {
   "cell_type": "code",
   "execution_count": 33,
   "outputs": [],
   "source": [
    "df_c_normal = df_c_normal[df_c_normal['label']=='Benign']"
   ],
   "metadata": {
    "collapsed": false,
    "pycharm": {
     "name": "#%%\n"
    }
   }
  },
  {
   "cell_type": "code",
   "execution_count": 34,
   "outputs": [
    {
     "data": {
      "text/plain": "     proto service   duration orig_bytes resp_bytes conn_state  missed_bytes  \\\n3      tcp       -   2.998804          0          0         S0           0.0   \n4      tcp       -          -          -          -         S0           0.0   \n14     tcp       -          -          -          -         S0           0.0   \n27     tcp       -          -          -          -         S0           0.0   \n44     tcp       -   2.998560          0          0         S0           0.0   \n...    ...     ...        ...        ...        ...        ...           ...   \n610    udp       -  17.085302        212        285         SF           0.0   \n611    udp       -          -          -          -         S0           0.0   \n740    udp       -   3.652672        183        800         SF           0.0   \n1253   udp       -  27.987099        206          0         S0           0.0   \n1254   udp       -   0.007230         48         48         SF           0.0   \n\n      orig_pkts  orig_ip_bytes  resp_pkts  resp_ip_bytes   label  \\\n3           3.0          180.0        0.0            0.0  Benign   \n4           1.0           60.0        0.0            0.0  Benign   \n14          1.0           60.0        0.0            0.0  Benign   \n27          1.0           60.0        0.0            0.0  Benign   \n44          3.0          180.0        0.0            0.0  Benign   \n...         ...            ...        ...            ...     ...   \n610         2.0          268.0        1.0          313.0  Benign   \n611         1.0          134.0        0.0            0.0  Benign   \n740         5.0          323.0        6.0          968.0  Benign   \n1253        2.0          262.0        0.0            0.0  Benign   \n1254        1.0           76.0        1.0           76.0  Benign   \n\n     detailed-label  \n3            Benign  \n4            Benign  \n14           Benign  \n27           Benign  \n44           Benign  \n...             ...  \n610          Benign  \n611          Benign  \n740          Benign  \n1253         Benign  \n1254         Benign  \n\n[20388 rows x 13 columns]",
      "text/html": "<div>\n<style scoped>\n    .dataframe tbody tr th:only-of-type {\n        vertical-align: middle;\n    }\n\n    .dataframe tbody tr th {\n        vertical-align: top;\n    }\n\n    .dataframe thead th {\n        text-align: right;\n    }\n</style>\n<table border=\"1\" class=\"dataframe\">\n  <thead>\n    <tr style=\"text-align: right;\">\n      <th></th>\n      <th>proto</th>\n      <th>service</th>\n      <th>duration</th>\n      <th>orig_bytes</th>\n      <th>resp_bytes</th>\n      <th>conn_state</th>\n      <th>missed_bytes</th>\n      <th>orig_pkts</th>\n      <th>orig_ip_bytes</th>\n      <th>resp_pkts</th>\n      <th>resp_ip_bytes</th>\n      <th>label</th>\n      <th>detailed-label</th>\n    </tr>\n  </thead>\n  <tbody>\n    <tr>\n      <th>3</th>\n      <td>tcp</td>\n      <td>-</td>\n      <td>2.998804</td>\n      <td>0</td>\n      <td>0</td>\n      <td>S0</td>\n      <td>0.0</td>\n      <td>3.0</td>\n      <td>180.0</td>\n      <td>0.0</td>\n      <td>0.0</td>\n      <td>Benign</td>\n      <td>Benign</td>\n    </tr>\n    <tr>\n      <th>4</th>\n      <td>tcp</td>\n      <td>-</td>\n      <td>-</td>\n      <td>-</td>\n      <td>-</td>\n      <td>S0</td>\n      <td>0.0</td>\n      <td>1.0</td>\n      <td>60.0</td>\n      <td>0.0</td>\n      <td>0.0</td>\n      <td>Benign</td>\n      <td>Benign</td>\n    </tr>\n    <tr>\n      <th>14</th>\n      <td>tcp</td>\n      <td>-</td>\n      <td>-</td>\n      <td>-</td>\n      <td>-</td>\n      <td>S0</td>\n      <td>0.0</td>\n      <td>1.0</td>\n      <td>60.0</td>\n      <td>0.0</td>\n      <td>0.0</td>\n      <td>Benign</td>\n      <td>Benign</td>\n    </tr>\n    <tr>\n      <th>27</th>\n      <td>tcp</td>\n      <td>-</td>\n      <td>-</td>\n      <td>-</td>\n      <td>-</td>\n      <td>S0</td>\n      <td>0.0</td>\n      <td>1.0</td>\n      <td>60.0</td>\n      <td>0.0</td>\n      <td>0.0</td>\n      <td>Benign</td>\n      <td>Benign</td>\n    </tr>\n    <tr>\n      <th>44</th>\n      <td>tcp</td>\n      <td>-</td>\n      <td>2.998560</td>\n      <td>0</td>\n      <td>0</td>\n      <td>S0</td>\n      <td>0.0</td>\n      <td>3.0</td>\n      <td>180.0</td>\n      <td>0.0</td>\n      <td>0.0</td>\n      <td>Benign</td>\n      <td>Benign</td>\n    </tr>\n    <tr>\n      <th>...</th>\n      <td>...</td>\n      <td>...</td>\n      <td>...</td>\n      <td>...</td>\n      <td>...</td>\n      <td>...</td>\n      <td>...</td>\n      <td>...</td>\n      <td>...</td>\n      <td>...</td>\n      <td>...</td>\n      <td>...</td>\n      <td>...</td>\n    </tr>\n    <tr>\n      <th>610</th>\n      <td>udp</td>\n      <td>-</td>\n      <td>17.085302</td>\n      <td>212</td>\n      <td>285</td>\n      <td>SF</td>\n      <td>0.0</td>\n      <td>2.0</td>\n      <td>268.0</td>\n      <td>1.0</td>\n      <td>313.0</td>\n      <td>Benign</td>\n      <td>Benign</td>\n    </tr>\n    <tr>\n      <th>611</th>\n      <td>udp</td>\n      <td>-</td>\n      <td>-</td>\n      <td>-</td>\n      <td>-</td>\n      <td>S0</td>\n      <td>0.0</td>\n      <td>1.0</td>\n      <td>134.0</td>\n      <td>0.0</td>\n      <td>0.0</td>\n      <td>Benign</td>\n      <td>Benign</td>\n    </tr>\n    <tr>\n      <th>740</th>\n      <td>udp</td>\n      <td>-</td>\n      <td>3.652672</td>\n      <td>183</td>\n      <td>800</td>\n      <td>SF</td>\n      <td>0.0</td>\n      <td>5.0</td>\n      <td>323.0</td>\n      <td>6.0</td>\n      <td>968.0</td>\n      <td>Benign</td>\n      <td>Benign</td>\n    </tr>\n    <tr>\n      <th>1253</th>\n      <td>udp</td>\n      <td>-</td>\n      <td>27.987099</td>\n      <td>206</td>\n      <td>0</td>\n      <td>S0</td>\n      <td>0.0</td>\n      <td>2.0</td>\n      <td>262.0</td>\n      <td>0.0</td>\n      <td>0.0</td>\n      <td>Benign</td>\n      <td>Benign</td>\n    </tr>\n    <tr>\n      <th>1254</th>\n      <td>udp</td>\n      <td>-</td>\n      <td>0.007230</td>\n      <td>48</td>\n      <td>48</td>\n      <td>SF</td>\n      <td>0.0</td>\n      <td>1.0</td>\n      <td>76.0</td>\n      <td>1.0</td>\n      <td>76.0</td>\n      <td>Benign</td>\n      <td>Benign</td>\n    </tr>\n  </tbody>\n</table>\n<p>20388 rows × 13 columns</p>\n</div>"
     },
     "execution_count": 34,
     "metadata": {},
     "output_type": "execute_result"
    }
   ],
   "source": [
    "df_c_normal"
   ],
   "metadata": {
    "collapsed": false,
    "pycharm": {
     "name": "#%%\n"
    }
   }
  },
  {
   "cell_type": "code",
   "execution_count": 35,
   "outputs": [
    {
     "data": {
      "text/plain": "     service   duration orig_bytes resp_bytes conn_state  missed_bytes  \\\n3          -   2.998804          0          0         S0           0.0   \n4          -          -          -          -         S0           0.0   \n14         -          -          -          -         S0           0.0   \n27         -          -          -          -         S0           0.0   \n44         -   2.998560          0          0         S0           0.0   \n...      ...        ...        ...        ...        ...           ...   \n610        -  17.085302        212        285         SF           0.0   \n611        -          -          -          -         S0           0.0   \n740        -   3.652672        183        800         SF           0.0   \n1253       -  27.987099        206          0         S0           0.0   \n1254       -   0.007230         48         48         SF           0.0   \n\n      orig_pkts  orig_ip_bytes  resp_pkts  resp_ip_bytes   label  \\\n3           3.0          180.0        0.0            0.0  Benign   \n4           1.0           60.0        0.0            0.0  Benign   \n14          1.0           60.0        0.0            0.0  Benign   \n27          1.0           60.0        0.0            0.0  Benign   \n44          3.0          180.0        0.0            0.0  Benign   \n...         ...            ...        ...            ...     ...   \n610         2.0          268.0        1.0          313.0  Benign   \n611         1.0          134.0        0.0            0.0  Benign   \n740         5.0          323.0        6.0          968.0  Benign   \n1253        2.0          262.0        0.0            0.0  Benign   \n1254        1.0           76.0        1.0           76.0  Benign   \n\n     detailed-label  proto_icmp  proto_tcp  proto_udp  \n3            Benign           0          1          0  \n4            Benign           0          1          0  \n14           Benign           0          1          0  \n27           Benign           0          1          0  \n44           Benign           0          1          0  \n...             ...         ...        ...        ...  \n610          Benign           0          0          1  \n611          Benign           0          0          1  \n740          Benign           0          0          1  \n1253         Benign           0          0          1  \n1254         Benign           0          0          1  \n\n[20388 rows x 15 columns]",
      "text/html": "<div>\n<style scoped>\n    .dataframe tbody tr th:only-of-type {\n        vertical-align: middle;\n    }\n\n    .dataframe tbody tr th {\n        vertical-align: top;\n    }\n\n    .dataframe thead th {\n        text-align: right;\n    }\n</style>\n<table border=\"1\" class=\"dataframe\">\n  <thead>\n    <tr style=\"text-align: right;\">\n      <th></th>\n      <th>service</th>\n      <th>duration</th>\n      <th>orig_bytes</th>\n      <th>resp_bytes</th>\n      <th>conn_state</th>\n      <th>missed_bytes</th>\n      <th>orig_pkts</th>\n      <th>orig_ip_bytes</th>\n      <th>resp_pkts</th>\n      <th>resp_ip_bytes</th>\n      <th>label</th>\n      <th>detailed-label</th>\n      <th>proto_icmp</th>\n      <th>proto_tcp</th>\n      <th>proto_udp</th>\n    </tr>\n  </thead>\n  <tbody>\n    <tr>\n      <th>3</th>\n      <td>-</td>\n      <td>2.998804</td>\n      <td>0</td>\n      <td>0</td>\n      <td>S0</td>\n      <td>0.0</td>\n      <td>3.0</td>\n      <td>180.0</td>\n      <td>0.0</td>\n      <td>0.0</td>\n      <td>Benign</td>\n      <td>Benign</td>\n      <td>0</td>\n      <td>1</td>\n      <td>0</td>\n    </tr>\n    <tr>\n      <th>4</th>\n      <td>-</td>\n      <td>-</td>\n      <td>-</td>\n      <td>-</td>\n      <td>S0</td>\n      <td>0.0</td>\n      <td>1.0</td>\n      <td>60.0</td>\n      <td>0.0</td>\n      <td>0.0</td>\n      <td>Benign</td>\n      <td>Benign</td>\n      <td>0</td>\n      <td>1</td>\n      <td>0</td>\n    </tr>\n    <tr>\n      <th>14</th>\n      <td>-</td>\n      <td>-</td>\n      <td>-</td>\n      <td>-</td>\n      <td>S0</td>\n      <td>0.0</td>\n      <td>1.0</td>\n      <td>60.0</td>\n      <td>0.0</td>\n      <td>0.0</td>\n      <td>Benign</td>\n      <td>Benign</td>\n      <td>0</td>\n      <td>1</td>\n      <td>0</td>\n    </tr>\n    <tr>\n      <th>27</th>\n      <td>-</td>\n      <td>-</td>\n      <td>-</td>\n      <td>-</td>\n      <td>S0</td>\n      <td>0.0</td>\n      <td>1.0</td>\n      <td>60.0</td>\n      <td>0.0</td>\n      <td>0.0</td>\n      <td>Benign</td>\n      <td>Benign</td>\n      <td>0</td>\n      <td>1</td>\n      <td>0</td>\n    </tr>\n    <tr>\n      <th>44</th>\n      <td>-</td>\n      <td>2.998560</td>\n      <td>0</td>\n      <td>0</td>\n      <td>S0</td>\n      <td>0.0</td>\n      <td>3.0</td>\n      <td>180.0</td>\n      <td>0.0</td>\n      <td>0.0</td>\n      <td>Benign</td>\n      <td>Benign</td>\n      <td>0</td>\n      <td>1</td>\n      <td>0</td>\n    </tr>\n    <tr>\n      <th>...</th>\n      <td>...</td>\n      <td>...</td>\n      <td>...</td>\n      <td>...</td>\n      <td>...</td>\n      <td>...</td>\n      <td>...</td>\n      <td>...</td>\n      <td>...</td>\n      <td>...</td>\n      <td>...</td>\n      <td>...</td>\n      <td>...</td>\n      <td>...</td>\n      <td>...</td>\n    </tr>\n    <tr>\n      <th>610</th>\n      <td>-</td>\n      <td>17.085302</td>\n      <td>212</td>\n      <td>285</td>\n      <td>SF</td>\n      <td>0.0</td>\n      <td>2.0</td>\n      <td>268.0</td>\n      <td>1.0</td>\n      <td>313.0</td>\n      <td>Benign</td>\n      <td>Benign</td>\n      <td>0</td>\n      <td>0</td>\n      <td>1</td>\n    </tr>\n    <tr>\n      <th>611</th>\n      <td>-</td>\n      <td>-</td>\n      <td>-</td>\n      <td>-</td>\n      <td>S0</td>\n      <td>0.0</td>\n      <td>1.0</td>\n      <td>134.0</td>\n      <td>0.0</td>\n      <td>0.0</td>\n      <td>Benign</td>\n      <td>Benign</td>\n      <td>0</td>\n      <td>0</td>\n      <td>1</td>\n    </tr>\n    <tr>\n      <th>740</th>\n      <td>-</td>\n      <td>3.652672</td>\n      <td>183</td>\n      <td>800</td>\n      <td>SF</td>\n      <td>0.0</td>\n      <td>5.0</td>\n      <td>323.0</td>\n      <td>6.0</td>\n      <td>968.0</td>\n      <td>Benign</td>\n      <td>Benign</td>\n      <td>0</td>\n      <td>0</td>\n      <td>1</td>\n    </tr>\n    <tr>\n      <th>1253</th>\n      <td>-</td>\n      <td>27.987099</td>\n      <td>206</td>\n      <td>0</td>\n      <td>S0</td>\n      <td>0.0</td>\n      <td>2.0</td>\n      <td>262.0</td>\n      <td>0.0</td>\n      <td>0.0</td>\n      <td>Benign</td>\n      <td>Benign</td>\n      <td>0</td>\n      <td>0</td>\n      <td>1</td>\n    </tr>\n    <tr>\n      <th>1254</th>\n      <td>-</td>\n      <td>0.007230</td>\n      <td>48</td>\n      <td>48</td>\n      <td>SF</td>\n      <td>0.0</td>\n      <td>1.0</td>\n      <td>76.0</td>\n      <td>1.0</td>\n      <td>76.0</td>\n      <td>Benign</td>\n      <td>Benign</td>\n      <td>0</td>\n      <td>0</td>\n      <td>1</td>\n    </tr>\n  </tbody>\n</table>\n<p>20388 rows × 15 columns</p>\n</div>"
     },
     "execution_count": 35,
     "metadata": {},
     "output_type": "execute_result"
    }
   ],
   "source": [
    "df_c_normal = pd.get_dummies(df_c_normal, columns=['proto'])\n",
    "# df_c_normal = pd.get_dummies(df_c_normal, columns=['conn_state'])\n",
    "# df_c_normal = pd.get_dummies(df_c_normal, columns=['service'])\n",
    "df_c_normal"
   ],
   "metadata": {
    "collapsed": false,
    "pycharm": {
     "name": "#%%\n"
    }
   }
  },
  {
   "cell_type": "code",
   "execution_count": 36,
   "outputs": [
    {
     "data": {
      "text/plain": "service           0\nduration          0\norig_bytes        0\nresp_bytes        0\nconn_state        0\nmissed_bytes      0\norig_pkts         0\norig_ip_bytes     0\nresp_pkts         0\nresp_ip_bytes     0\nlabel             0\ndetailed-label    0\nproto_icmp        0\nproto_tcp         0\nproto_udp         0\ndtype: int64"
     },
     "execution_count": 36,
     "metadata": {},
     "output_type": "execute_result"
    }
   ],
   "source": [
    "df_c_normal['duration'] = df_c_normal['duration'].str.replace('-', '0')\n",
    "df_c_normal['orig_bytes'] = df_c_normal['orig_bytes'].str.replace('-', '0')\n",
    "df_c_normal['resp_bytes'] = df_c_normal['resp_bytes'].str.replace('-', '0')\n",
    "df_c_normal.fillna(-1, inplace=True)\n",
    "df_c_normal.isna().sum()"
   ],
   "metadata": {
    "collapsed": false,
    "pycharm": {
     "name": "#%%\n"
    }
   }
  },
  {
   "cell_type": "code",
   "execution_count": 37,
   "outputs": [],
   "source": [
    "df_c_normal.to_csv('./Data/iot23_Benign_combined_test.csv')"
   ],
   "metadata": {
    "collapsed": false,
    "pycharm": {
     "name": "#%%\n"
    }
   }
  },
  {
   "cell_type": "code",
   "execution_count": 38,
   "outputs": [],
   "source": [
    "frame_combine = [df_c,df_c_normal]\n",
    "df_all = pd.concat(frame_combine)"
   ],
   "metadata": {
    "collapsed": false,
    "pycharm": {
     "name": "#%%\n"
    }
   }
  },
  {
   "cell_type": "code",
   "execution_count": 39,
   "outputs": [
    {
     "data": {
      "text/plain": "       duration orig_bytes resp_bytes  missed_bytes  orig_pkts  orig_ip_bytes  \\\n0            -1         -1         -1           0.0        6.0          360.0   \n1            -1         -1         -1           0.0        6.0          360.0   \n2            -1         -1         -1           0.0        6.0          360.0   \n3            -1         -1         -1           0.0        6.0          360.0   \n5398         -1         -1         -1           0.0       13.0         1273.0   \n...         ...        ...        ...           ...        ...            ...   \n610   17.085302        212        285           0.0        2.0          268.0   \n611           0          0          0           0.0        1.0          134.0   \n740    3.652672        183        800           0.0        5.0          323.0   \n1253  27.987099        206          0           0.0        2.0          262.0   \n1254   0.007230         48         48           0.0        1.0           76.0   \n\n      resp_pkts  resp_ip_bytes      label                    detailed-label  \\\n0           0.0            0.0  Malicious  PartOfAHorizontalPortScan-Attack   \n1           0.0            0.0  Malicious  PartOfAHorizontalPortScan-Attack   \n2           0.0            0.0  Malicious  PartOfAHorizontalPortScan-Attack   \n3           0.0            0.0  Malicious  PartOfAHorizontalPortScan-Attack   \n5398       16.0         1864.0  Malicious                            Attack   \n...         ...            ...        ...                               ...   \n610         1.0          313.0     Benign                            Benign   \n611         0.0            0.0     Benign                            Benign   \n740         6.0          968.0     Benign                            Benign   \n1253        0.0            0.0     Benign                            Benign   \n1254        1.0           76.0     Benign                            Benign   \n\n      proto_tcp  proto_udp  proto_icmp  service_-  service_dhcp  service_dns  \\\n0             1          0         NaN          1             0            0   \n1             1          0         NaN          1             0            0   \n2             1          0         NaN          1             0            0   \n3             1          0         NaN          1             0            0   \n5398          1          0         NaN          0             0            0   \n...         ...        ...         ...        ...           ...          ...   \n610           0          1         0.0          1             0            0   \n611           0          1         0.0          1             0            0   \n740           0          1         0.0          1             0            0   \n1253          0          1         0.0          1             0            0   \n1254          0          1         0.0          1             0            0   \n\n      service_http  service_irc  service_ssh  service_ssl  conn_state_OTH  \\\n0                0            0            0            0               0   \n1                0            0            0            0               0   \n2                0            0            0            0               0   \n3                0            0            0            0               0   \n5398             0            0            1            0               0   \n...            ...          ...          ...          ...             ...   \n610              0            0            0            0               0   \n611              0            0            0            0               0   \n740              0            0            0            0               0   \n1253             0            0            0            0               0   \n1254             0            0            0            0               0   \n\n      conn_state_REJ  conn_state_RSTO  conn_state_RSTOS0  conn_state_RSTR  \\\n0                  0                0                  0                0   \n1                  0                0                  0                0   \n2                  0                0                  0                0   \n3                  0                0                  0                0   \n5398               0                0                  0                0   \n...              ...              ...                ...              ...   \n610                0                0                  0                0   \n611                0                0                  0                0   \n740                0                0                  0                0   \n1253               0                0                  0                0   \n1254               0                0                  0                0   \n\n      conn_state_S0  conn_state_S1  conn_state_S2  conn_state_S3  \\\n0                 1              0              0              0   \n1                 1              0              0              0   \n2                 1              0              0              0   \n3                 1              0              0              0   \n5398              0              0              0              0   \n...             ...            ...            ...            ...   \n610               0              0              0              0   \n611               1              0              0              0   \n740               0              0              0              0   \n1253              1              0              0              0   \n1254              0              0              0              0   \n\n      conn_state_SF  conn_state_SH  \n0                 0              0  \n1                 0              0  \n2                 0              0  \n3                 0              0  \n5398              1              0  \n...             ...            ...  \n610               1              0  \n611               0              0  \n740               1              0  \n1253              0              0  \n1254              1              0  \n\n[42218 rows x 31 columns]",
      "text/html": "<div>\n<style scoped>\n    .dataframe tbody tr th:only-of-type {\n        vertical-align: middle;\n    }\n\n    .dataframe tbody tr th {\n        vertical-align: top;\n    }\n\n    .dataframe thead th {\n        text-align: right;\n    }\n</style>\n<table border=\"1\" class=\"dataframe\">\n  <thead>\n    <tr style=\"text-align: right;\">\n      <th></th>\n      <th>duration</th>\n      <th>orig_bytes</th>\n      <th>resp_bytes</th>\n      <th>missed_bytes</th>\n      <th>orig_pkts</th>\n      <th>orig_ip_bytes</th>\n      <th>resp_pkts</th>\n      <th>resp_ip_bytes</th>\n      <th>label</th>\n      <th>detailed-label</th>\n      <th>proto_tcp</th>\n      <th>proto_udp</th>\n      <th>proto_icmp</th>\n      <th>service_-</th>\n      <th>service_dhcp</th>\n      <th>service_dns</th>\n      <th>service_http</th>\n      <th>service_irc</th>\n      <th>service_ssh</th>\n      <th>service_ssl</th>\n      <th>conn_state_OTH</th>\n      <th>conn_state_REJ</th>\n      <th>conn_state_RSTO</th>\n      <th>conn_state_RSTOS0</th>\n      <th>conn_state_RSTR</th>\n      <th>conn_state_S0</th>\n      <th>conn_state_S1</th>\n      <th>conn_state_S2</th>\n      <th>conn_state_S3</th>\n      <th>conn_state_SF</th>\n      <th>conn_state_SH</th>\n    </tr>\n  </thead>\n  <tbody>\n    <tr>\n      <th>0</th>\n      <td>-1</td>\n      <td>-1</td>\n      <td>-1</td>\n      <td>0.0</td>\n      <td>6.0</td>\n      <td>360.0</td>\n      <td>0.0</td>\n      <td>0.0</td>\n      <td>Malicious</td>\n      <td>PartOfAHorizontalPortScan-Attack</td>\n      <td>1</td>\n      <td>0</td>\n      <td>NaN</td>\n      <td>1</td>\n      <td>0</td>\n      <td>0</td>\n      <td>0</td>\n      <td>0</td>\n      <td>0</td>\n      <td>0</td>\n      <td>0</td>\n      <td>0</td>\n      <td>0</td>\n      <td>0</td>\n      <td>0</td>\n      <td>1</td>\n      <td>0</td>\n      <td>0</td>\n      <td>0</td>\n      <td>0</td>\n      <td>0</td>\n    </tr>\n    <tr>\n      <th>1</th>\n      <td>-1</td>\n      <td>-1</td>\n      <td>-1</td>\n      <td>0.0</td>\n      <td>6.0</td>\n      <td>360.0</td>\n      <td>0.0</td>\n      <td>0.0</td>\n      <td>Malicious</td>\n      <td>PartOfAHorizontalPortScan-Attack</td>\n      <td>1</td>\n      <td>0</td>\n      <td>NaN</td>\n      <td>1</td>\n      <td>0</td>\n      <td>0</td>\n      <td>0</td>\n      <td>0</td>\n      <td>0</td>\n      <td>0</td>\n      <td>0</td>\n      <td>0</td>\n      <td>0</td>\n      <td>0</td>\n      <td>0</td>\n      <td>1</td>\n      <td>0</td>\n      <td>0</td>\n      <td>0</td>\n      <td>0</td>\n      <td>0</td>\n    </tr>\n    <tr>\n      <th>2</th>\n      <td>-1</td>\n      <td>-1</td>\n      <td>-1</td>\n      <td>0.0</td>\n      <td>6.0</td>\n      <td>360.0</td>\n      <td>0.0</td>\n      <td>0.0</td>\n      <td>Malicious</td>\n      <td>PartOfAHorizontalPortScan-Attack</td>\n      <td>1</td>\n      <td>0</td>\n      <td>NaN</td>\n      <td>1</td>\n      <td>0</td>\n      <td>0</td>\n      <td>0</td>\n      <td>0</td>\n      <td>0</td>\n      <td>0</td>\n      <td>0</td>\n      <td>0</td>\n      <td>0</td>\n      <td>0</td>\n      <td>0</td>\n      <td>1</td>\n      <td>0</td>\n      <td>0</td>\n      <td>0</td>\n      <td>0</td>\n      <td>0</td>\n    </tr>\n    <tr>\n      <th>3</th>\n      <td>-1</td>\n      <td>-1</td>\n      <td>-1</td>\n      <td>0.0</td>\n      <td>6.0</td>\n      <td>360.0</td>\n      <td>0.0</td>\n      <td>0.0</td>\n      <td>Malicious</td>\n      <td>PartOfAHorizontalPortScan-Attack</td>\n      <td>1</td>\n      <td>0</td>\n      <td>NaN</td>\n      <td>1</td>\n      <td>0</td>\n      <td>0</td>\n      <td>0</td>\n      <td>0</td>\n      <td>0</td>\n      <td>0</td>\n      <td>0</td>\n      <td>0</td>\n      <td>0</td>\n      <td>0</td>\n      <td>0</td>\n      <td>1</td>\n      <td>0</td>\n      <td>0</td>\n      <td>0</td>\n      <td>0</td>\n      <td>0</td>\n    </tr>\n    <tr>\n      <th>5398</th>\n      <td>-1</td>\n      <td>-1</td>\n      <td>-1</td>\n      <td>0.0</td>\n      <td>13.0</td>\n      <td>1273.0</td>\n      <td>16.0</td>\n      <td>1864.0</td>\n      <td>Malicious</td>\n      <td>Attack</td>\n      <td>1</td>\n      <td>0</td>\n      <td>NaN</td>\n      <td>0</td>\n      <td>0</td>\n      <td>0</td>\n      <td>0</td>\n      <td>0</td>\n      <td>1</td>\n      <td>0</td>\n      <td>0</td>\n      <td>0</td>\n      <td>0</td>\n      <td>0</td>\n      <td>0</td>\n      <td>0</td>\n      <td>0</td>\n      <td>0</td>\n      <td>0</td>\n      <td>1</td>\n      <td>0</td>\n    </tr>\n    <tr>\n      <th>...</th>\n      <td>...</td>\n      <td>...</td>\n      <td>...</td>\n      <td>...</td>\n      <td>...</td>\n      <td>...</td>\n      <td>...</td>\n      <td>...</td>\n      <td>...</td>\n      <td>...</td>\n      <td>...</td>\n      <td>...</td>\n      <td>...</td>\n      <td>...</td>\n      <td>...</td>\n      <td>...</td>\n      <td>...</td>\n      <td>...</td>\n      <td>...</td>\n      <td>...</td>\n      <td>...</td>\n      <td>...</td>\n      <td>...</td>\n      <td>...</td>\n      <td>...</td>\n      <td>...</td>\n      <td>...</td>\n      <td>...</td>\n      <td>...</td>\n      <td>...</td>\n      <td>...</td>\n    </tr>\n    <tr>\n      <th>610</th>\n      <td>17.085302</td>\n      <td>212</td>\n      <td>285</td>\n      <td>0.0</td>\n      <td>2.0</td>\n      <td>268.0</td>\n      <td>1.0</td>\n      <td>313.0</td>\n      <td>Benign</td>\n      <td>Benign</td>\n      <td>0</td>\n      <td>1</td>\n      <td>0.0</td>\n      <td>1</td>\n      <td>0</td>\n      <td>0</td>\n      <td>0</td>\n      <td>0</td>\n      <td>0</td>\n      <td>0</td>\n      <td>0</td>\n      <td>0</td>\n      <td>0</td>\n      <td>0</td>\n      <td>0</td>\n      <td>0</td>\n      <td>0</td>\n      <td>0</td>\n      <td>0</td>\n      <td>1</td>\n      <td>0</td>\n    </tr>\n    <tr>\n      <th>611</th>\n      <td>0</td>\n      <td>0</td>\n      <td>0</td>\n      <td>0.0</td>\n      <td>1.0</td>\n      <td>134.0</td>\n      <td>0.0</td>\n      <td>0.0</td>\n      <td>Benign</td>\n      <td>Benign</td>\n      <td>0</td>\n      <td>1</td>\n      <td>0.0</td>\n      <td>1</td>\n      <td>0</td>\n      <td>0</td>\n      <td>0</td>\n      <td>0</td>\n      <td>0</td>\n      <td>0</td>\n      <td>0</td>\n      <td>0</td>\n      <td>0</td>\n      <td>0</td>\n      <td>0</td>\n      <td>1</td>\n      <td>0</td>\n      <td>0</td>\n      <td>0</td>\n      <td>0</td>\n      <td>0</td>\n    </tr>\n    <tr>\n      <th>740</th>\n      <td>3.652672</td>\n      <td>183</td>\n      <td>800</td>\n      <td>0.0</td>\n      <td>5.0</td>\n      <td>323.0</td>\n      <td>6.0</td>\n      <td>968.0</td>\n      <td>Benign</td>\n      <td>Benign</td>\n      <td>0</td>\n      <td>1</td>\n      <td>0.0</td>\n      <td>1</td>\n      <td>0</td>\n      <td>0</td>\n      <td>0</td>\n      <td>0</td>\n      <td>0</td>\n      <td>0</td>\n      <td>0</td>\n      <td>0</td>\n      <td>0</td>\n      <td>0</td>\n      <td>0</td>\n      <td>0</td>\n      <td>0</td>\n      <td>0</td>\n      <td>0</td>\n      <td>1</td>\n      <td>0</td>\n    </tr>\n    <tr>\n      <th>1253</th>\n      <td>27.987099</td>\n      <td>206</td>\n      <td>0</td>\n      <td>0.0</td>\n      <td>2.0</td>\n      <td>262.0</td>\n      <td>0.0</td>\n      <td>0.0</td>\n      <td>Benign</td>\n      <td>Benign</td>\n      <td>0</td>\n      <td>1</td>\n      <td>0.0</td>\n      <td>1</td>\n      <td>0</td>\n      <td>0</td>\n      <td>0</td>\n      <td>0</td>\n      <td>0</td>\n      <td>0</td>\n      <td>0</td>\n      <td>0</td>\n      <td>0</td>\n      <td>0</td>\n      <td>0</td>\n      <td>1</td>\n      <td>0</td>\n      <td>0</td>\n      <td>0</td>\n      <td>0</td>\n      <td>0</td>\n    </tr>\n    <tr>\n      <th>1254</th>\n      <td>0.007230</td>\n      <td>48</td>\n      <td>48</td>\n      <td>0.0</td>\n      <td>1.0</td>\n      <td>76.0</td>\n      <td>1.0</td>\n      <td>76.0</td>\n      <td>Benign</td>\n      <td>Benign</td>\n      <td>0</td>\n      <td>1</td>\n      <td>0.0</td>\n      <td>1</td>\n      <td>0</td>\n      <td>0</td>\n      <td>0</td>\n      <td>0</td>\n      <td>0</td>\n      <td>0</td>\n      <td>0</td>\n      <td>0</td>\n      <td>0</td>\n      <td>0</td>\n      <td>0</td>\n      <td>0</td>\n      <td>0</td>\n      <td>0</td>\n      <td>0</td>\n      <td>1</td>\n      <td>0</td>\n    </tr>\n  </tbody>\n</table>\n<p>42218 rows × 31 columns</p>\n</div>"
     },
     "execution_count": 39,
     "metadata": {},
     "output_type": "execute_result"
    }
   ],
   "source": [
    "df_all = pd.get_dummies(df_all, columns=['service'])\n",
    "df_all = pd.get_dummies(df_all, columns=['conn_state'])\n",
    "df_all"
   ],
   "metadata": {
    "collapsed": false,
    "pycharm": {
     "name": "#%%\n"
    }
   }
  },
  {
   "cell_type": "code",
   "execution_count": 40,
   "outputs": [],
   "source": [
    "df_all.to_csv('./Data/iot23_all_combined_test.csv')"
   ],
   "metadata": {
    "collapsed": false,
    "pycharm": {
     "name": "#%%\n"
    }
   }
  },
  {
   "cell_type": "markdown",
   "source": [
    "### split all data to train/test"
   ],
   "metadata": {
    "collapsed": false
   }
  },
  {
   "cell_type": "code",
   "execution_count": 1,
   "outputs": [
    {
     "ename": "KeyError",
     "evalue": "'Unnamed: 0'",
     "output_type": "error",
     "traceback": [
      "\u001B[0;31m---------------------------------------------------------------------------\u001B[0m",
      "\u001B[0;31mKeyError\u001B[0m                                  Traceback (most recent call last)",
      "File \u001B[0;32m/media/wuguo-buaa/LENOVO_USB_HDD/PycharmProjects/Machine_learning_venv/lib/python3.8/site-packages/pandas/core/indexes/base.py:3361\u001B[0m, in \u001B[0;36mIndex.get_loc\u001B[0;34m(self, key, method, tolerance)\u001B[0m\n\u001B[1;32m   3360\u001B[0m \u001B[38;5;28;01mtry\u001B[39;00m:\n\u001B[0;32m-> 3361\u001B[0m     \u001B[38;5;28;01mreturn\u001B[39;00m \u001B[38;5;28;43mself\u001B[39;49m\u001B[38;5;241;43m.\u001B[39;49m\u001B[43m_engine\u001B[49m\u001B[38;5;241;43m.\u001B[39;49m\u001B[43mget_loc\u001B[49m\u001B[43m(\u001B[49m\u001B[43mcasted_key\u001B[49m\u001B[43m)\u001B[49m\n\u001B[1;32m   3362\u001B[0m \u001B[38;5;28;01mexcept\u001B[39;00m \u001B[38;5;167;01mKeyError\u001B[39;00m \u001B[38;5;28;01mas\u001B[39;00m err:\n",
      "File \u001B[0;32m/media/wuguo-buaa/LENOVO_USB_HDD/PycharmProjects/Machine_learning_venv/lib/python3.8/site-packages/pandas/_libs/index.pyx:76\u001B[0m, in \u001B[0;36mpandas._libs.index.IndexEngine.get_loc\u001B[0;34m()\u001B[0m\n",
      "File \u001B[0;32m/media/wuguo-buaa/LENOVO_USB_HDD/PycharmProjects/Machine_learning_venv/lib/python3.8/site-packages/pandas/_libs/index.pyx:108\u001B[0m, in \u001B[0;36mpandas._libs.index.IndexEngine.get_loc\u001B[0;34m()\u001B[0m\n",
      "File \u001B[0;32mpandas/_libs/hashtable_class_helper.pxi:5198\u001B[0m, in \u001B[0;36mpandas._libs.hashtable.PyObjectHashTable.get_item\u001B[0;34m()\u001B[0m\n",
      "File \u001B[0;32mpandas/_libs/hashtable_class_helper.pxi:5206\u001B[0m, in \u001B[0;36mpandas._libs.hashtable.PyObjectHashTable.get_item\u001B[0;34m()\u001B[0m\n",
      "\u001B[0;31mKeyError\u001B[0m: 'Unnamed: 0'",
      "\nThe above exception was the direct cause of the following exception:\n",
      "\u001B[0;31mKeyError\u001B[0m                                  Traceback (most recent call last)",
      "Input \u001B[0;32mIn [1]\u001B[0m, in \u001B[0;36m<cell line: 11>\u001B[0;34m()\u001B[0m\n\u001B[1;32m      7\u001B[0m \u001B[38;5;28;01mfrom\u001B[39;00m \u001B[38;5;21;01msklearn\u001B[39;00m\u001B[38;5;21;01m.\u001B[39;00m\u001B[38;5;21;01mmodel_selection\u001B[39;00m \u001B[38;5;28;01mimport\u001B[39;00m train_test_split\n\u001B[1;32m      9\u001B[0m \u001B[38;5;66;03m# filepath = \"./Data/iot23_all_combined.csv\"\u001B[39;00m\n\u001B[1;32m     10\u001B[0m \u001B[38;5;66;03m# df = pd.read_csv(filepath)\u001B[39;00m\n\u001B[0;32m---> 11\u001B[0m \u001B[38;5;28;01mdel\u001B[39;00m df[\u001B[38;5;124m'\u001B[39m\u001B[38;5;124mUnnamed: 0\u001B[39m\u001B[38;5;124m'\u001B[39m]\n\u001B[1;32m     12\u001B[0m X \u001B[38;5;241m=\u001B[39m df[\n\u001B[1;32m     13\u001B[0m     [\u001B[38;5;124m'\u001B[39m\u001B[38;5;124mduration\u001B[39m\u001B[38;5;124m'\u001B[39m, \u001B[38;5;124m'\u001B[39m\u001B[38;5;124morig_bytes\u001B[39m\u001B[38;5;124m'\u001B[39m, \u001B[38;5;124m'\u001B[39m\u001B[38;5;124mresp_bytes\u001B[39m\u001B[38;5;124m'\u001B[39m, \u001B[38;5;124m'\u001B[39m\u001B[38;5;124mmissed_bytes\u001B[39m\u001B[38;5;124m'\u001B[39m, \u001B[38;5;124m'\u001B[39m\u001B[38;5;124morig_pkts\u001B[39m\u001B[38;5;124m'\u001B[39m, \u001B[38;5;124m'\u001B[39m\u001B[38;5;124morig_ip_bytes\u001B[39m\u001B[38;5;124m'\u001B[39m, \u001B[38;5;124m'\u001B[39m\u001B[38;5;124mresp_pkts\u001B[39m\u001B[38;5;124m'\u001B[39m, \u001B[38;5;124m'\u001B[39m\u001B[38;5;124mresp_ip_bytes\u001B[39m\u001B[38;5;124m'\u001B[39m,\n\u001B[1;32m     14\u001B[0m      \u001B[38;5;124m'\u001B[39m\u001B[38;5;124mproto_icmp\u001B[39m\u001B[38;5;124m'\u001B[39m, \u001B[38;5;124m'\u001B[39m\u001B[38;5;124mproto_tcp\u001B[39m\u001B[38;5;124m'\u001B[39m, \u001B[38;5;124m'\u001B[39m\u001B[38;5;124mproto_udp\u001B[39m\u001B[38;5;124m'\u001B[39m, \u001B[38;5;124m'\u001B[39m\u001B[38;5;124mservice_-\u001B[39m\u001B[38;5;124m'\u001B[39m, \u001B[38;5;124m'\u001B[39m\u001B[38;5;124mservice_dhcp\u001B[39m\u001B[38;5;124m'\u001B[39m, \u001B[38;5;124m'\u001B[39m\u001B[38;5;124mservice_dns\u001B[39m\u001B[38;5;124m'\u001B[39m, \u001B[38;5;124m'\u001B[39m\u001B[38;5;124mservice_http\u001B[39m\u001B[38;5;124m'\u001B[39m, \u001B[38;5;124m'\u001B[39m\u001B[38;5;124mservice_ssh\u001B[39m\u001B[38;5;124m'\u001B[39m,\n\u001B[1;32m     15\u001B[0m      \u001B[38;5;124m'\u001B[39m\u001B[38;5;124mservice_ssl\u001B[39m\u001B[38;5;124m'\u001B[39m, \u001B[38;5;124m'\u001B[39m\u001B[38;5;124mservice_irc\u001B[39m\u001B[38;5;124m'\u001B[39m, \u001B[38;5;124m'\u001B[39m\u001B[38;5;124mconn_state_OTH\u001B[39m\u001B[38;5;124m'\u001B[39m, \u001B[38;5;124m'\u001B[39m\u001B[38;5;124mconn_state_REJ\u001B[39m\u001B[38;5;124m'\u001B[39m, \u001B[38;5;124m'\u001B[39m\u001B[38;5;124mconn_state_RSTO\u001B[39m\u001B[38;5;124m'\u001B[39m, \u001B[38;5;124m'\u001B[39m\u001B[38;5;124mconn_state_RSTOS0\u001B[39m\u001B[38;5;124m'\u001B[39m,\n\u001B[1;32m     16\u001B[0m      \u001B[38;5;124m'\u001B[39m\u001B[38;5;124mconn_state_RSTR\u001B[39m\u001B[38;5;124m'\u001B[39m, \u001B[38;5;124m'\u001B[39m\u001B[38;5;124mconn_state_S0\u001B[39m\u001B[38;5;124m'\u001B[39m, \u001B[38;5;124m'\u001B[39m\u001B[38;5;124mconn_state_S1\u001B[39m\u001B[38;5;124m'\u001B[39m, \u001B[38;5;124m'\u001B[39m\u001B[38;5;124mconn_state_S2\u001B[39m\u001B[38;5;124m'\u001B[39m, \u001B[38;5;124m'\u001B[39m\u001B[38;5;124mconn_state_S3\u001B[39m\u001B[38;5;124m'\u001B[39m,\n\u001B[1;32m     17\u001B[0m      \u001B[38;5;124m'\u001B[39m\u001B[38;5;124mconn_state_SF\u001B[39m\u001B[38;5;124m'\u001B[39m, \u001B[38;5;124m'\u001B[39m\u001B[38;5;124mconn_state_SH\u001B[39m\u001B[38;5;124m'\u001B[39m, \u001B[38;5;124m'\u001B[39m\u001B[38;5;124mconn_state_SHR\u001B[39m\u001B[38;5;124m'\u001B[39m]]\n\u001B[1;32m     18\u001B[0m Y \u001B[38;5;241m=\u001B[39m df[\u001B[38;5;124m'\u001B[39m\u001B[38;5;124mcategory\u001B[39m\u001B[38;5;124m'\u001B[39m]\n",
      "File \u001B[0;32m/media/wuguo-buaa/LENOVO_USB_HDD/PycharmProjects/Machine_learning_venv/lib/python3.8/site-packages/pandas/core/generic.py:3963\u001B[0m, in \u001B[0;36mNDFrame.__delitem__\u001B[0;34m(self, key)\u001B[0m\n\u001B[1;32m   3958\u001B[0m             deleted \u001B[38;5;241m=\u001B[39m \u001B[38;5;28;01mTrue\u001B[39;00m\n\u001B[1;32m   3959\u001B[0m \u001B[38;5;28;01mif\u001B[39;00m \u001B[38;5;129;01mnot\u001B[39;00m deleted:\n\u001B[1;32m   3960\u001B[0m     \u001B[38;5;66;03m# If the above loop ran and didn't delete anything because\u001B[39;00m\n\u001B[1;32m   3961\u001B[0m     \u001B[38;5;66;03m# there was no match, this call should raise the appropriate\u001B[39;00m\n\u001B[1;32m   3962\u001B[0m     \u001B[38;5;66;03m# exception:\u001B[39;00m\n\u001B[0;32m-> 3963\u001B[0m     loc \u001B[38;5;241m=\u001B[39m \u001B[38;5;28;43mself\u001B[39;49m\u001B[38;5;241;43m.\u001B[39;49m\u001B[43maxes\u001B[49m\u001B[43m[\u001B[49m\u001B[38;5;241;43m-\u001B[39;49m\u001B[38;5;241;43m1\u001B[39;49m\u001B[43m]\u001B[49m\u001B[38;5;241;43m.\u001B[39;49m\u001B[43mget_loc\u001B[49m\u001B[43m(\u001B[49m\u001B[43mkey\u001B[49m\u001B[43m)\u001B[49m\n\u001B[1;32m   3964\u001B[0m     \u001B[38;5;28mself\u001B[39m\u001B[38;5;241m.\u001B[39m_mgr \u001B[38;5;241m=\u001B[39m \u001B[38;5;28mself\u001B[39m\u001B[38;5;241m.\u001B[39m_mgr\u001B[38;5;241m.\u001B[39midelete(loc)\n\u001B[1;32m   3966\u001B[0m \u001B[38;5;66;03m# delete from the caches\u001B[39;00m\n",
      "File \u001B[0;32m/media/wuguo-buaa/LENOVO_USB_HDD/PycharmProjects/Machine_learning_venv/lib/python3.8/site-packages/pandas/core/indexes/base.py:3363\u001B[0m, in \u001B[0;36mIndex.get_loc\u001B[0;34m(self, key, method, tolerance)\u001B[0m\n\u001B[1;32m   3361\u001B[0m         \u001B[38;5;28;01mreturn\u001B[39;00m \u001B[38;5;28mself\u001B[39m\u001B[38;5;241m.\u001B[39m_engine\u001B[38;5;241m.\u001B[39mget_loc(casted_key)\n\u001B[1;32m   3362\u001B[0m     \u001B[38;5;28;01mexcept\u001B[39;00m \u001B[38;5;167;01mKeyError\u001B[39;00m \u001B[38;5;28;01mas\u001B[39;00m err:\n\u001B[0;32m-> 3363\u001B[0m         \u001B[38;5;28;01mraise\u001B[39;00m \u001B[38;5;167;01mKeyError\u001B[39;00m(key) \u001B[38;5;28;01mfrom\u001B[39;00m \u001B[38;5;21;01merr\u001B[39;00m\n\u001B[1;32m   3365\u001B[0m \u001B[38;5;28;01mif\u001B[39;00m is_scalar(key) \u001B[38;5;129;01mand\u001B[39;00m isna(key) \u001B[38;5;129;01mand\u001B[39;00m \u001B[38;5;129;01mnot\u001B[39;00m \u001B[38;5;28mself\u001B[39m\u001B[38;5;241m.\u001B[39mhasnans:\n\u001B[1;32m   3366\u001B[0m     \u001B[38;5;28;01mraise\u001B[39;00m \u001B[38;5;167;01mKeyError\u001B[39;00m(key)\n",
      "\u001B[0;31mKeyError\u001B[0m: 'Unnamed: 0'"
     ]
    }
   ],
   "source": [
    "import pandas as pd\n",
    "filepath = \"./iot23_combined_oversample.csv\"\n",
    "df = pd.read_csv(filepath)\n",
    "del df['Unnamed: 0']\n",
    "df['category'].value_counts()\n",
    "import pandas as pd\n",
    "from sklearn.model_selection import train_test_split\n",
    "\n",
    "filepath = \"./Data/iot23_all_combined.csv\"\n",
    "df = pd.read_csv(filepath)\n",
    "del df['Unnamed: 0']\n",
    "X = df[\n",
    "    ['duration', 'orig_bytes', 'resp_bytes', 'missed_bytes', 'orig_pkts', 'orig_ip_bytes', 'resp_pkts', 'resp_ip_bytes',\n",
    "     'proto_icmp', 'proto_tcp', 'proto_udp', 'service_-', 'service_dhcp', 'service_dns', 'service_http', 'service_ssh',\n",
    "     'service_ssl', 'service_irc', 'conn_state_OTH', 'conn_state_REJ', 'conn_state_RSTO', 'conn_state_RSTOS0',\n",
    "     'conn_state_RSTR', 'conn_state_S0', 'conn_state_S1', 'conn_state_S2', 'conn_state_S3',\n",
    "     'conn_state_SF', 'conn_state_SH', 'conn_state_SHR']]\n",
    "Y = df['label']\n",
    "X_train, X_test, Y_train, Y_test = train_test_split(X, Y, random_state=100, test_size=0.2,stratify=Y)\n",
    "type(X_train)\n",
    "train_data = \"./Data/split/train_data.csv\"\n",
    "test_data = './Data/split/test_data.csv'\n",
    "pd.concat([X_train, Y_train], axis=1).to_csv(train_data, index=False, encoding='utf-8')\n",
    "pd.concat([X_test, Y_test], axis=1).to_csv(test_data, index=False, encoding='utf-8')"
   ],
   "metadata": {
    "collapsed": false,
    "pycharm": {
     "name": "#%%\n"
    }
   }
  },
  {
   "cell_type": "code",
   "execution_count": 2,
   "outputs": [
    {
     "data": {
      "text/plain": "Malware    2362709\nBenign     2362709\nName: category, dtype: int64"
     },
     "execution_count": 2,
     "metadata": {},
     "output_type": "execute_result"
    }
   ],
   "source": [
    "import pandas as pd\n",
    "filepath = \"./iot23_combined_oversample.csv\"\n",
    "df = pd.read_csv(filepath)\n",
    "del df['Unnamed: 0']\n",
    "df['category'].value_counts()"
   ],
   "metadata": {
    "collapsed": false,
    "pycharm": {
     "name": "#%%\n"
    }
   }
  },
  {
   "cell_type": "code",
   "execution_count": 4,
   "outputs": [
    {
     "data": {
      "text/plain": "         duration  orig_bytes  resp_bytes  missed_bytes  orig_pkts  \\\n0        2.998796         0.0         0.0           0.0        3.0   \n1        0.000000         0.0         0.0           0.0        1.0   \n2        0.000000         0.0         0.0           0.0        1.0   \n3        2.998804         0.0         0.0           0.0        3.0   \n4        0.000000         0.0         0.0           0.0        1.0   \n...           ...         ...         ...           ...        ...   \n4725413  3.154209         0.0         0.0           0.0        3.0   \n4725414  0.000000         0.0         0.0           0.0        1.0   \n4725415  3.093752         0.0         0.0           0.0        3.0   \n4725416  0.000000         0.0         0.0           0.0        1.0   \n4725417  0.000000         0.0         0.0           0.0        1.0   \n\n         orig_ip_bytes  resp_pkts  resp_ip_bytes  proto_icmp  proto_tcp  ...  \\\n0                180.0        0.0            0.0         0.0        1.0  ...   \n1                 60.0        0.0            0.0         0.0        1.0  ...   \n2                 60.0        0.0            0.0         0.0        1.0  ...   \n3                180.0        0.0            0.0         0.0        1.0  ...   \n4                 60.0        0.0            0.0         0.0        1.0  ...   \n...                ...        ...            ...         ...        ...  ...   \n4725413          180.0        0.0            0.0         0.0        1.0  ...   \n4725414           60.0        0.0            0.0         0.0        1.0  ...   \n4725415          180.0        0.0            0.0         0.0        1.0  ...   \n4725416           60.0        0.0            0.0         0.0        1.0  ...   \n4725417           60.0        0.0            0.0         0.0        1.0  ...   \n\n         conn_state_RSTR  conn_state_RSTRH  conn_state_S0  conn_state_S1  \\\n0                    0.0               0.0            1.0            0.0   \n1                    0.0               0.0            1.0            0.0   \n2                    0.0               0.0            1.0            0.0   \n3                    0.0               0.0            1.0            0.0   \n4                    0.0               0.0            1.0            0.0   \n...                  ...               ...            ...            ...   \n4725413              0.0               0.0            1.0            0.0   \n4725414              0.0               0.0            1.0            0.0   \n4725415              0.0               0.0            1.0            0.0   \n4725416              0.0               0.0            1.0            0.0   \n4725417              0.0               0.0            1.0            0.0   \n\n         conn_state_S2  conn_state_S3  conn_state_SF  conn_state_SH  category  \\\n0                  0.0            0.0            0.0            0.0   Malware   \n1                  0.0            0.0            0.0            0.0   Malware   \n2                  0.0            0.0            0.0            0.0   Malware   \n3                  0.0            0.0            0.0            0.0    Benign   \n4                  0.0            0.0            0.0            0.0    Benign   \n...                ...            ...            ...            ...       ...   \n4725413            0.0            0.0            0.0            0.0    Benign   \n4725414            0.0            0.0            0.0            0.0    Benign   \n4725415            0.0            0.0            0.0            0.0    Benign   \n4725416            0.0            0.0            0.0            0.0    Benign   \n4725417            0.0            0.0            0.0            0.0    Benign   \n\n         conn_state_SHR  \n0                   0.0  \n1                   0.0  \n2                   0.0  \n3                   0.0  \n4                   0.0  \n...                 ...  \n4725413             0.0  \n4725414             0.0  \n4725415             0.0  \n4725416             0.0  \n4725417             0.0  \n\n[4725418 rows x 32 columns]",
      "text/html": "<div>\n<style scoped>\n    .dataframe tbody tr th:only-of-type {\n        vertical-align: middle;\n    }\n\n    .dataframe tbody tr th {\n        vertical-align: top;\n    }\n\n    .dataframe thead th {\n        text-align: right;\n    }\n</style>\n<table border=\"1\" class=\"dataframe\">\n  <thead>\n    <tr style=\"text-align: right;\">\n      <th></th>\n      <th>duration</th>\n      <th>orig_bytes</th>\n      <th>resp_bytes</th>\n      <th>missed_bytes</th>\n      <th>orig_pkts</th>\n      <th>orig_ip_bytes</th>\n      <th>resp_pkts</th>\n      <th>resp_ip_bytes</th>\n      <th>proto_icmp</th>\n      <th>proto_tcp</th>\n      <th>...</th>\n      <th>conn_state_RSTR</th>\n      <th>conn_state_RSTRH</th>\n      <th>conn_state_S0</th>\n      <th>conn_state_S1</th>\n      <th>conn_state_S2</th>\n      <th>conn_state_S3</th>\n      <th>conn_state_SF</th>\n      <th>conn_state_SH</th>\n      <th>category</th>\n      <th>conn_state_SHR</th>\n    </tr>\n  </thead>\n  <tbody>\n    <tr>\n      <th>0</th>\n      <td>2.998796</td>\n      <td>0.0</td>\n      <td>0.0</td>\n      <td>0.0</td>\n      <td>3.0</td>\n      <td>180.0</td>\n      <td>0.0</td>\n      <td>0.0</td>\n      <td>0.0</td>\n      <td>1.0</td>\n      <td>...</td>\n      <td>0.0</td>\n      <td>0.0</td>\n      <td>1.0</td>\n      <td>0.0</td>\n      <td>0.0</td>\n      <td>0.0</td>\n      <td>0.0</td>\n      <td>0.0</td>\n      <td>Malware</td>\n      <td>0.0</td>\n    </tr>\n    <tr>\n      <th>1</th>\n      <td>0.000000</td>\n      <td>0.0</td>\n      <td>0.0</td>\n      <td>0.0</td>\n      <td>1.0</td>\n      <td>60.0</td>\n      <td>0.0</td>\n      <td>0.0</td>\n      <td>0.0</td>\n      <td>1.0</td>\n      <td>...</td>\n      <td>0.0</td>\n      <td>0.0</td>\n      <td>1.0</td>\n      <td>0.0</td>\n      <td>0.0</td>\n      <td>0.0</td>\n      <td>0.0</td>\n      <td>0.0</td>\n      <td>Malware</td>\n      <td>0.0</td>\n    </tr>\n    <tr>\n      <th>2</th>\n      <td>0.000000</td>\n      <td>0.0</td>\n      <td>0.0</td>\n      <td>0.0</td>\n      <td>1.0</td>\n      <td>60.0</td>\n      <td>0.0</td>\n      <td>0.0</td>\n      <td>0.0</td>\n      <td>1.0</td>\n      <td>...</td>\n      <td>0.0</td>\n      <td>0.0</td>\n      <td>1.0</td>\n      <td>0.0</td>\n      <td>0.0</td>\n      <td>0.0</td>\n      <td>0.0</td>\n      <td>0.0</td>\n      <td>Malware</td>\n      <td>0.0</td>\n    </tr>\n    <tr>\n      <th>3</th>\n      <td>2.998804</td>\n      <td>0.0</td>\n      <td>0.0</td>\n      <td>0.0</td>\n      <td>3.0</td>\n      <td>180.0</td>\n      <td>0.0</td>\n      <td>0.0</td>\n      <td>0.0</td>\n      <td>1.0</td>\n      <td>...</td>\n      <td>0.0</td>\n      <td>0.0</td>\n      <td>1.0</td>\n      <td>0.0</td>\n      <td>0.0</td>\n      <td>0.0</td>\n      <td>0.0</td>\n      <td>0.0</td>\n      <td>Benign</td>\n      <td>0.0</td>\n    </tr>\n    <tr>\n      <th>4</th>\n      <td>0.000000</td>\n      <td>0.0</td>\n      <td>0.0</td>\n      <td>0.0</td>\n      <td>1.0</td>\n      <td>60.0</td>\n      <td>0.0</td>\n      <td>0.0</td>\n      <td>0.0</td>\n      <td>1.0</td>\n      <td>...</td>\n      <td>0.0</td>\n      <td>0.0</td>\n      <td>1.0</td>\n      <td>0.0</td>\n      <td>0.0</td>\n      <td>0.0</td>\n      <td>0.0</td>\n      <td>0.0</td>\n      <td>Benign</td>\n      <td>0.0</td>\n    </tr>\n    <tr>\n      <th>...</th>\n      <td>...</td>\n      <td>...</td>\n      <td>...</td>\n      <td>...</td>\n      <td>...</td>\n      <td>...</td>\n      <td>...</td>\n      <td>...</td>\n      <td>...</td>\n      <td>...</td>\n      <td>...</td>\n      <td>...</td>\n      <td>...</td>\n      <td>...</td>\n      <td>...</td>\n      <td>...</td>\n      <td>...</td>\n      <td>...</td>\n      <td>...</td>\n      <td>...</td>\n      <td>...</td>\n    </tr>\n    <tr>\n      <th>4725413</th>\n      <td>3.154209</td>\n      <td>0.0</td>\n      <td>0.0</td>\n      <td>0.0</td>\n      <td>3.0</td>\n      <td>180.0</td>\n      <td>0.0</td>\n      <td>0.0</td>\n      <td>0.0</td>\n      <td>1.0</td>\n      <td>...</td>\n      <td>0.0</td>\n      <td>0.0</td>\n      <td>1.0</td>\n      <td>0.0</td>\n      <td>0.0</td>\n      <td>0.0</td>\n      <td>0.0</td>\n      <td>0.0</td>\n      <td>Benign</td>\n      <td>0.0</td>\n    </tr>\n    <tr>\n      <th>4725414</th>\n      <td>0.000000</td>\n      <td>0.0</td>\n      <td>0.0</td>\n      <td>0.0</td>\n      <td>1.0</td>\n      <td>60.0</td>\n      <td>0.0</td>\n      <td>0.0</td>\n      <td>0.0</td>\n      <td>1.0</td>\n      <td>...</td>\n      <td>0.0</td>\n      <td>0.0</td>\n      <td>1.0</td>\n      <td>0.0</td>\n      <td>0.0</td>\n      <td>0.0</td>\n      <td>0.0</td>\n      <td>0.0</td>\n      <td>Benign</td>\n      <td>0.0</td>\n    </tr>\n    <tr>\n      <th>4725415</th>\n      <td>3.093752</td>\n      <td>0.0</td>\n      <td>0.0</td>\n      <td>0.0</td>\n      <td>3.0</td>\n      <td>180.0</td>\n      <td>0.0</td>\n      <td>0.0</td>\n      <td>0.0</td>\n      <td>1.0</td>\n      <td>...</td>\n      <td>0.0</td>\n      <td>0.0</td>\n      <td>1.0</td>\n      <td>0.0</td>\n      <td>0.0</td>\n      <td>0.0</td>\n      <td>0.0</td>\n      <td>0.0</td>\n      <td>Benign</td>\n      <td>0.0</td>\n    </tr>\n    <tr>\n      <th>4725416</th>\n      <td>0.000000</td>\n      <td>0.0</td>\n      <td>0.0</td>\n      <td>0.0</td>\n      <td>1.0</td>\n      <td>60.0</td>\n      <td>0.0</td>\n      <td>0.0</td>\n      <td>0.0</td>\n      <td>1.0</td>\n      <td>...</td>\n      <td>0.0</td>\n      <td>0.0</td>\n      <td>1.0</td>\n      <td>0.0</td>\n      <td>0.0</td>\n      <td>0.0</td>\n      <td>0.0</td>\n      <td>0.0</td>\n      <td>Benign</td>\n      <td>0.0</td>\n    </tr>\n    <tr>\n      <th>4725417</th>\n      <td>0.000000</td>\n      <td>0.0</td>\n      <td>0.0</td>\n      <td>0.0</td>\n      <td>1.0</td>\n      <td>60.0</td>\n      <td>0.0</td>\n      <td>0.0</td>\n      <td>0.0</td>\n      <td>1.0</td>\n      <td>...</td>\n      <td>0.0</td>\n      <td>0.0</td>\n      <td>1.0</td>\n      <td>0.0</td>\n      <td>0.0</td>\n      <td>0.0</td>\n      <td>0.0</td>\n      <td>0.0</td>\n      <td>Benign</td>\n      <td>0.0</td>\n    </tr>\n  </tbody>\n</table>\n<p>4725418 rows × 32 columns</p>\n</div>"
     },
     "execution_count": 4,
     "metadata": {},
     "output_type": "execute_result"
    }
   ],
   "source": [
    "df"
   ],
   "metadata": {
    "collapsed": false,
    "pycharm": {
     "name": "#%%\n"
    }
   }
  },
  {
   "cell_type": "code",
   "execution_count": 5,
   "outputs": [],
   "source": [
    "import pandas as pd\n",
    "from sklearn.model_selection import train_test_split\n",
    "X = df[\n",
    "    ['duration', 'orig_bytes', 'resp_bytes', 'missed_bytes', 'orig_pkts', 'orig_ip_bytes', 'resp_pkts', 'resp_ip_bytes',\n",
    "     'proto_icmp', 'proto_tcp', 'proto_udp', 'service_-', 'service_dhcp', 'service_dns', 'service_http', 'service_ssh',\n",
    "     'service_ssl', 'service_irc', 'conn_state_OTH', 'conn_state_REJ', 'conn_state_RSTO', 'conn_state_RSTOS0',\n",
    "     'conn_state_RSTR', 'conn_state_S0', 'conn_state_S1', 'conn_state_S2', 'conn_state_S3',\n",
    "     'conn_state_SF', 'conn_state_SH', 'conn_state_SHR']]\n",
    "Y = df['category']"
   ],
   "metadata": {
    "collapsed": false,
    "pycharm": {
     "name": "#%%\n"
    }
   }
  },
  {
   "cell_type": "code",
   "execution_count": 6,
   "outputs": [],
   "source": [
    "X_train, X_test, Y_train, Y_test = train_test_split(X, Y, random_state=100, test_size=0.2,stratify=Y)\n",
    "type(X_train)\n",
    "train_data = \"./Data/split/train_unbalance.csv\"\n",
    "test_data = './Data/split/test_data_unbalance.csv'\n",
    "pd.concat([X_train, Y_train], axis=1).to_csv(train_data, index=False, encoding='utf-8')\n",
    "pd.concat([X_test, Y_test], axis=1).to_csv(test_data, index=False, encoding='utf-8')"
   ],
   "metadata": {
    "collapsed": false,
    "pycharm": {
     "name": "#%%\n"
    }
   }
  },
  {
   "cell_type": "code",
   "execution_count": null,
   "outputs": [],
   "source": [],
   "metadata": {
    "collapsed": false,
    "pycharm": {
     "name": "#%%\n"
    }
   }
  }
 ],
 "metadata": {
  "kernelspec": {
   "display_name": "Python 3",
   "language": "python",
   "name": "python3"
  },
  "language_info": {
   "codemirror_mode": {
    "name": "ipython",
    "version": 2
   },
   "file_extension": ".py",
   "mimetype": "text/x-python",
   "name": "python",
   "nbconvert_exporter": "python",
   "pygments_lexer": "ipython2",
   "version": "2.7.6"
  }
 },
 "nbformat": 4,
 "nbformat_minor": 0
}