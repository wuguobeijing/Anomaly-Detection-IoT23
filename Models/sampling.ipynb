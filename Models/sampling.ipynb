{
 "cells": [
  {
   "cell_type": "code",
   "execution_count": 9,
   "metadata": {
    "collapsed": true
   },
   "outputs": [
    {
     "data": {
      "text/plain": "1     1557534\n2      522619\n0      376965\n4      262509\n5       15152\n6        4203\n7         591\n8          46\n9          30\n11         13\n10          8\n3           3\n12          1\nName: label, dtype: int64"
     },
     "execution_count": 9,
     "metadata": {},
     "output_type": "execute_result"
    }
   ],
   "source": [
    "import os\n",
    "\n",
    "import smote_variants as sv\n",
    "import pandas as pd\n",
    "from sklearn.model_selection import train_test_split\n",
    "\n",
    "filepath = \"../Data Preprocessing/iot23_combined.csv\"\n",
    "df = pd.read_csv(filepath)\n",
    "del df['Unnamed: 0']\n",
    "df['label'].value_counts()"
   ]
  },
  {
   "cell_type": "code",
   "execution_count": 10,
   "outputs": [],
   "source": [
    "X = df[['duration', 'orig_bytes', 'resp_bytes', 'missed_bytes', 'orig_pkts', 'orig_ip_bytes', 'resp_pkts', 'resp_ip_bytes', 'proto_icmp', 'proto_tcp', 'proto_udp', 'service_-', 'service_dhcp', 'service_dns', 'service_http', 'service_ssh', 'service_ssl', 'service_irc', 'conn_state_OTH', 'conn_state_REJ', 'conn_state_RSTO', 'conn_state_RSTOS0', 'conn_state_RSTR', 'conn_state_RSTRH', 'conn_state_S0', 'conn_state_S1', 'conn_state_S2', 'conn_state_S3', 'conn_state_SF', 'conn_state_SH', 'conn_state_SHR']].values\n",
    "Y = df['category'].values"
   ],
   "metadata": {
    "collapsed": false,
    "pycharm": {
     "name": "#%%\n"
    }
   }
  },
  {
   "cell_type": "code",
   "execution_count": 12,
   "outputs": [
    {
     "data": {
      "text/plain": "array(['Malware', 'Malware', 'Malware', ..., 'Malware', 'Malware',\n       'Malware'], dtype=object)"
     },
     "execution_count": 12,
     "metadata": {},
     "output_type": "execute_result"
    }
   ],
   "source": [
    "Y"
   ],
   "metadata": {
    "collapsed": false,
    "pycharm": {
     "name": "#%%\n"
    }
   }
  },
  {
   "cell_type": "code",
   "execution_count": 19,
   "outputs": [
    {
     "name": "stderr",
     "output_type": "stream",
     "text": [
      "2022-05-09 14:13:01,437:INFO:distance_SMOTE: Running sampling via ('distance_SMOTE', \"{'proportion': 1.0, 'n_neighbors': 5, 'n_jobs': 1, 'random_state': None}\")\n"
     ]
    }
   ],
   "source": [
    "oversampler= sv.distance_SMOTE()\n",
    "# X_samp and y_samp contain the oversampled dataset\n",
    "X_samp, y_samp= oversampler.sample(X, Y)"
   ],
   "metadata": {
    "collapsed": false,
    "pycharm": {
     "name": "#%%\n"
    }
   }
  },
  {
   "cell_type": "code",
   "execution_count": 23,
   "outputs": [
    {
     "data": {
      "text/plain": "array([[2.998796  , 0.        , 0.        , ..., 0.        , 0.        ,\n        0.        ],\n       [0.        , 0.        , 0.        , ..., 0.        , 0.        ,\n        0.        ],\n       [0.        , 0.        , 0.        , ..., 0.        , 0.        ,\n        0.        ],\n       ...,\n       [3.09375153, 0.        , 0.        , ..., 0.        , 0.        ,\n        0.        ],\n       [0.        , 0.        , 0.        , ..., 0.        , 0.        ,\n        0.        ],\n       [0.        , 0.        , 0.        , ..., 0.        , 0.        ,\n        0.        ]])"
     },
     "execution_count": 23,
     "metadata": {},
     "output_type": "execute_result"
    }
   ],
   "source": [
    "X_samp"
   ],
   "metadata": {
    "collapsed": false,
    "pycharm": {
     "name": "#%%\n"
    }
   }
  },
  {
   "cell_type": "code",
   "execution_count": 25,
   "outputs": [
    {
     "data": {
      "text/plain": "numpy.ndarray"
     },
     "execution_count": 25,
     "metadata": {},
     "output_type": "execute_result"
    }
   ],
   "source": [
    "type(X_samp)"
   ],
   "metadata": {
    "collapsed": false,
    "pycharm": {
     "name": "#%%\n"
    }
   }
  },
  {
   "cell_type": "code",
   "execution_count": 26,
   "outputs": [],
   "source": [
    "X_samp_series = pd.DataFrame(data=X_samp, columns=['duration', 'orig_bytes', 'resp_bytes', 'missed_bytes', 'orig_pkts', 'orig_ip_bytes', 'resp_pkts', 'resp_ip_bytes', 'proto_icmp', 'proto_tcp', 'proto_udp', 'service_-', 'service_dhcp', 'service_dns', 'service_http', 'service_ssh', 'service_ssl', 'service_irc', 'conn_state_OTH', 'conn_state_REJ', 'conn_state_RSTO', 'conn_state_RSTOS0', 'conn_state_RSTR', 'conn_state_RSTRH', 'conn_state_S0', 'conn_state_S1', 'conn_state_S2', 'conn_state_S3', 'conn_state_SF', 'conn_state_SH', 'conn_state_SHR'])\n",
    "Y_samp_series = pd.DataFrame(data=y_samp, columns=['category'])"
   ],
   "metadata": {
    "collapsed": false,
    "pycharm": {
     "name": "#%%\n"
    }
   }
  },
  {
   "cell_type": "code",
   "execution_count": 27,
   "outputs": [
    {
     "data": {
      "text/plain": "pandas.core.frame.DataFrame"
     },
     "execution_count": 27,
     "metadata": {},
     "output_type": "execute_result"
    }
   ],
   "source": [
    "type(X_samp_series)"
   ],
   "metadata": {
    "collapsed": false,
    "pycharm": {
     "name": "#%%\n"
    }
   }
  },
  {
   "cell_type": "code",
   "execution_count": 29,
   "outputs": [
    {
     "data": {
      "text/plain": "         duration  orig_bytes  resp_bytes  missed_bytes  orig_pkts  \\\n0        2.998796         0.0         0.0           0.0        3.0   \n1        0.000000         0.0         0.0           0.0        1.0   \n2        0.000000         0.0         0.0           0.0        1.0   \n3        2.998804         0.0         0.0           0.0        3.0   \n4        0.000000         0.0         0.0           0.0        1.0   \n...           ...         ...         ...           ...        ...   \n4725413  3.154209         0.0         0.0           0.0        3.0   \n4725414  0.000000         0.0         0.0           0.0        1.0   \n4725415  3.093752         0.0         0.0           0.0        3.0   \n4725416  0.000000         0.0         0.0           0.0        1.0   \n4725417  0.000000         0.0         0.0           0.0        1.0   \n\n         orig_ip_bytes  resp_pkts  resp_ip_bytes  proto_icmp  proto_tcp  ...  \\\n0                180.0        0.0            0.0         0.0        1.0  ...   \n1                 60.0        0.0            0.0         0.0        1.0  ...   \n2                 60.0        0.0            0.0         0.0        1.0  ...   \n3                180.0        0.0            0.0         0.0        1.0  ...   \n4                 60.0        0.0            0.0         0.0        1.0  ...   \n...                ...        ...            ...         ...        ...  ...   \n4725413          180.0        0.0            0.0         0.0        1.0  ...   \n4725414           60.0        0.0            0.0         0.0        1.0  ...   \n4725415          180.0        0.0            0.0         0.0        1.0  ...   \n4725416           60.0        0.0            0.0         0.0        1.0  ...   \n4725417           60.0        0.0            0.0         0.0        1.0  ...   \n\n         conn_state_RSTR  conn_state_RSTRH  conn_state_S0  conn_state_S1  \\\n0                    0.0               0.0            1.0            0.0   \n1                    0.0               0.0            1.0            0.0   \n2                    0.0               0.0            1.0            0.0   \n3                    0.0               0.0            1.0            0.0   \n4                    0.0               0.0            1.0            0.0   \n...                  ...               ...            ...            ...   \n4725413              0.0               0.0            1.0            0.0   \n4725414              0.0               0.0            1.0            0.0   \n4725415              0.0               0.0            1.0            0.0   \n4725416              0.0               0.0            1.0            0.0   \n4725417              0.0               0.0            1.0            0.0   \n\n         conn_state_S2  conn_state_S3  conn_state_SF  conn_state_SH  category  \\\n0                  0.0            0.0            0.0            0.0   Malware   \n1                  0.0            0.0            0.0            0.0   Malware   \n2                  0.0            0.0            0.0            0.0   Malware   \n3                  0.0            0.0            0.0            0.0    Benign   \n4                  0.0            0.0            0.0            0.0    Benign   \n...                ...            ...            ...            ...       ...   \n4725413            0.0            0.0            0.0            0.0    Benign   \n4725414            0.0            0.0            0.0            0.0    Benign   \n4725415            0.0            0.0            0.0            0.0    Benign   \n4725416            0.0            0.0            0.0            0.0    Benign   \n4725417            0.0            0.0            0.0            0.0    Benign   \n\n         conn_state_SHR  \n0                   0.0  \n1                   0.0  \n2                   0.0  \n3                   0.0  \n4                   0.0  \n...                 ...  \n4725413             0.0  \n4725414             0.0  \n4725415             0.0  \n4725416             0.0  \n4725417             0.0  \n\n[4725418 rows x 32 columns]",
      "text/html": "<div>\n<style scoped>\n    .dataframe tbody tr th:only-of-type {\n        vertical-align: middle;\n    }\n\n    .dataframe tbody tr th {\n        vertical-align: top;\n    }\n\n    .dataframe thead th {\n        text-align: right;\n    }\n</style>\n<table border=\"1\" class=\"dataframe\">\n  <thead>\n    <tr style=\"text-align: right;\">\n      <th></th>\n      <th>duration</th>\n      <th>orig_bytes</th>\n      <th>resp_bytes</th>\n      <th>missed_bytes</th>\n      <th>orig_pkts</th>\n      <th>orig_ip_bytes</th>\n      <th>resp_pkts</th>\n      <th>resp_ip_bytes</th>\n      <th>proto_icmp</th>\n      <th>proto_tcp</th>\n      <th>...</th>\n      <th>conn_state_RSTR</th>\n      <th>conn_state_RSTRH</th>\n      <th>conn_state_S0</th>\n      <th>conn_state_S1</th>\n      <th>conn_state_S2</th>\n      <th>conn_state_S3</th>\n      <th>conn_state_SF</th>\n      <th>conn_state_SH</th>\n      <th>category</th>\n      <th>conn_state_SHR</th>\n    </tr>\n  </thead>\n  <tbody>\n    <tr>\n      <th>0</th>\n      <td>2.998796</td>\n      <td>0.0</td>\n      <td>0.0</td>\n      <td>0.0</td>\n      <td>3.0</td>\n      <td>180.0</td>\n      <td>0.0</td>\n      <td>0.0</td>\n      <td>0.0</td>\n      <td>1.0</td>\n      <td>...</td>\n      <td>0.0</td>\n      <td>0.0</td>\n      <td>1.0</td>\n      <td>0.0</td>\n      <td>0.0</td>\n      <td>0.0</td>\n      <td>0.0</td>\n      <td>0.0</td>\n      <td>Malware</td>\n      <td>0.0</td>\n    </tr>\n    <tr>\n      <th>1</th>\n      <td>0.000000</td>\n      <td>0.0</td>\n      <td>0.0</td>\n      <td>0.0</td>\n      <td>1.0</td>\n      <td>60.0</td>\n      <td>0.0</td>\n      <td>0.0</td>\n      <td>0.0</td>\n      <td>1.0</td>\n      <td>...</td>\n      <td>0.0</td>\n      <td>0.0</td>\n      <td>1.0</td>\n      <td>0.0</td>\n      <td>0.0</td>\n      <td>0.0</td>\n      <td>0.0</td>\n      <td>0.0</td>\n      <td>Malware</td>\n      <td>0.0</td>\n    </tr>\n    <tr>\n      <th>2</th>\n      <td>0.000000</td>\n      <td>0.0</td>\n      <td>0.0</td>\n      <td>0.0</td>\n      <td>1.0</td>\n      <td>60.0</td>\n      <td>0.0</td>\n      <td>0.0</td>\n      <td>0.0</td>\n      <td>1.0</td>\n      <td>...</td>\n      <td>0.0</td>\n      <td>0.0</td>\n      <td>1.0</td>\n      <td>0.0</td>\n      <td>0.0</td>\n      <td>0.0</td>\n      <td>0.0</td>\n      <td>0.0</td>\n      <td>Malware</td>\n      <td>0.0</td>\n    </tr>\n    <tr>\n      <th>3</th>\n      <td>2.998804</td>\n      <td>0.0</td>\n      <td>0.0</td>\n      <td>0.0</td>\n      <td>3.0</td>\n      <td>180.0</td>\n      <td>0.0</td>\n      <td>0.0</td>\n      <td>0.0</td>\n      <td>1.0</td>\n      <td>...</td>\n      <td>0.0</td>\n      <td>0.0</td>\n      <td>1.0</td>\n      <td>0.0</td>\n      <td>0.0</td>\n      <td>0.0</td>\n      <td>0.0</td>\n      <td>0.0</td>\n      <td>Benign</td>\n      <td>0.0</td>\n    </tr>\n    <tr>\n      <th>4</th>\n      <td>0.000000</td>\n      <td>0.0</td>\n      <td>0.0</td>\n      <td>0.0</td>\n      <td>1.0</td>\n      <td>60.0</td>\n      <td>0.0</td>\n      <td>0.0</td>\n      <td>0.0</td>\n      <td>1.0</td>\n      <td>...</td>\n      <td>0.0</td>\n      <td>0.0</td>\n      <td>1.0</td>\n      <td>0.0</td>\n      <td>0.0</td>\n      <td>0.0</td>\n      <td>0.0</td>\n      <td>0.0</td>\n      <td>Benign</td>\n      <td>0.0</td>\n    </tr>\n    <tr>\n      <th>...</th>\n      <td>...</td>\n      <td>...</td>\n      <td>...</td>\n      <td>...</td>\n      <td>...</td>\n      <td>...</td>\n      <td>...</td>\n      <td>...</td>\n      <td>...</td>\n      <td>...</td>\n      <td>...</td>\n      <td>...</td>\n      <td>...</td>\n      <td>...</td>\n      <td>...</td>\n      <td>...</td>\n      <td>...</td>\n      <td>...</td>\n      <td>...</td>\n      <td>...</td>\n      <td>...</td>\n    </tr>\n    <tr>\n      <th>4725413</th>\n      <td>3.154209</td>\n      <td>0.0</td>\n      <td>0.0</td>\n      <td>0.0</td>\n      <td>3.0</td>\n      <td>180.0</td>\n      <td>0.0</td>\n      <td>0.0</td>\n      <td>0.0</td>\n      <td>1.0</td>\n      <td>...</td>\n      <td>0.0</td>\n      <td>0.0</td>\n      <td>1.0</td>\n      <td>0.0</td>\n      <td>0.0</td>\n      <td>0.0</td>\n      <td>0.0</td>\n      <td>0.0</td>\n      <td>Benign</td>\n      <td>0.0</td>\n    </tr>\n    <tr>\n      <th>4725414</th>\n      <td>0.000000</td>\n      <td>0.0</td>\n      <td>0.0</td>\n      <td>0.0</td>\n      <td>1.0</td>\n      <td>60.0</td>\n      <td>0.0</td>\n      <td>0.0</td>\n      <td>0.0</td>\n      <td>1.0</td>\n      <td>...</td>\n      <td>0.0</td>\n      <td>0.0</td>\n      <td>1.0</td>\n      <td>0.0</td>\n      <td>0.0</td>\n      <td>0.0</td>\n      <td>0.0</td>\n      <td>0.0</td>\n      <td>Benign</td>\n      <td>0.0</td>\n    </tr>\n    <tr>\n      <th>4725415</th>\n      <td>3.093752</td>\n      <td>0.0</td>\n      <td>0.0</td>\n      <td>0.0</td>\n      <td>3.0</td>\n      <td>180.0</td>\n      <td>0.0</td>\n      <td>0.0</td>\n      <td>0.0</td>\n      <td>1.0</td>\n      <td>...</td>\n      <td>0.0</td>\n      <td>0.0</td>\n      <td>1.0</td>\n      <td>0.0</td>\n      <td>0.0</td>\n      <td>0.0</td>\n      <td>0.0</td>\n      <td>0.0</td>\n      <td>Benign</td>\n      <td>0.0</td>\n    </tr>\n    <tr>\n      <th>4725416</th>\n      <td>0.000000</td>\n      <td>0.0</td>\n      <td>0.0</td>\n      <td>0.0</td>\n      <td>1.0</td>\n      <td>60.0</td>\n      <td>0.0</td>\n      <td>0.0</td>\n      <td>0.0</td>\n      <td>1.0</td>\n      <td>...</td>\n      <td>0.0</td>\n      <td>0.0</td>\n      <td>1.0</td>\n      <td>0.0</td>\n      <td>0.0</td>\n      <td>0.0</td>\n      <td>0.0</td>\n      <td>0.0</td>\n      <td>Benign</td>\n      <td>0.0</td>\n    </tr>\n    <tr>\n      <th>4725417</th>\n      <td>0.000000</td>\n      <td>0.0</td>\n      <td>0.0</td>\n      <td>0.0</td>\n      <td>1.0</td>\n      <td>60.0</td>\n      <td>0.0</td>\n      <td>0.0</td>\n      <td>0.0</td>\n      <td>1.0</td>\n      <td>...</td>\n      <td>0.0</td>\n      <td>0.0</td>\n      <td>1.0</td>\n      <td>0.0</td>\n      <td>0.0</td>\n      <td>0.0</td>\n      <td>0.0</td>\n      <td>0.0</td>\n      <td>Benign</td>\n      <td>0.0</td>\n    </tr>\n  </tbody>\n</table>\n<p>4725418 rows × 32 columns</p>\n</div>"
     },
     "execution_count": 29,
     "metadata": {},
     "output_type": "execute_result"
    }
   ],
   "source": [
    "import numpy as np\n",
    "columns = X_samp_series.columns.tolist()\n",
    "columns.insert(-1,'category')\n",
    "data = X_samp_series.reindex(columns = columns)\n",
    "data['category'] = Y_samp_series\n",
    "data"
   ],
   "metadata": {
    "collapsed": false,
    "pycharm": {
     "name": "#%%\n"
    }
   }
  },
  {
   "cell_type": "code",
   "execution_count": null,
   "outputs": [],
   "source": [
    "data.to_csv('./iot23_combined_oversample.csv', sep = ',')"
   ],
   "metadata": {
    "collapsed": false,
    "pycharm": {
     "name": "#%%\n"
    }
   }
  },
  {
   "cell_type": "markdown",
   "source": [
    "## get train_csv and test_csv"
   ],
   "metadata": {
    "collapsed": false
   }
  },
  {
   "cell_type": "code",
   "execution_count": 1,
   "outputs": [
    {
     "data": {
      "text/plain": "Malware    2362709\nBenign     2362709\nName: category, dtype: int64"
     },
     "execution_count": 1,
     "metadata": {},
     "output_type": "execute_result"
    }
   ],
   "source": [
    "import pandas as pd\n",
    "from sklearn.model_selection import train_test_split\n",
    "\n",
    "filepath = \"./iot23_combined_oversample.csv\"\n",
    "df = pd.read_csv(filepath)\n",
    "del df['Unnamed: 0']\n",
    "df['category'].value_counts()"
   ],
   "metadata": {
    "collapsed": false,
    "pycharm": {
     "name": "#%%\n"
    }
   }
  },
  {
   "cell_type": "code",
   "execution_count": 14,
   "outputs": [
    {
     "data": {
      "text/plain": "(numpy.ndarray, numpy.ndarray)"
     },
     "execution_count": 14,
     "metadata": {},
     "output_type": "execute_result"
    }
   ],
   "source": [],
   "metadata": {
    "collapsed": false,
    "pycharm": {
     "name": "#%%\n"
    }
   }
  },
  {
   "cell_type": "code",
   "execution_count": 1,
   "outputs": [
    {
     "data": {
      "text/plain": "pandas.core.frame.DataFrame"
     },
     "execution_count": 1,
     "metadata": {},
     "output_type": "execute_result"
    }
   ],
   "source": [
    "import smote_variants as sv\n",
    "import pandas as pd\n",
    "from sklearn.model_selection import train_test_split\n",
    "\n",
    "filepath = \"./iot23_combined_oversample.csv\"\n",
    "df = pd.read_csv(filepath)\n",
    "del df['Unnamed: 0']\n",
    "X = df[['duration', 'orig_bytes', 'resp_bytes', 'missed_bytes', 'orig_pkts', 'orig_ip_bytes', 'resp_pkts', 'resp_ip_bytes', 'proto_icmp', 'proto_tcp', 'proto_udp', 'service_-', 'service_dhcp', 'service_dns', 'service_http', 'service_ssh', 'service_ssl', 'service_irc', 'conn_state_OTH', 'conn_state_REJ', 'conn_state_RSTO', 'conn_state_RSTOS0', 'conn_state_RSTR', 'conn_state_RSTRH', 'conn_state_S0', 'conn_state_S1', 'conn_state_S2', 'conn_state_S3', 'conn_state_SF', 'conn_state_SH', 'conn_state_SHR']]\n",
    "Y = df['category']\n",
    "X_train, X_test, Y_train, Y_test = train_test_split(X, Y, random_state=100, test_size=0.2)\n",
    "type(X_train)"
   ],
   "metadata": {
    "collapsed": false,
    "pycharm": {
     "name": "#%%\n"
    }
   }
  },
  {
   "cell_type": "code",
   "execution_count": 2,
   "outputs": [],
   "source": [
    "train_data = \"./Data/split/train_data.csv\"\n",
    "test_data = './Data/split/test_data.csv'\n",
    "pd.concat([X_train,Y_train], axis=1).to_csv(train_data, index=False, encoding='utf-8')\n",
    "pd.concat([X_test,Y_test], axis=1).to_csv(test_data, index=False, encoding='utf-8')"
   ],
   "metadata": {
    "collapsed": false,
    "pycharm": {
     "name": "#%%\n"
    }
   }
  },
  {
   "cell_type": "markdown",
   "source": [
    "## balance all labels"
   ],
   "metadata": {
    "collapsed": false
   }
  },
  {
   "cell_type": "code",
   "execution_count": 23,
   "outputs": [],
   "source": [
    "filepath = \"/media/wuguo-buaa/LENOVO_USB_HDD/iot-data/iot_23_datasets_small/opt/Malware-Project/BigDataset/attacks/\"\n",
    "frame=[]"
   ],
   "metadata": {
    "collapsed": false,
    "pycharm": {
     "name": "#%%\n"
    }
   }
  },
  {
   "cell_type": "code",
   "execution_count": 24,
   "outputs": [
    {
     "name": "stdout",
     "output_type": "stream",
     "text": [
      "PartOfAHorizontalPortScan-Attack.csv 115\n",
      "Attack.csv 216154\n",
      "Benign.csv 29440000\n",
      "C&C-FileDownload.csv 1219\n",
      "C&C-HeartBeat-Attack.csv 19182\n",
      "C&C-HeartBeat-FileDownload.csv 253\n",
      "C&C-HeartBeat.csv 774479\n",
      "C&C-Mirai.csv 46\n",
      "C&C-PartOfAHorizontalPortScan.csv 20424\n",
      "C&C-Torii.csv 690\n",
      "C&C.csv 505885\n",
      "DDoS.csv 29440000\n",
      "FileDownload.csv 414\n",
      "Okiru-Attack.csv 69\n",
      "Okiru.csv 29440000\n",
      "PartOfAHorizontalPortScan.csv 29440000\n"
     ]
    }
   ],
   "source": [
    "import os\n",
    "import pandas as pd\n",
    "for file in os.listdir(filepath):\n",
    "    df = pd.read_csv(filepath_or_buffer=filepath+file, nrows=1280000)\n",
    "    print(file,df.size)\n",
    "    df.columns=['ts',\n",
    "              'uid',\n",
    "              'id.orig_h',\n",
    "              'id.orig_p',\n",
    "              'id.resp_h',\n",
    "              'id.resp_p',\n",
    "              'proto',\n",
    "              'service',\n",
    "              'duration',\n",
    "              'orig_bytes',\n",
    "              'resp_bytes',\n",
    "              'conn_state',\n",
    "              'local_orig',\n",
    "              'local_resp',\n",
    "              'missed_bytes',\n",
    "              'history',\n",
    "              'orig_pkts',\n",
    "              'orig_ip_bytes',\n",
    "              'resp_pkts',\n",
    "              'resp_ip_bytes',\n",
    "              'tunnel_parents',\n",
    "              'label',\n",
    "              'detailed-label']\n",
    "    frame.append(df)"
   ],
   "metadata": {
    "collapsed": false,
    "pycharm": {
     "name": "#%%\n"
    }
   }
  },
  {
   "cell_type": "code",
   "execution_count": 25,
   "outputs": [
    {
     "data": {
      "text/plain": "                   ts                 uid        id.orig_h  id.orig_p  \\\n0        1.536232e+09   Cclf5csP6MCXyhtcl  192.168.100.111      35942   \n1        1.536232e+09   CCR0QuYQXWIcQTkS4  192.168.100.111      35948   \n2        1.536232e+09  CkXiVz30xBnLnZqFq1  192.168.100.111      35940   \n3        1.536232e+09  CXrpjx3oDQaoBxnm5h  192.168.100.111      35944   \n4        1.536232e+09  CGPQkb1TWn2Yhobxbg  192.168.100.111      35950   \n...               ...                 ...              ...        ...   \n1279995  1.547073e+09  C0Fy4T30CYlaM45Mj8    192.168.1.194      36191   \n1279996  1.536305e+09  CBiVsY1eITpAspSJs1  192.168.100.111      17576   \n1279997  1.547145e+09  CIOR0f4oLGjHge7L68    192.168.1.198      54836   \n1279998  1.545413e+09  CSRRVP37YaeJ5Yc3kj    192.168.1.197      38114   \n1279999  1.547068e+09   CFInUcXtsslWcSmV8    192.168.1.194      60802   \n\n             id.resp_h  id.resp_p proto service  duration orig_bytes  \\\n0        69.255.24.137       8080   tcp       -  3.149707          0   \n1        69.255.24.137       8080   tcp       -  3.108733          0   \n2        69.255.24.137       8080   tcp       -  3.121722          0   \n3        69.255.24.137       8080   tcp       -  3.126213          0   \n4        69.255.24.137       8080   tcp       -  3.147709          0   \n...                ...        ...   ...     ...       ...        ...   \n1279995    159.7.83.70         22   tcp       -         -          -   \n1279996     91.40.55.4       8081   tcp       -  0.000005          0   \n1279997  185.25.86.103      52869   tcp       -         -          -   \n1279998  153.61.255.66       8081   tcp       -         -          -   \n1279999   52.238.40.12         22   tcp       -         -          -   \n\n        resp_bytes conn_state local_orig local_resp  missed_bytes history  \\\n0                0         S0          -          -             0       S   \n1                0         S0          -          -             0       S   \n2                0         S0          -          -             0       S   \n3                0         S0          -          -             0       S   \n4                0         S0          -          -             0       S   \n...            ...        ...        ...        ...           ...     ...   \n1279995          -         S0          -          -             0       S   \n1279996          0         S0          -          -             0       S   \n1279997          -         S0          -          -             0       S   \n1279998          -         S0          -          -             0       S   \n1279999          -         S0          -          -             0       S   \n\n         orig_pkts  orig_ip_bytes  resp_pkts  resp_ip_bytes tunnel_parents  \\\n0                6            360          0              0              -   \n1                6            360          0              0              -   \n2                6            360          0              0              -   \n3                6            360          0              0              -   \n4                6            360          0              0              -   \n...            ...            ...        ...            ...            ...   \n1279995          1             40          0              0              -   \n1279996          2             80          0              0              -   \n1279997          1             40          0              0              -   \n1279998          1             40          0              0              -   \n1279999          1             40          0              0              -   \n\n             label                    detailed-label  \n0        Malicious  PartOfAHorizontalPortScan-Attack  \n1        Malicious  PartOfAHorizontalPortScan-Attack  \n2        Malicious  PartOfAHorizontalPortScan-Attack  \n3        Malicious  PartOfAHorizontalPortScan-Attack  \n4        Malicious  PartOfAHorizontalPortScan-Attack  \n...            ...                               ...  \n1279995  Malicious         PartOfAHorizontalPortScan  \n1279996  Malicious         PartOfAHorizontalPortScan  \n1279997  Malicious         PartOfAHorizontalPortScan  \n1279998  Malicious         PartOfAHorizontalPortScan  \n1279999  Malicious         PartOfAHorizontalPortScan  \n\n[5186910 rows x 23 columns]",
      "text/html": "<div>\n<style scoped>\n    .dataframe tbody tr th:only-of-type {\n        vertical-align: middle;\n    }\n\n    .dataframe tbody tr th {\n        vertical-align: top;\n    }\n\n    .dataframe thead th {\n        text-align: right;\n    }\n</style>\n<table border=\"1\" class=\"dataframe\">\n  <thead>\n    <tr style=\"text-align: right;\">\n      <th></th>\n      <th>ts</th>\n      <th>uid</th>\n      <th>id.orig_h</th>\n      <th>id.orig_p</th>\n      <th>id.resp_h</th>\n      <th>id.resp_p</th>\n      <th>proto</th>\n      <th>service</th>\n      <th>duration</th>\n      <th>orig_bytes</th>\n      <th>resp_bytes</th>\n      <th>conn_state</th>\n      <th>local_orig</th>\n      <th>local_resp</th>\n      <th>missed_bytes</th>\n      <th>history</th>\n      <th>orig_pkts</th>\n      <th>orig_ip_bytes</th>\n      <th>resp_pkts</th>\n      <th>resp_ip_bytes</th>\n      <th>tunnel_parents</th>\n      <th>label</th>\n      <th>detailed-label</th>\n    </tr>\n  </thead>\n  <tbody>\n    <tr>\n      <th>0</th>\n      <td>1.536232e+09</td>\n      <td>Cclf5csP6MCXyhtcl</td>\n      <td>192.168.100.111</td>\n      <td>35942</td>\n      <td>69.255.24.137</td>\n      <td>8080</td>\n      <td>tcp</td>\n      <td>-</td>\n      <td>3.149707</td>\n      <td>0</td>\n      <td>0</td>\n      <td>S0</td>\n      <td>-</td>\n      <td>-</td>\n      <td>0</td>\n      <td>S</td>\n      <td>6</td>\n      <td>360</td>\n      <td>0</td>\n      <td>0</td>\n      <td>-</td>\n      <td>Malicious</td>\n      <td>PartOfAHorizontalPortScan-Attack</td>\n    </tr>\n    <tr>\n      <th>1</th>\n      <td>1.536232e+09</td>\n      <td>CCR0QuYQXWIcQTkS4</td>\n      <td>192.168.100.111</td>\n      <td>35948</td>\n      <td>69.255.24.137</td>\n      <td>8080</td>\n      <td>tcp</td>\n      <td>-</td>\n      <td>3.108733</td>\n      <td>0</td>\n      <td>0</td>\n      <td>S0</td>\n      <td>-</td>\n      <td>-</td>\n      <td>0</td>\n      <td>S</td>\n      <td>6</td>\n      <td>360</td>\n      <td>0</td>\n      <td>0</td>\n      <td>-</td>\n      <td>Malicious</td>\n      <td>PartOfAHorizontalPortScan-Attack</td>\n    </tr>\n    <tr>\n      <th>2</th>\n      <td>1.536232e+09</td>\n      <td>CkXiVz30xBnLnZqFq1</td>\n      <td>192.168.100.111</td>\n      <td>35940</td>\n      <td>69.255.24.137</td>\n      <td>8080</td>\n      <td>tcp</td>\n      <td>-</td>\n      <td>3.121722</td>\n      <td>0</td>\n      <td>0</td>\n      <td>S0</td>\n      <td>-</td>\n      <td>-</td>\n      <td>0</td>\n      <td>S</td>\n      <td>6</td>\n      <td>360</td>\n      <td>0</td>\n      <td>0</td>\n      <td>-</td>\n      <td>Malicious</td>\n      <td>PartOfAHorizontalPortScan-Attack</td>\n    </tr>\n    <tr>\n      <th>3</th>\n      <td>1.536232e+09</td>\n      <td>CXrpjx3oDQaoBxnm5h</td>\n      <td>192.168.100.111</td>\n      <td>35944</td>\n      <td>69.255.24.137</td>\n      <td>8080</td>\n      <td>tcp</td>\n      <td>-</td>\n      <td>3.126213</td>\n      <td>0</td>\n      <td>0</td>\n      <td>S0</td>\n      <td>-</td>\n      <td>-</td>\n      <td>0</td>\n      <td>S</td>\n      <td>6</td>\n      <td>360</td>\n      <td>0</td>\n      <td>0</td>\n      <td>-</td>\n      <td>Malicious</td>\n      <td>PartOfAHorizontalPortScan-Attack</td>\n    </tr>\n    <tr>\n      <th>4</th>\n      <td>1.536232e+09</td>\n      <td>CGPQkb1TWn2Yhobxbg</td>\n      <td>192.168.100.111</td>\n      <td>35950</td>\n      <td>69.255.24.137</td>\n      <td>8080</td>\n      <td>tcp</td>\n      <td>-</td>\n      <td>3.147709</td>\n      <td>0</td>\n      <td>0</td>\n      <td>S0</td>\n      <td>-</td>\n      <td>-</td>\n      <td>0</td>\n      <td>S</td>\n      <td>6</td>\n      <td>360</td>\n      <td>0</td>\n      <td>0</td>\n      <td>-</td>\n      <td>Malicious</td>\n      <td>PartOfAHorizontalPortScan-Attack</td>\n    </tr>\n    <tr>\n      <th>...</th>\n      <td>...</td>\n      <td>...</td>\n      <td>...</td>\n      <td>...</td>\n      <td>...</td>\n      <td>...</td>\n      <td>...</td>\n      <td>...</td>\n      <td>...</td>\n      <td>...</td>\n      <td>...</td>\n      <td>...</td>\n      <td>...</td>\n      <td>...</td>\n      <td>...</td>\n      <td>...</td>\n      <td>...</td>\n      <td>...</td>\n      <td>...</td>\n      <td>...</td>\n      <td>...</td>\n      <td>...</td>\n      <td>...</td>\n    </tr>\n    <tr>\n      <th>1279995</th>\n      <td>1.547073e+09</td>\n      <td>C0Fy4T30CYlaM45Mj8</td>\n      <td>192.168.1.194</td>\n      <td>36191</td>\n      <td>159.7.83.70</td>\n      <td>22</td>\n      <td>tcp</td>\n      <td>-</td>\n      <td>-</td>\n      <td>-</td>\n      <td>-</td>\n      <td>S0</td>\n      <td>-</td>\n      <td>-</td>\n      <td>0</td>\n      <td>S</td>\n      <td>1</td>\n      <td>40</td>\n      <td>0</td>\n      <td>0</td>\n      <td>-</td>\n      <td>Malicious</td>\n      <td>PartOfAHorizontalPortScan</td>\n    </tr>\n    <tr>\n      <th>1279996</th>\n      <td>1.536305e+09</td>\n      <td>CBiVsY1eITpAspSJs1</td>\n      <td>192.168.100.111</td>\n      <td>17576</td>\n      <td>91.40.55.4</td>\n      <td>8081</td>\n      <td>tcp</td>\n      <td>-</td>\n      <td>0.000005</td>\n      <td>0</td>\n      <td>0</td>\n      <td>S0</td>\n      <td>-</td>\n      <td>-</td>\n      <td>0</td>\n      <td>S</td>\n      <td>2</td>\n      <td>80</td>\n      <td>0</td>\n      <td>0</td>\n      <td>-</td>\n      <td>Malicious</td>\n      <td>PartOfAHorizontalPortScan</td>\n    </tr>\n    <tr>\n      <th>1279997</th>\n      <td>1.547145e+09</td>\n      <td>CIOR0f4oLGjHge7L68</td>\n      <td>192.168.1.198</td>\n      <td>54836</td>\n      <td>185.25.86.103</td>\n      <td>52869</td>\n      <td>tcp</td>\n      <td>-</td>\n      <td>-</td>\n      <td>-</td>\n      <td>-</td>\n      <td>S0</td>\n      <td>-</td>\n      <td>-</td>\n      <td>0</td>\n      <td>S</td>\n      <td>1</td>\n      <td>40</td>\n      <td>0</td>\n      <td>0</td>\n      <td>-</td>\n      <td>Malicious</td>\n      <td>PartOfAHorizontalPortScan</td>\n    </tr>\n    <tr>\n      <th>1279998</th>\n      <td>1.545413e+09</td>\n      <td>CSRRVP37YaeJ5Yc3kj</td>\n      <td>192.168.1.197</td>\n      <td>38114</td>\n      <td>153.61.255.66</td>\n      <td>8081</td>\n      <td>tcp</td>\n      <td>-</td>\n      <td>-</td>\n      <td>-</td>\n      <td>-</td>\n      <td>S0</td>\n      <td>-</td>\n      <td>-</td>\n      <td>0</td>\n      <td>S</td>\n      <td>1</td>\n      <td>40</td>\n      <td>0</td>\n      <td>0</td>\n      <td>-</td>\n      <td>Malicious</td>\n      <td>PartOfAHorizontalPortScan</td>\n    </tr>\n    <tr>\n      <th>1279999</th>\n      <td>1.547068e+09</td>\n      <td>CFInUcXtsslWcSmV8</td>\n      <td>192.168.1.194</td>\n      <td>60802</td>\n      <td>52.238.40.12</td>\n      <td>22</td>\n      <td>tcp</td>\n      <td>-</td>\n      <td>-</td>\n      <td>-</td>\n      <td>-</td>\n      <td>S0</td>\n      <td>-</td>\n      <td>-</td>\n      <td>0</td>\n      <td>S</td>\n      <td>1</td>\n      <td>40</td>\n      <td>0</td>\n      <td>0</td>\n      <td>-</td>\n      <td>Malicious</td>\n      <td>PartOfAHorizontalPortScan</td>\n    </tr>\n  </tbody>\n</table>\n<p>5186910 rows × 23 columns</p>\n</div>"
     },
     "execution_count": 25,
     "metadata": {},
     "output_type": "execute_result"
    }
   ],
   "source": [
    "df_c=pd.concat(frame)\n",
    "df_c"
   ],
   "metadata": {
    "collapsed": false,
    "pycharm": {
     "name": "#%%\n"
    }
   }
  },
  {
   "cell_type": "code",
   "execution_count": 26,
   "outputs": [
    {
     "data": {
      "text/plain": "                   ts                 uid        id.orig_h  id.orig_p  \\\n0        1.536232e+09   Cclf5csP6MCXyhtcl  192.168.100.111      35942   \n1        1.536232e+09   CCR0QuYQXWIcQTkS4  192.168.100.111      35948   \n2        1.536232e+09  CkXiVz30xBnLnZqFq1  192.168.100.111      35940   \n3        1.536232e+09  CXrpjx3oDQaoBxnm5h  192.168.100.111      35944   \n4        1.536232e+09  CGPQkb1TWn2Yhobxbg  192.168.100.111      35950   \n...               ...                 ...              ...        ...   \n1279995  1.547073e+09  C0Fy4T30CYlaM45Mj8    192.168.1.194      36191   \n1279996  1.536305e+09  CBiVsY1eITpAspSJs1  192.168.100.111      17576   \n1279997  1.547145e+09  CIOR0f4oLGjHge7L68    192.168.1.198      54836   \n1279998  1.545413e+09  CSRRVP37YaeJ5Yc3kj    192.168.1.197      38114   \n1279999  1.547068e+09   CFInUcXtsslWcSmV8    192.168.1.194      60802   \n\n             id.resp_h  id.resp_p proto service  duration orig_bytes  \\\n0        69.255.24.137       8080   tcp       -  3.149707          0   \n1        69.255.24.137       8080   tcp       -  3.108733          0   \n2        69.255.24.137       8080   tcp       -  3.121722          0   \n3        69.255.24.137       8080   tcp       -  3.126213          0   \n4        69.255.24.137       8080   tcp       -  3.147709          0   \n...                ...        ...   ...     ...       ...        ...   \n1279995    159.7.83.70         22   tcp       -         -          -   \n1279996     91.40.55.4       8081   tcp       -  0.000005          0   \n1279997  185.25.86.103      52869   tcp       -         -          -   \n1279998  153.61.255.66       8081   tcp       -         -          -   \n1279999   52.238.40.12         22   tcp       -         -          -   \n\n        resp_bytes conn_state local_orig local_resp  missed_bytes history  \\\n0                0         S0          -          -             0       S   \n1                0         S0          -          -             0       S   \n2                0         S0          -          -             0       S   \n3                0         S0          -          -             0       S   \n4                0         S0          -          -             0       S   \n...            ...        ...        ...        ...           ...     ...   \n1279995          -         S0          -          -             0       S   \n1279996          0         S0          -          -             0       S   \n1279997          -         S0          -          -             0       S   \n1279998          -         S0          -          -             0       S   \n1279999          -         S0          -          -             0       S   \n\n         orig_pkts  orig_ip_bytes  resp_pkts  resp_ip_bytes tunnel_parents  \\\n0                6            360          0              0              -   \n1                6            360          0              0              -   \n2                6            360          0              0              -   \n3                6            360          0              0              -   \n4                6            360          0              0              -   \n...            ...            ...        ...            ...            ...   \n1279995          1             40          0              0              -   \n1279996          2             80          0              0              -   \n1279997          1             40          0              0              -   \n1279998          1             40          0              0              -   \n1279999          1             40          0              0              -   \n\n             label                    detailed-label  \n0        Malicious  PartOfAHorizontalPortScan-Attack  \n1        Malicious  PartOfAHorizontalPortScan-Attack  \n2        Malicious  PartOfAHorizontalPortScan-Attack  \n3        Malicious  PartOfAHorizontalPortScan-Attack  \n4        Malicious  PartOfAHorizontalPortScan-Attack  \n...            ...                               ...  \n1279995  Malicious         PartOfAHorizontalPortScan  \n1279996  Malicious         PartOfAHorizontalPortScan  \n1279997  Malicious         PartOfAHorizontalPortScan  \n1279998  Malicious         PartOfAHorizontalPortScan  \n1279999  Malicious         PartOfAHorizontalPortScan  \n\n[3906910 rows x 23 columns]",
      "text/html": "<div>\n<style scoped>\n    .dataframe tbody tr th:only-of-type {\n        vertical-align: middle;\n    }\n\n    .dataframe tbody tr th {\n        vertical-align: top;\n    }\n\n    .dataframe thead th {\n        text-align: right;\n    }\n</style>\n<table border=\"1\" class=\"dataframe\">\n  <thead>\n    <tr style=\"text-align: right;\">\n      <th></th>\n      <th>ts</th>\n      <th>uid</th>\n      <th>id.orig_h</th>\n      <th>id.orig_p</th>\n      <th>id.resp_h</th>\n      <th>id.resp_p</th>\n      <th>proto</th>\n      <th>service</th>\n      <th>duration</th>\n      <th>orig_bytes</th>\n      <th>resp_bytes</th>\n      <th>conn_state</th>\n      <th>local_orig</th>\n      <th>local_resp</th>\n      <th>missed_bytes</th>\n      <th>history</th>\n      <th>orig_pkts</th>\n      <th>orig_ip_bytes</th>\n      <th>resp_pkts</th>\n      <th>resp_ip_bytes</th>\n      <th>tunnel_parents</th>\n      <th>label</th>\n      <th>detailed-label</th>\n    </tr>\n  </thead>\n  <tbody>\n    <tr>\n      <th>0</th>\n      <td>1.536232e+09</td>\n      <td>Cclf5csP6MCXyhtcl</td>\n      <td>192.168.100.111</td>\n      <td>35942</td>\n      <td>69.255.24.137</td>\n      <td>8080</td>\n      <td>tcp</td>\n      <td>-</td>\n      <td>3.149707</td>\n      <td>0</td>\n      <td>0</td>\n      <td>S0</td>\n      <td>-</td>\n      <td>-</td>\n      <td>0</td>\n      <td>S</td>\n      <td>6</td>\n      <td>360</td>\n      <td>0</td>\n      <td>0</td>\n      <td>-</td>\n      <td>Malicious</td>\n      <td>PartOfAHorizontalPortScan-Attack</td>\n    </tr>\n    <tr>\n      <th>1</th>\n      <td>1.536232e+09</td>\n      <td>CCR0QuYQXWIcQTkS4</td>\n      <td>192.168.100.111</td>\n      <td>35948</td>\n      <td>69.255.24.137</td>\n      <td>8080</td>\n      <td>tcp</td>\n      <td>-</td>\n      <td>3.108733</td>\n      <td>0</td>\n      <td>0</td>\n      <td>S0</td>\n      <td>-</td>\n      <td>-</td>\n      <td>0</td>\n      <td>S</td>\n      <td>6</td>\n      <td>360</td>\n      <td>0</td>\n      <td>0</td>\n      <td>-</td>\n      <td>Malicious</td>\n      <td>PartOfAHorizontalPortScan-Attack</td>\n    </tr>\n    <tr>\n      <th>2</th>\n      <td>1.536232e+09</td>\n      <td>CkXiVz30xBnLnZqFq1</td>\n      <td>192.168.100.111</td>\n      <td>35940</td>\n      <td>69.255.24.137</td>\n      <td>8080</td>\n      <td>tcp</td>\n      <td>-</td>\n      <td>3.121722</td>\n      <td>0</td>\n      <td>0</td>\n      <td>S0</td>\n      <td>-</td>\n      <td>-</td>\n      <td>0</td>\n      <td>S</td>\n      <td>6</td>\n      <td>360</td>\n      <td>0</td>\n      <td>0</td>\n      <td>-</td>\n      <td>Malicious</td>\n      <td>PartOfAHorizontalPortScan-Attack</td>\n    </tr>\n    <tr>\n      <th>3</th>\n      <td>1.536232e+09</td>\n      <td>CXrpjx3oDQaoBxnm5h</td>\n      <td>192.168.100.111</td>\n      <td>35944</td>\n      <td>69.255.24.137</td>\n      <td>8080</td>\n      <td>tcp</td>\n      <td>-</td>\n      <td>3.126213</td>\n      <td>0</td>\n      <td>0</td>\n      <td>S0</td>\n      <td>-</td>\n      <td>-</td>\n      <td>0</td>\n      <td>S</td>\n      <td>6</td>\n      <td>360</td>\n      <td>0</td>\n      <td>0</td>\n      <td>-</td>\n      <td>Malicious</td>\n      <td>PartOfAHorizontalPortScan-Attack</td>\n    </tr>\n    <tr>\n      <th>4</th>\n      <td>1.536232e+09</td>\n      <td>CGPQkb1TWn2Yhobxbg</td>\n      <td>192.168.100.111</td>\n      <td>35950</td>\n      <td>69.255.24.137</td>\n      <td>8080</td>\n      <td>tcp</td>\n      <td>-</td>\n      <td>3.147709</td>\n      <td>0</td>\n      <td>0</td>\n      <td>S0</td>\n      <td>-</td>\n      <td>-</td>\n      <td>0</td>\n      <td>S</td>\n      <td>6</td>\n      <td>360</td>\n      <td>0</td>\n      <td>0</td>\n      <td>-</td>\n      <td>Malicious</td>\n      <td>PartOfAHorizontalPortScan-Attack</td>\n    </tr>\n    <tr>\n      <th>...</th>\n      <td>...</td>\n      <td>...</td>\n      <td>...</td>\n      <td>...</td>\n      <td>...</td>\n      <td>...</td>\n      <td>...</td>\n      <td>...</td>\n      <td>...</td>\n      <td>...</td>\n      <td>...</td>\n      <td>...</td>\n      <td>...</td>\n      <td>...</td>\n      <td>...</td>\n      <td>...</td>\n      <td>...</td>\n      <td>...</td>\n      <td>...</td>\n      <td>...</td>\n      <td>...</td>\n      <td>...</td>\n      <td>...</td>\n    </tr>\n    <tr>\n      <th>1279995</th>\n      <td>1.547073e+09</td>\n      <td>C0Fy4T30CYlaM45Mj8</td>\n      <td>192.168.1.194</td>\n      <td>36191</td>\n      <td>159.7.83.70</td>\n      <td>22</td>\n      <td>tcp</td>\n      <td>-</td>\n      <td>-</td>\n      <td>-</td>\n      <td>-</td>\n      <td>S0</td>\n      <td>-</td>\n      <td>-</td>\n      <td>0</td>\n      <td>S</td>\n      <td>1</td>\n      <td>40</td>\n      <td>0</td>\n      <td>0</td>\n      <td>-</td>\n      <td>Malicious</td>\n      <td>PartOfAHorizontalPortScan</td>\n    </tr>\n    <tr>\n      <th>1279996</th>\n      <td>1.536305e+09</td>\n      <td>CBiVsY1eITpAspSJs1</td>\n      <td>192.168.100.111</td>\n      <td>17576</td>\n      <td>91.40.55.4</td>\n      <td>8081</td>\n      <td>tcp</td>\n      <td>-</td>\n      <td>0.000005</td>\n      <td>0</td>\n      <td>0</td>\n      <td>S0</td>\n      <td>-</td>\n      <td>-</td>\n      <td>0</td>\n      <td>S</td>\n      <td>2</td>\n      <td>80</td>\n      <td>0</td>\n      <td>0</td>\n      <td>-</td>\n      <td>Malicious</td>\n      <td>PartOfAHorizontalPortScan</td>\n    </tr>\n    <tr>\n      <th>1279997</th>\n      <td>1.547145e+09</td>\n      <td>CIOR0f4oLGjHge7L68</td>\n      <td>192.168.1.198</td>\n      <td>54836</td>\n      <td>185.25.86.103</td>\n      <td>52869</td>\n      <td>tcp</td>\n      <td>-</td>\n      <td>-</td>\n      <td>-</td>\n      <td>-</td>\n      <td>S0</td>\n      <td>-</td>\n      <td>-</td>\n      <td>0</td>\n      <td>S</td>\n      <td>1</td>\n      <td>40</td>\n      <td>0</td>\n      <td>0</td>\n      <td>-</td>\n      <td>Malicious</td>\n      <td>PartOfAHorizontalPortScan</td>\n    </tr>\n    <tr>\n      <th>1279998</th>\n      <td>1.545413e+09</td>\n      <td>CSRRVP37YaeJ5Yc3kj</td>\n      <td>192.168.1.197</td>\n      <td>38114</td>\n      <td>153.61.255.66</td>\n      <td>8081</td>\n      <td>tcp</td>\n      <td>-</td>\n      <td>-</td>\n      <td>-</td>\n      <td>-</td>\n      <td>S0</td>\n      <td>-</td>\n      <td>-</td>\n      <td>0</td>\n      <td>S</td>\n      <td>1</td>\n      <td>40</td>\n      <td>0</td>\n      <td>0</td>\n      <td>-</td>\n      <td>Malicious</td>\n      <td>PartOfAHorizontalPortScan</td>\n    </tr>\n    <tr>\n      <th>1279999</th>\n      <td>1.547068e+09</td>\n      <td>CFInUcXtsslWcSmV8</td>\n      <td>192.168.1.194</td>\n      <td>60802</td>\n      <td>52.238.40.12</td>\n      <td>22</td>\n      <td>tcp</td>\n      <td>-</td>\n      <td>-</td>\n      <td>-</td>\n      <td>-</td>\n      <td>S0</td>\n      <td>-</td>\n      <td>-</td>\n      <td>0</td>\n      <td>S</td>\n      <td>1</td>\n      <td>40</td>\n      <td>0</td>\n      <td>0</td>\n      <td>-</td>\n      <td>Malicious</td>\n      <td>PartOfAHorizontalPortScan</td>\n    </tr>\n  </tbody>\n</table>\n<p>3906910 rows × 23 columns</p>\n</div>"
     },
     "execution_count": 26,
     "metadata": {},
     "output_type": "execute_result"
    }
   ],
   "source": [
    "df_c=df_c[df_c['label']=='Malicious']\n",
    "df_c"
   ],
   "metadata": {
    "collapsed": false,
    "pycharm": {
     "name": "#%%\n"
    }
   }
  },
  {
   "cell_type": "code",
   "execution_count": 27,
   "outputs": [
    {
     "name": "stdout",
     "output_type": "stream",
     "text": [
      "Malicious    3906910\n",
      "Name: label, dtype: int64\n"
     ]
    }
   ],
   "source": [
    "print(df_c['label'].value_counts())"
   ],
   "metadata": {
    "collapsed": false,
    "pycharm": {
     "name": "#%%\n"
    }
   }
  },
  {
   "cell_type": "code",
   "execution_count": 28,
   "outputs": [
    {
     "data": {
      "text/plain": "        proto service  duration orig_bytes resp_bytes conn_state  \\\n0         tcp       -  3.149707          0          0         S0   \n1         tcp       -  3.108733          0          0         S0   \n2         tcp       -  3.121722          0          0         S0   \n3         tcp       -  3.126213          0          0         S0   \n4         tcp       -  3.147709          0          0         S0   \n...       ...     ...       ...        ...        ...        ...   \n1279995   tcp       -         -          -          -         S0   \n1279996   tcp       -  0.000005          0          0         S0   \n1279997   tcp       -         -          -          -         S0   \n1279998   tcp       -         -          -          -         S0   \n1279999   tcp       -         -          -          -         S0   \n\n         missed_bytes  orig_pkts  orig_ip_bytes  resp_pkts  resp_ip_bytes  \\\n0                   0          6            360          0              0   \n1                   0          6            360          0              0   \n2                   0          6            360          0              0   \n3                   0          6            360          0              0   \n4                   0          6            360          0              0   \n...               ...        ...            ...        ...            ...   \n1279995             0          1             40          0              0   \n1279996             0          2             80          0              0   \n1279997             0          1             40          0              0   \n1279998             0          1             40          0              0   \n1279999             0          1             40          0              0   \n\n             label                    detailed-label  \n0        Malicious  PartOfAHorizontalPortScan-Attack  \n1        Malicious  PartOfAHorizontalPortScan-Attack  \n2        Malicious  PartOfAHorizontalPortScan-Attack  \n3        Malicious  PartOfAHorizontalPortScan-Attack  \n4        Malicious  PartOfAHorizontalPortScan-Attack  \n...            ...                               ...  \n1279995  Malicious         PartOfAHorizontalPortScan  \n1279996  Malicious         PartOfAHorizontalPortScan  \n1279997  Malicious         PartOfAHorizontalPortScan  \n1279998  Malicious         PartOfAHorizontalPortScan  \n1279999  Malicious         PartOfAHorizontalPortScan  \n\n[3906910 rows x 13 columns]",
      "text/html": "<div>\n<style scoped>\n    .dataframe tbody tr th:only-of-type {\n        vertical-align: middle;\n    }\n\n    .dataframe tbody tr th {\n        vertical-align: top;\n    }\n\n    .dataframe thead th {\n        text-align: right;\n    }\n</style>\n<table border=\"1\" class=\"dataframe\">\n  <thead>\n    <tr style=\"text-align: right;\">\n      <th></th>\n      <th>proto</th>\n      <th>service</th>\n      <th>duration</th>\n      <th>orig_bytes</th>\n      <th>resp_bytes</th>\n      <th>conn_state</th>\n      <th>missed_bytes</th>\n      <th>orig_pkts</th>\n      <th>orig_ip_bytes</th>\n      <th>resp_pkts</th>\n      <th>resp_ip_bytes</th>\n      <th>label</th>\n      <th>detailed-label</th>\n    </tr>\n  </thead>\n  <tbody>\n    <tr>\n      <th>0</th>\n      <td>tcp</td>\n      <td>-</td>\n      <td>3.149707</td>\n      <td>0</td>\n      <td>0</td>\n      <td>S0</td>\n      <td>0</td>\n      <td>6</td>\n      <td>360</td>\n      <td>0</td>\n      <td>0</td>\n      <td>Malicious</td>\n      <td>PartOfAHorizontalPortScan-Attack</td>\n    </tr>\n    <tr>\n      <th>1</th>\n      <td>tcp</td>\n      <td>-</td>\n      <td>3.108733</td>\n      <td>0</td>\n      <td>0</td>\n      <td>S0</td>\n      <td>0</td>\n      <td>6</td>\n      <td>360</td>\n      <td>0</td>\n      <td>0</td>\n      <td>Malicious</td>\n      <td>PartOfAHorizontalPortScan-Attack</td>\n    </tr>\n    <tr>\n      <th>2</th>\n      <td>tcp</td>\n      <td>-</td>\n      <td>3.121722</td>\n      <td>0</td>\n      <td>0</td>\n      <td>S0</td>\n      <td>0</td>\n      <td>6</td>\n      <td>360</td>\n      <td>0</td>\n      <td>0</td>\n      <td>Malicious</td>\n      <td>PartOfAHorizontalPortScan-Attack</td>\n    </tr>\n    <tr>\n      <th>3</th>\n      <td>tcp</td>\n      <td>-</td>\n      <td>3.126213</td>\n      <td>0</td>\n      <td>0</td>\n      <td>S0</td>\n      <td>0</td>\n      <td>6</td>\n      <td>360</td>\n      <td>0</td>\n      <td>0</td>\n      <td>Malicious</td>\n      <td>PartOfAHorizontalPortScan-Attack</td>\n    </tr>\n    <tr>\n      <th>4</th>\n      <td>tcp</td>\n      <td>-</td>\n      <td>3.147709</td>\n      <td>0</td>\n      <td>0</td>\n      <td>S0</td>\n      <td>0</td>\n      <td>6</td>\n      <td>360</td>\n      <td>0</td>\n      <td>0</td>\n      <td>Malicious</td>\n      <td>PartOfAHorizontalPortScan-Attack</td>\n    </tr>\n    <tr>\n      <th>...</th>\n      <td>...</td>\n      <td>...</td>\n      <td>...</td>\n      <td>...</td>\n      <td>...</td>\n      <td>...</td>\n      <td>...</td>\n      <td>...</td>\n      <td>...</td>\n      <td>...</td>\n      <td>...</td>\n      <td>...</td>\n      <td>...</td>\n    </tr>\n    <tr>\n      <th>1279995</th>\n      <td>tcp</td>\n      <td>-</td>\n      <td>-</td>\n      <td>-</td>\n      <td>-</td>\n      <td>S0</td>\n      <td>0</td>\n      <td>1</td>\n      <td>40</td>\n      <td>0</td>\n      <td>0</td>\n      <td>Malicious</td>\n      <td>PartOfAHorizontalPortScan</td>\n    </tr>\n    <tr>\n      <th>1279996</th>\n      <td>tcp</td>\n      <td>-</td>\n      <td>0.000005</td>\n      <td>0</td>\n      <td>0</td>\n      <td>S0</td>\n      <td>0</td>\n      <td>2</td>\n      <td>80</td>\n      <td>0</td>\n      <td>0</td>\n      <td>Malicious</td>\n      <td>PartOfAHorizontalPortScan</td>\n    </tr>\n    <tr>\n      <th>1279997</th>\n      <td>tcp</td>\n      <td>-</td>\n      <td>-</td>\n      <td>-</td>\n      <td>-</td>\n      <td>S0</td>\n      <td>0</td>\n      <td>1</td>\n      <td>40</td>\n      <td>0</td>\n      <td>0</td>\n      <td>Malicious</td>\n      <td>PartOfAHorizontalPortScan</td>\n    </tr>\n    <tr>\n      <th>1279998</th>\n      <td>tcp</td>\n      <td>-</td>\n      <td>-</td>\n      <td>-</td>\n      <td>-</td>\n      <td>S0</td>\n      <td>0</td>\n      <td>1</td>\n      <td>40</td>\n      <td>0</td>\n      <td>0</td>\n      <td>Malicious</td>\n      <td>PartOfAHorizontalPortScan</td>\n    </tr>\n    <tr>\n      <th>1279999</th>\n      <td>tcp</td>\n      <td>-</td>\n      <td>-</td>\n      <td>-</td>\n      <td>-</td>\n      <td>S0</td>\n      <td>0</td>\n      <td>1</td>\n      <td>40</td>\n      <td>0</td>\n      <td>0</td>\n      <td>Malicious</td>\n      <td>PartOfAHorizontalPortScan</td>\n    </tr>\n  </tbody>\n</table>\n<p>3906910 rows × 13 columns</p>\n</div>"
     },
     "execution_count": 28,
     "metadata": {},
     "output_type": "execute_result"
    }
   ],
   "source": [
    "df_c = df_c.drop(columns=['ts','uid','id.orig_h','id.orig_p','id.resp_h','id.resp_p',\n",
    "                            'local_orig','local_resp','history','tunnel_parents'])\n",
    "# df_c = pd.get_dummies(df_c, columns=['proto'])\n",
    "# df_c = pd.get_dummies(df_c, columns=['conn_state'])\n",
    "# df_c = pd.get_dummies(df_c, columns=['service'])\n",
    "df_c"
   ],
   "metadata": {
    "collapsed": false,
    "pycharm": {
     "name": "#%%\n"
    }
   }
  },
  {
   "cell_type": "code",
   "execution_count": 29,
   "outputs": [],
   "source": [
    "df_c['duration'] = df_c['duration'].str.replace('-','0')\n",
    "df_c['orig_bytes'] = df_c['orig_bytes'].str.replace('-','0')\n",
    "df_c['resp_bytes'] = df_c['resp_bytes'].str.replace('-','0')"
   ],
   "metadata": {
    "collapsed": false,
    "pycharm": {
     "name": "#%%\n"
    }
   }
  },
  {
   "cell_type": "code",
   "execution_count": 30,
   "outputs": [
    {
     "data": {
      "text/plain": "proto             0\nservice           0\nduration          0\norig_bytes        0\nresp_bytes        0\nconn_state        0\nmissed_bytes      0\norig_pkts         0\norig_ip_bytes     0\nresp_pkts         0\nresp_ip_bytes     0\nlabel             0\ndetailed-label    0\ndtype: int64"
     },
     "execution_count": 30,
     "metadata": {},
     "output_type": "execute_result"
    }
   ],
   "source": [
    "df_c.fillna(-1,inplace=True)\n",
    "df_c.isna().sum()"
   ],
   "metadata": {
    "collapsed": false,
    "pycharm": {
     "name": "#%%\n"
    }
   }
  },
  {
   "cell_type": "code",
   "execution_count": 31,
   "outputs": [],
   "source": [
    "df_c.to_csv('./Data/iot23_attack_combined.csv')"
   ],
   "metadata": {
    "collapsed": false,
    "pycharm": {
     "name": "#%%\n"
    }
   }
  },
  {
   "cell_type": "code",
   "execution_count": 32,
   "outputs": [
    {
     "name": "stdout",
     "output_type": "stream",
     "text": [
      "                      ts                 uid      id.orig_h  id.orig_p  \\\n",
      "20000  1545466987.770059   CqSURsaukmgMpP8S9  192.168.1.195    65279.0   \n",
      "20001  1545466987.770301   Ct3XRY2bFlVGGAwsg  192.168.1.195    65279.0   \n",
      "20002  1545466987.770815   CBwo0ETNeHk7HfhDi  192.168.1.195    65279.0   \n",
      "20003  1545466987.771300  CeRJxc43kaDIIhs2I1  192.168.1.195    65279.0   \n",
      "20004  1545466987.771558  CLb6le4R4R8DFa7hW1  192.168.1.195    65279.0   \n",
      "...                  ...                 ...            ...        ...   \n",
      "23137  1545490133.961380   C2F17zSUnGOcWzBa7  192.168.1.195    57110.0   \n",
      "23138  1545489934.221598  C93P4z4k5IRJD1rXJg  192.168.1.195    57092.0   \n",
      "23139  1545490198.463564  CXLZ3A2QY5E8weqpDk  192.168.1.195      123.0   \n",
      "23140  1545490181.542213  CuXpFN3fWesWBXUhq1  192.168.1.195      123.0   \n",
      "23141  1545490198.459568  Ct2Yhy4d33oL3yyZY9  192.168.1.195      123.0   \n",
      "\n",
      "            id.resp_h  id.resp_p proto service   duration orig_bytes  \\\n",
      "20000  123.59.209.185       80.0   tcp       -          -          -   \n",
      "20001  123.59.209.185       80.0   tcp       -          -          -   \n",
      "20002  123.59.209.185       80.0   tcp       -          -          -   \n",
      "20003  123.59.209.185       80.0   tcp       -          -          -   \n",
      "20004  123.59.209.185       80.0   tcp       -          -          -   \n",
      "...               ...        ...   ...     ...        ...        ...   \n",
      "23137  185.244.25.235     6667.0   tcp     irc  32.840994         62   \n",
      "23138  185.244.25.235     6667.0   tcp     irc  36.290833         62   \n",
      "23139  147.251.48.140      123.0   udp       -          -          -   \n",
      "23140    82.113.53.40      123.0   udp       -          -          -   \n",
      "23141  89.221.210.188      123.0   udp       -          -          -   \n",
      "\n",
      "      resp_bytes conn_state local_orig local_resp  missed_bytes  history  \\\n",
      "20000          -        OTH          -          -           0.0        C   \n",
      "20001          -        OTH          -          -           0.0        C   \n",
      "20002          -        OTH          -          -           0.0        C   \n",
      "20003          -        OTH          -          -           0.0        C   \n",
      "20004          -        OTH          -          -           0.0        C   \n",
      "...          ...        ...        ...        ...           ...      ...   \n",
      "23137        269         S3          -          -           0.0  ShAdDaf   \n",
      "23138        260         S3          -          -           0.0  ShAdDaf   \n",
      "23139          -         S0          -          -           0.0        D   \n",
      "23140          -         S0          -          -           0.0        D   \n",
      "23141          -         S0          -          -           0.0        D   \n",
      "\n",
      "       orig_pkts  orig_ip_bytes  resp_pkts  resp_ip_bytes  \\\n",
      "20000        0.0            0.0        0.0            0.0   \n",
      "20001        0.0            0.0        0.0            0.0   \n",
      "20002        0.0            0.0        0.0            0.0   \n",
      "20003        0.0            0.0        0.0            0.0   \n",
      "20004        0.0            0.0        0.0            0.0   \n",
      "...          ...            ...        ...            ...   \n",
      "23137        7.0          434.0        6.0          589.0   \n",
      "23138       10.0          606.0        7.0          632.0   \n",
      "23139        1.0           76.0        0.0            0.0   \n",
      "23140        1.0           76.0        0.0            0.0   \n",
      "23141        1.0           76.0        0.0            0.0   \n",
      "\n",
      "                      label  \n",
      "20000  -   Malicious   DDoS  \n",
      "20001  -   Malicious   DDoS  \n",
      "20002  -   Malicious   DDoS  \n",
      "20003  -   Malicious   DDoS  \n",
      "20004  -   Malicious   DDoS  \n",
      "...                     ...  \n",
      "23137   -   Malicious   C&C  \n",
      "23138   -   Malicious   C&C  \n",
      "23139        -   Benign   -  \n",
      "23140        -   Benign   -  \n",
      "23141        -   Benign   -  \n",
      "\n",
      "[3142 rows x 21 columns]\n"
     ]
    },
    {
     "name": "stderr",
     "output_type": "stream",
     "text": [
      "/media/wuguo-buaa/LENOVO_USB_HDD/PycharmProjects/Machine_learning_venv/lib/python3.8/site-packages/IPython/core/interactiveshell.py:3397: DtypeWarning: Columns (0) have mixed types.Specify dtype option on import or set low_memory=False.\n",
      "  exec(code_obj, self.user_global_ns, self.user_ns)\n"
     ]
    },
    {
     "name": "stdout",
     "output_type": "stream",
     "text": [
      "(199989, 21)                        ts                 uid      id.orig_h  id.orig_p  \\\n",
      "198900  1547144832.212582  ChtnTN2PdCfcUNM4zj  192.168.1.198    22568.0   \n",
      "198901  1547144832.212819  CZi3YH3KjBieMet4k6  192.168.1.198    22568.0   \n",
      "198902  1547144832.212826  CrUrjo4TEdUgTJZ8bj  192.168.1.198    22568.0   \n",
      "198903  1547144832.212829  CtFtJa1YtzsIIIoBP3  192.168.1.198    22568.0   \n",
      "198904  1547144832.212832  CTqcsF4PpQb8T25Ji9  192.168.1.198    22568.0   \n",
      "...                   ...                 ...            ...        ...   \n",
      "199984  1547144832.313261  CyeZpC2Ti1olpe0MAl  192.168.1.198    53994.0   \n",
      "199985  1547144832.313268  CJDkuk3ACm1YT1QaQ9  192.168.1.198    53994.0   \n",
      "199986  1547144832.313271  Cs1cEq2eBTNvzKxkF9  192.168.1.198    52458.0   \n",
      "199987  1547144832.313273  CHrErC2DxGdXQsodV6  192.168.1.198    53994.0   \n",
      "199988  1547144832.313276  ChjLlp4XJgMG1Gebfi  192.168.1.198    53994.0   \n",
      "\n",
      "              id.resp_h  id.resp_p proto service duration orig_bytes  \\\n",
      "198900     91.80.26.184    52869.0   tcp       -        -          -   \n",
      "198901    185.19.30.155    52869.0   tcp       -        -          -   \n",
      "198902   45.201.221.124    52869.0   tcp       -        -          -   \n",
      "198903   45.116.243.156    52869.0   tcp       -        -          -   \n",
      "198904  185.184.138.108    52869.0   tcp       -        -          -   \n",
      "...                 ...        ...   ...     ...      ...        ...   \n",
      "199984    185.50.156.85    52869.0   tcp       -        -          -   \n",
      "199985   91.229.139.251    52869.0   tcp       -        -          -   \n",
      "199986     124.9.79.228       23.0   tcp       -        -          -   \n",
      "199987    45.149.102.19    52869.0   tcp       -        -          -   \n",
      "199988    45.124.38.232    52869.0   tcp       -        -          -   \n",
      "\n",
      "       resp_bytes conn_state local_orig local_resp  missed_bytes history  \\\n",
      "198900          -         S0          -          -           0.0       S   \n",
      "198901          -         S0          -          -           0.0       S   \n",
      "198902          -         S0          -          -           0.0       S   \n",
      "198903          -         S0          -          -           0.0       S   \n",
      "198904          -         S0          -          -           0.0       S   \n",
      "...           ...        ...        ...        ...           ...     ...   \n",
      "199984          -         S0          -          -           0.0       S   \n",
      "199985          -         S0          -          -           0.0       S   \n",
      "199986          -         S0          -          -           0.0       S   \n",
      "199987          -         S0          -          -           0.0       S   \n",
      "199988          -         S0          -          -           0.0       S   \n",
      "\n",
      "        orig_pkts  orig_ip_bytes  resp_pkts  resp_ip_bytes  \\\n",
      "198900        1.0           40.0        0.0            0.0   \n",
      "198901        1.0           40.0        0.0            0.0   \n",
      "198902        1.0           40.0        0.0            0.0   \n",
      "198903        1.0           40.0        0.0            0.0   \n",
      "198904        1.0           40.0        0.0            0.0   \n",
      "...           ...            ...        ...            ...   \n",
      "199984        1.0           40.0        0.0            0.0   \n",
      "199985        1.0           40.0        0.0            0.0   \n",
      "199986        1.0           40.0        0.0            0.0   \n",
      "199987        1.0           40.0        0.0            0.0   \n",
      "199988        1.0           40.0        0.0            0.0   \n",
      "\n",
      "                                            label  \n",
      "198900  -   Malicious   PartOfAHorizontalPortScan  \n",
      "198901  -   Malicious   PartOfAHorizontalPortScan  \n",
      "198902  -   Malicious   PartOfAHorizontalPortScan  \n",
      "198903  -   Malicious   PartOfAHorizontalPortScan  \n",
      "198904  -   Malicious   PartOfAHorizontalPortScan  \n",
      "...                                           ...  \n",
      "199984  -   Malicious   PartOfAHorizontalPortScan  \n",
      "199985  -   Malicious   PartOfAHorizontalPortScan  \n",
      "199986                             -   Benign   -  \n",
      "199987  -   Malicious   PartOfAHorizontalPortScan  \n",
      "199988  -   Malicious   PartOfAHorizontalPortScan  \n",
      "\n",
      "[1089 rows x 21 columns]\n"
     ]
    },
    {
     "name": "stderr",
     "output_type": "stream",
     "text": [
      "/media/wuguo-buaa/LENOVO_USB_HDD/PycharmProjects/Machine_learning_venv/lib/python3.8/site-packages/IPython/core/interactiveshell.py:3397: DtypeWarning: Columns (0) have mixed types.Specify dtype option on import or set low_memory=False.\n",
      "  exec(code_obj, self.user_global_ns, self.user_ns)\n"
     ]
    },
    {
     "data": {
      "text/plain": "                       ts                 uid        id.orig_h  id.orig_p  \\\n0        1525879832.01624   CDe43c1PtgynajGI6  192.168.100.103    60905.0   \n1       1525879832.024985  CJaDcG3MZzvf1YVYI4  192.168.100.103    44301.0   \n2       1525879832.044975  CMBrup3BLXivSp4Avc  192.168.100.103    50244.0   \n3       1525879833.016171  CfHl9r3XMYtDQRrHnh  192.168.100.103    34243.0   \n4       1525879833.044906  C7USrA15nFVkniMqC5  192.168.100.103    34840.0   \n...                   ...                 ...              ...        ...   \n199984  1532526880.008818  CnUTM233ZTJarNYM4g  192.168.100.111    45466.0   \n199985  1532526880.008820   ClIksVqkbawHzu6i6  192.168.100.111    32199.0   \n199986  1532526880.009061  CdSCQj32at9PRvXazi  192.168.100.111    23720.0   \n199987  1532526880.009065  CwrtP83jYStTQ6Crv2  192.168.100.111    15233.0   \n199988  1532526880.009066  C7Ot1u2gfuhk0jnMoh  192.168.100.111     4063.0   \n\n              id.resp_h  id.resp_p proto service  duration orig_bytes  \\\n0       131.174.215.147       23.0   tcp       -  2.998796          0   \n1           91.42.47.63       23.0   tcp       -         -          -   \n2       120.210.108.200       23.0   tcp       -         -          -   \n3          147.7.65.203    49560.0   tcp       -  2.998804          0   \n4          145.164.35.6    21288.0   tcp       -         -          -   \n...                 ...        ...   ...     ...       ...        ...   \n199984    88.165.37.197       23.0   tcp       -         -          -   \n199985    53.241.63.211       23.0   tcp       -         -          -   \n199986   69.225.202.153       23.0   tcp       -         -          -   \n199987  132.150.242.222       23.0   tcp       -         -          -   \n199988     52.47.57.190       23.0   tcp       -         -          -   \n\n       resp_bytes conn_state local_orig local_resp  missed_bytes history  \\\n0               0         S0          -          -           0.0       S   \n1               -         S0          -          -           0.0       S   \n2               -         S0          -          -           0.0       S   \n3               0         S0          -          -           0.0       S   \n4               -         S0          -          -           0.0       S   \n...           ...        ...        ...        ...           ...     ...   \n199984          -         S0          -          -           0.0       S   \n199985          -         S0          -          -           0.0       S   \n199986          -         S0          -          -           0.0       S   \n199987          -         S0          -          -           0.0       S   \n199988          -         S0          -          -           0.0       S   \n\n        orig_pkts  orig_ip_bytes  resp_pkts  resp_ip_bytes  \\\n0             3.0          180.0        0.0            0.0   \n1             1.0           60.0        0.0            0.0   \n2             1.0           60.0        0.0            0.0   \n3             3.0          180.0        0.0            0.0   \n4             1.0           60.0        0.0            0.0   \n...           ...            ...        ...            ...   \n199984        1.0           40.0        0.0            0.0   \n199985        1.0           40.0        0.0            0.0   \n199986        1.0           40.0        0.0            0.0   \n199987        1.0           40.0        0.0            0.0   \n199988        1.0           40.0        0.0            0.0   \n\n                                                  label  \n0       (empty)   Malicious   PartOfAHorizontalPortScan  \n1       (empty)   Malicious   PartOfAHorizontalPortScan  \n2       (empty)   Malicious   PartOfAHorizontalPortScan  \n3                                  (empty)   Benign   -  \n4                                  (empty)   Benign   -  \n...                                                 ...  \n199984  (empty)   Malicious   PartOfAHorizontalPortScan  \n199985  (empty)   Malicious   PartOfAHorizontalPortScan  \n199986  (empty)   Malicious   PartOfAHorizontalPortScan  \n199987  (empty)   Malicious   PartOfAHorizontalPortScan  \n199988  (empty)   Malicious   PartOfAHorizontalPortScan  \n\n[2800645 rows x 21 columns]",
      "text/html": "<div>\n<style scoped>\n    .dataframe tbody tr th:only-of-type {\n        vertical-align: middle;\n    }\n\n    .dataframe tbody tr th {\n        vertical-align: top;\n    }\n\n    .dataframe thead th {\n        text-align: right;\n    }\n</style>\n<table border=\"1\" class=\"dataframe\">\n  <thead>\n    <tr style=\"text-align: right;\">\n      <th></th>\n      <th>ts</th>\n      <th>uid</th>\n      <th>id.orig_h</th>\n      <th>id.orig_p</th>\n      <th>id.resp_h</th>\n      <th>id.resp_p</th>\n      <th>proto</th>\n      <th>service</th>\n      <th>duration</th>\n      <th>orig_bytes</th>\n      <th>resp_bytes</th>\n      <th>conn_state</th>\n      <th>local_orig</th>\n      <th>local_resp</th>\n      <th>missed_bytes</th>\n      <th>history</th>\n      <th>orig_pkts</th>\n      <th>orig_ip_bytes</th>\n      <th>resp_pkts</th>\n      <th>resp_ip_bytes</th>\n      <th>label</th>\n    </tr>\n  </thead>\n  <tbody>\n    <tr>\n      <th>0</th>\n      <td>1525879832.01624</td>\n      <td>CDe43c1PtgynajGI6</td>\n      <td>192.168.100.103</td>\n      <td>60905.0</td>\n      <td>131.174.215.147</td>\n      <td>23.0</td>\n      <td>tcp</td>\n      <td>-</td>\n      <td>2.998796</td>\n      <td>0</td>\n      <td>0</td>\n      <td>S0</td>\n      <td>-</td>\n      <td>-</td>\n      <td>0.0</td>\n      <td>S</td>\n      <td>3.0</td>\n      <td>180.0</td>\n      <td>0.0</td>\n      <td>0.0</td>\n      <td>(empty)   Malicious   PartOfAHorizontalPortScan</td>\n    </tr>\n    <tr>\n      <th>1</th>\n      <td>1525879832.024985</td>\n      <td>CJaDcG3MZzvf1YVYI4</td>\n      <td>192.168.100.103</td>\n      <td>44301.0</td>\n      <td>91.42.47.63</td>\n      <td>23.0</td>\n      <td>tcp</td>\n      <td>-</td>\n      <td>-</td>\n      <td>-</td>\n      <td>-</td>\n      <td>S0</td>\n      <td>-</td>\n      <td>-</td>\n      <td>0.0</td>\n      <td>S</td>\n      <td>1.0</td>\n      <td>60.0</td>\n      <td>0.0</td>\n      <td>0.0</td>\n      <td>(empty)   Malicious   PartOfAHorizontalPortScan</td>\n    </tr>\n    <tr>\n      <th>2</th>\n      <td>1525879832.044975</td>\n      <td>CMBrup3BLXivSp4Avc</td>\n      <td>192.168.100.103</td>\n      <td>50244.0</td>\n      <td>120.210.108.200</td>\n      <td>23.0</td>\n      <td>tcp</td>\n      <td>-</td>\n      <td>-</td>\n      <td>-</td>\n      <td>-</td>\n      <td>S0</td>\n      <td>-</td>\n      <td>-</td>\n      <td>0.0</td>\n      <td>S</td>\n      <td>1.0</td>\n      <td>60.0</td>\n      <td>0.0</td>\n      <td>0.0</td>\n      <td>(empty)   Malicious   PartOfAHorizontalPortScan</td>\n    </tr>\n    <tr>\n      <th>3</th>\n      <td>1525879833.016171</td>\n      <td>CfHl9r3XMYtDQRrHnh</td>\n      <td>192.168.100.103</td>\n      <td>34243.0</td>\n      <td>147.7.65.203</td>\n      <td>49560.0</td>\n      <td>tcp</td>\n      <td>-</td>\n      <td>2.998804</td>\n      <td>0</td>\n      <td>0</td>\n      <td>S0</td>\n      <td>-</td>\n      <td>-</td>\n      <td>0.0</td>\n      <td>S</td>\n      <td>3.0</td>\n      <td>180.0</td>\n      <td>0.0</td>\n      <td>0.0</td>\n      <td>(empty)   Benign   -</td>\n    </tr>\n    <tr>\n      <th>4</th>\n      <td>1525879833.044906</td>\n      <td>C7USrA15nFVkniMqC5</td>\n      <td>192.168.100.103</td>\n      <td>34840.0</td>\n      <td>145.164.35.6</td>\n      <td>21288.0</td>\n      <td>tcp</td>\n      <td>-</td>\n      <td>-</td>\n      <td>-</td>\n      <td>-</td>\n      <td>S0</td>\n      <td>-</td>\n      <td>-</td>\n      <td>0.0</td>\n      <td>S</td>\n      <td>1.0</td>\n      <td>60.0</td>\n      <td>0.0</td>\n      <td>0.0</td>\n      <td>(empty)   Benign   -</td>\n    </tr>\n    <tr>\n      <th>...</th>\n      <td>...</td>\n      <td>...</td>\n      <td>...</td>\n      <td>...</td>\n      <td>...</td>\n      <td>...</td>\n      <td>...</td>\n      <td>...</td>\n      <td>...</td>\n      <td>...</td>\n      <td>...</td>\n      <td>...</td>\n      <td>...</td>\n      <td>...</td>\n      <td>...</td>\n      <td>...</td>\n      <td>...</td>\n      <td>...</td>\n      <td>...</td>\n      <td>...</td>\n      <td>...</td>\n    </tr>\n    <tr>\n      <th>199984</th>\n      <td>1532526880.008818</td>\n      <td>CnUTM233ZTJarNYM4g</td>\n      <td>192.168.100.111</td>\n      <td>45466.0</td>\n      <td>88.165.37.197</td>\n      <td>23.0</td>\n      <td>tcp</td>\n      <td>-</td>\n      <td>-</td>\n      <td>-</td>\n      <td>-</td>\n      <td>S0</td>\n      <td>-</td>\n      <td>-</td>\n      <td>0.0</td>\n      <td>S</td>\n      <td>1.0</td>\n      <td>40.0</td>\n      <td>0.0</td>\n      <td>0.0</td>\n      <td>(empty)   Malicious   PartOfAHorizontalPortScan</td>\n    </tr>\n    <tr>\n      <th>199985</th>\n      <td>1532526880.008820</td>\n      <td>ClIksVqkbawHzu6i6</td>\n      <td>192.168.100.111</td>\n      <td>32199.0</td>\n      <td>53.241.63.211</td>\n      <td>23.0</td>\n      <td>tcp</td>\n      <td>-</td>\n      <td>-</td>\n      <td>-</td>\n      <td>-</td>\n      <td>S0</td>\n      <td>-</td>\n      <td>-</td>\n      <td>0.0</td>\n      <td>S</td>\n      <td>1.0</td>\n      <td>40.0</td>\n      <td>0.0</td>\n      <td>0.0</td>\n      <td>(empty)   Malicious   PartOfAHorizontalPortScan</td>\n    </tr>\n    <tr>\n      <th>199986</th>\n      <td>1532526880.009061</td>\n      <td>CdSCQj32at9PRvXazi</td>\n      <td>192.168.100.111</td>\n      <td>23720.0</td>\n      <td>69.225.202.153</td>\n      <td>23.0</td>\n      <td>tcp</td>\n      <td>-</td>\n      <td>-</td>\n      <td>-</td>\n      <td>-</td>\n      <td>S0</td>\n      <td>-</td>\n      <td>-</td>\n      <td>0.0</td>\n      <td>S</td>\n      <td>1.0</td>\n      <td>40.0</td>\n      <td>0.0</td>\n      <td>0.0</td>\n      <td>(empty)   Malicious   PartOfAHorizontalPortScan</td>\n    </tr>\n    <tr>\n      <th>199987</th>\n      <td>1532526880.009065</td>\n      <td>CwrtP83jYStTQ6Crv2</td>\n      <td>192.168.100.111</td>\n      <td>15233.0</td>\n      <td>132.150.242.222</td>\n      <td>23.0</td>\n      <td>tcp</td>\n      <td>-</td>\n      <td>-</td>\n      <td>-</td>\n      <td>-</td>\n      <td>S0</td>\n      <td>-</td>\n      <td>-</td>\n      <td>0.0</td>\n      <td>S</td>\n      <td>1.0</td>\n      <td>40.0</td>\n      <td>0.0</td>\n      <td>0.0</td>\n      <td>(empty)   Malicious   PartOfAHorizontalPortScan</td>\n    </tr>\n    <tr>\n      <th>199988</th>\n      <td>1532526880.009066</td>\n      <td>C7Ot1u2gfuhk0jnMoh</td>\n      <td>192.168.100.111</td>\n      <td>4063.0</td>\n      <td>52.47.57.190</td>\n      <td>23.0</td>\n      <td>tcp</td>\n      <td>-</td>\n      <td>-</td>\n      <td>-</td>\n      <td>-</td>\n      <td>S0</td>\n      <td>-</td>\n      <td>-</td>\n      <td>0.0</td>\n      <td>S</td>\n      <td>1.0</td>\n      <td>40.0</td>\n      <td>0.0</td>\n      <td>0.0</td>\n      <td>(empty)   Malicious   PartOfAHorizontalPortScan</td>\n    </tr>\n  </tbody>\n</table>\n<p>2800645 rows × 21 columns</p>\n</div>"
     },
     "execution_count": 32,
     "metadata": {},
     "output_type": "execute_result"
    }
   ],
   "source": [
    "import pandas as pd\n",
    "capture_34 = \"/media/wuguo-buaa/LENOVO_USB_HDD/iot-data/iot_23_datasets_small/opt/Malware-Project/BigDataset/IoTScenarios/CTU-IoT-Malware-Capture-34-1/split_files_subsample/target_list_1.log\"  #\n",
    "capture_43 = \"/media/wuguo-buaa/LENOVO_USB_HDD/iot-data/iot_23_datasets_small/opt/Malware-Project/BigDataset/IoTScenarios/CTU-IoT-Malware-Capture-43-1/split_files_subsample/target_list_1.log\"  #\n",
    "capture_44 = \"/media/wuguo-buaa/LENOVO_USB_HDD/iot-data/iot_23_datasets_small/opt/Malware-Project/BigDataset/IoTScenarios/CTU-IoT-Malware-Capture-44-1/split_files_subsample/target_list_1.log\"  #\n",
    "capture_49 = \"/media/wuguo-buaa/LENOVO_USB_HDD/iot-data/iot_23_datasets_small/opt/Malware-Project/BigDataset/IoTScenarios/CTU-IoT-Malware-Capture-49-1/split_files_subsample/target_list_1.log\"  #\n",
    "capture_52 = \"/media/wuguo-buaa/LENOVO_USB_HDD/iot-data/iot_23_datasets_small/opt/Malware-Project/BigDataset/IoTScenarios/CTU-IoT-Malware-Capture-52-1/split_files_subsample/target_list_1.log\"  #\n",
    "capture_20 = \"/media/wuguo-buaa/LENOVO_USB_HDD/iot-data/iot_23_datasets_small/opt/Malware-Project/BigDataset/IoTScenarios/CTU-IoT-Malware-Capture-20-1/split_files_subsample/target_list_1.log\"  #\n",
    "capture_21 = \"/media/wuguo-buaa/LENOVO_USB_HDD/iot-data/iot_23_datasets_small/opt/Malware-Project/BigDataset/IoTScenarios/CTU-IoT-Malware-Capture-21-1/split_files_subsample/target_list_1.log\"  #\n",
    "capture_42 = \"/media/wuguo-buaa/LENOVO_USB_HDD/iot-data/iot_23_datasets_small/opt/Malware-Project/BigDataset/IoTScenarios/CTU-IoT-Malware-Capture-42-1/split_files_subsample/target_list_1.log\"  #\n",
    "capture_60 = \"/media/wuguo-buaa/LENOVO_USB_HDD/iot-data/iot_23_datasets_small/opt/Malware-Project/BigDataset/IoTScenarios/CTU-IoT-Malware-Capture-60-1/split_files_subsample/target_list_1.log\"  #\n",
    "capture_17 = \"/media/wuguo-buaa/LENOVO_USB_HDD/iot-data/iot_23_datasets_small/opt/Malware-Project/BigDataset/IoTScenarios/CTU-IoT-Malware-Capture-17-1/split_files_subsample/target_list_1.log\"  #\n",
    "capture_36 = \"/media/wuguo-buaa/LENOVO_USB_HDD/iot-data/iot_23_datasets_small/opt/Malware-Project/BigDataset/IoTScenarios/CTU-IoT-Malware-Capture-36-1/split_files_subsample/target_list_1.log\"  #\n",
    "capture_33 = \"/media/wuguo-buaa/LENOVO_USB_HDD/iot-data/iot_23_datasets_small/opt/Malware-Project/BigDataset/IoTScenarios/CTU-IoT-Malware-Capture-33-1/split_files_subsample/target_list_1.log\"  #\n",
    "capture_8 = \"/media/wuguo-buaa/LENOVO_USB_HDD/iot-data/iot_23_datasets_small/opt/Malware-Project/BigDataset/IoTScenarios/CTU-IoT-Malware-Capture-8-1/split_files_subsample/target_list_1.log\"  #1.4 MB\n",
    "capture_35 = \"/media/wuguo-buaa/LENOVO_USB_HDD/iot-data/iot_23_datasets_small/opt/Malware-Project/BigDataset/IoTScenarios/CTU-IoT-Malware-Capture-35-1/split_files_subsample/target_list_1.log\"  #\n",
    "capture_48 = \"/media/wuguo-buaa/LENOVO_USB_HDD/iot-data/iot_23_datasets_small/opt/Malware-Project/BigDataset/IoTScenarios/CTU-IoT-Malware-Capture-48-1/split_files_subsample/target_list_1.log\"  #\n",
    "capture_39 = \"/media/wuguo-buaa/LENOVO_USB_HDD/iot-data/iot_23_datasets_small/opt/Malware-Project/BigDataset/IoTScenarios/CTU-IoT-Malware-Capture-39-1/split_files_subsample/target_list_1.log\"  #\n",
    "capture_7 = \"/media/wuguo-buaa/LENOVO_USB_HDD/iot-data/iot_23_datasets_small/opt/Malware-Project/BigDataset/IoTScenarios/CTU-IoT-Malware-Capture-7-1/split_files_subsample/target_list_1.log\"  #1.6 GB\n",
    "capture_9 = \"/media/wuguo-buaa/LENOVO_USB_HDD/iot-data/iot_23_datasets_small/opt/Malware-Project/BigDataset/IoTScenarios/CTU-IoT-Malware-Capture-9-1/split_files_subsample/target_list_1.log\"  #993.5 MB\n",
    "capture_3 = \"/media/wuguo-buaa/LENOVO_USB_HDD/iot-data/iot_23_datasets_small/opt/Malware-Project/BigDataset/IoTScenarios/CTU-IoT-Malware-Capture-3-1/split_files_subsample/target_list_1.log\"  #24.4 MB\n",
    "capture_1 = \"/media/wuguo-buaa/LENOVO_USB_HDD/iot-data/iot_23_datasets_small/opt/Malware-Project/BigDataset/IoTScenarios/CTU-IoT-Malware-Capture-1-1/split_files_subsample/target_list_1.log\"  #144.3 MB\n",
    "\n",
    "df34 = pd.read_table(filepath_or_buffer=capture_34, skiprows=10, nrows=5000000)\n",
    "df34.columns = ['ts',\n",
    "                'uid',\n",
    "                'id.orig_h',\n",
    "                'id.orig_p',\n",
    "                'id.resp_h',\n",
    "                'id.resp_p',\n",
    "                'proto',\n",
    "                'service',\n",
    "                'duration',\n",
    "                'orig_bytes',\n",
    "                'resp_bytes',\n",
    "                'conn_state',\n",
    "                'local_orig',\n",
    "                'local_resp',\n",
    "                'missed_bytes',\n",
    "                'history',\n",
    "                'orig_pkts',\n",
    "                'orig_ip_bytes',\n",
    "                'resp_pkts',\n",
    "                'resp_ip_bytes',\n",
    "                'label']\n",
    "df34.drop(df34.tail(1).index, inplace=True)\n",
    "print(df34[20000:])\n",
    "df34.head()\n",
    "df43 = pd.read_table(filepath_or_buffer=capture_43, skiprows=10, nrows=5000000)\n",
    "df43.columns = ['ts',\n",
    "                'uid',\n",
    "                'id.orig_h',\n",
    "                'id.orig_p',\n",
    "                'id.resp_h',\n",
    "                'id.resp_p',\n",
    "                'proto',\n",
    "                'service',\n",
    "                'duration',\n",
    "                'orig_bytes',\n",
    "                'resp_bytes',\n",
    "                'conn_state',\n",
    "                'local_orig',\n",
    "                'local_resp',\n",
    "                'missed_bytes',\n",
    "                'history',\n",
    "                'orig_pkts',\n",
    "                'orig_ip_bytes',\n",
    "                'resp_pkts',\n",
    "                'resp_ip_bytes',\n",
    "                'label']\n",
    "df43.drop(df43.tail(1).index, inplace=True)\n",
    "print(df43.shape, df43[198900:])\n",
    "df44 = pd.read_table(filepath_or_buffer=capture_44, skiprows=10, nrows=5000000)\n",
    "df44.columns = ['ts',\n",
    "                'uid',\n",
    "                'id.orig_h',\n",
    "                'id.orig_p',\n",
    "                'id.resp_h',\n",
    "                'id.resp_p',\n",
    "                'proto',\n",
    "                'service',\n",
    "                'duration',\n",
    "                'orig_bytes',\n",
    "                'resp_bytes',\n",
    "                'conn_state',\n",
    "                'local_orig',\n",
    "                'local_resp',\n",
    "                'missed_bytes',\n",
    "                'history',\n",
    "                'orig_pkts',\n",
    "                'orig_ip_bytes',\n",
    "                'resp_pkts',\n",
    "                'resp_ip_bytes',\n",
    "                'label']\n",
    "df44.drop(df44.tail(1).index, inplace=True)\n",
    "df49 = pd.read_table(filepath_or_buffer=capture_49, skiprows=10, nrows=5000000)\n",
    "df49.columns = ['ts',\n",
    "                'uid',\n",
    "                'id.orig_h',\n",
    "                'id.orig_p',\n",
    "                'id.resp_h',\n",
    "                'id.resp_p',\n",
    "                'proto',\n",
    "                'service',\n",
    "                'duration',\n",
    "                'orig_bytes',\n",
    "                'resp_bytes',\n",
    "                'conn_state',\n",
    "                'local_orig',\n",
    "                'local_resp',\n",
    "                'missed_bytes',\n",
    "                'history',\n",
    "                'orig_pkts',\n",
    "                'orig_ip_bytes',\n",
    "                'resp_pkts',\n",
    "                'resp_ip_bytes',\n",
    "                'label']\n",
    "df49.drop(df49.tail(1).index, inplace=True)\n",
    "df52 = pd.read_table(filepath_or_buffer=capture_52, skiprows=10, nrows=5000000)\n",
    "df52.columns = ['ts',\n",
    "                'uid',\n",
    "                'id.orig_h',\n",
    "                'id.orig_p',\n",
    "                'id.resp_h',\n",
    "                'id.resp_p',\n",
    "                'proto',\n",
    "                'service',\n",
    "                'duration',\n",
    "                'orig_bytes',\n",
    "                'resp_bytes',\n",
    "                'conn_state',\n",
    "                'local_orig',\n",
    "                'local_resp',\n",
    "                'missed_bytes',\n",
    "                'history',\n",
    "                'orig_pkts',\n",
    "                'orig_ip_bytes',\n",
    "                'resp_pkts',\n",
    "                'resp_ip_bytes',\n",
    "                'label']\n",
    "df52.drop(df52.tail(1).index, inplace=True)\n",
    "df20 = pd.read_table(filepath_or_buffer=capture_20, skiprows=10, nrows=5000000)\n",
    "df20.columns = ['ts',\n",
    "                'uid',\n",
    "                'id.orig_h',\n",
    "                'id.orig_p',\n",
    "                'id.resp_h',\n",
    "                'id.resp_p',\n",
    "                'proto',\n",
    "                'service',\n",
    "                'duration',\n",
    "                'orig_bytes',\n",
    "                'resp_bytes',\n",
    "                'conn_state',\n",
    "                'local_orig',\n",
    "                'local_resp',\n",
    "                'missed_bytes',\n",
    "                'history',\n",
    "                'orig_pkts',\n",
    "                'orig_ip_bytes',\n",
    "                'resp_pkts',\n",
    "                'resp_ip_bytes',\n",
    "                'label']\n",
    "df20.drop(df20.tail(1).index, inplace=True)\n",
    "df21 = pd.read_table(filepath_or_buffer=capture_21, skiprows=10, nrows=5000000)\n",
    "df21.columns = ['ts',\n",
    "                'uid',\n",
    "                'id.orig_h',\n",
    "                'id.orig_p',\n",
    "                'id.resp_h',\n",
    "                'id.resp_p',\n",
    "                'proto',\n",
    "                'service',\n",
    "                'duration',\n",
    "                'orig_bytes',\n",
    "                'resp_bytes',\n",
    "                'conn_state',\n",
    "                'local_orig',\n",
    "                'local_resp',\n",
    "                'missed_bytes',\n",
    "                'history',\n",
    "                'orig_pkts',\n",
    "                'orig_ip_bytes',\n",
    "                'resp_pkts',\n",
    "                'resp_ip_bytes',\n",
    "                'label']\n",
    "df21.drop(df21.tail(1).index, inplace=True)\n",
    "df42 = pd.read_table(filepath_or_buffer=capture_42, skiprows=10, nrows=5000000)\n",
    "df42.columns = ['ts',\n",
    "                'uid',\n",
    "                'id.orig_h',\n",
    "                'id.orig_p',\n",
    "                'id.resp_h',\n",
    "                'id.resp_p',\n",
    "                'proto',\n",
    "                'service',\n",
    "                'duration',\n",
    "                'orig_bytes',\n",
    "                'resp_bytes',\n",
    "                'conn_state',\n",
    "                'local_orig',\n",
    "                'local_resp',\n",
    "                'missed_bytes',\n",
    "                'history',\n",
    "                'orig_pkts',\n",
    "                'orig_ip_bytes',\n",
    "                'resp_pkts',\n",
    "                'resp_ip_bytes',\n",
    "                'label']\n",
    "df42.drop(df42.tail(1).index, inplace=True)\n",
    "df60 = pd.read_table(filepath_or_buffer=capture_60, skiprows=10, nrows=5000000)\n",
    "df60.columns = ['ts',\n",
    "                'uid',\n",
    "                'id.orig_h',\n",
    "                'id.orig_p',\n",
    "                'id.resp_h',\n",
    "                'id.resp_p',\n",
    "                'proto',\n",
    "                'service',\n",
    "                'duration',\n",
    "                'orig_bytes',\n",
    "                'resp_bytes',\n",
    "                'conn_state',\n",
    "                'local_orig',\n",
    "                'local_resp',\n",
    "                'missed_bytes',\n",
    "                'history',\n",
    "                'orig_pkts',\n",
    "                'orig_ip_bytes',\n",
    "                'resp_pkts',\n",
    "                'resp_ip_bytes',\n",
    "                'label']\n",
    "df60.drop(df60.tail(1).index, inplace=True)\n",
    "df17 = pd.read_table(filepath_or_buffer=capture_17, skiprows=10, nrows=5000000)\n",
    "df17.columns = ['ts',\n",
    "                'uid',\n",
    "                'id.orig_h',\n",
    "                'id.orig_p',\n",
    "                'id.resp_h',\n",
    "                'id.resp_p',\n",
    "                'proto',\n",
    "                'service',\n",
    "                'duration',\n",
    "                'orig_bytes',\n",
    "                'resp_bytes',\n",
    "                'conn_state',\n",
    "                'local_orig',\n",
    "                'local_resp',\n",
    "                'missed_bytes',\n",
    "                'history',\n",
    "                'orig_pkts',\n",
    "                'orig_ip_bytes',\n",
    "                'resp_pkts',\n",
    "                'resp_ip_bytes',\n",
    "                'label']\n",
    "df17.drop(df17.tail(1).index, inplace=True)\n",
    "df36 = pd.read_table(filepath_or_buffer=capture_36, skiprows=10, nrows=5000000)\n",
    "df36.columns = ['ts',\n",
    "                'uid',\n",
    "                'id.orig_h',\n",
    "                'id.orig_p',\n",
    "                'id.resp_h',\n",
    "                'id.resp_p',\n",
    "                'proto',\n",
    "                'service',\n",
    "                'duration',\n",
    "                'orig_bytes',\n",
    "                'resp_bytes',\n",
    "                'conn_state',\n",
    "                'local_orig',\n",
    "                'local_resp',\n",
    "                'missed_bytes',\n",
    "                'history',\n",
    "                'orig_pkts',\n",
    "                'orig_ip_bytes',\n",
    "                'resp_pkts',\n",
    "                'resp_ip_bytes',\n",
    "                'label']\n",
    "df36.drop(df36.tail(1).index, inplace=True)\n",
    "df33 = pd.read_table(filepath_or_buffer=capture_33, skiprows=10, nrows=5000000)\n",
    "df33.columns = ['ts',\n",
    "                'uid',\n",
    "                'id.orig_h',\n",
    "                'id.orig_p',\n",
    "                'id.resp_h',\n",
    "                'id.resp_p',\n",
    "                'proto',\n",
    "                'service',\n",
    "                'duration',\n",
    "                'orig_bytes',\n",
    "                'resp_bytes',\n",
    "                'conn_state',\n",
    "                'local_orig',\n",
    "                'local_resp',\n",
    "                'missed_bytes',\n",
    "                'history',\n",
    "                'orig_pkts',\n",
    "                'orig_ip_bytes',\n",
    "                'resp_pkts',\n",
    "                'resp_ip_bytes',\n",
    "                'label']\n",
    "df33.drop(df33.tail(1).index, inplace=True)\n",
    "df8 = pd.read_table(filepath_or_buffer=capture_8, skiprows=10, nrows=5000000)\n",
    "df8.columns = ['ts',\n",
    "               'uid',\n",
    "               'id.orig_h',\n",
    "               'id.orig_p',\n",
    "               'id.resp_h',\n",
    "               'id.resp_p',\n",
    "               'proto',\n",
    "               'service',\n",
    "               'duration',\n",
    "               'orig_bytes',\n",
    "               'resp_bytes',\n",
    "               'conn_state',\n",
    "               'local_orig',\n",
    "               'local_resp',\n",
    "               'missed_bytes',\n",
    "               'history',\n",
    "               'orig_pkts',\n",
    "               'orig_ip_bytes',\n",
    "               'resp_pkts',\n",
    "               'resp_ip_bytes',\n",
    "               'label']\n",
    "df8.drop(df8.tail(1).index, inplace=True)\n",
    "df35 = pd.read_table(filepath_or_buffer=capture_35, skiprows=10, nrows=5000000)\n",
    "df35.columns = ['ts',\n",
    "                'uid',\n",
    "                'id.orig_h',\n",
    "                'id.orig_p',\n",
    "                'id.resp_h',\n",
    "                'id.resp_p',\n",
    "                'proto',\n",
    "                'service',\n",
    "                'duration',\n",
    "                'orig_bytes',\n",
    "                'resp_bytes',\n",
    "                'conn_state',\n",
    "                'local_orig',\n",
    "                'local_resp',\n",
    "                'missed_bytes',\n",
    "                'history',\n",
    "                'orig_pkts',\n",
    "                'orig_ip_bytes',\n",
    "                'resp_pkts',\n",
    "                'resp_ip_bytes',\n",
    "                'label']\n",
    "df35.drop(df35.tail(1).index, inplace=True)\n",
    "df48 = pd.read_table(filepath_or_buffer=capture_48, skiprows=10, nrows=500000)\n",
    "df48.columns = ['ts',\n",
    "                'uid',\n",
    "                'id.orig_h',\n",
    "                'id.orig_p',\n",
    "                'id.resp_h',\n",
    "                'id.resp_p',\n",
    "                'proto',\n",
    "                'service',\n",
    "                'duration',\n",
    "                'orig_bytes',\n",
    "                'resp_bytes',\n",
    "                'conn_state',\n",
    "                'local_orig',\n",
    "                'local_resp',\n",
    "                'missed_bytes',\n",
    "                'history',\n",
    "                'orig_pkts',\n",
    "                'orig_ip_bytes',\n",
    "                'resp_pkts',\n",
    "                'resp_ip_bytes',\n",
    "                'label']\n",
    "df48.drop(df48.tail(1).index, inplace=True)\n",
    "df39 = pd.read_table(filepath_or_buffer=capture_39, skiprows=10, nrows=5000000)\n",
    "df39.columns = ['ts',\n",
    "                'uid',\n",
    "                'id.orig_h',\n",
    "                'id.orig_p',\n",
    "                'id.resp_h',\n",
    "                'id.resp_p',\n",
    "                'proto',\n",
    "                'service',\n",
    "                'duration',\n",
    "                'orig_bytes',\n",
    "                'resp_bytes',\n",
    "                'conn_state',\n",
    "                'local_orig',\n",
    "                'local_resp',\n",
    "                'missed_bytes',\n",
    "                'history',\n",
    "                'orig_pkts',\n",
    "                'orig_ip_bytes',\n",
    "                'resp_pkts',\n",
    "                'resp_ip_bytes',\n",
    "                'label']\n",
    "df39.drop(df39.tail(1).index, inplace=True)\n",
    "df7 = pd.read_table(filepath_or_buffer=capture_7, skiprows=10, nrows=5000000)\n",
    "df7.columns = ['ts',\n",
    "               'uid',\n",
    "               'id.orig_h',\n",
    "               'id.orig_p',\n",
    "               'id.resp_h',\n",
    "               'id.resp_p',\n",
    "               'proto',\n",
    "               'service',\n",
    "               'duration',\n",
    "               'orig_bytes',\n",
    "               'resp_bytes',\n",
    "               'conn_state',\n",
    "               'local_orig',\n",
    "               'local_resp',\n",
    "               'missed_bytes',\n",
    "               'history',\n",
    "               'orig_pkts',\n",
    "               'orig_ip_bytes',\n",
    "               'resp_pkts',\n",
    "               'resp_ip_bytes',\n",
    "               'label']\n",
    "df7.drop(df7.tail(1).index, inplace=True)\n",
    "df9 = pd.read_table(filepath_or_buffer=capture_9, skiprows=10, nrows=5000000)\n",
    "df9.columns = ['ts',\n",
    "               'uid',\n",
    "               'id.orig_h',\n",
    "               'id.orig_p',\n",
    "               'id.resp_h',\n",
    "               'id.resp_p',\n",
    "               'proto',\n",
    "               'service',\n",
    "               'duration',\n",
    "               'orig_bytes',\n",
    "               'resp_bytes',\n",
    "               'conn_state',\n",
    "               'local_orig',\n",
    "               'local_resp',\n",
    "               'missed_bytes',\n",
    "               'history',\n",
    "               'orig_pkts',\n",
    "               'orig_ip_bytes',\n",
    "               'resp_pkts',\n",
    "               'resp_ip_bytes',\n",
    "               'label']\n",
    "df9.drop(df9.tail(1).index, inplace=True)\n",
    "df3 = pd.read_table(filepath_or_buffer=capture_3, skiprows=10, nrows=5000000)\n",
    "df3.columns = ['ts',\n",
    "               'uid',\n",
    "               'id.orig_h',\n",
    "               'id.orig_p',\n",
    "               'id.resp_h',\n",
    "               'id.resp_p',\n",
    "               'proto',\n",
    "               'service',\n",
    "               'duration',\n",
    "               'orig_bytes',\n",
    "               'resp_bytes',\n",
    "               'conn_state',\n",
    "               'local_orig',\n",
    "               'local_resp',\n",
    "               'missed_bytes',\n",
    "               'history',\n",
    "               'orig_pkts',\n",
    "               'orig_ip_bytes',\n",
    "               'resp_pkts',\n",
    "               'resp_ip_bytes',\n",
    "               'label']\n",
    "df3.drop(df3.tail(1).index, inplace=True)\n",
    "df1 = pd.read_table(filepath_or_buffer=capture_1, skiprows=10, nrows=5000000)\n",
    "df1.columns = ['ts',\n",
    "               'uid',\n",
    "               'id.orig_h',\n",
    "               'id.orig_p',\n",
    "               'id.resp_h',\n",
    "               'id.resp_p',\n",
    "               'proto',\n",
    "               'service',\n",
    "               'duration',\n",
    "               'orig_bytes',\n",
    "               'resp_bytes',\n",
    "               'conn_state',\n",
    "               'local_orig',\n",
    "               'local_resp',\n",
    "               'missed_bytes',\n",
    "               'history',\n",
    "               'orig_pkts',\n",
    "               'orig_ip_bytes',\n",
    "               'resp_pkts',\n",
    "               'resp_ip_bytes',\n",
    "               'label']\n",
    "df1.drop(df1.tail(1).index, inplace=True)\n",
    "# frames = [df1, df17]\n",
    "frames = [df1, df17, df20, df21, df3, df33, df34, df35, df36, df39, df42, df43, df44, df48, df49, df52, df60, df7, df8,\n",
    "          df9]\n",
    "df_c_normal = pd.concat(frames)\n",
    "df_c_normal\n",
    "#['ts','uid','id.orig_h','id.orig_p','id.resp_h','id.resp_p','service','local_orig','local_resp','history']"
   ],
   "metadata": {
    "collapsed": false,
    "pycharm": {
     "name": "#%%\n"
    }
   }
  },
  {
   "cell_type": "code",
   "execution_count": 33,
   "outputs": [
    {
     "name": "stdout",
     "output_type": "stream",
     "text": [
      "S0        2551223\n",
      "OTH        220568\n",
      "SF          20565\n",
      "REJ          4746\n",
      "S3           2457\n",
      "RSTR          713\n",
      "RSTO          184\n",
      "RSTOS0         59\n",
      "S1             56\n",
      "S2             51\n",
      "SH             12\n",
      "RSTRH           9\n",
      "SHR             2\n",
      "Name: conn_state, dtype: int64\n",
      "-    2800645\n",
      "Name: local_orig, dtype: int64\n",
      "-    2800645\n",
      "Name: local_resp, dtype: int64\n",
      "S               2470238\n",
      "C                213579\n",
      "D                 80980\n",
      "Dd                12520\n",
      "-                  6856\n",
      "ShAdDaFf           5938\n",
      "Sr                 4744\n",
      "ShAdDaf            2263\n",
      "ShAdDafF            677\n",
      "ShADadfF            321\n",
      "ShAdfDr             238\n",
      "ShAdDaft            187\n",
      "ShAdDaFr            169\n",
      "ShAdDaFRfR          148\n",
      "ShADafF             121\n",
      "ShADdfFa            121\n",
      "ShADafr             120\n",
      "ShAdDfFr            118\n",
      "^c                   98\n",
      "ShAdDaFRR            73\n",
      "ShAfFa               60\n",
      "ShAdDatFf            57\n",
      "ShAdDaFfRR           56\n",
      "R                    55\n",
      "ShAr                 51\n",
      "ShAdDaFfR            51\n",
      "ShAdDaFRRfR          43\n",
      "ShADadttfF           42\n",
      "ShAdDaFRf            40\n",
      "ShADdfrFr            37\n",
      "ShAa                 36\n",
      "ShAdDatFr            36\n",
      "ShR                  33\n",
      "ShAdDaR              31\n",
      "ShAdDaF              24\n",
      "ShADadFf             24\n",
      "ShAadDFf             22\n",
      "ShAdDaTFf            18\n",
      "SahAdDFf             17\n",
      "ShAdtDaFr            16\n",
      "ShADadfR             15\n",
      "ShADadtfF            15\n",
      "ShAdDaFR             14\n",
      "ShAdDaFrR            14\n",
      "F                    12\n",
      "ShAdDaFRfRR          11\n",
      "ShADF                11\n",
      "ShAdDatFrR           11\n",
      "ShAdtDaFrR           10\n",
      "^r                    9\n",
      "DdA                   8\n",
      "^aA                   8\n",
      "ShAfdtDr              8\n",
      "ShADFr                7\n",
      "^d                    7\n",
      "ShADadtFf             7\n",
      "ShADdafF              6\n",
      "ShADr                 6\n",
      "ShA                   6\n",
      "ShADadttFf            6\n",
      "ShAdfFa               6\n",
      "CCCC                  6\n",
      "ShAF                  6\n",
      "D^                    5\n",
      "ShADadRf              5\n",
      "ShADad                5\n",
      "ShADadcgttfF          5\n",
      "DdAaFf                4\n",
      "ShADFar               4\n",
      "ShAdDaFTf             4\n",
      "SaR                   4\n",
      "ShAdDaFRRf            4\n",
      "ShADacdtfF            3\n",
      "ShAdDaFfr             3\n",
      "ShAdDFaf              3\n",
      "ShADadf               3\n",
      "ShADadR               3\n",
      "ShADdrfFr             3\n",
      "ShAFr                 3\n",
      "ShADFadfR             3\n",
      "ShADadtctfF           3\n",
      "ShADacfF              3\n",
      "ShADadtcfF            3\n",
      "ShADadttcfF           3\n",
      "ShADa                 3\n",
      "ShADaR                3\n",
      "ShAdDtafF             2\n",
      "DdAa                  2\n",
      "CCC                   2\n",
      "ShAdDatfr             2\n",
      "ShAFf                 2\n",
      "ShDadAf               2\n",
      "ShAdaFr               2\n",
      "ShAdDaFT              2\n",
      "ShAdDafFr             2\n",
      "ShADFa                2\n",
      "Aa                    2\n",
      "ShAdFaf               2\n",
      "ShAdDatfF             2\n",
      "Hr                    1\n",
      "ShAdr                 1\n",
      "ShADadtftF            1\n",
      "ShADdar               1\n",
      "ShAD                  1\n",
      "ShADadr               1\n",
      "ShADadcgtftF          1\n",
      "ShADaTdtR             1\n",
      "ShwR                  1\n",
      "ShAdDfr               1\n",
      "ShAdDafR              1\n",
      "ShADadFRfR            1\n",
      "ShAdDafr              1\n",
      "ShADda                1\n",
      "ShADafdtF             1\n",
      "DaFfA                 1\n",
      "DdAFaf                1\n",
      "ShwAadDfr             1\n",
      "ShADacdftF            1\n",
      "ShADacdtttfF          1\n",
      "ShADadtfFr            1\n",
      "ShADadtTfFr           1\n",
      "ShADdaf               1\n",
      "ShADadttFRfR          1\n",
      "ShADacdFf             1\n",
      "ShAdDa                1\n",
      "ShAdDaFRr             1\n",
      "ShAdD                 1\n",
      "ShADCaGdfF            1\n",
      "ShADFaR               1\n",
      "ShAdDaFRRRf           1\n",
      "ShADFfR               1\n",
      "ShAdDar               1\n",
      "ShAadDr               1\n",
      "ShADadfrr             1\n",
      "ShADaCGdt             1\n",
      "ShADaCGcgdF           1\n",
      "^dDA                  1\n",
      "ShADadFfR             1\n",
      "ShADCaGcgd            1\n",
      "ShADaCGr              1\n",
      "ShADaCGdtfF           1\n",
      "D^d                   1\n",
      "ShADrfR               1\n",
      "ShAdF                 1\n",
      "ShADdafR              1\n",
      "ShAFa                 1\n",
      "ShArR                 1\n",
      "ShAdDFf               1\n",
      "ShAdDatf              1\n",
      "DFafA                 1\n",
      "ShADarfF              1\n",
      "ShADadtctfFR          1\n",
      "DdAtaFf               1\n",
      "ShADFaf               1\n",
      "ShAFfar               1\n",
      "ShADaF                1\n",
      "SahAdDF               1\n",
      "SahAdDtFf             1\n",
      "ShAdDaTF              1\n",
      "ShADFadfRR            1\n",
      "SahAdDFRf             1\n",
      "ShAadDFR              1\n",
      "ShAdDaTFRf            1\n",
      "ShAadDFRf             1\n",
      "ShAdDtaFf             1\n",
      "ShAafF                1\n",
      "ShADFfa               1\n",
      "ShAdDatR              1\n",
      "SAD                   1\n",
      "Name: history, dtype: int64\n"
     ]
    },
    {
     "data": {
      "text/plain": "Benign    379390\nName: detailed-label, dtype: int64"
     },
     "execution_count": 33,
     "metadata": {},
     "output_type": "execute_result"
    }
   ],
   "source": [
    "\n",
    "print(df_c_normal['conn_state'].value_counts())\n",
    "print(df_c_normal['local_orig'].value_counts())\n",
    "print(df_c_normal['local_resp'].value_counts())\n",
    "print(df_c_normal['history'].value_counts())\n",
    "\n",
    "df_c_normal.loc[(df_c_normal.label == '-   Benign   -'), 'label'] = 'Benign'\n",
    "df_c_normal.loc[(df_c_normal.label == '(empty)   Benign   -'), 'label'] = 'Benign'\n",
    "\n",
    "df_c_normal.loc[(df_c_normal.label == 'Benign'), 'detailed-label'] = 'Benign'\n",
    "\n",
    "df_c_normal['detailed-label'].value_counts()"
   ],
   "metadata": {
    "collapsed": false,
    "pycharm": {
     "name": "#%%\n"
    }
   }
  },
  {
   "cell_type": "code",
   "execution_count": 34,
   "outputs": [
    {
     "ename": "KeyError",
     "evalue": "'category'",
     "output_type": "error",
     "traceback": [
      "\u001B[0;31m---------------------------------------------------------------------------\u001B[0m",
      "\u001B[0;31mKeyError\u001B[0m                                  Traceback (most recent call last)",
      "File \u001B[0;32m/media/wuguo-buaa/LENOVO_USB_HDD/PycharmProjects/Machine_learning_venv/lib/python3.8/site-packages/pandas/core/indexes/base.py:3361\u001B[0m, in \u001B[0;36mIndex.get_loc\u001B[0;34m(self, key, method, tolerance)\u001B[0m\n\u001B[1;32m   3360\u001B[0m \u001B[38;5;28;01mtry\u001B[39;00m:\n\u001B[0;32m-> 3361\u001B[0m     \u001B[38;5;28;01mreturn\u001B[39;00m \u001B[38;5;28;43mself\u001B[39;49m\u001B[38;5;241;43m.\u001B[39;49m\u001B[43m_engine\u001B[49m\u001B[38;5;241;43m.\u001B[39;49m\u001B[43mget_loc\u001B[49m\u001B[43m(\u001B[49m\u001B[43mcasted_key\u001B[49m\u001B[43m)\u001B[49m\n\u001B[1;32m   3362\u001B[0m \u001B[38;5;28;01mexcept\u001B[39;00m \u001B[38;5;167;01mKeyError\u001B[39;00m \u001B[38;5;28;01mas\u001B[39;00m err:\n",
      "File \u001B[0;32m/media/wuguo-buaa/LENOVO_USB_HDD/PycharmProjects/Machine_learning_venv/lib/python3.8/site-packages/pandas/_libs/index.pyx:76\u001B[0m, in \u001B[0;36mpandas._libs.index.IndexEngine.get_loc\u001B[0;34m()\u001B[0m\n",
      "File \u001B[0;32m/media/wuguo-buaa/LENOVO_USB_HDD/PycharmProjects/Machine_learning_venv/lib/python3.8/site-packages/pandas/_libs/index.pyx:108\u001B[0m, in \u001B[0;36mpandas._libs.index.IndexEngine.get_loc\u001B[0;34m()\u001B[0m\n",
      "File \u001B[0;32mpandas/_libs/hashtable_class_helper.pxi:5198\u001B[0m, in \u001B[0;36mpandas._libs.hashtable.PyObjectHashTable.get_item\u001B[0;34m()\u001B[0m\n",
      "File \u001B[0;32mpandas/_libs/hashtable_class_helper.pxi:5206\u001B[0m, in \u001B[0;36mpandas._libs.hashtable.PyObjectHashTable.get_item\u001B[0;34m()\u001B[0m\n",
      "\u001B[0;31mKeyError\u001B[0m: 'category'",
      "\nThe above exception was the direct cause of the following exception:\n",
      "\u001B[0;31mKeyError\u001B[0m                                  Traceback (most recent call last)",
      "Input \u001B[0;32mIn [34]\u001B[0m, in \u001B[0;36m<cell line: 1>\u001B[0;34m()\u001B[0m\n\u001B[0;32m----> 1\u001B[0m \u001B[38;5;28mprint\u001B[39m(\u001B[43mdf_c_normal\u001B[49m\u001B[43m[\u001B[49m\u001B[38;5;124;43m'\u001B[39;49m\u001B[38;5;124;43mcategory\u001B[39;49m\u001B[38;5;124;43m'\u001B[39;49m\u001B[43m]\u001B[49m\u001B[38;5;241m.\u001B[39mvalue_counts())\n\u001B[1;32m      2\u001B[0m df_c_normal\n",
      "File \u001B[0;32m/media/wuguo-buaa/LENOVO_USB_HDD/PycharmProjects/Machine_learning_venv/lib/python3.8/site-packages/pandas/core/frame.py:3458\u001B[0m, in \u001B[0;36mDataFrame.__getitem__\u001B[0;34m(self, key)\u001B[0m\n\u001B[1;32m   3456\u001B[0m \u001B[38;5;28;01mif\u001B[39;00m \u001B[38;5;28mself\u001B[39m\u001B[38;5;241m.\u001B[39mcolumns\u001B[38;5;241m.\u001B[39mnlevels \u001B[38;5;241m>\u001B[39m \u001B[38;5;241m1\u001B[39m:\n\u001B[1;32m   3457\u001B[0m     \u001B[38;5;28;01mreturn\u001B[39;00m \u001B[38;5;28mself\u001B[39m\u001B[38;5;241m.\u001B[39m_getitem_multilevel(key)\n\u001B[0;32m-> 3458\u001B[0m indexer \u001B[38;5;241m=\u001B[39m \u001B[38;5;28;43mself\u001B[39;49m\u001B[38;5;241;43m.\u001B[39;49m\u001B[43mcolumns\u001B[49m\u001B[38;5;241;43m.\u001B[39;49m\u001B[43mget_loc\u001B[49m\u001B[43m(\u001B[49m\u001B[43mkey\u001B[49m\u001B[43m)\u001B[49m\n\u001B[1;32m   3459\u001B[0m \u001B[38;5;28;01mif\u001B[39;00m is_integer(indexer):\n\u001B[1;32m   3460\u001B[0m     indexer \u001B[38;5;241m=\u001B[39m [indexer]\n",
      "File \u001B[0;32m/media/wuguo-buaa/LENOVO_USB_HDD/PycharmProjects/Machine_learning_venv/lib/python3.8/site-packages/pandas/core/indexes/base.py:3363\u001B[0m, in \u001B[0;36mIndex.get_loc\u001B[0;34m(self, key, method, tolerance)\u001B[0m\n\u001B[1;32m   3361\u001B[0m         \u001B[38;5;28;01mreturn\u001B[39;00m \u001B[38;5;28mself\u001B[39m\u001B[38;5;241m.\u001B[39m_engine\u001B[38;5;241m.\u001B[39mget_loc(casted_key)\n\u001B[1;32m   3362\u001B[0m     \u001B[38;5;28;01mexcept\u001B[39;00m \u001B[38;5;167;01mKeyError\u001B[39;00m \u001B[38;5;28;01mas\u001B[39;00m err:\n\u001B[0;32m-> 3363\u001B[0m         \u001B[38;5;28;01mraise\u001B[39;00m \u001B[38;5;167;01mKeyError\u001B[39;00m(key) \u001B[38;5;28;01mfrom\u001B[39;00m \u001B[38;5;21;01merr\u001B[39;00m\n\u001B[1;32m   3365\u001B[0m \u001B[38;5;28;01mif\u001B[39;00m is_scalar(key) \u001B[38;5;129;01mand\u001B[39;00m isna(key) \u001B[38;5;129;01mand\u001B[39;00m \u001B[38;5;129;01mnot\u001B[39;00m \u001B[38;5;28mself\u001B[39m\u001B[38;5;241m.\u001B[39mhasnans:\n\u001B[1;32m   3366\u001B[0m     \u001B[38;5;28;01mraise\u001B[39;00m \u001B[38;5;167;01mKeyError\u001B[39;00m(key)\n",
      "\u001B[0;31mKeyError\u001B[0m: 'category'"
     ]
    }
   ],
   "source": [
    "print(df_c_normal['category'].value_counts())\n",
    "df_c_normal"
   ],
   "metadata": {
    "collapsed": false,
    "pycharm": {
     "name": "#%%\n"
    }
   }
  },
  {
   "cell_type": "code",
   "execution_count": 35,
   "outputs": [
    {
     "data": {
      "text/plain": "       proto service  duration orig_bytes resp_bytes conn_state  missed_bytes  \\\n0        tcp       -  2.998796          0          0         S0           0.0   \n1        tcp       -         -          -          -         S0           0.0   \n2        tcp       -         -          -          -         S0           0.0   \n3        tcp       -  2.998804          0          0         S0           0.0   \n4        tcp       -         -          -          -         S0           0.0   \n...      ...     ...       ...        ...        ...        ...           ...   \n199984   tcp       -         -          -          -         S0           0.0   \n199985   tcp       -         -          -          -         S0           0.0   \n199986   tcp       -         -          -          -         S0           0.0   \n199987   tcp       -         -          -          -         S0           0.0   \n199988   tcp       -         -          -          -         S0           0.0   \n\n        orig_pkts  orig_ip_bytes  resp_pkts  resp_ip_bytes  \\\n0             3.0          180.0        0.0            0.0   \n1             1.0           60.0        0.0            0.0   \n2             1.0           60.0        0.0            0.0   \n3             3.0          180.0        0.0            0.0   \n4             1.0           60.0        0.0            0.0   \n...           ...            ...        ...            ...   \n199984        1.0           40.0        0.0            0.0   \n199985        1.0           40.0        0.0            0.0   \n199986        1.0           40.0        0.0            0.0   \n199987        1.0           40.0        0.0            0.0   \n199988        1.0           40.0        0.0            0.0   \n\n                                                  label detailed-label  \n0       (empty)   Malicious   PartOfAHorizontalPortScan            NaN  \n1       (empty)   Malicious   PartOfAHorizontalPortScan            NaN  \n2       (empty)   Malicious   PartOfAHorizontalPortScan            NaN  \n3                                                Benign         Benign  \n4                                                Benign         Benign  \n...                                                 ...            ...  \n199984  (empty)   Malicious   PartOfAHorizontalPortScan            NaN  \n199985  (empty)   Malicious   PartOfAHorizontalPortScan            NaN  \n199986  (empty)   Malicious   PartOfAHorizontalPortScan            NaN  \n199987  (empty)   Malicious   PartOfAHorizontalPortScan            NaN  \n199988  (empty)   Malicious   PartOfAHorizontalPortScan            NaN  \n\n[2800645 rows x 13 columns]",
      "text/html": "<div>\n<style scoped>\n    .dataframe tbody tr th:only-of-type {\n        vertical-align: middle;\n    }\n\n    .dataframe tbody tr th {\n        vertical-align: top;\n    }\n\n    .dataframe thead th {\n        text-align: right;\n    }\n</style>\n<table border=\"1\" class=\"dataframe\">\n  <thead>\n    <tr style=\"text-align: right;\">\n      <th></th>\n      <th>proto</th>\n      <th>service</th>\n      <th>duration</th>\n      <th>orig_bytes</th>\n      <th>resp_bytes</th>\n      <th>conn_state</th>\n      <th>missed_bytes</th>\n      <th>orig_pkts</th>\n      <th>orig_ip_bytes</th>\n      <th>resp_pkts</th>\n      <th>resp_ip_bytes</th>\n      <th>label</th>\n      <th>detailed-label</th>\n    </tr>\n  </thead>\n  <tbody>\n    <tr>\n      <th>0</th>\n      <td>tcp</td>\n      <td>-</td>\n      <td>2.998796</td>\n      <td>0</td>\n      <td>0</td>\n      <td>S0</td>\n      <td>0.0</td>\n      <td>3.0</td>\n      <td>180.0</td>\n      <td>0.0</td>\n      <td>0.0</td>\n      <td>(empty)   Malicious   PartOfAHorizontalPortScan</td>\n      <td>NaN</td>\n    </tr>\n    <tr>\n      <th>1</th>\n      <td>tcp</td>\n      <td>-</td>\n      <td>-</td>\n      <td>-</td>\n      <td>-</td>\n      <td>S0</td>\n      <td>0.0</td>\n      <td>1.0</td>\n      <td>60.0</td>\n      <td>0.0</td>\n      <td>0.0</td>\n      <td>(empty)   Malicious   PartOfAHorizontalPortScan</td>\n      <td>NaN</td>\n    </tr>\n    <tr>\n      <th>2</th>\n      <td>tcp</td>\n      <td>-</td>\n      <td>-</td>\n      <td>-</td>\n      <td>-</td>\n      <td>S0</td>\n      <td>0.0</td>\n      <td>1.0</td>\n      <td>60.0</td>\n      <td>0.0</td>\n      <td>0.0</td>\n      <td>(empty)   Malicious   PartOfAHorizontalPortScan</td>\n      <td>NaN</td>\n    </tr>\n    <tr>\n      <th>3</th>\n      <td>tcp</td>\n      <td>-</td>\n      <td>2.998804</td>\n      <td>0</td>\n      <td>0</td>\n      <td>S0</td>\n      <td>0.0</td>\n      <td>3.0</td>\n      <td>180.0</td>\n      <td>0.0</td>\n      <td>0.0</td>\n      <td>Benign</td>\n      <td>Benign</td>\n    </tr>\n    <tr>\n      <th>4</th>\n      <td>tcp</td>\n      <td>-</td>\n      <td>-</td>\n      <td>-</td>\n      <td>-</td>\n      <td>S0</td>\n      <td>0.0</td>\n      <td>1.0</td>\n      <td>60.0</td>\n      <td>0.0</td>\n      <td>0.0</td>\n      <td>Benign</td>\n      <td>Benign</td>\n    </tr>\n    <tr>\n      <th>...</th>\n      <td>...</td>\n      <td>...</td>\n      <td>...</td>\n      <td>...</td>\n      <td>...</td>\n      <td>...</td>\n      <td>...</td>\n      <td>...</td>\n      <td>...</td>\n      <td>...</td>\n      <td>...</td>\n      <td>...</td>\n      <td>...</td>\n    </tr>\n    <tr>\n      <th>199984</th>\n      <td>tcp</td>\n      <td>-</td>\n      <td>-</td>\n      <td>-</td>\n      <td>-</td>\n      <td>S0</td>\n      <td>0.0</td>\n      <td>1.0</td>\n      <td>40.0</td>\n      <td>0.0</td>\n      <td>0.0</td>\n      <td>(empty)   Malicious   PartOfAHorizontalPortScan</td>\n      <td>NaN</td>\n    </tr>\n    <tr>\n      <th>199985</th>\n      <td>tcp</td>\n      <td>-</td>\n      <td>-</td>\n      <td>-</td>\n      <td>-</td>\n      <td>S0</td>\n      <td>0.0</td>\n      <td>1.0</td>\n      <td>40.0</td>\n      <td>0.0</td>\n      <td>0.0</td>\n      <td>(empty)   Malicious   PartOfAHorizontalPortScan</td>\n      <td>NaN</td>\n    </tr>\n    <tr>\n      <th>199986</th>\n      <td>tcp</td>\n      <td>-</td>\n      <td>-</td>\n      <td>-</td>\n      <td>-</td>\n      <td>S0</td>\n      <td>0.0</td>\n      <td>1.0</td>\n      <td>40.0</td>\n      <td>0.0</td>\n      <td>0.0</td>\n      <td>(empty)   Malicious   PartOfAHorizontalPortScan</td>\n      <td>NaN</td>\n    </tr>\n    <tr>\n      <th>199987</th>\n      <td>tcp</td>\n      <td>-</td>\n      <td>-</td>\n      <td>-</td>\n      <td>-</td>\n      <td>S0</td>\n      <td>0.0</td>\n      <td>1.0</td>\n      <td>40.0</td>\n      <td>0.0</td>\n      <td>0.0</td>\n      <td>(empty)   Malicious   PartOfAHorizontalPortScan</td>\n      <td>NaN</td>\n    </tr>\n    <tr>\n      <th>199988</th>\n      <td>tcp</td>\n      <td>-</td>\n      <td>-</td>\n      <td>-</td>\n      <td>-</td>\n      <td>S0</td>\n      <td>0.0</td>\n      <td>1.0</td>\n      <td>40.0</td>\n      <td>0.0</td>\n      <td>0.0</td>\n      <td>(empty)   Malicious   PartOfAHorizontalPortScan</td>\n      <td>NaN</td>\n    </tr>\n  </tbody>\n</table>\n<p>2800645 rows × 13 columns</p>\n</div>"
     },
     "execution_count": 35,
     "metadata": {},
     "output_type": "execute_result"
    }
   ],
   "source": [
    "pd.options.display.max_rows = 300\n",
    "pd.options.display.max_columns = 300\n",
    "df_c_normal = df_c_normal.drop(columns=['ts', 'uid', 'id.orig_h', 'id.orig_p', 'id.resp_h', 'id.resp_p',\n",
    "                          'local_orig', 'local_resp', 'history'])\n",
    "df_c_normal"
   ],
   "metadata": {
    "collapsed": false,
    "pycharm": {
     "name": "#%%\n"
    }
   }
  },
  {
   "cell_type": "code",
   "execution_count": 36,
   "outputs": [],
   "source": [
    "df_c_normal = df_c_normal[df_c_normal['label']=='Benign']"
   ],
   "metadata": {
    "collapsed": false,
    "pycharm": {
     "name": "#%%\n"
    }
   }
  },
  {
   "cell_type": "code",
   "execution_count": 37,
   "outputs": [
    {
     "data": {
      "text/plain": "       proto service   duration orig_bytes resp_bytes conn_state  \\\n3        tcp       -   2.998804          0          0         S0   \n4        tcp       -          -          -          -         S0   \n14       tcp       -          -          -          -         S0   \n27       tcp       -          -          -          -         S0   \n44       tcp       -   2.998560          0          0         S0   \n...      ...     ...        ...        ...        ...        ...   \n199377   udp       -  42.987277        318          0         S0   \n199378   udp       -          -          -          -         S0   \n199379   udp       -  25.988957        212          0         S0   \n199380   udp       -  25.988955        212          0         S0   \n199764   tcp       -   0.434745          0          0        REJ   \n\n        missed_bytes  orig_pkts  orig_ip_bytes  resp_pkts  resp_ip_bytes  \\\n3                0.0        3.0          180.0        0.0            0.0   \n4                0.0        1.0           60.0        0.0            0.0   \n14               0.0        1.0           60.0        0.0            0.0   \n27               0.0        1.0           60.0        0.0            0.0   \n44               0.0        3.0          180.0        0.0            0.0   \n...              ...        ...            ...        ...            ...   \n199377           0.0        3.0          402.0        0.0            0.0   \n199378           0.0        1.0           95.0        0.0            0.0   \n199379           0.0        2.0          268.0        0.0            0.0   \n199380           0.0        2.0          268.0        0.0            0.0   \n199764           0.0        1.0           40.0        1.0           40.0   \n\n         label detailed-label  \n3       Benign         Benign  \n4       Benign         Benign  \n14      Benign         Benign  \n27      Benign         Benign  \n44      Benign         Benign  \n...        ...            ...  \n199377  Benign         Benign  \n199378  Benign         Benign  \n199379  Benign         Benign  \n199380  Benign         Benign  \n199764  Benign         Benign  \n\n[379390 rows x 13 columns]",
      "text/html": "<div>\n<style scoped>\n    .dataframe tbody tr th:only-of-type {\n        vertical-align: middle;\n    }\n\n    .dataframe tbody tr th {\n        vertical-align: top;\n    }\n\n    .dataframe thead th {\n        text-align: right;\n    }\n</style>\n<table border=\"1\" class=\"dataframe\">\n  <thead>\n    <tr style=\"text-align: right;\">\n      <th></th>\n      <th>proto</th>\n      <th>service</th>\n      <th>duration</th>\n      <th>orig_bytes</th>\n      <th>resp_bytes</th>\n      <th>conn_state</th>\n      <th>missed_bytes</th>\n      <th>orig_pkts</th>\n      <th>orig_ip_bytes</th>\n      <th>resp_pkts</th>\n      <th>resp_ip_bytes</th>\n      <th>label</th>\n      <th>detailed-label</th>\n    </tr>\n  </thead>\n  <tbody>\n    <tr>\n      <th>3</th>\n      <td>tcp</td>\n      <td>-</td>\n      <td>2.998804</td>\n      <td>0</td>\n      <td>0</td>\n      <td>S0</td>\n      <td>0.0</td>\n      <td>3.0</td>\n      <td>180.0</td>\n      <td>0.0</td>\n      <td>0.0</td>\n      <td>Benign</td>\n      <td>Benign</td>\n    </tr>\n    <tr>\n      <th>4</th>\n      <td>tcp</td>\n      <td>-</td>\n      <td>-</td>\n      <td>-</td>\n      <td>-</td>\n      <td>S0</td>\n      <td>0.0</td>\n      <td>1.0</td>\n      <td>60.0</td>\n      <td>0.0</td>\n      <td>0.0</td>\n      <td>Benign</td>\n      <td>Benign</td>\n    </tr>\n    <tr>\n      <th>14</th>\n      <td>tcp</td>\n      <td>-</td>\n      <td>-</td>\n      <td>-</td>\n      <td>-</td>\n      <td>S0</td>\n      <td>0.0</td>\n      <td>1.0</td>\n      <td>60.0</td>\n      <td>0.0</td>\n      <td>0.0</td>\n      <td>Benign</td>\n      <td>Benign</td>\n    </tr>\n    <tr>\n      <th>27</th>\n      <td>tcp</td>\n      <td>-</td>\n      <td>-</td>\n      <td>-</td>\n      <td>-</td>\n      <td>S0</td>\n      <td>0.0</td>\n      <td>1.0</td>\n      <td>60.0</td>\n      <td>0.0</td>\n      <td>0.0</td>\n      <td>Benign</td>\n      <td>Benign</td>\n    </tr>\n    <tr>\n      <th>44</th>\n      <td>tcp</td>\n      <td>-</td>\n      <td>2.998560</td>\n      <td>0</td>\n      <td>0</td>\n      <td>S0</td>\n      <td>0.0</td>\n      <td>3.0</td>\n      <td>180.0</td>\n      <td>0.0</td>\n      <td>0.0</td>\n      <td>Benign</td>\n      <td>Benign</td>\n    </tr>\n    <tr>\n      <th>...</th>\n      <td>...</td>\n      <td>...</td>\n      <td>...</td>\n      <td>...</td>\n      <td>...</td>\n      <td>...</td>\n      <td>...</td>\n      <td>...</td>\n      <td>...</td>\n      <td>...</td>\n      <td>...</td>\n      <td>...</td>\n      <td>...</td>\n    </tr>\n    <tr>\n      <th>199377</th>\n      <td>udp</td>\n      <td>-</td>\n      <td>42.987277</td>\n      <td>318</td>\n      <td>0</td>\n      <td>S0</td>\n      <td>0.0</td>\n      <td>3.0</td>\n      <td>402.0</td>\n      <td>0.0</td>\n      <td>0.0</td>\n      <td>Benign</td>\n      <td>Benign</td>\n    </tr>\n    <tr>\n      <th>199378</th>\n      <td>udp</td>\n      <td>-</td>\n      <td>-</td>\n      <td>-</td>\n      <td>-</td>\n      <td>S0</td>\n      <td>0.0</td>\n      <td>1.0</td>\n      <td>95.0</td>\n      <td>0.0</td>\n      <td>0.0</td>\n      <td>Benign</td>\n      <td>Benign</td>\n    </tr>\n    <tr>\n      <th>199379</th>\n      <td>udp</td>\n      <td>-</td>\n      <td>25.988957</td>\n      <td>212</td>\n      <td>0</td>\n      <td>S0</td>\n      <td>0.0</td>\n      <td>2.0</td>\n      <td>268.0</td>\n      <td>0.0</td>\n      <td>0.0</td>\n      <td>Benign</td>\n      <td>Benign</td>\n    </tr>\n    <tr>\n      <th>199380</th>\n      <td>udp</td>\n      <td>-</td>\n      <td>25.988955</td>\n      <td>212</td>\n      <td>0</td>\n      <td>S0</td>\n      <td>0.0</td>\n      <td>2.0</td>\n      <td>268.0</td>\n      <td>0.0</td>\n      <td>0.0</td>\n      <td>Benign</td>\n      <td>Benign</td>\n    </tr>\n    <tr>\n      <th>199764</th>\n      <td>tcp</td>\n      <td>-</td>\n      <td>0.434745</td>\n      <td>0</td>\n      <td>0</td>\n      <td>REJ</td>\n      <td>0.0</td>\n      <td>1.0</td>\n      <td>40.0</td>\n      <td>1.0</td>\n      <td>40.0</td>\n      <td>Benign</td>\n      <td>Benign</td>\n    </tr>\n  </tbody>\n</table>\n<p>379390 rows × 13 columns</p>\n</div>"
     },
     "execution_count": 37,
     "metadata": {},
     "output_type": "execute_result"
    }
   ],
   "source": [
    "df_c_normal"
   ],
   "metadata": {
    "collapsed": false,
    "pycharm": {
     "name": "#%%\n"
    }
   }
  },
  {
   "cell_type": "code",
   "execution_count": 38,
   "outputs": [
    {
     "data": {
      "text/plain": "       proto service   duration orig_bytes resp_bytes conn_state  \\\n3        tcp       -   2.998804          0          0         S0   \n4        tcp       -          -          -          -         S0   \n14       tcp       -          -          -          -         S0   \n27       tcp       -          -          -          -         S0   \n44       tcp       -   2.998560          0          0         S0   \n...      ...     ...        ...        ...        ...        ...   \n199377   udp       -  42.987277        318          0         S0   \n199378   udp       -          -          -          -         S0   \n199379   udp       -  25.988957        212          0         S0   \n199380   udp       -  25.988955        212          0         S0   \n199764   tcp       -   0.434745          0          0        REJ   \n\n        missed_bytes  orig_pkts  orig_ip_bytes  resp_pkts  resp_ip_bytes  \\\n3                0.0        3.0          180.0        0.0            0.0   \n4                0.0        1.0           60.0        0.0            0.0   \n14               0.0        1.0           60.0        0.0            0.0   \n27               0.0        1.0           60.0        0.0            0.0   \n44               0.0        3.0          180.0        0.0            0.0   \n...              ...        ...            ...        ...            ...   \n199377           0.0        3.0          402.0        0.0            0.0   \n199378           0.0        1.0           95.0        0.0            0.0   \n199379           0.0        2.0          268.0        0.0            0.0   \n199380           0.0        2.0          268.0        0.0            0.0   \n199764           0.0        1.0           40.0        1.0           40.0   \n\n         label detailed-label  \n3       Benign         Benign  \n4       Benign         Benign  \n14      Benign         Benign  \n27      Benign         Benign  \n44      Benign         Benign  \n...        ...            ...  \n199377  Benign         Benign  \n199378  Benign         Benign  \n199379  Benign         Benign  \n199380  Benign         Benign  \n199764  Benign         Benign  \n\n[379390 rows x 13 columns]",
      "text/html": "<div>\n<style scoped>\n    .dataframe tbody tr th:only-of-type {\n        vertical-align: middle;\n    }\n\n    .dataframe tbody tr th {\n        vertical-align: top;\n    }\n\n    .dataframe thead th {\n        text-align: right;\n    }\n</style>\n<table border=\"1\" class=\"dataframe\">\n  <thead>\n    <tr style=\"text-align: right;\">\n      <th></th>\n      <th>proto</th>\n      <th>service</th>\n      <th>duration</th>\n      <th>orig_bytes</th>\n      <th>resp_bytes</th>\n      <th>conn_state</th>\n      <th>missed_bytes</th>\n      <th>orig_pkts</th>\n      <th>orig_ip_bytes</th>\n      <th>resp_pkts</th>\n      <th>resp_ip_bytes</th>\n      <th>label</th>\n      <th>detailed-label</th>\n    </tr>\n  </thead>\n  <tbody>\n    <tr>\n      <th>3</th>\n      <td>tcp</td>\n      <td>-</td>\n      <td>2.998804</td>\n      <td>0</td>\n      <td>0</td>\n      <td>S0</td>\n      <td>0.0</td>\n      <td>3.0</td>\n      <td>180.0</td>\n      <td>0.0</td>\n      <td>0.0</td>\n      <td>Benign</td>\n      <td>Benign</td>\n    </tr>\n    <tr>\n      <th>4</th>\n      <td>tcp</td>\n      <td>-</td>\n      <td>-</td>\n      <td>-</td>\n      <td>-</td>\n      <td>S0</td>\n      <td>0.0</td>\n      <td>1.0</td>\n      <td>60.0</td>\n      <td>0.0</td>\n      <td>0.0</td>\n      <td>Benign</td>\n      <td>Benign</td>\n    </tr>\n    <tr>\n      <th>14</th>\n      <td>tcp</td>\n      <td>-</td>\n      <td>-</td>\n      <td>-</td>\n      <td>-</td>\n      <td>S0</td>\n      <td>0.0</td>\n      <td>1.0</td>\n      <td>60.0</td>\n      <td>0.0</td>\n      <td>0.0</td>\n      <td>Benign</td>\n      <td>Benign</td>\n    </tr>\n    <tr>\n      <th>27</th>\n      <td>tcp</td>\n      <td>-</td>\n      <td>-</td>\n      <td>-</td>\n      <td>-</td>\n      <td>S0</td>\n      <td>0.0</td>\n      <td>1.0</td>\n      <td>60.0</td>\n      <td>0.0</td>\n      <td>0.0</td>\n      <td>Benign</td>\n      <td>Benign</td>\n    </tr>\n    <tr>\n      <th>44</th>\n      <td>tcp</td>\n      <td>-</td>\n      <td>2.998560</td>\n      <td>0</td>\n      <td>0</td>\n      <td>S0</td>\n      <td>0.0</td>\n      <td>3.0</td>\n      <td>180.0</td>\n      <td>0.0</td>\n      <td>0.0</td>\n      <td>Benign</td>\n      <td>Benign</td>\n    </tr>\n    <tr>\n      <th>...</th>\n      <td>...</td>\n      <td>...</td>\n      <td>...</td>\n      <td>...</td>\n      <td>...</td>\n      <td>...</td>\n      <td>...</td>\n      <td>...</td>\n      <td>...</td>\n      <td>...</td>\n      <td>...</td>\n      <td>...</td>\n      <td>...</td>\n    </tr>\n    <tr>\n      <th>199377</th>\n      <td>udp</td>\n      <td>-</td>\n      <td>42.987277</td>\n      <td>318</td>\n      <td>0</td>\n      <td>S0</td>\n      <td>0.0</td>\n      <td>3.0</td>\n      <td>402.0</td>\n      <td>0.0</td>\n      <td>0.0</td>\n      <td>Benign</td>\n      <td>Benign</td>\n    </tr>\n    <tr>\n      <th>199378</th>\n      <td>udp</td>\n      <td>-</td>\n      <td>-</td>\n      <td>-</td>\n      <td>-</td>\n      <td>S0</td>\n      <td>0.0</td>\n      <td>1.0</td>\n      <td>95.0</td>\n      <td>0.0</td>\n      <td>0.0</td>\n      <td>Benign</td>\n      <td>Benign</td>\n    </tr>\n    <tr>\n      <th>199379</th>\n      <td>udp</td>\n      <td>-</td>\n      <td>25.988957</td>\n      <td>212</td>\n      <td>0</td>\n      <td>S0</td>\n      <td>0.0</td>\n      <td>2.0</td>\n      <td>268.0</td>\n      <td>0.0</td>\n      <td>0.0</td>\n      <td>Benign</td>\n      <td>Benign</td>\n    </tr>\n    <tr>\n      <th>199380</th>\n      <td>udp</td>\n      <td>-</td>\n      <td>25.988955</td>\n      <td>212</td>\n      <td>0</td>\n      <td>S0</td>\n      <td>0.0</td>\n      <td>2.0</td>\n      <td>268.0</td>\n      <td>0.0</td>\n      <td>0.0</td>\n      <td>Benign</td>\n      <td>Benign</td>\n    </tr>\n    <tr>\n      <th>199764</th>\n      <td>tcp</td>\n      <td>-</td>\n      <td>0.434745</td>\n      <td>0</td>\n      <td>0</td>\n      <td>REJ</td>\n      <td>0.0</td>\n      <td>1.0</td>\n      <td>40.0</td>\n      <td>1.0</td>\n      <td>40.0</td>\n      <td>Benign</td>\n      <td>Benign</td>\n    </tr>\n  </tbody>\n</table>\n<p>379390 rows × 13 columns</p>\n</div>"
     },
     "execution_count": 38,
     "metadata": {},
     "output_type": "execute_result"
    }
   ],
   "source": [
    "# df_c_normal = pd.get_dummies(df_c_normal, columns=['proto'])\n",
    "# df_c_normal = pd.get_dummies(df_c_normal, columns=['conn_state'])\n",
    "# df_c_normal = pd.get_dummies(df_c_normal, columns=['service'])\n",
    "df_c_normal"
   ],
   "metadata": {
    "collapsed": false,
    "pycharm": {
     "name": "#%%\n"
    }
   }
  },
  {
   "cell_type": "code",
   "execution_count": 39,
   "outputs": [
    {
     "name": "stderr",
     "output_type": "stream",
     "text": [
      "/tmp/ipykernel_26483/444740188.py:1: SettingWithCopyWarning: \n",
      "A value is trying to be set on a copy of a slice from a DataFrame.\n",
      "Try using .loc[row_indexer,col_indexer] = value instead\n",
      "\n",
      "See the caveats in the documentation: https://pandas.pydata.org/pandas-docs/stable/user_guide/indexing.html#returning-a-view-versus-a-copy\n",
      "  df_c_normal['duration'] = df_c_normal['duration'].str.replace('-', '0')\n",
      "/tmp/ipykernel_26483/444740188.py:2: SettingWithCopyWarning: \n",
      "A value is trying to be set on a copy of a slice from a DataFrame.\n",
      "Try using .loc[row_indexer,col_indexer] = value instead\n",
      "\n",
      "See the caveats in the documentation: https://pandas.pydata.org/pandas-docs/stable/user_guide/indexing.html#returning-a-view-versus-a-copy\n",
      "  df_c_normal['orig_bytes'] = df_c_normal['orig_bytes'].str.replace('-', '0')\n",
      "/tmp/ipykernel_26483/444740188.py:3: SettingWithCopyWarning: \n",
      "A value is trying to be set on a copy of a slice from a DataFrame.\n",
      "Try using .loc[row_indexer,col_indexer] = value instead\n",
      "\n",
      "See the caveats in the documentation: https://pandas.pydata.org/pandas-docs/stable/user_guide/indexing.html#returning-a-view-versus-a-copy\n",
      "  df_c_normal['resp_bytes'] = df_c_normal['resp_bytes'].str.replace('-', '0')\n",
      "/media/wuguo-buaa/LENOVO_USB_HDD/PycharmProjects/Machine_learning_venv/lib/python3.8/site-packages/pandas/core/frame.py:5176: SettingWithCopyWarning: \n",
      "A value is trying to be set on a copy of a slice from a DataFrame\n",
      "\n",
      "See the caveats in the documentation: https://pandas.pydata.org/pandas-docs/stable/user_guide/indexing.html#returning-a-view-versus-a-copy\n",
      "  return super().fillna(\n"
     ]
    },
    {
     "data": {
      "text/plain": "proto             0\nservice           0\nduration          0\norig_bytes        0\nresp_bytes        0\nconn_state        0\nmissed_bytes      0\norig_pkts         0\norig_ip_bytes     0\nresp_pkts         0\nresp_ip_bytes     0\nlabel             0\ndetailed-label    0\ndtype: int64"
     },
     "execution_count": 39,
     "metadata": {},
     "output_type": "execute_result"
    }
   ],
   "source": [
    "df_c_normal['duration'] = df_c_normal['duration'].str.replace('-', '0')\n",
    "df_c_normal['orig_bytes'] = df_c_normal['orig_bytes'].str.replace('-', '0')\n",
    "df_c_normal['resp_bytes'] = df_c_normal['resp_bytes'].str.replace('-', '0')\n",
    "df_c_normal.fillna(-1, inplace=True)\n",
    "df_c_normal.isna().sum()"
   ],
   "metadata": {
    "collapsed": false,
    "pycharm": {
     "name": "#%%\n"
    }
   }
  },
  {
   "cell_type": "code",
   "execution_count": 40,
   "outputs": [],
   "source": [
    "df_c_normal.to_csv('./Data/iot23_Benign_combined_big.csv')"
   ],
   "metadata": {
    "collapsed": false,
    "pycharm": {
     "name": "#%%\n"
    }
   }
  },
  {
   "cell_type": "code",
   "execution_count": 41,
   "outputs": [
    {
     "data": {
      "text/plain": "        proto service  duration orig_bytes resp_bytes conn_state  \\\n0         tcp       -        -1         -1         -1         S0   \n1         tcp       -        -1         -1         -1         S0   \n2         tcp       -        -1         -1         -1         S0   \n3         tcp       -        -1         -1         -1         S0   \n4         tcp       -        -1         -1         -1         S0   \n...       ...     ...       ...        ...        ...        ...   \n1279995   tcp       -         0          0          0         S0   \n1279996   tcp       -  0.000005          0          0         S0   \n1279997   tcp       -         0          0          0         S0   \n1279998   tcp       -         0          0          0         S0   \n1279999   tcp       -         0          0          0         S0   \n\n         missed_bytes  orig_pkts  orig_ip_bytes  resp_pkts  resp_ip_bytes  \\\n0                   0          6            360          0              0   \n1                   0          6            360          0              0   \n2                   0          6            360          0              0   \n3                   0          6            360          0              0   \n4                   0          6            360          0              0   \n...               ...        ...            ...        ...            ...   \n1279995             0          1             40          0              0   \n1279996             0          2             80          0              0   \n1279997             0          1             40          0              0   \n1279998             0          1             40          0              0   \n1279999             0          1             40          0              0   \n\n             label                    detailed-label  \n0        Malicious  PartOfAHorizontalPortScan-Attack  \n1        Malicious  PartOfAHorizontalPortScan-Attack  \n2        Malicious  PartOfAHorizontalPortScan-Attack  \n3        Malicious  PartOfAHorizontalPortScan-Attack  \n4        Malicious  PartOfAHorizontalPortScan-Attack  \n...            ...                               ...  \n1279995  Malicious         PartOfAHorizontalPortScan  \n1279996  Malicious         PartOfAHorizontalPortScan  \n1279997  Malicious         PartOfAHorizontalPortScan  \n1279998  Malicious         PartOfAHorizontalPortScan  \n1279999  Malicious         PartOfAHorizontalPortScan  \n\n[3906910 rows x 13 columns]",
      "text/html": "<div>\n<style scoped>\n    .dataframe tbody tr th:only-of-type {\n        vertical-align: middle;\n    }\n\n    .dataframe tbody tr th {\n        vertical-align: top;\n    }\n\n    .dataframe thead th {\n        text-align: right;\n    }\n</style>\n<table border=\"1\" class=\"dataframe\">\n  <thead>\n    <tr style=\"text-align: right;\">\n      <th></th>\n      <th>proto</th>\n      <th>service</th>\n      <th>duration</th>\n      <th>orig_bytes</th>\n      <th>resp_bytes</th>\n      <th>conn_state</th>\n      <th>missed_bytes</th>\n      <th>orig_pkts</th>\n      <th>orig_ip_bytes</th>\n      <th>resp_pkts</th>\n      <th>resp_ip_bytes</th>\n      <th>label</th>\n      <th>detailed-label</th>\n    </tr>\n  </thead>\n  <tbody>\n    <tr>\n      <th>0</th>\n      <td>tcp</td>\n      <td>-</td>\n      <td>-1</td>\n      <td>-1</td>\n      <td>-1</td>\n      <td>S0</td>\n      <td>0</td>\n      <td>6</td>\n      <td>360</td>\n      <td>0</td>\n      <td>0</td>\n      <td>Malicious</td>\n      <td>PartOfAHorizontalPortScan-Attack</td>\n    </tr>\n    <tr>\n      <th>1</th>\n      <td>tcp</td>\n      <td>-</td>\n      <td>-1</td>\n      <td>-1</td>\n      <td>-1</td>\n      <td>S0</td>\n      <td>0</td>\n      <td>6</td>\n      <td>360</td>\n      <td>0</td>\n      <td>0</td>\n      <td>Malicious</td>\n      <td>PartOfAHorizontalPortScan-Attack</td>\n    </tr>\n    <tr>\n      <th>2</th>\n      <td>tcp</td>\n      <td>-</td>\n      <td>-1</td>\n      <td>-1</td>\n      <td>-1</td>\n      <td>S0</td>\n      <td>0</td>\n      <td>6</td>\n      <td>360</td>\n      <td>0</td>\n      <td>0</td>\n      <td>Malicious</td>\n      <td>PartOfAHorizontalPortScan-Attack</td>\n    </tr>\n    <tr>\n      <th>3</th>\n      <td>tcp</td>\n      <td>-</td>\n      <td>-1</td>\n      <td>-1</td>\n      <td>-1</td>\n      <td>S0</td>\n      <td>0</td>\n      <td>6</td>\n      <td>360</td>\n      <td>0</td>\n      <td>0</td>\n      <td>Malicious</td>\n      <td>PartOfAHorizontalPortScan-Attack</td>\n    </tr>\n    <tr>\n      <th>4</th>\n      <td>tcp</td>\n      <td>-</td>\n      <td>-1</td>\n      <td>-1</td>\n      <td>-1</td>\n      <td>S0</td>\n      <td>0</td>\n      <td>6</td>\n      <td>360</td>\n      <td>0</td>\n      <td>0</td>\n      <td>Malicious</td>\n      <td>PartOfAHorizontalPortScan-Attack</td>\n    </tr>\n    <tr>\n      <th>...</th>\n      <td>...</td>\n      <td>...</td>\n      <td>...</td>\n      <td>...</td>\n      <td>...</td>\n      <td>...</td>\n      <td>...</td>\n      <td>...</td>\n      <td>...</td>\n      <td>...</td>\n      <td>...</td>\n      <td>...</td>\n      <td>...</td>\n    </tr>\n    <tr>\n      <th>1279995</th>\n      <td>tcp</td>\n      <td>-</td>\n      <td>0</td>\n      <td>0</td>\n      <td>0</td>\n      <td>S0</td>\n      <td>0</td>\n      <td>1</td>\n      <td>40</td>\n      <td>0</td>\n      <td>0</td>\n      <td>Malicious</td>\n      <td>PartOfAHorizontalPortScan</td>\n    </tr>\n    <tr>\n      <th>1279996</th>\n      <td>tcp</td>\n      <td>-</td>\n      <td>0.000005</td>\n      <td>0</td>\n      <td>0</td>\n      <td>S0</td>\n      <td>0</td>\n      <td>2</td>\n      <td>80</td>\n      <td>0</td>\n      <td>0</td>\n      <td>Malicious</td>\n      <td>PartOfAHorizontalPortScan</td>\n    </tr>\n    <tr>\n      <th>1279997</th>\n      <td>tcp</td>\n      <td>-</td>\n      <td>0</td>\n      <td>0</td>\n      <td>0</td>\n      <td>S0</td>\n      <td>0</td>\n      <td>1</td>\n      <td>40</td>\n      <td>0</td>\n      <td>0</td>\n      <td>Malicious</td>\n      <td>PartOfAHorizontalPortScan</td>\n    </tr>\n    <tr>\n      <th>1279998</th>\n      <td>tcp</td>\n      <td>-</td>\n      <td>0</td>\n      <td>0</td>\n      <td>0</td>\n      <td>S0</td>\n      <td>0</td>\n      <td>1</td>\n      <td>40</td>\n      <td>0</td>\n      <td>0</td>\n      <td>Malicious</td>\n      <td>PartOfAHorizontalPortScan</td>\n    </tr>\n    <tr>\n      <th>1279999</th>\n      <td>tcp</td>\n      <td>-</td>\n      <td>0</td>\n      <td>0</td>\n      <td>0</td>\n      <td>S0</td>\n      <td>0</td>\n      <td>1</td>\n      <td>40</td>\n      <td>0</td>\n      <td>0</td>\n      <td>Malicious</td>\n      <td>PartOfAHorizontalPortScan</td>\n    </tr>\n  </tbody>\n</table>\n<p>3906910 rows × 13 columns</p>\n</div>"
     },
     "execution_count": 41,
     "metadata": {},
     "output_type": "execute_result"
    }
   ],
   "source": [
    "df_c"
   ],
   "metadata": {
    "collapsed": false,
    "pycharm": {
     "name": "#%%\n"
    }
   }
  },
  {
   "cell_type": "code",
   "execution_count": 42,
   "outputs": [
    {
     "data": {
      "text/plain": "       proto service   duration orig_bytes resp_bytes conn_state  \\\n3        tcp       -   2.998804          0          0         S0   \n4        tcp       -          0          0          0         S0   \n14       tcp       -          0          0          0         S0   \n27       tcp       -          0          0          0         S0   \n44       tcp       -   2.998560          0          0         S0   \n...      ...     ...        ...        ...        ...        ...   \n199377   udp       -  42.987277        318          0         S0   \n199378   udp       -          0          0          0         S0   \n199379   udp       -  25.988957        212          0         S0   \n199380   udp       -  25.988955        212          0         S0   \n199764   tcp       -   0.434745          0          0        REJ   \n\n        missed_bytes  orig_pkts  orig_ip_bytes  resp_pkts  resp_ip_bytes  \\\n3                0.0        3.0          180.0        0.0            0.0   \n4                0.0        1.0           60.0        0.0            0.0   \n14               0.0        1.0           60.0        0.0            0.0   \n27               0.0        1.0           60.0        0.0            0.0   \n44               0.0        3.0          180.0        0.0            0.0   \n...              ...        ...            ...        ...            ...   \n199377           0.0        3.0          402.0        0.0            0.0   \n199378           0.0        1.0           95.0        0.0            0.0   \n199379           0.0        2.0          268.0        0.0            0.0   \n199380           0.0        2.0          268.0        0.0            0.0   \n199764           0.0        1.0           40.0        1.0           40.0   \n\n         label detailed-label  \n3       Benign         Benign  \n4       Benign         Benign  \n14      Benign         Benign  \n27      Benign         Benign  \n44      Benign         Benign  \n...        ...            ...  \n199377  Benign         Benign  \n199378  Benign         Benign  \n199379  Benign         Benign  \n199380  Benign         Benign  \n199764  Benign         Benign  \n\n[379390 rows x 13 columns]",
      "text/html": "<div>\n<style scoped>\n    .dataframe tbody tr th:only-of-type {\n        vertical-align: middle;\n    }\n\n    .dataframe tbody tr th {\n        vertical-align: top;\n    }\n\n    .dataframe thead th {\n        text-align: right;\n    }\n</style>\n<table border=\"1\" class=\"dataframe\">\n  <thead>\n    <tr style=\"text-align: right;\">\n      <th></th>\n      <th>proto</th>\n      <th>service</th>\n      <th>duration</th>\n      <th>orig_bytes</th>\n      <th>resp_bytes</th>\n      <th>conn_state</th>\n      <th>missed_bytes</th>\n      <th>orig_pkts</th>\n      <th>orig_ip_bytes</th>\n      <th>resp_pkts</th>\n      <th>resp_ip_bytes</th>\n      <th>label</th>\n      <th>detailed-label</th>\n    </tr>\n  </thead>\n  <tbody>\n    <tr>\n      <th>3</th>\n      <td>tcp</td>\n      <td>-</td>\n      <td>2.998804</td>\n      <td>0</td>\n      <td>0</td>\n      <td>S0</td>\n      <td>0.0</td>\n      <td>3.0</td>\n      <td>180.0</td>\n      <td>0.0</td>\n      <td>0.0</td>\n      <td>Benign</td>\n      <td>Benign</td>\n    </tr>\n    <tr>\n      <th>4</th>\n      <td>tcp</td>\n      <td>-</td>\n      <td>0</td>\n      <td>0</td>\n      <td>0</td>\n      <td>S0</td>\n      <td>0.0</td>\n      <td>1.0</td>\n      <td>60.0</td>\n      <td>0.0</td>\n      <td>0.0</td>\n      <td>Benign</td>\n      <td>Benign</td>\n    </tr>\n    <tr>\n      <th>14</th>\n      <td>tcp</td>\n      <td>-</td>\n      <td>0</td>\n      <td>0</td>\n      <td>0</td>\n      <td>S0</td>\n      <td>0.0</td>\n      <td>1.0</td>\n      <td>60.0</td>\n      <td>0.0</td>\n      <td>0.0</td>\n      <td>Benign</td>\n      <td>Benign</td>\n    </tr>\n    <tr>\n      <th>27</th>\n      <td>tcp</td>\n      <td>-</td>\n      <td>0</td>\n      <td>0</td>\n      <td>0</td>\n      <td>S0</td>\n      <td>0.0</td>\n      <td>1.0</td>\n      <td>60.0</td>\n      <td>0.0</td>\n      <td>0.0</td>\n      <td>Benign</td>\n      <td>Benign</td>\n    </tr>\n    <tr>\n      <th>44</th>\n      <td>tcp</td>\n      <td>-</td>\n      <td>2.998560</td>\n      <td>0</td>\n      <td>0</td>\n      <td>S0</td>\n      <td>0.0</td>\n      <td>3.0</td>\n      <td>180.0</td>\n      <td>0.0</td>\n      <td>0.0</td>\n      <td>Benign</td>\n      <td>Benign</td>\n    </tr>\n    <tr>\n      <th>...</th>\n      <td>...</td>\n      <td>...</td>\n      <td>...</td>\n      <td>...</td>\n      <td>...</td>\n      <td>...</td>\n      <td>...</td>\n      <td>...</td>\n      <td>...</td>\n      <td>...</td>\n      <td>...</td>\n      <td>...</td>\n      <td>...</td>\n    </tr>\n    <tr>\n      <th>199377</th>\n      <td>udp</td>\n      <td>-</td>\n      <td>42.987277</td>\n      <td>318</td>\n      <td>0</td>\n      <td>S0</td>\n      <td>0.0</td>\n      <td>3.0</td>\n      <td>402.0</td>\n      <td>0.0</td>\n      <td>0.0</td>\n      <td>Benign</td>\n      <td>Benign</td>\n    </tr>\n    <tr>\n      <th>199378</th>\n      <td>udp</td>\n      <td>-</td>\n      <td>0</td>\n      <td>0</td>\n      <td>0</td>\n      <td>S0</td>\n      <td>0.0</td>\n      <td>1.0</td>\n      <td>95.0</td>\n      <td>0.0</td>\n      <td>0.0</td>\n      <td>Benign</td>\n      <td>Benign</td>\n    </tr>\n    <tr>\n      <th>199379</th>\n      <td>udp</td>\n      <td>-</td>\n      <td>25.988957</td>\n      <td>212</td>\n      <td>0</td>\n      <td>S0</td>\n      <td>0.0</td>\n      <td>2.0</td>\n      <td>268.0</td>\n      <td>0.0</td>\n      <td>0.0</td>\n      <td>Benign</td>\n      <td>Benign</td>\n    </tr>\n    <tr>\n      <th>199380</th>\n      <td>udp</td>\n      <td>-</td>\n      <td>25.988955</td>\n      <td>212</td>\n      <td>0</td>\n      <td>S0</td>\n      <td>0.0</td>\n      <td>2.0</td>\n      <td>268.0</td>\n      <td>0.0</td>\n      <td>0.0</td>\n      <td>Benign</td>\n      <td>Benign</td>\n    </tr>\n    <tr>\n      <th>199764</th>\n      <td>tcp</td>\n      <td>-</td>\n      <td>0.434745</td>\n      <td>0</td>\n      <td>0</td>\n      <td>REJ</td>\n      <td>0.0</td>\n      <td>1.0</td>\n      <td>40.0</td>\n      <td>1.0</td>\n      <td>40.0</td>\n      <td>Benign</td>\n      <td>Benign</td>\n    </tr>\n  </tbody>\n</table>\n<p>379390 rows × 13 columns</p>\n</div>"
     },
     "execution_count": 42,
     "metadata": {},
     "output_type": "execute_result"
    }
   ],
   "source": [
    "df_c_normal"
   ],
   "metadata": {
    "collapsed": false,
    "pycharm": {
     "name": "#%%\n"
    }
   }
  },
  {
   "cell_type": "code",
   "execution_count": 43,
   "outputs": [],
   "source": [
    "# df_c = pd.read_table(filepath_or_buffer='./Data/iot23_attack_combined_big.csv')\n",
    "frame_combine = [df_c,df_c_normal]\n",
    "df_all = pd.concat(frame_combine)"
   ],
   "metadata": {
    "collapsed": false,
    "pycharm": {
     "name": "#%%\n"
    }
   }
  },
  {
   "cell_type": "code",
   "execution_count": 49,
   "outputs": [
    {
     "data": {
      "text/plain": "         duration orig_bytes resp_bytes  missed_bytes  orig_pkts  \\\n0              -1         -1         -1           0.0        6.0   \n1              -1         -1         -1           0.0        6.0   \n2              -1         -1         -1           0.0        6.0   \n3              -1         -1         -1           0.0        6.0   \n4              -1         -1         -1           0.0        6.0   \n...           ...        ...        ...           ...        ...   \n199377  42.987277        318          0           0.0        3.0   \n199378          0          0          0           0.0        1.0   \n199379  25.988957        212          0           0.0        2.0   \n199380  25.988955        212          0           0.0        2.0   \n199764   0.434745          0          0           0.0        1.0   \n\n        orig_ip_bytes  resp_pkts  resp_ip_bytes      label  \\\n0               360.0        0.0            0.0  Malicious   \n1               360.0        0.0            0.0  Malicious   \n2               360.0        0.0            0.0  Malicious   \n3               360.0        0.0            0.0  Malicious   \n4               360.0        0.0            0.0  Malicious   \n...               ...        ...            ...        ...   \n199377          402.0        0.0            0.0     Benign   \n199378           95.0        0.0            0.0     Benign   \n199379          268.0        0.0            0.0     Benign   \n199380          268.0        0.0            0.0     Benign   \n199764           40.0        1.0           40.0     Benign   \n\n                          detailed-label  service_-  service_dhcp  \\\n0       PartOfAHorizontalPortScan-Attack          1             0   \n1       PartOfAHorizontalPortScan-Attack          1             0   \n2       PartOfAHorizontalPortScan-Attack          1             0   \n3       PartOfAHorizontalPortScan-Attack          1             0   \n4       PartOfAHorizontalPortScan-Attack          1             0   \n...                                  ...        ...           ...   \n199377                            Benign          1             0   \n199378                            Benign          1             0   \n199379                            Benign          1             0   \n199380                            Benign          1             0   \n199764                            Benign          1             0   \n\n        service_dns  service_http  service_irc  service_ssh  service_ssl  \\\n0                 0             0            0            0            0   \n1                 0             0            0            0            0   \n2                 0             0            0            0            0   \n3                 0             0            0            0            0   \n4                 0             0            0            0            0   \n...             ...           ...          ...          ...          ...   \n199377            0             0            0            0            0   \n199378            0             0            0            0            0   \n199379            0             0            0            0            0   \n199380            0             0            0            0            0   \n199764            0             0            0            0            0   \n\n        conn_state_OTH  conn_state_REJ  conn_state_RSTO  conn_state_RSTOS0  \\\n0                    0               0                0                  0   \n1                    0               0                0                  0   \n2                    0               0                0                  0   \n3                    0               0                0                  0   \n4                    0               0                0                  0   \n...                ...             ...              ...                ...   \n199377               0               0                0                  0   \n199378               0               0                0                  0   \n199379               0               0                0                  0   \n199380               0               0                0                  0   \n199764               0               1                0                  0   \n\n        conn_state_RSTR  conn_state_RSTRH  conn_state_S0  conn_state_S1  \\\n0                     0                 0              1              0   \n1                     0                 0              1              0   \n2                     0                 0              1              0   \n3                     0                 0              1              0   \n4                     0                 0              1              0   \n...                 ...               ...            ...            ...   \n199377                0                 0              1              0   \n199378                0                 0              1              0   \n199379                0                 0              1              0   \n199380                0                 0              1              0   \n199764                0                 0              0              0   \n\n        conn_state_S2  conn_state_S3  conn_state_SF  conn_state_SH  \\\n0                   0              0              0              0   \n1                   0              0              0              0   \n2                   0              0              0              0   \n3                   0              0              0              0   \n4                   0              0              0              0   \n...               ...            ...            ...            ...   \n199377              0              0              0              0   \n199378              0              0              0              0   \n199379              0              0              0              0   \n199380              0              0              0              0   \n199764              0              0              0              0   \n\n        conn_state_SHR  proto_icmp  proto_tcp  proto_udp  \n0                    0           0          1          0  \n1                    0           0          1          0  \n2                    0           0          1          0  \n3                    0           0          1          0  \n4                    0           0          1          0  \n...                ...         ...        ...        ...  \n199377               0           0          0          1  \n199378               0           0          0          1  \n199379               0           0          0          1  \n199380               0           0          0          1  \n199764               0           0          1          0  \n\n[4286300 rows x 33 columns]",
      "text/html": "<div>\n<style scoped>\n    .dataframe tbody tr th:only-of-type {\n        vertical-align: middle;\n    }\n\n    .dataframe tbody tr th {\n        vertical-align: top;\n    }\n\n    .dataframe thead th {\n        text-align: right;\n    }\n</style>\n<table border=\"1\" class=\"dataframe\">\n  <thead>\n    <tr style=\"text-align: right;\">\n      <th></th>\n      <th>duration</th>\n      <th>orig_bytes</th>\n      <th>resp_bytes</th>\n      <th>missed_bytes</th>\n      <th>orig_pkts</th>\n      <th>orig_ip_bytes</th>\n      <th>resp_pkts</th>\n      <th>resp_ip_bytes</th>\n      <th>label</th>\n      <th>detailed-label</th>\n      <th>service_-</th>\n      <th>service_dhcp</th>\n      <th>service_dns</th>\n      <th>service_http</th>\n      <th>service_irc</th>\n      <th>service_ssh</th>\n      <th>service_ssl</th>\n      <th>conn_state_OTH</th>\n      <th>conn_state_REJ</th>\n      <th>conn_state_RSTO</th>\n      <th>conn_state_RSTOS0</th>\n      <th>conn_state_RSTR</th>\n      <th>conn_state_RSTRH</th>\n      <th>conn_state_S0</th>\n      <th>conn_state_S1</th>\n      <th>conn_state_S2</th>\n      <th>conn_state_S3</th>\n      <th>conn_state_SF</th>\n      <th>conn_state_SH</th>\n      <th>conn_state_SHR</th>\n      <th>proto_icmp</th>\n      <th>proto_tcp</th>\n      <th>proto_udp</th>\n    </tr>\n  </thead>\n  <tbody>\n    <tr>\n      <th>0</th>\n      <td>-1</td>\n      <td>-1</td>\n      <td>-1</td>\n      <td>0.0</td>\n      <td>6.0</td>\n      <td>360.0</td>\n      <td>0.0</td>\n      <td>0.0</td>\n      <td>Malicious</td>\n      <td>PartOfAHorizontalPortScan-Attack</td>\n      <td>1</td>\n      <td>0</td>\n      <td>0</td>\n      <td>0</td>\n      <td>0</td>\n      <td>0</td>\n      <td>0</td>\n      <td>0</td>\n      <td>0</td>\n      <td>0</td>\n      <td>0</td>\n      <td>0</td>\n      <td>0</td>\n      <td>1</td>\n      <td>0</td>\n      <td>0</td>\n      <td>0</td>\n      <td>0</td>\n      <td>0</td>\n      <td>0</td>\n      <td>0</td>\n      <td>1</td>\n      <td>0</td>\n    </tr>\n    <tr>\n      <th>1</th>\n      <td>-1</td>\n      <td>-1</td>\n      <td>-1</td>\n      <td>0.0</td>\n      <td>6.0</td>\n      <td>360.0</td>\n      <td>0.0</td>\n      <td>0.0</td>\n      <td>Malicious</td>\n      <td>PartOfAHorizontalPortScan-Attack</td>\n      <td>1</td>\n      <td>0</td>\n      <td>0</td>\n      <td>0</td>\n      <td>0</td>\n      <td>0</td>\n      <td>0</td>\n      <td>0</td>\n      <td>0</td>\n      <td>0</td>\n      <td>0</td>\n      <td>0</td>\n      <td>0</td>\n      <td>1</td>\n      <td>0</td>\n      <td>0</td>\n      <td>0</td>\n      <td>0</td>\n      <td>0</td>\n      <td>0</td>\n      <td>0</td>\n      <td>1</td>\n      <td>0</td>\n    </tr>\n    <tr>\n      <th>2</th>\n      <td>-1</td>\n      <td>-1</td>\n      <td>-1</td>\n      <td>0.0</td>\n      <td>6.0</td>\n      <td>360.0</td>\n      <td>0.0</td>\n      <td>0.0</td>\n      <td>Malicious</td>\n      <td>PartOfAHorizontalPortScan-Attack</td>\n      <td>1</td>\n      <td>0</td>\n      <td>0</td>\n      <td>0</td>\n      <td>0</td>\n      <td>0</td>\n      <td>0</td>\n      <td>0</td>\n      <td>0</td>\n      <td>0</td>\n      <td>0</td>\n      <td>0</td>\n      <td>0</td>\n      <td>1</td>\n      <td>0</td>\n      <td>0</td>\n      <td>0</td>\n      <td>0</td>\n      <td>0</td>\n      <td>0</td>\n      <td>0</td>\n      <td>1</td>\n      <td>0</td>\n    </tr>\n    <tr>\n      <th>3</th>\n      <td>-1</td>\n      <td>-1</td>\n      <td>-1</td>\n      <td>0.0</td>\n      <td>6.0</td>\n      <td>360.0</td>\n      <td>0.0</td>\n      <td>0.0</td>\n      <td>Malicious</td>\n      <td>PartOfAHorizontalPortScan-Attack</td>\n      <td>1</td>\n      <td>0</td>\n      <td>0</td>\n      <td>0</td>\n      <td>0</td>\n      <td>0</td>\n      <td>0</td>\n      <td>0</td>\n      <td>0</td>\n      <td>0</td>\n      <td>0</td>\n      <td>0</td>\n      <td>0</td>\n      <td>1</td>\n      <td>0</td>\n      <td>0</td>\n      <td>0</td>\n      <td>0</td>\n      <td>0</td>\n      <td>0</td>\n      <td>0</td>\n      <td>1</td>\n      <td>0</td>\n    </tr>\n    <tr>\n      <th>4</th>\n      <td>-1</td>\n      <td>-1</td>\n      <td>-1</td>\n      <td>0.0</td>\n      <td>6.0</td>\n      <td>360.0</td>\n      <td>0.0</td>\n      <td>0.0</td>\n      <td>Malicious</td>\n      <td>PartOfAHorizontalPortScan-Attack</td>\n      <td>1</td>\n      <td>0</td>\n      <td>0</td>\n      <td>0</td>\n      <td>0</td>\n      <td>0</td>\n      <td>0</td>\n      <td>0</td>\n      <td>0</td>\n      <td>0</td>\n      <td>0</td>\n      <td>0</td>\n      <td>0</td>\n      <td>1</td>\n      <td>0</td>\n      <td>0</td>\n      <td>0</td>\n      <td>0</td>\n      <td>0</td>\n      <td>0</td>\n      <td>0</td>\n      <td>1</td>\n      <td>0</td>\n    </tr>\n    <tr>\n      <th>...</th>\n      <td>...</td>\n      <td>...</td>\n      <td>...</td>\n      <td>...</td>\n      <td>...</td>\n      <td>...</td>\n      <td>...</td>\n      <td>...</td>\n      <td>...</td>\n      <td>...</td>\n      <td>...</td>\n      <td>...</td>\n      <td>...</td>\n      <td>...</td>\n      <td>...</td>\n      <td>...</td>\n      <td>...</td>\n      <td>...</td>\n      <td>...</td>\n      <td>...</td>\n      <td>...</td>\n      <td>...</td>\n      <td>...</td>\n      <td>...</td>\n      <td>...</td>\n      <td>...</td>\n      <td>...</td>\n      <td>...</td>\n      <td>...</td>\n      <td>...</td>\n      <td>...</td>\n      <td>...</td>\n      <td>...</td>\n    </tr>\n    <tr>\n      <th>199377</th>\n      <td>42.987277</td>\n      <td>318</td>\n      <td>0</td>\n      <td>0.0</td>\n      <td>3.0</td>\n      <td>402.0</td>\n      <td>0.0</td>\n      <td>0.0</td>\n      <td>Benign</td>\n      <td>Benign</td>\n      <td>1</td>\n      <td>0</td>\n      <td>0</td>\n      <td>0</td>\n      <td>0</td>\n      <td>0</td>\n      <td>0</td>\n      <td>0</td>\n      <td>0</td>\n      <td>0</td>\n      <td>0</td>\n      <td>0</td>\n      <td>0</td>\n      <td>1</td>\n      <td>0</td>\n      <td>0</td>\n      <td>0</td>\n      <td>0</td>\n      <td>0</td>\n      <td>0</td>\n      <td>0</td>\n      <td>0</td>\n      <td>1</td>\n    </tr>\n    <tr>\n      <th>199378</th>\n      <td>0</td>\n      <td>0</td>\n      <td>0</td>\n      <td>0.0</td>\n      <td>1.0</td>\n      <td>95.0</td>\n      <td>0.0</td>\n      <td>0.0</td>\n      <td>Benign</td>\n      <td>Benign</td>\n      <td>1</td>\n      <td>0</td>\n      <td>0</td>\n      <td>0</td>\n      <td>0</td>\n      <td>0</td>\n      <td>0</td>\n      <td>0</td>\n      <td>0</td>\n      <td>0</td>\n      <td>0</td>\n      <td>0</td>\n      <td>0</td>\n      <td>1</td>\n      <td>0</td>\n      <td>0</td>\n      <td>0</td>\n      <td>0</td>\n      <td>0</td>\n      <td>0</td>\n      <td>0</td>\n      <td>0</td>\n      <td>1</td>\n    </tr>\n    <tr>\n      <th>199379</th>\n      <td>25.988957</td>\n      <td>212</td>\n      <td>0</td>\n      <td>0.0</td>\n      <td>2.0</td>\n      <td>268.0</td>\n      <td>0.0</td>\n      <td>0.0</td>\n      <td>Benign</td>\n      <td>Benign</td>\n      <td>1</td>\n      <td>0</td>\n      <td>0</td>\n      <td>0</td>\n      <td>0</td>\n      <td>0</td>\n      <td>0</td>\n      <td>0</td>\n      <td>0</td>\n      <td>0</td>\n      <td>0</td>\n      <td>0</td>\n      <td>0</td>\n      <td>1</td>\n      <td>0</td>\n      <td>0</td>\n      <td>0</td>\n      <td>0</td>\n      <td>0</td>\n      <td>0</td>\n      <td>0</td>\n      <td>0</td>\n      <td>1</td>\n    </tr>\n    <tr>\n      <th>199380</th>\n      <td>25.988955</td>\n      <td>212</td>\n      <td>0</td>\n      <td>0.0</td>\n      <td>2.0</td>\n      <td>268.0</td>\n      <td>0.0</td>\n      <td>0.0</td>\n      <td>Benign</td>\n      <td>Benign</td>\n      <td>1</td>\n      <td>0</td>\n      <td>0</td>\n      <td>0</td>\n      <td>0</td>\n      <td>0</td>\n      <td>0</td>\n      <td>0</td>\n      <td>0</td>\n      <td>0</td>\n      <td>0</td>\n      <td>0</td>\n      <td>0</td>\n      <td>1</td>\n      <td>0</td>\n      <td>0</td>\n      <td>0</td>\n      <td>0</td>\n      <td>0</td>\n      <td>0</td>\n      <td>0</td>\n      <td>0</td>\n      <td>1</td>\n    </tr>\n    <tr>\n      <th>199764</th>\n      <td>0.434745</td>\n      <td>0</td>\n      <td>0</td>\n      <td>0.0</td>\n      <td>1.0</td>\n      <td>40.0</td>\n      <td>1.0</td>\n      <td>40.0</td>\n      <td>Benign</td>\n      <td>Benign</td>\n      <td>1</td>\n      <td>0</td>\n      <td>0</td>\n      <td>0</td>\n      <td>0</td>\n      <td>0</td>\n      <td>0</td>\n      <td>0</td>\n      <td>1</td>\n      <td>0</td>\n      <td>0</td>\n      <td>0</td>\n      <td>0</td>\n      <td>0</td>\n      <td>0</td>\n      <td>0</td>\n      <td>0</td>\n      <td>0</td>\n      <td>0</td>\n      <td>0</td>\n      <td>0</td>\n      <td>1</td>\n      <td>0</td>\n    </tr>\n  </tbody>\n</table>\n<p>4286300 rows × 33 columns</p>\n</div>"
     },
     "execution_count": 49,
     "metadata": {},
     "output_type": "execute_result"
    }
   ],
   "source": [
    "df_all = pd.get_dummies(df_all, columns=['service'])\n",
    "df_all = pd.get_dummies(df_all, columns=['conn_state'])\n",
    "df_all = pd.get_dummies(df_all, columns=['proto'])\n",
    "df_all"
   ],
   "metadata": {
    "collapsed": false,
    "pycharm": {
     "name": "#%%\n"
    }
   }
  },
  {
   "cell_type": "code",
   "execution_count": 50,
   "outputs": [],
   "source": [
    "df_all.to_csv('./Data/iot23_all_combined_big.csv')"
   ],
   "metadata": {
    "collapsed": false,
    "pycharm": {
     "name": "#%%\n"
    }
   }
  },
  {
   "cell_type": "markdown",
   "source": [
    "### split all data to train/test"
   ],
   "metadata": {
    "collapsed": false
   }
  },
  {
   "cell_type": "code",
   "execution_count": 51,
   "outputs": [],
   "source": [
    "import pandas as pd\n",
    "from sklearn.model_selection import train_test_split\n",
    "\n",
    "filepath = \"./Data/iot23_all_combined_big.csv\"\n",
    "df = pd.read_csv(filepath)\n",
    "del df['Unnamed: 0']\n",
    "X = df[\n",
    "    ['duration', 'orig_bytes', 'resp_bytes', 'missed_bytes', 'orig_pkts', 'orig_ip_bytes', 'resp_pkts', 'resp_ip_bytes',\n",
    "     'proto_icmp', 'proto_tcp', 'proto_udp', 'service_-', 'service_dhcp', 'service_dns', 'service_http', 'service_ssh',\n",
    "     'service_ssl', 'service_irc', 'conn_state_OTH', 'conn_state_REJ', 'conn_state_RSTO', 'conn_state_RSTOS0',\n",
    "     'conn_state_RSTR', 'conn_state_S0', 'conn_state_S1', 'conn_state_S2', 'conn_state_S3',\n",
    "     'conn_state_SF', 'conn_state_SH', 'conn_state_SHR']]\n",
    "Y = df['label']\n",
    "X_train, X_test, Y_train, Y_test = train_test_split(X, Y, random_state=100, test_size=0.2,stratify=Y)\n",
    "type(X_train)\n",
    "train_data = \"./Data/split/train_data_big.csv\"\n",
    "test_data = './Data/split/test_data_big.csv'\n",
    "pd.concat([X_train, Y_train], axis=1).to_csv(train_data, index=False, encoding='utf-8')\n",
    "pd.concat([X_test, Y_test], axis=1).to_csv(test_data, index=False, encoding='utf-8')"
   ],
   "metadata": {
    "collapsed": false,
    "pycharm": {
     "name": "#%%\n"
    }
   }
  },
  {
   "cell_type": "markdown",
   "source": [
    "## balance all data"
   ],
   "metadata": {
    "collapsed": false
   }
  },
  {
   "cell_type": "code",
   "execution_count": 19,
   "outputs": [],
   "source": [
    "import pandas as pd\n",
    "from sklearn.model_selection import train_test_split\n",
    "\n",
    "filepath = \"./Data/iot23_all_combined_big.csv\"\n",
    "df = pd.read_csv(filepath)\n",
    "del df['Unnamed: 0']\n",
    "X = df[\n",
    "    ['duration', 'orig_bytes', 'resp_bytes', 'missed_bytes', 'orig_pkts', 'orig_ip_bytes', 'resp_pkts', 'resp_ip_bytes',\n",
    "     'proto_icmp', 'proto_tcp', 'proto_udp', 'service_-', 'service_dhcp', 'service_dns', 'service_http', 'service_ssh',\n",
    "     'service_ssl', 'service_irc', 'conn_state_OTH', 'conn_state_REJ', 'conn_state_RSTO', 'conn_state_RSTOS0',\n",
    "     'conn_state_RSTR', 'conn_state_S0', 'conn_state_S1', 'conn_state_S2', 'conn_state_S3',\n",
    "     'conn_state_SF', 'conn_state_SH', 'conn_state_SHR']].values\n",
    "# df.loc[(df.label == 'Malicious'), 'label'] = 1\n",
    "# df.loc[(df.label == 'Benign'), 'label'] = 0\n",
    "Y = df['label'].values"
   ],
   "metadata": {
    "collapsed": false,
    "pycharm": {
     "name": "#%%\n"
    }
   }
  },
  {
   "cell_type": "code",
   "execution_count": 20,
   "outputs": [
    {
     "data": {
      "text/plain": "array([[ -1.      ,  -1.      ,  -1.      , ...,   0.      ,   0.      ,\n          0.      ],\n       [ -1.      ,  -1.      ,  -1.      , ...,   0.      ,   0.      ,\n          0.      ],\n       [ -1.      ,  -1.      ,  -1.      , ...,   0.      ,   0.      ,\n          0.      ],\n       ...,\n       [ 25.988957, 212.      ,   0.      , ...,   0.      ,   0.      ,\n          0.      ],\n       [ 25.988955, 212.      ,   0.      , ...,   0.      ,   0.      ,\n          0.      ],\n       [  0.434745,   0.      ,   0.      , ...,   0.      ,   0.      ,\n          0.      ]])"
     },
     "execution_count": 20,
     "metadata": {},
     "output_type": "execute_result"
    }
   ],
   "source": [
    "X"
   ],
   "metadata": {
    "collapsed": false,
    "pycharm": {
     "name": "#%%\n"
    }
   }
  },
  {
   "cell_type": "code",
   "execution_count": 3,
   "outputs": [
    {
     "name": "stderr",
     "output_type": "stream",
     "text": [
      "2022-05-17 10:35:55,349:INFO:SOMO: Running sampling via ('SOMO', \"{'proportion': 1.0, 'n_grid': 10, 'sigma': 0.2, 'learning_rate': 0.5, 'n_iter': 100, 'n_jobs': 1, 'random_state': None}\")\n"
     ]
    }
   ],
   "source": [
    "import smote_variants as sv\n",
    "# oversampler= sv.distance_SMOTE()\n",
    "oversampler = sv.SOMO()\n",
    "# X_samp and y_samp contain the oversampled dataset\n",
    "X_samp, y_samp= oversampler.sample(X, Y)"
   ],
   "metadata": {
    "collapsed": false,
    "pycharm": {
     "name": "#%%\n"
    }
   }
  },
  {
   "cell_type": "code",
   "execution_count": 9,
   "outputs": [
    {
     "data": {
      "text/plain": "True"
     },
     "execution_count": 9,
     "metadata": {},
     "output_type": "execute_result"
    }
   ],
   "source": [
    "len(y_samp) == len(X_samp)"
   ],
   "metadata": {
    "collapsed": false,
    "pycharm": {
     "name": "#%%\n"
    }
   }
  },
  {
   "cell_type": "code",
   "execution_count": 13,
   "outputs": [
    {
     "data": {
      "text/plain": "         duration  orig_bytes  resp_bytes  missed_bytes  orig_pkts  \\\n0            -1.0        -1.0        -1.0           0.0        6.0   \n1            -1.0        -1.0        -1.0           0.0        6.0   \n2            -1.0        -1.0        -1.0           0.0        6.0   \n3            -1.0        -1.0        -1.0           0.0        6.0   \n4            -1.0        -1.0        -1.0           0.0        6.0   \n...           ...         ...         ...           ...        ...   \n7813815       0.0         0.0         0.0           0.0        1.0   \n7813816       0.0         0.0         0.0           0.0        1.0   \n7813817       0.0         0.0         0.0           0.0        1.0   \n7813818       0.0         0.0         0.0           0.0        1.0   \n7813819       0.0         0.0         0.0           0.0        1.0   \n\n         orig_ip_bytes  resp_pkts  resp_ip_bytes  proto_icmp  proto_tcp  ...  \\\n0           360.000000        0.0            0.0         0.0        1.0  ...   \n1           360.000000        0.0            0.0         0.0        1.0  ...   \n2           360.000000        0.0            0.0         0.0        1.0  ...   \n3           360.000000        0.0            0.0         0.0        1.0  ...   \n4           360.000000        0.0            0.0         0.0        1.0  ...   \n...                ...        ...            ...         ...        ...  ...   \n7813815      68.000000        0.0            0.0         1.0        0.0  ...   \n7813816      68.000000        0.0            0.0         1.0        0.0  ...   \n7813817      68.000000        0.0            0.0         1.0        0.0  ...   \n7813818      68.000000        0.0            0.0         1.0        0.0  ...   \n7813819      78.961429        0.0            0.0         1.0        0.0  ...   \n\n         conn_state_RSTOS0  conn_state_RSTR  conn_state_S0  conn_state_S1  \\\n0                      0.0              0.0            1.0            0.0   \n1                      0.0              0.0            1.0            0.0   \n2                      0.0              0.0            1.0            0.0   \n3                      0.0              0.0            1.0            0.0   \n4                      0.0              0.0            1.0            0.0   \n...                    ...              ...            ...            ...   \n7813815                0.0              0.0            0.0            0.0   \n7813816                0.0              0.0            0.0            0.0   \n7813817                0.0              0.0            0.0            0.0   \n7813818                0.0              0.0            0.0            0.0   \n7813819                0.0              0.0            0.0            0.0   \n\n         conn_state_S2  conn_state_S3  conn_state_SF  conn_state_SH  \\\n0                  0.0            0.0            0.0            0.0   \n1                  0.0            0.0            0.0            0.0   \n2                  0.0            0.0            0.0            0.0   \n3                  0.0            0.0            0.0            0.0   \n4                  0.0            0.0            0.0            0.0   \n...                ...            ...            ...            ...   \n7813815            0.0            0.0            0.0            0.0   \n7813816            0.0            0.0            0.0            0.0   \n7813817            0.0            0.0            0.0            0.0   \n7813818            0.0            0.0            0.0            0.0   \n7813819            0.0            0.0            0.0            0.0   \n\n             label  conn_state_SHR  \n0        Malicious             0.0  \n1        Malicious             0.0  \n2        Malicious             0.0  \n3        Malicious             0.0  \n4        Malicious             0.0  \n...            ...             ...  \n7813815     Benign             0.0  \n7813816     Benign             0.0  \n7813817     Benign             0.0  \n7813818     Benign             0.0  \n7813819     Benign             0.0  \n\n[7813820 rows x 31 columns]",
      "text/html": "<div>\n<style scoped>\n    .dataframe tbody tr th:only-of-type {\n        vertical-align: middle;\n    }\n\n    .dataframe tbody tr th {\n        vertical-align: top;\n    }\n\n    .dataframe thead th {\n        text-align: right;\n    }\n</style>\n<table border=\"1\" class=\"dataframe\">\n  <thead>\n    <tr style=\"text-align: right;\">\n      <th></th>\n      <th>duration</th>\n      <th>orig_bytes</th>\n      <th>resp_bytes</th>\n      <th>missed_bytes</th>\n      <th>orig_pkts</th>\n      <th>orig_ip_bytes</th>\n      <th>resp_pkts</th>\n      <th>resp_ip_bytes</th>\n      <th>proto_icmp</th>\n      <th>proto_tcp</th>\n      <th>...</th>\n      <th>conn_state_RSTOS0</th>\n      <th>conn_state_RSTR</th>\n      <th>conn_state_S0</th>\n      <th>conn_state_S1</th>\n      <th>conn_state_S2</th>\n      <th>conn_state_S3</th>\n      <th>conn_state_SF</th>\n      <th>conn_state_SH</th>\n      <th>label</th>\n      <th>conn_state_SHR</th>\n    </tr>\n  </thead>\n  <tbody>\n    <tr>\n      <th>0</th>\n      <td>-1.0</td>\n      <td>-1.0</td>\n      <td>-1.0</td>\n      <td>0.0</td>\n      <td>6.0</td>\n      <td>360.000000</td>\n      <td>0.0</td>\n      <td>0.0</td>\n      <td>0.0</td>\n      <td>1.0</td>\n      <td>...</td>\n      <td>0.0</td>\n      <td>0.0</td>\n      <td>1.0</td>\n      <td>0.0</td>\n      <td>0.0</td>\n      <td>0.0</td>\n      <td>0.0</td>\n      <td>0.0</td>\n      <td>Malicious</td>\n      <td>0.0</td>\n    </tr>\n    <tr>\n      <th>1</th>\n      <td>-1.0</td>\n      <td>-1.0</td>\n      <td>-1.0</td>\n      <td>0.0</td>\n      <td>6.0</td>\n      <td>360.000000</td>\n      <td>0.0</td>\n      <td>0.0</td>\n      <td>0.0</td>\n      <td>1.0</td>\n      <td>...</td>\n      <td>0.0</td>\n      <td>0.0</td>\n      <td>1.0</td>\n      <td>0.0</td>\n      <td>0.0</td>\n      <td>0.0</td>\n      <td>0.0</td>\n      <td>0.0</td>\n      <td>Malicious</td>\n      <td>0.0</td>\n    </tr>\n    <tr>\n      <th>2</th>\n      <td>-1.0</td>\n      <td>-1.0</td>\n      <td>-1.0</td>\n      <td>0.0</td>\n      <td>6.0</td>\n      <td>360.000000</td>\n      <td>0.0</td>\n      <td>0.0</td>\n      <td>0.0</td>\n      <td>1.0</td>\n      <td>...</td>\n      <td>0.0</td>\n      <td>0.0</td>\n      <td>1.0</td>\n      <td>0.0</td>\n      <td>0.0</td>\n      <td>0.0</td>\n      <td>0.0</td>\n      <td>0.0</td>\n      <td>Malicious</td>\n      <td>0.0</td>\n    </tr>\n    <tr>\n      <th>3</th>\n      <td>-1.0</td>\n      <td>-1.0</td>\n      <td>-1.0</td>\n      <td>0.0</td>\n      <td>6.0</td>\n      <td>360.000000</td>\n      <td>0.0</td>\n      <td>0.0</td>\n      <td>0.0</td>\n      <td>1.0</td>\n      <td>...</td>\n      <td>0.0</td>\n      <td>0.0</td>\n      <td>1.0</td>\n      <td>0.0</td>\n      <td>0.0</td>\n      <td>0.0</td>\n      <td>0.0</td>\n      <td>0.0</td>\n      <td>Malicious</td>\n      <td>0.0</td>\n    </tr>\n    <tr>\n      <th>4</th>\n      <td>-1.0</td>\n      <td>-1.0</td>\n      <td>-1.0</td>\n      <td>0.0</td>\n      <td>6.0</td>\n      <td>360.000000</td>\n      <td>0.0</td>\n      <td>0.0</td>\n      <td>0.0</td>\n      <td>1.0</td>\n      <td>...</td>\n      <td>0.0</td>\n      <td>0.0</td>\n      <td>1.0</td>\n      <td>0.0</td>\n      <td>0.0</td>\n      <td>0.0</td>\n      <td>0.0</td>\n      <td>0.0</td>\n      <td>Malicious</td>\n      <td>0.0</td>\n    </tr>\n    <tr>\n      <th>...</th>\n      <td>...</td>\n      <td>...</td>\n      <td>...</td>\n      <td>...</td>\n      <td>...</td>\n      <td>...</td>\n      <td>...</td>\n      <td>...</td>\n      <td>...</td>\n      <td>...</td>\n      <td>...</td>\n      <td>...</td>\n      <td>...</td>\n      <td>...</td>\n      <td>...</td>\n      <td>...</td>\n      <td>...</td>\n      <td>...</td>\n      <td>...</td>\n      <td>...</td>\n      <td>...</td>\n    </tr>\n    <tr>\n      <th>7813815</th>\n      <td>0.0</td>\n      <td>0.0</td>\n      <td>0.0</td>\n      <td>0.0</td>\n      <td>1.0</td>\n      <td>68.000000</td>\n      <td>0.0</td>\n      <td>0.0</td>\n      <td>1.0</td>\n      <td>0.0</td>\n      <td>...</td>\n      <td>0.0</td>\n      <td>0.0</td>\n      <td>0.0</td>\n      <td>0.0</td>\n      <td>0.0</td>\n      <td>0.0</td>\n      <td>0.0</td>\n      <td>0.0</td>\n      <td>Benign</td>\n      <td>0.0</td>\n    </tr>\n    <tr>\n      <th>7813816</th>\n      <td>0.0</td>\n      <td>0.0</td>\n      <td>0.0</td>\n      <td>0.0</td>\n      <td>1.0</td>\n      <td>68.000000</td>\n      <td>0.0</td>\n      <td>0.0</td>\n      <td>1.0</td>\n      <td>0.0</td>\n      <td>...</td>\n      <td>0.0</td>\n      <td>0.0</td>\n      <td>0.0</td>\n      <td>0.0</td>\n      <td>0.0</td>\n      <td>0.0</td>\n      <td>0.0</td>\n      <td>0.0</td>\n      <td>Benign</td>\n      <td>0.0</td>\n    </tr>\n    <tr>\n      <th>7813817</th>\n      <td>0.0</td>\n      <td>0.0</td>\n      <td>0.0</td>\n      <td>0.0</td>\n      <td>1.0</td>\n      <td>68.000000</td>\n      <td>0.0</td>\n      <td>0.0</td>\n      <td>1.0</td>\n      <td>0.0</td>\n      <td>...</td>\n      <td>0.0</td>\n      <td>0.0</td>\n      <td>0.0</td>\n      <td>0.0</td>\n      <td>0.0</td>\n      <td>0.0</td>\n      <td>0.0</td>\n      <td>0.0</td>\n      <td>Benign</td>\n      <td>0.0</td>\n    </tr>\n    <tr>\n      <th>7813818</th>\n      <td>0.0</td>\n      <td>0.0</td>\n      <td>0.0</td>\n      <td>0.0</td>\n      <td>1.0</td>\n      <td>68.000000</td>\n      <td>0.0</td>\n      <td>0.0</td>\n      <td>1.0</td>\n      <td>0.0</td>\n      <td>...</td>\n      <td>0.0</td>\n      <td>0.0</td>\n      <td>0.0</td>\n      <td>0.0</td>\n      <td>0.0</td>\n      <td>0.0</td>\n      <td>0.0</td>\n      <td>0.0</td>\n      <td>Benign</td>\n      <td>0.0</td>\n    </tr>\n    <tr>\n      <th>7813819</th>\n      <td>0.0</td>\n      <td>0.0</td>\n      <td>0.0</td>\n      <td>0.0</td>\n      <td>1.0</td>\n      <td>78.961429</td>\n      <td>0.0</td>\n      <td>0.0</td>\n      <td>1.0</td>\n      <td>0.0</td>\n      <td>...</td>\n      <td>0.0</td>\n      <td>0.0</td>\n      <td>0.0</td>\n      <td>0.0</td>\n      <td>0.0</td>\n      <td>0.0</td>\n      <td>0.0</td>\n      <td>0.0</td>\n      <td>Benign</td>\n      <td>0.0</td>\n    </tr>\n  </tbody>\n</table>\n<p>7813820 rows × 31 columns</p>\n</div>"
     },
     "execution_count": 13,
     "metadata": {},
     "output_type": "execute_result"
    }
   ],
   "source": [
    "X_samp_series = pd.DataFrame(data=X_samp, columns=['duration', 'orig_bytes', 'resp_bytes', 'missed_bytes', 'orig_pkts', 'orig_ip_bytes', 'resp_pkts', 'resp_ip_bytes',\n",
    "     'proto_icmp', 'proto_tcp', 'proto_udp', 'service_-', 'service_dhcp', 'service_dns', 'service_http', 'service_ssh',\n",
    "     'service_ssl', 'service_irc', 'conn_state_OTH', 'conn_state_REJ', 'conn_state_RSTO', 'conn_state_RSTOS0',\n",
    "     'conn_state_RSTR', 'conn_state_S0', 'conn_state_S1', 'conn_state_S2', 'conn_state_S3',\n",
    "     'conn_state_SF', 'conn_state_SH', 'conn_state_SHR'])\n",
    "Y_samp_series = pd.DataFrame(data=y_samp, columns=['label'])\n",
    "type(X_samp_series)\n",
    "import numpy as np\n",
    "\n",
    "columns = X_samp_series.columns.tolist()\n",
    "columns.insert(-1, 'label')\n",
    "data = X_samp_series.reindex(columns=columns)\n",
    "data['label'] = Y_samp_series\n",
    "data"
   ],
   "metadata": {
    "collapsed": false,
    "pycharm": {
     "name": "#%%\n"
    }
   }
  },
  {
   "cell_type": "code",
   "execution_count": 14,
   "outputs": [],
   "source": [
    "data.to_csv('./Data/iot23_all_combined_big_balance.csv', sep=',')"
   ],
   "metadata": {
    "collapsed": false,
    "pycharm": {
     "name": "#%%\n"
    }
   }
  },
  {
   "cell_type": "code",
   "execution_count": 9,
   "outputs": [],
   "source": [
    "import pandas as pd\n",
    "from sklearn.model_selection import train_test_split\n",
    "\n",
    "filepath = \"./Data/iot23_all_combined_big_balance.csv\"\n",
    "df = pd.read_csv(filepath)\n",
    "del df['Unnamed: 0']\n",
    "X = df[\n",
    "    ['duration', 'orig_bytes', 'resp_bytes', 'missed_bytes', 'orig_pkts', 'orig_ip_bytes', 'resp_pkts', 'resp_ip_bytes',\n",
    "     'proto_icmp', 'proto_tcp', 'proto_udp', 'service_-', 'service_dhcp', 'service_dns', 'service_http', 'service_ssh',\n",
    "     'service_ssl', 'service_irc', 'conn_state_OTH', 'conn_state_REJ', 'conn_state_RSTO', 'conn_state_RSTOS0',\n",
    "     'conn_state_RSTR', 'conn_state_S0', 'conn_state_S1', 'conn_state_S2', 'conn_state_S3',\n",
    "     'conn_state_SF', 'conn_state_SH', 'conn_state_SHR']]\n",
    "Y = df['label']\n",
    "X_train, X_test, Y_train, Y_test = train_test_split(X, Y, random_state=100, test_size=0.2,stratify=Y)\n",
    "type(X_train)\n",
    "train_data = \"./Data/split/train_data_big_balance.csv\"\n",
    "test_data = './Data/split/test_data_big_balance.csv'\n",
    "pd.concat([X_train, Y_train], axis=1).to_csv(train_data, index=False, encoding='utf-8')\n",
    "pd.concat([X_test, Y_test], axis=1).to_csv(test_data, index=False, encoding='utf-8')"
   ],
   "metadata": {
    "collapsed": false,
    "pycharm": {
     "name": "#%%\n"
    }
   }
  },
  {
   "cell_type": "code",
   "execution_count": 2,
   "outputs": [
    {
     "data": {
      "text/plain": "DDoS                                1280000\nOkiru                               1280000\nPartOfAHorizontalPortScan           1280000\nBenign                               379390\nC&C-HeartBeat                         33673\nC&C                                   21995\nAttack                                 9398\nC&C-PartOfAHorizontalPortScan           888\nC&C-HeartBeat-Attack                    834\nC&C-FileDownload                         53\nC&C-Torii                                30\nFileDownload                             18\nC&C-HeartBeat-FileDownload               11\nPartOfAHorizontalPortScan-Attack          5\nOkiru-Attack                              3\nC&C-Mirai                                 2\nName: detailed-label, dtype: int64"
     },
     "execution_count": 2,
     "metadata": {},
     "output_type": "execute_result"
    }
   ],
   "source": [
    "df['detailed-label'].value_counts()"
   ],
   "metadata": {
    "collapsed": false,
    "pycharm": {
     "name": "#%%\n"
    }
   }
  },
  {
   "cell_type": "markdown",
   "source": [
    "### test self-defined data"
   ],
   "metadata": {
    "collapsed": false
   }
  },
  {
   "cell_type": "code",
   "execution_count": null,
   "outputs": [],
   "source": [
    "filepath = \"/media/wuguo-buaa/LENOVO_USB_HDD/iot-data/iot_23_datasets_small/opt/Malware-Project/BigDataset/attacks/\"\n",
    "frame = []\n",
    "import os\n",
    "import pandas as pd\n",
    "\n",
    "for file in os.listdir(filepath):\n",
    "    df = pd.read_csv(filepath_or_buffer=filepath + file, nrows=1280000)\n",
    "    print(file, df.size)\n",
    "    df.columns = ['ts',\n",
    "                  'uid',\n",
    "                  'id.orig_h',\n",
    "                  'id.orig_p',\n",
    "                  'id.resp_h',\n",
    "                  'id.resp_p',\n",
    "                  'proto',\n",
    "                  'service',\n",
    "                  'duration',\n",
    "                  'orig_bytes',\n",
    "                  'resp_bytes',\n",
    "                  'conn_state',\n",
    "                  'local_orig',\n",
    "                  'local_resp',\n",
    "                  'missed_bytes',\n",
    "                  'history',\n",
    "                  'orig_pkts',\n",
    "                  'orig_ip_bytes',\n",
    "                  'resp_pkts',\n",
    "                  'resp_ip_bytes',\n",
    "                  'tunnel_parents',\n",
    "                  'label',\n",
    "                  'detailed-label']\n",
    "    frame.append(df)\n",
    "df_c = pd.concat(frame)\n",
    "df_c = df_c[df_c['label'] == 'Malicious']\n",
    "print(df_c['label'].value_counts())\n",
    "df_c = df_c.drop(columns=['ts', 'uid', 'id.orig_h', 'id.orig_p', 'id.resp_h', 'id.resp_p',\n",
    "                          'local_orig', 'local_resp', 'history', 'tunnel_parents'])\n",
    "df_c = pd.get_dummies(df_c, columns=['proto'])\n",
    "# df_c = pd.get_dummies(df_c, columns=['conn_state'])\n",
    "# df_c = pd.get_dummies(df_c, columns=['service'])\n",
    "df_c['duration'] = df_c['duration'].str.replace('-', '0')\n",
    "df_c['orig_bytes'] = df_c['orig_bytes'].str.replace('-', '0')\n",
    "df_c['resp_bytes'] = df_c['resp_bytes'].str.replace('-', '0')\n",
    "df_c.fillna(-1, inplace=True)\n",
    "df_c.isna().sum()\n",
    "df_c.to_csv('./Data/iot23_attack_combined_big.csv')"
   ],
   "metadata": {
    "collapsed": false,
    "pycharm": {
     "name": "#%%\n"
    }
   }
  },
  {
   "cell_type": "code",
   "execution_count": 46,
   "outputs": [
    {
     "name": "stdout",
     "output_type": "stream",
     "text": [
      "                      ts                 uid      id.orig_h  id.orig_p  \\\n",
      "20000  1545466987.770059   CqSURsaukmgMpP8S9  192.168.1.195    65279.0   \n",
      "20001  1545466987.770301   Ct3XRY2bFlVGGAwsg  192.168.1.195    65279.0   \n",
      "20002  1545466987.770815   CBwo0ETNeHk7HfhDi  192.168.1.195    65279.0   \n",
      "20003  1545466987.771300  CeRJxc43kaDIIhs2I1  192.168.1.195    65279.0   \n",
      "20004  1545466987.771558  CLb6le4R4R8DFa7hW1  192.168.1.195    65279.0   \n",
      "...                  ...                 ...            ...        ...   \n",
      "23137  1545490133.961380   C2F17zSUnGOcWzBa7  192.168.1.195    57110.0   \n",
      "23138  1545489934.221598  C93P4z4k5IRJD1rXJg  192.168.1.195    57092.0   \n",
      "23139  1545490198.463564  CXLZ3A2QY5E8weqpDk  192.168.1.195      123.0   \n",
      "23140  1545490181.542213  CuXpFN3fWesWBXUhq1  192.168.1.195      123.0   \n",
      "23141  1545490198.459568  Ct2Yhy4d33oL3yyZY9  192.168.1.195      123.0   \n",
      "\n",
      "            id.resp_h  id.resp_p proto service   duration orig_bytes  \\\n",
      "20000  123.59.209.185       80.0   tcp       -          -          -   \n",
      "20001  123.59.209.185       80.0   tcp       -          -          -   \n",
      "20002  123.59.209.185       80.0   tcp       -          -          -   \n",
      "20003  123.59.209.185       80.0   tcp       -          -          -   \n",
      "20004  123.59.209.185       80.0   tcp       -          -          -   \n",
      "...               ...        ...   ...     ...        ...        ...   \n",
      "23137  185.244.25.235     6667.0   tcp     irc  32.840994         62   \n",
      "23138  185.244.25.235     6667.0   tcp     irc  36.290833         62   \n",
      "23139  147.251.48.140      123.0   udp       -          -          -   \n",
      "23140    82.113.53.40      123.0   udp       -          -          -   \n",
      "23141  89.221.210.188      123.0   udp       -          -          -   \n",
      "\n",
      "      resp_bytes conn_state local_orig local_resp  missed_bytes  history  \\\n",
      "20000          -        OTH          -          -           0.0        C   \n",
      "20001          -        OTH          -          -           0.0        C   \n",
      "20002          -        OTH          -          -           0.0        C   \n",
      "20003          -        OTH          -          -           0.0        C   \n",
      "20004          -        OTH          -          -           0.0        C   \n",
      "...          ...        ...        ...        ...           ...      ...   \n",
      "23137        269         S3          -          -           0.0  ShAdDaf   \n",
      "23138        260         S3          -          -           0.0  ShAdDaf   \n",
      "23139          -         S0          -          -           0.0        D   \n",
      "23140          -         S0          -          -           0.0        D   \n",
      "23141          -         S0          -          -           0.0        D   \n",
      "\n",
      "       orig_pkts  orig_ip_bytes  resp_pkts  resp_ip_bytes  \\\n",
      "20000        0.0            0.0        0.0            0.0   \n",
      "20001        0.0            0.0        0.0            0.0   \n",
      "20002        0.0            0.0        0.0            0.0   \n",
      "20003        0.0            0.0        0.0            0.0   \n",
      "20004        0.0            0.0        0.0            0.0   \n",
      "...          ...            ...        ...            ...   \n",
      "23137        7.0          434.0        6.0          589.0   \n",
      "23138       10.0          606.0        7.0          632.0   \n",
      "23139        1.0           76.0        0.0            0.0   \n",
      "23140        1.0           76.0        0.0            0.0   \n",
      "23141        1.0           76.0        0.0            0.0   \n",
      "\n",
      "                      label  \n",
      "20000  -   Malicious   DDoS  \n",
      "20001  -   Malicious   DDoS  \n",
      "20002  -   Malicious   DDoS  \n",
      "20003  -   Malicious   DDoS  \n",
      "20004  -   Malicious   DDoS  \n",
      "...                     ...  \n",
      "23137   -   Malicious   C&C  \n",
      "23138   -   Malicious   C&C  \n",
      "23139        -   Benign   -  \n",
      "23140        -   Benign   -  \n",
      "23141        -   Benign   -  \n",
      "\n",
      "[3142 rows x 21 columns]\n"
     ]
    },
    {
     "name": "stderr",
     "output_type": "stream",
     "text": [
      "/media/wuguo-buaa/LENOVO_USB_HDD/PycharmProjects/Machine_learning_venv/lib/python3.8/site-packages/IPython/core/interactiveshell.py:3397: DtypeWarning: Columns (0) have mixed types.Specify dtype option on import or set low_memory=False.\n",
      "  exec(code_obj, self.user_global_ns, self.user_ns)\n"
     ]
    },
    {
     "data": {
      "text/plain": "                       ts                 uid        id.orig_h  id.orig_p  \\\n0       1568940041.665907  CxKxhj4MGsf5GcqoX6      192.168.1.1    47805.0   \n1       1568940251.392718  C2n3PK3bA92hAgTHda    192.168.1.195    37122.0   \n2       1568940270.749458  CanU7F1fozOklfjSec    192.168.1.195    37124.0   \n3       1568940290.090959  CMgDyF2yfZvJD7lp18    192.168.1.195    37126.0   \n4       1568940309.439655   CAnV1ds0hlJuQRYdk    192.168.1.195    37128.0   \n...                   ...                 ...              ...        ...   \n199984  1532526880.008818  CnUTM233ZTJarNYM4g  192.168.100.111    45466.0   \n199985  1532526880.008820   ClIksVqkbawHzu6i6  192.168.100.111    32199.0   \n199986  1532526880.009061  CdSCQj32at9PRvXazi  192.168.100.111    23720.0   \n199987  1532526880.009065  CwrtP83jYStTQ6Crv2  192.168.100.111    15233.0   \n199988  1532526880.009066  C7Ot1u2gfuhk0jnMoh  192.168.100.111     4063.0   \n\n              id.resp_h  id.resp_p proto service    duration orig_bytes  \\\n0         192.168.1.195       22.0   tcp       -  206.663644       2768   \n1         102.165.48.81    17769.0   tcp       -    1.902519        518   \n2         102.165.48.81    17769.0   tcp       -    1.873781        518   \n3         102.165.48.81    17769.0   tcp       -    1.853542        518   \n4         102.165.48.81    17769.0   tcp       -    1.842535        518   \n...                 ...        ...   ...     ...         ...        ...   \n199984    88.165.37.197       23.0   tcp       -           -          -   \n199985    53.241.63.211       23.0   tcp       -           -          -   \n199986   69.225.202.153       23.0   tcp       -           -          -   \n199987  132.150.242.222       23.0   tcp       -           -          -   \n199988     52.47.57.190       23.0   tcp       -           -          -   \n\n       resp_bytes conn_state local_orig local_resp  missed_bytes  history  \\\n0           11216         SF          -          -           0.0   DdAaFf   \n1              66       RSTR          -          -           0.0  ShAdfDr   \n2              66       RSTR          -          -           0.0  ShAdfDr   \n3              66       RSTR          -          -           0.0  ShAdfDr   \n4              66       RSTR          -          -           0.0  ShAdfDr   \n...           ...        ...        ...        ...           ...      ...   \n199984          -         S0          -          -           0.0        S   \n199985          -         S0          -          -           0.0        S   \n199986          -         S0          -          -           0.0        S   \n199987          -         S0          -          -           0.0        S   \n199988          -         S0          -          -           0.0        S   \n\n        orig_pkts  orig_ip_bytes  resp_pkts  resp_ip_bytes  \\\n0           400.0        26336.0      268.0        36368.0   \n1            10.0         1572.0        8.0          540.0   \n2            10.0         1572.0        8.0          540.0   \n3            10.0         1572.0        8.0          540.0   \n4            10.0         1572.0        8.0          540.0   \n...           ...            ...        ...            ...   \n199984        1.0           40.0        0.0            0.0   \n199985        1.0           40.0        0.0            0.0   \n199986        1.0           40.0        0.0            0.0   \n199987        1.0           40.0        0.0            0.0   \n199988        1.0           40.0        0.0            0.0   \n\n                                                  label  \n0                                        -   Benign   -  \n1                         -   Malicious   C&C-HeartBeat  \n2                         -   Malicious   C&C-HeartBeat  \n3                         -   Malicious   C&C-HeartBeat  \n4                         -   Malicious   C&C-HeartBeat  \n...                                                 ...  \n199984  (empty)   Malicious   PartOfAHorizontalPortScan  \n199985  (empty)   Malicious   PartOfAHorizontalPortScan  \n199986  (empty)   Malicious   PartOfAHorizontalPortScan  \n199987  (empty)   Malicious   PartOfAHorizontalPortScan  \n199988  (empty)   Malicious   PartOfAHorizontalPortScan  \n\n[610367 rows x 21 columns]",
      "text/html": "<div>\n<style scoped>\n    .dataframe tbody tr th:only-of-type {\n        vertical-align: middle;\n    }\n\n    .dataframe tbody tr th {\n        vertical-align: top;\n    }\n\n    .dataframe thead th {\n        text-align: right;\n    }\n</style>\n<table border=\"1\" class=\"dataframe\">\n  <thead>\n    <tr style=\"text-align: right;\">\n      <th></th>\n      <th>ts</th>\n      <th>uid</th>\n      <th>id.orig_h</th>\n      <th>id.orig_p</th>\n      <th>id.resp_h</th>\n      <th>id.resp_p</th>\n      <th>proto</th>\n      <th>service</th>\n      <th>duration</th>\n      <th>orig_bytes</th>\n      <th>resp_bytes</th>\n      <th>conn_state</th>\n      <th>local_orig</th>\n      <th>local_resp</th>\n      <th>missed_bytes</th>\n      <th>history</th>\n      <th>orig_pkts</th>\n      <th>orig_ip_bytes</th>\n      <th>resp_pkts</th>\n      <th>resp_ip_bytes</th>\n      <th>label</th>\n    </tr>\n  </thead>\n  <tbody>\n    <tr>\n      <th>0</th>\n      <td>1568940041.665907</td>\n      <td>CxKxhj4MGsf5GcqoX6</td>\n      <td>192.168.1.1</td>\n      <td>47805.0</td>\n      <td>192.168.1.195</td>\n      <td>22.0</td>\n      <td>tcp</td>\n      <td>-</td>\n      <td>206.663644</td>\n      <td>2768</td>\n      <td>11216</td>\n      <td>SF</td>\n      <td>-</td>\n      <td>-</td>\n      <td>0.0</td>\n      <td>DdAaFf</td>\n      <td>400.0</td>\n      <td>26336.0</td>\n      <td>268.0</td>\n      <td>36368.0</td>\n      <td>-   Benign   -</td>\n    </tr>\n    <tr>\n      <th>1</th>\n      <td>1568940251.392718</td>\n      <td>C2n3PK3bA92hAgTHda</td>\n      <td>192.168.1.195</td>\n      <td>37122.0</td>\n      <td>102.165.48.81</td>\n      <td>17769.0</td>\n      <td>tcp</td>\n      <td>-</td>\n      <td>1.902519</td>\n      <td>518</td>\n      <td>66</td>\n      <td>RSTR</td>\n      <td>-</td>\n      <td>-</td>\n      <td>0.0</td>\n      <td>ShAdfDr</td>\n      <td>10.0</td>\n      <td>1572.0</td>\n      <td>8.0</td>\n      <td>540.0</td>\n      <td>-   Malicious   C&amp;C-HeartBeat</td>\n    </tr>\n    <tr>\n      <th>2</th>\n      <td>1568940270.749458</td>\n      <td>CanU7F1fozOklfjSec</td>\n      <td>192.168.1.195</td>\n      <td>37124.0</td>\n      <td>102.165.48.81</td>\n      <td>17769.0</td>\n      <td>tcp</td>\n      <td>-</td>\n      <td>1.873781</td>\n      <td>518</td>\n      <td>66</td>\n      <td>RSTR</td>\n      <td>-</td>\n      <td>-</td>\n      <td>0.0</td>\n      <td>ShAdfDr</td>\n      <td>10.0</td>\n      <td>1572.0</td>\n      <td>8.0</td>\n      <td>540.0</td>\n      <td>-   Malicious   C&amp;C-HeartBeat</td>\n    </tr>\n    <tr>\n      <th>3</th>\n      <td>1568940290.090959</td>\n      <td>CMgDyF2yfZvJD7lp18</td>\n      <td>192.168.1.195</td>\n      <td>37126.0</td>\n      <td>102.165.48.81</td>\n      <td>17769.0</td>\n      <td>tcp</td>\n      <td>-</td>\n      <td>1.853542</td>\n      <td>518</td>\n      <td>66</td>\n      <td>RSTR</td>\n      <td>-</td>\n      <td>-</td>\n      <td>0.0</td>\n      <td>ShAdfDr</td>\n      <td>10.0</td>\n      <td>1572.0</td>\n      <td>8.0</td>\n      <td>540.0</td>\n      <td>-   Malicious   C&amp;C-HeartBeat</td>\n    </tr>\n    <tr>\n      <th>4</th>\n      <td>1568940309.439655</td>\n      <td>CAnV1ds0hlJuQRYdk</td>\n      <td>192.168.1.195</td>\n      <td>37128.0</td>\n      <td>102.165.48.81</td>\n      <td>17769.0</td>\n      <td>tcp</td>\n      <td>-</td>\n      <td>1.842535</td>\n      <td>518</td>\n      <td>66</td>\n      <td>RSTR</td>\n      <td>-</td>\n      <td>-</td>\n      <td>0.0</td>\n      <td>ShAdfDr</td>\n      <td>10.0</td>\n      <td>1572.0</td>\n      <td>8.0</td>\n      <td>540.0</td>\n      <td>-   Malicious   C&amp;C-HeartBeat</td>\n    </tr>\n    <tr>\n      <th>...</th>\n      <td>...</td>\n      <td>...</td>\n      <td>...</td>\n      <td>...</td>\n      <td>...</td>\n      <td>...</td>\n      <td>...</td>\n      <td>...</td>\n      <td>...</td>\n      <td>...</td>\n      <td>...</td>\n      <td>...</td>\n      <td>...</td>\n      <td>...</td>\n      <td>...</td>\n      <td>...</td>\n      <td>...</td>\n      <td>...</td>\n      <td>...</td>\n      <td>...</td>\n      <td>...</td>\n    </tr>\n    <tr>\n      <th>199984</th>\n      <td>1532526880.008818</td>\n      <td>CnUTM233ZTJarNYM4g</td>\n      <td>192.168.100.111</td>\n      <td>45466.0</td>\n      <td>88.165.37.197</td>\n      <td>23.0</td>\n      <td>tcp</td>\n      <td>-</td>\n      <td>-</td>\n      <td>-</td>\n      <td>-</td>\n      <td>S0</td>\n      <td>-</td>\n      <td>-</td>\n      <td>0.0</td>\n      <td>S</td>\n      <td>1.0</td>\n      <td>40.0</td>\n      <td>0.0</td>\n      <td>0.0</td>\n      <td>(empty)   Malicious   PartOfAHorizontalPortScan</td>\n    </tr>\n    <tr>\n      <th>199985</th>\n      <td>1532526880.008820</td>\n      <td>ClIksVqkbawHzu6i6</td>\n      <td>192.168.100.111</td>\n      <td>32199.0</td>\n      <td>53.241.63.211</td>\n      <td>23.0</td>\n      <td>tcp</td>\n      <td>-</td>\n      <td>-</td>\n      <td>-</td>\n      <td>-</td>\n      <td>S0</td>\n      <td>-</td>\n      <td>-</td>\n      <td>0.0</td>\n      <td>S</td>\n      <td>1.0</td>\n      <td>40.0</td>\n      <td>0.0</td>\n      <td>0.0</td>\n      <td>(empty)   Malicious   PartOfAHorizontalPortScan</td>\n    </tr>\n    <tr>\n      <th>199986</th>\n      <td>1532526880.009061</td>\n      <td>CdSCQj32at9PRvXazi</td>\n      <td>192.168.100.111</td>\n      <td>23720.0</td>\n      <td>69.225.202.153</td>\n      <td>23.0</td>\n      <td>tcp</td>\n      <td>-</td>\n      <td>-</td>\n      <td>-</td>\n      <td>-</td>\n      <td>S0</td>\n      <td>-</td>\n      <td>-</td>\n      <td>0.0</td>\n      <td>S</td>\n      <td>1.0</td>\n      <td>40.0</td>\n      <td>0.0</td>\n      <td>0.0</td>\n      <td>(empty)   Malicious   PartOfAHorizontalPortScan</td>\n    </tr>\n    <tr>\n      <th>199987</th>\n      <td>1532526880.009065</td>\n      <td>CwrtP83jYStTQ6Crv2</td>\n      <td>192.168.100.111</td>\n      <td>15233.0</td>\n      <td>132.150.242.222</td>\n      <td>23.0</td>\n      <td>tcp</td>\n      <td>-</td>\n      <td>-</td>\n      <td>-</td>\n      <td>-</td>\n      <td>S0</td>\n      <td>-</td>\n      <td>-</td>\n      <td>0.0</td>\n      <td>S</td>\n      <td>1.0</td>\n      <td>40.0</td>\n      <td>0.0</td>\n      <td>0.0</td>\n      <td>(empty)   Malicious   PartOfAHorizontalPortScan</td>\n    </tr>\n    <tr>\n      <th>199988</th>\n      <td>1532526880.009066</td>\n      <td>C7Ot1u2gfuhk0jnMoh</td>\n      <td>192.168.100.111</td>\n      <td>4063.0</td>\n      <td>52.47.57.190</td>\n      <td>23.0</td>\n      <td>tcp</td>\n      <td>-</td>\n      <td>-</td>\n      <td>-</td>\n      <td>-</td>\n      <td>S0</td>\n      <td>-</td>\n      <td>-</td>\n      <td>0.0</td>\n      <td>S</td>\n      <td>1.0</td>\n      <td>40.0</td>\n      <td>0.0</td>\n      <td>0.0</td>\n      <td>(empty)   Malicious   PartOfAHorizontalPortScan</td>\n    </tr>\n  </tbody>\n</table>\n<p>610367 rows × 21 columns</p>\n</div>"
     },
     "execution_count": 46,
     "metadata": {},
     "output_type": "execute_result"
    }
   ],
   "source": [
    "import pandas as pd\n",
    "\n",
    "capture_34 = \"/media/wuguo-buaa/LENOVO_USB_HDD/iot-data/iot_23_datasets_small/opt/Malware-Project/BigDataset/IoTScenarios/CTU-IoT-Malware-Capture-34-1/split_files_subsample/target_list_1.log\"  #\n",
    "capture_43 = \"/media/wuguo-buaa/LENOVO_USB_HDD/iot-data/iot_23_datasets_small/opt/Malware-Project/BigDataset/IoTScenarios/CTU-IoT-Malware-Capture-43-1/split_files_subsample/target_list_1.log\"  #\n",
    "capture_44 = \"/media/wuguo-buaa/LENOVO_USB_HDD/iot-data/iot_23_datasets_small/opt/Malware-Project/BigDataset/IoTScenarios/CTU-IoT-Malware-Capture-44-1/split_files_subsample/target_list_1.log\"  #\n",
    "capture_49 = \"/media/wuguo-buaa/LENOVO_USB_HDD/iot-data/iot_23_datasets_small/opt/Malware-Project/BigDataset/IoTScenarios/CTU-IoT-Malware-Capture-49-1/split_files_subsample/target_list_1.log\"  #\n",
    "capture_52 = \"/media/wuguo-buaa/LENOVO_USB_HDD/iot-data/iot_23_datasets_small/opt/Malware-Project/BigDataset/IoTScenarios/CTU-IoT-Malware-Capture-52-1/split_files_subsample/target_list_1.log\"  #\n",
    "capture_20 = \"/media/wuguo-buaa/LENOVO_USB_HDD/iot-data/iot_23_datasets_small/opt/Malware-Project/BigDataset/IoTScenarios/CTU-IoT-Malware-Capture-20-1/split_files_subsample/target_list_1.log\"  #\n",
    "capture_21 = \"/media/wuguo-buaa/LENOVO_USB_HDD/iot-data/iot_23_datasets_small/opt/Malware-Project/BigDataset/IoTScenarios/CTU-IoT-Malware-Capture-21-1/split_files_subsample/target_list_1.log\"  #\n",
    "capture_42 = \"/media/wuguo-buaa/LENOVO_USB_HDD/iot-data/iot_23_datasets_small/opt/Malware-Project/BigDataset/IoTScenarios/CTU-IoT-Malware-Capture-42-1/split_files_subsample/target_list_1.log\"  #\n",
    "capture_60 = \"/media/wuguo-buaa/LENOVO_USB_HDD/iot-data/iot_23_datasets_small/opt/Malware-Project/BigDataset/IoTScenarios/CTU-IoT-Malware-Capture-60-1/split_files_subsample/target_list_1.log\"  #\n",
    "capture_17 = \"/media/wuguo-buaa/LENOVO_USB_HDD/iot-data/iot_23_datasets_small/opt/Malware-Project/BigDataset/IoTScenarios/CTU-IoT-Malware-Capture-17-1/split_files_subsample/target_list_1.log\"  #\n",
    "capture_36 = \"/media/wuguo-buaa/LENOVO_USB_HDD/iot-data/iot_23_datasets_small/opt/Malware-Project/BigDataset/IoTScenarios/CTU-IoT-Malware-Capture-36-1/split_files_subsample/target_list_1.log\"  #\n",
    "capture_33 = \"/media/wuguo-buaa/LENOVO_USB_HDD/iot-data/iot_23_datasets_small/opt/Malware-Project/BigDataset/IoTScenarios/CTU-IoT-Malware-Capture-33-1/split_files_subsample/target_list_1.log\"  #\n",
    "capture_8 = \"/media/wuguo-buaa/LENOVO_USB_HDD/iot-data/iot_23_datasets_small/opt/Malware-Project/BigDataset/IoTScenarios/CTU-IoT-Malware-Capture-8-1/split_files_subsample/target_list_1.log\"  #1.4 MB\n",
    "capture_35 = \"/media/wuguo-buaa/LENOVO_USB_HDD/iot-data/iot_23_datasets_small/opt/Malware-Project/BigDataset/IoTScenarios/CTU-IoT-Malware-Capture-35-1/split_files_subsample/target_list_1.log\"  #\n",
    "capture_48 = \"/media/wuguo-buaa/LENOVO_USB_HDD/iot-data/iot_23_datasets_small/opt/Malware-Project/BigDataset/IoTScenarios/CTU-IoT-Malware-Capture-48-1/split_files_subsample/target_list_1.log\"  #\n",
    "capture_39 = \"/media/wuguo-buaa/LENOVO_USB_HDD/iot-data/iot_23_datasets_small/opt/Malware-Project/BigDataset/IoTScenarios/CTU-IoT-Malware-Capture-39-1/split_files_subsample/target_list_1.log\"  #\n",
    "capture_7 = \"/media/wuguo-buaa/LENOVO_USB_HDD/iot-data/iot_23_datasets_small/opt/Malware-Project/BigDataset/IoTScenarios/CTU-IoT-Malware-Capture-7-1/split_files_subsample/target_list_1.log\"  #1.6 GB\n",
    "capture_9 = \"/media/wuguo-buaa/LENOVO_USB_HDD/iot-data/iot_23_datasets_small/opt/Malware-Project/BigDataset/IoTScenarios/CTU-IoT-Malware-Capture-9-1/split_files_subsample/target_list_1.log\"  #993.5 MB\n",
    "capture_3 = \"/media/wuguo-buaa/LENOVO_USB_HDD/iot-data/iot_23_datasets_small/opt/Malware-Project/BigDataset/IoTScenarios/CTU-IoT-Malware-Capture-3-1/split_files_subsample/target_list_1.log\"  #24.4 MB\n",
    "capture_1 = \"/media/wuguo-buaa/LENOVO_USB_HDD/iot-data/iot_23_datasets_small/opt/Malware-Project/BigDataset/IoTScenarios/CTU-IoT-Malware-Capture-1-1/split_files_subsample/target_list_1.log\"  #144.3 MB\n",
    "\n",
    "df34 = pd.read_table(filepath_or_buffer=capture_34, skiprows=10)\n",
    "df34.columns = ['ts',\n",
    "                'uid',\n",
    "                'id.orig_h',\n",
    "                'id.orig_p',\n",
    "                'id.resp_h',\n",
    "                'id.resp_p',\n",
    "                'proto',\n",
    "                'service',\n",
    "                'duration',\n",
    "                'orig_bytes',\n",
    "                'resp_bytes',\n",
    "                'conn_state',\n",
    "                'local_orig',\n",
    "                'local_resp',\n",
    "                'missed_bytes',\n",
    "                'history',\n",
    "                'orig_pkts',\n",
    "                'orig_ip_bytes',\n",
    "                'resp_pkts',\n",
    "                'resp_ip_bytes',\n",
    "                'label']\n",
    "df34.drop(df34.tail(1).index, inplace=True)\n",
    "print(df34[20000:])\n",
    "df34.head()\n",
    "df43 = pd.read_table(filepath_or_buffer=capture_43, skiprows=10)\n",
    "df43.columns = ['ts',\n",
    "                'uid',\n",
    "                'id.orig_h',\n",
    "                'id.orig_p',\n",
    "                'id.resp_h',\n",
    "                'id.resp_p',\n",
    "                'proto',\n",
    "                'service',\n",
    "                'duration',\n",
    "                'orig_bytes',\n",
    "                'resp_bytes',\n",
    "                'conn_state',\n",
    "                'local_orig',\n",
    "                'local_resp',\n",
    "                'missed_bytes',\n",
    "                'history',\n",
    "                'orig_pkts',\n",
    "                'orig_ip_bytes',\n",
    "                'resp_pkts',\n",
    "                'resp_ip_bytes',\n",
    "                'label']\n",
    "df43.drop(df43.tail(1).index, inplace=True)\n",
    "\n",
    "df44 = pd.read_table(filepath_or_buffer=capture_44, skiprows=10)\n",
    "df44.columns = ['ts',\n",
    "                'uid',\n",
    "                'id.orig_h',\n",
    "                'id.orig_p',\n",
    "                'id.resp_h',\n",
    "                'id.resp_p',\n",
    "                'proto',\n",
    "                'service',\n",
    "                'duration',\n",
    "                'orig_bytes',\n",
    "                'resp_bytes',\n",
    "                'conn_state',\n",
    "                'local_orig',\n",
    "                'local_resp',\n",
    "                'missed_bytes',\n",
    "                'history',\n",
    "                'orig_pkts',\n",
    "                'orig_ip_bytes',\n",
    "                'resp_pkts',\n",
    "                'resp_ip_bytes',\n",
    "                'label']\n",
    "df44.drop(df44.tail(1).index, inplace=True)\n",
    "df49 = pd.read_table(filepath_or_buffer=capture_49, skiprows=10)\n",
    "df49.columns = ['ts',\n",
    "                'uid',\n",
    "                'id.orig_h',\n",
    "                'id.orig_p',\n",
    "                'id.resp_h',\n",
    "                'id.resp_p',\n",
    "                'proto',\n",
    "                'service',\n",
    "                'duration',\n",
    "                'orig_bytes',\n",
    "                'resp_bytes',\n",
    "                'conn_state',\n",
    "                'local_orig',\n",
    "                'local_resp',\n",
    "                'missed_bytes',\n",
    "                'history',\n",
    "                'orig_pkts',\n",
    "                'orig_ip_bytes',\n",
    "                'resp_pkts',\n",
    "                'resp_ip_bytes',\n",
    "                'label']\n",
    "df49.drop(df49.tail(1).index, inplace=True)\n",
    "df52 = pd.read_table(filepath_or_buffer=capture_52, skiprows=10)\n",
    "df52.columns = ['ts',\n",
    "                'uid',\n",
    "                'id.orig_h',\n",
    "                'id.orig_p',\n",
    "                'id.resp_h',\n",
    "                'id.resp_p',\n",
    "                'proto',\n",
    "                'service',\n",
    "                'duration',\n",
    "                'orig_bytes',\n",
    "                'resp_bytes',\n",
    "                'conn_state',\n",
    "                'local_orig',\n",
    "                'local_resp',\n",
    "                'missed_bytes',\n",
    "                'history',\n",
    "                'orig_pkts',\n",
    "                'orig_ip_bytes',\n",
    "                'resp_pkts',\n",
    "                'resp_ip_bytes',\n",
    "                'label']\n",
    "df52.drop(df52.tail(1).index, inplace=True)\n",
    "df20 = pd.read_table(filepath_or_buffer=capture_20, skiprows=10)\n",
    "df20.columns = ['ts',\n",
    "                'uid',\n",
    "                'id.orig_h',\n",
    "                'id.orig_p',\n",
    "                'id.resp_h',\n",
    "                'id.resp_p',\n",
    "                'proto',\n",
    "                'service',\n",
    "                'duration',\n",
    "                'orig_bytes',\n",
    "                'resp_bytes',\n",
    "                'conn_state',\n",
    "                'local_orig',\n",
    "                'local_resp',\n",
    "                'missed_bytes',\n",
    "                'history',\n",
    "                'orig_pkts',\n",
    "                'orig_ip_bytes',\n",
    "                'resp_pkts',\n",
    "                'resp_ip_bytes',\n",
    "                'label']\n",
    "df20.drop(df20.tail(1).index, inplace=True)\n",
    "df21 = pd.read_table(filepath_or_buffer=capture_21, skiprows=10)\n",
    "df21.columns = ['ts',\n",
    "                'uid',\n",
    "                'id.orig_h',\n",
    "                'id.orig_p',\n",
    "                'id.resp_h',\n",
    "                'id.resp_p',\n",
    "                'proto',\n",
    "                'service',\n",
    "                'duration',\n",
    "                'orig_bytes',\n",
    "                'resp_bytes',\n",
    "                'conn_state',\n",
    "                'local_orig',\n",
    "                'local_resp',\n",
    "                'missed_bytes',\n",
    "                'history',\n",
    "                'orig_pkts',\n",
    "                'orig_ip_bytes',\n",
    "                'resp_pkts',\n",
    "                'resp_ip_bytes',\n",
    "                'label']\n",
    "df21.drop(df21.tail(1).index, inplace=True)\n",
    "df42 = pd.read_table(filepath_or_buffer=capture_42, skiprows=10)\n",
    "df42.columns = ['ts',\n",
    "                'uid',\n",
    "                'id.orig_h',\n",
    "                'id.orig_p',\n",
    "                'id.resp_h',\n",
    "                'id.resp_p',\n",
    "                'proto',\n",
    "                'service',\n",
    "                'duration',\n",
    "                'orig_bytes',\n",
    "                'resp_bytes',\n",
    "                'conn_state',\n",
    "                'local_orig',\n",
    "                'local_resp',\n",
    "                'missed_bytes',\n",
    "                'history',\n",
    "                'orig_pkts',\n",
    "                'orig_ip_bytes',\n",
    "                'resp_pkts',\n",
    "                'resp_ip_bytes',\n",
    "                'label']\n",
    "df42.drop(df42.tail(1).index, inplace=True)\n",
    "df60 = pd.read_table(filepath_or_buffer=capture_60, skiprows=10)\n",
    "df60.columns = ['ts',\n",
    "                'uid',\n",
    "                'id.orig_h',\n",
    "                'id.orig_p',\n",
    "                'id.resp_h',\n",
    "                'id.resp_p',\n",
    "                'proto',\n",
    "                'service',\n",
    "                'duration',\n",
    "                'orig_bytes',\n",
    "                'resp_bytes',\n",
    "                'conn_state',\n",
    "                'local_orig',\n",
    "                'local_resp',\n",
    "                'missed_bytes',\n",
    "                'history',\n",
    "                'orig_pkts',\n",
    "                'orig_ip_bytes',\n",
    "                'resp_pkts',\n",
    "                'resp_ip_bytes',\n",
    "                'label']\n",
    "df60.drop(df60.tail(1).index, inplace=True)\n",
    "df17 = pd.read_table(filepath_or_buffer=capture_17, skiprows=10)\n",
    "df17.columns = ['ts',\n",
    "                'uid',\n",
    "                'id.orig_h',\n",
    "                'id.orig_p',\n",
    "                'id.resp_h',\n",
    "                'id.resp_p',\n",
    "                'proto',\n",
    "                'service',\n",
    "                'duration',\n",
    "                'orig_bytes',\n",
    "                'resp_bytes',\n",
    "                'conn_state',\n",
    "                'local_orig',\n",
    "                'local_resp',\n",
    "                'missed_bytes',\n",
    "                'history',\n",
    "                'orig_pkts',\n",
    "                'orig_ip_bytes',\n",
    "                'resp_pkts',\n",
    "                'resp_ip_bytes',\n",
    "                'label']\n",
    "df17.drop(df17.tail(1).index, inplace=True)\n",
    "df36 = pd.read_table(filepath_or_buffer=capture_36, skiprows=10)\n",
    "df36.columns = ['ts',\n",
    "                'uid',\n",
    "                'id.orig_h',\n",
    "                'id.orig_p',\n",
    "                'id.resp_h',\n",
    "                'id.resp_p',\n",
    "                'proto',\n",
    "                'service',\n",
    "                'duration',\n",
    "                'orig_bytes',\n",
    "                'resp_bytes',\n",
    "                'conn_state',\n",
    "                'local_orig',\n",
    "                'local_resp',\n",
    "                'missed_bytes',\n",
    "                'history',\n",
    "                'orig_pkts',\n",
    "                'orig_ip_bytes',\n",
    "                'resp_pkts',\n",
    "                'resp_ip_bytes',\n",
    "                'label']\n",
    "df36.drop(df36.tail(1).index, inplace=True)\n",
    "df33 = pd.read_table(filepath_or_buffer=capture_33, skiprows=10)\n",
    "df33.columns = ['ts',\n",
    "                'uid',\n",
    "                'id.orig_h',\n",
    "                'id.orig_p',\n",
    "                'id.resp_h',\n",
    "                'id.resp_p',\n",
    "                'proto',\n",
    "                'service',\n",
    "                'duration',\n",
    "                'orig_bytes',\n",
    "                'resp_bytes',\n",
    "                'conn_state',\n",
    "                'local_orig',\n",
    "                'local_resp',\n",
    "                'missed_bytes',\n",
    "                'history',\n",
    "                'orig_pkts',\n",
    "                'orig_ip_bytes',\n",
    "                'resp_pkts',\n",
    "                'resp_ip_bytes',\n",
    "                'label']\n",
    "df33.drop(df33.tail(1).index, inplace=True)\n",
    "df8 = pd.read_table(filepath_or_buffer=capture_8, skiprows=10)\n",
    "df8.columns = ['ts',\n",
    "               'uid',\n",
    "               'id.orig_h',\n",
    "               'id.orig_p',\n",
    "               'id.resp_h',\n",
    "               'id.resp_p',\n",
    "               'proto',\n",
    "               'service',\n",
    "               'duration',\n",
    "               'orig_bytes',\n",
    "               'resp_bytes',\n",
    "               'conn_state',\n",
    "               'local_orig',\n",
    "               'local_resp',\n",
    "               'missed_bytes',\n",
    "               'history',\n",
    "               'orig_pkts',\n",
    "               'orig_ip_bytes',\n",
    "               'resp_pkts',\n",
    "               'resp_ip_bytes',\n",
    "               'label']\n",
    "df8.drop(df8.tail(1).index, inplace=True)\n",
    "df35 = pd.read_table(filepath_or_buffer=capture_35, skiprows=10)\n",
    "df35.columns = ['ts',\n",
    "                'uid',\n",
    "                'id.orig_h',\n",
    "                'id.orig_p',\n",
    "                'id.resp_h',\n",
    "                'id.resp_p',\n",
    "                'proto',\n",
    "                'service',\n",
    "                'duration',\n",
    "                'orig_bytes',\n",
    "                'resp_bytes',\n",
    "                'conn_state',\n",
    "                'local_orig',\n",
    "                'local_resp',\n",
    "                'missed_bytes',\n",
    "                'history',\n",
    "                'orig_pkts',\n",
    "                'orig_ip_bytes',\n",
    "                'resp_pkts',\n",
    "                'resp_ip_bytes',\n",
    "                'label']\n",
    "df35.drop(df35.tail(1).index, inplace=True)\n",
    "df48 = pd.read_table(filepath_or_buffer=capture_48, skiprows=10)\n",
    "df48.columns = ['ts',\n",
    "                'uid',\n",
    "                'id.orig_h',\n",
    "                'id.orig_p',\n",
    "                'id.resp_h',\n",
    "                'id.resp_p',\n",
    "                'proto',\n",
    "                'service',\n",
    "                'duration',\n",
    "                'orig_bytes',\n",
    "                'resp_bytes',\n",
    "                'conn_state',\n",
    "                'local_orig',\n",
    "                'local_resp',\n",
    "                'missed_bytes',\n",
    "                'history',\n",
    "                'orig_pkts',\n",
    "                'orig_ip_bytes',\n",
    "                'resp_pkts',\n",
    "                'resp_ip_bytes',\n",
    "                'label']\n",
    "df48.drop(df48.tail(1).index, inplace=True)\n",
    "df39 = pd.read_table(filepath_or_buffer=capture_39, skiprows=10)\n",
    "df39.columns = ['ts',\n",
    "                'uid',\n",
    "                'id.orig_h',\n",
    "                'id.orig_p',\n",
    "                'id.resp_h',\n",
    "                'id.resp_p',\n",
    "                'proto',\n",
    "                'service',\n",
    "                'duration',\n",
    "                'orig_bytes',\n",
    "                'resp_bytes',\n",
    "                'conn_state',\n",
    "                'local_orig',\n",
    "                'local_resp',\n",
    "                'missed_bytes',\n",
    "                'history',\n",
    "                'orig_pkts',\n",
    "                'orig_ip_bytes',\n",
    "                'resp_pkts',\n",
    "                'resp_ip_bytes',\n",
    "                'label']\n",
    "df39.drop(df39.tail(1).index, inplace=True)\n",
    "df7 = pd.read_table(filepath_or_buffer=capture_7, skiprows=10)\n",
    "df7.columns = ['ts',\n",
    "               'uid',\n",
    "               'id.orig_h',\n",
    "               'id.orig_p',\n",
    "               'id.resp_h',\n",
    "               'id.resp_p',\n",
    "               'proto',\n",
    "               'service',\n",
    "               'duration',\n",
    "               'orig_bytes',\n",
    "               'resp_bytes',\n",
    "               'conn_state',\n",
    "               'local_orig',\n",
    "               'local_resp',\n",
    "               'missed_bytes',\n",
    "               'history',\n",
    "               'orig_pkts',\n",
    "               'orig_ip_bytes',\n",
    "               'resp_pkts',\n",
    "               'resp_ip_bytes',\n",
    "               'label']\n",
    "df7.drop(df7.tail(1).index, inplace=True)\n",
    "df9 = pd.read_table(filepath_or_buffer=capture_9, skiprows=10)\n",
    "df9.columns = ['ts',\n",
    "               'uid',\n",
    "               'id.orig_h',\n",
    "               'id.orig_p',\n",
    "               'id.resp_h',\n",
    "               'id.resp_p',\n",
    "               'proto',\n",
    "               'service',\n",
    "               'duration',\n",
    "               'orig_bytes',\n",
    "               'resp_bytes',\n",
    "               'conn_state',\n",
    "               'local_orig',\n",
    "               'local_resp',\n",
    "               'missed_bytes',\n",
    "               'history',\n",
    "               'orig_pkts',\n",
    "               'orig_ip_bytes',\n",
    "               'resp_pkts',\n",
    "               'resp_ip_bytes',\n",
    "               'label']\n",
    "df9.drop(df9.tail(1).index, inplace=True)\n",
    "df3 = pd.read_table(filepath_or_buffer=capture_3, skiprows=10)\n",
    "df3.columns = ['ts',\n",
    "               'uid',\n",
    "               'id.orig_h',\n",
    "               'id.orig_p',\n",
    "               'id.resp_h',\n",
    "               'id.resp_p',\n",
    "               'proto',\n",
    "               'service',\n",
    "               'duration',\n",
    "               'orig_bytes',\n",
    "               'resp_bytes',\n",
    "               'conn_state',\n",
    "               'local_orig',\n",
    "               'local_resp',\n",
    "               'missed_bytes',\n",
    "               'history',\n",
    "               'orig_pkts',\n",
    "               'orig_ip_bytes',\n",
    "               'resp_pkts',\n",
    "               'resp_ip_bytes',\n",
    "               'label']\n",
    "df3.drop(df3.tail(1).index, inplace=True)\n",
    "df1 = pd.read_table(filepath_or_buffer=capture_1, skiprows=10)\n",
    "df1.columns = ['ts',\n",
    "               'uid',\n",
    "               'id.orig_h',\n",
    "               'id.orig_p',\n",
    "               'id.resp_h',\n",
    "               'id.resp_p',\n",
    "               'proto',\n",
    "               'service',\n",
    "               'duration',\n",
    "               'orig_bytes',\n",
    "               'resp_bytes',\n",
    "               'conn_state',\n",
    "               'local_orig',\n",
    "               'local_resp',\n",
    "               'missed_bytes',\n",
    "               'history',\n",
    "               'orig_pkts',\n",
    "               'orig_ip_bytes',\n",
    "               'resp_pkts',\n",
    "               'resp_ip_bytes',\n",
    "               'label']\n",
    "df1.drop(df1.tail(1).index, inplace=True)\n",
    "frames = [df33]\n",
    "# frames = [df1, df17, df20, df21, df3, df33, df34, df35, df36, df39, df42, df43, df44, df48, df49, df52, df60, df7, df8,\n",
    "#           df9]\n",
    "df_c = pd.concat(frames)\n",
    "df_c\n",
    "#['ts','uid','id.orig_h','id.orig_p','id.resp_h','id.resp_p','service','local_orig','local_resp','history']"
   ],
   "metadata": {
    "collapsed": false,
    "pycharm": {
     "name": "#%%\n"
    }
   }
  },
  {
   "cell_type": "code",
   "execution_count": 47,
   "outputs": [
    {
     "name": "stdout",
     "output_type": "stream",
     "text": [
      "S0        407181\n",
      "OTH       199662\n",
      "SF          2906\n",
      "REJ          553\n",
      "RSTR          51\n",
      "RSTO           8\n",
      "S2             3\n",
      "SHR            1\n",
      "RSTOS0         1\n",
      "S1             1\n",
      "Name: conn_state, dtype: int64\n",
      "-    610367\n",
      "Name: local_orig, dtype: int64\n",
      "-    610367\n",
      "Name: local_resp, dtype: int64\n",
      "S           405943\n",
      "C           199327\n",
      "Dd            2904\n",
      "D             1238\n",
      "Sr             553\n",
      "-              231\n",
      "^c              98\n",
      "ShAdfDr         50\n",
      "ShR              8\n",
      "^d               5\n",
      "ShADF            2\n",
      "ShADa            1\n",
      "ShADFr           1\n",
      "DdA              1\n",
      "DdAaFf           1\n",
      "SAD              1\n",
      "ShAF             1\n",
      "SaR              1\n",
      "ShADadFf         1\n",
      "Name: history, dtype: int64\n"
     ]
    }
   ],
   "source": [
    "\n",
    "print(df_c['conn_state'].value_counts())\n",
    "print(df_c['local_orig'].value_counts())\n",
    "print(df_c['local_resp'].value_counts())\n",
    "print(df_c['history'].value_counts())"
   ],
   "metadata": {
    "collapsed": false,
    "pycharm": {
     "name": "#%%\n"
    }
   }
  },
  {
   "cell_type": "code",
   "execution_count": 48,
   "outputs": [
    {
     "data": {
      "text/plain": "                       ts                 uid        id.orig_h  id.orig_p  \\\n0       1568940041.665907  CxKxhj4MGsf5GcqoX6      192.168.1.1    47805.0   \n1       1568940251.392718  C2n3PK3bA92hAgTHda    192.168.1.195    37122.0   \n2       1568940270.749458  CanU7F1fozOklfjSec    192.168.1.195    37124.0   \n3       1568940290.090959  CMgDyF2yfZvJD7lp18    192.168.1.195    37126.0   \n4       1568940309.439655   CAnV1ds0hlJuQRYdk    192.168.1.195    37128.0   \n...                   ...                 ...              ...        ...   \n199984  1532526880.008818  CnUTM233ZTJarNYM4g  192.168.100.111    45466.0   \n199985  1532526880.008820   ClIksVqkbawHzu6i6  192.168.100.111    32199.0   \n199986  1532526880.009061  CdSCQj32at9PRvXazi  192.168.100.111    23720.0   \n199987  1532526880.009065  CwrtP83jYStTQ6Crv2  192.168.100.111    15233.0   \n199988  1532526880.009066  C7Ot1u2gfuhk0jnMoh  192.168.100.111     4063.0   \n\n              id.resp_h  id.resp_p proto service    duration orig_bytes  \\\n0         192.168.1.195       22.0   tcp       -  206.663644       2768   \n1         102.165.48.81    17769.0   tcp       -    1.902519        518   \n2         102.165.48.81    17769.0   tcp       -    1.873781        518   \n3         102.165.48.81    17769.0   tcp       -    1.853542        518   \n4         102.165.48.81    17769.0   tcp       -    1.842535        518   \n...                 ...        ...   ...     ...         ...        ...   \n199984    88.165.37.197       23.0   tcp       -           -          -   \n199985    53.241.63.211       23.0   tcp       -           -          -   \n199986   69.225.202.153       23.0   tcp       -           -          -   \n199987  132.150.242.222       23.0   tcp       -           -          -   \n199988     52.47.57.190       23.0   tcp       -           -          -   \n\n       resp_bytes conn_state local_orig local_resp  missed_bytes  history  \\\n0           11216         SF          -          -           0.0   DdAaFf   \n1              66       RSTR          -          -           0.0  ShAdfDr   \n2              66       RSTR          -          -           0.0  ShAdfDr   \n3              66       RSTR          -          -           0.0  ShAdfDr   \n4              66       RSTR          -          -           0.0  ShAdfDr   \n...           ...        ...        ...        ...           ...      ...   \n199984          -         S0          -          -           0.0        S   \n199985          -         S0          -          -           0.0        S   \n199986          -         S0          -          -           0.0        S   \n199987          -         S0          -          -           0.0        S   \n199988          -         S0          -          -           0.0        S   \n\n        orig_pkts  orig_ip_bytes  resp_pkts  resp_ip_bytes      label  \n0           400.0        26336.0      268.0        36368.0     Benign  \n1            10.0         1572.0        8.0          540.0  Malicious  \n2            10.0         1572.0        8.0          540.0  Malicious  \n3            10.0         1572.0        8.0          540.0  Malicious  \n4            10.0         1572.0        8.0          540.0  Malicious  \n...           ...            ...        ...            ...        ...  \n199984        1.0           40.0        0.0            0.0  Malicious  \n199985        1.0           40.0        0.0            0.0  Malicious  \n199986        1.0           40.0        0.0            0.0  Malicious  \n199987        1.0           40.0        0.0            0.0  Malicious  \n199988        1.0           40.0        0.0            0.0  Malicious  \n\n[610367 rows x 21 columns]",
      "text/html": "<div>\n<style scoped>\n    .dataframe tbody tr th:only-of-type {\n        vertical-align: middle;\n    }\n\n    .dataframe tbody tr th {\n        vertical-align: top;\n    }\n\n    .dataframe thead th {\n        text-align: right;\n    }\n</style>\n<table border=\"1\" class=\"dataframe\">\n  <thead>\n    <tr style=\"text-align: right;\">\n      <th></th>\n      <th>ts</th>\n      <th>uid</th>\n      <th>id.orig_h</th>\n      <th>id.orig_p</th>\n      <th>id.resp_h</th>\n      <th>id.resp_p</th>\n      <th>proto</th>\n      <th>service</th>\n      <th>duration</th>\n      <th>orig_bytes</th>\n      <th>resp_bytes</th>\n      <th>conn_state</th>\n      <th>local_orig</th>\n      <th>local_resp</th>\n      <th>missed_bytes</th>\n      <th>history</th>\n      <th>orig_pkts</th>\n      <th>orig_ip_bytes</th>\n      <th>resp_pkts</th>\n      <th>resp_ip_bytes</th>\n      <th>label</th>\n    </tr>\n  </thead>\n  <tbody>\n    <tr>\n      <th>0</th>\n      <td>1568940041.665907</td>\n      <td>CxKxhj4MGsf5GcqoX6</td>\n      <td>192.168.1.1</td>\n      <td>47805.0</td>\n      <td>192.168.1.195</td>\n      <td>22.0</td>\n      <td>tcp</td>\n      <td>-</td>\n      <td>206.663644</td>\n      <td>2768</td>\n      <td>11216</td>\n      <td>SF</td>\n      <td>-</td>\n      <td>-</td>\n      <td>0.0</td>\n      <td>DdAaFf</td>\n      <td>400.0</td>\n      <td>26336.0</td>\n      <td>268.0</td>\n      <td>36368.0</td>\n      <td>Benign</td>\n    </tr>\n    <tr>\n      <th>1</th>\n      <td>1568940251.392718</td>\n      <td>C2n3PK3bA92hAgTHda</td>\n      <td>192.168.1.195</td>\n      <td>37122.0</td>\n      <td>102.165.48.81</td>\n      <td>17769.0</td>\n      <td>tcp</td>\n      <td>-</td>\n      <td>1.902519</td>\n      <td>518</td>\n      <td>66</td>\n      <td>RSTR</td>\n      <td>-</td>\n      <td>-</td>\n      <td>0.0</td>\n      <td>ShAdfDr</td>\n      <td>10.0</td>\n      <td>1572.0</td>\n      <td>8.0</td>\n      <td>540.0</td>\n      <td>Malicious</td>\n    </tr>\n    <tr>\n      <th>2</th>\n      <td>1568940270.749458</td>\n      <td>CanU7F1fozOklfjSec</td>\n      <td>192.168.1.195</td>\n      <td>37124.0</td>\n      <td>102.165.48.81</td>\n      <td>17769.0</td>\n      <td>tcp</td>\n      <td>-</td>\n      <td>1.873781</td>\n      <td>518</td>\n      <td>66</td>\n      <td>RSTR</td>\n      <td>-</td>\n      <td>-</td>\n      <td>0.0</td>\n      <td>ShAdfDr</td>\n      <td>10.0</td>\n      <td>1572.0</td>\n      <td>8.0</td>\n      <td>540.0</td>\n      <td>Malicious</td>\n    </tr>\n    <tr>\n      <th>3</th>\n      <td>1568940290.090959</td>\n      <td>CMgDyF2yfZvJD7lp18</td>\n      <td>192.168.1.195</td>\n      <td>37126.0</td>\n      <td>102.165.48.81</td>\n      <td>17769.0</td>\n      <td>tcp</td>\n      <td>-</td>\n      <td>1.853542</td>\n      <td>518</td>\n      <td>66</td>\n      <td>RSTR</td>\n      <td>-</td>\n      <td>-</td>\n      <td>0.0</td>\n      <td>ShAdfDr</td>\n      <td>10.0</td>\n      <td>1572.0</td>\n      <td>8.0</td>\n      <td>540.0</td>\n      <td>Malicious</td>\n    </tr>\n    <tr>\n      <th>4</th>\n      <td>1568940309.439655</td>\n      <td>CAnV1ds0hlJuQRYdk</td>\n      <td>192.168.1.195</td>\n      <td>37128.0</td>\n      <td>102.165.48.81</td>\n      <td>17769.0</td>\n      <td>tcp</td>\n      <td>-</td>\n      <td>1.842535</td>\n      <td>518</td>\n      <td>66</td>\n      <td>RSTR</td>\n      <td>-</td>\n      <td>-</td>\n      <td>0.0</td>\n      <td>ShAdfDr</td>\n      <td>10.0</td>\n      <td>1572.0</td>\n      <td>8.0</td>\n      <td>540.0</td>\n      <td>Malicious</td>\n    </tr>\n    <tr>\n      <th>...</th>\n      <td>...</td>\n      <td>...</td>\n      <td>...</td>\n      <td>...</td>\n      <td>...</td>\n      <td>...</td>\n      <td>...</td>\n      <td>...</td>\n      <td>...</td>\n      <td>...</td>\n      <td>...</td>\n      <td>...</td>\n      <td>...</td>\n      <td>...</td>\n      <td>...</td>\n      <td>...</td>\n      <td>...</td>\n      <td>...</td>\n      <td>...</td>\n      <td>...</td>\n      <td>...</td>\n    </tr>\n    <tr>\n      <th>199984</th>\n      <td>1532526880.008818</td>\n      <td>CnUTM233ZTJarNYM4g</td>\n      <td>192.168.100.111</td>\n      <td>45466.0</td>\n      <td>88.165.37.197</td>\n      <td>23.0</td>\n      <td>tcp</td>\n      <td>-</td>\n      <td>-</td>\n      <td>-</td>\n      <td>-</td>\n      <td>S0</td>\n      <td>-</td>\n      <td>-</td>\n      <td>0.0</td>\n      <td>S</td>\n      <td>1.0</td>\n      <td>40.0</td>\n      <td>0.0</td>\n      <td>0.0</td>\n      <td>Malicious</td>\n    </tr>\n    <tr>\n      <th>199985</th>\n      <td>1532526880.008820</td>\n      <td>ClIksVqkbawHzu6i6</td>\n      <td>192.168.100.111</td>\n      <td>32199.0</td>\n      <td>53.241.63.211</td>\n      <td>23.0</td>\n      <td>tcp</td>\n      <td>-</td>\n      <td>-</td>\n      <td>-</td>\n      <td>-</td>\n      <td>S0</td>\n      <td>-</td>\n      <td>-</td>\n      <td>0.0</td>\n      <td>S</td>\n      <td>1.0</td>\n      <td>40.0</td>\n      <td>0.0</td>\n      <td>0.0</td>\n      <td>Malicious</td>\n    </tr>\n    <tr>\n      <th>199986</th>\n      <td>1532526880.009061</td>\n      <td>CdSCQj32at9PRvXazi</td>\n      <td>192.168.100.111</td>\n      <td>23720.0</td>\n      <td>69.225.202.153</td>\n      <td>23.0</td>\n      <td>tcp</td>\n      <td>-</td>\n      <td>-</td>\n      <td>-</td>\n      <td>-</td>\n      <td>S0</td>\n      <td>-</td>\n      <td>-</td>\n      <td>0.0</td>\n      <td>S</td>\n      <td>1.0</td>\n      <td>40.0</td>\n      <td>0.0</td>\n      <td>0.0</td>\n      <td>Malicious</td>\n    </tr>\n    <tr>\n      <th>199987</th>\n      <td>1532526880.009065</td>\n      <td>CwrtP83jYStTQ6Crv2</td>\n      <td>192.168.100.111</td>\n      <td>15233.0</td>\n      <td>132.150.242.222</td>\n      <td>23.0</td>\n      <td>tcp</td>\n      <td>-</td>\n      <td>-</td>\n      <td>-</td>\n      <td>-</td>\n      <td>S0</td>\n      <td>-</td>\n      <td>-</td>\n      <td>0.0</td>\n      <td>S</td>\n      <td>1.0</td>\n      <td>40.0</td>\n      <td>0.0</td>\n      <td>0.0</td>\n      <td>Malicious</td>\n    </tr>\n    <tr>\n      <th>199988</th>\n      <td>1532526880.009066</td>\n      <td>C7Ot1u2gfuhk0jnMoh</td>\n      <td>192.168.100.111</td>\n      <td>4063.0</td>\n      <td>52.47.57.190</td>\n      <td>23.0</td>\n      <td>tcp</td>\n      <td>-</td>\n      <td>-</td>\n      <td>-</td>\n      <td>-</td>\n      <td>S0</td>\n      <td>-</td>\n      <td>-</td>\n      <td>0.0</td>\n      <td>S</td>\n      <td>1.0</td>\n      <td>40.0</td>\n      <td>0.0</td>\n      <td>0.0</td>\n      <td>Malicious</td>\n    </tr>\n  </tbody>\n</table>\n<p>610367 rows × 21 columns</p>\n</div>"
     },
     "execution_count": 48,
     "metadata": {},
     "output_type": "execute_result"
    }
   ],
   "source": [
    "df_c.loc[(df_c.label == '-   Malicious   PartOfAHorizontalPortScan'), 'label'] = 'Malicious'\n",
    "df_c.loc[(df_c.label == '(empty)   Malicious   PartOfAHorizontalPortScan'), 'label'] = 'Malicious'\n",
    "df_c.loc[(df_c.label == '-   Malicious   Okiru'), 'label'] = 'Malicious'\n",
    "df_c.loc[(df_c.label == '(empty)   Malicious   Okiru'), 'label'] = 'Malicious'\n",
    "df_c.loc[(df_c.label == '-   Benign   -'), 'label'] = 'Benign'\n",
    "df_c.loc[(df_c.label == '(empty)   Benign   -'), 'label'] = 'Benign'\n",
    "df_c.loc[(df_c.label == '-   Malicious   DDoS'), 'label'] = 'Malicious'\n",
    "df_c.loc[(df_c.label == '-   Malicious   C&C'), 'label'] = 'Malicious'\n",
    "df_c.loc[(df_c.label == '(empty)   Malicious   C&C'), 'label'] = 'Malicious'\n",
    "df_c.loc[(df_c.label == '-   Malicious   Attack'), 'label'] = 'Malicious'\n",
    "df_c.loc[(df_c.label == '(empty)   Malicious   Attack'), 'label'] = 'Malicious'\n",
    "df_c.loc[(df_c.label == '-   Malicious   C&C-HeartBeat'), 'label'] = 'Malicious'\n",
    "df_c.loc[(df_c.label == '(empty)   Malicious   C&C-HeartBeat'), 'label'] = 'Malicious'\n",
    "df_c.loc[(df_c.label == '-   Malicious   C&C-FileDownload'), 'label'] = 'Malicious'\n",
    "df_c.loc[(df_c.label == '-   Malicious   C&C-Torii'), 'label'] = 'Malicious'\n",
    "df_c.loc[(df_c.label == '-   Malicious   C&C-HeartBeat-FileDownload'), 'label'] = 'Malicious'\n",
    "df_c.loc[(df_c.label == '-   Malicious   FileDownload'), 'label'] = 'Malicious'\n",
    "df_c.loc[(df_c.label == '-   Malicious   C&C-Mirai'), 'label'] = 'Malicious'\n",
    "df_c.loc[(df_c.label == '-   Malicious   Okiru-Attack'), 'label'] = 'Malicious'\n",
    "\n",
    "# df_c.loc[(df_c.label == 'Benign'), 'detailed-label'] = 'Benign'\n",
    "# df_c.loc[(df_c.label == 'Malware'), 'detailed-label'] = 'Malware'\n",
    "# df_c['detailed-label'].value_counts()\n",
    "df_c"
   ],
   "metadata": {
    "collapsed": false,
    "pycharm": {
     "name": "#%%\n"
    }
   }
  },
  {
   "cell_type": "code",
   "execution_count": 49,
   "outputs": [
    {
     "data": {
      "text/plain": "       proto service    duration orig_bytes resp_bytes conn_state  \\\n0        tcp       -  206.663644       2768      11216         SF   \n1        tcp       -    1.902519        518         66       RSTR   \n2        tcp       -    1.873781        518         66       RSTR   \n3        tcp       -    1.853542        518         66       RSTR   \n4        tcp       -    1.842535        518         66       RSTR   \n...      ...     ...         ...        ...        ...        ...   \n199984   tcp       -           -          -          -         S0   \n199985   tcp       -           -          -          -         S0   \n199986   tcp       -           -          -          -         S0   \n199987   tcp       -           -          -          -         S0   \n199988   tcp       -           -          -          -         S0   \n\n        missed_bytes  orig_pkts  orig_ip_bytes  resp_pkts  resp_ip_bytes  \\\n0                0.0      400.0        26336.0      268.0        36368.0   \n1                0.0       10.0         1572.0        8.0          540.0   \n2                0.0       10.0         1572.0        8.0          540.0   \n3                0.0       10.0         1572.0        8.0          540.0   \n4                0.0       10.0         1572.0        8.0          540.0   \n...              ...        ...            ...        ...            ...   \n199984           0.0        1.0           40.0        0.0            0.0   \n199985           0.0        1.0           40.0        0.0            0.0   \n199986           0.0        1.0           40.0        0.0            0.0   \n199987           0.0        1.0           40.0        0.0            0.0   \n199988           0.0        1.0           40.0        0.0            0.0   \n\n            label  \n0          Benign  \n1       Malicious  \n2       Malicious  \n3       Malicious  \n4       Malicious  \n...           ...  \n199984  Malicious  \n199985  Malicious  \n199986  Malicious  \n199987  Malicious  \n199988  Malicious  \n\n[610367 rows x 12 columns]",
      "text/html": "<div>\n<style scoped>\n    .dataframe tbody tr th:only-of-type {\n        vertical-align: middle;\n    }\n\n    .dataframe tbody tr th {\n        vertical-align: top;\n    }\n\n    .dataframe thead th {\n        text-align: right;\n    }\n</style>\n<table border=\"1\" class=\"dataframe\">\n  <thead>\n    <tr style=\"text-align: right;\">\n      <th></th>\n      <th>proto</th>\n      <th>service</th>\n      <th>duration</th>\n      <th>orig_bytes</th>\n      <th>resp_bytes</th>\n      <th>conn_state</th>\n      <th>missed_bytes</th>\n      <th>orig_pkts</th>\n      <th>orig_ip_bytes</th>\n      <th>resp_pkts</th>\n      <th>resp_ip_bytes</th>\n      <th>label</th>\n    </tr>\n  </thead>\n  <tbody>\n    <tr>\n      <th>0</th>\n      <td>tcp</td>\n      <td>-</td>\n      <td>206.663644</td>\n      <td>2768</td>\n      <td>11216</td>\n      <td>SF</td>\n      <td>0.0</td>\n      <td>400.0</td>\n      <td>26336.0</td>\n      <td>268.0</td>\n      <td>36368.0</td>\n      <td>Benign</td>\n    </tr>\n    <tr>\n      <th>1</th>\n      <td>tcp</td>\n      <td>-</td>\n      <td>1.902519</td>\n      <td>518</td>\n      <td>66</td>\n      <td>RSTR</td>\n      <td>0.0</td>\n      <td>10.0</td>\n      <td>1572.0</td>\n      <td>8.0</td>\n      <td>540.0</td>\n      <td>Malicious</td>\n    </tr>\n    <tr>\n      <th>2</th>\n      <td>tcp</td>\n      <td>-</td>\n      <td>1.873781</td>\n      <td>518</td>\n      <td>66</td>\n      <td>RSTR</td>\n      <td>0.0</td>\n      <td>10.0</td>\n      <td>1572.0</td>\n      <td>8.0</td>\n      <td>540.0</td>\n      <td>Malicious</td>\n    </tr>\n    <tr>\n      <th>3</th>\n      <td>tcp</td>\n      <td>-</td>\n      <td>1.853542</td>\n      <td>518</td>\n      <td>66</td>\n      <td>RSTR</td>\n      <td>0.0</td>\n      <td>10.0</td>\n      <td>1572.0</td>\n      <td>8.0</td>\n      <td>540.0</td>\n      <td>Malicious</td>\n    </tr>\n    <tr>\n      <th>4</th>\n      <td>tcp</td>\n      <td>-</td>\n      <td>1.842535</td>\n      <td>518</td>\n      <td>66</td>\n      <td>RSTR</td>\n      <td>0.0</td>\n      <td>10.0</td>\n      <td>1572.0</td>\n      <td>8.0</td>\n      <td>540.0</td>\n      <td>Malicious</td>\n    </tr>\n    <tr>\n      <th>...</th>\n      <td>...</td>\n      <td>...</td>\n      <td>...</td>\n      <td>...</td>\n      <td>...</td>\n      <td>...</td>\n      <td>...</td>\n      <td>...</td>\n      <td>...</td>\n      <td>...</td>\n      <td>...</td>\n      <td>...</td>\n    </tr>\n    <tr>\n      <th>199984</th>\n      <td>tcp</td>\n      <td>-</td>\n      <td>-</td>\n      <td>-</td>\n      <td>-</td>\n      <td>S0</td>\n      <td>0.0</td>\n      <td>1.0</td>\n      <td>40.0</td>\n      <td>0.0</td>\n      <td>0.0</td>\n      <td>Malicious</td>\n    </tr>\n    <tr>\n      <th>199985</th>\n      <td>tcp</td>\n      <td>-</td>\n      <td>-</td>\n      <td>-</td>\n      <td>-</td>\n      <td>S0</td>\n      <td>0.0</td>\n      <td>1.0</td>\n      <td>40.0</td>\n      <td>0.0</td>\n      <td>0.0</td>\n      <td>Malicious</td>\n    </tr>\n    <tr>\n      <th>199986</th>\n      <td>tcp</td>\n      <td>-</td>\n      <td>-</td>\n      <td>-</td>\n      <td>-</td>\n      <td>S0</td>\n      <td>0.0</td>\n      <td>1.0</td>\n      <td>40.0</td>\n      <td>0.0</td>\n      <td>0.0</td>\n      <td>Malicious</td>\n    </tr>\n    <tr>\n      <th>199987</th>\n      <td>tcp</td>\n      <td>-</td>\n      <td>-</td>\n      <td>-</td>\n      <td>-</td>\n      <td>S0</td>\n      <td>0.0</td>\n      <td>1.0</td>\n      <td>40.0</td>\n      <td>0.0</td>\n      <td>0.0</td>\n      <td>Malicious</td>\n    </tr>\n    <tr>\n      <th>199988</th>\n      <td>tcp</td>\n      <td>-</td>\n      <td>-</td>\n      <td>-</td>\n      <td>-</td>\n      <td>S0</td>\n      <td>0.0</td>\n      <td>1.0</td>\n      <td>40.0</td>\n      <td>0.0</td>\n      <td>0.0</td>\n      <td>Malicious</td>\n    </tr>\n  </tbody>\n</table>\n<p>610367 rows × 12 columns</p>\n</div>"
     },
     "execution_count": 49,
     "metadata": {},
     "output_type": "execute_result"
    }
   ],
   "source": [
    "\n",
    "pd.options.display.max_rows = 300\n",
    "pd.options.display.max_columns = 300\n",
    "df_c = df_c.drop(columns=['ts', 'uid', 'id.orig_h', 'id.orig_p', 'id.resp_h', 'id.resp_p',\n",
    "                                        'local_orig', 'local_resp', 'history'])\n",
    "df_c"
   ],
   "metadata": {
    "collapsed": false,
    "pycharm": {
     "name": "#%%\n"
    }
   }
  },
  {
   "cell_type": "code",
   "execution_count": 50,
   "outputs": [
    {
     "data": {
      "text/plain": "          duration orig_bytes resp_bytes  missed_bytes  orig_pkts  \\\n0       206.663644       2768      11216           0.0      400.0   \n1         1.902519        518         66           0.0       10.0   \n2         1.873781        518         66           0.0       10.0   \n3         1.853542        518         66           0.0       10.0   \n4         1.842535        518         66           0.0       10.0   \n...            ...        ...        ...           ...        ...   \n199984           -          -          -           0.0        1.0   \n199985           -          -          -           0.0        1.0   \n199986           -          -          -           0.0        1.0   \n199987           -          -          -           0.0        1.0   \n199988           -          -          -           0.0        1.0   \n\n        orig_ip_bytes  resp_pkts  resp_ip_bytes      label  proto_icmp  \\\n0             26336.0      268.0        36368.0     Benign           0   \n1              1572.0        8.0          540.0  Malicious           0   \n2              1572.0        8.0          540.0  Malicious           0   \n3              1572.0        8.0          540.0  Malicious           0   \n4              1572.0        8.0          540.0  Malicious           0   \n...               ...        ...            ...        ...         ...   \n199984           40.0        0.0            0.0  Malicious           0   \n199985           40.0        0.0            0.0  Malicious           0   \n199986           40.0        0.0            0.0  Malicious           0   \n199987           40.0        0.0            0.0  Malicious           0   \n199988           40.0        0.0            0.0  Malicious           0   \n\n        proto_tcp  proto_udp  conn_state_OTH  conn_state_REJ  conn_state_RSTO  \\\n0               1          0               0               0                0   \n1               1          0               0               0                0   \n2               1          0               0               0                0   \n3               1          0               0               0                0   \n4               1          0               0               0                0   \n...           ...        ...             ...             ...              ...   \n199984          1          0               0               0                0   \n199985          1          0               0               0                0   \n199986          1          0               0               0                0   \n199987          1          0               0               0                0   \n199988          1          0               0               0                0   \n\n        conn_state_RSTOS0  conn_state_RSTR  conn_state_S0  conn_state_S1  \\\n0                       0                0              0              0   \n1                       0                1              0              0   \n2                       0                1              0              0   \n3                       0                1              0              0   \n4                       0                1              0              0   \n...                   ...              ...            ...            ...   \n199984                  0                0              1              0   \n199985                  0                0              1              0   \n199986                  0                0              1              0   \n199987                  0                0              1              0   \n199988                  0                0              1              0   \n\n        conn_state_S2  conn_state_SF  conn_state_SHR  service_-  service_dhcp  \\\n0                   0              1               0          1             0   \n1                   0              0               0          1             0   \n2                   0              0               0          1             0   \n3                   0              0               0          1             0   \n4                   0              0               0          1             0   \n...               ...            ...             ...        ...           ...   \n199984              0              0               0          1             0   \n199985              0              0               0          1             0   \n199986              0              0               0          1             0   \n199987              0              0               0          1             0   \n199988              0              0               0          1             0   \n\n        service_dns  service_http  \n0                 0             0  \n1                 0             0  \n2                 0             0  \n3                 0             0  \n4                 0             0  \n...             ...           ...  \n199984            0             0  \n199985            0             0  \n199986            0             0  \n199987            0             0  \n199988            0             0  \n\n[610367 rows x 26 columns]",
      "text/html": "<div>\n<style scoped>\n    .dataframe tbody tr th:only-of-type {\n        vertical-align: middle;\n    }\n\n    .dataframe tbody tr th {\n        vertical-align: top;\n    }\n\n    .dataframe thead th {\n        text-align: right;\n    }\n</style>\n<table border=\"1\" class=\"dataframe\">\n  <thead>\n    <tr style=\"text-align: right;\">\n      <th></th>\n      <th>duration</th>\n      <th>orig_bytes</th>\n      <th>resp_bytes</th>\n      <th>missed_bytes</th>\n      <th>orig_pkts</th>\n      <th>orig_ip_bytes</th>\n      <th>resp_pkts</th>\n      <th>resp_ip_bytes</th>\n      <th>label</th>\n      <th>proto_icmp</th>\n      <th>proto_tcp</th>\n      <th>proto_udp</th>\n      <th>conn_state_OTH</th>\n      <th>conn_state_REJ</th>\n      <th>conn_state_RSTO</th>\n      <th>conn_state_RSTOS0</th>\n      <th>conn_state_RSTR</th>\n      <th>conn_state_S0</th>\n      <th>conn_state_S1</th>\n      <th>conn_state_S2</th>\n      <th>conn_state_SF</th>\n      <th>conn_state_SHR</th>\n      <th>service_-</th>\n      <th>service_dhcp</th>\n      <th>service_dns</th>\n      <th>service_http</th>\n    </tr>\n  </thead>\n  <tbody>\n    <tr>\n      <th>0</th>\n      <td>206.663644</td>\n      <td>2768</td>\n      <td>11216</td>\n      <td>0.0</td>\n      <td>400.0</td>\n      <td>26336.0</td>\n      <td>268.0</td>\n      <td>36368.0</td>\n      <td>Benign</td>\n      <td>0</td>\n      <td>1</td>\n      <td>0</td>\n      <td>0</td>\n      <td>0</td>\n      <td>0</td>\n      <td>0</td>\n      <td>0</td>\n      <td>0</td>\n      <td>0</td>\n      <td>0</td>\n      <td>1</td>\n      <td>0</td>\n      <td>1</td>\n      <td>0</td>\n      <td>0</td>\n      <td>0</td>\n    </tr>\n    <tr>\n      <th>1</th>\n      <td>1.902519</td>\n      <td>518</td>\n      <td>66</td>\n      <td>0.0</td>\n      <td>10.0</td>\n      <td>1572.0</td>\n      <td>8.0</td>\n      <td>540.0</td>\n      <td>Malicious</td>\n      <td>0</td>\n      <td>1</td>\n      <td>0</td>\n      <td>0</td>\n      <td>0</td>\n      <td>0</td>\n      <td>0</td>\n      <td>1</td>\n      <td>0</td>\n      <td>0</td>\n      <td>0</td>\n      <td>0</td>\n      <td>0</td>\n      <td>1</td>\n      <td>0</td>\n      <td>0</td>\n      <td>0</td>\n    </tr>\n    <tr>\n      <th>2</th>\n      <td>1.873781</td>\n      <td>518</td>\n      <td>66</td>\n      <td>0.0</td>\n      <td>10.0</td>\n      <td>1572.0</td>\n      <td>8.0</td>\n      <td>540.0</td>\n      <td>Malicious</td>\n      <td>0</td>\n      <td>1</td>\n      <td>0</td>\n      <td>0</td>\n      <td>0</td>\n      <td>0</td>\n      <td>0</td>\n      <td>1</td>\n      <td>0</td>\n      <td>0</td>\n      <td>0</td>\n      <td>0</td>\n      <td>0</td>\n      <td>1</td>\n      <td>0</td>\n      <td>0</td>\n      <td>0</td>\n    </tr>\n    <tr>\n      <th>3</th>\n      <td>1.853542</td>\n      <td>518</td>\n      <td>66</td>\n      <td>0.0</td>\n      <td>10.0</td>\n      <td>1572.0</td>\n      <td>8.0</td>\n      <td>540.0</td>\n      <td>Malicious</td>\n      <td>0</td>\n      <td>1</td>\n      <td>0</td>\n      <td>0</td>\n      <td>0</td>\n      <td>0</td>\n      <td>0</td>\n      <td>1</td>\n      <td>0</td>\n      <td>0</td>\n      <td>0</td>\n      <td>0</td>\n      <td>0</td>\n      <td>1</td>\n      <td>0</td>\n      <td>0</td>\n      <td>0</td>\n    </tr>\n    <tr>\n      <th>4</th>\n      <td>1.842535</td>\n      <td>518</td>\n      <td>66</td>\n      <td>0.0</td>\n      <td>10.0</td>\n      <td>1572.0</td>\n      <td>8.0</td>\n      <td>540.0</td>\n      <td>Malicious</td>\n      <td>0</td>\n      <td>1</td>\n      <td>0</td>\n      <td>0</td>\n      <td>0</td>\n      <td>0</td>\n      <td>0</td>\n      <td>1</td>\n      <td>0</td>\n      <td>0</td>\n      <td>0</td>\n      <td>0</td>\n      <td>0</td>\n      <td>1</td>\n      <td>0</td>\n      <td>0</td>\n      <td>0</td>\n    </tr>\n    <tr>\n      <th>...</th>\n      <td>...</td>\n      <td>...</td>\n      <td>...</td>\n      <td>...</td>\n      <td>...</td>\n      <td>...</td>\n      <td>...</td>\n      <td>...</td>\n      <td>...</td>\n      <td>...</td>\n      <td>...</td>\n      <td>...</td>\n      <td>...</td>\n      <td>...</td>\n      <td>...</td>\n      <td>...</td>\n      <td>...</td>\n      <td>...</td>\n      <td>...</td>\n      <td>...</td>\n      <td>...</td>\n      <td>...</td>\n      <td>...</td>\n      <td>...</td>\n      <td>...</td>\n      <td>...</td>\n    </tr>\n    <tr>\n      <th>199984</th>\n      <td>-</td>\n      <td>-</td>\n      <td>-</td>\n      <td>0.0</td>\n      <td>1.0</td>\n      <td>40.0</td>\n      <td>0.0</td>\n      <td>0.0</td>\n      <td>Malicious</td>\n      <td>0</td>\n      <td>1</td>\n      <td>0</td>\n      <td>0</td>\n      <td>0</td>\n      <td>0</td>\n      <td>0</td>\n      <td>0</td>\n      <td>1</td>\n      <td>0</td>\n      <td>0</td>\n      <td>0</td>\n      <td>0</td>\n      <td>1</td>\n      <td>0</td>\n      <td>0</td>\n      <td>0</td>\n    </tr>\n    <tr>\n      <th>199985</th>\n      <td>-</td>\n      <td>-</td>\n      <td>-</td>\n      <td>0.0</td>\n      <td>1.0</td>\n      <td>40.0</td>\n      <td>0.0</td>\n      <td>0.0</td>\n      <td>Malicious</td>\n      <td>0</td>\n      <td>1</td>\n      <td>0</td>\n      <td>0</td>\n      <td>0</td>\n      <td>0</td>\n      <td>0</td>\n      <td>0</td>\n      <td>1</td>\n      <td>0</td>\n      <td>0</td>\n      <td>0</td>\n      <td>0</td>\n      <td>1</td>\n      <td>0</td>\n      <td>0</td>\n      <td>0</td>\n    </tr>\n    <tr>\n      <th>199986</th>\n      <td>-</td>\n      <td>-</td>\n      <td>-</td>\n      <td>0.0</td>\n      <td>1.0</td>\n      <td>40.0</td>\n      <td>0.0</td>\n      <td>0.0</td>\n      <td>Malicious</td>\n      <td>0</td>\n      <td>1</td>\n      <td>0</td>\n      <td>0</td>\n      <td>0</td>\n      <td>0</td>\n      <td>0</td>\n      <td>0</td>\n      <td>1</td>\n      <td>0</td>\n      <td>0</td>\n      <td>0</td>\n      <td>0</td>\n      <td>1</td>\n      <td>0</td>\n      <td>0</td>\n      <td>0</td>\n    </tr>\n    <tr>\n      <th>199987</th>\n      <td>-</td>\n      <td>-</td>\n      <td>-</td>\n      <td>0.0</td>\n      <td>1.0</td>\n      <td>40.0</td>\n      <td>0.0</td>\n      <td>0.0</td>\n      <td>Malicious</td>\n      <td>0</td>\n      <td>1</td>\n      <td>0</td>\n      <td>0</td>\n      <td>0</td>\n      <td>0</td>\n      <td>0</td>\n      <td>0</td>\n      <td>1</td>\n      <td>0</td>\n      <td>0</td>\n      <td>0</td>\n      <td>0</td>\n      <td>1</td>\n      <td>0</td>\n      <td>0</td>\n      <td>0</td>\n    </tr>\n    <tr>\n      <th>199988</th>\n      <td>-</td>\n      <td>-</td>\n      <td>-</td>\n      <td>0.0</td>\n      <td>1.0</td>\n      <td>40.0</td>\n      <td>0.0</td>\n      <td>0.0</td>\n      <td>Malicious</td>\n      <td>0</td>\n      <td>1</td>\n      <td>0</td>\n      <td>0</td>\n      <td>0</td>\n      <td>0</td>\n      <td>0</td>\n      <td>0</td>\n      <td>1</td>\n      <td>0</td>\n      <td>0</td>\n      <td>0</td>\n      <td>0</td>\n      <td>1</td>\n      <td>0</td>\n      <td>0</td>\n      <td>0</td>\n    </tr>\n  </tbody>\n</table>\n<p>610367 rows × 26 columns</p>\n</div>"
     },
     "execution_count": 50,
     "metadata": {},
     "output_type": "execute_result"
    }
   ],
   "source": [
    "# df_c_normal = df_c_normal[df_c_normal['label'] == 'Benign']\n",
    "# df_c_normal\n",
    "df_c = pd.get_dummies(df_c, columns=['proto'])\n",
    "df_c = pd.get_dummies(df_c, columns=['conn_state'])\n",
    "df_c = pd.get_dummies(df_c, columns=['service'])\n",
    "df_c"
   ],
   "metadata": {
    "collapsed": false,
    "pycharm": {
     "name": "#%%\n"
    }
   }
  },
  {
   "cell_type": "code",
   "execution_count": 51,
   "outputs": [
    {
     "data": {
      "text/plain": "duration             0\norig_bytes           0\nresp_bytes           0\nmissed_bytes         0\norig_pkts            0\norig_ip_bytes        0\nresp_pkts            0\nresp_ip_bytes        0\nlabel                0\nproto_icmp           0\nproto_tcp            0\nproto_udp            0\nconn_state_OTH       0\nconn_state_REJ       0\nconn_state_RSTO      0\nconn_state_RSTOS0    0\nconn_state_RSTR      0\nconn_state_S0        0\nconn_state_S1        0\nconn_state_S2        0\nconn_state_SF        0\nconn_state_SHR       0\nservice_-            0\nservice_dhcp         0\nservice_dns          0\nservice_http         0\ndtype: int64"
     },
     "execution_count": 51,
     "metadata": {},
     "output_type": "execute_result"
    }
   ],
   "source": [
    "df_c['duration'] = df_c['duration'].str.replace('-', '0')\n",
    "df_c['orig_bytes'] = df_c['orig_bytes'].str.replace('-', '0')\n",
    "df_c['resp_bytes'] = df_c['resp_bytes'].str.replace('-', '0')\n",
    "df_c.fillna(-1, inplace=True)\n",
    "df_c.isna().sum()"
   ],
   "metadata": {
    "collapsed": false,
    "pycharm": {
     "name": "#%%\n"
    }
   }
  },
  {
   "cell_type": "code",
   "execution_count": 53,
   "outputs": [],
   "source": [
    "# df_c['service_dhcp']=0\n",
    "# df_c['service_http']=0\n",
    "# df_c['service_dns']=0\n",
    "df_c['service_ssh']=0\n",
    "df_c['service_ssl']=0\n",
    "df_c['service_irc']=0\n",
    "# df_c['conn_state_RSTO']=0\n",
    "# df_c['conn_state_S1']=0\n",
    "# df_c['conn_state_S2']=0\n",
    "df_c['conn_state_S3']=0\n",
    "df_c['conn_state_SH']=0\n",
    "# df_c['conn_state_SHR']=0\n",
    "# df_c['conn_state_RSTOS0']=0"
   ],
   "metadata": {
    "collapsed": false,
    "pycharm": {
     "name": "#%%\n"
    }
   }
  },
  {
   "cell_type": "code",
   "execution_count": 54,
   "outputs": [
    {
     "data": {
      "text/plain": "          duration orig_bytes resp_bytes  missed_bytes  orig_pkts  \\\n0       206.663644       2768      11216           0.0      400.0   \n1         1.902519        518         66           0.0       10.0   \n2         1.873781        518         66           0.0       10.0   \n3         1.853542        518         66           0.0       10.0   \n4         1.842535        518         66           0.0       10.0   \n...            ...        ...        ...           ...        ...   \n199984           0          0          0           0.0        1.0   \n199985           0          0          0           0.0        1.0   \n199986           0          0          0           0.0        1.0   \n199987           0          0          0           0.0        1.0   \n199988           0          0          0           0.0        1.0   \n\n        orig_ip_bytes  resp_pkts  resp_ip_bytes      label  proto_icmp  \\\n0             26336.0      268.0        36368.0     Benign           0   \n1              1572.0        8.0          540.0  Malicious           0   \n2              1572.0        8.0          540.0  Malicious           0   \n3              1572.0        8.0          540.0  Malicious           0   \n4              1572.0        8.0          540.0  Malicious           0   \n...               ...        ...            ...        ...         ...   \n199984           40.0        0.0            0.0  Malicious           0   \n199985           40.0        0.0            0.0  Malicious           0   \n199986           40.0        0.0            0.0  Malicious           0   \n199987           40.0        0.0            0.0  Malicious           0   \n199988           40.0        0.0            0.0  Malicious           0   \n\n        proto_tcp  proto_udp  conn_state_OTH  conn_state_REJ  conn_state_RSTO  \\\n0               1          0               0               0                0   \n1               1          0               0               0                0   \n2               1          0               0               0                0   \n3               1          0               0               0                0   \n4               1          0               0               0                0   \n...           ...        ...             ...             ...              ...   \n199984          1          0               0               0                0   \n199985          1          0               0               0                0   \n199986          1          0               0               0                0   \n199987          1          0               0               0                0   \n199988          1          0               0               0                0   \n\n        conn_state_RSTOS0  conn_state_RSTR  conn_state_S0  conn_state_S1  \\\n0                       0                0              0              0   \n1                       0                1              0              0   \n2                       0                1              0              0   \n3                       0                1              0              0   \n4                       0                1              0              0   \n...                   ...              ...            ...            ...   \n199984                  0                0              1              0   \n199985                  0                0              1              0   \n199986                  0                0              1              0   \n199987                  0                0              1              0   \n199988                  0                0              1              0   \n\n        conn_state_S2  conn_state_SF  conn_state_SHR  service_-  service_dhcp  \\\n0                   0              1               0          1             0   \n1                   0              0               0          1             0   \n2                   0              0               0          1             0   \n3                   0              0               0          1             0   \n4                   0              0               0          1             0   \n...               ...            ...             ...        ...           ...   \n199984              0              0               0          1             0   \n199985              0              0               0          1             0   \n199986              0              0               0          1             0   \n199987              0              0               0          1             0   \n199988              0              0               0          1             0   \n\n        service_dns  service_http  service_ssh  service_ssl  service_irc  \\\n0                 0             0            0            0            0   \n1                 0             0            0            0            0   \n2                 0             0            0            0            0   \n3                 0             0            0            0            0   \n4                 0             0            0            0            0   \n...             ...           ...          ...          ...          ...   \n199984            0             0            0            0            0   \n199985            0             0            0            0            0   \n199986            0             0            0            0            0   \n199987            0             0            0            0            0   \n199988            0             0            0            0            0   \n\n        conn_state_S3  conn_state_SH  \n0                   0              0  \n1                   0              0  \n2                   0              0  \n3                   0              0  \n4                   0              0  \n...               ...            ...  \n199984              0              0  \n199985              0              0  \n199986              0              0  \n199987              0              0  \n199988              0              0  \n\n[610367 rows x 31 columns]",
      "text/html": "<div>\n<style scoped>\n    .dataframe tbody tr th:only-of-type {\n        vertical-align: middle;\n    }\n\n    .dataframe tbody tr th {\n        vertical-align: top;\n    }\n\n    .dataframe thead th {\n        text-align: right;\n    }\n</style>\n<table border=\"1\" class=\"dataframe\">\n  <thead>\n    <tr style=\"text-align: right;\">\n      <th></th>\n      <th>duration</th>\n      <th>orig_bytes</th>\n      <th>resp_bytes</th>\n      <th>missed_bytes</th>\n      <th>orig_pkts</th>\n      <th>orig_ip_bytes</th>\n      <th>resp_pkts</th>\n      <th>resp_ip_bytes</th>\n      <th>label</th>\n      <th>proto_icmp</th>\n      <th>proto_tcp</th>\n      <th>proto_udp</th>\n      <th>conn_state_OTH</th>\n      <th>conn_state_REJ</th>\n      <th>conn_state_RSTO</th>\n      <th>conn_state_RSTOS0</th>\n      <th>conn_state_RSTR</th>\n      <th>conn_state_S0</th>\n      <th>conn_state_S1</th>\n      <th>conn_state_S2</th>\n      <th>conn_state_SF</th>\n      <th>conn_state_SHR</th>\n      <th>service_-</th>\n      <th>service_dhcp</th>\n      <th>service_dns</th>\n      <th>service_http</th>\n      <th>service_ssh</th>\n      <th>service_ssl</th>\n      <th>service_irc</th>\n      <th>conn_state_S3</th>\n      <th>conn_state_SH</th>\n    </tr>\n  </thead>\n  <tbody>\n    <tr>\n      <th>0</th>\n      <td>206.663644</td>\n      <td>2768</td>\n      <td>11216</td>\n      <td>0.0</td>\n      <td>400.0</td>\n      <td>26336.0</td>\n      <td>268.0</td>\n      <td>36368.0</td>\n      <td>Benign</td>\n      <td>0</td>\n      <td>1</td>\n      <td>0</td>\n      <td>0</td>\n      <td>0</td>\n      <td>0</td>\n      <td>0</td>\n      <td>0</td>\n      <td>0</td>\n      <td>0</td>\n      <td>0</td>\n      <td>1</td>\n      <td>0</td>\n      <td>1</td>\n      <td>0</td>\n      <td>0</td>\n      <td>0</td>\n      <td>0</td>\n      <td>0</td>\n      <td>0</td>\n      <td>0</td>\n      <td>0</td>\n    </tr>\n    <tr>\n      <th>1</th>\n      <td>1.902519</td>\n      <td>518</td>\n      <td>66</td>\n      <td>0.0</td>\n      <td>10.0</td>\n      <td>1572.0</td>\n      <td>8.0</td>\n      <td>540.0</td>\n      <td>Malicious</td>\n      <td>0</td>\n      <td>1</td>\n      <td>0</td>\n      <td>0</td>\n      <td>0</td>\n      <td>0</td>\n      <td>0</td>\n      <td>1</td>\n      <td>0</td>\n      <td>0</td>\n      <td>0</td>\n      <td>0</td>\n      <td>0</td>\n      <td>1</td>\n      <td>0</td>\n      <td>0</td>\n      <td>0</td>\n      <td>0</td>\n      <td>0</td>\n      <td>0</td>\n      <td>0</td>\n      <td>0</td>\n    </tr>\n    <tr>\n      <th>2</th>\n      <td>1.873781</td>\n      <td>518</td>\n      <td>66</td>\n      <td>0.0</td>\n      <td>10.0</td>\n      <td>1572.0</td>\n      <td>8.0</td>\n      <td>540.0</td>\n      <td>Malicious</td>\n      <td>0</td>\n      <td>1</td>\n      <td>0</td>\n      <td>0</td>\n      <td>0</td>\n      <td>0</td>\n      <td>0</td>\n      <td>1</td>\n      <td>0</td>\n      <td>0</td>\n      <td>0</td>\n      <td>0</td>\n      <td>0</td>\n      <td>1</td>\n      <td>0</td>\n      <td>0</td>\n      <td>0</td>\n      <td>0</td>\n      <td>0</td>\n      <td>0</td>\n      <td>0</td>\n      <td>0</td>\n    </tr>\n    <tr>\n      <th>3</th>\n      <td>1.853542</td>\n      <td>518</td>\n      <td>66</td>\n      <td>0.0</td>\n      <td>10.0</td>\n      <td>1572.0</td>\n      <td>8.0</td>\n      <td>540.0</td>\n      <td>Malicious</td>\n      <td>0</td>\n      <td>1</td>\n      <td>0</td>\n      <td>0</td>\n      <td>0</td>\n      <td>0</td>\n      <td>0</td>\n      <td>1</td>\n      <td>0</td>\n      <td>0</td>\n      <td>0</td>\n      <td>0</td>\n      <td>0</td>\n      <td>1</td>\n      <td>0</td>\n      <td>0</td>\n      <td>0</td>\n      <td>0</td>\n      <td>0</td>\n      <td>0</td>\n      <td>0</td>\n      <td>0</td>\n    </tr>\n    <tr>\n      <th>4</th>\n      <td>1.842535</td>\n      <td>518</td>\n      <td>66</td>\n      <td>0.0</td>\n      <td>10.0</td>\n      <td>1572.0</td>\n      <td>8.0</td>\n      <td>540.0</td>\n      <td>Malicious</td>\n      <td>0</td>\n      <td>1</td>\n      <td>0</td>\n      <td>0</td>\n      <td>0</td>\n      <td>0</td>\n      <td>0</td>\n      <td>1</td>\n      <td>0</td>\n      <td>0</td>\n      <td>0</td>\n      <td>0</td>\n      <td>0</td>\n      <td>1</td>\n      <td>0</td>\n      <td>0</td>\n      <td>0</td>\n      <td>0</td>\n      <td>0</td>\n      <td>0</td>\n      <td>0</td>\n      <td>0</td>\n    </tr>\n    <tr>\n      <th>...</th>\n      <td>...</td>\n      <td>...</td>\n      <td>...</td>\n      <td>...</td>\n      <td>...</td>\n      <td>...</td>\n      <td>...</td>\n      <td>...</td>\n      <td>...</td>\n      <td>...</td>\n      <td>...</td>\n      <td>...</td>\n      <td>...</td>\n      <td>...</td>\n      <td>...</td>\n      <td>...</td>\n      <td>...</td>\n      <td>...</td>\n      <td>...</td>\n      <td>...</td>\n      <td>...</td>\n      <td>...</td>\n      <td>...</td>\n      <td>...</td>\n      <td>...</td>\n      <td>...</td>\n      <td>...</td>\n      <td>...</td>\n      <td>...</td>\n      <td>...</td>\n      <td>...</td>\n    </tr>\n    <tr>\n      <th>199984</th>\n      <td>0</td>\n      <td>0</td>\n      <td>0</td>\n      <td>0.0</td>\n      <td>1.0</td>\n      <td>40.0</td>\n      <td>0.0</td>\n      <td>0.0</td>\n      <td>Malicious</td>\n      <td>0</td>\n      <td>1</td>\n      <td>0</td>\n      <td>0</td>\n      <td>0</td>\n      <td>0</td>\n      <td>0</td>\n      <td>0</td>\n      <td>1</td>\n      <td>0</td>\n      <td>0</td>\n      <td>0</td>\n      <td>0</td>\n      <td>1</td>\n      <td>0</td>\n      <td>0</td>\n      <td>0</td>\n      <td>0</td>\n      <td>0</td>\n      <td>0</td>\n      <td>0</td>\n      <td>0</td>\n    </tr>\n    <tr>\n      <th>199985</th>\n      <td>0</td>\n      <td>0</td>\n      <td>0</td>\n      <td>0.0</td>\n      <td>1.0</td>\n      <td>40.0</td>\n      <td>0.0</td>\n      <td>0.0</td>\n      <td>Malicious</td>\n      <td>0</td>\n      <td>1</td>\n      <td>0</td>\n      <td>0</td>\n      <td>0</td>\n      <td>0</td>\n      <td>0</td>\n      <td>0</td>\n      <td>1</td>\n      <td>0</td>\n      <td>0</td>\n      <td>0</td>\n      <td>0</td>\n      <td>1</td>\n      <td>0</td>\n      <td>0</td>\n      <td>0</td>\n      <td>0</td>\n      <td>0</td>\n      <td>0</td>\n      <td>0</td>\n      <td>0</td>\n    </tr>\n    <tr>\n      <th>199986</th>\n      <td>0</td>\n      <td>0</td>\n      <td>0</td>\n      <td>0.0</td>\n      <td>1.0</td>\n      <td>40.0</td>\n      <td>0.0</td>\n      <td>0.0</td>\n      <td>Malicious</td>\n      <td>0</td>\n      <td>1</td>\n      <td>0</td>\n      <td>0</td>\n      <td>0</td>\n      <td>0</td>\n      <td>0</td>\n      <td>0</td>\n      <td>1</td>\n      <td>0</td>\n      <td>0</td>\n      <td>0</td>\n      <td>0</td>\n      <td>1</td>\n      <td>0</td>\n      <td>0</td>\n      <td>0</td>\n      <td>0</td>\n      <td>0</td>\n      <td>0</td>\n      <td>0</td>\n      <td>0</td>\n    </tr>\n    <tr>\n      <th>199987</th>\n      <td>0</td>\n      <td>0</td>\n      <td>0</td>\n      <td>0.0</td>\n      <td>1.0</td>\n      <td>40.0</td>\n      <td>0.0</td>\n      <td>0.0</td>\n      <td>Malicious</td>\n      <td>0</td>\n      <td>1</td>\n      <td>0</td>\n      <td>0</td>\n      <td>0</td>\n      <td>0</td>\n      <td>0</td>\n      <td>0</td>\n      <td>1</td>\n      <td>0</td>\n      <td>0</td>\n      <td>0</td>\n      <td>0</td>\n      <td>1</td>\n      <td>0</td>\n      <td>0</td>\n      <td>0</td>\n      <td>0</td>\n      <td>0</td>\n      <td>0</td>\n      <td>0</td>\n      <td>0</td>\n    </tr>\n    <tr>\n      <th>199988</th>\n      <td>0</td>\n      <td>0</td>\n      <td>0</td>\n      <td>0.0</td>\n      <td>1.0</td>\n      <td>40.0</td>\n      <td>0.0</td>\n      <td>0.0</td>\n      <td>Malicious</td>\n      <td>0</td>\n      <td>1</td>\n      <td>0</td>\n      <td>0</td>\n      <td>0</td>\n      <td>0</td>\n      <td>0</td>\n      <td>0</td>\n      <td>1</td>\n      <td>0</td>\n      <td>0</td>\n      <td>0</td>\n      <td>0</td>\n      <td>1</td>\n      <td>0</td>\n      <td>0</td>\n      <td>0</td>\n      <td>0</td>\n      <td>0</td>\n      <td>0</td>\n      <td>0</td>\n      <td>0</td>\n    </tr>\n  </tbody>\n</table>\n<p>610367 rows × 31 columns</p>\n</div>"
     },
     "execution_count": 54,
     "metadata": {},
     "output_type": "execute_result"
    }
   ],
   "source": [
    "df_c"
   ],
   "metadata": {
    "collapsed": false,
    "pycharm": {
     "name": "#%%\n"
    }
   }
  },
  {
   "cell_type": "code",
   "execution_count": 55,
   "outputs": [],
   "source": [
    "df_c = df_c[['duration', 'orig_bytes', 'resp_bytes', 'missed_bytes', 'orig_pkts', 'orig_ip_bytes', 'resp_pkts', 'resp_ip_bytes',\n",
    "     'proto_icmp', 'proto_tcp', 'proto_udp', 'service_-', 'service_dhcp', 'service_dns', 'service_http', 'service_ssh',\n",
    "     'service_ssl', 'service_irc', 'conn_state_OTH', 'conn_state_REJ', 'conn_state_RSTO', 'conn_state_RSTOS0',\n",
    "     'conn_state_RSTR', 'conn_state_S0', 'conn_state_S1', 'conn_state_S2', 'conn_state_S3',\n",
    "     'conn_state_SF', 'conn_state_SH', 'conn_state_SHR','label']]"
   ],
   "metadata": {
    "collapsed": false,
    "pycharm": {
     "name": "#%%\n"
    }
   }
  },
  {
   "cell_type": "code",
   "execution_count": 56,
   "outputs": [],
   "source": [
    "df_c.to_csv('./Data/test/iot23_Benign_combined_testdf60-df7-df8-df9.csv', index=False, encoding='utf-8')"
   ],
   "metadata": {
    "collapsed": false,
    "pycharm": {
     "name": "#%%\n"
    }
   }
  },
  {
   "cell_type": "code",
   "execution_count": 4,
   "outputs": [],
   "source": [
    "import pandas as pd\n",
    "import os\n",
    "frame_all = []\n",
    "filepath = '/media/wuguo-buaa/LENOVO_USB_HDD/PycharmProjects/Anomaly-Detection-IoT23/Models/Data/test/ALL/'\n",
    "for file_name in os.listdir(filepath):\n",
    "    df = pd.read_csv(filepath_or_buffer=filepath+file_name)\n",
    "    frame_all.append(df)"
   ],
   "metadata": {
    "collapsed": false,
    "pycharm": {
     "name": "#%%\n"
    }
   }
  },
  {
   "cell_type": "code",
   "execution_count": 5,
   "outputs": [],
   "source": [
    "df_all = pd.concat(frame_all)\n",
    "df_all.to_csv('./Data/test/iot23_Benign_combined_all.csv', index=False, encoding='utf-8')"
   ],
   "metadata": {
    "collapsed": false,
    "pycharm": {
     "name": "#%%\n"
    }
   }
  },
  {
   "cell_type": "code",
   "execution_count": 6,
   "outputs": [
    {
     "ename": "NameError",
     "evalue": "name 'df_c' is not defined",
     "output_type": "error",
     "traceback": [
      "\u001B[0;31m---------------------------------------------------------------------------\u001B[0m",
      "\u001B[0;31mNameError\u001B[0m                                 Traceback (most recent call last)",
      "Input \u001B[0;32mIn [6]\u001B[0m, in \u001B[0;36m<cell line: 2>\u001B[0;34m()\u001B[0m\n\u001B[1;32m      1\u001B[0m df \u001B[38;5;241m=\u001B[39m pd\u001B[38;5;241m.\u001B[39mread_csv(filepath_or_buffer\u001B[38;5;241m=\u001B[39m\u001B[38;5;124m'\u001B[39m\u001B[38;5;124m./Data/test/iot23_Benign_combined_all.csv\u001B[39m\u001B[38;5;124m'\u001B[39m)\n\u001B[0;32m----> 2\u001B[0m \u001B[38;5;28mprint\u001B[39m(\u001B[43mdf_c\u001B[49m[\u001B[38;5;124m'\u001B[39m\u001B[38;5;124mlabel\u001B[39m\u001B[38;5;124m'\u001B[39m]\u001B[38;5;241m.\u001B[39mvalue_counts())\n",
      "\u001B[0;31mNameError\u001B[0m: name 'df_c' is not defined"
     ]
    }
   ],
   "source": [
    "df = pd.read_csv(filepath_or_buffer='./Data/test/iot23_Benign_combined_all.csv')"
   ],
   "metadata": {
    "collapsed": false,
    "pycharm": {
     "name": "#%%\n"
    }
   }
  },
  {
   "cell_type": "code",
   "execution_count": 7,
   "outputs": [
    {
     "name": "stdout",
     "output_type": "stream",
     "text": [
      "Malicious    2421255\n",
      "Benign        379390\n",
      "Name: label, dtype: int64\n"
     ]
    }
   ],
   "source": [
    "print(df['label'].value_counts())"
   ],
   "metadata": {
    "collapsed": false,
    "pycharm": {
     "name": "#%%\n"
    }
   }
  },
  {
   "cell_type": "code",
   "execution_count": null,
   "outputs": [],
   "source": [
    "frame_combine = [df_c, df_c_normal]\n",
    "df_all = pd.concat(frame_combine)\n",
    "df_all = pd.get_dummies(df_all, columns=['service'])\n",
    "df_all = pd.get_dummies(df_all, columns=['conn_state'])\n",
    "df_all\n",
    "df_all.to_csv('./Data/iot23_all_combined.csv')\n",
    "### split all data to train/test\n",
    "import pandas as pd\n",
    "from sklearn.model_selection import train_test_split\n",
    "\n",
    "filepath = \"./Data/iot23_all_combined.csv\"\n",
    "df = pd.read_csv(filepath)\n",
    "del df['Unnamed: 0']\n",
    "X = df[\n",
    "    ['duration', 'orig_bytes', 'resp_bytes', 'missed_bytes', 'orig_pkts', 'orig_ip_bytes', 'resp_pkts', 'resp_ip_bytes',\n",
    "     'proto_icmp', 'proto_tcp', 'proto_udp', 'service_-', 'service_dhcp', 'service_dns', 'service_http', 'service_ssh',\n",
    "     'service_ssl', 'service_irc', 'conn_state_OTH', 'conn_state_REJ', 'conn_state_RSTO', 'conn_state_RSTOS0',\n",
    "     'conn_state_RSTR', 'conn_state_S0', 'conn_state_S1', 'conn_state_S2', 'conn_state_S3',\n",
    "     'conn_state_SF', 'conn_state_SH', 'conn_state_SHR']]\n",
    "Y = df['label']\n",
    "X_train, X_test, Y_train, Y_test = train_test_split(X, Y, random_state=100, test_size=0.2, stratify=Y)\n",
    "type(X_train)\n",
    "train_data = \"./Data/split/train_data.csv\"\n",
    "test_data = './Data/split/test_data.csv'\n",
    "pd.concat([X_train, Y_train], axis=1).to_csv(train_data, index=False, encoding='utf-8')\n",
    "pd.concat([X_test, Y_test], axis=1).to_csv(test_data, index=False, encoding='utf-8')"
   ],
   "metadata": {
    "collapsed": false,
    "pycharm": {
     "name": "#%%\n"
    }
   }
  },
  {
   "cell_type": "code",
   "execution_count": 4,
   "outputs": [],
   "source": [
    "import pandas as pd\n",
    "\n",
    "capture_34 = \"/media/wuguo-buaa/LENOVO_USB_HDD/iot-data/iot_23_datasets_small/opt/Malware-Project/BigDataset/IoTScenarios/CTU-IoT-Malware-Capture-34-1/split_files_subsample/target_list_1.log\"  #\n",
    "capture_43 = \"/media/wuguo-buaa/LENOVO_USB_HDD/iot-data/iot_23_datasets_small/opt/Malware-Project/BigDataset/IoTScenarios/CTU-IoT-Malware-Capture-43-1/split_files_subsample/target_list_1.log\"  #\n",
    "capture_44 = \"/media/wuguo-buaa/LENOVO_USB_HDD/iot-data/iot_23_datasets_small/opt/Malware-Project/BigDataset/IoTScenarios/CTU-IoT-Malware-Capture-44-1/split_files_subsample/target_list_1.log\"  #\n",
    "capture_49 = \"/media/wuguo-buaa/LENOVO_USB_HDD/iot-data/iot_23_datasets_small/opt/Malware-Project/BigDataset/IoTScenarios/CTU-IoT-Malware-Capture-49-1/split_files_subsample/target_list_1.log\"  #\n",
    "capture_52 = \"/media/wuguo-buaa/LENOVO_USB_HDD/iot-data/iot_23_datasets_small/opt/Malware-Project/BigDataset/IoTScenarios/CTU-IoT-Malware-Capture-52-1/split_files_subsample/target_list_1.log\"  #\n",
    "capture_20 = \"/media/wuguo-buaa/LENOVO_USB_HDD/iot-data/iot_23_datasets_small/opt/Malware-Project/BigDataset/IoTScenarios/CTU-IoT-Malware-Capture-20-1/split_files_subsample/target_list_1.log\"  #\n",
    "capture_21 = \"/media/wuguo-buaa/LENOVO_USB_HDD/iot-data/iot_23_datasets_small/opt/Malware-Project/BigDataset/IoTScenarios/CTU-IoT-Malware-Capture-21-1/split_files_subsample/target_list_1.log\"  #\n",
    "capture_42 = \"/media/wuguo-buaa/LENOVO_USB_HDD/iot-data/iot_23_datasets_small/opt/Malware-Project/BigDataset/IoTScenarios/CTU-IoT-Malware-Capture-42-1/split_files_subsample/target_list_1.log\"  #\n",
    "capture_60 = \"/media/wuguo-buaa/LENOVO_USB_HDD/iot-data/iot_23_datasets_small/opt/Malware-Project/BigDataset/IoTScenarios/CTU-IoT-Malware-Capture-60-1/split_files_subsample/target_list_1.log\"  #\n",
    "capture_17 = \"/media/wuguo-buaa/LENOVO_USB_HDD/iot-data/iot_23_datasets_small/opt/Malware-Project/BigDataset/IoTScenarios/CTU-IoT-Malware-Capture-17-1/split_files_subsample/target_list_1.log\"  #\n",
    "capture_36 = \"/media/wuguo-buaa/LENOVO_USB_HDD/iot-data/iot_23_datasets_small/opt/Malware-Project/BigDataset/IoTScenarios/CTU-IoT-Malware-Capture-36-1/split_files_subsample/target_list_1.log\"  #\n",
    "capture_33 = \"/media/wuguo-buaa/LENOVO_USB_HDD/iot-data/iot_23_datasets_small/opt/Malware-Project/BigDataset/IoTScenarios/CTU-IoT-Malware-Capture-33-1/split_files_subsample/target_list_1.log\"  #\n",
    "capture_8 = \"/media/wuguo-buaa/LENOVO_USB_HDD/iot-data/iot_23_datasets_small/opt/Malware-Project/BigDataset/IoTScenarios/CTU-IoT-Malware-Capture-8-1/split_files_subsample/target_list_1.log\"  #1.4 MB\n",
    "capture_35 = \"/media/wuguo-buaa/LENOVO_USB_HDD/iot-data/iot_23_datasets_small/opt/Malware-Project/BigDataset/IoTScenarios/CTU-IoT-Malware-Capture-35-1/split_files_subsample/target_list_1.log\"  #\n",
    "capture_48 = \"/media/wuguo-buaa/LENOVO_USB_HDD/iot-data/iot_23_datasets_small/opt/Malware-Project/BigDataset/IoTScenarios/CTU-IoT-Malware-Capture-48-1/split_files_subsample/target_list_1.log\"  #\n",
    "capture_39 = \"/media/wuguo-buaa/LENOVO_USB_HDD/iot-data/iot_23_datasets_small/opt/Malware-Project/BigDataset/IoTScenarios/CTU-IoT-Malware-Capture-39-1/split_files_subsample/target_list_1.log\"  #\n",
    "capture_7 = \"/media/wuguo-buaa/LENOVO_USB_HDD/iot-data/iot_23_datasets_small/opt/Malware-Project/BigDataset/IoTScenarios/CTU-IoT-Malware-Capture-7-1/split_files_subsample/target_list_1.log\"  #1.6 GB\n",
    "capture_9 = \"/media/wuguo-buaa/LENOVO_USB_HDD/iot-data/iot_23_datasets_small/opt/Malware-Project/BigDataset/IoTScenarios/CTU-IoT-Malware-Capture-9-1/split_files_subsample/target_list_1.log\"  #993.5 MB\n",
    "capture_3 = \"/media/wuguo-buaa/LENOVO_USB_HDD/iot-data/iot_23_datasets_small/opt/Malware-Project/BigDataset/IoTScenarios/CTU-IoT-Malware-Capture-3-1/split_files_subsample/target_list_1.log\"  #24.4 MB\n",
    "capture_1 = \"/media/wuguo-buaa/LENOVO_USB_HDD/iot-data/iot_23_datasets_small/opt/Malware-Project/BigDataset/IoTScenarios/CTU-IoT-Malware-Capture-1-1/split_files_subsample/target_list_1.log\"  #144.3 MB"
   ],
   "metadata": {
    "collapsed": false,
    "pycharm": {
     "name": "#%%\n"
    }
   }
  },
  {
   "cell_type": "code",
   "execution_count": 5,
   "outputs": [
    {
     "name": "stderr",
     "output_type": "stream",
     "text": [
      "/media/wuguo-buaa/LENOVO_USB_HDD/PycharmProjects/Machine_learning_venv/lib/python3.8/site-packages/IPython/core/interactiveshell.py:3397: DtypeWarning: Columns (0) have mixed types.Specify dtype option on import or set low_memory=False.\n",
      "  exec(code_obj, self.user_global_ns, self.user_ns)\n"
     ]
    },
    {
     "data": {
      "text/plain": "                       ts                 uid      id.orig_h  id.orig_p  \\\n0       1545336629.053585  CC2GtA46zw7L9veEI4  192.168.1.197      123.0   \n1       1545336642.053662  CozNZa1gT9JUxCsqz2  192.168.1.197      123.0   \n2       1545336680.053464   Cuqe6xV8rDdaLjwD7  192.168.1.197      123.0   \n3       1545336681.053642  C0ab901YFcB0nhxoX1  192.168.1.197      123.0   \n4       1545336686.053537  C67aXj3nKxDaDjZDog  192.168.1.197      123.0   \n...                   ...                 ...            ...        ...   \n199984  1545337106.283989  C63lwn4zx0ku17ztV3  192.168.1.197    43746.0   \n199985  1545337106.283991  Cv2y3t47Q1msUVl99g  192.168.1.197    43746.0   \n199986  1545337106.284234  CTvAsQ1dXKnWpkkTxj  192.168.1.197    43746.0   \n199987  1545337106.284239   CZOId9Tvhj8M7doRj  192.168.1.197    43746.0   \n199988  1545337106.284240   COxkkpy1TQ6qjgdo3  192.168.1.197    43746.0   \n\n             id.resp_h  id.resp_p proto service  duration orig_bytes  ...  \\\n0         81.2.254.224      123.0   udp       -  0.004739         48  ...   \n1         81.2.248.189      123.0   udp       -  0.004739         48  ...   \n2       94.124.107.190      123.0   udp       -  0.006741         48  ...   \n3        217.30.75.147      123.0   udp       -  0.002244         48  ...   \n4       89.221.214.130      123.0   udp       -  0.003994         48  ...   \n...                ...        ...   ...     ...       ...        ...  ...   \n199984   212.85.52.253       80.0   tcp       -         -          -  ...   \n199985    212.95.16.29     8080.0   tcp       -         -          -  ...   \n199986  204.139.200.65       80.0   tcp       -         -          -  ...   \n199987  212.144.77.155       80.0   tcp       -         -          -  ...   \n199988  206.108.27.211       80.0   tcp       -         -          -  ...   \n\n       conn_state local_orig local_resp missed_bytes  history orig_pkts  \\\n0              SF          -          -          0.0       Dd       1.0   \n1              SF          -          -          0.0       Dd       1.0   \n2              SF          -          -          0.0       Dd       1.0   \n3              SF          -          -          0.0       Dd       1.0   \n4              SF          -          -          0.0       Dd       1.0   \n...           ...        ...        ...          ...      ...       ...   \n199984         S0          -          -          0.0        S       1.0   \n199985         S0          -          -          0.0        S       1.0   \n199986         S0          -          -          0.0        S       1.0   \n199987         S0          -          -          0.0        S       1.0   \n199988         S0          -          -          0.0        S       1.0   \n\n        orig_ip_bytes  resp_pkts  resp_ip_bytes  \\\n0                76.0        1.0           76.0   \n1                76.0        1.0           76.0   \n2                76.0        1.0           76.0   \n3                76.0        1.0           76.0   \n4                76.0        1.0           76.0   \n...               ...        ...            ...   \n199984           40.0        0.0            0.0   \n199985           40.0        0.0            0.0   \n199986           40.0        0.0            0.0   \n199987           40.0        0.0            0.0   \n199988           40.0        0.0            0.0   \n\n                                            label  \n0                                  -   Benign   -  \n1                                  -   Benign   -  \n2                                  -   Benign   -  \n3                                  -   Benign   -  \n4                                  -   Benign   -  \n...                                           ...  \n199984  -   Malicious   PartOfAHorizontalPortScan  \n199985                             -   Benign   -  \n199986  -   Malicious   PartOfAHorizontalPortScan  \n199987  -   Malicious   PartOfAHorizontalPortScan  \n199988  -   Malicious   PartOfAHorizontalPortScan  \n\n[199989 rows x 21 columns]",
      "text/html": "<div>\n<style scoped>\n    .dataframe tbody tr th:only-of-type {\n        vertical-align: middle;\n    }\n\n    .dataframe tbody tr th {\n        vertical-align: top;\n    }\n\n    .dataframe thead th {\n        text-align: right;\n    }\n</style>\n<table border=\"1\" class=\"dataframe\">\n  <thead>\n    <tr style=\"text-align: right;\">\n      <th></th>\n      <th>ts</th>\n      <th>uid</th>\n      <th>id.orig_h</th>\n      <th>id.orig_p</th>\n      <th>id.resp_h</th>\n      <th>id.resp_p</th>\n      <th>proto</th>\n      <th>service</th>\n      <th>duration</th>\n      <th>orig_bytes</th>\n      <th>...</th>\n      <th>conn_state</th>\n      <th>local_orig</th>\n      <th>local_resp</th>\n      <th>missed_bytes</th>\n      <th>history</th>\n      <th>orig_pkts</th>\n      <th>orig_ip_bytes</th>\n      <th>resp_pkts</th>\n      <th>resp_ip_bytes</th>\n      <th>label</th>\n    </tr>\n  </thead>\n  <tbody>\n    <tr>\n      <th>0</th>\n      <td>1545336629.053585</td>\n      <td>CC2GtA46zw7L9veEI4</td>\n      <td>192.168.1.197</td>\n      <td>123.0</td>\n      <td>81.2.254.224</td>\n      <td>123.0</td>\n      <td>udp</td>\n      <td>-</td>\n      <td>0.004739</td>\n      <td>48</td>\n      <td>...</td>\n      <td>SF</td>\n      <td>-</td>\n      <td>-</td>\n      <td>0.0</td>\n      <td>Dd</td>\n      <td>1.0</td>\n      <td>76.0</td>\n      <td>1.0</td>\n      <td>76.0</td>\n      <td>-   Benign   -</td>\n    </tr>\n    <tr>\n      <th>1</th>\n      <td>1545336642.053662</td>\n      <td>CozNZa1gT9JUxCsqz2</td>\n      <td>192.168.1.197</td>\n      <td>123.0</td>\n      <td>81.2.248.189</td>\n      <td>123.0</td>\n      <td>udp</td>\n      <td>-</td>\n      <td>0.004739</td>\n      <td>48</td>\n      <td>...</td>\n      <td>SF</td>\n      <td>-</td>\n      <td>-</td>\n      <td>0.0</td>\n      <td>Dd</td>\n      <td>1.0</td>\n      <td>76.0</td>\n      <td>1.0</td>\n      <td>76.0</td>\n      <td>-   Benign   -</td>\n    </tr>\n    <tr>\n      <th>2</th>\n      <td>1545336680.053464</td>\n      <td>Cuqe6xV8rDdaLjwD7</td>\n      <td>192.168.1.197</td>\n      <td>123.0</td>\n      <td>94.124.107.190</td>\n      <td>123.0</td>\n      <td>udp</td>\n      <td>-</td>\n      <td>0.006741</td>\n      <td>48</td>\n      <td>...</td>\n      <td>SF</td>\n      <td>-</td>\n      <td>-</td>\n      <td>0.0</td>\n      <td>Dd</td>\n      <td>1.0</td>\n      <td>76.0</td>\n      <td>1.0</td>\n      <td>76.0</td>\n      <td>-   Benign   -</td>\n    </tr>\n    <tr>\n      <th>3</th>\n      <td>1545336681.053642</td>\n      <td>C0ab901YFcB0nhxoX1</td>\n      <td>192.168.1.197</td>\n      <td>123.0</td>\n      <td>217.30.75.147</td>\n      <td>123.0</td>\n      <td>udp</td>\n      <td>-</td>\n      <td>0.002244</td>\n      <td>48</td>\n      <td>...</td>\n      <td>SF</td>\n      <td>-</td>\n      <td>-</td>\n      <td>0.0</td>\n      <td>Dd</td>\n      <td>1.0</td>\n      <td>76.0</td>\n      <td>1.0</td>\n      <td>76.0</td>\n      <td>-   Benign   -</td>\n    </tr>\n    <tr>\n      <th>4</th>\n      <td>1545336686.053537</td>\n      <td>C67aXj3nKxDaDjZDog</td>\n      <td>192.168.1.197</td>\n      <td>123.0</td>\n      <td>89.221.214.130</td>\n      <td>123.0</td>\n      <td>udp</td>\n      <td>-</td>\n      <td>0.003994</td>\n      <td>48</td>\n      <td>...</td>\n      <td>SF</td>\n      <td>-</td>\n      <td>-</td>\n      <td>0.0</td>\n      <td>Dd</td>\n      <td>1.0</td>\n      <td>76.0</td>\n      <td>1.0</td>\n      <td>76.0</td>\n      <td>-   Benign   -</td>\n    </tr>\n    <tr>\n      <th>...</th>\n      <td>...</td>\n      <td>...</td>\n      <td>...</td>\n      <td>...</td>\n      <td>...</td>\n      <td>...</td>\n      <td>...</td>\n      <td>...</td>\n      <td>...</td>\n      <td>...</td>\n      <td>...</td>\n      <td>...</td>\n      <td>...</td>\n      <td>...</td>\n      <td>...</td>\n      <td>...</td>\n      <td>...</td>\n      <td>...</td>\n      <td>...</td>\n      <td>...</td>\n      <td>...</td>\n    </tr>\n    <tr>\n      <th>199984</th>\n      <td>1545337106.283989</td>\n      <td>C63lwn4zx0ku17ztV3</td>\n      <td>192.168.1.197</td>\n      <td>43746.0</td>\n      <td>212.85.52.253</td>\n      <td>80.0</td>\n      <td>tcp</td>\n      <td>-</td>\n      <td>-</td>\n      <td>-</td>\n      <td>...</td>\n      <td>S0</td>\n      <td>-</td>\n      <td>-</td>\n      <td>0.0</td>\n      <td>S</td>\n      <td>1.0</td>\n      <td>40.0</td>\n      <td>0.0</td>\n      <td>0.0</td>\n      <td>-   Malicious   PartOfAHorizontalPortScan</td>\n    </tr>\n    <tr>\n      <th>199985</th>\n      <td>1545337106.283991</td>\n      <td>Cv2y3t47Q1msUVl99g</td>\n      <td>192.168.1.197</td>\n      <td>43746.0</td>\n      <td>212.95.16.29</td>\n      <td>8080.0</td>\n      <td>tcp</td>\n      <td>-</td>\n      <td>-</td>\n      <td>-</td>\n      <td>...</td>\n      <td>S0</td>\n      <td>-</td>\n      <td>-</td>\n      <td>0.0</td>\n      <td>S</td>\n      <td>1.0</td>\n      <td>40.0</td>\n      <td>0.0</td>\n      <td>0.0</td>\n      <td>-   Benign   -</td>\n    </tr>\n    <tr>\n      <th>199986</th>\n      <td>1545337106.284234</td>\n      <td>CTvAsQ1dXKnWpkkTxj</td>\n      <td>192.168.1.197</td>\n      <td>43746.0</td>\n      <td>204.139.200.65</td>\n      <td>80.0</td>\n      <td>tcp</td>\n      <td>-</td>\n      <td>-</td>\n      <td>-</td>\n      <td>...</td>\n      <td>S0</td>\n      <td>-</td>\n      <td>-</td>\n      <td>0.0</td>\n      <td>S</td>\n      <td>1.0</td>\n      <td>40.0</td>\n      <td>0.0</td>\n      <td>0.0</td>\n      <td>-   Malicious   PartOfAHorizontalPortScan</td>\n    </tr>\n    <tr>\n      <th>199987</th>\n      <td>1545337106.284239</td>\n      <td>CZOId9Tvhj8M7doRj</td>\n      <td>192.168.1.197</td>\n      <td>43746.0</td>\n      <td>212.144.77.155</td>\n      <td>80.0</td>\n      <td>tcp</td>\n      <td>-</td>\n      <td>-</td>\n      <td>-</td>\n      <td>...</td>\n      <td>S0</td>\n      <td>-</td>\n      <td>-</td>\n      <td>0.0</td>\n      <td>S</td>\n      <td>1.0</td>\n      <td>40.0</td>\n      <td>0.0</td>\n      <td>0.0</td>\n      <td>-   Malicious   PartOfAHorizontalPortScan</td>\n    </tr>\n    <tr>\n      <th>199988</th>\n      <td>1545337106.284240</td>\n      <td>COxkkpy1TQ6qjgdo3</td>\n      <td>192.168.1.197</td>\n      <td>43746.0</td>\n      <td>206.108.27.211</td>\n      <td>80.0</td>\n      <td>tcp</td>\n      <td>-</td>\n      <td>-</td>\n      <td>-</td>\n      <td>...</td>\n      <td>S0</td>\n      <td>-</td>\n      <td>-</td>\n      <td>0.0</td>\n      <td>S</td>\n      <td>1.0</td>\n      <td>40.0</td>\n      <td>0.0</td>\n      <td>0.0</td>\n      <td>-   Malicious   PartOfAHorizontalPortScan</td>\n    </tr>\n  </tbody>\n</table>\n<p>199989 rows × 21 columns</p>\n</div>"
     },
     "execution_count": 5,
     "metadata": {},
     "output_type": "execute_result"
    }
   ],
   "source": [
    "df33 = pd.read_table(filepath_or_buffer=capture_33, skiprows=10)\n",
    "df33.columns = ['ts',\n",
    "                'uid',\n",
    "                'id.orig_h',\n",
    "                'id.orig_p',\n",
    "                'id.resp_h',\n",
    "                'id.resp_p',\n",
    "                'proto',\n",
    "                'service',\n",
    "                'duration',\n",
    "                'orig_bytes',\n",
    "                'resp_bytes',\n",
    "                'conn_state',\n",
    "                'local_orig',\n",
    "                'local_resp',\n",
    "                'missed_bytes',\n",
    "                'history',\n",
    "                'orig_pkts',\n",
    "                'orig_ip_bytes',\n",
    "                'resp_pkts',\n",
    "                'resp_ip_bytes',\n",
    "                'label']\n",
    "df33.drop(df33.tail(1).index, inplace=True)\n",
    "df33"
   ],
   "metadata": {
    "collapsed": false,
    "pycharm": {
     "name": "#%%\n"
    }
   }
  },
  {
   "cell_type": "markdown",
   "source": [
    "## ToN iot"
   ],
   "metadata": {
    "collapsed": false
   }
  },
  {
   "cell_type": "code",
   "execution_count": 1,
   "outputs": [],
   "source": [
    "import pandas as pd\n",
    "from sklearn.model_selection import train_test_split\n",
    "\n",
    "filepath = \"/media/wuguo-buaa/LENOVO_USB_HDD/iot-data/ToN_iot/Train_Test_datasets/Train_Test_Network_dataset/Train_Test_Network.csv\"\n",
    "df = pd.read_csv(filepath)"
   ],
   "metadata": {
    "collapsed": false,
    "pycharm": {
     "name": "#%%\n"
    }
   }
  },
  {
   "cell_type": "code",
   "execution_count": 2,
   "outputs": [
    {
     "data": {
      "text/plain": "                ts         src_ip  src_port         dst_ip  dst_port proto  \\\n0       1554198358    3.122.49.24      1883  192.168.1.152     52976   tcp   \n1       1554198358   192.168.1.79     47260  192.168.1.255     15600   udp   \n2       1554198359  192.168.1.152      1880  192.168.1.152     51782   tcp   \n3       1554198359  192.168.1.152     34296  192.168.1.152     10502   tcp   \n4       1554198362  192.168.1.152     46608  192.168.1.190        53   udp   \n...            ...            ...       ...            ...       ...   ...   \n461038  1556340862   192.168.1.32     33108  176.28.50.165        80   tcp   \n461039  1556423390   192.168.1.33     37242  34.230.157.88       443   tcp   \n461040  1556436603   192.168.1.37      4444  192.168.1.193     49178   tcp   \n461041  1556540442   192.168.1.31     60816  104.98.29.100       443   tcp   \n461042  1556540442   192.168.1.31     41054  151.101.24.64       443   tcp   \n\n       service      duration  src_bytes  dst_bytes  ...  \\\n0            -  80549.530260    1762852   41933215  ...   \n1            -      0.000000          0          0  ...   \n2            -      0.000000          0          0  ...   \n3            -      0.000000          0          0  ...   \n4          dns      0.000549          0        298  ...   \n...        ...           ...        ...        ...  ...   \n461038       -      0.000000          0          0  ...   \n461039       -      0.000000          0          0  ...   \n461040       -    290.371539     101568       2592  ...   \n461041       -     23.190902         32         31  ...   \n461042       -     22.872314         32         31  ...   \n\n       http_response_body_len  http_status_code  http_user_agent  \\\n0                           0                 0                -   \n1                           0                 0                -   \n2                           0                 0                -   \n3                           0                 0                -   \n4                           0                 0                -   \n...                       ...               ...              ...   \n461038                      0                 0                -   \n461039                      0                 0                -   \n461040                      0                 0                -   \n461041                      0                 0                -   \n461042                      0                 0                -   \n\n        http_orig_mime_types  http_resp_mime_types        weird_name  \\\n0                          -                     -  bad_TCP_checksum   \n1                          -                     -                 -   \n2                          -                     -  bad_TCP_checksum   \n3                          -                     -                 -   \n4                          -                     -  bad_UDP_checksum   \n...                      ...                   ...               ...   \n461038                     -                     -                 -   \n461039                     -                     -                 -   \n461040                     -                     -                 -   \n461041                     -                     -                 -   \n461042                     -                     -                 -   \n\n       weird_addl  weird_notice  label        type  \n0               -             F      0      normal  \n1               -             -      0      normal  \n2               -             F      0      normal  \n3               -             -      0      normal  \n4               -             F      0      normal  \n...           ...           ...    ...         ...  \n461038          -             -      1         xss  \n461039          -             -      1  ransomware  \n461040          -             -      1    backdoor  \n461041          -             -      1        mitm  \n461042          -             -      1        mitm  \n\n[461043 rows x 45 columns]",
      "text/html": "<div>\n<style scoped>\n    .dataframe tbody tr th:only-of-type {\n        vertical-align: middle;\n    }\n\n    .dataframe tbody tr th {\n        vertical-align: top;\n    }\n\n    .dataframe thead th {\n        text-align: right;\n    }\n</style>\n<table border=\"1\" class=\"dataframe\">\n  <thead>\n    <tr style=\"text-align: right;\">\n      <th></th>\n      <th>ts</th>\n      <th>src_ip</th>\n      <th>src_port</th>\n      <th>dst_ip</th>\n      <th>dst_port</th>\n      <th>proto</th>\n      <th>service</th>\n      <th>duration</th>\n      <th>src_bytes</th>\n      <th>dst_bytes</th>\n      <th>...</th>\n      <th>http_response_body_len</th>\n      <th>http_status_code</th>\n      <th>http_user_agent</th>\n      <th>http_orig_mime_types</th>\n      <th>http_resp_mime_types</th>\n      <th>weird_name</th>\n      <th>weird_addl</th>\n      <th>weird_notice</th>\n      <th>label</th>\n      <th>type</th>\n    </tr>\n  </thead>\n  <tbody>\n    <tr>\n      <th>0</th>\n      <td>1554198358</td>\n      <td>3.122.49.24</td>\n      <td>1883</td>\n      <td>192.168.1.152</td>\n      <td>52976</td>\n      <td>tcp</td>\n      <td>-</td>\n      <td>80549.530260</td>\n      <td>1762852</td>\n      <td>41933215</td>\n      <td>...</td>\n      <td>0</td>\n      <td>0</td>\n      <td>-</td>\n      <td>-</td>\n      <td>-</td>\n      <td>bad_TCP_checksum</td>\n      <td>-</td>\n      <td>F</td>\n      <td>0</td>\n      <td>normal</td>\n    </tr>\n    <tr>\n      <th>1</th>\n      <td>1554198358</td>\n      <td>192.168.1.79</td>\n      <td>47260</td>\n      <td>192.168.1.255</td>\n      <td>15600</td>\n      <td>udp</td>\n      <td>-</td>\n      <td>0.000000</td>\n      <td>0</td>\n      <td>0</td>\n      <td>...</td>\n      <td>0</td>\n      <td>0</td>\n      <td>-</td>\n      <td>-</td>\n      <td>-</td>\n      <td>-</td>\n      <td>-</td>\n      <td>-</td>\n      <td>0</td>\n      <td>normal</td>\n    </tr>\n    <tr>\n      <th>2</th>\n      <td>1554198359</td>\n      <td>192.168.1.152</td>\n      <td>1880</td>\n      <td>192.168.1.152</td>\n      <td>51782</td>\n      <td>tcp</td>\n      <td>-</td>\n      <td>0.000000</td>\n      <td>0</td>\n      <td>0</td>\n      <td>...</td>\n      <td>0</td>\n      <td>0</td>\n      <td>-</td>\n      <td>-</td>\n      <td>-</td>\n      <td>bad_TCP_checksum</td>\n      <td>-</td>\n      <td>F</td>\n      <td>0</td>\n      <td>normal</td>\n    </tr>\n    <tr>\n      <th>3</th>\n      <td>1554198359</td>\n      <td>192.168.1.152</td>\n      <td>34296</td>\n      <td>192.168.1.152</td>\n      <td>10502</td>\n      <td>tcp</td>\n      <td>-</td>\n      <td>0.000000</td>\n      <td>0</td>\n      <td>0</td>\n      <td>...</td>\n      <td>0</td>\n      <td>0</td>\n      <td>-</td>\n      <td>-</td>\n      <td>-</td>\n      <td>-</td>\n      <td>-</td>\n      <td>-</td>\n      <td>0</td>\n      <td>normal</td>\n    </tr>\n    <tr>\n      <th>4</th>\n      <td>1554198362</td>\n      <td>192.168.1.152</td>\n      <td>46608</td>\n      <td>192.168.1.190</td>\n      <td>53</td>\n      <td>udp</td>\n      <td>dns</td>\n      <td>0.000549</td>\n      <td>0</td>\n      <td>298</td>\n      <td>...</td>\n      <td>0</td>\n      <td>0</td>\n      <td>-</td>\n      <td>-</td>\n      <td>-</td>\n      <td>bad_UDP_checksum</td>\n      <td>-</td>\n      <td>F</td>\n      <td>0</td>\n      <td>normal</td>\n    </tr>\n    <tr>\n      <th>...</th>\n      <td>...</td>\n      <td>...</td>\n      <td>...</td>\n      <td>...</td>\n      <td>...</td>\n      <td>...</td>\n      <td>...</td>\n      <td>...</td>\n      <td>...</td>\n      <td>...</td>\n      <td>...</td>\n      <td>...</td>\n      <td>...</td>\n      <td>...</td>\n      <td>...</td>\n      <td>...</td>\n      <td>...</td>\n      <td>...</td>\n      <td>...</td>\n      <td>...</td>\n      <td>...</td>\n    </tr>\n    <tr>\n      <th>461038</th>\n      <td>1556340862</td>\n      <td>192.168.1.32</td>\n      <td>33108</td>\n      <td>176.28.50.165</td>\n      <td>80</td>\n      <td>tcp</td>\n      <td>-</td>\n      <td>0.000000</td>\n      <td>0</td>\n      <td>0</td>\n      <td>...</td>\n      <td>0</td>\n      <td>0</td>\n      <td>-</td>\n      <td>-</td>\n      <td>-</td>\n      <td>-</td>\n      <td>-</td>\n      <td>-</td>\n      <td>1</td>\n      <td>xss</td>\n    </tr>\n    <tr>\n      <th>461039</th>\n      <td>1556423390</td>\n      <td>192.168.1.33</td>\n      <td>37242</td>\n      <td>34.230.157.88</td>\n      <td>443</td>\n      <td>tcp</td>\n      <td>-</td>\n      <td>0.000000</td>\n      <td>0</td>\n      <td>0</td>\n      <td>...</td>\n      <td>0</td>\n      <td>0</td>\n      <td>-</td>\n      <td>-</td>\n      <td>-</td>\n      <td>-</td>\n      <td>-</td>\n      <td>-</td>\n      <td>1</td>\n      <td>ransomware</td>\n    </tr>\n    <tr>\n      <th>461040</th>\n      <td>1556436603</td>\n      <td>192.168.1.37</td>\n      <td>4444</td>\n      <td>192.168.1.193</td>\n      <td>49178</td>\n      <td>tcp</td>\n      <td>-</td>\n      <td>290.371539</td>\n      <td>101568</td>\n      <td>2592</td>\n      <td>...</td>\n      <td>0</td>\n      <td>0</td>\n      <td>-</td>\n      <td>-</td>\n      <td>-</td>\n      <td>-</td>\n      <td>-</td>\n      <td>-</td>\n      <td>1</td>\n      <td>backdoor</td>\n    </tr>\n    <tr>\n      <th>461041</th>\n      <td>1556540442</td>\n      <td>192.168.1.31</td>\n      <td>60816</td>\n      <td>104.98.29.100</td>\n      <td>443</td>\n      <td>tcp</td>\n      <td>-</td>\n      <td>23.190902</td>\n      <td>32</td>\n      <td>31</td>\n      <td>...</td>\n      <td>0</td>\n      <td>0</td>\n      <td>-</td>\n      <td>-</td>\n      <td>-</td>\n      <td>-</td>\n      <td>-</td>\n      <td>-</td>\n      <td>1</td>\n      <td>mitm</td>\n    </tr>\n    <tr>\n      <th>461042</th>\n      <td>1556540442</td>\n      <td>192.168.1.31</td>\n      <td>41054</td>\n      <td>151.101.24.64</td>\n      <td>443</td>\n      <td>tcp</td>\n      <td>-</td>\n      <td>22.872314</td>\n      <td>32</td>\n      <td>31</td>\n      <td>...</td>\n      <td>0</td>\n      <td>0</td>\n      <td>-</td>\n      <td>-</td>\n      <td>-</td>\n      <td>-</td>\n      <td>-</td>\n      <td>-</td>\n      <td>1</td>\n      <td>mitm</td>\n    </tr>\n  </tbody>\n</table>\n<p>461043 rows × 45 columns</p>\n</div>"
     },
     "execution_count": 2,
     "metadata": {},
     "output_type": "execute_result"
    }
   ],
   "source": [
    "df"
   ],
   "metadata": {
    "collapsed": false,
    "pycharm": {
     "name": "#%%\n"
    }
   }
  },
  {
   "cell_type": "code",
   "execution_count": 17,
   "outputs": [
    {
     "name": "stdout",
     "output_type": "stream",
     "text": [
      "0      999749\n",
      "200       181\n",
      "206        58\n",
      "302         8\n",
      "304         3\n",
      "101         1\n",
      "Name: http_status_code, dtype: int64\n",
      "-                                                                                                                                    999765\n",
      "Microsoft-Delivery-Optimization/10.0                                                                                                     62\n",
      "Microsoft-Windows/10.0 UPnP/1.0                                                                                                          47\n",
      "DAFUPnP                                                                                                                                  27\n",
      "User-Agent: Microsoft-DLNA DLNADOC/1.50                                                                                                  24\n",
      "Windows-Update-Agent/10.0.10011.16384 Client-Protocol/1.91                                                                               21\n",
      "Microsoft-Windows/10.0 UPnP/1.0 Microsoft-DLNA DLNADOC/1.50                                                                              12\n",
      "Microsoft NCSI                                                                                                                           10\n",
      "MICROSOFT_DEVICE_METADATA_RETRIEVAL_CLIENT                                                                                                9\n",
      "Mozilla/5.0 (X11; Ubuntu; Linux x86_64; rv:66.0) Gecko/20100101 Firefox/66.0                                                              7\n",
      "Microsoft-CryptoAPI/10.0                                                                                                                  6\n",
      "Debian APT-HTTP/1.3 (1.7.4)                                                                                                               4\n",
      "Microsoft-WNS/10.0                                                                                                                        3\n",
      "Microsoft BITS/7.8                                                                                                                        2\n",
      "Mozilla/5.0 (Windows NT 10.0; Win64; x64) AppleWebKit/537.36 (KHTML; like Gecko) Chrome/64.0.3282.140 Safari/537.36 Edge/18.17763         1\n",
      "Name: http_user_agent, dtype: int64\n",
      "-       999765\n",
      "GET        217\n",
      "POST        17\n",
      "HEAD         1\n",
      "Name: http_method, dtype: int64\n",
      "-     999749\n",
      "1        204\n",
      "2         31\n",
      "10         2\n",
      "3          2\n",
      "4          2\n",
      "5          2\n",
      "6          2\n",
      "7          2\n",
      "8          2\n",
      "9          2\n",
      "Name: http_trans_depth, dtype: int64\n"
     ]
    }
   ],
   "source": [
    "print(df['http_status_code'].value_counts())\n",
    "print(df['http_user_agent'].value_counts())\n",
    "print(df['http_method'].value_counts())\n",
    "print(df['http_trans_depth'].value_counts())"
   ],
   "metadata": {
    "collapsed": false,
    "pycharm": {
     "name": "#%%\n"
    }
   }
  },
  {
   "cell_type": "code",
   "execution_count": 3,
   "outputs": [
    {
     "data": {
      "text/plain": "       proto service      duration  src_bytes  dst_bytes conn_state  \\\n0        tcp       -  80549.530260    1762852   41933215        OTH   \n1        udp       -      0.000000          0          0         S0   \n2        tcp       -      0.000000          0          0        OTH   \n3        tcp       -      0.000000          0          0        OTH   \n4        udp     dns      0.000549          0        298        SHR   \n...      ...     ...           ...        ...        ...        ...   \n461038   tcp       -      0.000000          0          0         S0   \n461039   tcp       -      0.000000          0          0        OTH   \n461040   tcp       -    290.371539     101568       2592        OTH   \n461041   tcp       -     23.190902         32         31         SF   \n461042   tcp       -     22.872314         32         31         SF   \n\n        missed_bytes  src_pkts  src_ip_bytes  dst_pkts  dst_ip_bytes  \\\n0                  0    252181      14911156         2           236   \n1                  0         1            63         0             0   \n2                  0         0             0         0             0   \n3                  0         0             0         0             0   \n4                  0         0             0         2           354   \n...              ...       ...           ...       ...           ...   \n461038             0         1            60         0             0   \n461039             0         0             0         1           103   \n461040             0       108        108064        31          3832   \n461041             0         8           411         7           395   \n461042             0         8           411         6           343   \n\n        dns_qclass  dns_qtype  dns_rcode dns_AA dns_RD dns_RA dns_rejected  \\\n0                0          0          0      -      -      -            -   \n1                0          0          0      -      -      -            -   \n2                0          0          0      -      -      -            -   \n3                0          0          0      -      -      -            -   \n4                0          0          0      -      -      -            -   \n...            ...        ...        ...    ...    ...    ...          ...   \n461038           0          0          0      -      -      -            -   \n461039           0          0          0      -      -      -            -   \n461040           0          0          0      -      -      -            -   \n461041           0          0          0      -      -      -            -   \n461042           0          0          0      -      -      -            -   \n\n       ssl_version ssl_cipher ssl_resumed ssl_established ssl_subject  \\\n0                -          -           -               -           -   \n1                -          -           -               -           -   \n2                -          -           -               -           -   \n3                -          -           -               -           -   \n4                -          -           -               -           -   \n...            ...        ...         ...             ...         ...   \n461038           -          -           -               -           -   \n461039           -          -           -               -           -   \n461040           -          -           -               -           -   \n461041           -          -           -               -           -   \n461042           -          -           -               -           -   \n\n       ssl_issuer http_trans_depth http_method http_version  \\\n0               -                -           -            -   \n1               -                -           -            -   \n2               -                -           -            -   \n3               -                -           -            -   \n4               -                -           -            -   \n...           ...              ...         ...          ...   \n461038          -                -           -            -   \n461039          -                -           -            -   \n461040          -                -           -            -   \n461041          -                -           -            -   \n461042          -                -           -            -   \n\n        http_request_body_len  http_response_body_len  http_status_code  \\\n0                           0                       0                 0   \n1                           0                       0                 0   \n2                           0                       0                 0   \n3                           0                       0                 0   \n4                           0                       0                 0   \n...                       ...                     ...               ...   \n461038                      0                       0                 0   \n461039                      0                       0                 0   \n461040                      0                       0                 0   \n461041                      0                       0                 0   \n461042                      0                       0                 0   \n\n       http_user_agent http_orig_mime_types http_resp_mime_types  \\\n0                    -                    -                    -   \n1                    -                    -                    -   \n2                    -                    -                    -   \n3                    -                    -                    -   \n4                    -                    -                    -   \n...                ...                  ...                  ...   \n461038               -                    -                    -   \n461039               -                    -                    -   \n461040               -                    -                    -   \n461041               -                    -                    -   \n461042               -                    -                    -   \n\n              weird_name weird_addl weird_notice  label        type  \n0       bad_TCP_checksum          -            F      0      normal  \n1                      -          -            -      0      normal  \n2       bad_TCP_checksum          -            F      0      normal  \n3                      -          -            -      0      normal  \n4       bad_UDP_checksum          -            F      0      normal  \n...                  ...        ...          ...    ...         ...  \n461038                 -          -            -      1         xss  \n461039                 -          -            -      1  ransomware  \n461040                 -          -            -      1    backdoor  \n461041                 -          -            -      1        mitm  \n461042                 -          -            -      1        mitm  \n\n[461043 rows x 38 columns]",
      "text/html": "<div>\n<style scoped>\n    .dataframe tbody tr th:only-of-type {\n        vertical-align: middle;\n    }\n\n    .dataframe tbody tr th {\n        vertical-align: top;\n    }\n\n    .dataframe thead th {\n        text-align: right;\n    }\n</style>\n<table border=\"1\" class=\"dataframe\">\n  <thead>\n    <tr style=\"text-align: right;\">\n      <th></th>\n      <th>proto</th>\n      <th>service</th>\n      <th>duration</th>\n      <th>src_bytes</th>\n      <th>dst_bytes</th>\n      <th>conn_state</th>\n      <th>missed_bytes</th>\n      <th>src_pkts</th>\n      <th>src_ip_bytes</th>\n      <th>dst_pkts</th>\n      <th>dst_ip_bytes</th>\n      <th>dns_qclass</th>\n      <th>dns_qtype</th>\n      <th>dns_rcode</th>\n      <th>dns_AA</th>\n      <th>dns_RD</th>\n      <th>dns_RA</th>\n      <th>dns_rejected</th>\n      <th>ssl_version</th>\n      <th>ssl_cipher</th>\n      <th>ssl_resumed</th>\n      <th>ssl_established</th>\n      <th>ssl_subject</th>\n      <th>ssl_issuer</th>\n      <th>http_trans_depth</th>\n      <th>http_method</th>\n      <th>http_version</th>\n      <th>http_request_body_len</th>\n      <th>http_response_body_len</th>\n      <th>http_status_code</th>\n      <th>http_user_agent</th>\n      <th>http_orig_mime_types</th>\n      <th>http_resp_mime_types</th>\n      <th>weird_name</th>\n      <th>weird_addl</th>\n      <th>weird_notice</th>\n      <th>label</th>\n      <th>type</th>\n    </tr>\n  </thead>\n  <tbody>\n    <tr>\n      <th>0</th>\n      <td>tcp</td>\n      <td>-</td>\n      <td>80549.530260</td>\n      <td>1762852</td>\n      <td>41933215</td>\n      <td>OTH</td>\n      <td>0</td>\n      <td>252181</td>\n      <td>14911156</td>\n      <td>2</td>\n      <td>236</td>\n      <td>0</td>\n      <td>0</td>\n      <td>0</td>\n      <td>-</td>\n      <td>-</td>\n      <td>-</td>\n      <td>-</td>\n      <td>-</td>\n      <td>-</td>\n      <td>-</td>\n      <td>-</td>\n      <td>-</td>\n      <td>-</td>\n      <td>-</td>\n      <td>-</td>\n      <td>-</td>\n      <td>0</td>\n      <td>0</td>\n      <td>0</td>\n      <td>-</td>\n      <td>-</td>\n      <td>-</td>\n      <td>bad_TCP_checksum</td>\n      <td>-</td>\n      <td>F</td>\n      <td>0</td>\n      <td>normal</td>\n    </tr>\n    <tr>\n      <th>1</th>\n      <td>udp</td>\n      <td>-</td>\n      <td>0.000000</td>\n      <td>0</td>\n      <td>0</td>\n      <td>S0</td>\n      <td>0</td>\n      <td>1</td>\n      <td>63</td>\n      <td>0</td>\n      <td>0</td>\n      <td>0</td>\n      <td>0</td>\n      <td>0</td>\n      <td>-</td>\n      <td>-</td>\n      <td>-</td>\n      <td>-</td>\n      <td>-</td>\n      <td>-</td>\n      <td>-</td>\n      <td>-</td>\n      <td>-</td>\n      <td>-</td>\n      <td>-</td>\n      <td>-</td>\n      <td>-</td>\n      <td>0</td>\n      <td>0</td>\n      <td>0</td>\n      <td>-</td>\n      <td>-</td>\n      <td>-</td>\n      <td>-</td>\n      <td>-</td>\n      <td>-</td>\n      <td>0</td>\n      <td>normal</td>\n    </tr>\n    <tr>\n      <th>2</th>\n      <td>tcp</td>\n      <td>-</td>\n      <td>0.000000</td>\n      <td>0</td>\n      <td>0</td>\n      <td>OTH</td>\n      <td>0</td>\n      <td>0</td>\n      <td>0</td>\n      <td>0</td>\n      <td>0</td>\n      <td>0</td>\n      <td>0</td>\n      <td>0</td>\n      <td>-</td>\n      <td>-</td>\n      <td>-</td>\n      <td>-</td>\n      <td>-</td>\n      <td>-</td>\n      <td>-</td>\n      <td>-</td>\n      <td>-</td>\n      <td>-</td>\n      <td>-</td>\n      <td>-</td>\n      <td>-</td>\n      <td>0</td>\n      <td>0</td>\n      <td>0</td>\n      <td>-</td>\n      <td>-</td>\n      <td>-</td>\n      <td>bad_TCP_checksum</td>\n      <td>-</td>\n      <td>F</td>\n      <td>0</td>\n      <td>normal</td>\n    </tr>\n    <tr>\n      <th>3</th>\n      <td>tcp</td>\n      <td>-</td>\n      <td>0.000000</td>\n      <td>0</td>\n      <td>0</td>\n      <td>OTH</td>\n      <td>0</td>\n      <td>0</td>\n      <td>0</td>\n      <td>0</td>\n      <td>0</td>\n      <td>0</td>\n      <td>0</td>\n      <td>0</td>\n      <td>-</td>\n      <td>-</td>\n      <td>-</td>\n      <td>-</td>\n      <td>-</td>\n      <td>-</td>\n      <td>-</td>\n      <td>-</td>\n      <td>-</td>\n      <td>-</td>\n      <td>-</td>\n      <td>-</td>\n      <td>-</td>\n      <td>0</td>\n      <td>0</td>\n      <td>0</td>\n      <td>-</td>\n      <td>-</td>\n      <td>-</td>\n      <td>-</td>\n      <td>-</td>\n      <td>-</td>\n      <td>0</td>\n      <td>normal</td>\n    </tr>\n    <tr>\n      <th>4</th>\n      <td>udp</td>\n      <td>dns</td>\n      <td>0.000549</td>\n      <td>0</td>\n      <td>298</td>\n      <td>SHR</td>\n      <td>0</td>\n      <td>0</td>\n      <td>0</td>\n      <td>2</td>\n      <td>354</td>\n      <td>0</td>\n      <td>0</td>\n      <td>0</td>\n      <td>-</td>\n      <td>-</td>\n      <td>-</td>\n      <td>-</td>\n      <td>-</td>\n      <td>-</td>\n      <td>-</td>\n      <td>-</td>\n      <td>-</td>\n      <td>-</td>\n      <td>-</td>\n      <td>-</td>\n      <td>-</td>\n      <td>0</td>\n      <td>0</td>\n      <td>0</td>\n      <td>-</td>\n      <td>-</td>\n      <td>-</td>\n      <td>bad_UDP_checksum</td>\n      <td>-</td>\n      <td>F</td>\n      <td>0</td>\n      <td>normal</td>\n    </tr>\n    <tr>\n      <th>...</th>\n      <td>...</td>\n      <td>...</td>\n      <td>...</td>\n      <td>...</td>\n      <td>...</td>\n      <td>...</td>\n      <td>...</td>\n      <td>...</td>\n      <td>...</td>\n      <td>...</td>\n      <td>...</td>\n      <td>...</td>\n      <td>...</td>\n      <td>...</td>\n      <td>...</td>\n      <td>...</td>\n      <td>...</td>\n      <td>...</td>\n      <td>...</td>\n      <td>...</td>\n      <td>...</td>\n      <td>...</td>\n      <td>...</td>\n      <td>...</td>\n      <td>...</td>\n      <td>...</td>\n      <td>...</td>\n      <td>...</td>\n      <td>...</td>\n      <td>...</td>\n      <td>...</td>\n      <td>...</td>\n      <td>...</td>\n      <td>...</td>\n      <td>...</td>\n      <td>...</td>\n      <td>...</td>\n      <td>...</td>\n    </tr>\n    <tr>\n      <th>461038</th>\n      <td>tcp</td>\n      <td>-</td>\n      <td>0.000000</td>\n      <td>0</td>\n      <td>0</td>\n      <td>S0</td>\n      <td>0</td>\n      <td>1</td>\n      <td>60</td>\n      <td>0</td>\n      <td>0</td>\n      <td>0</td>\n      <td>0</td>\n      <td>0</td>\n      <td>-</td>\n      <td>-</td>\n      <td>-</td>\n      <td>-</td>\n      <td>-</td>\n      <td>-</td>\n      <td>-</td>\n      <td>-</td>\n      <td>-</td>\n      <td>-</td>\n      <td>-</td>\n      <td>-</td>\n      <td>-</td>\n      <td>0</td>\n      <td>0</td>\n      <td>0</td>\n      <td>-</td>\n      <td>-</td>\n      <td>-</td>\n      <td>-</td>\n      <td>-</td>\n      <td>-</td>\n      <td>1</td>\n      <td>xss</td>\n    </tr>\n    <tr>\n      <th>461039</th>\n      <td>tcp</td>\n      <td>-</td>\n      <td>0.000000</td>\n      <td>0</td>\n      <td>0</td>\n      <td>OTH</td>\n      <td>0</td>\n      <td>0</td>\n      <td>0</td>\n      <td>1</td>\n      <td>103</td>\n      <td>0</td>\n      <td>0</td>\n      <td>0</td>\n      <td>-</td>\n      <td>-</td>\n      <td>-</td>\n      <td>-</td>\n      <td>-</td>\n      <td>-</td>\n      <td>-</td>\n      <td>-</td>\n      <td>-</td>\n      <td>-</td>\n      <td>-</td>\n      <td>-</td>\n      <td>-</td>\n      <td>0</td>\n      <td>0</td>\n      <td>0</td>\n      <td>-</td>\n      <td>-</td>\n      <td>-</td>\n      <td>-</td>\n      <td>-</td>\n      <td>-</td>\n      <td>1</td>\n      <td>ransomware</td>\n    </tr>\n    <tr>\n      <th>461040</th>\n      <td>tcp</td>\n      <td>-</td>\n      <td>290.371539</td>\n      <td>101568</td>\n      <td>2592</td>\n      <td>OTH</td>\n      <td>0</td>\n      <td>108</td>\n      <td>108064</td>\n      <td>31</td>\n      <td>3832</td>\n      <td>0</td>\n      <td>0</td>\n      <td>0</td>\n      <td>-</td>\n      <td>-</td>\n      <td>-</td>\n      <td>-</td>\n      <td>-</td>\n      <td>-</td>\n      <td>-</td>\n      <td>-</td>\n      <td>-</td>\n      <td>-</td>\n      <td>-</td>\n      <td>-</td>\n      <td>-</td>\n      <td>0</td>\n      <td>0</td>\n      <td>0</td>\n      <td>-</td>\n      <td>-</td>\n      <td>-</td>\n      <td>-</td>\n      <td>-</td>\n      <td>-</td>\n      <td>1</td>\n      <td>backdoor</td>\n    </tr>\n    <tr>\n      <th>461041</th>\n      <td>tcp</td>\n      <td>-</td>\n      <td>23.190902</td>\n      <td>32</td>\n      <td>31</td>\n      <td>SF</td>\n      <td>0</td>\n      <td>8</td>\n      <td>411</td>\n      <td>7</td>\n      <td>395</td>\n      <td>0</td>\n      <td>0</td>\n      <td>0</td>\n      <td>-</td>\n      <td>-</td>\n      <td>-</td>\n      <td>-</td>\n      <td>-</td>\n      <td>-</td>\n      <td>-</td>\n      <td>-</td>\n      <td>-</td>\n      <td>-</td>\n      <td>-</td>\n      <td>-</td>\n      <td>-</td>\n      <td>0</td>\n      <td>0</td>\n      <td>0</td>\n      <td>-</td>\n      <td>-</td>\n      <td>-</td>\n      <td>-</td>\n      <td>-</td>\n      <td>-</td>\n      <td>1</td>\n      <td>mitm</td>\n    </tr>\n    <tr>\n      <th>461042</th>\n      <td>tcp</td>\n      <td>-</td>\n      <td>22.872314</td>\n      <td>32</td>\n      <td>31</td>\n      <td>SF</td>\n      <td>0</td>\n      <td>8</td>\n      <td>411</td>\n      <td>6</td>\n      <td>343</td>\n      <td>0</td>\n      <td>0</td>\n      <td>0</td>\n      <td>-</td>\n      <td>-</td>\n      <td>-</td>\n      <td>-</td>\n      <td>-</td>\n      <td>-</td>\n      <td>-</td>\n      <td>-</td>\n      <td>-</td>\n      <td>-</td>\n      <td>-</td>\n      <td>-</td>\n      <td>-</td>\n      <td>0</td>\n      <td>0</td>\n      <td>0</td>\n      <td>-</td>\n      <td>-</td>\n      <td>-</td>\n      <td>-</td>\n      <td>-</td>\n      <td>-</td>\n      <td>1</td>\n      <td>mitm</td>\n    </tr>\n  </tbody>\n</table>\n<p>461043 rows × 38 columns</p>\n</div>"
     },
     "execution_count": 3,
     "metadata": {},
     "output_type": "execute_result"
    }
   ],
   "source": [
    "pd.options.display.max_rows = 300\n",
    "pd.options.display.max_columns = 300\n",
    "df = df.drop(columns=['ts', 'src_ip', 'src_port', 'dst_ip', 'dst_port', 'dns_query','http_uri'])\n",
    "df"
   ],
   "metadata": {
    "collapsed": false,
    "pycharm": {
     "name": "#%%\n"
    }
   }
  },
  {
   "cell_type": "code",
   "execution_count": 4,
   "outputs": [],
   "source": [
    "df = pd.get_dummies(df, columns=['proto'])\n",
    "df = pd.get_dummies(df, columns=['service'])\n",
    "df = pd.get_dummies(df, columns=['conn_state'])\n",
    "df = pd.get_dummies(df, columns=['dns_qclass'])\n",
    "df = pd.get_dummies(df, columns=['dns_qtype'])\n",
    "df = pd.get_dummies(df, columns=['dns_rcode'])\n",
    "df = pd.get_dummies(df, columns=['dns_AA'])\n",
    "df = pd.get_dummies(df, columns=['dns_RD'])\n",
    "df = pd.get_dummies(df, columns=['dns_RA'])\n",
    "df = pd.get_dummies(df, columns=['dns_rejected'])\n",
    "df = pd.get_dummies(df, columns=['ssl_version'])\n",
    "df = pd.get_dummies(df, columns=['ssl_cipher'])\n",
    "df = pd.get_dummies(df, columns=['ssl_resumed'])\n",
    "df = pd.get_dummies(df, columns=['ssl_established'])\n",
    "df = pd.get_dummies(df, columns=['ssl_subject'])\n",
    "df = pd.get_dummies(df, columns=['ssl_issuer'])\n",
    "df = pd.get_dummies(df, columns=['http_trans_depth'])\n",
    "df = pd.get_dummies(df, columns=['http_method'])"
   ],
   "metadata": {
    "collapsed": false,
    "pycharm": {
     "name": "#%%\n"
    }
   }
  },
  {
   "cell_type": "code",
   "execution_count": 5,
   "outputs": [],
   "source": [
    "df = pd.get_dummies(df, columns=['http_version'])\n",
    "df = pd.get_dummies(df, columns=['http_status_code'])\n",
    "df = pd.get_dummies(df, columns=['http_user_agent'])\n",
    "df = pd.get_dummies(df, columns=['http_orig_mime_types'])\n",
    "df = pd.get_dummies(df, columns=['http_resp_mime_types'])\n",
    "df = pd.get_dummies(df, columns=['weird_name'])\n",
    "df = pd.get_dummies(df, columns=['weird_addl'])\n",
    "df = pd.get_dummies(df, columns=['weird_notice'])"
   ],
   "metadata": {
    "collapsed": false,
    "pycharm": {
     "name": "#%%\n"
    }
   }
  },
  {
   "cell_type": "code",
   "execution_count": 6,
   "outputs": [
    {
     "data": {
      "text/plain": "            duration  src_bytes  dst_bytes  missed_bytes  src_pkts  \\\n0       80549.530260    1762852   41933215             0    252181   \n1           0.000000          0          0             0         1   \n2           0.000000          0          0             0         0   \n3           0.000000          0          0             0         0   \n4           0.000549          0        298             0         0   \n...              ...        ...        ...           ...       ...   \n461038      0.000000          0          0             0         1   \n461039      0.000000          0          0             0         0   \n461040    290.371539     101568       2592             0       108   \n461041     23.190902         32         31             0         8   \n461042     22.872314         32         31             0         8   \n\n        src_ip_bytes  dst_pkts  dst_ip_bytes  http_request_body_len  \\\n0           14911156         2           236                      0   \n1                 63         0             0                      0   \n2                  0         0             0                      0   \n3                  0         0             0                      0   \n4                  0         2           354                      0   \n...              ...       ...           ...                    ...   \n461038            60         0             0                      0   \n461039             0         1           103                      0   \n461040        108064        31          3832                      0   \n461041           411         7           395                      0   \n461042           411         6           343                      0   \n\n        http_response_body_len  label        type  proto_icmp  proto_tcp  \\\n0                            0      0      normal           0          1   \n1                            0      0      normal           0          0   \n2                            0      0      normal           0          1   \n3                            0      0      normal           0          1   \n4                            0      0      normal           0          0   \n...                        ...    ...         ...         ...        ...   \n461038                       0      1         xss           0          1   \n461039                       0      1  ransomware           0          1   \n461040                       0      1    backdoor           0          1   \n461041                       0      1        mitm           0          1   \n461042                       0      1        mitm           0          1   \n\n        proto_udp  service_-  service_dce_rpc  service_dhcp  service_dns  \\\n0               0          1                0             0            0   \n1               1          1                0             0            0   \n2               0          1                0             0            0   \n3               0          1                0             0            0   \n4               1          0                0             0            1   \n...           ...        ...              ...           ...          ...   \n461038          0          1                0             0            0   \n461039          0          1                0             0            0   \n461040          0          1                0             0            0   \n461041          0          1                0             0            0   \n461042          0          1                0             0            0   \n\n        service_ftp  service_gssapi  service_http  service_smb  \\\n0                 0               0             0            0   \n1                 0               0             0            0   \n2                 0               0             0            0   \n3                 0               0             0            0   \n4                 0               0             0            0   \n...             ...             ...           ...          ...   \n461038            0               0             0            0   \n461039            0               0             0            0   \n461040            0               0             0            0   \n461041            0               0             0            0   \n461042            0               0             0            0   \n\n        service_smb;gssapi  service_ssl  conn_state_OTH  conn_state_REJ  \\\n0                        0            0               1               0   \n1                        0            0               0               0   \n2                        0            0               1               0   \n3                        0            0               1               0   \n4                        0            0               0               0   \n...                    ...          ...             ...             ...   \n461038                   0            0               0               0   \n461039                   0            0               1               0   \n461040                   0            0               1               0   \n461041                   0            0               0               0   \n461042                   0            0               0               0   \n\n        conn_state_RSTO  conn_state_RSTOS0  conn_state_RSTR  conn_state_RSTRH  \\\n0                     0                  0                0                 0   \n1                     0                  0                0                 0   \n2                     0                  0                0                 0   \n3                     0                  0                0                 0   \n4                     0                  0                0                 0   \n...                 ...                ...              ...               ...   \n461038                0                  0                0                 0   \n461039                0                  0                0                 0   \n461040                0                  0                0                 0   \n461041                0                  0                0                 0   \n461042                0                  0                0                 0   \n\n        conn_state_S0  conn_state_S1  conn_state_S2  conn_state_S3  \\\n0                   0              0              0              0   \n1                   1              0              0              0   \n2                   0              0              0              0   \n3                   0              0              0              0   \n4                   0              0              0              0   \n...               ...            ...            ...            ...   \n461038              1              0              0              0   \n461039              0              0              0              0   \n461040              0              0              0              0   \n461041              0              0              0              0   \n461042              0              0              0              0   \n\n        conn_state_SF  conn_state_SH  conn_state_SHR  dns_qclass_0  \\\n0                   0              0               0             1   \n1                   0              0               0             1   \n2                   0              0               0             1   \n3                   0              0               0             1   \n4                   0              0               1             1   \n...               ...            ...             ...           ...   \n461038              0              0               0             1   \n461039              0              0               0             1   \n461040              0              0               0             1   \n461041              1              0               0             1   \n461042              1              0               0             1   \n\n        dns_qclass_1  dns_qclass_32769  dns_qtype_0  dns_qtype_1  dns_qtype_2  \\\n0                  0                 0            1            0            0   \n1                  0                 0            1            0            0   \n2                  0                 0            1            0            0   \n3                  0                 0            1            0            0   \n4                  0                 0            1            0            0   \n...              ...               ...          ...          ...          ...   \n461038             0                 0            1            0            0   \n461039             0                 0            1            0            0   \n461040             0                 0            1            0            0   \n461041             0                 0            1            0            0   \n461042             0                 0            1            0            0   \n\n        dns_qtype_6  dns_qtype_12  dns_qtype_16  dns_qtype_28  dns_qtype_32  \\\n0                 0             0             0             0             0   \n1                 0             0             0             0             0   \n2                 0             0             0             0             0   \n3                 0             0             0             0             0   \n4                 0             0             0             0             0   \n...             ...           ...           ...           ...           ...   \n461038            0             0             0             0             0   \n461039            0             0             0             0             0   \n461040            0             0             0             0             0   \n461041            0             0             0             0             0   \n461042            0             0             0             0             0   \n\n        dns_qtype_33  dns_qtype_43  dns_qtype_48  dns_qtype_255  dns_rcode_0  \\\n0                  0             0             0              0            1   \n1                  0             0             0              0            1   \n2                  0             0             0              0            1   \n3                  0             0             0              0            1   \n4                  0             0             0              0            1   \n...              ...           ...           ...            ...          ...   \n461038             0             0             0              0            1   \n461039             0             0             0              0            1   \n461040             0             0             0              0            1   \n461041             0             0             0              0            1   \n461042             0             0             0              0            1   \n\n        dns_rcode_1  dns_rcode_2  dns_rcode_3  dns_rcode_5  dns_AA_-  \\\n0                 0            0            0            0         1   \n1                 0            0            0            0         1   \n2                 0            0            0            0         1   \n3                 0            0            0            0         1   \n4                 0            0            0            0         1   \n...             ...          ...          ...          ...       ...   \n461038            0            0            0            0         1   \n461039            0            0            0            0         1   \n461040            0            0            0            0         1   \n461041            0            0            0            0         1   \n461042            0            0            0            0         1   \n\n        dns_AA_F  dns_AA_T  dns_RD_-  dns_RD_F  dns_RD_T  dns_RA_-  dns_RA_F  \\\n0              0         0         1         0         0         1         0   \n1              0         0         1         0         0         1         0   \n2              0         0         1         0         0         1         0   \n3              0         0         1         0         0         1         0   \n4              0         0         1         0         0         1         0   \n...          ...       ...       ...       ...       ...       ...       ...   \n461038         0         0         1         0         0         1         0   \n461039         0         0         1         0         0         1         0   \n461040         0         0         1         0         0         1         0   \n461041         0         0         1         0         0         1         0   \n461042         0         0         1         0         0         1         0   \n\n        dns_RA_T  dns_rejected_-  dns_rejected_F  dns_rejected_T  \\\n0              0               1               0               0   \n1              0               1               0               0   \n2              0               1               0               0   \n3              0               1               0               0   \n4              0               1               0               0   \n...          ...             ...             ...             ...   \n461038         0               1               0               0   \n461039         0               1               0               0   \n461040         0               1               0               0   \n461041         0               1               0               0   \n461042         0               1               0               0   \n\n        ssl_version_-  ssl_version_TLSv10  ssl_version_TLSv12  \\\n0                   1                   0                   0   \n1                   1                   0                   0   \n2                   1                   0                   0   \n3                   1                   0                   0   \n4                   1                   0                   0   \n...               ...                 ...                 ...   \n461038              1                   0                   0   \n461039              1                   0                   0   \n461040              1                   0                   0   \n461041              1                   0                   0   \n461042              1                   0                   0   \n\n        ssl_version_TLSv13  ssl_cipher_-  ssl_cipher_TLS_AES_128_GCM_SHA256  \\\n0                        0             1                                  0   \n1                        0             1                                  0   \n2                        0             1                                  0   \n3                        0             1                                  0   \n4                        0             1                                  0   \n...                    ...           ...                                ...   \n461038                   0             1                                  0   \n461039                   0             1                                  0   \n461040                   0             1                                  0   \n461041                   0             1                                  0   \n461042                   0             1                                  0   \n\n        ssl_cipher_TLS_ECDHE_ECDSA_WITH_AES_128_GCM_SHA256  \\\n0                                                       0    \n1                                                       0    \n2                                                       0    \n3                                                       0    \n4                                                       0    \n...                                                   ...    \n461038                                                  0    \n461039                                                  0    \n461040                                                  0    \n461041                                                  0    \n461042                                                  0    \n\n        ssl_cipher_TLS_ECDHE_RSA_WITH_AES_128_GCM_SHA256  \\\n0                                                      0   \n1                                                      0   \n2                                                      0   \n3                                                      0   \n4                                                      0   \n...                                                  ...   \n461038                                                 0   \n461039                                                 0   \n461040                                                 0   \n461041                                                 0   \n461042                                                 0   \n\n        ssl_cipher_TLS_ECDHE_RSA_WITH_AES_256_CBC_SHA  \\\n0                                                   0   \n1                                                   0   \n2                                                   0   \n3                                                   0   \n4                                                   0   \n...                                               ...   \n461038                                              0   \n461039                                              0   \n461040                                              0   \n461041                                              0   \n461042                                              0   \n\n        ssl_cipher_TLS_ECDHE_RSA_WITH_AES_256_GCM_SHA384  ssl_resumed_-  \\\n0                                                      0              1   \n1                                                      0              1   \n2                                                      0              1   \n3                                                      0              1   \n4                                                      0              1   \n...                                                  ...            ...   \n461038                                                 0              1   \n461039                                                 0              1   \n461040                                                 0              1   \n461041                                                 0              1   \n461042                                                 0              1   \n\n        ssl_resumed_F  ssl_resumed_T  ssl_established_-  ssl_established_F  \\\n0                   0              0                  1                  0   \n1                   0              0                  1                  0   \n2                   0              0                  1                  0   \n3                   0              0                  1                  0   \n4                   0              0                  1                  0   \n...               ...            ...                ...                ...   \n461038              0              0                  1                  0   \n461039              0              0                  1                  0   \n461040              0              0                  1                  0   \n461041              0              0                  1                  0   \n461042              0              0                  1                  0   \n\n        ssl_established_T  ssl_subject_-  \\\n0                       0              1   \n1                       0              1   \n2                       0              1   \n3                       0              1   \n4                       0              1   \n...                   ...            ...   \n461038                  0              1   \n461039                  0              1   \n461040                  0              1   \n461041                  0              1   \n461042                  0              1   \n\n        ssl_subject_CN=*.events.data.microsoft.com;OU=Microsoft;O=Microsoft Corporation;L=Redmond;ST=WA;C=US  \\\n0                                                       0                                                      \n1                                                       0                                                      \n2                                                       0                                                      \n3                                                       0                                                      \n4                                                       0                                                      \n...                                                   ...                                                      \n461038                                                  0                                                      \n461039                                                  0                                                      \n461040                                                  0                                                      \n461041                                                  0                                                      \n461042                                                  0                                                      \n\n        ssl_subject_CN=*.wns.windows.com  \\\n0                                      0   \n1                                      0   \n2                                      0   \n3                                      0   \n4                                      0   \n...                                  ...   \n461038                                 0   \n461039                                 0   \n461040                                 0   \n461041                                 0   \n461042                                 0   \n\n        ssl_subject_CN=Mr Shepherd;OU=Security Shepherd Project;O=OWASP;L=Dublin;ST=Ireland;C=IE  \\\n0                                                       0                                          \n1                                                       0                                          \n2                                                       0                                          \n3                                                       0                                          \n4                                                       0                                          \n...                                                   ...                                          \n461038                                                  0                                          \n461039                                                  0                                          \n461040                                                  0                                          \n461041                                                  0                                          \n461042                                                  0                                          \n\n        ssl_subject_CN=settings-win.data.microsoft.com;OU=WSE;O=Microsoft;L=Redmond;ST=WA;C=US  \\\n0                                                       0                                        \n1                                                       0                                        \n2                                                       0                                        \n3                                                       0                                        \n4                                                       0                                        \n...                                                   ...                                        \n461038                                                  0                                        \n461039                                                  0                                        \n461040                                                  0                                        \n461041                                                  0                                        \n461042                                                  0                                        \n\n        ssl_subject_CN=sls.update.microsoft.com;OU=DSP;O=Microsoft;L=Redmond;ST=WA;C=US  \\\n0                                                       0                                 \n1                                                       0                                 \n2                                                       0                                 \n3                                                       0                                 \n4                                                       0                                 \n...                                                   ...                                 \n461038                                                  0                                 \n461039                                                  0                                 \n461040                                                  0                                 \n461041                                                  0                                 \n461042                                                  0                                 \n\n        ssl_issuer_-  \\\n0                  1   \n1                  1   \n2                  1   \n3                  1   \n4                  1   \n...              ...   \n461038             1   \n461039             1   \n461040             1   \n461041             1   \n461042             1   \n\n        ssl_issuer_CN=Microsoft IT TLS CA 5;OU=Microsoft IT;O=Microsoft Corporation;L=Redmond;ST=Washington;C=US  \\\n0                                                       0                                                          \n1                                                       0                                                          \n2                                                       0                                                          \n3                                                       0                                                          \n4                                                       0                                                          \n...                                                   ...                                                          \n461038                                                  0                                                          \n461039                                                  0                                                          \n461040                                                  0                                                          \n461041                                                  0                                                          \n461042                                                  0                                                          \n\n        ssl_issuer_CN=Microsoft Secure Server CA 2011;O=Microsoft Corporation;L=Redmond;ST=Washington;C=US  \\\n0                                                       0                                                    \n1                                                       0                                                    \n2                                                       0                                                    \n3                                                       0                                                    \n4                                                       0                                                    \n...                                                   ...                                                    \n461038                                                  0                                                    \n461039                                                  0                                                    \n461040                                                  0                                                    \n461041                                                  0                                                    \n461042                                                  0                                                    \n\n        ssl_issuer_CN=Microsoft Update Secure Server CA 2.1;O=Microsoft Corporation;L=Redmond;ST=Washington;C=US  \\\n0                                                       0                                                          \n1                                                       0                                                          \n2                                                       0                                                          \n3                                                       0                                                          \n4                                                       0                                                          \n...                                                   ...                                                          \n461038                                                  0                                                          \n461039                                                  0                                                          \n461040                                                  0                                                          \n461041                                                  0                                                          \n461042                                                  0                                                          \n\n        ssl_issuer_CN=Mr Shepherd;OU=Security Shepherd Project;O=OWASP;L=Dublin;ST=Ireland;C=IE  \\\n0                                                       0                                         \n1                                                       0                                         \n2                                                       0                                         \n3                                                       0                                         \n4                                                       0                                         \n...                                                   ...                                         \n461038                                                  0                                         \n461039                                                  0                                         \n461040                                                  0                                         \n461041                                                  0                                         \n461042                                                  0                                         \n\n        http_trans_depth_-  http_trans_depth_1  http_trans_depth_10  \\\n0                        1                   0                    0   \n1                        1                   0                    0   \n2                        1                   0                    0   \n3                        1                   0                    0   \n4                        1                   0                    0   \n...                    ...                 ...                  ...   \n461038                   1                   0                    0   \n461039                   1                   0                    0   \n461040                   1                   0                    0   \n461041                   1                   0                    0   \n461042                   1                   0                    0   \n\n        http_trans_depth_2  http_trans_depth_3  http_trans_depth_4  \\\n0                        0                   0                   0   \n1                        0                   0                   0   \n2                        0                   0                   0   \n3                        0                   0                   0   \n4                        0                   0                   0   \n...                    ...                 ...                 ...   \n461038                   0                   0                   0   \n461039                   0                   0                   0   \n461040                   0                   0                   0   \n461041                   0                   0                   0   \n461042                   0                   0                   0   \n\n        http_trans_depth_5  http_trans_depth_6  http_trans_depth_7  \\\n0                        0                   0                   0   \n1                        0                   0                   0   \n2                        0                   0                   0   \n3                        0                   0                   0   \n4                        0                   0                   0   \n...                    ...                 ...                 ...   \n461038                   0                   0                   0   \n461039                   0                   0                   0   \n461040                   0                   0                   0   \n461041                   0                   0                   0   \n461042                   0                   0                   0   \n\n        http_trans_depth_8  http_trans_depth_9  http_method_-  \\\n0                        0                   0              1   \n1                        0                   0              1   \n2                        0                   0              1   \n3                        0                   0              1   \n4                        0                   0              1   \n...                    ...                 ...            ...   \n461038                   0                   0              1   \n461039                   0                   0              1   \n461040                   0                   0              1   \n461041                   0                   0              1   \n461042                   0                   0              1   \n\n        http_method_GET  http_method_HEAD  http_method_POST  http_version_-  \\\n0                     0                 0                 0               1   \n1                     0                 0                 0               1   \n2                     0                 0                 0               1   \n3                     0                 0                 0               1   \n4                     0                 0                 0               1   \n...                 ...               ...               ...             ...   \n461038                0                 0                 0               1   \n461039                0                 0                 0               1   \n461040                0                 0                 0               1   \n461041                0                 0                 0               1   \n461042                0                 0                 0               1   \n\n        http_version_1.1  http_status_code_0  http_status_code_101  \\\n0                      0                   1                     0   \n1                      0                   1                     0   \n2                      0                   1                     0   \n3                      0                   1                     0   \n4                      0                   1                     0   \n...                  ...                 ...                   ...   \n461038                 0                   1                     0   \n461039                 0                   1                     0   \n461040                 0                   1                     0   \n461041                 0                   1                     0   \n461042                 0                   1                     0   \n\n        http_status_code_200  http_status_code_206  http_status_code_302  \\\n0                          0                     0                     0   \n1                          0                     0                     0   \n2                          0                     0                     0   \n3                          0                     0                     0   \n4                          0                     0                     0   \n...                      ...                   ...                   ...   \n461038                     0                     0                     0   \n461039                     0                     0                     0   \n461040                     0                     0                     0   \n461041                     0                     0                     0   \n461042                     0                     0                     0   \n\n        http_status_code_304  http_status_code_403  http_status_code_404  \\\n0                          0                     0                     0   \n1                          0                     0                     0   \n2                          0                     0                     0   \n3                          0                     0                     0   \n4                          0                     0                     0   \n...                      ...                   ...                   ...   \n461038                     0                     0                     0   \n461039                     0                     0                     0   \n461040                     0                     0                     0   \n461041                     0                     0                     0   \n461042                     0                     0                     0   \n\n        http_user_agent_-  http_user_agent_Comos/0.9_(robot@xyleme.com)  \\\n0                       1                                             0   \n1                       1                                             0   \n2                       1                                             0   \n3                       1                                             0   \n4                       1                                             0   \n...                   ...                                           ...   \n461038                  1                                             0   \n461039                  1                                             0   \n461040                  1                                             0   \n461041                  1                                             0   \n461042                  1                                             0   \n\n        http_user_agent_DAFUPnP  http_user_agent_DataCha0s/2.0  \\\n0                             0                              0   \n1                             0                              0   \n2                             0                              0   \n3                             0                              0   \n4                             0                              0   \n...                         ...                            ...   \n461038                        0                              0   \n461039                        0                              0   \n461040                        0                              0   \n461041                        0                              0   \n461042                        0                              0   \n\n        http_user_agent_Debian APT-HTTP/1.3 (1.6.6)  \\\n0                                                 0   \n1                                                 0   \n2                                                 0   \n3                                                 0   \n4                                                 0   \n...                                             ...   \n461038                                            0   \n461039                                            0   \n461040                                            0   \n461041                                            0   \n461042                                            0   \n\n        http_user_agent_Debian APT-HTTP/1.3 (1.7.4)  \\\n0                                                 0   \n1                                                 0   \n2                                                 0   \n3                                                 0   \n4                                                 0   \n...                                             ...   \n461038                                            0   \n461039                                            0   \n461040                                            0   \n461041                                            0   \n461042                                            0   \n\n        http_user_agent_DonutP; Windows98SE  \\\n0                                         0   \n1                                         0   \n2                                         0   \n3                                         0   \n4                                         0   \n...                                     ...   \n461038                                    0   \n461039                                    0   \n461040                                    0   \n461041                                    0   \n461042                                    0   \n\n        http_user_agent_MICROSOFT_DEVICE_METADATA_RETRIEVAL_CLIENT  \\\n0                                                       0            \n1                                                       0            \n2                                                       0            \n3                                                       0            \n4                                                       0            \n...                                                   ...            \n461038                                                  0            \n461039                                                  0            \n461040                                                  0            \n461041                                                  0            \n461042                                                  0            \n\n        http_user_agent_Microsoft BITS/7.8  http_user_agent_Microsoft NCSI  \\\n0                                        0                               0   \n1                                        0                               0   \n2                                        0                               0   \n3                                        0                               0   \n4                                        0                               0   \n...                                    ...                             ...   \n461038                                   0                               0   \n461039                                   0                               0   \n461040                                   0                               0   \n461041                                   0                               0   \n461042                                   0                               0   \n\n        http_user_agent_Microsoft-CryptoAPI/10.0  \\\n0                                              0   \n1                                              0   \n2                                              0   \n3                                              0   \n4                                              0   \n...                                          ...   \n461038                                         0   \n461039                                         0   \n461040                                         0   \n461041                                         0   \n461042                                         0   \n\n        http_user_agent_Microsoft-Delivery-Optimization/10.0  \\\n0                                                       0      \n1                                                       0      \n2                                                       0      \n3                                                       0      \n4                                                       0      \n...                                                   ...      \n461038                                                  0      \n461039                                                  0      \n461040                                                  0      \n461041                                                  0      \n461042                                                  0      \n\n        http_user_agent_Microsoft-WNS/10.0  \\\n0                                        0   \n1                                        0   \n2                                        0   \n3                                        0   \n4                                        0   \n...                                    ...   \n461038                                   0   \n461039                                   0   \n461040                                   0   \n461041                                   0   \n461042                                   0   \n\n        http_user_agent_Microsoft-Windows/10.0 UPnP/1.0  \\\n0                                                     0   \n1                                                     0   \n2                                                     0   \n3                                                     0   \n4                                                     0   \n...                                                 ...   \n461038                                                0   \n461039                                                0   \n461040                                                0   \n461041                                                0   \n461042                                                0   \n\n        http_user_agent_Microsoft-Windows/10.0 UPnP/1.0 Microsoft-DLNA DLNADOC/1.50  \\\n0                                                       0                             \n1                                                       0                             \n2                                                       0                             \n3                                                       0                             \n4                                                       0                             \n...                                                   ...                             \n461038                                                  0                             \n461039                                                  0                             \n461040                                                  0                             \n461041                                                  0                             \n461042                                                  0                             \n\n        http_user_agent_Mozilla/1.22 (compatible; MSIE 10.0; Windows 3.1)  \\\n0                                                       0                   \n1                                                       0                   \n2                                                       0                   \n3                                                       0                   \n4                                                       0                   \n...                                                   ...                   \n461038                                                  0                   \n461039                                                  0                   \n461040                                                  0                   \n461041                                                  0                   \n461042                                                  0                   \n\n        http_user_agent_Mozilla/4.08 [en] (WinNT; I ;Nav)  \\\n0                                                       0   \n1                                                       0   \n2                                                       0   \n3                                                       0   \n4                                                       0   \n...                                                   ...   \n461038                                                  0   \n461039                                                  0   \n461040                                                  0   \n461041                                                  0   \n461042                                                  0   \n\n        http_user_agent_Mozilla/5.0 (Macintosh; Intel Mac OS X 10.11; rv:49.0) Gecko/20100101 Firefox/49.0  \\\n0                                                       0                                                    \n1                                                       0                                                    \n2                                                       0                                                    \n3                                                       0                                                    \n4                                                       0                                                    \n...                                                   ...                                                    \n461038                                                  0                                                    \n461039                                                  0                                                    \n461040                                                  0                                                    \n461041                                                  0                                                    \n461042                                                  0                                                    \n\n        http_user_agent_Mozilla/5.0 (Macintosh; Intel Mac OS X 10_12_0) AppleWebKit/537.36 (KHTML; like Gecko) Chrome/53.0.2785.143 Safari/537.36  \\\n0                                                       0                                                                                           \n1                                                       0                                                                                           \n2                                                       0                                                                                           \n3                                                       0                                                                                           \n4                                                       0                                                                                           \n...                                                   ...                                                                                           \n461038                                                  0                                                                                           \n461039                                                  0                                                                                           \n461040                                                  0                                                                                           \n461041                                                  0                                                                                           \n461042                                                  0                                                                                           \n\n        http_user_agent_Mozilla/5.0 (SMART-TV; Linux; Tizen 2.3) AppleWebkit/538.1 (KHTML; like Gecko) SamsungBrowser/1.0 Safari/538.1  \\\n0                                                       0                                                                                \n1                                                       0                                                                                \n2                                                       0                                                                                \n3                                                       0                                                                                \n4                                                       0                                                                                \n...                                                   ...                                                                                \n461038                                                  0                                                                                \n461039                                                  0                                                                                \n461040                                                  0                                                                                \n461041                                                  0                                                                                \n461042                                                  0                                                                                \n\n        http_user_agent_Mozilla/5.0 (Windows NT 10.0; Win64; x64) AppleWebKit/537.36 (KHTML; like Gecko) Chrome/64.0.3282.140 Safari/537.36 Edge/18.17763  \\\n0                                                       0                                                                                                   \n1                                                       0                                                                                                   \n2                                                       0                                                                                                   \n3                                                       0                                                                                                   \n4                                                       0                                                                                                   \n...                                                   ...                                                                                                   \n461038                                                  0                                                                                                   \n461039                                                  0                                                                                                   \n461040                                                  0                                                                                                   \n461041                                                  0                                                                                                   \n461042                                                  0                                                                                                   \n\n        http_user_agent_Mozilla/5.0 (Windows NT 6.1; WOW64; rv:49.0) Gecko/20100101 Firefox/49.0  \\\n0                                                       0                                          \n1                                                       0                                          \n2                                                       0                                          \n3                                                       0                                          \n4                                                       0                                          \n...                                                   ...                                          \n461038                                                  0                                          \n461039                                                  0                                          \n461040                                                  0                                          \n461041                                                  0                                          \n461042                                                  0                                          \n\n        http_user_agent_Mozilla/5.0 (Windows NT 6.1; Win64; x64; rv:5.0) Whistler/20110021 myibrow/5.0.0.0  \\\n0                                                       0                                                    \n1                                                       0                                                    \n2                                                       0                                                    \n3                                                       0                                                    \n4                                                       0                                                    \n...                                                   ...                                                    \n461038                                                  0                                                    \n461039                                                  0                                                    \n461040                                                  0                                                    \n461041                                                  0                                                    \n461042                                                  0                                                    \n\n        http_user_agent_Mozilla/5.0 (Windows NT 6.1; rv:21.0) Gecko/20130401 Firefox/21.0  \\\n0                                                       0                                   \n1                                                       0                                   \n2                                                       0                                   \n3                                                       0                                   \n4                                                       0                                   \n...                                                   ...                                   \n461038                                                  0                                   \n461039                                                  0                                   \n461040                                                  0                                   \n461041                                                  0                                   \n461042                                                  0                                   \n\n        http_user_agent_Mozilla/5.0 (Windows NT 6.3; WOW64) AppleWebKit/537.36 (KHTML; like Gecko) Chrome/53.0.2785.143 Safari/537.36  \\\n0                                                       0                                                                               \n1                                                       0                                                                               \n2                                                       0                                                                               \n3                                                       0                                                                               \n4                                                       0                                                                               \n...                                                   ...                                                                               \n461038                                                  0                                                                               \n461039                                                  0                                                                               \n461040                                                  0                                                                               \n461041                                                  0                                                                               \n461042                                                  0                                                                               \n\n        http_user_agent_Mozilla/5.0 (Windows NT 6.3; rv:36.0) Gecko/20100101 Firefox/36.0  \\\n0                                                       0                                   \n1                                                       0                                   \n2                                                       0                                   \n3                                                       0                                   \n4                                                       0                                   \n...                                                   ...                                   \n461038                                                  0                                   \n461039                                                  0                                   \n461040                                                  0                                   \n461041                                                  0                                   \n461042                                                  0                                   \n\n        http_user_agent_Mozilla/5.0 (X11; Linux x86_64) AppleWebKit/534.30 (KHTML; like Gecko) Version/4.0 Oupeng/10.2.1.86910 Safari/534.30  \\\n0                                                       0                                                                                      \n1                                                       0                                                                                      \n2                                                       0                                                                                      \n3                                                       0                                                                                      \n4                                                       0                                                                                      \n...                                                   ...                                                                                      \n461038                                                  0                                                                                      \n461039                                                  0                                                                                      \n461040                                                  0                                                                                      \n461041                                                  0                                                                                      \n461042                                                  0                                                                                      \n\n        http_user_agent_Mozilla/5.0 (X11; U; Linux i686; de-DE; rv:1.6) Gecko/20040207 Firefox/0.8  \\\n0                                                       0                                            \n1                                                       0                                            \n2                                                       0                                            \n3                                                       0                                            \n4                                                       0                                            \n...                                                   ...                                            \n461038                                                  0                                            \n461039                                                  0                                            \n461040                                                  0                                            \n461041                                                  0                                            \n461042                                                  0                                            \n\n        http_user_agent_Mozilla/5.0 (X11; Ubuntu; Linux x86_64; rv:66.0) Gecko/20100101 Firefox/66.0  \\\n0                                                       0                                              \n1                                                       0                                              \n2                                                       0                                              \n3                                                       0                                              \n4                                                       0                                              \n...                                                   ...                                              \n461038                                                  0                                              \n461039                                                  0                                              \n461040                                                  0                                              \n461041                                                  0                                              \n461042                                                  0                                              \n\n        http_user_agent_Mozilla/5.0 (compatible; MSIE 10.0; Windows NT 6.1; Trident/4.0; InfoPath.2; SV1; .NET CLR 2.0.50727; WOW64)  \\\n0                                                       0                                                                              \n1                                                       0                                                                              \n2                                                       0                                                                              \n3                                                       0                                                                              \n4                                                       0                                                                              \n...                                                   ...                                                                              \n461038                                                  0                                                                              \n461039                                                  0                                                                              \n461040                                                  0                                                                              \n461041                                                  0                                                                              \n461042                                                  0                                                                              \n\n        http_user_agent_Mozilla/5.0 (iPhone; U; CPU iOS 2_0 like Mac OS X; en-us)  \\\n0                                                       0                           \n1                                                       0                           \n2                                                       0                           \n3                                                       0                           \n4                                                       0                           \n...                                                   ...                           \n461038                                                  0                           \n461039                                                  0                           \n461040                                                  0                           \n461041                                                  0                           \n461042                                                  0                           \n\n        http_user_agent_Ruby  \\\n0                          0   \n1                          0   \n2                          0   \n3                          0   \n4                          0   \n...                      ...   \n461038                     0   \n461039                     0   \n461040                     0   \n461041                     0   \n461042                     0   \n\n        http_user_agent_User-Agent: Microsoft-DLNA DLNADOC/1.50  \\\n0                                                       0         \n1                                                       0         \n2                                                       0         \n3                                                       0         \n4                                                       0         \n...                                                   ...         \n461038                                                  0         \n461039                                                  0         \n461040                                                  0         \n461041                                                  0         \n461042                                                  0         \n\n        http_user_agent_Windows-Update-Agent/10.0.10011.16384 Client-Protocol/1.91  \\\n0                                                       0                            \n1                                                       0                            \n2                                                       0                            \n3                                                       0                            \n4                                                       0                            \n...                                                   ...                            \n461038                                                  0                            \n461039                                                  0                            \n461040                                                  0                            \n461041                                                  0                            \n461042                                                  0                            \n\n        http_user_agent_hacking  \\\n0                             0   \n1                             0   \n2                             0   \n3                             0   \n4                             0   \n...                         ...   \n461038                        0   \n461039                        0   \n461040                        0   \n461041                        0   \n461042                        0   \n\n        http_user_agent_sqlmap/1.2#stable (http://sqlmap.org)  \\\n0                                                       0       \n1                                                       0       \n2                                                       0       \n3                                                       0       \n4                                                       0       \n...                                                   ...       \n461038                                                  0       \n461039                                                  0       \n461040                                                  0       \n461041                                                  0       \n461042                                                  0       \n\n        http_orig_mime_types_-  http_orig_mime_types_application/soap+xml  \\\n0                            1                                          0   \n1                            1                                          0   \n2                            1                                          0   \n3                            1                                          0   \n4                            1                                          0   \n...                        ...                                        ...   \n461038                       1                                          0   \n461039                       1                                          0   \n461040                       1                                          0   \n461041                       1                                          0   \n461042                       1                                          0   \n\n        http_orig_mime_types_application/xml  http_resp_mime_types_-  \\\n0                                          0                       1   \n1                                          0                       1   \n2                                          0                       1   \n3                                          0                       1   \n4                                          0                       1   \n...                                      ...                     ...   \n461038                                     0                       1   \n461039                                     0                       1   \n461040                                     0                       1   \n461041                                     0                       1   \n461042                                     0                       1   \n\n        http_resp_mime_types_application/ocsp-response  \\\n0                                                    0   \n1                                                    0   \n2                                                    0   \n3                                                    0   \n4                                                    0   \n...                                                ...   \n461038                                               0   \n461039                                               0   \n461040                                               0   \n461041                                               0   \n461042                                               0   \n\n        http_resp_mime_types_application/vnd.ms-cab-compressed  \\\n0                                                       0        \n1                                                       0        \n2                                                       0        \n3                                                       0        \n4                                                       0        \n...                                                   ...        \n461038                                                  0        \n461039                                                  0        \n461040                                                  0        \n461041                                                  0        \n461042                                                  0        \n\n        http_resp_mime_types_application/x-debian-package  \\\n0                                                       0   \n1                                                       0   \n2                                                       0   \n3                                                       0   \n4                                                       0   \n...                                                   ...   \n461038                                                  0   \n461039                                                  0   \n461040                                                  0   \n461041                                                  0   \n461042                                                  0   \n\n        http_resp_mime_types_application/xml  http_resp_mime_types_image/jpeg  \\\n0                                          0                                0   \n1                                          0                                0   \n2                                          0                                0   \n3                                          0                                0   \n4                                          0                                0   \n...                                      ...                              ...   \n461038                                     0                                0   \n461039                                     0                                0   \n461040                                     0                                0   \n461041                                     0                                0   \n461042                                     0                                0   \n\n        http_resp_mime_types_image/png  http_resp_mime_types_text/html  \\\n0                                    0                               0   \n1                                    0                               0   \n2                                    0                               0   \n3                                    0                               0   \n4                                    0                               0   \n...                                ...                             ...   \n461038                               0                               0   \n461039                               0                               0   \n461040                               0                               0   \n461041                               0                               0   \n461042                               0                               0   \n\n        http_resp_mime_types_text/json  http_resp_mime_types_text/plain  \\\n0                                    0                                0   \n1                                    0                                0   \n2                                    0                                0   \n3                                    0                                0   \n4                                    0                                0   \n...                                ...                              ...   \n461038                               0                                0   \n461039                               0                                0   \n461040                               0                                0   \n461041                               0                                0   \n461042                               0                                0   \n\n        weird_name_-  weird_name_DNS_RR_unknown_type  \\\n0                  0                               0   \n1                  1                               0   \n2                  0                               0   \n3                  1                               0   \n4                  0                               0   \n...              ...                             ...   \n461038             1                               0   \n461039             1                               0   \n461040             1                               0   \n461041             1                               0   \n461042             1                               0   \n\n        weird_name_TCP_ack_underflow_or_misorder  \\\n0                                              0   \n1                                              0   \n2                                              0   \n3                                              0   \n4                                              0   \n...                                          ...   \n461038                                         0   \n461039                                         0   \n461040                                         0   \n461041                                         0   \n461042                                         0   \n\n        weird_name_above_hole_data_without_any_acks  \\\n0                                                 0   \n1                                                 0   \n2                                                 0   \n3                                                 0   \n4                                                 0   \n...                                             ...   \n461038                                            0   \n461039                                            0   \n461040                                            0   \n461041                                            0   \n461042                                            0   \n\n        weird_name_active_connection_reuse  weird_name_bad_TCP_checksum  \\\n0                                        0                            1   \n1                                        0                            0   \n2                                        0                            1   \n3                                        0                            0   \n4                                        0                            0   \n...                                    ...                          ...   \n461038                                   0                            0   \n461039                                   0                            0   \n461040                                   0                            0   \n461041                                   0                            0   \n461042                                   0                            0   \n\n        weird_name_bad_UDP_checksum  weird_name_connection_originator_SYN_ack  \\\n0                                 0                                         0   \n1                                 0                                         0   \n2                                 0                                         0   \n3                                 0                                         0   \n4                                 1                                         0   \n...                             ...                                       ...   \n461038                            0                                         0   \n461039                            0                                         0   \n461040                            0                                         0   \n461041                            0                                         0   \n461042                            0                                         0   \n\n        weird_name_data_before_established  \\\n0                                        0   \n1                                        0   \n2                                        0   \n3                                        0   \n4                                        0   \n...                                    ...   \n461038                                   0   \n461039                                   0   \n461040                                   0   \n461041                                   0   \n461042                                   0   \n\n        weird_name_dnp3_corrupt_header_checksum  weird_name_inappropriate_FIN  \\\n0                                             0                             0   \n1                                             0                             0   \n2                                             0                             0   \n3                                             0                             0   \n4                                             0                             0   \n...                                         ...                           ...   \n461038                                        0                             0   \n461039                                        0                             0   \n461040                                        0                             0   \n461041                                        0                             0   \n461042                                        0                             0   \n\n        weird_name_possible_split_routing  weird_addl_-  weird_addl_43  \\\n0                                       0             1              0   \n1                                       0             1              0   \n2                                       0             1              0   \n3                                       0             1              0   \n4                                       0             1              0   \n...                                   ...           ...            ...   \n461038                                  0             1              0   \n461039                                  0             1              0   \n461040                                  0             1              0   \n461041                                  0             1              0   \n461042                                  0             1              0   \n\n        weird_addl_46  weird_addl_48  weird_notice_-  weird_notice_F  \n0                   0              0               0               1  \n1                   0              0               1               0  \n2                   0              0               0               1  \n3                   0              0               1               0  \n4                   0              0               0               1  \n...               ...            ...             ...             ...  \n461038              0              0               1               0  \n461039              0              0               1               0  \n461040              0              0               1               0  \n461041              0              0               1               0  \n461042              0              0               1               0  \n\n[461043 rows x 189 columns]",
      "text/html": "<div>\n<style scoped>\n    .dataframe tbody tr th:only-of-type {\n        vertical-align: middle;\n    }\n\n    .dataframe tbody tr th {\n        vertical-align: top;\n    }\n\n    .dataframe thead th {\n        text-align: right;\n    }\n</style>\n<table border=\"1\" class=\"dataframe\">\n  <thead>\n    <tr style=\"text-align: right;\">\n      <th></th>\n      <th>duration</th>\n      <th>src_bytes</th>\n      <th>dst_bytes</th>\n      <th>missed_bytes</th>\n      <th>src_pkts</th>\n      <th>src_ip_bytes</th>\n      <th>dst_pkts</th>\n      <th>dst_ip_bytes</th>\n      <th>http_request_body_len</th>\n      <th>http_response_body_len</th>\n      <th>label</th>\n      <th>type</th>\n      <th>proto_icmp</th>\n      <th>proto_tcp</th>\n      <th>proto_udp</th>\n      <th>service_-</th>\n      <th>service_dce_rpc</th>\n      <th>service_dhcp</th>\n      <th>service_dns</th>\n      <th>service_ftp</th>\n      <th>service_gssapi</th>\n      <th>service_http</th>\n      <th>service_smb</th>\n      <th>service_smb;gssapi</th>\n      <th>service_ssl</th>\n      <th>conn_state_OTH</th>\n      <th>conn_state_REJ</th>\n      <th>conn_state_RSTO</th>\n      <th>conn_state_RSTOS0</th>\n      <th>conn_state_RSTR</th>\n      <th>conn_state_RSTRH</th>\n      <th>conn_state_S0</th>\n      <th>conn_state_S1</th>\n      <th>conn_state_S2</th>\n      <th>conn_state_S3</th>\n      <th>conn_state_SF</th>\n      <th>conn_state_SH</th>\n      <th>conn_state_SHR</th>\n      <th>dns_qclass_0</th>\n      <th>dns_qclass_1</th>\n      <th>dns_qclass_32769</th>\n      <th>dns_qtype_0</th>\n      <th>dns_qtype_1</th>\n      <th>dns_qtype_2</th>\n      <th>dns_qtype_6</th>\n      <th>dns_qtype_12</th>\n      <th>dns_qtype_16</th>\n      <th>dns_qtype_28</th>\n      <th>dns_qtype_32</th>\n      <th>dns_qtype_33</th>\n      <th>dns_qtype_43</th>\n      <th>dns_qtype_48</th>\n      <th>dns_qtype_255</th>\n      <th>dns_rcode_0</th>\n      <th>dns_rcode_1</th>\n      <th>dns_rcode_2</th>\n      <th>dns_rcode_3</th>\n      <th>dns_rcode_5</th>\n      <th>dns_AA_-</th>\n      <th>dns_AA_F</th>\n      <th>dns_AA_T</th>\n      <th>dns_RD_-</th>\n      <th>dns_RD_F</th>\n      <th>dns_RD_T</th>\n      <th>dns_RA_-</th>\n      <th>dns_RA_F</th>\n      <th>dns_RA_T</th>\n      <th>dns_rejected_-</th>\n      <th>dns_rejected_F</th>\n      <th>dns_rejected_T</th>\n      <th>ssl_version_-</th>\n      <th>ssl_version_TLSv10</th>\n      <th>ssl_version_TLSv12</th>\n      <th>ssl_version_TLSv13</th>\n      <th>ssl_cipher_-</th>\n      <th>ssl_cipher_TLS_AES_128_GCM_SHA256</th>\n      <th>ssl_cipher_TLS_ECDHE_ECDSA_WITH_AES_128_GCM_SHA256</th>\n      <th>ssl_cipher_TLS_ECDHE_RSA_WITH_AES_128_GCM_SHA256</th>\n      <th>ssl_cipher_TLS_ECDHE_RSA_WITH_AES_256_CBC_SHA</th>\n      <th>ssl_cipher_TLS_ECDHE_RSA_WITH_AES_256_GCM_SHA384</th>\n      <th>ssl_resumed_-</th>\n      <th>ssl_resumed_F</th>\n      <th>ssl_resumed_T</th>\n      <th>ssl_established_-</th>\n      <th>ssl_established_F</th>\n      <th>ssl_established_T</th>\n      <th>ssl_subject_-</th>\n      <th>ssl_subject_CN=*.events.data.microsoft.com;OU=Microsoft;O=Microsoft Corporation;L=Redmond;ST=WA;C=US</th>\n      <th>ssl_subject_CN=*.wns.windows.com</th>\n      <th>ssl_subject_CN=Mr Shepherd;OU=Security Shepherd Project;O=OWASP;L=Dublin;ST=Ireland;C=IE</th>\n      <th>ssl_subject_CN=settings-win.data.microsoft.com;OU=WSE;O=Microsoft;L=Redmond;ST=WA;C=US</th>\n      <th>ssl_subject_CN=sls.update.microsoft.com;OU=DSP;O=Microsoft;L=Redmond;ST=WA;C=US</th>\n      <th>ssl_issuer_-</th>\n      <th>ssl_issuer_CN=Microsoft IT TLS CA 5;OU=Microsoft IT;O=Microsoft Corporation;L=Redmond;ST=Washington;C=US</th>\n      <th>ssl_issuer_CN=Microsoft Secure Server CA 2011;O=Microsoft Corporation;L=Redmond;ST=Washington;C=US</th>\n      <th>ssl_issuer_CN=Microsoft Update Secure Server CA 2.1;O=Microsoft Corporation;L=Redmond;ST=Washington;C=US</th>\n      <th>ssl_issuer_CN=Mr Shepherd;OU=Security Shepherd Project;O=OWASP;L=Dublin;ST=Ireland;C=IE</th>\n      <th>http_trans_depth_-</th>\n      <th>http_trans_depth_1</th>\n      <th>http_trans_depth_10</th>\n      <th>http_trans_depth_2</th>\n      <th>http_trans_depth_3</th>\n      <th>http_trans_depth_4</th>\n      <th>http_trans_depth_5</th>\n      <th>http_trans_depth_6</th>\n      <th>http_trans_depth_7</th>\n      <th>http_trans_depth_8</th>\n      <th>http_trans_depth_9</th>\n      <th>http_method_-</th>\n      <th>http_method_GET</th>\n      <th>http_method_HEAD</th>\n      <th>http_method_POST</th>\n      <th>http_version_-</th>\n      <th>http_version_1.1</th>\n      <th>http_status_code_0</th>\n      <th>http_status_code_101</th>\n      <th>http_status_code_200</th>\n      <th>http_status_code_206</th>\n      <th>http_status_code_302</th>\n      <th>http_status_code_304</th>\n      <th>http_status_code_403</th>\n      <th>http_status_code_404</th>\n      <th>http_user_agent_-</th>\n      <th>http_user_agent_Comos/0.9_(robot@xyleme.com)</th>\n      <th>http_user_agent_DAFUPnP</th>\n      <th>http_user_agent_DataCha0s/2.0</th>\n      <th>http_user_agent_Debian APT-HTTP/1.3 (1.6.6)</th>\n      <th>http_user_agent_Debian APT-HTTP/1.3 (1.7.4)</th>\n      <th>http_user_agent_DonutP; Windows98SE</th>\n      <th>http_user_agent_MICROSOFT_DEVICE_METADATA_RETRIEVAL_CLIENT</th>\n      <th>http_user_agent_Microsoft BITS/7.8</th>\n      <th>http_user_agent_Microsoft NCSI</th>\n      <th>http_user_agent_Microsoft-CryptoAPI/10.0</th>\n      <th>http_user_agent_Microsoft-Delivery-Optimization/10.0</th>\n      <th>http_user_agent_Microsoft-WNS/10.0</th>\n      <th>http_user_agent_Microsoft-Windows/10.0 UPnP/1.0</th>\n      <th>http_user_agent_Microsoft-Windows/10.0 UPnP/1.0 Microsoft-DLNA DLNADOC/1.50</th>\n      <th>http_user_agent_Mozilla/1.22 (compatible; MSIE 10.0; Windows 3.1)</th>\n      <th>http_user_agent_Mozilla/4.08 [en] (WinNT; I ;Nav)</th>\n      <th>http_user_agent_Mozilla/5.0 (Macintosh; Intel Mac OS X 10.11; rv:49.0) Gecko/20100101 Firefox/49.0</th>\n      <th>http_user_agent_Mozilla/5.0 (Macintosh; Intel Mac OS X 10_12_0) AppleWebKit/537.36 (KHTML; like Gecko) Chrome/53.0.2785.143 Safari/537.36</th>\n      <th>http_user_agent_Mozilla/5.0 (SMART-TV; Linux; Tizen 2.3) AppleWebkit/538.1 (KHTML; like Gecko) SamsungBrowser/1.0 Safari/538.1</th>\n      <th>http_user_agent_Mozilla/5.0 (Windows NT 10.0; Win64; x64) AppleWebKit/537.36 (KHTML; like Gecko) Chrome/64.0.3282.140 Safari/537.36 Edge/18.17763</th>\n      <th>http_user_agent_Mozilla/5.0 (Windows NT 6.1; WOW64; rv:49.0) Gecko/20100101 Firefox/49.0</th>\n      <th>http_user_agent_Mozilla/5.0 (Windows NT 6.1; Win64; x64; rv:5.0) Whistler/20110021 myibrow/5.0.0.0</th>\n      <th>http_user_agent_Mozilla/5.0 (Windows NT 6.1; rv:21.0) Gecko/20130401 Firefox/21.0</th>\n      <th>http_user_agent_Mozilla/5.0 (Windows NT 6.3; WOW64) AppleWebKit/537.36 (KHTML; like Gecko) Chrome/53.0.2785.143 Safari/537.36</th>\n      <th>http_user_agent_Mozilla/5.0 (Windows NT 6.3; rv:36.0) Gecko/20100101 Firefox/36.0</th>\n      <th>http_user_agent_Mozilla/5.0 (X11; Linux x86_64) AppleWebKit/534.30 (KHTML; like Gecko) Version/4.0 Oupeng/10.2.1.86910 Safari/534.30</th>\n      <th>http_user_agent_Mozilla/5.0 (X11; U; Linux i686; de-DE; rv:1.6) Gecko/20040207 Firefox/0.8</th>\n      <th>http_user_agent_Mozilla/5.0 (X11; Ubuntu; Linux x86_64; rv:66.0) Gecko/20100101 Firefox/66.0</th>\n      <th>http_user_agent_Mozilla/5.0 (compatible; MSIE 10.0; Windows NT 6.1; Trident/4.0; InfoPath.2; SV1; .NET CLR 2.0.50727; WOW64)</th>\n      <th>http_user_agent_Mozilla/5.0 (iPhone; U; CPU iOS 2_0 like Mac OS X; en-us)</th>\n      <th>http_user_agent_Ruby</th>\n      <th>http_user_agent_User-Agent: Microsoft-DLNA DLNADOC/1.50</th>\n      <th>http_user_agent_Windows-Update-Agent/10.0.10011.16384 Client-Protocol/1.91</th>\n      <th>http_user_agent_hacking</th>\n      <th>http_user_agent_sqlmap/1.2#stable (http://sqlmap.org)</th>\n      <th>http_orig_mime_types_-</th>\n      <th>http_orig_mime_types_application/soap+xml</th>\n      <th>http_orig_mime_types_application/xml</th>\n      <th>http_resp_mime_types_-</th>\n      <th>http_resp_mime_types_application/ocsp-response</th>\n      <th>http_resp_mime_types_application/vnd.ms-cab-compressed</th>\n      <th>http_resp_mime_types_application/x-debian-package</th>\n      <th>http_resp_mime_types_application/xml</th>\n      <th>http_resp_mime_types_image/jpeg</th>\n      <th>http_resp_mime_types_image/png</th>\n      <th>http_resp_mime_types_text/html</th>\n      <th>http_resp_mime_types_text/json</th>\n      <th>http_resp_mime_types_text/plain</th>\n      <th>weird_name_-</th>\n      <th>weird_name_DNS_RR_unknown_type</th>\n      <th>weird_name_TCP_ack_underflow_or_misorder</th>\n      <th>weird_name_above_hole_data_without_any_acks</th>\n      <th>weird_name_active_connection_reuse</th>\n      <th>weird_name_bad_TCP_checksum</th>\n      <th>weird_name_bad_UDP_checksum</th>\n      <th>weird_name_connection_originator_SYN_ack</th>\n      <th>weird_name_data_before_established</th>\n      <th>weird_name_dnp3_corrupt_header_checksum</th>\n      <th>weird_name_inappropriate_FIN</th>\n      <th>weird_name_possible_split_routing</th>\n      <th>weird_addl_-</th>\n      <th>weird_addl_43</th>\n      <th>weird_addl_46</th>\n      <th>weird_addl_48</th>\n      <th>weird_notice_-</th>\n      <th>weird_notice_F</th>\n    </tr>\n  </thead>\n  <tbody>\n    <tr>\n      <th>0</th>\n      <td>80549.530260</td>\n      <td>1762852</td>\n      <td>41933215</td>\n      <td>0</td>\n      <td>252181</td>\n      <td>14911156</td>\n      <td>2</td>\n      <td>236</td>\n      <td>0</td>\n      <td>0</td>\n      <td>0</td>\n      <td>normal</td>\n      <td>0</td>\n      <td>1</td>\n      <td>0</td>\n      <td>1</td>\n      <td>0</td>\n      <td>0</td>\n      <td>0</td>\n      <td>0</td>\n      <td>0</td>\n      <td>0</td>\n      <td>0</td>\n      <td>0</td>\n      <td>0</td>\n      <td>1</td>\n      <td>0</td>\n      <td>0</td>\n      <td>0</td>\n      <td>0</td>\n      <td>0</td>\n      <td>0</td>\n      <td>0</td>\n      <td>0</td>\n      <td>0</td>\n      <td>0</td>\n      <td>0</td>\n      <td>0</td>\n      <td>1</td>\n      <td>0</td>\n      <td>0</td>\n      <td>1</td>\n      <td>0</td>\n      <td>0</td>\n      <td>0</td>\n      <td>0</td>\n      <td>0</td>\n      <td>0</td>\n      <td>0</td>\n      <td>0</td>\n      <td>0</td>\n      <td>0</td>\n      <td>0</td>\n      <td>1</td>\n      <td>0</td>\n      <td>0</td>\n      <td>0</td>\n      <td>0</td>\n      <td>1</td>\n      <td>0</td>\n      <td>0</td>\n      <td>1</td>\n      <td>0</td>\n      <td>0</td>\n      <td>1</td>\n      <td>0</td>\n      <td>0</td>\n      <td>1</td>\n      <td>0</td>\n      <td>0</td>\n      <td>1</td>\n      <td>0</td>\n      <td>0</td>\n      <td>0</td>\n      <td>1</td>\n      <td>0</td>\n      <td>0</td>\n      <td>0</td>\n      <td>0</td>\n      <td>0</td>\n      <td>1</td>\n      <td>0</td>\n      <td>0</td>\n      <td>1</td>\n      <td>0</td>\n      <td>0</td>\n      <td>1</td>\n      <td>0</td>\n      <td>0</td>\n      <td>0</td>\n      <td>0</td>\n      <td>0</td>\n      <td>1</td>\n      <td>0</td>\n      <td>0</td>\n      <td>0</td>\n      <td>0</td>\n      <td>1</td>\n      <td>0</td>\n      <td>0</td>\n      <td>0</td>\n      <td>0</td>\n      <td>0</td>\n      <td>0</td>\n      <td>0</td>\n      <td>0</td>\n      <td>0</td>\n      <td>0</td>\n      <td>1</td>\n      <td>0</td>\n      <td>0</td>\n      <td>0</td>\n      <td>1</td>\n      <td>0</td>\n      <td>1</td>\n      <td>0</td>\n      <td>0</td>\n      <td>0</td>\n      <td>0</td>\n      <td>0</td>\n      <td>0</td>\n      <td>0</td>\n      <td>1</td>\n      <td>0</td>\n      <td>0</td>\n      <td>0</td>\n      <td>0</td>\n      <td>0</td>\n      <td>0</td>\n      <td>0</td>\n      <td>0</td>\n      <td>0</td>\n      <td>0</td>\n      <td>0</td>\n      <td>0</td>\n      <td>0</td>\n      <td>0</td>\n      <td>0</td>\n      <td>0</td>\n      <td>0</td>\n      <td>0</td>\n      <td>0</td>\n      <td>0</td>\n      <td>0</td>\n      <td>0</td>\n      <td>0</td>\n      <td>0</td>\n      <td>0</td>\n      <td>0</td>\n      <td>0</td>\n      <td>0</td>\n      <td>0</td>\n      <td>0</td>\n      <td>0</td>\n      <td>0</td>\n      <td>0</td>\n      <td>0</td>\n      <td>0</td>\n      <td>1</td>\n      <td>0</td>\n      <td>0</td>\n      <td>1</td>\n      <td>0</td>\n      <td>0</td>\n      <td>0</td>\n      <td>0</td>\n      <td>0</td>\n      <td>0</td>\n      <td>0</td>\n      <td>0</td>\n      <td>0</td>\n      <td>0</td>\n      <td>0</td>\n      <td>0</td>\n      <td>0</td>\n      <td>0</td>\n      <td>1</td>\n      <td>0</td>\n      <td>0</td>\n      <td>0</td>\n      <td>0</td>\n      <td>0</td>\n      <td>0</td>\n      <td>1</td>\n      <td>0</td>\n      <td>0</td>\n      <td>0</td>\n      <td>0</td>\n      <td>1</td>\n    </tr>\n    <tr>\n      <th>1</th>\n      <td>0.000000</td>\n      <td>0</td>\n      <td>0</td>\n      <td>0</td>\n      <td>1</td>\n      <td>63</td>\n      <td>0</td>\n      <td>0</td>\n      <td>0</td>\n      <td>0</td>\n      <td>0</td>\n      <td>normal</td>\n      <td>0</td>\n      <td>0</td>\n      <td>1</td>\n      <td>1</td>\n      <td>0</td>\n      <td>0</td>\n      <td>0</td>\n      <td>0</td>\n      <td>0</td>\n      <td>0</td>\n      <td>0</td>\n      <td>0</td>\n      <td>0</td>\n      <td>0</td>\n      <td>0</td>\n      <td>0</td>\n      <td>0</td>\n      <td>0</td>\n      <td>0</td>\n      <td>1</td>\n      <td>0</td>\n      <td>0</td>\n      <td>0</td>\n      <td>0</td>\n      <td>0</td>\n      <td>0</td>\n      <td>1</td>\n      <td>0</td>\n      <td>0</td>\n      <td>1</td>\n      <td>0</td>\n      <td>0</td>\n      <td>0</td>\n      <td>0</td>\n      <td>0</td>\n      <td>0</td>\n      <td>0</td>\n      <td>0</td>\n      <td>0</td>\n      <td>0</td>\n      <td>0</td>\n      <td>1</td>\n      <td>0</td>\n      <td>0</td>\n      <td>0</td>\n      <td>0</td>\n      <td>1</td>\n      <td>0</td>\n      <td>0</td>\n      <td>1</td>\n      <td>0</td>\n      <td>0</td>\n      <td>1</td>\n      <td>0</td>\n      <td>0</td>\n      <td>1</td>\n      <td>0</td>\n      <td>0</td>\n      <td>1</td>\n      <td>0</td>\n      <td>0</td>\n      <td>0</td>\n      <td>1</td>\n      <td>0</td>\n      <td>0</td>\n      <td>0</td>\n      <td>0</td>\n      <td>0</td>\n      <td>1</td>\n      <td>0</td>\n      <td>0</td>\n      <td>1</td>\n      <td>0</td>\n      <td>0</td>\n      <td>1</td>\n      <td>0</td>\n      <td>0</td>\n      <td>0</td>\n      <td>0</td>\n      <td>0</td>\n      <td>1</td>\n      <td>0</td>\n      <td>0</td>\n      <td>0</td>\n      <td>0</td>\n      <td>1</td>\n      <td>0</td>\n      <td>0</td>\n      <td>0</td>\n      <td>0</td>\n      <td>0</td>\n      <td>0</td>\n      <td>0</td>\n      <td>0</td>\n      <td>0</td>\n      <td>0</td>\n      <td>1</td>\n      <td>0</td>\n      <td>0</td>\n      <td>0</td>\n      <td>1</td>\n      <td>0</td>\n      <td>1</td>\n      <td>0</td>\n      <td>0</td>\n      <td>0</td>\n      <td>0</td>\n      <td>0</td>\n      <td>0</td>\n      <td>0</td>\n      <td>1</td>\n      <td>0</td>\n      <td>0</td>\n      <td>0</td>\n      <td>0</td>\n      <td>0</td>\n      <td>0</td>\n      <td>0</td>\n      <td>0</td>\n      <td>0</td>\n      <td>0</td>\n      <td>0</td>\n      <td>0</td>\n      <td>0</td>\n      <td>0</td>\n      <td>0</td>\n      <td>0</td>\n      <td>0</td>\n      <td>0</td>\n      <td>0</td>\n      <td>0</td>\n      <td>0</td>\n      <td>0</td>\n      <td>0</td>\n      <td>0</td>\n      <td>0</td>\n      <td>0</td>\n      <td>0</td>\n      <td>0</td>\n      <td>0</td>\n      <td>0</td>\n      <td>0</td>\n      <td>0</td>\n      <td>0</td>\n      <td>0</td>\n      <td>0</td>\n      <td>1</td>\n      <td>0</td>\n      <td>0</td>\n      <td>1</td>\n      <td>0</td>\n      <td>0</td>\n      <td>0</td>\n      <td>0</td>\n      <td>0</td>\n      <td>0</td>\n      <td>0</td>\n      <td>0</td>\n      <td>0</td>\n      <td>1</td>\n      <td>0</td>\n      <td>0</td>\n      <td>0</td>\n      <td>0</td>\n      <td>0</td>\n      <td>0</td>\n      <td>0</td>\n      <td>0</td>\n      <td>0</td>\n      <td>0</td>\n      <td>0</td>\n      <td>1</td>\n      <td>0</td>\n      <td>0</td>\n      <td>0</td>\n      <td>1</td>\n      <td>0</td>\n    </tr>\n    <tr>\n      <th>2</th>\n      <td>0.000000</td>\n      <td>0</td>\n      <td>0</td>\n      <td>0</td>\n      <td>0</td>\n      <td>0</td>\n      <td>0</td>\n      <td>0</td>\n      <td>0</td>\n      <td>0</td>\n      <td>0</td>\n      <td>normal</td>\n      <td>0</td>\n      <td>1</td>\n      <td>0</td>\n      <td>1</td>\n      <td>0</td>\n      <td>0</td>\n      <td>0</td>\n      <td>0</td>\n      <td>0</td>\n      <td>0</td>\n      <td>0</td>\n      <td>0</td>\n      <td>0</td>\n      <td>1</td>\n      <td>0</td>\n      <td>0</td>\n      <td>0</td>\n      <td>0</td>\n      <td>0</td>\n      <td>0</td>\n      <td>0</td>\n      <td>0</td>\n      <td>0</td>\n      <td>0</td>\n      <td>0</td>\n      <td>0</td>\n      <td>1</td>\n      <td>0</td>\n      <td>0</td>\n      <td>1</td>\n      <td>0</td>\n      <td>0</td>\n      <td>0</td>\n      <td>0</td>\n      <td>0</td>\n      <td>0</td>\n      <td>0</td>\n      <td>0</td>\n      <td>0</td>\n      <td>0</td>\n      <td>0</td>\n      <td>1</td>\n      <td>0</td>\n      <td>0</td>\n      <td>0</td>\n      <td>0</td>\n      <td>1</td>\n      <td>0</td>\n      <td>0</td>\n      <td>1</td>\n      <td>0</td>\n      <td>0</td>\n      <td>1</td>\n      <td>0</td>\n      <td>0</td>\n      <td>1</td>\n      <td>0</td>\n      <td>0</td>\n      <td>1</td>\n      <td>0</td>\n      <td>0</td>\n      <td>0</td>\n      <td>1</td>\n      <td>0</td>\n      <td>0</td>\n      <td>0</td>\n      <td>0</td>\n      <td>0</td>\n      <td>1</td>\n      <td>0</td>\n      <td>0</td>\n      <td>1</td>\n      <td>0</td>\n      <td>0</td>\n      <td>1</td>\n      <td>0</td>\n      <td>0</td>\n      <td>0</td>\n      <td>0</td>\n      <td>0</td>\n      <td>1</td>\n      <td>0</td>\n      <td>0</td>\n      <td>0</td>\n      <td>0</td>\n      <td>1</td>\n      <td>0</td>\n      <td>0</td>\n      <td>0</td>\n      <td>0</td>\n      <td>0</td>\n      <td>0</td>\n      <td>0</td>\n      <td>0</td>\n      <td>0</td>\n      <td>0</td>\n      <td>1</td>\n      <td>0</td>\n      <td>0</td>\n      <td>0</td>\n      <td>1</td>\n      <td>0</td>\n      <td>1</td>\n      <td>0</td>\n      <td>0</td>\n      <td>0</td>\n      <td>0</td>\n      <td>0</td>\n      <td>0</td>\n      <td>0</td>\n      <td>1</td>\n      <td>0</td>\n      <td>0</td>\n      <td>0</td>\n      <td>0</td>\n      <td>0</td>\n      <td>0</td>\n      <td>0</td>\n      <td>0</td>\n      <td>0</td>\n      <td>0</td>\n      <td>0</td>\n      <td>0</td>\n      <td>0</td>\n      <td>0</td>\n      <td>0</td>\n      <td>0</td>\n      <td>0</td>\n      <td>0</td>\n      <td>0</td>\n      <td>0</td>\n      <td>0</td>\n      <td>0</td>\n      <td>0</td>\n      <td>0</td>\n      <td>0</td>\n      <td>0</td>\n      <td>0</td>\n      <td>0</td>\n      <td>0</td>\n      <td>0</td>\n      <td>0</td>\n      <td>0</td>\n      <td>0</td>\n      <td>0</td>\n      <td>0</td>\n      <td>1</td>\n      <td>0</td>\n      <td>0</td>\n      <td>1</td>\n      <td>0</td>\n      <td>0</td>\n      <td>0</td>\n      <td>0</td>\n      <td>0</td>\n      <td>0</td>\n      <td>0</td>\n      <td>0</td>\n      <td>0</td>\n      <td>0</td>\n      <td>0</td>\n      <td>0</td>\n      <td>0</td>\n      <td>0</td>\n      <td>1</td>\n      <td>0</td>\n      <td>0</td>\n      <td>0</td>\n      <td>0</td>\n      <td>0</td>\n      <td>0</td>\n      <td>1</td>\n      <td>0</td>\n      <td>0</td>\n      <td>0</td>\n      <td>0</td>\n      <td>1</td>\n    </tr>\n    <tr>\n      <th>3</th>\n      <td>0.000000</td>\n      <td>0</td>\n      <td>0</td>\n      <td>0</td>\n      <td>0</td>\n      <td>0</td>\n      <td>0</td>\n      <td>0</td>\n      <td>0</td>\n      <td>0</td>\n      <td>0</td>\n      <td>normal</td>\n      <td>0</td>\n      <td>1</td>\n      <td>0</td>\n      <td>1</td>\n      <td>0</td>\n      <td>0</td>\n      <td>0</td>\n      <td>0</td>\n      <td>0</td>\n      <td>0</td>\n      <td>0</td>\n      <td>0</td>\n      <td>0</td>\n      <td>1</td>\n      <td>0</td>\n      <td>0</td>\n      <td>0</td>\n      <td>0</td>\n      <td>0</td>\n      <td>0</td>\n      <td>0</td>\n      <td>0</td>\n      <td>0</td>\n      <td>0</td>\n      <td>0</td>\n      <td>0</td>\n      <td>1</td>\n      <td>0</td>\n      <td>0</td>\n      <td>1</td>\n      <td>0</td>\n      <td>0</td>\n      <td>0</td>\n      <td>0</td>\n      <td>0</td>\n      <td>0</td>\n      <td>0</td>\n      <td>0</td>\n      <td>0</td>\n      <td>0</td>\n      <td>0</td>\n      <td>1</td>\n      <td>0</td>\n      <td>0</td>\n      <td>0</td>\n      <td>0</td>\n      <td>1</td>\n      <td>0</td>\n      <td>0</td>\n      <td>1</td>\n      <td>0</td>\n      <td>0</td>\n      <td>1</td>\n      <td>0</td>\n      <td>0</td>\n      <td>1</td>\n      <td>0</td>\n      <td>0</td>\n      <td>1</td>\n      <td>0</td>\n      <td>0</td>\n      <td>0</td>\n      <td>1</td>\n      <td>0</td>\n      <td>0</td>\n      <td>0</td>\n      <td>0</td>\n      <td>0</td>\n      <td>1</td>\n      <td>0</td>\n      <td>0</td>\n      <td>1</td>\n      <td>0</td>\n      <td>0</td>\n      <td>1</td>\n      <td>0</td>\n      <td>0</td>\n      <td>0</td>\n      <td>0</td>\n      <td>0</td>\n      <td>1</td>\n      <td>0</td>\n      <td>0</td>\n      <td>0</td>\n      <td>0</td>\n      <td>1</td>\n      <td>0</td>\n      <td>0</td>\n      <td>0</td>\n      <td>0</td>\n      <td>0</td>\n      <td>0</td>\n      <td>0</td>\n      <td>0</td>\n      <td>0</td>\n      <td>0</td>\n      <td>1</td>\n      <td>0</td>\n      <td>0</td>\n      <td>0</td>\n      <td>1</td>\n      <td>0</td>\n      <td>1</td>\n      <td>0</td>\n      <td>0</td>\n      <td>0</td>\n      <td>0</td>\n      <td>0</td>\n      <td>0</td>\n      <td>0</td>\n      <td>1</td>\n      <td>0</td>\n      <td>0</td>\n      <td>0</td>\n      <td>0</td>\n      <td>0</td>\n      <td>0</td>\n      <td>0</td>\n      <td>0</td>\n      <td>0</td>\n      <td>0</td>\n      <td>0</td>\n      <td>0</td>\n      <td>0</td>\n      <td>0</td>\n      <td>0</td>\n      <td>0</td>\n      <td>0</td>\n      <td>0</td>\n      <td>0</td>\n      <td>0</td>\n      <td>0</td>\n      <td>0</td>\n      <td>0</td>\n      <td>0</td>\n      <td>0</td>\n      <td>0</td>\n      <td>0</td>\n      <td>0</td>\n      <td>0</td>\n      <td>0</td>\n      <td>0</td>\n      <td>0</td>\n      <td>0</td>\n      <td>0</td>\n      <td>0</td>\n      <td>1</td>\n      <td>0</td>\n      <td>0</td>\n      <td>1</td>\n      <td>0</td>\n      <td>0</td>\n      <td>0</td>\n      <td>0</td>\n      <td>0</td>\n      <td>0</td>\n      <td>0</td>\n      <td>0</td>\n      <td>0</td>\n      <td>1</td>\n      <td>0</td>\n      <td>0</td>\n      <td>0</td>\n      <td>0</td>\n      <td>0</td>\n      <td>0</td>\n      <td>0</td>\n      <td>0</td>\n      <td>0</td>\n      <td>0</td>\n      <td>0</td>\n      <td>1</td>\n      <td>0</td>\n      <td>0</td>\n      <td>0</td>\n      <td>1</td>\n      <td>0</td>\n    </tr>\n    <tr>\n      <th>4</th>\n      <td>0.000549</td>\n      <td>0</td>\n      <td>298</td>\n      <td>0</td>\n      <td>0</td>\n      <td>0</td>\n      <td>2</td>\n      <td>354</td>\n      <td>0</td>\n      <td>0</td>\n      <td>0</td>\n      <td>normal</td>\n      <td>0</td>\n      <td>0</td>\n      <td>1</td>\n      <td>0</td>\n      <td>0</td>\n      <td>0</td>\n      <td>1</td>\n      <td>0</td>\n      <td>0</td>\n      <td>0</td>\n      <td>0</td>\n      <td>0</td>\n      <td>0</td>\n      <td>0</td>\n      <td>0</td>\n      <td>0</td>\n      <td>0</td>\n      <td>0</td>\n      <td>0</td>\n      <td>0</td>\n      <td>0</td>\n      <td>0</td>\n      <td>0</td>\n      <td>0</td>\n      <td>0</td>\n      <td>1</td>\n      <td>1</td>\n      <td>0</td>\n      <td>0</td>\n      <td>1</td>\n      <td>0</td>\n      <td>0</td>\n      <td>0</td>\n      <td>0</td>\n      <td>0</td>\n      <td>0</td>\n      <td>0</td>\n      <td>0</td>\n      <td>0</td>\n      <td>0</td>\n      <td>0</td>\n      <td>1</td>\n      <td>0</td>\n      <td>0</td>\n      <td>0</td>\n      <td>0</td>\n      <td>1</td>\n      <td>0</td>\n      <td>0</td>\n      <td>1</td>\n      <td>0</td>\n      <td>0</td>\n      <td>1</td>\n      <td>0</td>\n      <td>0</td>\n      <td>1</td>\n      <td>0</td>\n      <td>0</td>\n      <td>1</td>\n      <td>0</td>\n      <td>0</td>\n      <td>0</td>\n      <td>1</td>\n      <td>0</td>\n      <td>0</td>\n      <td>0</td>\n      <td>0</td>\n      <td>0</td>\n      <td>1</td>\n      <td>0</td>\n      <td>0</td>\n      <td>1</td>\n      <td>0</td>\n      <td>0</td>\n      <td>1</td>\n      <td>0</td>\n      <td>0</td>\n      <td>0</td>\n      <td>0</td>\n      <td>0</td>\n      <td>1</td>\n      <td>0</td>\n      <td>0</td>\n      <td>0</td>\n      <td>0</td>\n      <td>1</td>\n      <td>0</td>\n      <td>0</td>\n      <td>0</td>\n      <td>0</td>\n      <td>0</td>\n      <td>0</td>\n      <td>0</td>\n      <td>0</td>\n      <td>0</td>\n      <td>0</td>\n      <td>1</td>\n      <td>0</td>\n      <td>0</td>\n      <td>0</td>\n      <td>1</td>\n      <td>0</td>\n      <td>1</td>\n      <td>0</td>\n      <td>0</td>\n      <td>0</td>\n      <td>0</td>\n      <td>0</td>\n      <td>0</td>\n      <td>0</td>\n      <td>1</td>\n      <td>0</td>\n      <td>0</td>\n      <td>0</td>\n      <td>0</td>\n      <td>0</td>\n      <td>0</td>\n      <td>0</td>\n      <td>0</td>\n      <td>0</td>\n      <td>0</td>\n      <td>0</td>\n      <td>0</td>\n      <td>0</td>\n      <td>0</td>\n      <td>0</td>\n      <td>0</td>\n      <td>0</td>\n      <td>0</td>\n      <td>0</td>\n      <td>0</td>\n      <td>0</td>\n      <td>0</td>\n      <td>0</td>\n      <td>0</td>\n      <td>0</td>\n      <td>0</td>\n      <td>0</td>\n      <td>0</td>\n      <td>0</td>\n      <td>0</td>\n      <td>0</td>\n      <td>0</td>\n      <td>0</td>\n      <td>0</td>\n      <td>0</td>\n      <td>1</td>\n      <td>0</td>\n      <td>0</td>\n      <td>1</td>\n      <td>0</td>\n      <td>0</td>\n      <td>0</td>\n      <td>0</td>\n      <td>0</td>\n      <td>0</td>\n      <td>0</td>\n      <td>0</td>\n      <td>0</td>\n      <td>0</td>\n      <td>0</td>\n      <td>0</td>\n      <td>0</td>\n      <td>0</td>\n      <td>0</td>\n      <td>1</td>\n      <td>0</td>\n      <td>0</td>\n      <td>0</td>\n      <td>0</td>\n      <td>0</td>\n      <td>1</td>\n      <td>0</td>\n      <td>0</td>\n      <td>0</td>\n      <td>0</td>\n      <td>1</td>\n    </tr>\n    <tr>\n      <th>...</th>\n      <td>...</td>\n      <td>...</td>\n      <td>...</td>\n      <td>...</td>\n      <td>...</td>\n      <td>...</td>\n      <td>...</td>\n      <td>...</td>\n      <td>...</td>\n      <td>...</td>\n      <td>...</td>\n      <td>...</td>\n      <td>...</td>\n      <td>...</td>\n      <td>...</td>\n      <td>...</td>\n      <td>...</td>\n      <td>...</td>\n      <td>...</td>\n      <td>...</td>\n      <td>...</td>\n      <td>...</td>\n      <td>...</td>\n      <td>...</td>\n      <td>...</td>\n      <td>...</td>\n      <td>...</td>\n      <td>...</td>\n      <td>...</td>\n      <td>...</td>\n      <td>...</td>\n      <td>...</td>\n      <td>...</td>\n      <td>...</td>\n      <td>...</td>\n      <td>...</td>\n      <td>...</td>\n      <td>...</td>\n      <td>...</td>\n      <td>...</td>\n      <td>...</td>\n      <td>...</td>\n      <td>...</td>\n      <td>...</td>\n      <td>...</td>\n      <td>...</td>\n      <td>...</td>\n      <td>...</td>\n      <td>...</td>\n      <td>...</td>\n      <td>...</td>\n      <td>...</td>\n      <td>...</td>\n      <td>...</td>\n      <td>...</td>\n      <td>...</td>\n      <td>...</td>\n      <td>...</td>\n      <td>...</td>\n      <td>...</td>\n      <td>...</td>\n      <td>...</td>\n      <td>...</td>\n      <td>...</td>\n      <td>...</td>\n      <td>...</td>\n      <td>...</td>\n      <td>...</td>\n      <td>...</td>\n      <td>...</td>\n      <td>...</td>\n      <td>...</td>\n      <td>...</td>\n      <td>...</td>\n      <td>...</td>\n      <td>...</td>\n      <td>...</td>\n      <td>...</td>\n      <td>...</td>\n      <td>...</td>\n      <td>...</td>\n      <td>...</td>\n      <td>...</td>\n      <td>...</td>\n      <td>...</td>\n      <td>...</td>\n      <td>...</td>\n      <td>...</td>\n      <td>...</td>\n      <td>...</td>\n      <td>...</td>\n      <td>...</td>\n      <td>...</td>\n      <td>...</td>\n      <td>...</td>\n      <td>...</td>\n      <td>...</td>\n      <td>...</td>\n      <td>...</td>\n      <td>...</td>\n      <td>...</td>\n      <td>...</td>\n      <td>...</td>\n      <td>...</td>\n      <td>...</td>\n      <td>...</td>\n      <td>...</td>\n      <td>...</td>\n      <td>...</td>\n      <td>...</td>\n      <td>...</td>\n      <td>...</td>\n      <td>...</td>\n      <td>...</td>\n      <td>...</td>\n      <td>...</td>\n      <td>...</td>\n      <td>...</td>\n      <td>...</td>\n      <td>...</td>\n      <td>...</td>\n      <td>...</td>\n      <td>...</td>\n      <td>...</td>\n      <td>...</td>\n      <td>...</td>\n      <td>...</td>\n      <td>...</td>\n      <td>...</td>\n      <td>...</td>\n      <td>...</td>\n      <td>...</td>\n      <td>...</td>\n      <td>...</td>\n      <td>...</td>\n      <td>...</td>\n      <td>...</td>\n      <td>...</td>\n      <td>...</td>\n      <td>...</td>\n      <td>...</td>\n      <td>...</td>\n      <td>...</td>\n      <td>...</td>\n      <td>...</td>\n      <td>...</td>\n      <td>...</td>\n      <td>...</td>\n      <td>...</td>\n      <td>...</td>\n      <td>...</td>\n      <td>...</td>\n      <td>...</td>\n      <td>...</td>\n      <td>...</td>\n      <td>...</td>\n      <td>...</td>\n      <td>...</td>\n      <td>...</td>\n      <td>...</td>\n      <td>...</td>\n      <td>...</td>\n      <td>...</td>\n      <td>...</td>\n      <td>...</td>\n      <td>...</td>\n      <td>...</td>\n      <td>...</td>\n      <td>...</td>\n      <td>...</td>\n      <td>...</td>\n      <td>...</td>\n      <td>...</td>\n      <td>...</td>\n      <td>...</td>\n      <td>...</td>\n      <td>...</td>\n      <td>...</td>\n      <td>...</td>\n      <td>...</td>\n      <td>...</td>\n      <td>...</td>\n      <td>...</td>\n      <td>...</td>\n      <td>...</td>\n      <td>...</td>\n      <td>...</td>\n      <td>...</td>\n      <td>...</td>\n    </tr>\n    <tr>\n      <th>461038</th>\n      <td>0.000000</td>\n      <td>0</td>\n      <td>0</td>\n      <td>0</td>\n      <td>1</td>\n      <td>60</td>\n      <td>0</td>\n      <td>0</td>\n      <td>0</td>\n      <td>0</td>\n      <td>1</td>\n      <td>xss</td>\n      <td>0</td>\n      <td>1</td>\n      <td>0</td>\n      <td>1</td>\n      <td>0</td>\n      <td>0</td>\n      <td>0</td>\n      <td>0</td>\n      <td>0</td>\n      <td>0</td>\n      <td>0</td>\n      <td>0</td>\n      <td>0</td>\n      <td>0</td>\n      <td>0</td>\n      <td>0</td>\n      <td>0</td>\n      <td>0</td>\n      <td>0</td>\n      <td>1</td>\n      <td>0</td>\n      <td>0</td>\n      <td>0</td>\n      <td>0</td>\n      <td>0</td>\n      <td>0</td>\n      <td>1</td>\n      <td>0</td>\n      <td>0</td>\n      <td>1</td>\n      <td>0</td>\n      <td>0</td>\n      <td>0</td>\n      <td>0</td>\n      <td>0</td>\n      <td>0</td>\n      <td>0</td>\n      <td>0</td>\n      <td>0</td>\n      <td>0</td>\n      <td>0</td>\n      <td>1</td>\n      <td>0</td>\n      <td>0</td>\n      <td>0</td>\n      <td>0</td>\n      <td>1</td>\n      <td>0</td>\n      <td>0</td>\n      <td>1</td>\n      <td>0</td>\n      <td>0</td>\n      <td>1</td>\n      <td>0</td>\n      <td>0</td>\n      <td>1</td>\n      <td>0</td>\n      <td>0</td>\n      <td>1</td>\n      <td>0</td>\n      <td>0</td>\n      <td>0</td>\n      <td>1</td>\n      <td>0</td>\n      <td>0</td>\n      <td>0</td>\n      <td>0</td>\n      <td>0</td>\n      <td>1</td>\n      <td>0</td>\n      <td>0</td>\n      <td>1</td>\n      <td>0</td>\n      <td>0</td>\n      <td>1</td>\n      <td>0</td>\n      <td>0</td>\n      <td>0</td>\n      <td>0</td>\n      <td>0</td>\n      <td>1</td>\n      <td>0</td>\n      <td>0</td>\n      <td>0</td>\n      <td>0</td>\n      <td>1</td>\n      <td>0</td>\n      <td>0</td>\n      <td>0</td>\n      <td>0</td>\n      <td>0</td>\n      <td>0</td>\n      <td>0</td>\n      <td>0</td>\n      <td>0</td>\n      <td>0</td>\n      <td>1</td>\n      <td>0</td>\n      <td>0</td>\n      <td>0</td>\n      <td>1</td>\n      <td>0</td>\n      <td>1</td>\n      <td>0</td>\n      <td>0</td>\n      <td>0</td>\n      <td>0</td>\n      <td>0</td>\n      <td>0</td>\n      <td>0</td>\n      <td>1</td>\n      <td>0</td>\n      <td>0</td>\n      <td>0</td>\n      <td>0</td>\n      <td>0</td>\n      <td>0</td>\n      <td>0</td>\n      <td>0</td>\n      <td>0</td>\n      <td>0</td>\n      <td>0</td>\n      <td>0</td>\n      <td>0</td>\n      <td>0</td>\n      <td>0</td>\n      <td>0</td>\n      <td>0</td>\n      <td>0</td>\n      <td>0</td>\n      <td>0</td>\n      <td>0</td>\n      <td>0</td>\n      <td>0</td>\n      <td>0</td>\n      <td>0</td>\n      <td>0</td>\n      <td>0</td>\n      <td>0</td>\n      <td>0</td>\n      <td>0</td>\n      <td>0</td>\n      <td>0</td>\n      <td>0</td>\n      <td>0</td>\n      <td>0</td>\n      <td>1</td>\n      <td>0</td>\n      <td>0</td>\n      <td>1</td>\n      <td>0</td>\n      <td>0</td>\n      <td>0</td>\n      <td>0</td>\n      <td>0</td>\n      <td>0</td>\n      <td>0</td>\n      <td>0</td>\n      <td>0</td>\n      <td>1</td>\n      <td>0</td>\n      <td>0</td>\n      <td>0</td>\n      <td>0</td>\n      <td>0</td>\n      <td>0</td>\n      <td>0</td>\n      <td>0</td>\n      <td>0</td>\n      <td>0</td>\n      <td>0</td>\n      <td>1</td>\n      <td>0</td>\n      <td>0</td>\n      <td>0</td>\n      <td>1</td>\n      <td>0</td>\n    </tr>\n    <tr>\n      <th>461039</th>\n      <td>0.000000</td>\n      <td>0</td>\n      <td>0</td>\n      <td>0</td>\n      <td>0</td>\n      <td>0</td>\n      <td>1</td>\n      <td>103</td>\n      <td>0</td>\n      <td>0</td>\n      <td>1</td>\n      <td>ransomware</td>\n      <td>0</td>\n      <td>1</td>\n      <td>0</td>\n      <td>1</td>\n      <td>0</td>\n      <td>0</td>\n      <td>0</td>\n      <td>0</td>\n      <td>0</td>\n      <td>0</td>\n      <td>0</td>\n      <td>0</td>\n      <td>0</td>\n      <td>1</td>\n      <td>0</td>\n      <td>0</td>\n      <td>0</td>\n      <td>0</td>\n      <td>0</td>\n      <td>0</td>\n      <td>0</td>\n      <td>0</td>\n      <td>0</td>\n      <td>0</td>\n      <td>0</td>\n      <td>0</td>\n      <td>1</td>\n      <td>0</td>\n      <td>0</td>\n      <td>1</td>\n      <td>0</td>\n      <td>0</td>\n      <td>0</td>\n      <td>0</td>\n      <td>0</td>\n      <td>0</td>\n      <td>0</td>\n      <td>0</td>\n      <td>0</td>\n      <td>0</td>\n      <td>0</td>\n      <td>1</td>\n      <td>0</td>\n      <td>0</td>\n      <td>0</td>\n      <td>0</td>\n      <td>1</td>\n      <td>0</td>\n      <td>0</td>\n      <td>1</td>\n      <td>0</td>\n      <td>0</td>\n      <td>1</td>\n      <td>0</td>\n      <td>0</td>\n      <td>1</td>\n      <td>0</td>\n      <td>0</td>\n      <td>1</td>\n      <td>0</td>\n      <td>0</td>\n      <td>0</td>\n      <td>1</td>\n      <td>0</td>\n      <td>0</td>\n      <td>0</td>\n      <td>0</td>\n      <td>0</td>\n      <td>1</td>\n      <td>0</td>\n      <td>0</td>\n      <td>1</td>\n      <td>0</td>\n      <td>0</td>\n      <td>1</td>\n      <td>0</td>\n      <td>0</td>\n      <td>0</td>\n      <td>0</td>\n      <td>0</td>\n      <td>1</td>\n      <td>0</td>\n      <td>0</td>\n      <td>0</td>\n      <td>0</td>\n      <td>1</td>\n      <td>0</td>\n      <td>0</td>\n      <td>0</td>\n      <td>0</td>\n      <td>0</td>\n      <td>0</td>\n      <td>0</td>\n      <td>0</td>\n      <td>0</td>\n      <td>0</td>\n      <td>1</td>\n      <td>0</td>\n      <td>0</td>\n      <td>0</td>\n      <td>1</td>\n      <td>0</td>\n      <td>1</td>\n      <td>0</td>\n      <td>0</td>\n      <td>0</td>\n      <td>0</td>\n      <td>0</td>\n      <td>0</td>\n      <td>0</td>\n      <td>1</td>\n      <td>0</td>\n      <td>0</td>\n      <td>0</td>\n      <td>0</td>\n      <td>0</td>\n      <td>0</td>\n      <td>0</td>\n      <td>0</td>\n      <td>0</td>\n      <td>0</td>\n      <td>0</td>\n      <td>0</td>\n      <td>0</td>\n      <td>0</td>\n      <td>0</td>\n      <td>0</td>\n      <td>0</td>\n      <td>0</td>\n      <td>0</td>\n      <td>0</td>\n      <td>0</td>\n      <td>0</td>\n      <td>0</td>\n      <td>0</td>\n      <td>0</td>\n      <td>0</td>\n      <td>0</td>\n      <td>0</td>\n      <td>0</td>\n      <td>0</td>\n      <td>0</td>\n      <td>0</td>\n      <td>0</td>\n      <td>0</td>\n      <td>0</td>\n      <td>1</td>\n      <td>0</td>\n      <td>0</td>\n      <td>1</td>\n      <td>0</td>\n      <td>0</td>\n      <td>0</td>\n      <td>0</td>\n      <td>0</td>\n      <td>0</td>\n      <td>0</td>\n      <td>0</td>\n      <td>0</td>\n      <td>1</td>\n      <td>0</td>\n      <td>0</td>\n      <td>0</td>\n      <td>0</td>\n      <td>0</td>\n      <td>0</td>\n      <td>0</td>\n      <td>0</td>\n      <td>0</td>\n      <td>0</td>\n      <td>0</td>\n      <td>1</td>\n      <td>0</td>\n      <td>0</td>\n      <td>0</td>\n      <td>1</td>\n      <td>0</td>\n    </tr>\n    <tr>\n      <th>461040</th>\n      <td>290.371539</td>\n      <td>101568</td>\n      <td>2592</td>\n      <td>0</td>\n      <td>108</td>\n      <td>108064</td>\n      <td>31</td>\n      <td>3832</td>\n      <td>0</td>\n      <td>0</td>\n      <td>1</td>\n      <td>backdoor</td>\n      <td>0</td>\n      <td>1</td>\n      <td>0</td>\n      <td>1</td>\n      <td>0</td>\n      <td>0</td>\n      <td>0</td>\n      <td>0</td>\n      <td>0</td>\n      <td>0</td>\n      <td>0</td>\n      <td>0</td>\n      <td>0</td>\n      <td>1</td>\n      <td>0</td>\n      <td>0</td>\n      <td>0</td>\n      <td>0</td>\n      <td>0</td>\n      <td>0</td>\n      <td>0</td>\n      <td>0</td>\n      <td>0</td>\n      <td>0</td>\n      <td>0</td>\n      <td>0</td>\n      <td>1</td>\n      <td>0</td>\n      <td>0</td>\n      <td>1</td>\n      <td>0</td>\n      <td>0</td>\n      <td>0</td>\n      <td>0</td>\n      <td>0</td>\n      <td>0</td>\n      <td>0</td>\n      <td>0</td>\n      <td>0</td>\n      <td>0</td>\n      <td>0</td>\n      <td>1</td>\n      <td>0</td>\n      <td>0</td>\n      <td>0</td>\n      <td>0</td>\n      <td>1</td>\n      <td>0</td>\n      <td>0</td>\n      <td>1</td>\n      <td>0</td>\n      <td>0</td>\n      <td>1</td>\n      <td>0</td>\n      <td>0</td>\n      <td>1</td>\n      <td>0</td>\n      <td>0</td>\n      <td>1</td>\n      <td>0</td>\n      <td>0</td>\n      <td>0</td>\n      <td>1</td>\n      <td>0</td>\n      <td>0</td>\n      <td>0</td>\n      <td>0</td>\n      <td>0</td>\n      <td>1</td>\n      <td>0</td>\n      <td>0</td>\n      <td>1</td>\n      <td>0</td>\n      <td>0</td>\n      <td>1</td>\n      <td>0</td>\n      <td>0</td>\n      <td>0</td>\n      <td>0</td>\n      <td>0</td>\n      <td>1</td>\n      <td>0</td>\n      <td>0</td>\n      <td>0</td>\n      <td>0</td>\n      <td>1</td>\n      <td>0</td>\n      <td>0</td>\n      <td>0</td>\n      <td>0</td>\n      <td>0</td>\n      <td>0</td>\n      <td>0</td>\n      <td>0</td>\n      <td>0</td>\n      <td>0</td>\n      <td>1</td>\n      <td>0</td>\n      <td>0</td>\n      <td>0</td>\n      <td>1</td>\n      <td>0</td>\n      <td>1</td>\n      <td>0</td>\n      <td>0</td>\n      <td>0</td>\n      <td>0</td>\n      <td>0</td>\n      <td>0</td>\n      <td>0</td>\n      <td>1</td>\n      <td>0</td>\n      <td>0</td>\n      <td>0</td>\n      <td>0</td>\n      <td>0</td>\n      <td>0</td>\n      <td>0</td>\n      <td>0</td>\n      <td>0</td>\n      <td>0</td>\n      <td>0</td>\n      <td>0</td>\n      <td>0</td>\n      <td>0</td>\n      <td>0</td>\n      <td>0</td>\n      <td>0</td>\n      <td>0</td>\n      <td>0</td>\n      <td>0</td>\n      <td>0</td>\n      <td>0</td>\n      <td>0</td>\n      <td>0</td>\n      <td>0</td>\n      <td>0</td>\n      <td>0</td>\n      <td>0</td>\n      <td>0</td>\n      <td>0</td>\n      <td>0</td>\n      <td>0</td>\n      <td>0</td>\n      <td>0</td>\n      <td>0</td>\n      <td>1</td>\n      <td>0</td>\n      <td>0</td>\n      <td>1</td>\n      <td>0</td>\n      <td>0</td>\n      <td>0</td>\n      <td>0</td>\n      <td>0</td>\n      <td>0</td>\n      <td>0</td>\n      <td>0</td>\n      <td>0</td>\n      <td>1</td>\n      <td>0</td>\n      <td>0</td>\n      <td>0</td>\n      <td>0</td>\n      <td>0</td>\n      <td>0</td>\n      <td>0</td>\n      <td>0</td>\n      <td>0</td>\n      <td>0</td>\n      <td>0</td>\n      <td>1</td>\n      <td>0</td>\n      <td>0</td>\n      <td>0</td>\n      <td>1</td>\n      <td>0</td>\n    </tr>\n    <tr>\n      <th>461041</th>\n      <td>23.190902</td>\n      <td>32</td>\n      <td>31</td>\n      <td>0</td>\n      <td>8</td>\n      <td>411</td>\n      <td>7</td>\n      <td>395</td>\n      <td>0</td>\n      <td>0</td>\n      <td>1</td>\n      <td>mitm</td>\n      <td>0</td>\n      <td>1</td>\n      <td>0</td>\n      <td>1</td>\n      <td>0</td>\n      <td>0</td>\n      <td>0</td>\n      <td>0</td>\n      <td>0</td>\n      <td>0</td>\n      <td>0</td>\n      <td>0</td>\n      <td>0</td>\n      <td>0</td>\n      <td>0</td>\n      <td>0</td>\n      <td>0</td>\n      <td>0</td>\n      <td>0</td>\n      <td>0</td>\n      <td>0</td>\n      <td>0</td>\n      <td>0</td>\n      <td>1</td>\n      <td>0</td>\n      <td>0</td>\n      <td>1</td>\n      <td>0</td>\n      <td>0</td>\n      <td>1</td>\n      <td>0</td>\n      <td>0</td>\n      <td>0</td>\n      <td>0</td>\n      <td>0</td>\n      <td>0</td>\n      <td>0</td>\n      <td>0</td>\n      <td>0</td>\n      <td>0</td>\n      <td>0</td>\n      <td>1</td>\n      <td>0</td>\n      <td>0</td>\n      <td>0</td>\n      <td>0</td>\n      <td>1</td>\n      <td>0</td>\n      <td>0</td>\n      <td>1</td>\n      <td>0</td>\n      <td>0</td>\n      <td>1</td>\n      <td>0</td>\n      <td>0</td>\n      <td>1</td>\n      <td>0</td>\n      <td>0</td>\n      <td>1</td>\n      <td>0</td>\n      <td>0</td>\n      <td>0</td>\n      <td>1</td>\n      <td>0</td>\n      <td>0</td>\n      <td>0</td>\n      <td>0</td>\n      <td>0</td>\n      <td>1</td>\n      <td>0</td>\n      <td>0</td>\n      <td>1</td>\n      <td>0</td>\n      <td>0</td>\n      <td>1</td>\n      <td>0</td>\n      <td>0</td>\n      <td>0</td>\n      <td>0</td>\n      <td>0</td>\n      <td>1</td>\n      <td>0</td>\n      <td>0</td>\n      <td>0</td>\n      <td>0</td>\n      <td>1</td>\n      <td>0</td>\n      <td>0</td>\n      <td>0</td>\n      <td>0</td>\n      <td>0</td>\n      <td>0</td>\n      <td>0</td>\n      <td>0</td>\n      <td>0</td>\n      <td>0</td>\n      <td>1</td>\n      <td>0</td>\n      <td>0</td>\n      <td>0</td>\n      <td>1</td>\n      <td>0</td>\n      <td>1</td>\n      <td>0</td>\n      <td>0</td>\n      <td>0</td>\n      <td>0</td>\n      <td>0</td>\n      <td>0</td>\n      <td>0</td>\n      <td>1</td>\n      <td>0</td>\n      <td>0</td>\n      <td>0</td>\n      <td>0</td>\n      <td>0</td>\n      <td>0</td>\n      <td>0</td>\n      <td>0</td>\n      <td>0</td>\n      <td>0</td>\n      <td>0</td>\n      <td>0</td>\n      <td>0</td>\n      <td>0</td>\n      <td>0</td>\n      <td>0</td>\n      <td>0</td>\n      <td>0</td>\n      <td>0</td>\n      <td>0</td>\n      <td>0</td>\n      <td>0</td>\n      <td>0</td>\n      <td>0</td>\n      <td>0</td>\n      <td>0</td>\n      <td>0</td>\n      <td>0</td>\n      <td>0</td>\n      <td>0</td>\n      <td>0</td>\n      <td>0</td>\n      <td>0</td>\n      <td>0</td>\n      <td>0</td>\n      <td>1</td>\n      <td>0</td>\n      <td>0</td>\n      <td>1</td>\n      <td>0</td>\n      <td>0</td>\n      <td>0</td>\n      <td>0</td>\n      <td>0</td>\n      <td>0</td>\n      <td>0</td>\n      <td>0</td>\n      <td>0</td>\n      <td>1</td>\n      <td>0</td>\n      <td>0</td>\n      <td>0</td>\n      <td>0</td>\n      <td>0</td>\n      <td>0</td>\n      <td>0</td>\n      <td>0</td>\n      <td>0</td>\n      <td>0</td>\n      <td>0</td>\n      <td>1</td>\n      <td>0</td>\n      <td>0</td>\n      <td>0</td>\n      <td>1</td>\n      <td>0</td>\n    </tr>\n    <tr>\n      <th>461042</th>\n      <td>22.872314</td>\n      <td>32</td>\n      <td>31</td>\n      <td>0</td>\n      <td>8</td>\n      <td>411</td>\n      <td>6</td>\n      <td>343</td>\n      <td>0</td>\n      <td>0</td>\n      <td>1</td>\n      <td>mitm</td>\n      <td>0</td>\n      <td>1</td>\n      <td>0</td>\n      <td>1</td>\n      <td>0</td>\n      <td>0</td>\n      <td>0</td>\n      <td>0</td>\n      <td>0</td>\n      <td>0</td>\n      <td>0</td>\n      <td>0</td>\n      <td>0</td>\n      <td>0</td>\n      <td>0</td>\n      <td>0</td>\n      <td>0</td>\n      <td>0</td>\n      <td>0</td>\n      <td>0</td>\n      <td>0</td>\n      <td>0</td>\n      <td>0</td>\n      <td>1</td>\n      <td>0</td>\n      <td>0</td>\n      <td>1</td>\n      <td>0</td>\n      <td>0</td>\n      <td>1</td>\n      <td>0</td>\n      <td>0</td>\n      <td>0</td>\n      <td>0</td>\n      <td>0</td>\n      <td>0</td>\n      <td>0</td>\n      <td>0</td>\n      <td>0</td>\n      <td>0</td>\n      <td>0</td>\n      <td>1</td>\n      <td>0</td>\n      <td>0</td>\n      <td>0</td>\n      <td>0</td>\n      <td>1</td>\n      <td>0</td>\n      <td>0</td>\n      <td>1</td>\n      <td>0</td>\n      <td>0</td>\n      <td>1</td>\n      <td>0</td>\n      <td>0</td>\n      <td>1</td>\n      <td>0</td>\n      <td>0</td>\n      <td>1</td>\n      <td>0</td>\n      <td>0</td>\n      <td>0</td>\n      <td>1</td>\n      <td>0</td>\n      <td>0</td>\n      <td>0</td>\n      <td>0</td>\n      <td>0</td>\n      <td>1</td>\n      <td>0</td>\n      <td>0</td>\n      <td>1</td>\n      <td>0</td>\n      <td>0</td>\n      <td>1</td>\n      <td>0</td>\n      <td>0</td>\n      <td>0</td>\n      <td>0</td>\n      <td>0</td>\n      <td>1</td>\n      <td>0</td>\n      <td>0</td>\n      <td>0</td>\n      <td>0</td>\n      <td>1</td>\n      <td>0</td>\n      <td>0</td>\n      <td>0</td>\n      <td>0</td>\n      <td>0</td>\n      <td>0</td>\n      <td>0</td>\n      <td>0</td>\n      <td>0</td>\n      <td>0</td>\n      <td>1</td>\n      <td>0</td>\n      <td>0</td>\n      <td>0</td>\n      <td>1</td>\n      <td>0</td>\n      <td>1</td>\n      <td>0</td>\n      <td>0</td>\n      <td>0</td>\n      <td>0</td>\n      <td>0</td>\n      <td>0</td>\n      <td>0</td>\n      <td>1</td>\n      <td>0</td>\n      <td>0</td>\n      <td>0</td>\n      <td>0</td>\n      <td>0</td>\n      <td>0</td>\n      <td>0</td>\n      <td>0</td>\n      <td>0</td>\n      <td>0</td>\n      <td>0</td>\n      <td>0</td>\n      <td>0</td>\n      <td>0</td>\n      <td>0</td>\n      <td>0</td>\n      <td>0</td>\n      <td>0</td>\n      <td>0</td>\n      <td>0</td>\n      <td>0</td>\n      <td>0</td>\n      <td>0</td>\n      <td>0</td>\n      <td>0</td>\n      <td>0</td>\n      <td>0</td>\n      <td>0</td>\n      <td>0</td>\n      <td>0</td>\n      <td>0</td>\n      <td>0</td>\n      <td>0</td>\n      <td>0</td>\n      <td>0</td>\n      <td>1</td>\n      <td>0</td>\n      <td>0</td>\n      <td>1</td>\n      <td>0</td>\n      <td>0</td>\n      <td>0</td>\n      <td>0</td>\n      <td>0</td>\n      <td>0</td>\n      <td>0</td>\n      <td>0</td>\n      <td>0</td>\n      <td>1</td>\n      <td>0</td>\n      <td>0</td>\n      <td>0</td>\n      <td>0</td>\n      <td>0</td>\n      <td>0</td>\n      <td>0</td>\n      <td>0</td>\n      <td>0</td>\n      <td>0</td>\n      <td>0</td>\n      <td>1</td>\n      <td>0</td>\n      <td>0</td>\n      <td>0</td>\n      <td>1</td>\n      <td>0</td>\n    </tr>\n  </tbody>\n</table>\n<p>461043 rows × 189 columns</p>\n</div>"
     },
     "execution_count": 6,
     "metadata": {},
     "output_type": "execute_result"
    }
   ],
   "source": [
    "df"
   ],
   "metadata": {
    "collapsed": false,
    "pycharm": {
     "name": "#%%\n"
    }
   }
  },
  {
   "cell_type": "code",
   "execution_count": 7,
   "outputs": [
    {
     "name": "stdout",
     "output_type": "stream",
     "text": [
      "['duration', 'src_bytes', 'dst_bytes', 'missed_bytes', 'src_pkts', 'src_ip_bytes', 'dst_pkts', 'dst_ip_bytes', 'http_request_body_len', 'http_response_body_len', 'label', 'type', 'proto_icmp', 'proto_tcp', 'proto_udp', 'service_-', 'service_dce_rpc', 'service_dhcp', 'service_dns', 'service_ftp', 'service_gssapi', 'service_http', 'service_smb', 'service_smb;gssapi', 'service_ssl', 'conn_state_OTH', 'conn_state_REJ', 'conn_state_RSTO', 'conn_state_RSTOS0', 'conn_state_RSTR', 'conn_state_RSTRH', 'conn_state_S0', 'conn_state_S1', 'conn_state_S2', 'conn_state_S3', 'conn_state_SF', 'conn_state_SH', 'conn_state_SHR', 'dns_qclass_0', 'dns_qclass_1', 'dns_qclass_32769', 'dns_qtype_0', 'dns_qtype_1', 'dns_qtype_2', 'dns_qtype_6', 'dns_qtype_12', 'dns_qtype_16', 'dns_qtype_28', 'dns_qtype_32', 'dns_qtype_33', 'dns_qtype_43', 'dns_qtype_48', 'dns_qtype_255', 'dns_rcode_0', 'dns_rcode_1', 'dns_rcode_2', 'dns_rcode_3', 'dns_rcode_5', 'dns_AA_-', 'dns_AA_F', 'dns_AA_T', 'dns_RD_-', 'dns_RD_F', 'dns_RD_T', 'dns_RA_-', 'dns_RA_F', 'dns_RA_T', 'dns_rejected_-', 'dns_rejected_F', 'dns_rejected_T', 'ssl_version_-', 'ssl_version_TLSv10', 'ssl_version_TLSv12', 'ssl_version_TLSv13', 'ssl_cipher_-', 'ssl_cipher_TLS_AES_128_GCM_SHA256', 'ssl_cipher_TLS_ECDHE_ECDSA_WITH_AES_128_GCM_SHA256', 'ssl_cipher_TLS_ECDHE_RSA_WITH_AES_128_GCM_SHA256', 'ssl_cipher_TLS_ECDHE_RSA_WITH_AES_256_CBC_SHA', 'ssl_cipher_TLS_ECDHE_RSA_WITH_AES_256_GCM_SHA384', 'ssl_resumed_-', 'ssl_resumed_F', 'ssl_resumed_T', 'ssl_established_-', 'ssl_established_F', 'ssl_established_T', 'ssl_subject_-', 'ssl_subject_CN=*.events.data.microsoft.com;OU=Microsoft;O=Microsoft Corporation;L=Redmond;ST=WA;C=US', 'ssl_subject_CN=*.wns.windows.com', 'ssl_subject_CN=Mr Shepherd;OU=Security Shepherd Project;O=OWASP;L=Dublin;ST=Ireland;C=IE', 'ssl_subject_CN=settings-win.data.microsoft.com;OU=WSE;O=Microsoft;L=Redmond;ST=WA;C=US', 'ssl_subject_CN=sls.update.microsoft.com;OU=DSP;O=Microsoft;L=Redmond;ST=WA;C=US', 'ssl_issuer_-', 'ssl_issuer_CN=Microsoft IT TLS CA 5;OU=Microsoft IT;O=Microsoft Corporation;L=Redmond;ST=Washington;C=US', 'ssl_issuer_CN=Microsoft Secure Server CA 2011;O=Microsoft Corporation;L=Redmond;ST=Washington;C=US', 'ssl_issuer_CN=Microsoft Update Secure Server CA 2.1;O=Microsoft Corporation;L=Redmond;ST=Washington;C=US', 'ssl_issuer_CN=Mr Shepherd;OU=Security Shepherd Project;O=OWASP;L=Dublin;ST=Ireland;C=IE', 'http_trans_depth_-', 'http_trans_depth_1', 'http_trans_depth_10', 'http_trans_depth_2', 'http_trans_depth_3', 'http_trans_depth_4', 'http_trans_depth_5', 'http_trans_depth_6', 'http_trans_depth_7', 'http_trans_depth_8', 'http_trans_depth_9', 'http_method_-', 'http_method_GET', 'http_method_HEAD', 'http_method_POST', 'http_version_-', 'http_version_1.1', 'http_status_code_0', 'http_status_code_101', 'http_status_code_200', 'http_status_code_206', 'http_status_code_302', 'http_status_code_304', 'http_status_code_403', 'http_status_code_404', 'http_user_agent_-', 'http_user_agent_Comos/0.9_(robot@xyleme.com)', 'http_user_agent_DAFUPnP', 'http_user_agent_DataCha0s/2.0', 'http_user_agent_Debian APT-HTTP/1.3 (1.6.6)', 'http_user_agent_Debian APT-HTTP/1.3 (1.7.4)', 'http_user_agent_DonutP; Windows98SE', 'http_user_agent_MICROSOFT_DEVICE_METADATA_RETRIEVAL_CLIENT', 'http_user_agent_Microsoft BITS/7.8', 'http_user_agent_Microsoft NCSI', 'http_user_agent_Microsoft-CryptoAPI/10.0', 'http_user_agent_Microsoft-Delivery-Optimization/10.0', 'http_user_agent_Microsoft-WNS/10.0', 'http_user_agent_Microsoft-Windows/10.0 UPnP/1.0', 'http_user_agent_Microsoft-Windows/10.0 UPnP/1.0 Microsoft-DLNA DLNADOC/1.50', 'http_user_agent_Mozilla/1.22 (compatible; MSIE 10.0; Windows 3.1)', 'http_user_agent_Mozilla/4.08 [en] (WinNT; I ;Nav)', 'http_user_agent_Mozilla/5.0 (Macintosh; Intel Mac OS X 10.11; rv:49.0) Gecko/20100101 Firefox/49.0', 'http_user_agent_Mozilla/5.0 (Macintosh; Intel Mac OS X 10_12_0) AppleWebKit/537.36 (KHTML; like Gecko) Chrome/53.0.2785.143 Safari/537.36', 'http_user_agent_Mozilla/5.0 (SMART-TV; Linux; Tizen 2.3) AppleWebkit/538.1 (KHTML; like Gecko) SamsungBrowser/1.0 Safari/538.1', 'http_user_agent_Mozilla/5.0 (Windows NT 10.0; Win64; x64) AppleWebKit/537.36 (KHTML; like Gecko) Chrome/64.0.3282.140 Safari/537.36 Edge/18.17763', 'http_user_agent_Mozilla/5.0 (Windows NT 6.1; WOW64; rv:49.0) Gecko/20100101 Firefox/49.0', 'http_user_agent_Mozilla/5.0 (Windows NT 6.1; Win64; x64; rv:5.0) Whistler/20110021 myibrow/5.0.0.0', 'http_user_agent_Mozilla/5.0 (Windows NT 6.1; rv:21.0) Gecko/20130401 Firefox/21.0', 'http_user_agent_Mozilla/5.0 (Windows NT 6.3; WOW64) AppleWebKit/537.36 (KHTML; like Gecko) Chrome/53.0.2785.143 Safari/537.36', 'http_user_agent_Mozilla/5.0 (Windows NT 6.3; rv:36.0) Gecko/20100101 Firefox/36.0', 'http_user_agent_Mozilla/5.0 (X11; Linux x86_64) AppleWebKit/534.30 (KHTML; like Gecko) Version/4.0 Oupeng/10.2.1.86910 Safari/534.30', 'http_user_agent_Mozilla/5.0 (X11; U; Linux i686; de-DE; rv:1.6) Gecko/20040207 Firefox/0.8', 'http_user_agent_Mozilla/5.0 (X11; Ubuntu; Linux x86_64; rv:66.0) Gecko/20100101 Firefox/66.0', 'http_user_agent_Mozilla/5.0 (compatible; MSIE 10.0; Windows NT 6.1; Trident/4.0; InfoPath.2; SV1; .NET CLR 2.0.50727; WOW64)', 'http_user_agent_Mozilla/5.0 (iPhone; U; CPU iOS 2_0 like Mac OS X; en-us)', 'http_user_agent_Ruby', 'http_user_agent_User-Agent: Microsoft-DLNA DLNADOC/1.50', 'http_user_agent_Windows-Update-Agent/10.0.10011.16384 Client-Protocol/1.91', 'http_user_agent_hacking', 'http_user_agent_sqlmap/1.2#stable (http://sqlmap.org)', 'http_orig_mime_types_-', 'http_orig_mime_types_application/soap+xml', 'http_orig_mime_types_application/xml', 'http_resp_mime_types_-', 'http_resp_mime_types_application/ocsp-response', 'http_resp_mime_types_application/vnd.ms-cab-compressed', 'http_resp_mime_types_application/x-debian-package', 'http_resp_mime_types_application/xml', 'http_resp_mime_types_image/jpeg', 'http_resp_mime_types_image/png', 'http_resp_mime_types_text/html', 'http_resp_mime_types_text/json', 'http_resp_mime_types_text/plain', 'weird_name_-', 'weird_name_DNS_RR_unknown_type', 'weird_name_TCP_ack_underflow_or_misorder', 'weird_name_above_hole_data_without_any_acks', 'weird_name_active_connection_reuse', 'weird_name_bad_TCP_checksum', 'weird_name_bad_UDP_checksum', 'weird_name_connection_originator_SYN_ack', 'weird_name_data_before_established', 'weird_name_dnp3_corrupt_header_checksum', 'weird_name_inappropriate_FIN', 'weird_name_possible_split_routing', 'weird_addl_-', 'weird_addl_43', 'weird_addl_46', 'weird_addl_48', 'weird_notice_-', 'weird_notice_F']\n"
     ]
    }
   ],
   "source": [
    "print(list(df.columns))"
   ],
   "metadata": {
    "collapsed": false,
    "pycharm": {
     "name": "#%%\n"
    }
   }
  },
  {
   "cell_type": "code",
   "execution_count": 8,
   "outputs": [],
   "source": [
    "df = df[['duration', 'src_bytes', 'dst_bytes', 'missed_bytes', 'src_pkts', 'src_ip_bytes', 'dst_pkts', 'dst_ip_bytes', 'http_request_body_len', 'http_response_body_len', 'label', 'proto_icmp', 'proto_tcp', 'proto_udp', 'service_-', 'service_dce_rpc', 'service_dhcp', 'service_dns', 'service_ftp', 'service_gssapi', 'service_http', 'service_smb', 'service_smb;gssapi', 'service_ssl', 'conn_state_OTH', 'conn_state_REJ', 'conn_state_RSTO', 'conn_state_RSTOS0', 'conn_state_RSTR', 'conn_state_RSTRH', 'conn_state_S0', 'conn_state_S1', 'conn_state_S2', 'conn_state_S3', 'conn_state_SF', 'conn_state_SH', 'conn_state_SHR', 'dns_qclass_0', 'dns_qclass_1', 'dns_qclass_32769', 'dns_qtype_0', 'dns_qtype_1', 'dns_qtype_2', 'dns_qtype_6', 'dns_qtype_12', 'dns_qtype_16', 'dns_qtype_28', 'dns_qtype_32', 'dns_qtype_33', 'dns_qtype_43', 'dns_qtype_48', 'dns_qtype_255', 'dns_rcode_0', 'dns_rcode_1', 'dns_rcode_2', 'dns_rcode_3', 'dns_rcode_5', 'dns_AA_-', 'dns_AA_F', 'dns_AA_T', 'dns_RD_-', 'dns_RD_F', 'dns_RD_T', 'dns_RA_-', 'dns_RA_F', 'dns_RA_T', 'dns_rejected_-', 'dns_rejected_F', 'dns_rejected_T', 'ssl_version_-', 'ssl_version_TLSv10', 'ssl_version_TLSv12', 'ssl_version_TLSv13', 'ssl_cipher_-', 'ssl_cipher_TLS_AES_128_GCM_SHA256', 'ssl_cipher_TLS_ECDHE_ECDSA_WITH_AES_128_GCM_SHA256', 'ssl_cipher_TLS_ECDHE_RSA_WITH_AES_128_GCM_SHA256', 'ssl_cipher_TLS_ECDHE_RSA_WITH_AES_256_CBC_SHA', 'ssl_cipher_TLS_ECDHE_RSA_WITH_AES_256_GCM_SHA384', 'ssl_resumed_-', 'ssl_resumed_F', 'ssl_resumed_T', 'ssl_established_-', 'ssl_established_F', 'ssl_established_T', 'ssl_subject_-', 'ssl_subject_CN=*.events.data.microsoft.com;OU=Microsoft;O=Microsoft Corporation;L=Redmond;ST=WA;C=US', 'ssl_subject_CN=*.wns.windows.com', 'ssl_subject_CN=Mr Shepherd;OU=Security Shepherd Project;O=OWASP;L=Dublin;ST=Ireland;C=IE', 'ssl_subject_CN=settings-win.data.microsoft.com;OU=WSE;O=Microsoft;L=Redmond;ST=WA;C=US', 'ssl_subject_CN=sls.update.microsoft.com;OU=DSP;O=Microsoft;L=Redmond;ST=WA;C=US', 'ssl_issuer_-', 'ssl_issuer_CN=Microsoft IT TLS CA 5;OU=Microsoft IT;O=Microsoft Corporation;L=Redmond;ST=Washington;C=US', 'ssl_issuer_CN=Microsoft Secure Server CA 2011;O=Microsoft Corporation;L=Redmond;ST=Washington;C=US', 'ssl_issuer_CN=Microsoft Update Secure Server CA 2.1;O=Microsoft Corporation;L=Redmond;ST=Washington;C=US', 'ssl_issuer_CN=Mr Shepherd;OU=Security Shepherd Project;O=OWASP;L=Dublin;ST=Ireland;C=IE', 'http_trans_depth_-', 'http_trans_depth_1', 'http_trans_depth_10', 'http_trans_depth_2', 'http_trans_depth_3', 'http_trans_depth_4', 'http_trans_depth_5', 'http_trans_depth_6', 'http_trans_depth_7', 'http_trans_depth_8', 'http_trans_depth_9', 'http_method_-', 'http_method_GET', 'http_method_HEAD', 'http_method_POST', 'http_version_-', 'http_version_1.1', 'http_status_code_0', 'http_status_code_101', 'http_status_code_200', 'http_status_code_206', 'http_status_code_302', 'http_status_code_304', 'http_status_code_403', 'http_status_code_404', 'http_user_agent_-', 'http_user_agent_Comos/0.9_(robot@xyleme.com)', 'http_user_agent_DAFUPnP', 'http_user_agent_DataCha0s/2.0', 'http_user_agent_Debian APT-HTTP/1.3 (1.6.6)', 'http_user_agent_Debian APT-HTTP/1.3 (1.7.4)', 'http_user_agent_DonutP; Windows98SE', 'http_user_agent_MICROSOFT_DEVICE_METADATA_RETRIEVAL_CLIENT', 'http_user_agent_Microsoft BITS/7.8', 'http_user_agent_Microsoft NCSI', 'http_user_agent_Microsoft-CryptoAPI/10.0', 'http_user_agent_Microsoft-Delivery-Optimization/10.0', 'http_user_agent_Microsoft-WNS/10.0', 'http_user_agent_Microsoft-Windows/10.0 UPnP/1.0', 'http_user_agent_Microsoft-Windows/10.0 UPnP/1.0 Microsoft-DLNA DLNADOC/1.50', 'http_user_agent_Mozilla/1.22 (compatible; MSIE 10.0; Windows 3.1)', 'http_user_agent_Mozilla/4.08 [en] (WinNT; I ;Nav)', 'http_user_agent_Mozilla/5.0 (Macintosh; Intel Mac OS X 10.11; rv:49.0) Gecko/20100101 Firefox/49.0', 'http_user_agent_Mozilla/5.0 (Macintosh; Intel Mac OS X 10_12_0) AppleWebKit/537.36 (KHTML; like Gecko) Chrome/53.0.2785.143 Safari/537.36', 'http_user_agent_Mozilla/5.0 (SMART-TV; Linux; Tizen 2.3) AppleWebkit/538.1 (KHTML; like Gecko) SamsungBrowser/1.0 Safari/538.1', 'http_user_agent_Mozilla/5.0 (Windows NT 10.0; Win64; x64) AppleWebKit/537.36 (KHTML; like Gecko) Chrome/64.0.3282.140 Safari/537.36 Edge/18.17763', 'http_user_agent_Mozilla/5.0 (Windows NT 6.1; WOW64; rv:49.0) Gecko/20100101 Firefox/49.0', 'http_user_agent_Mozilla/5.0 (Windows NT 6.1; Win64; x64; rv:5.0) Whistler/20110021 myibrow/5.0.0.0', 'http_user_agent_Mozilla/5.0 (Windows NT 6.1; rv:21.0) Gecko/20130401 Firefox/21.0', 'http_user_agent_Mozilla/5.0 (Windows NT 6.3; WOW64) AppleWebKit/537.36 (KHTML; like Gecko) Chrome/53.0.2785.143 Safari/537.36', 'http_user_agent_Mozilla/5.0 (Windows NT 6.3; rv:36.0) Gecko/20100101 Firefox/36.0', 'http_user_agent_Mozilla/5.0 (X11; Linux x86_64) AppleWebKit/534.30 (KHTML; like Gecko) Version/4.0 Oupeng/10.2.1.86910 Safari/534.30', 'http_user_agent_Mozilla/5.0 (X11; U; Linux i686; de-DE; rv:1.6) Gecko/20040207 Firefox/0.8', 'http_user_agent_Mozilla/5.0 (X11; Ubuntu; Linux x86_64; rv:66.0) Gecko/20100101 Firefox/66.0', 'http_user_agent_Mozilla/5.0 (compatible; MSIE 10.0; Windows NT 6.1; Trident/4.0; InfoPath.2; SV1; .NET CLR 2.0.50727; WOW64)', 'http_user_agent_Mozilla/5.0 (iPhone; U; CPU iOS 2_0 like Mac OS X; en-us)', 'http_user_agent_Ruby', 'http_user_agent_User-Agent: Microsoft-DLNA DLNADOC/1.50', 'http_user_agent_Windows-Update-Agent/10.0.10011.16384 Client-Protocol/1.91', 'http_user_agent_hacking', 'http_user_agent_sqlmap/1.2#stable (http://sqlmap.org)', 'http_orig_mime_types_-', 'http_orig_mime_types_application/soap+xml', 'http_orig_mime_types_application/xml', 'http_resp_mime_types_-', 'http_resp_mime_types_application/ocsp-response', 'http_resp_mime_types_application/vnd.ms-cab-compressed', 'http_resp_mime_types_application/x-debian-package', 'http_resp_mime_types_application/xml', 'http_resp_mime_types_image/jpeg', 'http_resp_mime_types_image/png', 'http_resp_mime_types_text/html', 'http_resp_mime_types_text/json', 'http_resp_mime_types_text/plain', 'weird_name_-', 'weird_name_DNS_RR_unknown_type', 'weird_name_TCP_ack_underflow_or_misorder', 'weird_name_above_hole_data_without_any_acks', 'weird_name_active_connection_reuse', 'weird_name_bad_TCP_checksum', 'weird_name_bad_UDP_checksum', 'weird_name_connection_originator_SYN_ack', 'weird_name_data_before_established', 'weird_name_dnp3_corrupt_header_checksum', 'weird_name_inappropriate_FIN', 'weird_name_possible_split_routing', 'weird_addl_-', 'weird_addl_43', 'weird_addl_46', 'weird_addl_48', 'weird_notice_-', 'weird_notice_F']]"
   ],
   "metadata": {
    "collapsed": false,
    "pycharm": {
     "name": "#%%\n"
    }
   }
  },
  {
   "cell_type": "code",
   "execution_count": 9,
   "outputs": [],
   "source": [
    "df.to_csv('/media/wuguo-buaa/LENOVO_USB_HDD/PycharmProjects/Anomaly-Detection-IoT23/Models/Data/ToN-iot_all.csv', index=False, encoding='utf-8')"
   ],
   "metadata": {
    "collapsed": false,
    "pycharm": {
     "name": "#%%\n"
    }
   }
  },
  {
   "cell_type": "code",
   "execution_count": 2,
   "outputs": [],
   "source": [
    "import pandas as pd\n",
    "### split all data to train/testimport pandas as pd\n",
    "from sklearn.model_selection import train_test_split\n",
    "\n",
    "filepath = \"/media/wuguo-buaa/LENOVO_USB_HDD/PycharmProjects/Anomaly-Detection-IoT23/Models/Data/ToN-iot_all.csv\"\n",
    "df = pd.read_csv(filepath)\n",
    "X = df[['src_ip_bytes', 'proto_tcp', 'src_bytes', 'dst_ip_bytes', 'src_pkts', 'duration', 'dst_bytes', 'conn_state_REJ', 'dns_rejected_T', 'conn_state_S0', 'dst_pkts', 'conn_state_OTH', 'conn_state_RSTRH', 'proto_udp', 'service_-', 'conn_state_RSTO', 'dns_qtype_12', 'conn_state_S1', 'dns_RD_F', 'conn_state_SF', 'proto_icmp', 'http_version_1.1', 'http_status_code_200', 'http_version_-', 'service_ftp', 'http_status_code_0', 'dns_rejected_F', 'dns_qclass_0', 'dns_rcode_3', 'dns_qtype_28', 'service_dns', 'dns_RA_F', 'conn_state_RSTR', 'dns_rcode_2', 'service_ssl', 'service_gssapi', 'service_smb', 'dns_qclass_1', 'service_http', 'service_dce_rpc']]\n",
    "Y = df['label']\n",
    "X_train, X_test, Y_train, Y_test = train_test_split(X, Y, random_state=100, test_size=0.2, stratify=Y)\n",
    "type(X_train)\n",
    "train_data = \"./Data/split/ToN-iot-train_data.csv\"\n",
    "test_data = './Data/split/ToN-iot-test_data.csv'\n",
    "pd.concat([X_train, Y_train], axis=1).to_csv(train_data, index=False, encoding='utf-8')\n",
    "pd.concat([X_test, Y_test], axis=1).to_csv(test_data, index=False, encoding='utf-8')"
   ],
   "metadata": {
    "collapsed": false,
    "pycharm": {
     "name": "#%%\n"
    }
   }
  },
  {
   "cell_type": "markdown",
   "source": [
    "### make oversampler for ToN-iot"
   ],
   "metadata": {
    "collapsed": false
   }
  },
  {
   "cell_type": "markdown",
   "source": [
    "#### pick top 40 features"
   ],
   "metadata": {
    "collapsed": false
   }
  },
  {
   "cell_type": "code",
   "execution_count": 2,
   "outputs": [
    {
     "name": "stdout",
     "output_type": "stream",
     "text": [
      "['src_ip_bytes', 'proto_tcp', 'src_bytes', 'dst_ip_bytes', 'src_pkts', 'duration', 'dst_bytes', 'conn_state_REJ', 'dns_rejected_T', 'conn_state_S0', 'dst_pkts', 'conn_state_OTH', 'conn_state_RSTRH', 'proto_udp', 'service_-', 'conn_state_RSTO', 'dns_qtype_12', 'conn_state_S1', 'dns_RD_F', 'conn_state_SF', 'proto_icmp', 'http_version_1.1', 'http_status_code_200', 'http_version_-', 'service_ftp', 'http_status_code_0', 'dns_rejected_F', 'dns_qclass_0', 'dns_rcode_3', 'dns_qtype_28', 'service_dns', 'dns_RA_F', 'conn_state_RSTR', 'dns_rcode_2', 'service_ssl', 'service_gssapi', 'service_smb', 'dns_qclass_1', 'service_http', 'service_dce_rpc']\n"
     ]
    }
   ],
   "source": [
    "feature_str = 'src_ip_bytes,proto_tcp,src_bytes,dst_ip_bytes,src_pkts,duration,dst_bytes,conn_state_REJ,dns_rejected_T,conn_state_S0,dst_pkts,conn_state_OTH,conn_state_RSTRH,proto_udp,service_-,conn_state_RSTO,dns_qtype_12,conn_state_S1,dns_RD_F,conn_state_SF,proto_icmp,http_version_1.1,http_status_code_200,http_version_-,service_ftp,http_status_code_0,dns_rejected_F,dns_qclass_0,dns_rcode_3,dns_qtype_28,service_dns,dns_RA_F,conn_state_RSTR,dns_rcode_2,service_ssl,service_gssapi,service_smb,dns_qclass_1,service_http,service_dce_rpc'\n",
    "feature_list = []\n",
    "for feature in feature_str.split(','):\n",
    "    feature_list.append(feature)\n",
    "print(feature_list)"
   ],
   "metadata": {
    "collapsed": false,
    "pycharm": {
     "name": "#%%\n"
    }
   }
  },
  {
   "cell_type": "code",
   "execution_count": 30,
   "outputs": [],
   "source": [
    "# normalization\n",
    "def regularit(df):\n",
    "    columns = ['duration','src_bytes','dst_bytes','missed_bytes','src_pkts','src_ip_bytes','dst_pkts','dst_ip_bytes','http_response_body_len']\n",
    "    for c in columns:\n",
    "        d = df[c]\n",
    "        MAX = d.max()\n",
    "        MIN = d.min()\n",
    "        df[c] = ((d - MIN) / (MAX - MIN)).tolist()\n",
    "    return df"
   ],
   "metadata": {
    "collapsed": false,
    "pycharm": {
     "name": "#%%\n"
    }
   }
  },
  {
   "cell_type": "code",
   "execution_count": 1,
   "outputs": [],
   "source": [
    "import pandas as pd\n",
    "from sklearn.model_selection import train_test_split\n",
    "\n",
    "filepath = \"/media/wuguo-buaa/LENOVO_USB_HDD/PycharmProjects/Anomaly-Detection-IoT23/Models/Data/ToN-iot_all.csv\"\n",
    "df = pd.read_csv(filepath)\n",
    "# df1 = df[:200000]\n",
    "# df2 = df[-50001:-1]\n",
    "# df = [df1,df2]\n",
    "# df = pd.concat(df)\n",
    "# df = regularit(df)\n",
    "X = df[['src_ip_bytes', 'proto_tcp', 'src_bytes', 'dst_ip_bytes', 'src_pkts', 'duration', 'dst_bytes', 'conn_state_REJ', 'dns_rejected_T', 'conn_state_S0', 'dst_pkts', 'conn_state_OTH', 'conn_state_RSTRH', 'proto_udp', 'service_-', 'conn_state_RSTO', 'dns_qtype_12', 'conn_state_S1', 'dns_RD_F', 'conn_state_SF', 'proto_icmp', 'http_version_1.1', 'http_status_code_200', 'http_version_-', 'service_ftp', 'http_status_code_0', 'dns_rejected_F', 'dns_qclass_0', 'dns_rcode_3', 'dns_qtype_28', 'service_dns', 'dns_RA_F', 'conn_state_RSTR', 'dns_rcode_2', 'service_ssl', 'service_gssapi', 'service_smb', 'dns_qclass_1', 'service_http', 'service_dce_rpc']].values\n",
    "df.loc[(df.label == 0), 'label'] = 'Benign'\n",
    "df.loc[(df.label == 1), 'label'] = 'Malicious'\n",
    "Y = df['label'].values"
   ],
   "metadata": {
    "collapsed": false,
    "pycharm": {
     "name": "#%%\n"
    }
   }
  },
  {
   "cell_type": "code",
   "execution_count": 2,
   "outputs": [
    {
     "data": {
      "text/plain": "            duration  src_bytes  dst_bytes  missed_bytes  src_pkts  \\\n0       80549.530260    1762852   41933215             0    252181   \n1           0.000000          0          0             0         1   \n2           0.000000          0          0             0         0   \n3           0.000000          0          0             0         0   \n4           0.000549          0        298             0         0   \n...              ...        ...        ...           ...       ...   \n461038      0.000000          0          0             0         1   \n461039      0.000000          0          0             0         0   \n461040    290.371539     101568       2592             0       108   \n461041     23.190902         32         31             0         8   \n461042     22.872314         32         31             0         8   \n\n        src_ip_bytes  dst_pkts  dst_ip_bytes  http_request_body_len  \\\n0           14911156         2           236                      0   \n1                 63         0             0                      0   \n2                  0         0             0                      0   \n3                  0         0             0                      0   \n4                  0         2           354                      0   \n...              ...       ...           ...                    ...   \n461038            60         0             0                      0   \n461039             0         1           103                      0   \n461040        108064        31          3832                      0   \n461041           411         7           395                      0   \n461042           411         6           343                      0   \n\n        http_response_body_len  ... weird_name_data_before_established  \\\n0                            0  ...                                  0   \n1                            0  ...                                  0   \n2                            0  ...                                  0   \n3                            0  ...                                  0   \n4                            0  ...                                  0   \n...                        ...  ...                                ...   \n461038                       0  ...                                  0   \n461039                       0  ...                                  0   \n461040                       0  ...                                  0   \n461041                       0  ...                                  0   \n461042                       0  ...                                  0   \n\n        weird_name_dnp3_corrupt_header_checksum  weird_name_inappropriate_FIN  \\\n0                                             0                             0   \n1                                             0                             0   \n2                                             0                             0   \n3                                             0                             0   \n4                                             0                             0   \n...                                         ...                           ...   \n461038                                        0                             0   \n461039                                        0                             0   \n461040                                        0                             0   \n461041                                        0                             0   \n461042                                        0                             0   \n\n        weird_name_possible_split_routing  weird_addl_-  weird_addl_43  \\\n0                                       0             1              0   \n1                                       0             1              0   \n2                                       0             1              0   \n3                                       0             1              0   \n4                                       0             1              0   \n...                                   ...           ...            ...   \n461038                                  0             1              0   \n461039                                  0             1              0   \n461040                                  0             1              0   \n461041                                  0             1              0   \n461042                                  0             1              0   \n\n        weird_addl_46  weird_addl_48  weird_notice_-  weird_notice_F  \n0                   0              0               0               1  \n1                   0              0               1               0  \n2                   0              0               0               1  \n3                   0              0               1               0  \n4                   0              0               0               1  \n...               ...            ...             ...             ...  \n461038              0              0               1               0  \n461039              0              0               1               0  \n461040              0              0               1               0  \n461041              0              0               1               0  \n461042              0              0               1               0  \n\n[461043 rows x 188 columns]",
      "text/html": "<div>\n<style scoped>\n    .dataframe tbody tr th:only-of-type {\n        vertical-align: middle;\n    }\n\n    .dataframe tbody tr th {\n        vertical-align: top;\n    }\n\n    .dataframe thead th {\n        text-align: right;\n    }\n</style>\n<table border=\"1\" class=\"dataframe\">\n  <thead>\n    <tr style=\"text-align: right;\">\n      <th></th>\n      <th>duration</th>\n      <th>src_bytes</th>\n      <th>dst_bytes</th>\n      <th>missed_bytes</th>\n      <th>src_pkts</th>\n      <th>src_ip_bytes</th>\n      <th>dst_pkts</th>\n      <th>dst_ip_bytes</th>\n      <th>http_request_body_len</th>\n      <th>http_response_body_len</th>\n      <th>...</th>\n      <th>weird_name_data_before_established</th>\n      <th>weird_name_dnp3_corrupt_header_checksum</th>\n      <th>weird_name_inappropriate_FIN</th>\n      <th>weird_name_possible_split_routing</th>\n      <th>weird_addl_-</th>\n      <th>weird_addl_43</th>\n      <th>weird_addl_46</th>\n      <th>weird_addl_48</th>\n      <th>weird_notice_-</th>\n      <th>weird_notice_F</th>\n    </tr>\n  </thead>\n  <tbody>\n    <tr>\n      <th>0</th>\n      <td>80549.530260</td>\n      <td>1762852</td>\n      <td>41933215</td>\n      <td>0</td>\n      <td>252181</td>\n      <td>14911156</td>\n      <td>2</td>\n      <td>236</td>\n      <td>0</td>\n      <td>0</td>\n      <td>...</td>\n      <td>0</td>\n      <td>0</td>\n      <td>0</td>\n      <td>0</td>\n      <td>1</td>\n      <td>0</td>\n      <td>0</td>\n      <td>0</td>\n      <td>0</td>\n      <td>1</td>\n    </tr>\n    <tr>\n      <th>1</th>\n      <td>0.000000</td>\n      <td>0</td>\n      <td>0</td>\n      <td>0</td>\n      <td>1</td>\n      <td>63</td>\n      <td>0</td>\n      <td>0</td>\n      <td>0</td>\n      <td>0</td>\n      <td>...</td>\n      <td>0</td>\n      <td>0</td>\n      <td>0</td>\n      <td>0</td>\n      <td>1</td>\n      <td>0</td>\n      <td>0</td>\n      <td>0</td>\n      <td>1</td>\n      <td>0</td>\n    </tr>\n    <tr>\n      <th>2</th>\n      <td>0.000000</td>\n      <td>0</td>\n      <td>0</td>\n      <td>0</td>\n      <td>0</td>\n      <td>0</td>\n      <td>0</td>\n      <td>0</td>\n      <td>0</td>\n      <td>0</td>\n      <td>...</td>\n      <td>0</td>\n      <td>0</td>\n      <td>0</td>\n      <td>0</td>\n      <td>1</td>\n      <td>0</td>\n      <td>0</td>\n      <td>0</td>\n      <td>0</td>\n      <td>1</td>\n    </tr>\n    <tr>\n      <th>3</th>\n      <td>0.000000</td>\n      <td>0</td>\n      <td>0</td>\n      <td>0</td>\n      <td>0</td>\n      <td>0</td>\n      <td>0</td>\n      <td>0</td>\n      <td>0</td>\n      <td>0</td>\n      <td>...</td>\n      <td>0</td>\n      <td>0</td>\n      <td>0</td>\n      <td>0</td>\n      <td>1</td>\n      <td>0</td>\n      <td>0</td>\n      <td>0</td>\n      <td>1</td>\n      <td>0</td>\n    </tr>\n    <tr>\n      <th>4</th>\n      <td>0.000549</td>\n      <td>0</td>\n      <td>298</td>\n      <td>0</td>\n      <td>0</td>\n      <td>0</td>\n      <td>2</td>\n      <td>354</td>\n      <td>0</td>\n      <td>0</td>\n      <td>...</td>\n      <td>0</td>\n      <td>0</td>\n      <td>0</td>\n      <td>0</td>\n      <td>1</td>\n      <td>0</td>\n      <td>0</td>\n      <td>0</td>\n      <td>0</td>\n      <td>1</td>\n    </tr>\n    <tr>\n      <th>...</th>\n      <td>...</td>\n      <td>...</td>\n      <td>...</td>\n      <td>...</td>\n      <td>...</td>\n      <td>...</td>\n      <td>...</td>\n      <td>...</td>\n      <td>...</td>\n      <td>...</td>\n      <td>...</td>\n      <td>...</td>\n      <td>...</td>\n      <td>...</td>\n      <td>...</td>\n      <td>...</td>\n      <td>...</td>\n      <td>...</td>\n      <td>...</td>\n      <td>...</td>\n      <td>...</td>\n    </tr>\n    <tr>\n      <th>461038</th>\n      <td>0.000000</td>\n      <td>0</td>\n      <td>0</td>\n      <td>0</td>\n      <td>1</td>\n      <td>60</td>\n      <td>0</td>\n      <td>0</td>\n      <td>0</td>\n      <td>0</td>\n      <td>...</td>\n      <td>0</td>\n      <td>0</td>\n      <td>0</td>\n      <td>0</td>\n      <td>1</td>\n      <td>0</td>\n      <td>0</td>\n      <td>0</td>\n      <td>1</td>\n      <td>0</td>\n    </tr>\n    <tr>\n      <th>461039</th>\n      <td>0.000000</td>\n      <td>0</td>\n      <td>0</td>\n      <td>0</td>\n      <td>0</td>\n      <td>0</td>\n      <td>1</td>\n      <td>103</td>\n      <td>0</td>\n      <td>0</td>\n      <td>...</td>\n      <td>0</td>\n      <td>0</td>\n      <td>0</td>\n      <td>0</td>\n      <td>1</td>\n      <td>0</td>\n      <td>0</td>\n      <td>0</td>\n      <td>1</td>\n      <td>0</td>\n    </tr>\n    <tr>\n      <th>461040</th>\n      <td>290.371539</td>\n      <td>101568</td>\n      <td>2592</td>\n      <td>0</td>\n      <td>108</td>\n      <td>108064</td>\n      <td>31</td>\n      <td>3832</td>\n      <td>0</td>\n      <td>0</td>\n      <td>...</td>\n      <td>0</td>\n      <td>0</td>\n      <td>0</td>\n      <td>0</td>\n      <td>1</td>\n      <td>0</td>\n      <td>0</td>\n      <td>0</td>\n      <td>1</td>\n      <td>0</td>\n    </tr>\n    <tr>\n      <th>461041</th>\n      <td>23.190902</td>\n      <td>32</td>\n      <td>31</td>\n      <td>0</td>\n      <td>8</td>\n      <td>411</td>\n      <td>7</td>\n      <td>395</td>\n      <td>0</td>\n      <td>0</td>\n      <td>...</td>\n      <td>0</td>\n      <td>0</td>\n      <td>0</td>\n      <td>0</td>\n      <td>1</td>\n      <td>0</td>\n      <td>0</td>\n      <td>0</td>\n      <td>1</td>\n      <td>0</td>\n    </tr>\n    <tr>\n      <th>461042</th>\n      <td>22.872314</td>\n      <td>32</td>\n      <td>31</td>\n      <td>0</td>\n      <td>8</td>\n      <td>411</td>\n      <td>6</td>\n      <td>343</td>\n      <td>0</td>\n      <td>0</td>\n      <td>...</td>\n      <td>0</td>\n      <td>0</td>\n      <td>0</td>\n      <td>0</td>\n      <td>1</td>\n      <td>0</td>\n      <td>0</td>\n      <td>0</td>\n      <td>1</td>\n      <td>0</td>\n    </tr>\n  </tbody>\n</table>\n<p>461043 rows × 188 columns</p>\n</div>"
     },
     "execution_count": 2,
     "metadata": {},
     "output_type": "execute_result"
    }
   ],
   "source": [
    "df"
   ],
   "metadata": {
    "collapsed": false,
    "pycharm": {
     "name": "#%%\n"
    }
   }
  },
  {
   "cell_type": "code",
   "execution_count": 3,
   "outputs": [
    {
     "name": "stderr",
     "output_type": "stream",
     "text": [
      "2022-05-17 23:05:46,171:INFO:SMOTE_ENN: Running sampling via ('SMOTE_ENN', \"{'proportion': 1.0, 'n_neighbors': 5, 'n_jobs': 1, 'random_state': None}\")\n",
      "2022-05-17 23:05:46,172:INFO:SMOTE: Running sampling via ('SMOTE', \"{'proportion': 1.0, 'n_neighbors': 5, 'n_jobs': 1, 'random_state': <module 'numpy.random' from '/media/wuguo-buaa/LENOVO_USB_HDD/PycharmProjects/Machine_learning_venv/lib/python3.8/site-packages/numpy/random/__init__.py'>}\")\n",
      "2022-05-17 23:12:04,658:INFO:EditedNearestNeighbors: Running noise removal via EditedNearestNeighbors\n"
     ]
    },
    {
     "name": "stdout",
     "output_type": "stream",
     "text": [
      "594852 594852\n"
     ]
    }
   ],
   "source": [
    "import smote_variants as sv\n",
    "\n",
    "# oversampler= sv.distance_SMOTE()\n",
    "oversampler = sv.SMOTE_ENN()\n",
    "# X_samp and y_samp contain the oversampled dataset\n",
    "X_samp, y_samp = oversampler.sample(X.astype(int), Y)\n",
    "print(len(y_samp),len(X_samp))"
   ],
   "metadata": {
    "collapsed": false,
    "pycharm": {
     "name": "#%%\n"
    }
   }
  },
  {
   "cell_type": "code",
   "execution_count": 4,
   "outputs": [
    {
     "data": {
      "text/plain": "pandas.core.frame.DataFrame"
     },
     "execution_count": 4,
     "metadata": {},
     "output_type": "execute_result"
    }
   ],
   "source": [
    "X_samp_series = pd.DataFrame(data=X_samp, columns=['src_ip_bytes', 'proto_tcp', 'src_bytes', 'dst_ip_bytes', 'src_pkts', 'duration', 'dst_bytes', 'conn_state_REJ', 'dns_rejected_T', 'conn_state_S0', 'dst_pkts', 'conn_state_OTH', 'conn_state_RSTRH', 'proto_udp', 'service_-', 'conn_state_RSTO', 'dns_qtype_12', 'conn_state_S1', 'dns_RD_F', 'conn_state_SF', 'proto_icmp', 'http_version_1.1', 'http_status_code_200', 'http_version_-', 'service_ftp', 'http_status_code_0', 'dns_rejected_F', 'dns_qclass_0', 'dns_rcode_3', 'dns_qtype_28', 'service_dns', 'dns_RA_F', 'conn_state_RSTR', 'dns_rcode_2', 'service_ssl', 'service_gssapi', 'service_smb', 'dns_qclass_1', 'service_http', 'service_dce_rpc'])\n",
    "Y_samp_series = pd.DataFrame(data=y_samp, columns=['label'])\n",
    "type(X_samp_series)"
   ],
   "metadata": {
    "collapsed": false,
    "pycharm": {
     "name": "#%%\n"
    }
   }
  },
  {
   "cell_type": "code",
   "execution_count": 5,
   "outputs": [
    {
     "data": {
      "text/plain": "        src_ip_bytes  proto_tcp     src_bytes  dst_ip_bytes  src_pkts  \\\n0       1.491116e+07        1.0  1.762852e+06         236.0  252181.0   \n1       6.300000e+01        0.0  0.000000e+00           0.0       1.0   \n2       0.000000e+00        1.0  0.000000e+00           0.0       0.0   \n3       0.000000e+00        1.0  0.000000e+00           0.0       0.0   \n4       0.000000e+00        0.0  0.000000e+00         354.0       0.0   \n...              ...        ...           ...           ...       ...   \n594847  1.045030e+02        1.0  0.000000e+00          60.0       2.0   \n594848  4.000000e+01        1.0  0.000000e+00          40.0       1.0   \n594849  5.109220e+02        1.0  2.484633e+02       12815.0       5.0   \n594850  4.800000e+01        1.0  0.000000e+00          40.0       1.0   \n594851  5.200000e+01        1.0  0.000000e+00           0.0       1.0   \n\n        duration   dst_bytes  conn_state_REJ  dns_rejected_T  conn_state_S0  \\\n0        80549.0  41933215.0             0.0             0.0            0.0   \n1            0.0         0.0             0.0             0.0            1.0   \n2            0.0         0.0             0.0             0.0            0.0   \n3            0.0         0.0             0.0             0.0            0.0   \n4            0.0       298.0             0.0             0.0            0.0   \n...          ...         ...             ...             ...            ...   \n594847      39.0         1.0             0.0             0.0            0.0   \n594848       0.0         0.0             1.0             0.0            0.0   \n594849       1.0     12183.0             0.0             0.0            0.0   \n594850       0.0         0.0             1.0             0.0            0.0   \n594851       0.0         0.0             0.0             0.0            0.0   \n\n        ...  dns_RA_F  conn_state_RSTR  dns_rcode_2  service_ssl  \\\n0       ...       0.0              0.0          0.0          0.0   \n1       ...       0.0              0.0          0.0          0.0   \n2       ...       0.0              0.0          0.0          0.0   \n3       ...       0.0              0.0          0.0          0.0   \n4       ...       0.0              0.0          0.0          0.0   \n...     ...       ...              ...          ...          ...   \n594847  ...       0.0              0.0          0.0          0.0   \n594848  ...       0.0              0.0          0.0          0.0   \n594849  ...       0.0              0.0          0.0          0.0   \n594850  ...       0.0              0.0          0.0          0.0   \n594851  ...       0.0              0.0          0.0          0.0   \n\n        service_gssapi  service_smb  dns_qclass_1  service_http      label  \\\n0                  0.0          0.0           0.0           0.0     Benign   \n1                  0.0          0.0           0.0           0.0     Benign   \n2                  0.0          0.0           0.0           0.0     Benign   \n3                  0.0          0.0           0.0           0.0     Benign   \n4                  0.0          0.0           0.0           0.0     Benign   \n...                ...          ...           ...           ...        ...   \n594847             0.0          0.0           0.0           0.0  Malicious   \n594848             0.0          0.0           0.0           0.0  Malicious   \n594849             0.0          0.0           0.0           1.0  Malicious   \n594850             0.0          0.0           0.0           0.0  Malicious   \n594851             0.0          0.0           0.0           0.0  Malicious   \n\n        service_dce_rpc  \n0                   0.0  \n1                   0.0  \n2                   0.0  \n3                   0.0  \n4                   0.0  \n...                 ...  \n594847              0.0  \n594848              0.0  \n594849              0.0  \n594850              0.0  \n594851              0.0  \n\n[594852 rows x 41 columns]",
      "text/html": "<div>\n<style scoped>\n    .dataframe tbody tr th:only-of-type {\n        vertical-align: middle;\n    }\n\n    .dataframe tbody tr th {\n        vertical-align: top;\n    }\n\n    .dataframe thead th {\n        text-align: right;\n    }\n</style>\n<table border=\"1\" class=\"dataframe\">\n  <thead>\n    <tr style=\"text-align: right;\">\n      <th></th>\n      <th>src_ip_bytes</th>\n      <th>proto_tcp</th>\n      <th>src_bytes</th>\n      <th>dst_ip_bytes</th>\n      <th>src_pkts</th>\n      <th>duration</th>\n      <th>dst_bytes</th>\n      <th>conn_state_REJ</th>\n      <th>dns_rejected_T</th>\n      <th>conn_state_S0</th>\n      <th>...</th>\n      <th>dns_RA_F</th>\n      <th>conn_state_RSTR</th>\n      <th>dns_rcode_2</th>\n      <th>service_ssl</th>\n      <th>service_gssapi</th>\n      <th>service_smb</th>\n      <th>dns_qclass_1</th>\n      <th>service_http</th>\n      <th>label</th>\n      <th>service_dce_rpc</th>\n    </tr>\n  </thead>\n  <tbody>\n    <tr>\n      <th>0</th>\n      <td>1.491116e+07</td>\n      <td>1.0</td>\n      <td>1.762852e+06</td>\n      <td>236.0</td>\n      <td>252181.0</td>\n      <td>80549.0</td>\n      <td>41933215.0</td>\n      <td>0.0</td>\n      <td>0.0</td>\n      <td>0.0</td>\n      <td>...</td>\n      <td>0.0</td>\n      <td>0.0</td>\n      <td>0.0</td>\n      <td>0.0</td>\n      <td>0.0</td>\n      <td>0.0</td>\n      <td>0.0</td>\n      <td>0.0</td>\n      <td>Benign</td>\n      <td>0.0</td>\n    </tr>\n    <tr>\n      <th>1</th>\n      <td>6.300000e+01</td>\n      <td>0.0</td>\n      <td>0.000000e+00</td>\n      <td>0.0</td>\n      <td>1.0</td>\n      <td>0.0</td>\n      <td>0.0</td>\n      <td>0.0</td>\n      <td>0.0</td>\n      <td>1.0</td>\n      <td>...</td>\n      <td>0.0</td>\n      <td>0.0</td>\n      <td>0.0</td>\n      <td>0.0</td>\n      <td>0.0</td>\n      <td>0.0</td>\n      <td>0.0</td>\n      <td>0.0</td>\n      <td>Benign</td>\n      <td>0.0</td>\n    </tr>\n    <tr>\n      <th>2</th>\n      <td>0.000000e+00</td>\n      <td>1.0</td>\n      <td>0.000000e+00</td>\n      <td>0.0</td>\n      <td>0.0</td>\n      <td>0.0</td>\n      <td>0.0</td>\n      <td>0.0</td>\n      <td>0.0</td>\n      <td>0.0</td>\n      <td>...</td>\n      <td>0.0</td>\n      <td>0.0</td>\n      <td>0.0</td>\n      <td>0.0</td>\n      <td>0.0</td>\n      <td>0.0</td>\n      <td>0.0</td>\n      <td>0.0</td>\n      <td>Benign</td>\n      <td>0.0</td>\n    </tr>\n    <tr>\n      <th>3</th>\n      <td>0.000000e+00</td>\n      <td>1.0</td>\n      <td>0.000000e+00</td>\n      <td>0.0</td>\n      <td>0.0</td>\n      <td>0.0</td>\n      <td>0.0</td>\n      <td>0.0</td>\n      <td>0.0</td>\n      <td>0.0</td>\n      <td>...</td>\n      <td>0.0</td>\n      <td>0.0</td>\n      <td>0.0</td>\n      <td>0.0</td>\n      <td>0.0</td>\n      <td>0.0</td>\n      <td>0.0</td>\n      <td>0.0</td>\n      <td>Benign</td>\n      <td>0.0</td>\n    </tr>\n    <tr>\n      <th>4</th>\n      <td>0.000000e+00</td>\n      <td>0.0</td>\n      <td>0.000000e+00</td>\n      <td>354.0</td>\n      <td>0.0</td>\n      <td>0.0</td>\n      <td>298.0</td>\n      <td>0.0</td>\n      <td>0.0</td>\n      <td>0.0</td>\n      <td>...</td>\n      <td>0.0</td>\n      <td>0.0</td>\n      <td>0.0</td>\n      <td>0.0</td>\n      <td>0.0</td>\n      <td>0.0</td>\n      <td>0.0</td>\n      <td>0.0</td>\n      <td>Benign</td>\n      <td>0.0</td>\n    </tr>\n    <tr>\n      <th>...</th>\n      <td>...</td>\n      <td>...</td>\n      <td>...</td>\n      <td>...</td>\n      <td>...</td>\n      <td>...</td>\n      <td>...</td>\n      <td>...</td>\n      <td>...</td>\n      <td>...</td>\n      <td>...</td>\n      <td>...</td>\n      <td>...</td>\n      <td>...</td>\n      <td>...</td>\n      <td>...</td>\n      <td>...</td>\n      <td>...</td>\n      <td>...</td>\n      <td>...</td>\n      <td>...</td>\n    </tr>\n    <tr>\n      <th>594847</th>\n      <td>1.045030e+02</td>\n      <td>1.0</td>\n      <td>0.000000e+00</td>\n      <td>60.0</td>\n      <td>2.0</td>\n      <td>39.0</td>\n      <td>1.0</td>\n      <td>0.0</td>\n      <td>0.0</td>\n      <td>0.0</td>\n      <td>...</td>\n      <td>0.0</td>\n      <td>0.0</td>\n      <td>0.0</td>\n      <td>0.0</td>\n      <td>0.0</td>\n      <td>0.0</td>\n      <td>0.0</td>\n      <td>0.0</td>\n      <td>Malicious</td>\n      <td>0.0</td>\n    </tr>\n    <tr>\n      <th>594848</th>\n      <td>4.000000e+01</td>\n      <td>1.0</td>\n      <td>0.000000e+00</td>\n      <td>40.0</td>\n      <td>1.0</td>\n      <td>0.0</td>\n      <td>0.0</td>\n      <td>1.0</td>\n      <td>0.0</td>\n      <td>0.0</td>\n      <td>...</td>\n      <td>0.0</td>\n      <td>0.0</td>\n      <td>0.0</td>\n      <td>0.0</td>\n      <td>0.0</td>\n      <td>0.0</td>\n      <td>0.0</td>\n      <td>0.0</td>\n      <td>Malicious</td>\n      <td>0.0</td>\n    </tr>\n    <tr>\n      <th>594849</th>\n      <td>5.109220e+02</td>\n      <td>1.0</td>\n      <td>2.484633e+02</td>\n      <td>12815.0</td>\n      <td>5.0</td>\n      <td>1.0</td>\n      <td>12183.0</td>\n      <td>0.0</td>\n      <td>0.0</td>\n      <td>0.0</td>\n      <td>...</td>\n      <td>0.0</td>\n      <td>0.0</td>\n      <td>0.0</td>\n      <td>0.0</td>\n      <td>0.0</td>\n      <td>0.0</td>\n      <td>0.0</td>\n      <td>1.0</td>\n      <td>Malicious</td>\n      <td>0.0</td>\n    </tr>\n    <tr>\n      <th>594850</th>\n      <td>4.800000e+01</td>\n      <td>1.0</td>\n      <td>0.000000e+00</td>\n      <td>40.0</td>\n      <td>1.0</td>\n      <td>0.0</td>\n      <td>0.0</td>\n      <td>1.0</td>\n      <td>0.0</td>\n      <td>0.0</td>\n      <td>...</td>\n      <td>0.0</td>\n      <td>0.0</td>\n      <td>0.0</td>\n      <td>0.0</td>\n      <td>0.0</td>\n      <td>0.0</td>\n      <td>0.0</td>\n      <td>0.0</td>\n      <td>Malicious</td>\n      <td>0.0</td>\n    </tr>\n    <tr>\n      <th>594851</th>\n      <td>5.200000e+01</td>\n      <td>1.0</td>\n      <td>0.000000e+00</td>\n      <td>0.0</td>\n      <td>1.0</td>\n      <td>0.0</td>\n      <td>0.0</td>\n      <td>0.0</td>\n      <td>0.0</td>\n      <td>0.0</td>\n      <td>...</td>\n      <td>0.0</td>\n      <td>0.0</td>\n      <td>0.0</td>\n      <td>0.0</td>\n      <td>0.0</td>\n      <td>0.0</td>\n      <td>0.0</td>\n      <td>0.0</td>\n      <td>Malicious</td>\n      <td>0.0</td>\n    </tr>\n  </tbody>\n</table>\n<p>594852 rows × 41 columns</p>\n</div>"
     },
     "execution_count": 5,
     "metadata": {},
     "output_type": "execute_result"
    }
   ],
   "source": [
    "import numpy as np\n",
    "\n",
    "columns = X_samp_series.columns.tolist()\n",
    "columns.insert(-1, 'label')\n",
    "data = X_samp_series.reindex(columns=columns)\n",
    "data['label'] = Y_samp_series\n",
    "data"
   ],
   "metadata": {
    "collapsed": false,
    "pycharm": {
     "name": "#%%\n"
    }
   }
  },
  {
   "cell_type": "code",
   "execution_count": 6,
   "outputs": [],
   "source": [
    "data.to_csv('./Data/ToN-iot_all_combined_big_balance.csv', sep=',')"
   ],
   "metadata": {
    "collapsed": false,
    "pycharm": {
     "name": "#%%\n"
    }
   }
  },
  {
   "cell_type": "code",
   "execution_count": 7,
   "outputs": [],
   "source": [
    "import pandas as pd\n",
    "from sklearn.model_selection import train_test_split\n",
    "\n",
    "filepath = \"./Data/ToN-iot_all_combined_big_balance.csv\"\n",
    "df = pd.read_csv(filepath)\n",
    "del df['Unnamed: 0']\n",
    "X = df[\n",
    "    ['src_ip_bytes', 'proto_tcp', 'src_bytes', 'dst_ip_bytes', 'src_pkts', 'duration', 'dst_bytes', 'conn_state_REJ', 'dns_rejected_T', 'conn_state_S0', 'dst_pkts', 'conn_state_OTH', 'conn_state_RSTRH', 'proto_udp', 'service_-', 'conn_state_RSTO', 'dns_qtype_12', 'conn_state_S1', 'dns_RD_F', 'conn_state_SF', 'proto_icmp', 'http_version_1.1', 'http_status_code_200', 'http_version_-', 'service_ftp', 'http_status_code_0', 'dns_rejected_F', 'dns_qclass_0', 'dns_rcode_3', 'dns_qtype_28', 'service_dns', 'dns_RA_F', 'conn_state_RSTR', 'dns_rcode_2', 'service_ssl', 'service_gssapi', 'service_smb', 'dns_qclass_1', 'service_http', 'service_dce_rpc']]\n",
    "Y = df['label']"
   ],
   "metadata": {
    "collapsed": false,
    "pycharm": {
     "name": "#%%\n"
    }
   }
  },
  {
   "cell_type": "code",
   "execution_count": 8,
   "outputs": [],
   "source": [
    "X_train, X_test, Y_train, Y_test = train_test_split(X, Y, random_state=100, test_size=0.2, stratify=Y)\n",
    "type(X_train)\n",
    "train_data = \"./Data/split/train_data_ToN_big_balance.csv\"\n",
    "test_data = './Data/split/test_data_ToN_big_balance.csv'\n",
    "pd.concat([X_train, Y_train], axis=1).to_csv(train_data, index=False, encoding='utf-8')\n",
    "pd.concat([X_test, Y_test], axis=1).to_csv(test_data, index=False, encoding='utf-8')"
   ],
   "metadata": {
    "collapsed": false,
    "pycharm": {
     "name": "#%%\n"
    }
   }
  },
  {
   "cell_type": "markdown",
   "source": [
    "## creat self-defined test data for Ton-iot"
   ],
   "metadata": {
    "collapsed": false
   }
  },
  {
   "cell_type": "code",
   "execution_count": 1,
   "outputs": [],
   "source": [
    "import pandas as pd\n",
    "from sklearn.model_selection import train_test_split\n",
    "import os\n",
    "frame = []\n",
    "filepath = \"/media/wuguo-buaa/LENOVO_USB_HDD/iot-data/ToN_iot/Processed_datasets/Processed_Network_dataset/\"\n",
    "for file in os.listdir(filepath):\n",
    "    df = pd.read_csv(filepath+file)\n",
    "    df = df[-5001:-1]\n",
    "    frame.append(df)\n",
    "frame_all = pd.concat(frame)"
   ],
   "metadata": {
    "collapsed": false,
    "pycharm": {
     "name": "#%%\n"
    }
   }
  },
  {
   "cell_type": "code",
   "execution_count": 2,
   "outputs": [
    {
     "data": {
      "text/plain": "                ts        src_ip  src_port         dst_ip  dst_port proto  \\\n994999  1556229938  192.168.1.31   36098.0  192.168.1.184     443.0   tcp   \n995000  1556229938  192.168.1.31   35293.0    192.168.1.1      53.0   udp   \n995001  1556229938  192.168.1.31   59290.0  192.168.1.184      80.0   tcp   \n995002  1556229938  192.168.1.31   47868.0    192.168.1.1      53.0   udp   \n995003  1556229938  192.168.1.31   41828.0    192.168.1.1      53.0   udp   \n...            ...           ...       ...            ...       ...   ...   \n999994  1556145104  192.168.1.30    3050.0  192.168.1.184    3050.0   tcp   \n999995  1556145104  192.168.1.30    3050.0  192.168.1.194    3050.0   tcp   \n999996  1556145104  192.168.1.30    3050.0  192.168.1.184    3050.0   tcp   \n999997  1556145104  192.168.1.30    3050.0  192.168.1.184    3050.0   tcp   \n999998  1556145104  192.168.1.30    3050.0  192.168.1.194    3050.0   tcp   \n\n       service    duration     src_bytes     dst_bytes  ...  \\\n994999     ssl  197.834883  2.135317e+09  2.135326e+09  ...   \n995000     dns    0.003558  3.900000e+01  3.900000e+01  ...   \n995001    http    0.007856  1.370000e+02  1.070000e+02  ...   \n995002     dns    0.004022  4.300000e+01  4.300000e+01  ...   \n995003     dns    0.002610  4.300000e+01  4.300000e+01  ...   \n...        ...         ...           ...           ...  ...   \n999994       -    0.000013  0.000000e+00  0.000000e+00  ...   \n999995       -    0.000011  0.000000e+00  0.000000e+00  ...   \n999996       -    0.000016  0.000000e+00  0.000000e+00  ...   \n999997       -    0.000113  0.000000e+00  0.000000e+00  ...   \n999998       -    0.000088  0.000000e+00  0.000000e+00  ...   \n\n       http_response_body_len  http_status_code  http_user_agent  \\\n994999                    0.0               0.0                -   \n995000                    0.0               0.0                -   \n995001                    0.0               0.0                -   \n995002                    0.0               0.0                -   \n995003                    0.0               0.0                -   \n...                       ...               ...              ...   \n999994                    0.0               0.0                -   \n999995                    0.0               0.0                -   \n999996                    0.0               0.0                -   \n999997                    0.0               0.0                -   \n999998                    0.0               0.0                -   \n\n        http_orig_mime_types  http_resp_mime_types  weird_name weird_addl  \\\n994999                     -                     -           -          -   \n995000                     -                     -           -          -   \n995001                     -                     -           -          -   \n995002                     -                     -           -          -   \n995003                     -                     -           -          -   \n...                      ...                   ...         ...        ...   \n999994                     -                     -           -          -   \n999995                     -                     -           -          -   \n999996                     -                     -           -          -   \n999997                     -                     -           -          -   \n999998                     -                     -           -          -   \n\n        weird_notice  label  type  \n994999             -    1.0  ddos  \n995000             -    1.0  ddos  \n995001             -    1.0  ddos  \n995002             -    1.0  ddos  \n995003             -    1.0  ddos  \n...              ...    ...   ...  \n999994             -    1.0   dos  \n999995             -    1.0   dos  \n999996             -    1.0   dos  \n999997             -    1.0   dos  \n999998             -    1.0   dos  \n\n[115000 rows x 45 columns]",
      "text/html": "<div>\n<style scoped>\n    .dataframe tbody tr th:only-of-type {\n        vertical-align: middle;\n    }\n\n    .dataframe tbody tr th {\n        vertical-align: top;\n    }\n\n    .dataframe thead th {\n        text-align: right;\n    }\n</style>\n<table border=\"1\" class=\"dataframe\">\n  <thead>\n    <tr style=\"text-align: right;\">\n      <th></th>\n      <th>ts</th>\n      <th>src_ip</th>\n      <th>src_port</th>\n      <th>dst_ip</th>\n      <th>dst_port</th>\n      <th>proto</th>\n      <th>service</th>\n      <th>duration</th>\n      <th>src_bytes</th>\n      <th>dst_bytes</th>\n      <th>...</th>\n      <th>http_response_body_len</th>\n      <th>http_status_code</th>\n      <th>http_user_agent</th>\n      <th>http_orig_mime_types</th>\n      <th>http_resp_mime_types</th>\n      <th>weird_name</th>\n      <th>weird_addl</th>\n      <th>weird_notice</th>\n      <th>label</th>\n      <th>type</th>\n    </tr>\n  </thead>\n  <tbody>\n    <tr>\n      <th>994999</th>\n      <td>1556229938</td>\n      <td>192.168.1.31</td>\n      <td>36098.0</td>\n      <td>192.168.1.184</td>\n      <td>443.0</td>\n      <td>tcp</td>\n      <td>ssl</td>\n      <td>197.834883</td>\n      <td>2.135317e+09</td>\n      <td>2.135326e+09</td>\n      <td>...</td>\n      <td>0.0</td>\n      <td>0.0</td>\n      <td>-</td>\n      <td>-</td>\n      <td>-</td>\n      <td>-</td>\n      <td>-</td>\n      <td>-</td>\n      <td>1.0</td>\n      <td>ddos</td>\n    </tr>\n    <tr>\n      <th>995000</th>\n      <td>1556229938</td>\n      <td>192.168.1.31</td>\n      <td>35293.0</td>\n      <td>192.168.1.1</td>\n      <td>53.0</td>\n      <td>udp</td>\n      <td>dns</td>\n      <td>0.003558</td>\n      <td>3.900000e+01</td>\n      <td>3.900000e+01</td>\n      <td>...</td>\n      <td>0.0</td>\n      <td>0.0</td>\n      <td>-</td>\n      <td>-</td>\n      <td>-</td>\n      <td>-</td>\n      <td>-</td>\n      <td>-</td>\n      <td>1.0</td>\n      <td>ddos</td>\n    </tr>\n    <tr>\n      <th>995001</th>\n      <td>1556229938</td>\n      <td>192.168.1.31</td>\n      <td>59290.0</td>\n      <td>192.168.1.184</td>\n      <td>80.0</td>\n      <td>tcp</td>\n      <td>http</td>\n      <td>0.007856</td>\n      <td>1.370000e+02</td>\n      <td>1.070000e+02</td>\n      <td>...</td>\n      <td>0.0</td>\n      <td>0.0</td>\n      <td>-</td>\n      <td>-</td>\n      <td>-</td>\n      <td>-</td>\n      <td>-</td>\n      <td>-</td>\n      <td>1.0</td>\n      <td>ddos</td>\n    </tr>\n    <tr>\n      <th>995002</th>\n      <td>1556229938</td>\n      <td>192.168.1.31</td>\n      <td>47868.0</td>\n      <td>192.168.1.1</td>\n      <td>53.0</td>\n      <td>udp</td>\n      <td>dns</td>\n      <td>0.004022</td>\n      <td>4.300000e+01</td>\n      <td>4.300000e+01</td>\n      <td>...</td>\n      <td>0.0</td>\n      <td>0.0</td>\n      <td>-</td>\n      <td>-</td>\n      <td>-</td>\n      <td>-</td>\n      <td>-</td>\n      <td>-</td>\n      <td>1.0</td>\n      <td>ddos</td>\n    </tr>\n    <tr>\n      <th>995003</th>\n      <td>1556229938</td>\n      <td>192.168.1.31</td>\n      <td>41828.0</td>\n      <td>192.168.1.1</td>\n      <td>53.0</td>\n      <td>udp</td>\n      <td>dns</td>\n      <td>0.002610</td>\n      <td>4.300000e+01</td>\n      <td>4.300000e+01</td>\n      <td>...</td>\n      <td>0.0</td>\n      <td>0.0</td>\n      <td>-</td>\n      <td>-</td>\n      <td>-</td>\n      <td>-</td>\n      <td>-</td>\n      <td>-</td>\n      <td>1.0</td>\n      <td>ddos</td>\n    </tr>\n    <tr>\n      <th>...</th>\n      <td>...</td>\n      <td>...</td>\n      <td>...</td>\n      <td>...</td>\n      <td>...</td>\n      <td>...</td>\n      <td>...</td>\n      <td>...</td>\n      <td>...</td>\n      <td>...</td>\n      <td>...</td>\n      <td>...</td>\n      <td>...</td>\n      <td>...</td>\n      <td>...</td>\n      <td>...</td>\n      <td>...</td>\n      <td>...</td>\n      <td>...</td>\n      <td>...</td>\n      <td>...</td>\n    </tr>\n    <tr>\n      <th>999994</th>\n      <td>1556145104</td>\n      <td>192.168.1.30</td>\n      <td>3050.0</td>\n      <td>192.168.1.184</td>\n      <td>3050.0</td>\n      <td>tcp</td>\n      <td>-</td>\n      <td>0.000013</td>\n      <td>0.000000e+00</td>\n      <td>0.000000e+00</td>\n      <td>...</td>\n      <td>0.0</td>\n      <td>0.0</td>\n      <td>-</td>\n      <td>-</td>\n      <td>-</td>\n      <td>-</td>\n      <td>-</td>\n      <td>-</td>\n      <td>1.0</td>\n      <td>dos</td>\n    </tr>\n    <tr>\n      <th>999995</th>\n      <td>1556145104</td>\n      <td>192.168.1.30</td>\n      <td>3050.0</td>\n      <td>192.168.1.194</td>\n      <td>3050.0</td>\n      <td>tcp</td>\n      <td>-</td>\n      <td>0.000011</td>\n      <td>0.000000e+00</td>\n      <td>0.000000e+00</td>\n      <td>...</td>\n      <td>0.0</td>\n      <td>0.0</td>\n      <td>-</td>\n      <td>-</td>\n      <td>-</td>\n      <td>-</td>\n      <td>-</td>\n      <td>-</td>\n      <td>1.0</td>\n      <td>dos</td>\n    </tr>\n    <tr>\n      <th>999996</th>\n      <td>1556145104</td>\n      <td>192.168.1.30</td>\n      <td>3050.0</td>\n      <td>192.168.1.184</td>\n      <td>3050.0</td>\n      <td>tcp</td>\n      <td>-</td>\n      <td>0.000016</td>\n      <td>0.000000e+00</td>\n      <td>0.000000e+00</td>\n      <td>...</td>\n      <td>0.0</td>\n      <td>0.0</td>\n      <td>-</td>\n      <td>-</td>\n      <td>-</td>\n      <td>-</td>\n      <td>-</td>\n      <td>-</td>\n      <td>1.0</td>\n      <td>dos</td>\n    </tr>\n    <tr>\n      <th>999997</th>\n      <td>1556145104</td>\n      <td>192.168.1.30</td>\n      <td>3050.0</td>\n      <td>192.168.1.184</td>\n      <td>3050.0</td>\n      <td>tcp</td>\n      <td>-</td>\n      <td>0.000113</td>\n      <td>0.000000e+00</td>\n      <td>0.000000e+00</td>\n      <td>...</td>\n      <td>0.0</td>\n      <td>0.0</td>\n      <td>-</td>\n      <td>-</td>\n      <td>-</td>\n      <td>-</td>\n      <td>-</td>\n      <td>-</td>\n      <td>1.0</td>\n      <td>dos</td>\n    </tr>\n    <tr>\n      <th>999998</th>\n      <td>1556145104</td>\n      <td>192.168.1.30</td>\n      <td>3050.0</td>\n      <td>192.168.1.194</td>\n      <td>3050.0</td>\n      <td>tcp</td>\n      <td>-</td>\n      <td>0.000088</td>\n      <td>0.000000e+00</td>\n      <td>0.000000e+00</td>\n      <td>...</td>\n      <td>0.0</td>\n      <td>0.0</td>\n      <td>-</td>\n      <td>-</td>\n      <td>-</td>\n      <td>-</td>\n      <td>-</td>\n      <td>-</td>\n      <td>1.0</td>\n      <td>dos</td>\n    </tr>\n  </tbody>\n</table>\n<p>115000 rows × 45 columns</p>\n</div>"
     },
     "execution_count": 2,
     "metadata": {},
     "output_type": "execute_result"
    }
   ],
   "source": [
    "frame_all"
   ],
   "metadata": {
    "collapsed": false,
    "pycharm": {
     "name": "#%%\n"
    }
   }
  },
  {
   "cell_type": "code",
   "execution_count": 3,
   "outputs": [],
   "source": [
    "pd.options.display.max_rows = 300\n",
    "pd.options.display.max_columns = 300\n",
    "df = frame_all.drop(columns=['ts', 'src_ip', 'src_port', 'dst_ip', 'dst_port', 'dns_query','http_uri'])"
   ],
   "metadata": {
    "collapsed": false,
    "pycharm": {
     "name": "#%%\n"
    }
   }
  },
  {
   "cell_type": "code",
   "execution_count": 4,
   "outputs": [],
   "source": [
    "df = pd.get_dummies(df, columns=['proto'])\n",
    "df = pd.get_dummies(df, columns=['service'])\n",
    "df = pd.get_dummies(df, columns=['conn_state'])\n",
    "df = pd.get_dummies(df, columns=['dns_qclass'])\n",
    "df = pd.get_dummies(df, columns=['dns_qtype'])\n",
    "df = pd.get_dummies(df, columns=['dns_rcode'])\n",
    "df = pd.get_dummies(df, columns=['dns_AA'])\n",
    "df = pd.get_dummies(df, columns=['dns_RD'])\n",
    "df = pd.get_dummies(df, columns=['dns_RA'])\n",
    "df = pd.get_dummies(df, columns=['dns_rejected'])\n",
    "df = pd.get_dummies(df, columns=['ssl_version'])\n",
    "df = pd.get_dummies(df, columns=['ssl_cipher'])\n",
    "df = pd.get_dummies(df, columns=['ssl_resumed'])\n",
    "df = pd.get_dummies(df, columns=['ssl_established'])\n",
    "df = pd.get_dummies(df, columns=['ssl_subject'])\n",
    "df = pd.get_dummies(df, columns=['ssl_issuer'])\n",
    "df = pd.get_dummies(df, columns=['http_trans_depth'])\n",
    "df = pd.get_dummies(df, columns=['http_method'])\n",
    "df = pd.get_dummies(df, columns=['http_version'])\n",
    "df = pd.get_dummies(df, columns=['http_status_code'])\n",
    "df = pd.get_dummies(df, columns=['http_user_agent'])\n",
    "df = pd.get_dummies(df, columns=['http_orig_mime_types'])\n",
    "df = pd.get_dummies(df, columns=['http_resp_mime_types'])\n",
    "df = pd.get_dummies(df, columns=['weird_name'])\n",
    "df = pd.get_dummies(df, columns=['weird_addl'])\n",
    "df = pd.get_dummies(df, columns=['weird_notice'])"
   ],
   "metadata": {
    "collapsed": false,
    "pycharm": {
     "name": "#%%\n"
    }
   }
  },
  {
   "cell_type": "code",
   "execution_count": 6,
   "outputs": [
    {
     "name": "stderr",
     "output_type": "stream",
     "text": [
      "/tmp/ipykernel_23560/310664938.py:3: PerformanceWarning: DataFrame is highly fragmented.  This is usually the result of calling `frame.insert` many times, which has poor performance.  Consider joining all columns at once using pd.concat(axis=1) instead.  To get a de-fragmented frame, use `newframe = frame.copy()`\n",
      "  df[str(item)]=0\n"
     ]
    }
   ],
   "source": [
    "miss_list = ['service_dce_rpc', 'service_gssapi', 'service_smb', 'service_smb;gssapi', 'dns_qclass_0', 'dns_qclass_1', 'dns_qclass_32769', 'dns_qtype_0', 'dns_qtype_1', 'dns_qtype_2', 'dns_qtype_6', 'dns_qtype_12', 'dns_qtype_16', 'dns_qtype_28', 'dns_qtype_32', 'dns_qtype_33', 'dns_qtype_43', 'dns_qtype_48', 'dns_qtype_255', 'dns_rcode_0', 'dns_rcode_1', 'dns_rcode_2', 'dns_rcode_3', 'dns_rcode_5', 'ssl_version_TLSv12', 'ssl_version_TLSv13', 'ssl_cipher_TLS_AES_128_GCM_SHA256', 'ssl_cipher_TLS_ECDHE_ECDSA_WITH_AES_128_GCM_SHA256', 'ssl_cipher_TLS_ECDHE_RSA_WITH_AES_128_GCM_SHA256', 'ssl_cipher_TLS_ECDHE_RSA_WITH_AES_256_GCM_SHA384', 'ssl_resumed_T', 'ssl_subject_CN=*.events.data.microsoft.com;OU=Microsoft;O=Microsoft Corporation;L=Redmond;ST=WA;C=US', 'ssl_subject_CN=*.wns.windows.com', 'ssl_subject_CN=settings-win.data.microsoft.com;OU=WSE;O=Microsoft;L=Redmond;ST=WA;C=US', 'ssl_subject_CN=sls.update.microsoft.com;OU=DSP;O=Microsoft;L=Redmond;ST=WA;C=US', 'ssl_issuer_CN=Microsoft IT TLS CA 5;OU=Microsoft IT;O=Microsoft Corporation;L=Redmond;ST=Washington;C=US', 'ssl_issuer_CN=Microsoft Secure Server CA 2011;O=Microsoft Corporation;L=Redmond;ST=Washington;C=US', 'ssl_issuer_CN=Microsoft Update Secure Server CA 2.1;O=Microsoft Corporation;L=Redmond;ST=Washington;C=US', 'http_trans_depth_10', 'http_trans_depth_2', 'http_trans_depth_3', 'http_trans_depth_4', 'http_trans_depth_5', 'http_trans_depth_6', 'http_trans_depth_7', 'http_trans_depth_8', 'http_trans_depth_9', 'http_method_HEAD', 'http_status_code_0', 'http_status_code_101', 'http_status_code_200', 'http_status_code_206', 'http_status_code_302', 'http_status_code_304', 'http_status_code_403', 'http_status_code_404', 'http_user_agent_DAFUPnP', 'http_user_agent_DataCha0s/2.0', 'http_user_agent_Debian APT-HTTP/1.3 (1.6.6)', 'http_user_agent_Debian APT-HTTP/1.3 (1.7.4)', 'http_user_agent_MICROSOFT_DEVICE_METADATA_RETRIEVAL_CLIENT', 'http_user_agent_Microsoft BITS/7.8', 'http_user_agent_Microsoft NCSI', 'http_user_agent_Microsoft-CryptoAPI/10.0', 'http_user_agent_Microsoft-Delivery-Optimization/10.0', 'http_user_agent_Microsoft-WNS/10.0', 'http_user_agent_Microsoft-Windows/10.0 UPnP/1.0', 'http_user_agent_Microsoft-Windows/10.0 UPnP/1.0 Microsoft-DLNA DLNADOC/1.50', 'http_user_agent_Mozilla/1.22 (compatible; MSIE 10.0; Windows 3.1)', 'http_user_agent_Mozilla/4.08 [en] (WinNT; I ;Nav)', 'http_user_agent_Mozilla/5.0 (Macintosh; Intel Mac OS X 10.11; rv:49.0) Gecko/20100101 Firefox/49.0', 'http_user_agent_Mozilla/5.0 (Macintosh; Intel Mac OS X 10_12_0) AppleWebKit/537.36 (KHTML; like Gecko) Chrome/53.0.2785.143 Safari/537.36', 'http_user_agent_Mozilla/5.0 (Windows NT 10.0; Win64; x64) AppleWebKit/537.36 (KHTML; like Gecko) Chrome/64.0.3282.140 Safari/537.36 Edge/18.17763', 'http_user_agent_Mozilla/5.0 (Windows NT 6.3; rv:36.0) Gecko/20100101 Firefox/36.0', 'http_user_agent_Mozilla/5.0 (X11; Linux x86_64) AppleWebKit/534.30 (KHTML; like Gecko) Version/4.0 Oupeng/10.2.1.86910 Safari/534.30', 'http_user_agent_Mozilla/5.0 (X11; U; Linux i686; de-DE; rv:1.6) Gecko/20040207 Firefox/0.8', 'http_user_agent_Mozilla/5.0 (X11; Ubuntu; Linux x86_64; rv:66.0) Gecko/20100101 Firefox/66.0', 'http_user_agent_Mozilla/5.0 (iPhone; U; CPU iOS 2_0 like Mac OS X; en-us)', 'http_user_agent_User-Agent: Microsoft-DLNA DLNADOC/1.50', 'http_user_agent_Windows-Update-Agent/10.0.10011.16384 Client-Protocol/1.91', 'http_user_agent_sqlmap/1.2#stable (http://sqlmap.org)', 'http_orig_mime_types_application/soap+xml', 'http_orig_mime_types_application/xml', 'http_resp_mime_types_application/ocsp-response', 'http_resp_mime_types_application/vnd.ms-cab-compressed', 'http_resp_mime_types_application/x-debian-package', 'http_resp_mime_types_application/xml', 'http_resp_mime_types_image/jpeg', 'http_resp_mime_types_image/png', 'http_resp_mime_types_text/json', 'weird_name_TCP_ack_underflow_or_misorder', 'weird_name_above_hole_data_without_any_acks', 'weird_name_active_connection_reuse', 'weird_name_bad_TCP_checksum', 'weird_name_bad_UDP_checksum', 'weird_name_data_before_established', 'weird_name_inappropriate_FIN', 'weird_addl_48']\n",
    "for item in miss_list:\n",
    "    df[str(item)]=0"
   ],
   "metadata": {
    "collapsed": false,
    "pycharm": {
     "name": "#%%\n"
    }
   }
  },
  {
   "cell_type": "code",
   "execution_count": 7,
   "outputs": [],
   "source": [
    "df = df[['duration', 'src_bytes', 'dst_bytes', 'missed_bytes', 'src_pkts', 'src_ip_bytes', 'dst_pkts', 'dst_ip_bytes',\n",
    "         'http_request_body_len', 'http_response_body_len', 'label', 'proto_icmp', 'proto_tcp', 'proto_udp',\n",
    "         'service_-', 'service_dce_rpc', 'service_dhcp', 'service_dns', 'service_ftp', 'service_gssapi', 'service_http',\n",
    "         'service_smb', 'service_smb;gssapi', 'service_ssl', 'conn_state_OTH', 'conn_state_REJ', 'conn_state_RSTO',\n",
    "         'conn_state_RSTOS0', 'conn_state_RSTR', 'conn_state_RSTRH', 'conn_state_S0', 'conn_state_S1', 'conn_state_S2',\n",
    "         'conn_state_S3', 'conn_state_SF', 'conn_state_SH', 'conn_state_SHR', 'dns_qclass_0', 'dns_qclass_1',\n",
    "         'dns_qclass_32769', 'dns_qtype_0', 'dns_qtype_1', 'dns_qtype_2', 'dns_qtype_6', 'dns_qtype_12', 'dns_qtype_16',\n",
    "         'dns_qtype_28', 'dns_qtype_32', 'dns_qtype_33', 'dns_qtype_43', 'dns_qtype_48', 'dns_qtype_255', 'dns_rcode_0',\n",
    "         'dns_rcode_1', 'dns_rcode_2', 'dns_rcode_3', 'dns_rcode_5', 'dns_AA_-', 'dns_AA_F', 'dns_AA_T', 'dns_RD_-',\n",
    "         'dns_RD_F', 'dns_RD_T', 'dns_RA_-', 'dns_RA_F', 'dns_RA_T', 'dns_rejected_-', 'dns_rejected_F',\n",
    "         'dns_rejected_T', 'ssl_version_-', 'ssl_version_TLSv10', 'ssl_version_TLSv12', 'ssl_version_TLSv13',\n",
    "         'ssl_cipher_-', 'ssl_cipher_TLS_AES_128_GCM_SHA256', 'ssl_cipher_TLS_ECDHE_ECDSA_WITH_AES_128_GCM_SHA256',\n",
    "         'ssl_cipher_TLS_ECDHE_RSA_WITH_AES_128_GCM_SHA256', 'ssl_cipher_TLS_ECDHE_RSA_WITH_AES_256_CBC_SHA',\n",
    "         'ssl_cipher_TLS_ECDHE_RSA_WITH_AES_256_GCM_SHA384', 'ssl_resumed_-', 'ssl_resumed_F', 'ssl_resumed_T',\n",
    "         'ssl_established_-', 'ssl_established_F', 'ssl_established_T', 'ssl_subject_-',\n",
    "         'ssl_subject_CN=*.events.data.microsoft.com;OU=Microsoft;O=Microsoft Corporation;L=Redmond;ST=WA;C=US',\n",
    "         'ssl_subject_CN=*.wns.windows.com',\n",
    "         'ssl_subject_CN=Mr Shepherd;OU=Security Shepherd Project;O=OWASP;L=Dublin;ST=Ireland;C=IE',\n",
    "         'ssl_subject_CN=settings-win.data.microsoft.com;OU=WSE;O=Microsoft;L=Redmond;ST=WA;C=US',\n",
    "         'ssl_subject_CN=sls.update.microsoft.com;OU=DSP;O=Microsoft;L=Redmond;ST=WA;C=US', 'ssl_issuer_-',\n",
    "         'ssl_issuer_CN=Microsoft IT TLS CA 5;OU=Microsoft IT;O=Microsoft Corporation;L=Redmond;ST=Washington;C=US',\n",
    "         'ssl_issuer_CN=Microsoft Secure Server CA 2011;O=Microsoft Corporation;L=Redmond;ST=Washington;C=US',\n",
    "         'ssl_issuer_CN=Microsoft Update Secure Server CA 2.1;O=Microsoft Corporation;L=Redmond;ST=Washington;C=US',\n",
    "         'ssl_issuer_CN=Mr Shepherd;OU=Security Shepherd Project;O=OWASP;L=Dublin;ST=Ireland;C=IE',\n",
    "         'http_trans_depth_-', 'http_trans_depth_1', 'http_trans_depth_10', 'http_trans_depth_2', 'http_trans_depth_3',\n",
    "         'http_trans_depth_4', 'http_trans_depth_5', 'http_trans_depth_6', 'http_trans_depth_7', 'http_trans_depth_8',\n",
    "         'http_trans_depth_9', 'http_method_-', 'http_method_GET', 'http_method_HEAD', 'http_method_POST',\n",
    "         'http_version_-', 'http_version_1.1', 'http_status_code_0', 'http_status_code_101', 'http_status_code_200',\n",
    "         'http_status_code_206', 'http_status_code_302', 'http_status_code_304', 'http_status_code_403',\n",
    "         'http_status_code_404', 'http_user_agent_-', 'http_user_agent_Comos/0.9_(robot@xyleme.com)',\n",
    "         'http_user_agent_DAFUPnP', 'http_user_agent_DataCha0s/2.0', 'http_user_agent_Debian APT-HTTP/1.3 (1.6.6)',\n",
    "         'http_user_agent_Debian APT-HTTP/1.3 (1.7.4)', 'http_user_agent_DonutP; Windows98SE',\n",
    "         'http_user_agent_MICROSOFT_DEVICE_METADATA_RETRIEVAL_CLIENT', 'http_user_agent_Microsoft BITS/7.8',\n",
    "         'http_user_agent_Microsoft NCSI', 'http_user_agent_Microsoft-CryptoAPI/10.0',\n",
    "         'http_user_agent_Microsoft-Delivery-Optimization/10.0', 'http_user_agent_Microsoft-WNS/10.0',\n",
    "         'http_user_agent_Microsoft-Windows/10.0 UPnP/1.0',\n",
    "         'http_user_agent_Microsoft-Windows/10.0 UPnP/1.0 Microsoft-DLNA DLNADOC/1.50',\n",
    "         'http_user_agent_Mozilla/1.22 (compatible; MSIE 10.0; Windows 3.1)',\n",
    "         'http_user_agent_Mozilla/4.08 [en] (WinNT; I ;Nav)',\n",
    "         'http_user_agent_Mozilla/5.0 (Macintosh; Intel Mac OS X 10.11; rv:49.0) Gecko/20100101 Firefox/49.0',\n",
    "         'http_user_agent_Mozilla/5.0 (Macintosh; Intel Mac OS X 10_12_0) AppleWebKit/537.36 (KHTML; like Gecko) Chrome/53.0.2785.143 Safari/537.36',\n",
    "         'http_user_agent_Mozilla/5.0 (SMART-TV; Linux; Tizen 2.3) AppleWebkit/538.1 (KHTML; like Gecko) SamsungBrowser/1.0 Safari/538.1',\n",
    "         'http_user_agent_Mozilla/5.0 (Windows NT 10.0; Win64; x64) AppleWebKit/537.36 (KHTML; like Gecko) Chrome/64.0.3282.140 Safari/537.36 Edge/18.17763',\n",
    "         'http_user_agent_Mozilla/5.0 (Windows NT 6.1; WOW64; rv:49.0) Gecko/20100101 Firefox/49.0',\n",
    "         'http_user_agent_Mozilla/5.0 (Windows NT 6.1; Win64; x64; rv:5.0) Whistler/20110021 myibrow/5.0.0.0',\n",
    "         'http_user_agent_Mozilla/5.0 (Windows NT 6.1; rv:21.0) Gecko/20130401 Firefox/21.0',\n",
    "         'http_user_agent_Mozilla/5.0 (Windows NT 6.3; WOW64) AppleWebKit/537.36 (KHTML; like Gecko) Chrome/53.0.2785.143 Safari/537.36',\n",
    "         'http_user_agent_Mozilla/5.0 (Windows NT 6.3; rv:36.0) Gecko/20100101 Firefox/36.0',\n",
    "         'http_user_agent_Mozilla/5.0 (X11; Linux x86_64) AppleWebKit/534.30 (KHTML; like Gecko) Version/4.0 Oupeng/10.2.1.86910 Safari/534.30',\n",
    "         'http_user_agent_Mozilla/5.0 (X11; U; Linux i686; de-DE; rv:1.6) Gecko/20040207 Firefox/0.8',\n",
    "         'http_user_agent_Mozilla/5.0 (X11; Ubuntu; Linux x86_64; rv:66.0) Gecko/20100101 Firefox/66.0',\n",
    "         'http_user_agent_Mozilla/5.0 (compatible; MSIE 10.0; Windows NT 6.1; Trident/4.0; InfoPath.2; SV1; .NET CLR 2.0.50727; WOW64)',\n",
    "         'http_user_agent_Mozilla/5.0 (iPhone; U; CPU iOS 2_0 like Mac OS X; en-us)', 'http_user_agent_Ruby',\n",
    "         'http_user_agent_User-Agent: Microsoft-DLNA DLNADOC/1.50',\n",
    "         'http_user_agent_Windows-Update-Agent/10.0.10011.16384 Client-Protocol/1.91', 'http_user_agent_hacking',\n",
    "         'http_user_agent_sqlmap/1.2#stable (http://sqlmap.org)', 'http_orig_mime_types_-',\n",
    "         'http_orig_mime_types_application/soap+xml', 'http_orig_mime_types_application/xml', 'http_resp_mime_types_-',\n",
    "         'http_resp_mime_types_application/ocsp-response', 'http_resp_mime_types_application/vnd.ms-cab-compressed',\n",
    "         'http_resp_mime_types_application/x-debian-package', 'http_resp_mime_types_application/xml',\n",
    "         'http_resp_mime_types_image/jpeg', 'http_resp_mime_types_image/png', 'http_resp_mime_types_text/html',\n",
    "         'http_resp_mime_types_text/json', 'http_resp_mime_types_text/plain', 'weird_name_-',\n",
    "         'weird_name_DNS_RR_unknown_type', 'weird_name_TCP_ack_underflow_or_misorder',\n",
    "         'weird_name_above_hole_data_without_any_acks', 'weird_name_active_connection_reuse',\n",
    "         'weird_name_bad_TCP_checksum', 'weird_name_bad_UDP_checksum', 'weird_name_connection_originator_SYN_ack',\n",
    "         'weird_name_data_before_established', 'weird_name_dnp3_corrupt_header_checksum',\n",
    "         'weird_name_inappropriate_FIN', 'weird_name_possible_split_routing', 'weird_addl_-', 'weird_addl_43',\n",
    "         'weird_addl_46', 'weird_addl_48', 'weird_notice_-', 'weird_notice_F']]"
   ],
   "metadata": {
    "collapsed": false,
    "pycharm": {
     "name": "#%%\n"
    }
   }
  },
  {
   "cell_type": "code",
   "execution_count": 8,
   "outputs": [],
   "source": [
    "df.to_csv('/media/wuguo-buaa/LENOVO_USB_HDD/PycharmProjects/Anomaly-Detection-IoT23/Models/Data/test/ToN-iot_test.csv',\n",
    "          index=False, encoding='utf-8')"
   ],
   "metadata": {
    "collapsed": false,
    "pycharm": {
     "name": "#%%\n"
    }
   }
  },
  {
   "cell_type": "code",
   "execution_count": null,
   "outputs": [],
   "source": [],
   "metadata": {
    "collapsed": false,
    "pycharm": {
     "name": "#%%\n"
    }
   }
  }
 ],
 "metadata": {
  "kernelspec": {
   "display_name": "Python 3",
   "language": "python",
   "name": "python3"
  },
  "language_info": {
   "codemirror_mode": {
    "name": "ipython",
    "version": 2
   },
   "file_extension": ".py",
   "mimetype": "text/x-python",
   "name": "python",
   "nbconvert_exporter": "python",
   "pygments_lexer": "ipython2",
   "version": "2.7.6"
  }
 },
 "nbformat": 4,
 "nbformat_minor": 0
}