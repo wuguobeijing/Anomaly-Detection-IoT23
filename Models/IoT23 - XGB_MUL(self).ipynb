{
 "cells": [
  {
   "cell_type": "code",
   "execution_count": 1,
   "id": "afraid-balloon",
   "metadata": {},
   "outputs": [
    {
     "name": "stderr",
     "output_type": "stream",
     "text": [
      "/media/wuguo-buaa/LENOVO_USB_HDD/PycharmProjects/Machine_learning_venv/lib/python3.8/site-packages/pkg_resources/__init__.py:116: PkgResourcesDeprecationWarning: 0.18ubuntu0.18.04.1 is an invalid version and will not be supported in a future release\n",
      "  warnings.warn(\n"
     ]
    }
   ],
   "source": [
    "import pandas as pd\n",
    "from sklearn.svm import SVC\n",
    "from sklearn.model_selection import GridSearchCV\n",
    "from sklearn.metrics import classification_report, confusion_matrix\n",
    "from sklearn.model_selection import train_test_split\n",
    "import time\n",
    "from sklearn.model_selection import GridSearchCV, RandomizedSearchCV\n",
    "import numpy as np\n",
    "import seaborn as sns\n",
    "import matplotlib.pyplot as plt\n",
    "from xgboost import XGBClassifier"
   ]
  },
  {
   "cell_type": "code",
   "execution_count": 2,
   "outputs": [],
   "source": [
    "filepath = \"../Data Preprocessing/iot23_combined.csv\""
   ],
   "metadata": {
    "collapsed": false,
    "pycharm": {
     "name": "#%%\n"
    }
   }
  },
  {
   "cell_type": "code",
   "execution_count": 3,
   "id": "split-employee",
   "metadata": {},
   "outputs": [],
   "source": [
    "df = pd.read_csv(filepath)"
   ]
  },
  {
   "cell_type": "code",
   "execution_count": 4,
   "id": "breeding-reality",
   "metadata": {},
   "outputs": [],
   "source": [
    "del df['Unnamed: 0']"
   ]
  },
  {
   "cell_type": "code",
   "execution_count": 6,
   "id": "powerful-socket",
   "metadata": {},
   "outputs": [
    {
     "data": {
      "text/plain": "         duration  orig_bytes  resp_bytes  missed_bytes  orig_pkts  \\\n0        2.998796           0           0           0.0        3.0   \n1        0.000000           0           0           0.0        1.0   \n2        0.000000           0           0           0.0        1.0   \n3        2.998804           0           0           0.0        3.0   \n4        0.000000           0           0           0.0        1.0   \n...           ...         ...         ...           ...        ...   \n2739669  0.000000           0           0           0.0        1.0   \n2739670  0.000000           0           0           0.0        1.0   \n2739671  0.000000           0           0           0.0        1.0   \n2739672  0.000000           0           0           0.0        1.0   \n2739673  0.000000           0           0           0.0        1.0   \n\n         orig_ip_bytes  resp_pkts  resp_ip_bytes  label category  ...  \\\n0                180.0        0.0            0.0      1  Malware  ...   \n1                 60.0        0.0            0.0      1  Malware  ...   \n2                 60.0        0.0            0.0      1  Malware  ...   \n3                180.0        0.0            0.0      0   Benign  ...   \n4                 60.0        0.0            0.0      0   Benign  ...   \n...                ...        ...            ...    ...      ...  ...   \n2739669           40.0        0.0            0.0      1  Malware  ...   \n2739670           40.0        0.0            0.0      1  Malware  ...   \n2739671           40.0        0.0            0.0      1  Malware  ...   \n2739672           40.0        0.0            0.0      1  Malware  ...   \n2739673           40.0        0.0            0.0      1  Malware  ...   \n\n         conn_state_SF  conn_state_SH  conn_state_SHR  service_-  \\\n0                    0              0               0          1   \n1                    0              0               0          1   \n2                    0              0               0          1   \n3                    0              0               0          1   \n4                    0              0               0          1   \n...                ...            ...             ...        ...   \n2739669              0              0               0          1   \n2739670              0              0               0          1   \n2739671              0              0               0          1   \n2739672              0              0               0          1   \n2739673              0              0               0          1   \n\n         service_dhcp  service_dns  service_http  service_irc  service_ssh  \\\n0                   0            0             0            0            0   \n1                   0            0             0            0            0   \n2                   0            0             0            0            0   \n3                   0            0             0            0            0   \n4                   0            0             0            0            0   \n...               ...          ...           ...          ...          ...   \n2739669             0            0             0            0            0   \n2739670             0            0             0            0            0   \n2739671             0            0             0            0            0   \n2739672             0            0             0            0            0   \n2739673             0            0             0            0            0   \n\n         service_ssl  \n0                  0  \n1                  0  \n2                  0  \n3                  0  \n4                  0  \n...              ...  \n2739669            0  \n2739670            0  \n2739671            0  \n2739672            0  \n2739673            0  \n\n[2739674 rows x 33 columns]",
      "text/html": "<div>\n<style scoped>\n    .dataframe tbody tr th:only-of-type {\n        vertical-align: middle;\n    }\n\n    .dataframe tbody tr th {\n        vertical-align: top;\n    }\n\n    .dataframe thead th {\n        text-align: right;\n    }\n</style>\n<table border=\"1\" class=\"dataframe\">\n  <thead>\n    <tr style=\"text-align: right;\">\n      <th></th>\n      <th>duration</th>\n      <th>orig_bytes</th>\n      <th>resp_bytes</th>\n      <th>missed_bytes</th>\n      <th>orig_pkts</th>\n      <th>orig_ip_bytes</th>\n      <th>resp_pkts</th>\n      <th>resp_ip_bytes</th>\n      <th>label</th>\n      <th>category</th>\n      <th>...</th>\n      <th>conn_state_SF</th>\n      <th>conn_state_SH</th>\n      <th>conn_state_SHR</th>\n      <th>service_-</th>\n      <th>service_dhcp</th>\n      <th>service_dns</th>\n      <th>service_http</th>\n      <th>service_irc</th>\n      <th>service_ssh</th>\n      <th>service_ssl</th>\n    </tr>\n  </thead>\n  <tbody>\n    <tr>\n      <th>0</th>\n      <td>2.998796</td>\n      <td>0</td>\n      <td>0</td>\n      <td>0.0</td>\n      <td>3.0</td>\n      <td>180.0</td>\n      <td>0.0</td>\n      <td>0.0</td>\n      <td>1</td>\n      <td>Malware</td>\n      <td>...</td>\n      <td>0</td>\n      <td>0</td>\n      <td>0</td>\n      <td>1</td>\n      <td>0</td>\n      <td>0</td>\n      <td>0</td>\n      <td>0</td>\n      <td>0</td>\n      <td>0</td>\n    </tr>\n    <tr>\n      <th>1</th>\n      <td>0.000000</td>\n      <td>0</td>\n      <td>0</td>\n      <td>0.0</td>\n      <td>1.0</td>\n      <td>60.0</td>\n      <td>0.0</td>\n      <td>0.0</td>\n      <td>1</td>\n      <td>Malware</td>\n      <td>...</td>\n      <td>0</td>\n      <td>0</td>\n      <td>0</td>\n      <td>1</td>\n      <td>0</td>\n      <td>0</td>\n      <td>0</td>\n      <td>0</td>\n      <td>0</td>\n      <td>0</td>\n    </tr>\n    <tr>\n      <th>2</th>\n      <td>0.000000</td>\n      <td>0</td>\n      <td>0</td>\n      <td>0.0</td>\n      <td>1.0</td>\n      <td>60.0</td>\n      <td>0.0</td>\n      <td>0.0</td>\n      <td>1</td>\n      <td>Malware</td>\n      <td>...</td>\n      <td>0</td>\n      <td>0</td>\n      <td>0</td>\n      <td>1</td>\n      <td>0</td>\n      <td>0</td>\n      <td>0</td>\n      <td>0</td>\n      <td>0</td>\n      <td>0</td>\n    </tr>\n    <tr>\n      <th>3</th>\n      <td>2.998804</td>\n      <td>0</td>\n      <td>0</td>\n      <td>0.0</td>\n      <td>3.0</td>\n      <td>180.0</td>\n      <td>0.0</td>\n      <td>0.0</td>\n      <td>0</td>\n      <td>Benign</td>\n      <td>...</td>\n      <td>0</td>\n      <td>0</td>\n      <td>0</td>\n      <td>1</td>\n      <td>0</td>\n      <td>0</td>\n      <td>0</td>\n      <td>0</td>\n      <td>0</td>\n      <td>0</td>\n    </tr>\n    <tr>\n      <th>4</th>\n      <td>0.000000</td>\n      <td>0</td>\n      <td>0</td>\n      <td>0.0</td>\n      <td>1.0</td>\n      <td>60.0</td>\n      <td>0.0</td>\n      <td>0.0</td>\n      <td>0</td>\n      <td>Benign</td>\n      <td>...</td>\n      <td>0</td>\n      <td>0</td>\n      <td>0</td>\n      <td>1</td>\n      <td>0</td>\n      <td>0</td>\n      <td>0</td>\n      <td>0</td>\n      <td>0</td>\n      <td>0</td>\n    </tr>\n    <tr>\n      <th>...</th>\n      <td>...</td>\n      <td>...</td>\n      <td>...</td>\n      <td>...</td>\n      <td>...</td>\n      <td>...</td>\n      <td>...</td>\n      <td>...</td>\n      <td>...</td>\n      <td>...</td>\n      <td>...</td>\n      <td>...</td>\n      <td>...</td>\n      <td>...</td>\n      <td>...</td>\n      <td>...</td>\n      <td>...</td>\n      <td>...</td>\n      <td>...</td>\n      <td>...</td>\n      <td>...</td>\n    </tr>\n    <tr>\n      <th>2739669</th>\n      <td>0.000000</td>\n      <td>0</td>\n      <td>0</td>\n      <td>0.0</td>\n      <td>1.0</td>\n      <td>40.0</td>\n      <td>0.0</td>\n      <td>0.0</td>\n      <td>1</td>\n      <td>Malware</td>\n      <td>...</td>\n      <td>0</td>\n      <td>0</td>\n      <td>0</td>\n      <td>1</td>\n      <td>0</td>\n      <td>0</td>\n      <td>0</td>\n      <td>0</td>\n      <td>0</td>\n      <td>0</td>\n    </tr>\n    <tr>\n      <th>2739670</th>\n      <td>0.000000</td>\n      <td>0</td>\n      <td>0</td>\n      <td>0.0</td>\n      <td>1.0</td>\n      <td>40.0</td>\n      <td>0.0</td>\n      <td>0.0</td>\n      <td>1</td>\n      <td>Malware</td>\n      <td>...</td>\n      <td>0</td>\n      <td>0</td>\n      <td>0</td>\n      <td>1</td>\n      <td>0</td>\n      <td>0</td>\n      <td>0</td>\n      <td>0</td>\n      <td>0</td>\n      <td>0</td>\n    </tr>\n    <tr>\n      <th>2739671</th>\n      <td>0.000000</td>\n      <td>0</td>\n      <td>0</td>\n      <td>0.0</td>\n      <td>1.0</td>\n      <td>40.0</td>\n      <td>0.0</td>\n      <td>0.0</td>\n      <td>1</td>\n      <td>Malware</td>\n      <td>...</td>\n      <td>0</td>\n      <td>0</td>\n      <td>0</td>\n      <td>1</td>\n      <td>0</td>\n      <td>0</td>\n      <td>0</td>\n      <td>0</td>\n      <td>0</td>\n      <td>0</td>\n    </tr>\n    <tr>\n      <th>2739672</th>\n      <td>0.000000</td>\n      <td>0</td>\n      <td>0</td>\n      <td>0.0</td>\n      <td>1.0</td>\n      <td>40.0</td>\n      <td>0.0</td>\n      <td>0.0</td>\n      <td>1</td>\n      <td>Malware</td>\n      <td>...</td>\n      <td>0</td>\n      <td>0</td>\n      <td>0</td>\n      <td>1</td>\n      <td>0</td>\n      <td>0</td>\n      <td>0</td>\n      <td>0</td>\n      <td>0</td>\n      <td>0</td>\n    </tr>\n    <tr>\n      <th>2739673</th>\n      <td>0.000000</td>\n      <td>0</td>\n      <td>0</td>\n      <td>0.0</td>\n      <td>1.0</td>\n      <td>40.0</td>\n      <td>0.0</td>\n      <td>0.0</td>\n      <td>1</td>\n      <td>Malware</td>\n      <td>...</td>\n      <td>0</td>\n      <td>0</td>\n      <td>0</td>\n      <td>1</td>\n      <td>0</td>\n      <td>0</td>\n      <td>0</td>\n      <td>0</td>\n      <td>0</td>\n      <td>0</td>\n    </tr>\n  </tbody>\n</table>\n<p>2739674 rows × 33 columns</p>\n</div>"
     },
     "execution_count": 6,
     "metadata": {},
     "output_type": "execute_result"
    }
   ],
   "source": [
    "df"
   ]
  },
  {
   "cell_type": "code",
   "execution_count": 5,
   "id": "competent-stewart",
   "metadata": {},
   "outputs": [],
   "source": [
    "XGB = XGBClassifier()\n",
    "param_dist = {\n",
    "'n_estimators':range(80,200,20),\n",
    "# 'max_depth':range(4,10,1),\n",
    "# 'learning_rate':np.linspace(0.01,2,20),\n",
    "# 'subsample':np.linspace(0.7,0.9,20),\n",
    "# 'colsample_bytree':np.linspace(0.5,0.98,10),\n",
    "'min_child_weight':range(2,5,1)\n",
    "}\n"
   ]
  },
  {
   "cell_type": "code",
   "execution_count": 6,
   "id": "furnished-arena",
   "metadata": {},
   "outputs": [],
   "source": [
    "X = df[['duration', 'orig_bytes', 'resp_bytes', 'missed_bytes', 'orig_pkts', 'orig_ip_bytes', 'resp_pkts', 'resp_ip_bytes', 'proto_icmp', 'proto_tcp', 'proto_udp', 'service_-', 'service_dhcp', 'service_dns', 'service_http', 'service_ssh', 'service_ssl', 'service_irc', 'conn_state_OTH', 'conn_state_REJ', 'conn_state_RSTO', 'conn_state_RSTOS0', 'conn_state_RSTR', 'conn_state_RSTRH', 'conn_state_S0', 'conn_state_S1', 'conn_state_S2', 'conn_state_S3', 'conn_state_SF', 'conn_state_SH', 'conn_state_SHR']].values\n",
    "Y = df['label'].values\n",
    "X_train, X_test, Y_train, Y_test = train_test_split(X, Y, random_state=10, test_size=0.2)\n",
    "Y_train, Y_test = Y_train.astype(int), Y_test.astype(int)"
   ]
  },
  {
   "cell_type": "code",
   "execution_count": 8,
   "outputs": [
    {
     "name": "stdout",
     "output_type": "stream",
     "text": [
      "2191739\n"
     ]
    },
    {
     "data": {
      "text/plain": "array([1, 1, 1, ..., 1, 1, 2])"
     },
     "execution_count": 8,
     "metadata": {},
     "output_type": "execute_result"
    }
   ],
   "source": [
    "type(Y_train)\n",
    "print(Y_train.size)\n",
    "Y_train"
   ],
   "metadata": {
    "collapsed": false,
    "pycharm": {
     "name": "#%%\n"
    }
   }
  },
  {
   "cell_type": "code",
   "execution_count": null,
   "id": "sensitive-plastic",
   "metadata": {
    "pycharm": {
     "is_executing": true
    }
   },
   "outputs": [
    {
     "name": "stdout",
     "output_type": "stream",
     "text": [
      "program start...\n",
      "\n"
     ]
    },
    {
     "name": "stderr",
     "output_type": "stream",
     "text": [
      "/media/wuguo-buaa/LENOVO_USB_HDD/PycharmProjects/Machine_learning_venv/lib/python3.8/site-packages/sklearn/model_selection/_split.py:676: UserWarning: The least populated class in y has only 2 members, which is less than n_splits=3.\n",
      "  warnings.warn(\n"
     ]
    }
   ],
   "source": [
    "start = time.time()\n",
    "print('program start...')\n",
    "print()\n",
    "\n",
    "#GridSearchCV参数说明，clf1设置训练的学习器\n",
    "#param_dist字典类型，放入参数搜索范围\n",
    "#scoring = 'neg_log_loss'，精度评价方式设定为“neg_log_loss“\n",
    "#n_iter=300，训练300次，数值越大，获得的参数精度越大，但是搜索时间越长\n",
    "#n_jobs = -1，使用所有的CPU进行训练，默认为1，使用1个CPU\n",
    "grid = GridSearchCV(XGB, param_dist, cv = 3, scoring = 'neg_log_loss', n_jobs = 8)\n",
    "\n",
    "#在训练集上训练\n",
    "grid.fit(X_train,np.ravel(Y_train))\n",
    "#返回最优的训练器\n",
    "best_estimator = grid.best_estimator_\n",
    "print(best_estimator)\n",
    "print(grid.best_score_)\n",
    "#输出最优训练器的精度\n",
    "end = time.time()\n",
    "print('program end...')\n",
    "print()\n",
    "print('time cost: ')\n",
    "print(end - start, 'seconds')"
   ]
  },
  {
   "cell_type": "code",
   "execution_count": null,
   "outputs": [],
   "source": [
    "print('Score:')\n",
    "score = xgb_clasifier.score(X_test,Y_test)\n",
    "print(score)\n"
   ],
   "metadata": {
    "collapsed": false,
    "pycharm": {
     "name": "#%%\n"
    }
   }
  },
  {
   "cell_type": "code",
   "execution_count": 24,
   "id": "indirect-immune",
   "metadata": {},
   "outputs": [
    {
     "name": "stdout",
     "output_type": "stream",
     "text": [
      "Classifiction Report :\n"
     ]
    },
    {
     "name": "stderr",
     "output_type": "stream",
     "text": [
      "/media/wuguo-buaa/LENOVO_USB_HDD/PycharmProjects/Machine_learning_venv/lib/python3.8/site-packages/sklearn/metrics/_classification.py:1318: UndefinedMetricWarning: Precision and F-score are ill-defined and being set to 0.0 in labels with no predicted samples. Use `zero_division` parameter to control this behavior.\n",
      "  _warn_prf(average, modifier, msg_start, len(result))\n"
     ]
    },
    {
     "name": "stdout",
     "output_type": "stream",
     "text": [
      "              precision    recall  f1-score   support\n",
      "\n",
      "           0       0.97      0.54      0.69     75302\n",
      "           1       0.67      1.00      0.80    311713\n",
      "           2       0.68      0.00      0.00    104388\n",
      "           3       0.00      0.00      0.00         1\n",
      "           4       1.00      0.81      0.89     52594\n",
      "           5       1.00      0.12      0.21      2969\n",
      "           6       1.00      1.00      1.00       832\n",
      "           7       0.90      0.39      0.55       112\n",
      "           8       0.86      0.80      0.83        15\n",
      "           9       0.00      0.00      0.00         3\n",
      "          10       1.00      1.00      1.00         1\n",
      "          11       0.75      0.75      0.75         4\n",
      "          12       0.00      0.00      0.00         1\n",
      "\n",
      "    accuracy                           0.72    547935\n",
      "   macro avg       0.68      0.49      0.52    547935\n",
      "weighted avg       0.75      0.72      0.64    547935\n",
      "\n"
     ]
    },
    {
     "name": "stderr",
     "output_type": "stream",
     "text": [
      "/media/wuguo-buaa/LENOVO_USB_HDD/PycharmProjects/Machine_learning_venv/lib/python3.8/site-packages/sklearn/metrics/_classification.py:1318: UndefinedMetricWarning: Precision and F-score are ill-defined and being set to 0.0 in labels with no predicted samples. Use `zero_division` parameter to control this behavior.\n",
      "  _warn_prf(average, modifier, msg_start, len(result))\n",
      "/media/wuguo-buaa/LENOVO_USB_HDD/PycharmProjects/Machine_learning_venv/lib/python3.8/site-packages/sklearn/metrics/_classification.py:1318: UndefinedMetricWarning: Precision and F-score are ill-defined and being set to 0.0 in labels with no predicted samples. Use `zero_division` parameter to control this behavior.\n",
      "  _warn_prf(average, modifier, msg_start, len(result))\n"
     ]
    }
   ],
   "source": [
    "print(\"Classifiction Report :\")\n",
    "print(classification_report(Y_test, y_pred))"
   ]
  },
  {
   "cell_type": "code",
   "execution_count": 25,
   "id": "juvenile-arrangement",
   "metadata": {},
   "outputs": [
    {
     "ename": "IndexError",
     "evalue": "index 12 is out of bounds for axis 1 with size 12",
     "output_type": "error",
     "traceback": [
      "\u001B[0;31m---------------------------------------------------------------------------\u001B[0m",
      "\u001B[0;31mIndexError\u001B[0m                                Traceback (most recent call last)",
      "Input \u001B[0;32mIn [25]\u001B[0m, in \u001B[0;36m<cell line: 5>\u001B[0;34m()\u001B[0m\n\u001B[1;32m      3\u001B[0m predicted_probas \u001B[38;5;241m=\u001B[39m xgb_clasifier\u001B[38;5;241m.\u001B[39mpredict_proba(X_test)\n\u001B[1;32m      4\u001B[0m \u001B[38;5;66;03m#ROC曲线\u001B[39;00m\n\u001B[0;32m----> 5\u001B[0m \u001B[43mskplt\u001B[49m\u001B[38;5;241;43m.\u001B[39;49m\u001B[43mmetrics\u001B[49m\u001B[38;5;241;43m.\u001B[39;49m\u001B[43mplot_roc\u001B[49m\u001B[43m(\u001B[49m\u001B[43mY_test\u001B[49m\u001B[43m,\u001B[49m\u001B[43m \u001B[49m\u001B[43mpredicted_probas\u001B[49m\u001B[43m)\u001B[49m\n\u001B[1;32m      6\u001B[0m plt\u001B[38;5;241m.\u001B[39msavefig(\u001B[38;5;124m'\u001B[39m\u001B[38;5;124m./XGB/PIC/model_multi_classification_roc.jpg\u001B[39m\u001B[38;5;124m'\u001B[39m)\n\u001B[1;32m      7\u001B[0m \u001B[38;5;66;03m#P-R曲线\u001B[39;00m\n",
      "File \u001B[0;32m/media/wuguo-buaa/LENOVO_USB_HDD/PycharmProjects/Machine_learning_venv/lib/python3.8/site-packages/scikitplot/metrics.py:414\u001B[0m, in \u001B[0;36mplot_roc\u001B[0;34m(y_true, y_probas, title, plot_micro, plot_macro, classes_to_plot, ax, figsize, cmap, title_fontsize, text_fontsize)\u001B[0m\n\u001B[1;32m    412\u001B[0m indices_to_plot \u001B[38;5;241m=\u001B[39m np\u001B[38;5;241m.\u001B[39min1d(classes, classes_to_plot)\n\u001B[1;32m    413\u001B[0m \u001B[38;5;28;01mfor\u001B[39;00m i, to_plot \u001B[38;5;129;01min\u001B[39;00m \u001B[38;5;28menumerate\u001B[39m(indices_to_plot):\n\u001B[0;32m--> 414\u001B[0m     fpr_dict[i], tpr_dict[i], _ \u001B[38;5;241m=\u001B[39m roc_curve(y_true, \u001B[43mprobas\u001B[49m\u001B[43m[\u001B[49m\u001B[43m:\u001B[49m\u001B[43m,\u001B[49m\u001B[43m \u001B[49m\u001B[43mi\u001B[49m\u001B[43m]\u001B[49m,\n\u001B[1;32m    415\u001B[0m                                             pos_label\u001B[38;5;241m=\u001B[39mclasses[i])\n\u001B[1;32m    416\u001B[0m     \u001B[38;5;28;01mif\u001B[39;00m to_plot:\n\u001B[1;32m    417\u001B[0m         roc_auc \u001B[38;5;241m=\u001B[39m auc(fpr_dict[i], tpr_dict[i])\n",
      "\u001B[0;31mIndexError\u001B[0m: index 12 is out of bounds for axis 1 with size 12"
     ]
    },
    {
     "data": {
      "text/plain": "<Figure size 432x288 with 1 Axes>",
      "image/png": "[encoded data removed]"
     },
     "metadata": {
      "needs_background": "light"
     },
     "output_type": "display_data"
    }
   ],
   "source": [
    "from sklearn.model_selection import cross_val_predict\n",
    "import scikitplot as skplt\n",
    "predicted_probas = xgb_clasifier.predict_proba(X_test)\n",
    "#ROC曲线\n",
    "skplt.metrics.plot_roc(Y_test, predicted_probas)\n",
    "plt.savefig('./XGB/PIC/model_multi_classification_roc.jpg')\n",
    "#P-R曲线\n",
    "skplt.metrics.plot_precision_recall_curve(Y_test, predicted_probas, cmap='nipy_spectral')\n",
    "plt.savefig('./XGB/PIC/model_multi_classification_pr.jpg')"
   ]
  },
  {
   "cell_type": "code",
   "execution_count": 48,
   "outputs": [
    {
     "data": {
      "text/plain": "<Figure size 432x288 with 2 Axes>",
      "image/png": "[encoded data removed]"
     },
     "metadata": {
      "needs_background": "light"
     },
     "output_type": "display_data"
    }
   ],
   "source": [
    "#混淆矩阵\n",
    "predictions = cross_val_predict(xgb_clasifier, X, Y.astype(int))\n",
    "plot = skplt.metrics.plot_confusion_matrix(Y.astype(int), predictions, normalize=True)\n",
    "plt.savefig('./XGB/PIC/model_multi_classification_confusionMatrix.jpg')"
   ],
   "metadata": {
    "collapsed": false,
    "pycharm": {
     "name": "#%%\n"
    }
   }
  },
  {
   "cell_type": "code",
   "execution_count": 49,
   "outputs": [
    {
     "data": {
      "text/plain": "['./XGB/XGB.model']"
     },
     "execution_count": 49,
     "metadata": {},
     "output_type": "execute_result"
    }
   ],
   "source": [
    "import joblib\n",
    "#lr是一个DT模型\n",
    "joblib.dump(xgb_clasifier, './XGB/XGB.model')\n",
    "# DT = joblib.load('dt.model')"
   ],
   "metadata": {
    "collapsed": false,
    "pycharm": {
     "name": "#%%\n"
    }
   }
  },
  {
   "cell_type": "code",
   "execution_count": null,
   "outputs": [],
   "source": [],
   "metadata": {
    "collapsed": false,
    "pycharm": {
     "name": "#%%\n"
    }
   }
  }
 ],
 "metadata": {
  "kernelspec": {
   "display_name": "Python 3",
   "language": "python",
   "name": "python3"
  },
  "language_info": {
   "codemirror_mode": {
    "name": "ipython",
    "version": 3
   },
   "file_extension": ".py",
   "mimetype": "text/x-python",
   "name": "python",
   "nbconvert_exporter": "python",
   "pygments_lexer": "ipython3",
   "version": "3.8.5"
  }
 },
 "nbformat": 4,
 "nbformat_minor": 5
}