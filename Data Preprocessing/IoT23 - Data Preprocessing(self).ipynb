{
 "cells": [
  {
   "cell_type": "code",
   "execution_count": 1,
   "id": "choice-fitness",
   "metadata": {},
   "outputs": [],
   "source": [
    "import pandas as pd"
   ]
  },
  {
   "cell_type": "code",
   "execution_count": 2,
   "id": "experienced-pepper",
   "metadata": {},
   "outputs": [],
   "source": [
    "capture_34 = \"/media/wuguo-buaa/LENOVO_USB_HDD/iot-data/iot_23_datasets_small/opt/Malware-Project/BigDataset/IoTScenarios/CTU-IoT-Malware-Capture-34-1/split_files_subsample/target_list_1.log\"#\n",
    "capture_43 = \"/media/wuguo-buaa/LENOVO_USB_HDD/iot-data/iot_23_datasets_small/opt/Malware-Project/BigDataset/IoTScenarios/CTU-IoT-Malware-Capture-43-1/split_files_subsample/target_list_1.log\"#\n",
    "capture_44 = \"/media/wuguo-buaa/LENOVO_USB_HDD/iot-data/iot_23_datasets_small/opt/Malware-Project/BigDataset/IoTScenarios/CTU-IoT-Malware-Capture-44-1/split_files_subsample/target_list_1.log\"#\n",
    "capture_49 = \"/media/wuguo-buaa/LENOVO_USB_HDD/iot-data/iot_23_datasets_small/opt/Malware-Project/BigDataset/IoTScenarios/CTU-IoT-Malware-Capture-49-1/split_files_subsample/target_list_1.log\"#\n",
    "capture_52 = \"/media/wuguo-buaa/LENOVO_USB_HDD/iot-data/iot_23_datasets_small/opt/Malware-Project/BigDataset/IoTScenarios/CTU-IoT-Malware-Capture-52-1/split_files_subsample/target_list_1.log\"#\n",
    "capture_20 = \"/media/wuguo-buaa/LENOVO_USB_HDD/iot-data/iot_23_datasets_small/opt/Malware-Project/BigDataset/IoTScenarios/CTU-IoT-Malware-Capture-20-1/split_files_subsample/target_list_1.log\"#\n",
    "capture_21 = \"/media/wuguo-buaa/LENOVO_USB_HDD/iot-data/iot_23_datasets_small/opt/Malware-Project/BigDataset/IoTScenarios/CTU-IoT-Malware-Capture-21-1/split_files_subsample/target_list_1.log\"#\n",
    "capture_42 = \"/media/wuguo-buaa/LENOVO_USB_HDD/iot-data/iot_23_datasets_small/opt/Malware-Project/BigDataset/IoTScenarios/CTU-IoT-Malware-Capture-42-1/split_files_subsample/target_list_1.log\"#\n",
    "capture_60 = \"/media/wuguo-buaa/LENOVO_USB_HDD/iot-data/iot_23_datasets_small/opt/Malware-Project/BigDataset/IoTScenarios/CTU-IoT-Malware-Capture-60-1/split_files_subsample/target_list_1.log\"#\n",
    "capture_17 = \"/media/wuguo-buaa/LENOVO_USB_HDD/iot-data/iot_23_datasets_small/opt/Malware-Project/BigDataset/IoTScenarios/CTU-IoT-Malware-Capture-17-1/split_files_subsample/target_list_1.log\"#\n",
    "capture_36 = \"/media/wuguo-buaa/LENOVO_USB_HDD/iot-data/iot_23_datasets_small/opt/Malware-Project/BigDataset/IoTScenarios/CTU-IoT-Malware-Capture-36-1/split_files_subsample/target_list_1.log\"#\n",
    "capture_33 = \"/media/wuguo-buaa/LENOVO_USB_HDD/iot-data/iot_23_datasets_small/opt/Malware-Project/BigDataset/IoTScenarios/CTU-IoT-Malware-Capture-33-1/split_files_subsample/target_list_1.log\"#\n",
    "capture_8 = \"/media/wuguo-buaa/LENOVO_USB_HDD/iot-data/iot_23_datasets_small/opt/Malware-Project/BigDataset/IoTScenarios/CTU-IoT-Malware-Capture-8-1/split_files_subsample/target_list_1.log\"#1.4 MB\n",
    "capture_35 = \"/media/wuguo-buaa/LENOVO_USB_HDD/iot-data/iot_23_datasets_small/opt/Malware-Project/BigDataset/IoTScenarios/CTU-IoT-Malware-Capture-35-1/split_files_subsample/target_list_1.log\"#\n",
    "capture_48 = \"/media/wuguo-buaa/LENOVO_USB_HDD/iot-data/iot_23_datasets_small/opt/Malware-Project/BigDataset/IoTScenarios/CTU-IoT-Malware-Capture-48-1/split_files_subsample/target_list_1.log\"#\n",
    "capture_39 = \"/media/wuguo-buaa/LENOVO_USB_HDD/iot-data/iot_23_datasets_small/opt/Malware-Project/BigDataset/IoTScenarios/CTU-IoT-Malware-Capture-39-1/split_files_subsample/target_list_1.log\"#\n",
    "capture_7 = \"/media/wuguo-buaa/LENOVO_USB_HDD/iot-data/iot_23_datasets_small/opt/Malware-Project/BigDataset/IoTScenarios/CTU-IoT-Malware-Capture-7-1/split_files_subsample/target_list_1.log\"#1.6 GB\n",
    "capture_9 = \"/media/wuguo-buaa/LENOVO_USB_HDD/iot-data/iot_23_datasets_small/opt/Malware-Project/BigDataset/IoTScenarios/CTU-IoT-Malware-Capture-9-1/split_files_subsample/target_list_1.log\"#993.5 MB\n",
    "capture_3 = \"/media/wuguo-buaa/LENOVO_USB_HDD/iot-data/iot_23_datasets_small/opt/Malware-Project/BigDataset/IoTScenarios/CTU-IoT-Malware-Capture-3-1/split_files_subsample/target_list_1.log\"#24.4 MB\n",
    "capture_1 = \"/media/wuguo-buaa/LENOVO_USB_HDD/iot-data/iot_23_datasets_small/opt/Malware-Project/BigDataset/IoTScenarios/CTU-IoT-Malware-Capture-1-1/split_files_subsample/target_list_1.log\"#144.3 MB\n"
   ]
  },
  {
   "cell_type": "code",
   "execution_count": 3,
   "id": "ordinary-burst",
   "metadata": {},
   "outputs": [],
   "source": [
    "df34 = pd.read_table(filepath_or_buffer=capture_34, skiprows=10, nrows=100000)\n",
    "df34.columns=['ts',\n",
    "              'uid',\n",
    "              'id.orig_h',\n",
    "              'id.orig_p',\n",
    "              'id.resp_h',\n",
    "              'id.resp_p',\n",
    "              'proto',\n",
    "              'service',\n",
    "              'duration',\n",
    "              'orig_bytes',\n",
    "              'resp_bytes',\n",
    "              'conn_state',\n",
    "              'local_orig',\n",
    "              'local_resp',\n",
    "              'missed_bytes',\n",
    "              'history',\n",
    "              'orig_pkts',\n",
    "              'orig_ip_bytes',\n",
    "              'resp_pkts',\n",
    "              'resp_ip_bytes',\n",
    "              'label']\n",
    "df34.drop(df34.tail(1).index,inplace=True)"
   ]
  },
  {
   "cell_type": "code",
   "execution_count": 4,
   "outputs": [
    {
     "name": "stdout",
     "output_type": "stream",
     "text": [
      "                      ts                 uid      id.orig_h  id.orig_p  \\\n",
      "20000  1545466987.770059   CqSURsaukmgMpP8S9  192.168.1.195    65279.0   \n",
      "20001  1545466987.770301   Ct3XRY2bFlVGGAwsg  192.168.1.195    65279.0   \n",
      "20002  1545466987.770815   CBwo0ETNeHk7HfhDi  192.168.1.195    65279.0   \n",
      "20003  1545466987.771300  CeRJxc43kaDIIhs2I1  192.168.1.195    65279.0   \n",
      "20004  1545466987.771558  CLb6le4R4R8DFa7hW1  192.168.1.195    65279.0   \n",
      "...                  ...                 ...            ...        ...   \n",
      "23137  1545490133.961380   C2F17zSUnGOcWzBa7  192.168.1.195    57110.0   \n",
      "23138  1545489934.221598  C93P4z4k5IRJD1rXJg  192.168.1.195    57092.0   \n",
      "23139  1545490198.463564  CXLZ3A2QY5E8weqpDk  192.168.1.195      123.0   \n",
      "23140  1545490181.542213  CuXpFN3fWesWBXUhq1  192.168.1.195      123.0   \n",
      "23141  1545490198.459568  Ct2Yhy4d33oL3yyZY9  192.168.1.195      123.0   \n",
      "\n",
      "            id.resp_h  id.resp_p proto service   duration orig_bytes  ...  \\\n",
      "20000  123.59.209.185       80.0   tcp       -          -          -  ...   \n",
      "20001  123.59.209.185       80.0   tcp       -          -          -  ...   \n",
      "20002  123.59.209.185       80.0   tcp       -          -          -  ...   \n",
      "20003  123.59.209.185       80.0   tcp       -          -          -  ...   \n",
      "20004  123.59.209.185       80.0   tcp       -          -          -  ...   \n",
      "...               ...        ...   ...     ...        ...        ...  ...   \n",
      "23137  185.244.25.235     6667.0   tcp     irc  32.840994         62  ...   \n",
      "23138  185.244.25.235     6667.0   tcp     irc  36.290833         62  ...   \n",
      "23139  147.251.48.140      123.0   udp       -          -          -  ...   \n",
      "23140    82.113.53.40      123.0   udp       -          -          -  ...   \n",
      "23141  89.221.210.188      123.0   udp       -          -          -  ...   \n",
      "\n",
      "      conn_state local_orig local_resp missed_bytes  history orig_pkts  \\\n",
      "20000        OTH          -          -          0.0        C       0.0   \n",
      "20001        OTH          -          -          0.0        C       0.0   \n",
      "20002        OTH          -          -          0.0        C       0.0   \n",
      "20003        OTH          -          -          0.0        C       0.0   \n",
      "20004        OTH          -          -          0.0        C       0.0   \n",
      "...          ...        ...        ...          ...      ...       ...   \n",
      "23137         S3          -          -          0.0  ShAdDaf       7.0   \n",
      "23138         S3          -          -          0.0  ShAdDaf      10.0   \n",
      "23139         S0          -          -          0.0        D       1.0   \n",
      "23140         S0          -          -          0.0        D       1.0   \n",
      "23141         S0          -          -          0.0        D       1.0   \n",
      "\n",
      "       orig_ip_bytes  resp_pkts  resp_ip_bytes                 label  \n",
      "20000            0.0        0.0            0.0  -   Malicious   DDoS  \n",
      "20001            0.0        0.0            0.0  -   Malicious   DDoS  \n",
      "20002            0.0        0.0            0.0  -   Malicious   DDoS  \n",
      "20003            0.0        0.0            0.0  -   Malicious   DDoS  \n",
      "20004            0.0        0.0            0.0  -   Malicious   DDoS  \n",
      "...              ...        ...            ...                   ...  \n",
      "23137          434.0        6.0          589.0   -   Malicious   C&C  \n",
      "23138          606.0        7.0          632.0   -   Malicious   C&C  \n",
      "23139           76.0        0.0            0.0        -   Benign   -  \n",
      "23140           76.0        0.0            0.0        -   Benign   -  \n",
      "23141           76.0        0.0            0.0        -   Benign   -  \n",
      "\n",
      "[3142 rows x 21 columns]\n"
     ]
    },
    {
     "data": {
      "text/plain": "                  ts                 uid      id.orig_h  id.orig_p  \\\n0  1545403848.981338   CDrkrSobGYxHhYfth  192.168.1.195    41040.0   \n1  1545403850.554283  CTWZQf2oJSvq6zmPAc  192.168.1.195    41042.0   \n2  1545403857.781320  CvyynC4Sabj9BNXFRi  192.168.1.195    41042.0   \n3  1545403859.183341  CWYyiA2sgRijwk2jEd  192.168.1.195    41044.0   \n4  1545403860.282392  CYttPy2pqOIcen7UDh  192.168.1.195    41046.0   \n\n        id.resp_h  id.resp_p proto service  duration orig_bytes  ...  \\\n0  185.244.25.235       80.0   tcp    http  1.477656        149  ...   \n1  185.244.25.235       80.0   tcp       -  3.147116          0  ...   \n2  185.244.25.235       80.0   tcp    http  1.305004        151  ...   \n3  185.244.25.235       80.0   tcp    http  1.004605        148  ...   \n4  185.244.25.235       80.0   tcp    http  4.129647        148  ...   \n\n  conn_state local_orig local_resp missed_bytes      history orig_pkts  \\\n0         SF          -          -       2896.0  ShADadttcfF      94.0   \n1         S0          -          -          0.0            S       3.0   \n2         SF          -          -       5792.0  ShADadttcfF      96.0   \n3         SF          -          -       2896.0   ShADadtcfF      67.0   \n4         SF          -          -       5792.0   ShADadtcfF      75.0   \n\n   orig_ip_bytes  resp_pkts  resp_ip_bytes           label  \n0         5525.0       96.0       139044.0  -   Benign   -  \n1          180.0        0.0            0.0  -   Benign   -  \n2         5699.0       92.0       133140.0  -   Benign   -  \n3         4148.0       65.0        92453.0  -   Benign   -  \n4         4412.0       69.0        97107.0  -   Benign   -  \n\n[5 rows x 21 columns]",
      "text/html": "<div>\n<style scoped>\n    .dataframe tbody tr th:only-of-type {\n        vertical-align: middle;\n    }\n\n    .dataframe tbody tr th {\n        vertical-align: top;\n    }\n\n    .dataframe thead th {\n        text-align: right;\n    }\n</style>\n<table border=\"1\" class=\"dataframe\">\n  <thead>\n    <tr style=\"text-align: right;\">\n      <th></th>\n      <th>ts</th>\n      <th>uid</th>\n      <th>id.orig_h</th>\n      <th>id.orig_p</th>\n      <th>id.resp_h</th>\n      <th>id.resp_p</th>\n      <th>proto</th>\n      <th>service</th>\n      <th>duration</th>\n      <th>orig_bytes</th>\n      <th>...</th>\n      <th>conn_state</th>\n      <th>local_orig</th>\n      <th>local_resp</th>\n      <th>missed_bytes</th>\n      <th>history</th>\n      <th>orig_pkts</th>\n      <th>orig_ip_bytes</th>\n      <th>resp_pkts</th>\n      <th>resp_ip_bytes</th>\n      <th>label</th>\n    </tr>\n  </thead>\n  <tbody>\n    <tr>\n      <th>0</th>\n      <td>1545403848.981338</td>\n      <td>CDrkrSobGYxHhYfth</td>\n      <td>192.168.1.195</td>\n      <td>41040.0</td>\n      <td>185.244.25.235</td>\n      <td>80.0</td>\n      <td>tcp</td>\n      <td>http</td>\n      <td>1.477656</td>\n      <td>149</td>\n      <td>...</td>\n      <td>SF</td>\n      <td>-</td>\n      <td>-</td>\n      <td>2896.0</td>\n      <td>ShADadttcfF</td>\n      <td>94.0</td>\n      <td>5525.0</td>\n      <td>96.0</td>\n      <td>139044.0</td>\n      <td>-   Benign   -</td>\n    </tr>\n    <tr>\n      <th>1</th>\n      <td>1545403850.554283</td>\n      <td>CTWZQf2oJSvq6zmPAc</td>\n      <td>192.168.1.195</td>\n      <td>41042.0</td>\n      <td>185.244.25.235</td>\n      <td>80.0</td>\n      <td>tcp</td>\n      <td>-</td>\n      <td>3.147116</td>\n      <td>0</td>\n      <td>...</td>\n      <td>S0</td>\n      <td>-</td>\n      <td>-</td>\n      <td>0.0</td>\n      <td>S</td>\n      <td>3.0</td>\n      <td>180.0</td>\n      <td>0.0</td>\n      <td>0.0</td>\n      <td>-   Benign   -</td>\n    </tr>\n    <tr>\n      <th>2</th>\n      <td>1545403857.781320</td>\n      <td>CvyynC4Sabj9BNXFRi</td>\n      <td>192.168.1.195</td>\n      <td>41042.0</td>\n      <td>185.244.25.235</td>\n      <td>80.0</td>\n      <td>tcp</td>\n      <td>http</td>\n      <td>1.305004</td>\n      <td>151</td>\n      <td>...</td>\n      <td>SF</td>\n      <td>-</td>\n      <td>-</td>\n      <td>5792.0</td>\n      <td>ShADadttcfF</td>\n      <td>96.0</td>\n      <td>5699.0</td>\n      <td>92.0</td>\n      <td>133140.0</td>\n      <td>-   Benign   -</td>\n    </tr>\n    <tr>\n      <th>3</th>\n      <td>1545403859.183341</td>\n      <td>CWYyiA2sgRijwk2jEd</td>\n      <td>192.168.1.195</td>\n      <td>41044.0</td>\n      <td>185.244.25.235</td>\n      <td>80.0</td>\n      <td>tcp</td>\n      <td>http</td>\n      <td>1.004605</td>\n      <td>148</td>\n      <td>...</td>\n      <td>SF</td>\n      <td>-</td>\n      <td>-</td>\n      <td>2896.0</td>\n      <td>ShADadtcfF</td>\n      <td>67.0</td>\n      <td>4148.0</td>\n      <td>65.0</td>\n      <td>92453.0</td>\n      <td>-   Benign   -</td>\n    </tr>\n    <tr>\n      <th>4</th>\n      <td>1545403860.282392</td>\n      <td>CYttPy2pqOIcen7UDh</td>\n      <td>192.168.1.195</td>\n      <td>41046.0</td>\n      <td>185.244.25.235</td>\n      <td>80.0</td>\n      <td>tcp</td>\n      <td>http</td>\n      <td>4.129647</td>\n      <td>148</td>\n      <td>...</td>\n      <td>SF</td>\n      <td>-</td>\n      <td>-</td>\n      <td>5792.0</td>\n      <td>ShADadtcfF</td>\n      <td>75.0</td>\n      <td>4412.0</td>\n      <td>69.0</td>\n      <td>97107.0</td>\n      <td>-   Benign   -</td>\n    </tr>\n  </tbody>\n</table>\n<p>5 rows × 21 columns</p>\n</div>"
     },
     "execution_count": 4,
     "metadata": {},
     "output_type": "execute_result"
    }
   ],
   "source": [
    "print(df34[20000:])\n",
    "df34.head()"
   ],
   "metadata": {
    "collapsed": false,
    "pycharm": {
     "name": "#%%\n"
    }
   }
  },
  {
   "cell_type": "code",
   "execution_count": 5,
   "id": "advance-region",
   "metadata": {},
   "outputs": [],
   "source": [
    "df43 = pd.read_table(filepath_or_buffer=capture_43, skiprows=10, nrows=199000)\n",
    "df43.columns=['ts',\n",
    "              'uid',\n",
    "              'id.orig_h',\n",
    "              'id.orig_p',\n",
    "              'id.resp_h',\n",
    "              'id.resp_p',\n",
    "              'proto',\n",
    "              'service',\n",
    "              'duration',\n",
    "              'orig_bytes',\n",
    "              'resp_bytes',\n",
    "              'conn_state',\n",
    "              'local_orig',\n",
    "              'local_resp',\n",
    "              'missed_bytes',\n",
    "              'history',\n",
    "              'orig_pkts',\n",
    "              'orig_ip_bytes',\n",
    "              'resp_pkts',\n",
    "              'resp_ip_bytes',\n",
    "              'label']\n",
    "df43.drop(df43.tail(1).index,inplace=True)"
   ]
  },
  {
   "cell_type": "code",
   "execution_count": 6,
   "outputs": [
    {
     "name": "stdout",
     "output_type": "stream",
     "text": [
      "(198999, 21)                   ts                 uid      id.orig_h  id.orig_p  \\\n",
      "198900  1.547145e+09  ChtnTN2PdCfcUNM4zj  192.168.1.198      22568   \n",
      "198901  1.547145e+09  CZi3YH3KjBieMet4k6  192.168.1.198      22568   \n",
      "198902  1.547145e+09  CrUrjo4TEdUgTJZ8bj  192.168.1.198      22568   \n",
      "198903  1.547145e+09  CtFtJa1YtzsIIIoBP3  192.168.1.198      22568   \n",
      "198904  1.547145e+09  CTqcsF4PpQb8T25Ji9  192.168.1.198      22568   \n",
      "...              ...                 ...            ...        ...   \n",
      "198994  1.547145e+09  CFORBg3c2liJG8LZXe  192.168.1.198      22568   \n",
      "198995  1.547145e+09  CoHlpj1uD7TM99Rj0j  192.168.1.198      22568   \n",
      "198996  1.547145e+09  CSeT7t32sKNP0Db1ch  192.168.1.198      22568   \n",
      "198997  1.547145e+09  CH4u8t2C4XaU30glSc  192.168.1.198      22568   \n",
      "198998  1.547145e+09  C6DeWl32JdjdNyWn31  192.168.1.198      22568   \n",
      "\n",
      "              id.resp_h  id.resp_p proto service duration orig_bytes  ...  \\\n",
      "198900     91.80.26.184      52869   tcp       -        -          -  ...   \n",
      "198901    185.19.30.155      52869   tcp       -        -          -  ...   \n",
      "198902   45.201.221.124      52869   tcp       -        -          -  ...   \n",
      "198903   45.116.243.156      52869   tcp       -        -          -  ...   \n",
      "198904  185.184.138.108      52869   tcp       -        -          -  ...   \n",
      "...                 ...        ...   ...     ...      ...        ...  ...   \n",
      "198994    45.87.159.209      52869   tcp       -        -          -  ...   \n",
      "198995     185.77.51.26      52869   tcp       -        -          -  ...   \n",
      "198996     45.20.175.27      52869   tcp       -        -          -  ...   \n",
      "198997      45.16.39.98      52869   tcp       -        -          -  ...   \n",
      "198998    45.135.19.178      52869   tcp       -        -          -  ...   \n",
      "\n",
      "       conn_state local_orig local_resp missed_bytes  history orig_pkts  \\\n",
      "198900         S0          -          -            0        S         1   \n",
      "198901         S0          -          -            0        S         1   \n",
      "198902         S0          -          -            0        S         1   \n",
      "198903         S0          -          -            0        S         1   \n",
      "198904         S0          -          -            0        S         1   \n",
      "...           ...        ...        ...          ...      ...       ...   \n",
      "198994         S0          -          -            0        S         1   \n",
      "198995         S0          -          -            0        S         1   \n",
      "198996         S0          -          -            0        S         1   \n",
      "198997         S0          -          -            0        S         1   \n",
      "198998         S0          -          -            0        S         1   \n",
      "\n",
      "        orig_ip_bytes  resp_pkts  resp_ip_bytes  \\\n",
      "198900             40          0              0   \n",
      "198901             40          0              0   \n",
      "198902             40          0              0   \n",
      "198903             40          0              0   \n",
      "198904             40          0              0   \n",
      "...               ...        ...            ...   \n",
      "198994             40          0              0   \n",
      "198995             40          0              0   \n",
      "198996             40          0              0   \n",
      "198997             40          0              0   \n",
      "198998             40          0              0   \n",
      "\n",
      "                                            label  \n",
      "198900  -   Malicious   PartOfAHorizontalPortScan  \n",
      "198901  -   Malicious   PartOfAHorizontalPortScan  \n",
      "198902  -   Malicious   PartOfAHorizontalPortScan  \n",
      "198903  -   Malicious   PartOfAHorizontalPortScan  \n",
      "198904  -   Malicious   PartOfAHorizontalPortScan  \n",
      "...                                           ...  \n",
      "198994  -   Malicious   PartOfAHorizontalPortScan  \n",
      "198995  -   Malicious   PartOfAHorizontalPortScan  \n",
      "198996  -   Malicious   PartOfAHorizontalPortScan  \n",
      "198997  -   Malicious   PartOfAHorizontalPortScan  \n",
      "198998  -   Malicious   PartOfAHorizontalPortScan  \n",
      "\n",
      "[99 rows x 21 columns]\n"
     ]
    }
   ],
   "source": [
    "print(df43.shape,df43[198900:])"
   ],
   "metadata": {
    "collapsed": false,
    "pycharm": {
     "name": "#%%\n"
    }
   }
  },
  {
   "cell_type": "code",
   "execution_count": 7,
   "id": "minor-filename",
   "metadata": {},
   "outputs": [],
   "source": [
    "df44 = pd.read_table(filepath_or_buffer=capture_44, skiprows=10, nrows=199000)\n",
    "df44.columns=['ts',\n",
    "              'uid',\n",
    "              'id.orig_h',\n",
    "              'id.orig_p',\n",
    "              'id.resp_h',\n",
    "              'id.resp_p',\n",
    "              'proto',\n",
    "              'service',\n",
    "              'duration',\n",
    "              'orig_bytes',\n",
    "              'resp_bytes',\n",
    "              'conn_state',\n",
    "              'local_orig',\n",
    "              'local_resp',\n",
    "              'missed_bytes',\n",
    "              'history',\n",
    "              'orig_pkts',\n",
    "              'orig_ip_bytes',\n",
    "              'resp_pkts',\n",
    "              'resp_ip_bytes',\n",
    "              'label']\n",
    "df44.drop(df44.tail(1).index,inplace=True)"
   ]
  },
  {
   "cell_type": "code",
   "execution_count": 8,
   "id": "special-winter",
   "metadata": {},
   "outputs": [],
   "source": [
    "df49 = pd.read_table(filepath_or_buffer=capture_49, skiprows=10, nrows=199000)\n",
    "df49.columns=['ts',\n",
    "              'uid',\n",
    "              'id.orig_h',\n",
    "              'id.orig_p',\n",
    "              'id.resp_h',\n",
    "              'id.resp_p',\n",
    "              'proto',\n",
    "              'service',\n",
    "              'duration',\n",
    "              'orig_bytes',\n",
    "              'resp_bytes',\n",
    "              'conn_state',\n",
    "              'local_orig',\n",
    "              'local_resp',\n",
    "              'missed_bytes',\n",
    "              'history',\n",
    "              'orig_pkts',\n",
    "              'orig_ip_bytes',\n",
    "              'resp_pkts',\n",
    "              'resp_ip_bytes',\n",
    "              'label']\n",
    "df49.drop(df49.tail(1).index,inplace=True)"
   ]
  },
  {
   "cell_type": "code",
   "execution_count": 9,
   "id": "involved-guyana",
   "metadata": {},
   "outputs": [],
   "source": [
    "df52 = pd.read_table(filepath_or_buffer=capture_52, skiprows=10, nrows=199000)\n",
    "df52.columns=['ts',\n",
    "              'uid',\n",
    "              'id.orig_h',\n",
    "              'id.orig_p',\n",
    "              'id.resp_h',\n",
    "              'id.resp_p',\n",
    "              'proto',\n",
    "              'service',\n",
    "              'duration',\n",
    "              'orig_bytes',\n",
    "              'resp_bytes',\n",
    "              'conn_state',\n",
    "              'local_orig',\n",
    "              'local_resp',\n",
    "              'missed_bytes',\n",
    "              'history',\n",
    "              'orig_pkts',\n",
    "              'orig_ip_bytes',\n",
    "              'resp_pkts',\n",
    "              'resp_ip_bytes',\n",
    "              'label']\n",
    "df52.drop(df52.tail(1).index,inplace=True)"
   ]
  },
  {
   "cell_type": "code",
   "execution_count": 10,
   "id": "exterior-nightmare",
   "metadata": {},
   "outputs": [],
   "source": [
    "df20 = pd.read_table(filepath_or_buffer=capture_20, skiprows=10, nrows=199000)\n",
    "df20.columns=['ts',\n",
    "              'uid',\n",
    "              'id.orig_h',\n",
    "              'id.orig_p',\n",
    "              'id.resp_h',\n",
    "              'id.resp_p',\n",
    "              'proto',\n",
    "              'service',\n",
    "              'duration',\n",
    "              'orig_bytes',\n",
    "              'resp_bytes',\n",
    "              'conn_state',\n",
    "              'local_orig',\n",
    "              'local_resp',\n",
    "              'missed_bytes',\n",
    "              'history',\n",
    "              'orig_pkts',\n",
    "              'orig_ip_bytes',\n",
    "              'resp_pkts',\n",
    "              'resp_ip_bytes',\n",
    "              'label']\n",
    "df20.drop(df20.tail(1).index,inplace=True)"
   ]
  },
  {
   "cell_type": "code",
   "execution_count": 11,
   "id": "closing-cooler",
   "metadata": {},
   "outputs": [],
   "source": [
    "df21 = pd.read_table(filepath_or_buffer=capture_21, skiprows=10, nrows=199000)\n",
    "df21.columns=['ts',\n",
    "              'uid',\n",
    "              'id.orig_h',\n",
    "              'id.orig_p',\n",
    "              'id.resp_h',\n",
    "              'id.resp_p',\n",
    "              'proto',\n",
    "              'service',\n",
    "              'duration',\n",
    "              'orig_bytes',\n",
    "              'resp_bytes',\n",
    "              'conn_state',\n",
    "              'local_orig',\n",
    "              'local_resp',\n",
    "              'missed_bytes',\n",
    "              'history',\n",
    "              'orig_pkts',\n",
    "              'orig_ip_bytes',\n",
    "              'resp_pkts',\n",
    "              'resp_ip_bytes',\n",
    "              'label']\n",
    "df21.drop(df21.tail(1).index,inplace=True)"
   ]
  },
  {
   "cell_type": "code",
   "execution_count": 12,
   "id": "arabic-alert",
   "metadata": {},
   "outputs": [],
   "source": [
    "df42 = pd.read_table(filepath_or_buffer=capture_42, skiprows=10, nrows=199000)\n",
    "df42.columns=['ts',\n",
    "              'uid',\n",
    "              'id.orig_h',\n",
    "              'id.orig_p',\n",
    "              'id.resp_h',\n",
    "              'id.resp_p',\n",
    "              'proto',\n",
    "              'service',\n",
    "              'duration',\n",
    "              'orig_bytes',\n",
    "              'resp_bytes',\n",
    "              'conn_state',\n",
    "              'local_orig',\n",
    "              'local_resp',\n",
    "              'missed_bytes',\n",
    "              'history',\n",
    "              'orig_pkts',\n",
    "              'orig_ip_bytes',\n",
    "              'resp_pkts',\n",
    "              'resp_ip_bytes',\n",
    "              'label']\n",
    "df42.drop(df42.tail(1).index,inplace=True)"
   ]
  },
  {
   "cell_type": "code",
   "execution_count": 13,
   "id": "assured-cross",
   "metadata": {},
   "outputs": [],
   "source": [
    "df60 = pd.read_table(filepath_or_buffer=capture_60, skiprows=10, nrows=199000)\n",
    "df60.columns=['ts',\n",
    "              'uid',\n",
    "              'id.orig_h',\n",
    "              'id.orig_p',\n",
    "              'id.resp_h',\n",
    "              'id.resp_p',\n",
    "              'proto',\n",
    "              'service',\n",
    "              'duration',\n",
    "              'orig_bytes',\n",
    "              'resp_bytes',\n",
    "              'conn_state',\n",
    "              'local_orig',\n",
    "              'local_resp',\n",
    "              'missed_bytes',\n",
    "              'history',\n",
    "              'orig_pkts',\n",
    "              'orig_ip_bytes',\n",
    "              'resp_pkts',\n",
    "              'resp_ip_bytes',\n",
    "              'label']\n",
    "df60.drop(df60.tail(1).index,inplace=True)"
   ]
  },
  {
   "cell_type": "code",
   "execution_count": 14,
   "id": "selected-radical",
   "metadata": {},
   "outputs": [],
   "source": [
    "df17 = pd.read_table(filepath_or_buffer=capture_17, skiprows=10, nrows=199000)\n",
    "df17.columns=['ts',\n",
    "              'uid',\n",
    "              'id.orig_h',\n",
    "              'id.orig_p',\n",
    "              'id.resp_h',\n",
    "              'id.resp_p',\n",
    "              'proto',\n",
    "              'service',\n",
    "              'duration',\n",
    "              'orig_bytes',\n",
    "              'resp_bytes',\n",
    "              'conn_state',\n",
    "              'local_orig',\n",
    "              'local_resp',\n",
    "              'missed_bytes',\n",
    "              'history',\n",
    "              'orig_pkts',\n",
    "              'orig_ip_bytes',\n",
    "              'resp_pkts',\n",
    "              'resp_ip_bytes',\n",
    "              'label']\n",
    "df17.drop(df17.tail(1).index,inplace=True)"
   ]
  },
  {
   "cell_type": "code",
   "execution_count": 15,
   "id": "indirect-penetration",
   "metadata": {},
   "outputs": [],
   "source": [
    "df36 = pd.read_table(filepath_or_buffer=capture_36, skiprows=10, nrows=199000)\n",
    "df36.columns=['ts',\n",
    "              'uid',\n",
    "              'id.orig_h',\n",
    "              'id.orig_p',\n",
    "              'id.resp_h',\n",
    "              'id.resp_p',\n",
    "              'proto',\n",
    "              'service',\n",
    "              'duration',\n",
    "              'orig_bytes',\n",
    "              'resp_bytes',\n",
    "              'conn_state',\n",
    "              'local_orig',\n",
    "              'local_resp',\n",
    "              'missed_bytes',\n",
    "              'history',\n",
    "              'orig_pkts',\n",
    "              'orig_ip_bytes',\n",
    "              'resp_pkts',\n",
    "              'resp_ip_bytes',\n",
    "              'label']\n",
    "df36.drop(df36.tail(1).index,inplace=True)"
   ]
  },
  {
   "cell_type": "code",
   "execution_count": 16,
   "id": "respective-egyptian",
   "metadata": {},
   "outputs": [],
   "source": [
    "df33 = pd.read_table(filepath_or_buffer=capture_33, skiprows=10, nrows=199000)\n",
    "df33.columns=['ts',\n",
    "              'uid',\n",
    "              'id.orig_h',\n",
    "              'id.orig_p',\n",
    "              'id.resp_h',\n",
    "              'id.resp_p',\n",
    "              'proto',\n",
    "              'service',\n",
    "              'duration',\n",
    "              'orig_bytes',\n",
    "              'resp_bytes',\n",
    "              'conn_state',\n",
    "              'local_orig',\n",
    "              'local_resp',\n",
    "              'missed_bytes',\n",
    "              'history',\n",
    "              'orig_pkts',\n",
    "              'orig_ip_bytes',\n",
    "              'resp_pkts',\n",
    "              'resp_ip_bytes',\n",
    "              'label']\n",
    "df33.drop(df33.tail(1).index,inplace=True)"
   ]
  },
  {
   "cell_type": "code",
   "execution_count": 17,
   "id": "derived-tooth",
   "metadata": {},
   "outputs": [],
   "source": [
    "df8 = pd.read_table(filepath_or_buffer=capture_8, skiprows=10, nrows=199000)\n",
    "df8.columns=['ts',\n",
    "              'uid',\n",
    "              'id.orig_h',\n",
    "              'id.orig_p',\n",
    "              'id.resp_h',\n",
    "              'id.resp_p',\n",
    "              'proto',\n",
    "              'service',\n",
    "              'duration',\n",
    "              'orig_bytes',\n",
    "              'resp_bytes',\n",
    "              'conn_state',\n",
    "              'local_orig',\n",
    "              'local_resp',\n",
    "              'missed_bytes',\n",
    "              'history',\n",
    "              'orig_pkts',\n",
    "              'orig_ip_bytes',\n",
    "              'resp_pkts',\n",
    "              'resp_ip_bytes',\n",
    "              'label']\n",
    "df8.drop(df8.tail(1).index,inplace=True)"
   ]
  },
  {
   "cell_type": "code",
   "execution_count": 18,
   "id": "naval-reality",
   "metadata": {},
   "outputs": [],
   "source": [
    "df35 = pd.read_table(filepath_or_buffer=capture_35, skiprows=10, nrows=199000)\n",
    "df35.columns=['ts',\n",
    "              'uid',\n",
    "              'id.orig_h',\n",
    "              'id.orig_p',\n",
    "              'id.resp_h',\n",
    "              'id.resp_p',\n",
    "              'proto',\n",
    "              'service',\n",
    "              'duration',\n",
    "              'orig_bytes',\n",
    "              'resp_bytes',\n",
    "              'conn_state',\n",
    "              'local_orig',\n",
    "              'local_resp',\n",
    "              'missed_bytes',\n",
    "              'history',\n",
    "              'orig_pkts',\n",
    "              'orig_ip_bytes',\n",
    "              'resp_pkts',\n",
    "              'resp_ip_bytes',\n",
    "              'label']\n",
    "df35.drop(df35.tail(1).index,inplace=True)"
   ]
  },
  {
   "cell_type": "code",
   "execution_count": 19,
   "id": "occupied-angle",
   "metadata": {},
   "outputs": [],
   "source": [
    "df48 = pd.read_table(filepath_or_buffer=capture_48, skiprows=10, nrows=199000)\n",
    "df48.columns=['ts',\n",
    "              'uid',\n",
    "              'id.orig_h',\n",
    "              'id.orig_p',\n",
    "              'id.resp_h',\n",
    "              'id.resp_p',\n",
    "              'proto',\n",
    "              'service',\n",
    "              'duration',\n",
    "              'orig_bytes',\n",
    "              'resp_bytes',\n",
    "              'conn_state',\n",
    "              'local_orig',\n",
    "              'local_resp',\n",
    "              'missed_bytes',\n",
    "              'history',\n",
    "              'orig_pkts',\n",
    "              'orig_ip_bytes',\n",
    "              'resp_pkts',\n",
    "              'resp_ip_bytes',\n",
    "              'label']\n",
    "df48.drop(df48.tail(1).index,inplace=True)"
   ]
  },
  {
   "cell_type": "code",
   "execution_count": 20,
   "id": "widespread-machinery",
   "metadata": {},
   "outputs": [],
   "source": [
    "df39 = pd.read_table(filepath_or_buffer=capture_39, skiprows=10, nrows=199000)\n",
    "df39.columns=['ts',\n",
    "              'uid',\n",
    "              'id.orig_h',\n",
    "              'id.orig_p',\n",
    "              'id.resp_h',\n",
    "              'id.resp_p',\n",
    "              'proto',\n",
    "              'service',\n",
    "              'duration',\n",
    "              'orig_bytes',\n",
    "              'resp_bytes',\n",
    "              'conn_state',\n",
    "              'local_orig',\n",
    "              'local_resp',\n",
    "              'missed_bytes',\n",
    "              'history',\n",
    "              'orig_pkts',\n",
    "              'orig_ip_bytes',\n",
    "              'resp_pkts',\n",
    "              'resp_ip_bytes',\n",
    "              'label']\n",
    "df39.drop(df39.tail(1).index,inplace=True)"
   ]
  },
  {
   "cell_type": "code",
   "execution_count": 21,
   "id": "clear-bahrain",
   "metadata": {},
   "outputs": [],
   "source": [
    "df7 = pd.read_table(filepath_or_buffer=capture_7, skiprows=10, nrows=199000)\n",
    "df7.columns=['ts',\n",
    "              'uid',\n",
    "              'id.orig_h',\n",
    "              'id.orig_p',\n",
    "              'id.resp_h',\n",
    "              'id.resp_p',\n",
    "              'proto',\n",
    "              'service',\n",
    "              'duration',\n",
    "              'orig_bytes',\n",
    "              'resp_bytes',\n",
    "              'conn_state',\n",
    "              'local_orig',\n",
    "              'local_resp',\n",
    "              'missed_bytes',\n",
    "              'history',\n",
    "              'orig_pkts',\n",
    "              'orig_ip_bytes',\n",
    "              'resp_pkts',\n",
    "              'resp_ip_bytes',\n",
    "              'label']\n",
    "df7.drop(df7.tail(1).index,inplace=True)"
   ]
  },
  {
   "cell_type": "code",
   "execution_count": 22,
   "id": "improving-testimony",
   "metadata": {},
   "outputs": [],
   "source": [
    "df9 = pd.read_table(filepath_or_buffer=capture_9, skiprows=10, nrows=199000)\n",
    "df9.columns=['ts',\n",
    "              'uid',\n",
    "              'id.orig_h',\n",
    "              'id.orig_p',\n",
    "              'id.resp_h',\n",
    "              'id.resp_p',\n",
    "              'proto',\n",
    "              'service',\n",
    "              'duration',\n",
    "              'orig_bytes',\n",
    "              'resp_bytes',\n",
    "              'conn_state',\n",
    "              'local_orig',\n",
    "              'local_resp',\n",
    "              'missed_bytes',\n",
    "              'history',\n",
    "              'orig_pkts',\n",
    "              'orig_ip_bytes',\n",
    "              'resp_pkts',\n",
    "              'resp_ip_bytes',\n",
    "              'label']\n",
    "df9.drop(df9.tail(1).index,inplace=True)"
   ]
  },
  {
   "cell_type": "code",
   "execution_count": 23,
   "id": "overall-skirt",
   "metadata": {},
   "outputs": [],
   "source": [
    "df3 = pd.read_table(filepath_or_buffer=capture_3, skiprows=10, nrows=108000)\n",
    "df3.columns=['ts',\n",
    "              'uid',\n",
    "              'id.orig_h',\n",
    "              'id.orig_p',\n",
    "              'id.resp_h',\n",
    "              'id.resp_p',\n",
    "              'proto',\n",
    "              'service',\n",
    "              'duration',\n",
    "              'orig_bytes',\n",
    "              'resp_bytes',\n",
    "              'conn_state',\n",
    "              'local_orig',\n",
    "              'local_resp',\n",
    "              'missed_bytes',\n",
    "              'history',\n",
    "              'orig_pkts',\n",
    "              'orig_ip_bytes',\n",
    "              'resp_pkts',\n",
    "              'resp_ip_bytes',\n",
    "              'label']\n",
    "df3.drop(df3.tail(1).index,inplace=True)"
   ]
  },
  {
   "cell_type": "code",
   "execution_count": 24,
   "id": "unlimited-waters",
   "metadata": {},
   "outputs": [],
   "source": [
    "df1 = pd.read_table(filepath_or_buffer=capture_1, skiprows=10, nrows=199000)\n",
    "df1.columns=['ts',\n",
    "              'uid',\n",
    "              'id.orig_h',\n",
    "              'id.orig_p',\n",
    "              'id.resp_h',\n",
    "              'id.resp_p',\n",
    "              'proto',\n",
    "              'service',\n",
    "              'duration',\n",
    "              'orig_bytes',\n",
    "              'resp_bytes',\n",
    "              'conn_state',\n",
    "              'local_orig',\n",
    "              'local_resp',\n",
    "              'missed_bytes',\n",
    "              'history',\n",
    "              'orig_pkts',\n",
    "              'orig_ip_bytes',\n",
    "              'resp_pkts',\n",
    "              'resp_ip_bytes',\n",
    "              'label']\n",
    "df1.drop(df1.tail(1).index,inplace=True)"
   ]
  },
  {
   "cell_type": "code",
   "execution_count": 25,
   "id": "indirect-plymouth",
   "metadata": {},
   "outputs": [],
   "source": [
    "frames=[df1, df17, df20, df21, df3, df33, df34, df35, df36, df39, df42, df43, df44, df48, df49, df52, df60, df7, df8, df9]"
   ]
  },
  {
   "cell_type": "code",
   "execution_count": 43,
   "id": "union-telling",
   "metadata": {},
   "outputs": [],
   "source": [
    "df_c=pd.concat(frames)"
   ]
  },
  {
   "cell_type": "code",
   "execution_count": 44,
   "id": "liberal-valley",
   "metadata": {
    "scrolled": false
   },
   "outputs": [
    {
     "data": {
      "text/plain": "                       ts                 uid        id.orig_h  id.orig_p  \\\n0        1525879832.01624   CDe43c1PtgynajGI6  192.168.100.103    60905.0   \n1       1525879832.024985  CJaDcG3MZzvf1YVYI4  192.168.100.103    44301.0   \n2       1525879832.044975  CMBrup3BLXivSp4Avc  192.168.100.103    50244.0   \n3       1525879833.016171  CfHl9r3XMYtDQRrHnh  192.168.100.103    34243.0   \n4       1525879833.044906  C7USrA15nFVkniMqC5  192.168.100.103    34840.0   \n...                   ...                 ...              ...        ...   \n198994  1532526873.004325  CvFFw62Kjp5USsHGRg  192.168.100.111    33026.0   \n198995  1532526873.004552  CSeCqz1P1yTpJQG2d9  192.168.100.111    27450.0   \n198996  1532526873.004556  C3ZXr73RmxvStPLjn3  192.168.100.111    65504.0   \n198997  1532526873.004558   Cr6vZgzGZIxzFbtJc  192.168.100.111    26397.0   \n198998   1532526873.00456  CLs3pr1Luj87Dv0e74  192.168.100.111    44324.0   \n\n              id.resp_h  id.resp_p proto service  duration orig_bytes  \\\n0       131.174.215.147       23.0   tcp       -  2.998796          0   \n1           91.42.47.63       23.0   tcp       -         -          -   \n2       120.210.108.200       23.0   tcp       -         -          -   \n3          147.7.65.203    49560.0   tcp       -  2.998804          0   \n4          145.164.35.6    21288.0   tcp       -         -          -   \n...                 ...        ...   ...     ...       ...        ...   \n198994   80.102.225.170       81.0   tcp       -         -          -   \n198995      74.7.23.118       81.0   tcp       -         -          -   \n198996    183.32.104.86       81.0   tcp       -         -          -   \n198997     8.146.82.230       81.0   tcp       -         -          -   \n198998    138.222.2.145       81.0   tcp       -         -          -   \n\n       resp_bytes conn_state local_orig local_resp  missed_bytes history  \\\n0               0         S0          -          -           0.0       S   \n1               -         S0          -          -           0.0       S   \n2               -         S0          -          -           0.0       S   \n3               0         S0          -          -           0.0       S   \n4               -         S0          -          -           0.0       S   \n...           ...        ...        ...        ...           ...     ...   \n198994          -         S0          -          -           0.0       S   \n198995          -         S0          -          -           0.0       S   \n198996          -         S0          -          -           0.0       S   \n198997          -         S0          -          -           0.0       S   \n198998          -         S0          -          -           0.0       S   \n\n        orig_pkts  orig_ip_bytes  resp_pkts  resp_ip_bytes  \\\n0             3.0          180.0        0.0            0.0   \n1             1.0           60.0        0.0            0.0   \n2             1.0           60.0        0.0            0.0   \n3             3.0          180.0        0.0            0.0   \n4             1.0           60.0        0.0            0.0   \n...           ...            ...        ...            ...   \n198994        1.0           40.0        0.0            0.0   \n198995        1.0           40.0        0.0            0.0   \n198996        1.0           40.0        0.0            0.0   \n198997        1.0           40.0        0.0            0.0   \n198998        1.0           40.0        0.0            0.0   \n\n                                                  label  \n0       (empty)   Malicious   PartOfAHorizontalPortScan  \n1       (empty)   Malicious   PartOfAHorizontalPortScan  \n2       (empty)   Malicious   PartOfAHorizontalPortScan  \n3                                  (empty)   Benign   -  \n4                                  (empty)   Benign   -  \n...                                                 ...  \n198994  (empty)   Malicious   PartOfAHorizontalPortScan  \n198995  (empty)   Malicious   PartOfAHorizontalPortScan  \n198996  (empty)   Malicious   PartOfAHorizontalPortScan  \n198997  (empty)   Malicious   PartOfAHorizontalPortScan  \n198998  (empty)   Malicious   PartOfAHorizontalPortScan  \n\n[2739674 rows x 21 columns]",
      "text/html": "<div>\n<style scoped>\n    .dataframe tbody tr th:only-of-type {\n        vertical-align: middle;\n    }\n\n    .dataframe tbody tr th {\n        vertical-align: top;\n    }\n\n    .dataframe thead th {\n        text-align: right;\n    }\n</style>\n<table border=\"1\" class=\"dataframe\">\n  <thead>\n    <tr style=\"text-align: right;\">\n      <th></th>\n      <th>ts</th>\n      <th>uid</th>\n      <th>id.orig_h</th>\n      <th>id.orig_p</th>\n      <th>id.resp_h</th>\n      <th>id.resp_p</th>\n      <th>proto</th>\n      <th>service</th>\n      <th>duration</th>\n      <th>orig_bytes</th>\n      <th>resp_bytes</th>\n      <th>conn_state</th>\n      <th>local_orig</th>\n      <th>local_resp</th>\n      <th>missed_bytes</th>\n      <th>history</th>\n      <th>orig_pkts</th>\n      <th>orig_ip_bytes</th>\n      <th>resp_pkts</th>\n      <th>resp_ip_bytes</th>\n      <th>label</th>\n    </tr>\n  </thead>\n  <tbody>\n    <tr>\n      <th>0</th>\n      <td>1525879832.01624</td>\n      <td>CDe43c1PtgynajGI6</td>\n      <td>192.168.100.103</td>\n      <td>60905.0</td>\n      <td>131.174.215.147</td>\n      <td>23.0</td>\n      <td>tcp</td>\n      <td>-</td>\n      <td>2.998796</td>\n      <td>0</td>\n      <td>0</td>\n      <td>S0</td>\n      <td>-</td>\n      <td>-</td>\n      <td>0.0</td>\n      <td>S</td>\n      <td>3.0</td>\n      <td>180.0</td>\n      <td>0.0</td>\n      <td>0.0</td>\n      <td>(empty)   Malicious   PartOfAHorizontalPortScan</td>\n    </tr>\n    <tr>\n      <th>1</th>\n      <td>1525879832.024985</td>\n      <td>CJaDcG3MZzvf1YVYI4</td>\n      <td>192.168.100.103</td>\n      <td>44301.0</td>\n      <td>91.42.47.63</td>\n      <td>23.0</td>\n      <td>tcp</td>\n      <td>-</td>\n      <td>-</td>\n      <td>-</td>\n      <td>-</td>\n      <td>S0</td>\n      <td>-</td>\n      <td>-</td>\n      <td>0.0</td>\n      <td>S</td>\n      <td>1.0</td>\n      <td>60.0</td>\n      <td>0.0</td>\n      <td>0.0</td>\n      <td>(empty)   Malicious   PartOfAHorizontalPortScan</td>\n    </tr>\n    <tr>\n      <th>2</th>\n      <td>1525879832.044975</td>\n      <td>CMBrup3BLXivSp4Avc</td>\n      <td>192.168.100.103</td>\n      <td>50244.0</td>\n      <td>120.210.108.200</td>\n      <td>23.0</td>\n      <td>tcp</td>\n      <td>-</td>\n      <td>-</td>\n      <td>-</td>\n      <td>-</td>\n      <td>S0</td>\n      <td>-</td>\n      <td>-</td>\n      <td>0.0</td>\n      <td>S</td>\n      <td>1.0</td>\n      <td>60.0</td>\n      <td>0.0</td>\n      <td>0.0</td>\n      <td>(empty)   Malicious   PartOfAHorizontalPortScan</td>\n    </tr>\n    <tr>\n      <th>3</th>\n      <td>1525879833.016171</td>\n      <td>CfHl9r3XMYtDQRrHnh</td>\n      <td>192.168.100.103</td>\n      <td>34243.0</td>\n      <td>147.7.65.203</td>\n      <td>49560.0</td>\n      <td>tcp</td>\n      <td>-</td>\n      <td>2.998804</td>\n      <td>0</td>\n      <td>0</td>\n      <td>S0</td>\n      <td>-</td>\n      <td>-</td>\n      <td>0.0</td>\n      <td>S</td>\n      <td>3.0</td>\n      <td>180.0</td>\n      <td>0.0</td>\n      <td>0.0</td>\n      <td>(empty)   Benign   -</td>\n    </tr>\n    <tr>\n      <th>4</th>\n      <td>1525879833.044906</td>\n      <td>C7USrA15nFVkniMqC5</td>\n      <td>192.168.100.103</td>\n      <td>34840.0</td>\n      <td>145.164.35.6</td>\n      <td>21288.0</td>\n      <td>tcp</td>\n      <td>-</td>\n      <td>-</td>\n      <td>-</td>\n      <td>-</td>\n      <td>S0</td>\n      <td>-</td>\n      <td>-</td>\n      <td>0.0</td>\n      <td>S</td>\n      <td>1.0</td>\n      <td>60.0</td>\n      <td>0.0</td>\n      <td>0.0</td>\n      <td>(empty)   Benign   -</td>\n    </tr>\n    <tr>\n      <th>...</th>\n      <td>...</td>\n      <td>...</td>\n      <td>...</td>\n      <td>...</td>\n      <td>...</td>\n      <td>...</td>\n      <td>...</td>\n      <td>...</td>\n      <td>...</td>\n      <td>...</td>\n      <td>...</td>\n      <td>...</td>\n      <td>...</td>\n      <td>...</td>\n      <td>...</td>\n      <td>...</td>\n      <td>...</td>\n      <td>...</td>\n      <td>...</td>\n      <td>...</td>\n      <td>...</td>\n    </tr>\n    <tr>\n      <th>198994</th>\n      <td>1532526873.004325</td>\n      <td>CvFFw62Kjp5USsHGRg</td>\n      <td>192.168.100.111</td>\n      <td>33026.0</td>\n      <td>80.102.225.170</td>\n      <td>81.0</td>\n      <td>tcp</td>\n      <td>-</td>\n      <td>-</td>\n      <td>-</td>\n      <td>-</td>\n      <td>S0</td>\n      <td>-</td>\n      <td>-</td>\n      <td>0.0</td>\n      <td>S</td>\n      <td>1.0</td>\n      <td>40.0</td>\n      <td>0.0</td>\n      <td>0.0</td>\n      <td>(empty)   Malicious   PartOfAHorizontalPortScan</td>\n    </tr>\n    <tr>\n      <th>198995</th>\n      <td>1532526873.004552</td>\n      <td>CSeCqz1P1yTpJQG2d9</td>\n      <td>192.168.100.111</td>\n      <td>27450.0</td>\n      <td>74.7.23.118</td>\n      <td>81.0</td>\n      <td>tcp</td>\n      <td>-</td>\n      <td>-</td>\n      <td>-</td>\n      <td>-</td>\n      <td>S0</td>\n      <td>-</td>\n      <td>-</td>\n      <td>0.0</td>\n      <td>S</td>\n      <td>1.0</td>\n      <td>40.0</td>\n      <td>0.0</td>\n      <td>0.0</td>\n      <td>(empty)   Malicious   PartOfAHorizontalPortScan</td>\n    </tr>\n    <tr>\n      <th>198996</th>\n      <td>1532526873.004556</td>\n      <td>C3ZXr73RmxvStPLjn3</td>\n      <td>192.168.100.111</td>\n      <td>65504.0</td>\n      <td>183.32.104.86</td>\n      <td>81.0</td>\n      <td>tcp</td>\n      <td>-</td>\n      <td>-</td>\n      <td>-</td>\n      <td>-</td>\n      <td>S0</td>\n      <td>-</td>\n      <td>-</td>\n      <td>0.0</td>\n      <td>S</td>\n      <td>1.0</td>\n      <td>40.0</td>\n      <td>0.0</td>\n      <td>0.0</td>\n      <td>(empty)   Malicious   PartOfAHorizontalPortScan</td>\n    </tr>\n    <tr>\n      <th>198997</th>\n      <td>1532526873.004558</td>\n      <td>Cr6vZgzGZIxzFbtJc</td>\n      <td>192.168.100.111</td>\n      <td>26397.0</td>\n      <td>8.146.82.230</td>\n      <td>81.0</td>\n      <td>tcp</td>\n      <td>-</td>\n      <td>-</td>\n      <td>-</td>\n      <td>-</td>\n      <td>S0</td>\n      <td>-</td>\n      <td>-</td>\n      <td>0.0</td>\n      <td>S</td>\n      <td>1.0</td>\n      <td>40.0</td>\n      <td>0.0</td>\n      <td>0.0</td>\n      <td>(empty)   Malicious   PartOfAHorizontalPortScan</td>\n    </tr>\n    <tr>\n      <th>198998</th>\n      <td>1532526873.00456</td>\n      <td>CLs3pr1Luj87Dv0e74</td>\n      <td>192.168.100.111</td>\n      <td>44324.0</td>\n      <td>138.222.2.145</td>\n      <td>81.0</td>\n      <td>tcp</td>\n      <td>-</td>\n      <td>-</td>\n      <td>-</td>\n      <td>-</td>\n      <td>S0</td>\n      <td>-</td>\n      <td>-</td>\n      <td>0.0</td>\n      <td>S</td>\n      <td>1.0</td>\n      <td>40.0</td>\n      <td>0.0</td>\n      <td>0.0</td>\n      <td>(empty)   Malicious   PartOfAHorizontalPortScan</td>\n    </tr>\n  </tbody>\n</table>\n<p>2739674 rows × 21 columns</p>\n</div>"
     },
     "execution_count": 44,
     "metadata": {},
     "output_type": "execute_result"
    }
   ],
   "source": [
    "df_c"
   ]
  },
  {
   "cell_type": "code",
   "execution_count": 45,
   "id": "silver-royal",
   "metadata": {},
   "outputs": [
    {
     "data": {
      "text/plain": "(2739674, 21)"
     },
     "execution_count": 45,
     "metadata": {},
     "output_type": "execute_result"
    }
   ],
   "source": [
    "#['ts','uid','id.orig_h','id.orig_p','id.resp_h','id.resp_p','service','local_orig','local_resp','history']\n",
    "df_c.shape"
   ]
  },
  {
   "cell_type": "code",
   "execution_count": 46,
   "id": "rural-buffer",
   "metadata": {},
   "outputs": [
    {
     "name": "stdout",
     "output_type": "stream",
     "text": [
      "-       2728488\n",
      "dns        4769\n",
      "ssh        3980\n",
      "irc        1653\n",
      "http        768\n",
      "dhcp          8\n",
      "ssl           8\n",
      "Name: service, dtype: int64\n",
      "-    2739674\n",
      "Name: local_orig, dtype: int64\n",
      "-    2739674\n",
      "Name: local_resp, dtype: int64\n",
      "S               2413591\n",
      "C                212589\n",
      "D                 80594\n",
      "Dd                12359\n",
      "-                  6501\n",
      "Sr                 4316\n",
      "ShAdDaFf           4100\n",
      "ShAdDaf            2263\n",
      "ShAdDafF            677\n",
      "ShADadfF            321\n",
      "ShAdfDr             238\n",
      "ShAdDaft            187\n",
      "ShAdDaFr            168\n",
      "ShADafF             121\n",
      "ShADdfFa            121\n",
      "ShADafr             120\n",
      "ShAdDfFr            118\n",
      "^c                   98\n",
      "ShAdDaFRfR           93\n",
      "ShAdDaFRR            73\n",
      "R                    55\n",
      "ShAfFa               52\n",
      "ShAdDaFfR            50\n",
      "ShAdDaFRRfR          43\n",
      "ShADadttfF           42\n",
      "ShAdDaFfRR           40\n",
      "ShAdDaFRf            38\n",
      "ShADdfrFr            37\n",
      "ShAdDatFf            37\n",
      "ShAdDatFr            36\n",
      "ShAa                 34\n",
      "ShR                  33\n",
      "ShAr                 32\n",
      "ShAdDaR              31\n",
      "ShADadFf             24\n",
      "ShAadDFf             22\n",
      "ShAdDaF              21\n",
      "ShAdDaTFf            17\n",
      "ShAdtDaFr            16\n",
      "ShADadtfF            15\n",
      "ShADadfR             15\n",
      "ShAdDaFR             12\n",
      "ShAdDaFRfRR          11\n",
      "ShAdDatFrR           11\n",
      "ShAdtDaFrR           10\n",
      "^r                    9\n",
      "^aA                   8\n",
      "ShADF                 8\n",
      "F                     8\n",
      "ShAdDaFrR             8\n",
      "ShAfdtDr              8\n",
      "DdA                   8\n",
      "ShADadtFf             7\n",
      "^d                    7\n",
      "ShADFr                7\n",
      "ShADdafF              6\n",
      "ShA                   6\n",
      "ShADadttFf            6\n",
      "ShADr                 6\n",
      "ShAF                  6\n",
      "CCCC                  6\n",
      "ShADadRf              5\n",
      "ShAdfFa               5\n",
      "SahAdDFf              5\n",
      "ShADadcgttfF          5\n",
      "D^                    5\n",
      "ShAdDaFTf             4\n",
      "ShAdDaFRRf            4\n",
      "SaR                   4\n",
      "ShADad                4\n",
      "DdAaFf                4\n",
      "ShADaR                3\n",
      "ShADadf               3\n",
      "ShADacdtfF            3\n",
      "ShADa                 3\n",
      "ShADacfF              3\n",
      "ShADadR               3\n",
      "ShAFr                 3\n",
      "ShADdrfFr             3\n",
      "ShADadtctfF           3\n",
      "ShADadtcfF            3\n",
      "ShADadttcfF           3\n",
      "DdAa                  2\n",
      "ShADFadfR             2\n",
      "ShAdDaFfr             2\n",
      "CCC                   2\n",
      "ShAdDafFr             2\n",
      "ShAdDatfr             2\n",
      "ShADFar               2\n",
      "ShDadAf               2\n",
      "ShAdDtafF             2\n",
      "ShAdaFr               2\n",
      "ShAFf                 2\n",
      "ShAdDaFT              2\n",
      "Aa                    2\n",
      "ShAdDatfF             2\n",
      "ShADdar               1\n",
      "Hr                    1\n",
      "ShADadr               1\n",
      "ShADadcgtftF          1\n",
      "ShAD                  1\n",
      "ShAdr                 1\n",
      "ShAdDfr               1\n",
      "ShADaTdtR             1\n",
      "ShwR                  1\n",
      "ShAdD                 1\n",
      "ShADadtftF            1\n",
      "ShADadFRfR            1\n",
      "ShAdDafR              1\n",
      "ShAdDafr              1\n",
      "ShAdDa                1\n",
      "DaFfA                 1\n",
      "ShADdaf               1\n",
      "DdAFaf                1\n",
      "ShwAadDfr             1\n",
      "ShADacdftF            1\n",
      "ShADadttFRfR          1\n",
      "ShADacdFf             1\n",
      "ShADacdtttfF          1\n",
      "ShADadtfFr            1\n",
      "ShADafdtF             1\n",
      "ShADadtTfFr           1\n",
      "ShADda                1\n",
      "SahAdDF               1\n",
      "ShAdDatf              1\n",
      "ShADarfF              1\n",
      "ShAdDaFRRRf           1\n",
      "ShADFa                1\n",
      "ShADFfR               1\n",
      "ShAdDar               1\n",
      "ShAadDr               1\n",
      "ShAdFaf               1\n",
      "ShADadfrr             1\n",
      "ShADaCGdt             1\n",
      "ShADaCGcgdF           1\n",
      "ShADCaGdfF            1\n",
      "^dDA                  1\n",
      "ShADCaGcgd            1\n",
      "ShADaCGr              1\n",
      "ShADaCGdtfF           1\n",
      "D^d                   1\n",
      "ShAdF                 1\n",
      "ShAFa                 1\n",
      "ShADaF                1\n",
      "ShADdafR              1\n",
      "ShADFaR               1\n",
      "ShArR                 1\n",
      "ShADadFfR             1\n",
      "ShAadDFR              1\n",
      "ShADadtctfFR          1\n",
      "DdAtaFf               1\n",
      "ShADFaf               1\n",
      "ShAFfar               1\n",
      "ShADrfR               1\n",
      "SahAdDtFf             1\n",
      "DFafA                 1\n",
      "SahAdDFRf             1\n",
      "ShAdDaTFRf            1\n",
      "ShAdDFf               1\n",
      "ShAadDFRf             1\n",
      "ShAdDtaFf             1\n",
      "ShAdDaTF              1\n",
      "ShAdDFaf              1\n",
      "ShAafF                1\n",
      "ShADFfa               1\n",
      "ShAdDatR              1\n",
      "ShADFadfRR            1\n",
      "SAD                   1\n",
      "Name: history, dtype: int64\n"
     ]
    }
   ],
   "source": [
    "print(df_c['service'].value_counts())\n",
    "print(df_c['local_orig'].value_counts())\n",
    "print(df_c['local_resp'].value_counts())\n",
    "print(df_c['history'].value_counts())"
   ]
  },
  {
   "cell_type": "code",
   "execution_count": 47,
   "outputs": [],
   "source": [
    "df_c.loc[(df_c.label == '-   Malicious   PartOfAHorizontalPortScan'), 'category'] = 'Malware'\n",
    "df_c.loc[(df_c.label == '(empty)   Malicious   PartOfAHorizontalPortScan'), 'category'] = 'Malware'\n",
    "df_c.loc[(df_c.label == '-   Malicious   Okiru'), 'category'] = 'Malware'\n",
    "df_c.loc[(df_c.label == '(empty)   Malicious   Okiru'), 'category'] = 'Malware'\n",
    "df_c.loc[(df_c.label == '-   Benign   -'), 'category'] = 'Benign'\n",
    "df_c.loc[(df_c.label == '(empty)   Benign   -'), 'category'] = 'Benign'\n",
    "df_c.loc[(df_c.label == '-   Malicious   DDoS'), 'category'] = 'Malware'\n",
    "df_c.loc[(df_c.label == '-   Malicious   C&C'), 'category'] = 'Malware'\n",
    "df_c.loc[(df_c.label == '(empty)   Malicious   C&C'), 'category'] = 'Malware'\n",
    "df_c.loc[(df_c.label == '-   Malicious   Attack'), 'category'] = 'Malware'\n",
    "df_c.loc[(df_c.label == '(empty)   Malicious   Attack'), 'category'] = 'Malware'\n",
    "df_c.loc[(df_c.label == '-   Malicious   C&C-HeartBeat'), 'category'] = 'Malware'\n",
    "df_c.loc[(df_c.label == '(empty)   Malicious   C&C-HeartBeat'), 'category'] = 'Malware'\n",
    "df_c.loc[(df_c.label == '-   Malicious   C&C-FileDownload'), 'category'] = 'Malware'\n",
    "df_c.loc[(df_c.label == '-   Malicious   C&C-Torii'), 'category'] = 'Malware'\n",
    "df_c.loc[(df_c.label == '-   Malicious   C&C-HeartBeat-FileDownload'), 'category'] = 'Malware'\n",
    "df_c.loc[(df_c.label == '-   Malicious   FileDownload'), 'category'] = 'Malware'\n",
    "df_c.loc[(df_c.label == '-   Malicious   C&C-Mirai'), 'category'] = 'Malware'\n",
    "df_c.loc[(df_c.label == '-   Malicious   Okiru-Attack'), 'category'] = 'Malware'"
   ],
   "metadata": {
    "collapsed": false,
    "pycharm": {
     "name": "#%%\n"
    }
   }
  },
  {
   "cell_type": "code",
   "execution_count": 48,
   "id": "tired-independence",
   "metadata": {},
   "outputs": [],
   "source": [
    "df_c.loc[(df_c.label == '-   Malicious   PartOfAHorizontalPortScan'), 'label'] = '1'\n",
    "df_c.loc[(df_c.label == '(empty)   Malicious   PartOfAHorizontalPortScan'), 'label'] = '1'\n",
    "df_c.loc[(df_c.label == '-   Malicious   Okiru'), 'label'] = '2'\n",
    "df_c.loc[(df_c.label == '(empty)   Malicious   Okiru'), 'label'] = '2'\n",
    "df_c.loc[(df_c.label == '-   Benign   -'), 'label'] = '0'\n",
    "df_c.loc[(df_c.label == '(empty)   Benign   -'), 'label'] = '0'\n",
    "df_c.loc[(df_c.label == '-   Malicious   DDoS'), 'label'] = '4'\n",
    "df_c.loc[(df_c.label == '-   Malicious   C&C'), 'label'] = '5'\n",
    "df_c.loc[(df_c.label == '(empty)   Malicious   C&C'), 'label'] = '5'\n",
    "df_c.loc[(df_c.label == '-   Malicious   Attack'), 'label'] = '6'\n",
    "df_c.loc[(df_c.label == '(empty)   Malicious   Attack'), 'label'] = '6'\n",
    "df_c.loc[(df_c.label == '-   Malicious   C&C-HeartBeat'), 'label'] = '7'\n",
    "df_c.loc[(df_c.label == '(empty)   Malicious   C&C-HeartBeat'), 'label'] = '7'\n",
    "df_c.loc[(df_c.label == '-   Malicious   C&C-FileDownload'), 'label'] = '8'\n",
    "df_c.loc[(df_c.label == '-   Malicious   C&C-Torii'), 'label'] = '9'\n",
    "df_c.loc[(df_c.label == '-   Malicious   C&C-HeartBeat-FileDownload'), 'label'] = '10'\n",
    "df_c.loc[(df_c.label == '-   Malicious   FileDownload'), 'label'] = '11'\n",
    "df_c.loc[(df_c.label == '-   Malicious   C&C-Mirai'), 'label'] = '12'\n",
    "df_c.loc[(df_c.label == '-   Malicious   Okiru-Attack'), 'label'] = '3'"
   ]
  },
  {
   "cell_type": "code",
   "execution_count": 48,
   "outputs": [],
   "source": [],
   "metadata": {
    "collapsed": false,
    "pycharm": {
     "name": "#%%\n"
    }
   }
  },
  {
   "cell_type": "markdown",
   "id": "adjacent-desperate",
   "metadata": {},
   "source": [
    "13 types of malicious attack"
   ]
  },
  {
   "cell_type": "code",
   "execution_count": 49,
   "id": "wanted-might",
   "metadata": {},
   "outputs": [
    {
     "data": {
      "text/plain": "1     1557534\n2      522619\n0      376965\n4      262509\n5       15152\n6        4203\n7         591\n8          46\n9          30\n11         13\n10          8\n3           3\n12          1\nName: label, dtype: int64"
     },
     "execution_count": 49,
     "metadata": {},
     "output_type": "execute_result"
    }
   ],
   "source": [
    "df_c['label'].value_counts()"
   ]
  },
  {
   "cell_type": "code",
   "execution_count": 50,
   "outputs": [
    {
     "name": "stdout",
     "output_type": "stream",
     "text": [
      "Malware    2362709\n",
      "Benign      376965\n",
      "Name: category, dtype: int64\n"
     ]
    },
    {
     "data": {
      "text/plain": "                       ts                 uid        id.orig_h  id.orig_p  \\\n0        1525879832.01624   CDe43c1PtgynajGI6  192.168.100.103    60905.0   \n1       1525879832.024985  CJaDcG3MZzvf1YVYI4  192.168.100.103    44301.0   \n2       1525879832.044975  CMBrup3BLXivSp4Avc  192.168.100.103    50244.0   \n3       1525879833.016171  CfHl9r3XMYtDQRrHnh  192.168.100.103    34243.0   \n4       1525879833.044906  C7USrA15nFVkniMqC5  192.168.100.103    34840.0   \n...                   ...                 ...              ...        ...   \n198994  1532526873.004325  CvFFw62Kjp5USsHGRg  192.168.100.111    33026.0   \n198995  1532526873.004552  CSeCqz1P1yTpJQG2d9  192.168.100.111    27450.0   \n198996  1532526873.004556  C3ZXr73RmxvStPLjn3  192.168.100.111    65504.0   \n198997  1532526873.004558   Cr6vZgzGZIxzFbtJc  192.168.100.111    26397.0   \n198998   1532526873.00456  CLs3pr1Luj87Dv0e74  192.168.100.111    44324.0   \n\n              id.resp_h  id.resp_p proto service  duration orig_bytes  \\\n0       131.174.215.147       23.0   tcp       -  2.998796          0   \n1           91.42.47.63       23.0   tcp       -         -          -   \n2       120.210.108.200       23.0   tcp       -         -          -   \n3          147.7.65.203    49560.0   tcp       -  2.998804          0   \n4          145.164.35.6    21288.0   tcp       -         -          -   \n...                 ...        ...   ...     ...       ...        ...   \n198994   80.102.225.170       81.0   tcp       -         -          -   \n198995      74.7.23.118       81.0   tcp       -         -          -   \n198996    183.32.104.86       81.0   tcp       -         -          -   \n198997     8.146.82.230       81.0   tcp       -         -          -   \n198998    138.222.2.145       81.0   tcp       -         -          -   \n\n       resp_bytes conn_state local_orig local_resp  missed_bytes history  \\\n0               0         S0          -          -           0.0       S   \n1               -         S0          -          -           0.0       S   \n2               -         S0          -          -           0.0       S   \n3               0         S0          -          -           0.0       S   \n4               -         S0          -          -           0.0       S   \n...           ...        ...        ...        ...           ...     ...   \n198994          -         S0          -          -           0.0       S   \n198995          -         S0          -          -           0.0       S   \n198996          -         S0          -          -           0.0       S   \n198997          -         S0          -          -           0.0       S   \n198998          -         S0          -          -           0.0       S   \n\n        orig_pkts  orig_ip_bytes  resp_pkts  resp_ip_bytes label category  \n0             3.0          180.0        0.0            0.0     1  Malware  \n1             1.0           60.0        0.0            0.0     1  Malware  \n2             1.0           60.0        0.0            0.0     1  Malware  \n3             3.0          180.0        0.0            0.0     0   Benign  \n4             1.0           60.0        0.0            0.0     0   Benign  \n...           ...            ...        ...            ...   ...      ...  \n198994        1.0           40.0        0.0            0.0     1  Malware  \n198995        1.0           40.0        0.0            0.0     1  Malware  \n198996        1.0           40.0        0.0            0.0     1  Malware  \n198997        1.0           40.0        0.0            0.0     1  Malware  \n198998        1.0           40.0        0.0            0.0     1  Malware  \n\n[2739674 rows x 22 columns]",
      "text/html": "<div>\n<style scoped>\n    .dataframe tbody tr th:only-of-type {\n        vertical-align: middle;\n    }\n\n    .dataframe tbody tr th {\n        vertical-align: top;\n    }\n\n    .dataframe thead th {\n        text-align: right;\n    }\n</style>\n<table border=\"1\" class=\"dataframe\">\n  <thead>\n    <tr style=\"text-align: right;\">\n      <th></th>\n      <th>ts</th>\n      <th>uid</th>\n      <th>id.orig_h</th>\n      <th>id.orig_p</th>\n      <th>id.resp_h</th>\n      <th>id.resp_p</th>\n      <th>proto</th>\n      <th>service</th>\n      <th>duration</th>\n      <th>orig_bytes</th>\n      <th>resp_bytes</th>\n      <th>conn_state</th>\n      <th>local_orig</th>\n      <th>local_resp</th>\n      <th>missed_bytes</th>\n      <th>history</th>\n      <th>orig_pkts</th>\n      <th>orig_ip_bytes</th>\n      <th>resp_pkts</th>\n      <th>resp_ip_bytes</th>\n      <th>label</th>\n      <th>category</th>\n    </tr>\n  </thead>\n  <tbody>\n    <tr>\n      <th>0</th>\n      <td>1525879832.01624</td>\n      <td>CDe43c1PtgynajGI6</td>\n      <td>192.168.100.103</td>\n      <td>60905.0</td>\n      <td>131.174.215.147</td>\n      <td>23.0</td>\n      <td>tcp</td>\n      <td>-</td>\n      <td>2.998796</td>\n      <td>0</td>\n      <td>0</td>\n      <td>S0</td>\n      <td>-</td>\n      <td>-</td>\n      <td>0.0</td>\n      <td>S</td>\n      <td>3.0</td>\n      <td>180.0</td>\n      <td>0.0</td>\n      <td>0.0</td>\n      <td>1</td>\n      <td>Malware</td>\n    </tr>\n    <tr>\n      <th>1</th>\n      <td>1525879832.024985</td>\n      <td>CJaDcG3MZzvf1YVYI4</td>\n      <td>192.168.100.103</td>\n      <td>44301.0</td>\n      <td>91.42.47.63</td>\n      <td>23.0</td>\n      <td>tcp</td>\n      <td>-</td>\n      <td>-</td>\n      <td>-</td>\n      <td>-</td>\n      <td>S0</td>\n      <td>-</td>\n      <td>-</td>\n      <td>0.0</td>\n      <td>S</td>\n      <td>1.0</td>\n      <td>60.0</td>\n      <td>0.0</td>\n      <td>0.0</td>\n      <td>1</td>\n      <td>Malware</td>\n    </tr>\n    <tr>\n      <th>2</th>\n      <td>1525879832.044975</td>\n      <td>CMBrup3BLXivSp4Avc</td>\n      <td>192.168.100.103</td>\n      <td>50244.0</td>\n      <td>120.210.108.200</td>\n      <td>23.0</td>\n      <td>tcp</td>\n      <td>-</td>\n      <td>-</td>\n      <td>-</td>\n      <td>-</td>\n      <td>S0</td>\n      <td>-</td>\n      <td>-</td>\n      <td>0.0</td>\n      <td>S</td>\n      <td>1.0</td>\n      <td>60.0</td>\n      <td>0.0</td>\n      <td>0.0</td>\n      <td>1</td>\n      <td>Malware</td>\n    </tr>\n    <tr>\n      <th>3</th>\n      <td>1525879833.016171</td>\n      <td>CfHl9r3XMYtDQRrHnh</td>\n      <td>192.168.100.103</td>\n      <td>34243.0</td>\n      <td>147.7.65.203</td>\n      <td>49560.0</td>\n      <td>tcp</td>\n      <td>-</td>\n      <td>2.998804</td>\n      <td>0</td>\n      <td>0</td>\n      <td>S0</td>\n      <td>-</td>\n      <td>-</td>\n      <td>0.0</td>\n      <td>S</td>\n      <td>3.0</td>\n      <td>180.0</td>\n      <td>0.0</td>\n      <td>0.0</td>\n      <td>0</td>\n      <td>Benign</td>\n    </tr>\n    <tr>\n      <th>4</th>\n      <td>1525879833.044906</td>\n      <td>C7USrA15nFVkniMqC5</td>\n      <td>192.168.100.103</td>\n      <td>34840.0</td>\n      <td>145.164.35.6</td>\n      <td>21288.0</td>\n      <td>tcp</td>\n      <td>-</td>\n      <td>-</td>\n      <td>-</td>\n      <td>-</td>\n      <td>S0</td>\n      <td>-</td>\n      <td>-</td>\n      <td>0.0</td>\n      <td>S</td>\n      <td>1.0</td>\n      <td>60.0</td>\n      <td>0.0</td>\n      <td>0.0</td>\n      <td>0</td>\n      <td>Benign</td>\n    </tr>\n    <tr>\n      <th>...</th>\n      <td>...</td>\n      <td>...</td>\n      <td>...</td>\n      <td>...</td>\n      <td>...</td>\n      <td>...</td>\n      <td>...</td>\n      <td>...</td>\n      <td>...</td>\n      <td>...</td>\n      <td>...</td>\n      <td>...</td>\n      <td>...</td>\n      <td>...</td>\n      <td>...</td>\n      <td>...</td>\n      <td>...</td>\n      <td>...</td>\n      <td>...</td>\n      <td>...</td>\n      <td>...</td>\n      <td>...</td>\n    </tr>\n    <tr>\n      <th>198994</th>\n      <td>1532526873.004325</td>\n      <td>CvFFw62Kjp5USsHGRg</td>\n      <td>192.168.100.111</td>\n      <td>33026.0</td>\n      <td>80.102.225.170</td>\n      <td>81.0</td>\n      <td>tcp</td>\n      <td>-</td>\n      <td>-</td>\n      <td>-</td>\n      <td>-</td>\n      <td>S0</td>\n      <td>-</td>\n      <td>-</td>\n      <td>0.0</td>\n      <td>S</td>\n      <td>1.0</td>\n      <td>40.0</td>\n      <td>0.0</td>\n      <td>0.0</td>\n      <td>1</td>\n      <td>Malware</td>\n    </tr>\n    <tr>\n      <th>198995</th>\n      <td>1532526873.004552</td>\n      <td>CSeCqz1P1yTpJQG2d9</td>\n      <td>192.168.100.111</td>\n      <td>27450.0</td>\n      <td>74.7.23.118</td>\n      <td>81.0</td>\n      <td>tcp</td>\n      <td>-</td>\n      <td>-</td>\n      <td>-</td>\n      <td>-</td>\n      <td>S0</td>\n      <td>-</td>\n      <td>-</td>\n      <td>0.0</td>\n      <td>S</td>\n      <td>1.0</td>\n      <td>40.0</td>\n      <td>0.0</td>\n      <td>0.0</td>\n      <td>1</td>\n      <td>Malware</td>\n    </tr>\n    <tr>\n      <th>198996</th>\n      <td>1532526873.004556</td>\n      <td>C3ZXr73RmxvStPLjn3</td>\n      <td>192.168.100.111</td>\n      <td>65504.0</td>\n      <td>183.32.104.86</td>\n      <td>81.0</td>\n      <td>tcp</td>\n      <td>-</td>\n      <td>-</td>\n      <td>-</td>\n      <td>-</td>\n      <td>S0</td>\n      <td>-</td>\n      <td>-</td>\n      <td>0.0</td>\n      <td>S</td>\n      <td>1.0</td>\n      <td>40.0</td>\n      <td>0.0</td>\n      <td>0.0</td>\n      <td>1</td>\n      <td>Malware</td>\n    </tr>\n    <tr>\n      <th>198997</th>\n      <td>1532526873.004558</td>\n      <td>Cr6vZgzGZIxzFbtJc</td>\n      <td>192.168.100.111</td>\n      <td>26397.0</td>\n      <td>8.146.82.230</td>\n      <td>81.0</td>\n      <td>tcp</td>\n      <td>-</td>\n      <td>-</td>\n      <td>-</td>\n      <td>-</td>\n      <td>S0</td>\n      <td>-</td>\n      <td>-</td>\n      <td>0.0</td>\n      <td>S</td>\n      <td>1.0</td>\n      <td>40.0</td>\n      <td>0.0</td>\n      <td>0.0</td>\n      <td>1</td>\n      <td>Malware</td>\n    </tr>\n    <tr>\n      <th>198998</th>\n      <td>1532526873.00456</td>\n      <td>CLs3pr1Luj87Dv0e74</td>\n      <td>192.168.100.111</td>\n      <td>44324.0</td>\n      <td>138.222.2.145</td>\n      <td>81.0</td>\n      <td>tcp</td>\n      <td>-</td>\n      <td>-</td>\n      <td>-</td>\n      <td>-</td>\n      <td>S0</td>\n      <td>-</td>\n      <td>-</td>\n      <td>0.0</td>\n      <td>S</td>\n      <td>1.0</td>\n      <td>40.0</td>\n      <td>0.0</td>\n      <td>0.0</td>\n      <td>1</td>\n      <td>Malware</td>\n    </tr>\n  </tbody>\n</table>\n<p>2739674 rows × 22 columns</p>\n</div>"
     },
     "execution_count": 50,
     "metadata": {},
     "output_type": "execute_result"
    }
   ],
   "source": [
    "print(df_c['category'].value_counts())\n",
    "df_c"
   ],
   "metadata": {
    "collapsed": false,
    "pycharm": {
     "name": "#%%\n"
    }
   }
  },
  {
   "cell_type": "code",
   "execution_count": 51,
   "id": "champion-lawrence",
   "metadata": {},
   "outputs": [],
   "source": [
    "pd.options.display.max_rows = 300\n",
    "pd.options.display.max_columns = 300"
   ]
  },
  {
   "cell_type": "code",
   "execution_count": 52,
   "id": "modular-principle",
   "metadata": {},
   "outputs": [
    {
     "data": {
      "text/plain": "       proto service  duration orig_bytes resp_bytes conn_state  missed_bytes  \\\n0        tcp       -  2.998796          0          0         S0           0.0   \n1        tcp       -         -          -          -         S0           0.0   \n2        tcp       -         -          -          -         S0           0.0   \n3        tcp       -  2.998804          0          0         S0           0.0   \n4        tcp       -         -          -          -         S0           0.0   \n...      ...     ...       ...        ...        ...        ...           ...   \n198994   tcp       -         -          -          -         S0           0.0   \n198995   tcp       -         -          -          -         S0           0.0   \n198996   tcp       -         -          -          -         S0           0.0   \n198997   tcp       -         -          -          -         S0           0.0   \n198998   tcp       -         -          -          -         S0           0.0   \n\n        orig_pkts  orig_ip_bytes  resp_pkts  resp_ip_bytes label category  \n0             3.0          180.0        0.0            0.0     1  Malware  \n1             1.0           60.0        0.0            0.0     1  Malware  \n2             1.0           60.0        0.0            0.0     1  Malware  \n3             3.0          180.0        0.0            0.0     0   Benign  \n4             1.0           60.0        0.0            0.0     0   Benign  \n...           ...            ...        ...            ...   ...      ...  \n198994        1.0           40.0        0.0            0.0     1  Malware  \n198995        1.0           40.0        0.0            0.0     1  Malware  \n198996        1.0           40.0        0.0            0.0     1  Malware  \n198997        1.0           40.0        0.0            0.0     1  Malware  \n198998        1.0           40.0        0.0            0.0     1  Malware  \n\n[2739674 rows x 13 columns]",
      "text/html": "<div>\n<style scoped>\n    .dataframe tbody tr th:only-of-type {\n        vertical-align: middle;\n    }\n\n    .dataframe tbody tr th {\n        vertical-align: top;\n    }\n\n    .dataframe thead th {\n        text-align: right;\n    }\n</style>\n<table border=\"1\" class=\"dataframe\">\n  <thead>\n    <tr style=\"text-align: right;\">\n      <th></th>\n      <th>proto</th>\n      <th>service</th>\n      <th>duration</th>\n      <th>orig_bytes</th>\n      <th>resp_bytes</th>\n      <th>conn_state</th>\n      <th>missed_bytes</th>\n      <th>orig_pkts</th>\n      <th>orig_ip_bytes</th>\n      <th>resp_pkts</th>\n      <th>resp_ip_bytes</th>\n      <th>label</th>\n      <th>category</th>\n    </tr>\n  </thead>\n  <tbody>\n    <tr>\n      <th>0</th>\n      <td>tcp</td>\n      <td>-</td>\n      <td>2.998796</td>\n      <td>0</td>\n      <td>0</td>\n      <td>S0</td>\n      <td>0.0</td>\n      <td>3.0</td>\n      <td>180.0</td>\n      <td>0.0</td>\n      <td>0.0</td>\n      <td>1</td>\n      <td>Malware</td>\n    </tr>\n    <tr>\n      <th>1</th>\n      <td>tcp</td>\n      <td>-</td>\n      <td>-</td>\n      <td>-</td>\n      <td>-</td>\n      <td>S0</td>\n      <td>0.0</td>\n      <td>1.0</td>\n      <td>60.0</td>\n      <td>0.0</td>\n      <td>0.0</td>\n      <td>1</td>\n      <td>Malware</td>\n    </tr>\n    <tr>\n      <th>2</th>\n      <td>tcp</td>\n      <td>-</td>\n      <td>-</td>\n      <td>-</td>\n      <td>-</td>\n      <td>S0</td>\n      <td>0.0</td>\n      <td>1.0</td>\n      <td>60.0</td>\n      <td>0.0</td>\n      <td>0.0</td>\n      <td>1</td>\n      <td>Malware</td>\n    </tr>\n    <tr>\n      <th>3</th>\n      <td>tcp</td>\n      <td>-</td>\n      <td>2.998804</td>\n      <td>0</td>\n      <td>0</td>\n      <td>S0</td>\n      <td>0.0</td>\n      <td>3.0</td>\n      <td>180.0</td>\n      <td>0.0</td>\n      <td>0.0</td>\n      <td>0</td>\n      <td>Benign</td>\n    </tr>\n    <tr>\n      <th>4</th>\n      <td>tcp</td>\n      <td>-</td>\n      <td>-</td>\n      <td>-</td>\n      <td>-</td>\n      <td>S0</td>\n      <td>0.0</td>\n      <td>1.0</td>\n      <td>60.0</td>\n      <td>0.0</td>\n      <td>0.0</td>\n      <td>0</td>\n      <td>Benign</td>\n    </tr>\n    <tr>\n      <th>...</th>\n      <td>...</td>\n      <td>...</td>\n      <td>...</td>\n      <td>...</td>\n      <td>...</td>\n      <td>...</td>\n      <td>...</td>\n      <td>...</td>\n      <td>...</td>\n      <td>...</td>\n      <td>...</td>\n      <td>...</td>\n      <td>...</td>\n    </tr>\n    <tr>\n      <th>198994</th>\n      <td>tcp</td>\n      <td>-</td>\n      <td>-</td>\n      <td>-</td>\n      <td>-</td>\n      <td>S0</td>\n      <td>0.0</td>\n      <td>1.0</td>\n      <td>40.0</td>\n      <td>0.0</td>\n      <td>0.0</td>\n      <td>1</td>\n      <td>Malware</td>\n    </tr>\n    <tr>\n      <th>198995</th>\n      <td>tcp</td>\n      <td>-</td>\n      <td>-</td>\n      <td>-</td>\n      <td>-</td>\n      <td>S0</td>\n      <td>0.0</td>\n      <td>1.0</td>\n      <td>40.0</td>\n      <td>0.0</td>\n      <td>0.0</td>\n      <td>1</td>\n      <td>Malware</td>\n    </tr>\n    <tr>\n      <th>198996</th>\n      <td>tcp</td>\n      <td>-</td>\n      <td>-</td>\n      <td>-</td>\n      <td>-</td>\n      <td>S0</td>\n      <td>0.0</td>\n      <td>1.0</td>\n      <td>40.0</td>\n      <td>0.0</td>\n      <td>0.0</td>\n      <td>1</td>\n      <td>Malware</td>\n    </tr>\n    <tr>\n      <th>198997</th>\n      <td>tcp</td>\n      <td>-</td>\n      <td>-</td>\n      <td>-</td>\n      <td>-</td>\n      <td>S0</td>\n      <td>0.0</td>\n      <td>1.0</td>\n      <td>40.0</td>\n      <td>0.0</td>\n      <td>0.0</td>\n      <td>1</td>\n      <td>Malware</td>\n    </tr>\n    <tr>\n      <th>198998</th>\n      <td>tcp</td>\n      <td>-</td>\n      <td>-</td>\n      <td>-</td>\n      <td>-</td>\n      <td>S0</td>\n      <td>0.0</td>\n      <td>1.0</td>\n      <td>40.0</td>\n      <td>0.0</td>\n      <td>0.0</td>\n      <td>1</td>\n      <td>Malware</td>\n    </tr>\n  </tbody>\n</table>\n<p>2739674 rows × 13 columns</p>\n</div>"
     },
     "execution_count": 52,
     "metadata": {},
     "output_type": "execute_result"
    }
   ],
   "source": [
    "df_c = df_c.drop(columns=['ts','uid','id.orig_h','id.orig_p','id.resp_h','id.resp_p',\n",
    "                            'local_orig','local_resp','history'])\n",
    "df_c"
   ]
  },
  {
   "cell_type": "code",
   "execution_count": 53,
   "id": "planned-deadline",
   "metadata": {},
   "outputs": [],
   "source": [
    "df_c = pd.get_dummies(df_c, columns=['proto'])\n",
    "df_c = pd.get_dummies(df_c, columns=['conn_state'])\n",
    "df_c = pd.get_dummies(df_c, columns=['service'])"
   ]
  },
  {
   "cell_type": "code",
   "execution_count": 37,
   "id": "arabic-obligation",
   "metadata": {},
   "outputs": [
    {
     "data": {
      "text/plain": "        duration orig_bytes resp_bytes  missed_bytes  orig_pkts  \\\n0       2.998796          0          0           0.0        3.0   \n1              -          -          -           0.0        1.0   \n2              -          -          -           0.0        1.0   \n3       2.998804          0          0           0.0        3.0   \n4              -          -          -           0.0        1.0   \n...          ...        ...        ...           ...        ...   \n198994         -          -          -           0.0        1.0   \n198995         -          -          -           0.0        1.0   \n198996         -          -          -           0.0        1.0   \n198997         -          -          -           0.0        1.0   \n198998         -          -          -           0.0        1.0   \n\n        orig_ip_bytes  resp_pkts  resp_ip_bytes                      label  \\\n0               180.0        0.0            0.0  PartOfAHorizontalPortScan   \n1                60.0        0.0            0.0  PartOfAHorizontalPortScan   \n2                60.0        0.0            0.0  PartOfAHorizontalPortScan   \n3               180.0        0.0            0.0                     Benign   \n4                60.0        0.0            0.0                     Benign   \n...               ...        ...            ...                        ...   \n198994           40.0        0.0            0.0  PartOfAHorizontalPortScan   \n198995           40.0        0.0            0.0  PartOfAHorizontalPortScan   \n198996           40.0        0.0            0.0  PartOfAHorizontalPortScan   \n198997           40.0        0.0            0.0  PartOfAHorizontalPortScan   \n198998           40.0        0.0            0.0  PartOfAHorizontalPortScan   \n\n       category  proto_icmp  proto_tcp  proto_udp  conn_state_OTH  \\\n0       Malware           0          1          0               0   \n1       Malware           0          1          0               0   \n2       Malware           0          1          0               0   \n3        Benign           0          1          0               0   \n4        Benign           0          1          0               0   \n...         ...         ...        ...        ...             ...   \n198994  Malware           0          1          0               0   \n198995  Malware           0          1          0               0   \n198996  Malware           0          1          0               0   \n198997  Malware           0          1          0               0   \n198998  Malware           0          1          0               0   \n\n        conn_state_REJ  conn_state_RSTO  conn_state_RSTOS0  conn_state_RSTR  \\\n0                    0                0                  0                0   \n1                    0                0                  0                0   \n2                    0                0                  0                0   \n3                    0                0                  0                0   \n4                    0                0                  0                0   \n...                ...              ...                ...              ...   \n198994               0                0                  0                0   \n198995               0                0                  0                0   \n198996               0                0                  0                0   \n198997               0                0                  0                0   \n198998               0                0                  0                0   \n\n        conn_state_RSTRH  conn_state_S0  conn_state_S1  conn_state_S2  \\\n0                      0              1              0              0   \n1                      0              1              0              0   \n2                      0              1              0              0   \n3                      0              1              0              0   \n4                      0              1              0              0   \n...                  ...            ...            ...            ...   \n198994                 0              1              0              0   \n198995                 0              1              0              0   \n198996                 0              1              0              0   \n198997                 0              1              0              0   \n198998                 0              1              0              0   \n\n        conn_state_S3  conn_state_SF  conn_state_SH  conn_state_SHR  \\\n0                   0              0              0               0   \n1                   0              0              0               0   \n2                   0              0              0               0   \n3                   0              0              0               0   \n4                   0              0              0               0   \n...               ...            ...            ...             ...   \n198994              0              0              0               0   \n198995              0              0              0               0   \n198996              0              0              0               0   \n198997              0              0              0               0   \n198998              0              0              0               0   \n\n        service_-  service_dhcp  service_dns  service_http  service_irc  \\\n0               1             0            0             0            0   \n1               1             0            0             0            0   \n2               1             0            0             0            0   \n3               1             0            0             0            0   \n4               1             0            0             0            0   \n...           ...           ...          ...           ...          ...   \n198994          1             0            0             0            0   \n198995          1             0            0             0            0   \n198996          1             0            0             0            0   \n198997          1             0            0             0            0   \n198998          1             0            0             0            0   \n\n        service_ssh  service_ssl  \n0                 0            0  \n1                 0            0  \n2                 0            0  \n3                 0            0  \n4                 0            0  \n...             ...          ...  \n198994            0            0  \n198995            0            0  \n198996            0            0  \n198997            0            0  \n198998            0            0  \n\n[2739674 rows x 33 columns]",
      "text/html": "<div>\n<style scoped>\n    .dataframe tbody tr th:only-of-type {\n        vertical-align: middle;\n    }\n\n    .dataframe tbody tr th {\n        vertical-align: top;\n    }\n\n    .dataframe thead th {\n        text-align: right;\n    }\n</style>\n<table border=\"1\" class=\"dataframe\">\n  <thead>\n    <tr style=\"text-align: right;\">\n      <th></th>\n      <th>duration</th>\n      <th>orig_bytes</th>\n      <th>resp_bytes</th>\n      <th>missed_bytes</th>\n      <th>orig_pkts</th>\n      <th>orig_ip_bytes</th>\n      <th>resp_pkts</th>\n      <th>resp_ip_bytes</th>\n      <th>label</th>\n      <th>category</th>\n      <th>proto_icmp</th>\n      <th>proto_tcp</th>\n      <th>proto_udp</th>\n      <th>conn_state_OTH</th>\n      <th>conn_state_REJ</th>\n      <th>conn_state_RSTO</th>\n      <th>conn_state_RSTOS0</th>\n      <th>conn_state_RSTR</th>\n      <th>conn_state_RSTRH</th>\n      <th>conn_state_S0</th>\n      <th>conn_state_S1</th>\n      <th>conn_state_S2</th>\n      <th>conn_state_S3</th>\n      <th>conn_state_SF</th>\n      <th>conn_state_SH</th>\n      <th>conn_state_SHR</th>\n      <th>service_-</th>\n      <th>service_dhcp</th>\n      <th>service_dns</th>\n      <th>service_http</th>\n      <th>service_irc</th>\n      <th>service_ssh</th>\n      <th>service_ssl</th>\n    </tr>\n  </thead>\n  <tbody>\n    <tr>\n      <th>0</th>\n      <td>2.998796</td>\n      <td>0</td>\n      <td>0</td>\n      <td>0.0</td>\n      <td>3.0</td>\n      <td>180.0</td>\n      <td>0.0</td>\n      <td>0.0</td>\n      <td>PartOfAHorizontalPortScan</td>\n      <td>Malware</td>\n      <td>0</td>\n      <td>1</td>\n      <td>0</td>\n      <td>0</td>\n      <td>0</td>\n      <td>0</td>\n      <td>0</td>\n      <td>0</td>\n      <td>0</td>\n      <td>1</td>\n      <td>0</td>\n      <td>0</td>\n      <td>0</td>\n      <td>0</td>\n      <td>0</td>\n      <td>0</td>\n      <td>1</td>\n      <td>0</td>\n      <td>0</td>\n      <td>0</td>\n      <td>0</td>\n      <td>0</td>\n      <td>0</td>\n    </tr>\n    <tr>\n      <th>1</th>\n      <td>-</td>\n      <td>-</td>\n      <td>-</td>\n      <td>0.0</td>\n      <td>1.0</td>\n      <td>60.0</td>\n      <td>0.0</td>\n      <td>0.0</td>\n      <td>PartOfAHorizontalPortScan</td>\n      <td>Malware</td>\n      <td>0</td>\n      <td>1</td>\n      <td>0</td>\n      <td>0</td>\n      <td>0</td>\n      <td>0</td>\n      <td>0</td>\n      <td>0</td>\n      <td>0</td>\n      <td>1</td>\n      <td>0</td>\n      <td>0</td>\n      <td>0</td>\n      <td>0</td>\n      <td>0</td>\n      <td>0</td>\n      <td>1</td>\n      <td>0</td>\n      <td>0</td>\n      <td>0</td>\n      <td>0</td>\n      <td>0</td>\n      <td>0</td>\n    </tr>\n    <tr>\n      <th>2</th>\n      <td>-</td>\n      <td>-</td>\n      <td>-</td>\n      <td>0.0</td>\n      <td>1.0</td>\n      <td>60.0</td>\n      <td>0.0</td>\n      <td>0.0</td>\n      <td>PartOfAHorizontalPortScan</td>\n      <td>Malware</td>\n      <td>0</td>\n      <td>1</td>\n      <td>0</td>\n      <td>0</td>\n      <td>0</td>\n      <td>0</td>\n      <td>0</td>\n      <td>0</td>\n      <td>0</td>\n      <td>1</td>\n      <td>0</td>\n      <td>0</td>\n      <td>0</td>\n      <td>0</td>\n      <td>0</td>\n      <td>0</td>\n      <td>1</td>\n      <td>0</td>\n      <td>0</td>\n      <td>0</td>\n      <td>0</td>\n      <td>0</td>\n      <td>0</td>\n    </tr>\n    <tr>\n      <th>3</th>\n      <td>2.998804</td>\n      <td>0</td>\n      <td>0</td>\n      <td>0.0</td>\n      <td>3.0</td>\n      <td>180.0</td>\n      <td>0.0</td>\n      <td>0.0</td>\n      <td>Benign</td>\n      <td>Benign</td>\n      <td>0</td>\n      <td>1</td>\n      <td>0</td>\n      <td>0</td>\n      <td>0</td>\n      <td>0</td>\n      <td>0</td>\n      <td>0</td>\n      <td>0</td>\n      <td>1</td>\n      <td>0</td>\n      <td>0</td>\n      <td>0</td>\n      <td>0</td>\n      <td>0</td>\n      <td>0</td>\n      <td>1</td>\n      <td>0</td>\n      <td>0</td>\n      <td>0</td>\n      <td>0</td>\n      <td>0</td>\n      <td>0</td>\n    </tr>\n    <tr>\n      <th>4</th>\n      <td>-</td>\n      <td>-</td>\n      <td>-</td>\n      <td>0.0</td>\n      <td>1.0</td>\n      <td>60.0</td>\n      <td>0.0</td>\n      <td>0.0</td>\n      <td>Benign</td>\n      <td>Benign</td>\n      <td>0</td>\n      <td>1</td>\n      <td>0</td>\n      <td>0</td>\n      <td>0</td>\n      <td>0</td>\n      <td>0</td>\n      <td>0</td>\n      <td>0</td>\n      <td>1</td>\n      <td>0</td>\n      <td>0</td>\n      <td>0</td>\n      <td>0</td>\n      <td>0</td>\n      <td>0</td>\n      <td>1</td>\n      <td>0</td>\n      <td>0</td>\n      <td>0</td>\n      <td>0</td>\n      <td>0</td>\n      <td>0</td>\n    </tr>\n    <tr>\n      <th>...</th>\n      <td>...</td>\n      <td>...</td>\n      <td>...</td>\n      <td>...</td>\n      <td>...</td>\n      <td>...</td>\n      <td>...</td>\n      <td>...</td>\n      <td>...</td>\n      <td>...</td>\n      <td>...</td>\n      <td>...</td>\n      <td>...</td>\n      <td>...</td>\n      <td>...</td>\n      <td>...</td>\n      <td>...</td>\n      <td>...</td>\n      <td>...</td>\n      <td>...</td>\n      <td>...</td>\n      <td>...</td>\n      <td>...</td>\n      <td>...</td>\n      <td>...</td>\n      <td>...</td>\n      <td>...</td>\n      <td>...</td>\n      <td>...</td>\n      <td>...</td>\n      <td>...</td>\n      <td>...</td>\n      <td>...</td>\n    </tr>\n    <tr>\n      <th>198994</th>\n      <td>-</td>\n      <td>-</td>\n      <td>-</td>\n      <td>0.0</td>\n      <td>1.0</td>\n      <td>40.0</td>\n      <td>0.0</td>\n      <td>0.0</td>\n      <td>PartOfAHorizontalPortScan</td>\n      <td>Malware</td>\n      <td>0</td>\n      <td>1</td>\n      <td>0</td>\n      <td>0</td>\n      <td>0</td>\n      <td>0</td>\n      <td>0</td>\n      <td>0</td>\n      <td>0</td>\n      <td>1</td>\n      <td>0</td>\n      <td>0</td>\n      <td>0</td>\n      <td>0</td>\n      <td>0</td>\n      <td>0</td>\n      <td>1</td>\n      <td>0</td>\n      <td>0</td>\n      <td>0</td>\n      <td>0</td>\n      <td>0</td>\n      <td>0</td>\n    </tr>\n    <tr>\n      <th>198995</th>\n      <td>-</td>\n      <td>-</td>\n      <td>-</td>\n      <td>0.0</td>\n      <td>1.0</td>\n      <td>40.0</td>\n      <td>0.0</td>\n      <td>0.0</td>\n      <td>PartOfAHorizontalPortScan</td>\n      <td>Malware</td>\n      <td>0</td>\n      <td>1</td>\n      <td>0</td>\n      <td>0</td>\n      <td>0</td>\n      <td>0</td>\n      <td>0</td>\n      <td>0</td>\n      <td>0</td>\n      <td>1</td>\n      <td>0</td>\n      <td>0</td>\n      <td>0</td>\n      <td>0</td>\n      <td>0</td>\n      <td>0</td>\n      <td>1</td>\n      <td>0</td>\n      <td>0</td>\n      <td>0</td>\n      <td>0</td>\n      <td>0</td>\n      <td>0</td>\n    </tr>\n    <tr>\n      <th>198996</th>\n      <td>-</td>\n      <td>-</td>\n      <td>-</td>\n      <td>0.0</td>\n      <td>1.0</td>\n      <td>40.0</td>\n      <td>0.0</td>\n      <td>0.0</td>\n      <td>PartOfAHorizontalPortScan</td>\n      <td>Malware</td>\n      <td>0</td>\n      <td>1</td>\n      <td>0</td>\n      <td>0</td>\n      <td>0</td>\n      <td>0</td>\n      <td>0</td>\n      <td>0</td>\n      <td>0</td>\n      <td>1</td>\n      <td>0</td>\n      <td>0</td>\n      <td>0</td>\n      <td>0</td>\n      <td>0</td>\n      <td>0</td>\n      <td>1</td>\n      <td>0</td>\n      <td>0</td>\n      <td>0</td>\n      <td>0</td>\n      <td>0</td>\n      <td>0</td>\n    </tr>\n    <tr>\n      <th>198997</th>\n      <td>-</td>\n      <td>-</td>\n      <td>-</td>\n      <td>0.0</td>\n      <td>1.0</td>\n      <td>40.0</td>\n      <td>0.0</td>\n      <td>0.0</td>\n      <td>PartOfAHorizontalPortScan</td>\n      <td>Malware</td>\n      <td>0</td>\n      <td>1</td>\n      <td>0</td>\n      <td>0</td>\n      <td>0</td>\n      <td>0</td>\n      <td>0</td>\n      <td>0</td>\n      <td>0</td>\n      <td>1</td>\n      <td>0</td>\n      <td>0</td>\n      <td>0</td>\n      <td>0</td>\n      <td>0</td>\n      <td>0</td>\n      <td>1</td>\n      <td>0</td>\n      <td>0</td>\n      <td>0</td>\n      <td>0</td>\n      <td>0</td>\n      <td>0</td>\n    </tr>\n    <tr>\n      <th>198998</th>\n      <td>-</td>\n      <td>-</td>\n      <td>-</td>\n      <td>0.0</td>\n      <td>1.0</td>\n      <td>40.0</td>\n      <td>0.0</td>\n      <td>0.0</td>\n      <td>PartOfAHorizontalPortScan</td>\n      <td>Malware</td>\n      <td>0</td>\n      <td>1</td>\n      <td>0</td>\n      <td>0</td>\n      <td>0</td>\n      <td>0</td>\n      <td>0</td>\n      <td>0</td>\n      <td>0</td>\n      <td>1</td>\n      <td>0</td>\n      <td>0</td>\n      <td>0</td>\n      <td>0</td>\n      <td>0</td>\n      <td>0</td>\n      <td>1</td>\n      <td>0</td>\n      <td>0</td>\n      <td>0</td>\n      <td>0</td>\n      <td>0</td>\n      <td>0</td>\n    </tr>\n  </tbody>\n</table>\n<p>2739674 rows × 33 columns</p>\n</div>"
     },
     "execution_count": 37,
     "metadata": {},
     "output_type": "execute_result"
    }
   ],
   "source": [
    "df_c"
   ]
  },
  {
   "cell_type": "code",
   "execution_count": 54,
   "id": "appointed-absorption",
   "metadata": {},
   "outputs": [],
   "source": [
    "df_c['duration'] = df_c['duration'].str.replace('-','0')\n",
    "df_c['orig_bytes'] = df_c['orig_bytes'].str.replace('-','0')\n",
    "df_c['resp_bytes'] = df_c['resp_bytes'].str.replace('-','0')"
   ]
  },
  {
   "cell_type": "code",
   "execution_count": 55,
   "id": "informed-cancellation",
   "metadata": {},
   "outputs": [],
   "source": [
    "df_c.fillna(-1,inplace=True)"
   ]
  },
  {
   "cell_type": "code",
   "execution_count": 56,
   "id": "later-cursor",
   "metadata": {},
   "outputs": [
    {
     "data": {
      "text/plain": "duration             0\norig_bytes           0\nresp_bytes           0\nmissed_bytes         0\norig_pkts            0\norig_ip_bytes        0\nresp_pkts            0\nresp_ip_bytes        0\nlabel                0\ncategory             0\nproto_icmp           0\nproto_tcp            0\nproto_udp            0\nconn_state_OTH       0\nconn_state_REJ       0\nconn_state_RSTO      0\nconn_state_RSTOS0    0\nconn_state_RSTR      0\nconn_state_RSTRH     0\nconn_state_S0        0\nconn_state_S1        0\nconn_state_S2        0\nconn_state_S3        0\nconn_state_SF        0\nconn_state_SH        0\nconn_state_SHR       0\nservice_-            0\nservice_dhcp         0\nservice_dns          0\nservice_http         0\nservice_irc          0\nservice_ssh          0\nservice_ssl          0\ndtype: int64"
     },
     "execution_count": 56,
     "metadata": {},
     "output_type": "execute_result"
    }
   ],
   "source": [
    "df_c.isna().sum()"
   ]
  },
  {
   "cell_type": "code",
   "execution_count": 57,
   "id": "naked-optics",
   "metadata": {
    "scrolled": false
   },
   "outputs": [
    {
     "name": "stdout",
     "output_type": "stream",
     "text": [
      "['duration', 'orig_bytes', 'resp_bytes', 'missed_bytes', 'orig_pkts', 'orig_ip_bytes', 'resp_pkts', 'resp_ip_bytes', 'label', 'category', 'proto_icmp', 'proto_tcp', 'proto_udp', 'conn_state_OTH', 'conn_state_REJ', 'conn_state_RSTO', 'conn_state_RSTOS0', 'conn_state_RSTR', 'conn_state_RSTRH', 'conn_state_S0', 'conn_state_S1', 'conn_state_S2', 'conn_state_S3', 'conn_state_SF', 'conn_state_SH', 'conn_state_SHR', 'service_-', 'service_dhcp', 'service_dns', 'service_http', 'service_irc', 'service_ssh', 'service_ssl']\n"
     ]
    }
   ],
   "source": [
    "print(df_c.columns.tolist())"
   ]
  },
  {
   "cell_type": "code",
   "execution_count": 58,
   "id": "bacterial-somerset",
   "metadata": {},
   "outputs": [],
   "source": [
    "df_c.to_csv('./iot23_combined.csv')"
   ]
  },
  {
   "cell_type": "code",
   "execution_count": null,
   "id": "hidden-potential",
   "metadata": {},
   "outputs": [],
   "source": []
  },
  {
   "cell_type": "code",
   "execution_count": null,
   "id": "roman-office",
   "metadata": {},
   "outputs": [],
   "source": []
  },
  {
   "cell_type": "code",
   "execution_count": null,
   "id": "supreme-shade",
   "metadata": {},
   "outputs": [],
   "source": []
  },
  {
   "cell_type": "code",
   "execution_count": null,
   "id": "athletic-framework",
   "metadata": {},
   "outputs": [],
   "source": []
  },
  {
   "cell_type": "code",
   "execution_count": null,
   "id": "polyphonic-campus",
   "metadata": {},
   "outputs": [],
   "source": []
  },
  {
   "cell_type": "code",
   "execution_count": null,
   "id": "formed-reputation",
   "metadata": {},
   "outputs": [],
   "source": []
  },
  {
   "cell_type": "code",
   "execution_count": null,
   "id": "athletic-riding",
   "metadata": {},
   "outputs": [],
   "source": []
  },
  {
   "cell_type": "code",
   "execution_count": null,
   "id": "hungarian-contributor",
   "metadata": {},
   "outputs": [],
   "source": []
  },
  {
   "cell_type": "code",
   "execution_count": null,
   "id": "given-camcorder",
   "metadata": {},
   "outputs": [],
   "source": []
  },
  {
   "cell_type": "code",
   "execution_count": null,
   "id": "patent-nicholas",
   "metadata": {},
   "outputs": [],
   "source": []
  },
  {
   "cell_type": "code",
   "execution_count": null,
   "id": "spatial-constant",
   "metadata": {},
   "outputs": [],
   "source": []
  },
  {
   "cell_type": "code",
   "execution_count": null,
   "id": "composite-nerve",
   "metadata": {},
   "outputs": [],
   "source": []
  },
  {
   "cell_type": "code",
   "execution_count": null,
   "id": "worse-serbia",
   "metadata": {},
   "outputs": [],
   "source": []
  },
  {
   "cell_type": "code",
   "execution_count": null,
   "id": "published-malaysia",
   "metadata": {},
   "outputs": [],
   "source": []
  },
  {
   "cell_type": "code",
   "execution_count": null,
   "id": "hired-worthy",
   "metadata": {},
   "outputs": [],
   "source": []
  },
  {
   "cell_type": "code",
   "execution_count": null,
   "id": "hawaiian-preliminary",
   "metadata": {},
   "outputs": [],
   "source": []
  },
  {
   "cell_type": "code",
   "execution_count": null,
   "id": "square-reserve",
   "metadata": {},
   "outputs": [],
   "source": []
  }
 ],
 "metadata": {
  "kernelspec": {
   "display_name": "Python 3",
   "language": "python",
   "name": "python3"
  },
  "language_info": {
   "codemirror_mode": {
    "name": "ipython",
    "version": 3
   },
   "file_extension": ".py",
   "mimetype": "text/x-python",
   "name": "python",
   "nbconvert_exporter": "python",
   "pygments_lexer": "ipython3",
   "version": "3.8.5"
  }
 },
 "nbformat": 4,
 "nbformat_minor": 5
}